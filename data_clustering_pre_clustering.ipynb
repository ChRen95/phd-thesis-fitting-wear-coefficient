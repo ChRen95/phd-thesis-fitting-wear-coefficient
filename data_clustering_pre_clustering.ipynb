{
 "cells": [
  {
   "cell_type": "code",
   "id": "initial_id",
   "metadata": {
    "collapsed": true,
    "ExecuteTime": {
     "end_time": "2025-07-11T11:00:58.497155Z",
     "start_time": "2025-07-11T11:00:57.639355Z"
    }
   },
   "source": [
    "import numpy as np\n",
    "import pandas as pd\n",
    "import matplotlib\n",
    "import matplotlib.pyplot as plt\n",
    "from mpl_toolkits.mplot3d import Axes3D\n",
    "matplotlib.rcParams.update({'font.size': 14})\n",
    "import scienceplots\n",
    "\n",
    "plt.style.use('science')\n",
    "\n",
    "import plotly.graph_objects as go\n",
    "import kaleido\n",
    "\n",
    "from pathlib import Path\n",
    "from lmfit import Parameters\n",
    "from lmfit import minimize, fit_report\n",
    "from sklearn import metrics\n",
    "from sklearn.cluster import KMeans\n",
    "from scipy.spatial.distance import cdist"
   ],
   "outputs": [],
   "execution_count": 1
  },
  {
   "metadata": {
    "ExecuteTime": {
     "end_time": "2025-07-11T11:00:58.663111Z",
     "start_time": "2025-07-11T11:00:58.596196Z"
    }
   },
   "cell_type": "code",
   "source": [
    "import pyroll.core as pr\n",
    "import pyroll.pillar_model\n",
    "import pyroll.neutral_point_estimator\n",
    "import pyroll.sparling_spreading\n",
    "import pyroll.hensel_force_torque\n",
    "import pyroll.freiberg_flow_stress\n",
    "import pyroll.ring_model_thermal\n",
    "import pyroll.stationary_thermal_analysis_work_roll\n",
    "from pyroll.freiberg_flow_stress import flow_stress"
   ],
   "id": "8970cbb7ad21db63",
   "outputs": [],
   "execution_count": 2
  },
  {
   "metadata": {
    "ExecuteTime": {
     "end_time": "2025-07-11T11:00:58.671906Z",
     "start_time": "2025-07-11T11:00:58.670192Z"
    }
   },
   "cell_type": "code",
   "source": [
    "ROLL_SURFACE_TEMPERATURE = 50 + 273.15\n",
    "DISK_ELEMENT_COUNT = 30"
   ],
   "id": "a6f5505d32600405",
   "outputs": [],
   "execution_count": 3
  },
  {
   "metadata": {
    "ExecuteTime": {
     "end_time": "2025-07-11T11:00:58.717316Z",
     "start_time": "2025-07-11T11:00:58.715431Z"
    }
   },
   "cell_type": "code",
   "source": [
    "pyroll.pillar_model.Config.PILLAR_COUNT = 30\n",
    "pyroll.neutral_point_estimator.Config.ESTIMATOR = \"EQUAL\"\n",
    "ROLL_SURFACE_TEMPERATURE = 50 + 273.15\n",
    "DISK_ELEMENT_COUNT = 30\n",
    "\n",
    "root_dir = Path.cwd()\n",
    "result_dir = root_dir / \"res\""
   ],
   "id": "95666e1e47353073",
   "outputs": [],
   "execution_count": 4
  },
  {
   "metadata": {
    "ExecuteTime": {
     "end_time": "2025-07-11T11:00:58.777827Z",
     "start_time": "2025-07-11T11:00:58.762329Z"
    }
   },
   "cell_type": "code",
   "source": [
    "from rolling_sequence import finishing_pass_design_1, finishing_pass_design_2, finishing_pass_design_3\n",
    "from in_profile import create_in_profile_for_finishing_train\n",
    "from utilities import *"
   ],
   "id": "31fa23264869536a",
   "outputs": [],
   "execution_count": 5
  },
  {
   "metadata": {
    "ExecuteTime": {
     "end_time": "2025-07-11T11:00:58.811584Z",
     "start_time": "2025-07-11T11:00:58.808892Z"
    }
   },
   "cell_type": "code",
   "source": [
    "@pr.CoolingPipe.DiskElement.heat_transfer_coefficient\n",
    "def heat_transfer_coefficient_model_wehage_8_mm(self: pr.CoolingPipe.DiskElement):\n",
    "    mean_surface_temperature = (self.in_profile.surface_temperature + self.out_profile.surface_temperature) / 2\n",
    "    profile_surface_temperature_celsius = mean_surface_temperature - 273.15\n",
    "    return 13950 + 5.12 * 1e6 / profile_surface_temperature_celsius\n",
    "\n",
    "\n",
    "@pr.Roll.specific_heat_capacity\n",
    "def specific_heat_capacity(self: pr.Roll):\n",
    "    return 240\n",
    "\n",
    "\n",
    "@pr.Roll.thermal_conductivity\n",
    "def thermal_conductivity(self: pr.Roll):\n",
    "    return 77\n",
    "\n",
    "\n",
    "@pr.Roll.density\n",
    "def density(self: pr.Roll):\n",
    "    return 13.98e3\n",
    "\n",
    "\n",
    "@pr.Roll.cooling_sections\n",
    "def cooling_sections(self: pr.Roll):\n",
    "    return [\n",
    "        [25, 240]\n",
    "    ]\n",
    "\n",
    "\n",
    "@pr.Roll.temperature\n",
    "def temperature(self: pr.Roll):\n",
    "    return 50 + 273.15,\n"
   ],
   "id": "30a65ca43ed5139a",
   "outputs": [],
   "execution_count": 6
  },
  {
   "metadata": {
    "ExecuteTime": {
     "end_time": "2025-07-11T11:00:58.858610Z",
     "start_time": "2025-07-11T11:00:58.855739Z"
    }
   },
   "cell_type": "code",
   "source": [
    "in_profile = create_in_profile_for_finishing_train(950 + 273.15)\n",
    "in_profile.ring_temperatures = in_profile.ring_temperatures"
   ],
   "id": "7a4d3220df8836d1",
   "outputs": [],
   "execution_count": 7
  },
  {
   "metadata": {
    "ExecuteTime": {
     "end_time": "2025-07-11T11:00:58.914607Z",
     "start_time": "2025-07-11T11:00:58.902454Z"
    }
   },
   "cell_type": "code",
   "source": [
    "rolling_train_rpd1 = finishing_pass_design_1(ROLL_SURFACE_TEMPERATURE, DISK_ELEMENT_COUNT)\n",
    "rolling_train_rpd2 = finishing_pass_design_2(ROLL_SURFACE_TEMPERATURE, DISK_ELEMENT_COUNT)\n",
    "rolling_train_rpd3 = finishing_pass_design_3(ROLL_SURFACE_TEMPERATURE, DISK_ELEMENT_COUNT)"
   ],
   "id": "217dad671eb5af4b",
   "outputs": [],
   "execution_count": 8
  },
  {
   "metadata": {
    "jupyter": {
     "is_executing": true
    },
    "ExecuteTime": {
     "start_time": "2025-07-11T11:00:58.973919Z"
    }
   },
   "cell_type": "code",
   "source": [
    "rolling_train_rpd1.solve(in_profile)\n",
    "rolling_train_rpd2.solve(in_profile)\n",
    "rolling_train_rpd3.solve(in_profile)"
   ],
   "id": "2e906d7a4e73982b",
   "outputs": [],
   "execution_count": null
  },
  {
   "metadata": {
    "ExecuteTime": {
     "end_time": "2025-07-11T10:13:05.268146Z",
     "start_time": "2025-07-11T10:13:05.266211Z"
    }
   },
   "cell_type": "code",
   "source": [
    "sequences = [\n",
    "    {\"label\": \"RPD1\", \"sequence\": rolling_train_rpd1},\n",
    "    {\"label\": \"RPD2\", \"sequence\": rolling_train_rpd2},\n",
    "    {\"label\": \"RPD3\", \"sequence\": rolling_train_rpd3},\n",
    "]"
   ],
   "id": "94dce452891363e4",
   "outputs": [],
   "execution_count": 10
  },
  {
   "metadata": {
    "ExecuteTime": {
     "end_time": "2025-07-11T10:13:23.491952Z",
     "start_time": "2025-07-11T10:13:23.488196Z"
    }
   },
   "cell_type": "code",
   "source": [
    "def combine_simulated_and_measured_data():\n",
    "    _data = []\n",
    "\n",
    "    for entry in sequences:\n",
    "        groove_label = entry[\"label\"]\n",
    "        sequence = entry[\"sequence\"]\n",
    "        roll_passes = sequence.roll_passes\n",
    "        measurements = extract_wear_contours_from_measurement(groove_label)\n",
    "\n",
    "        for measurement_id, labels, tonnages, measured_wear_contours in measurements:\n",
    "            for roll_pass in roll_passes:\n",
    "                for label, tonnage, measured_wear_contour in zip(labels, tonnages, measured_wear_contours):\n",
    "                    if roll_pass.label == label:\n",
    "                        wear_area = calculate_area_between_contours(roll_pass.roll.contour_line, measured_wear_contour)\n",
    "                        normed_wear_area = wear_area / roll_pass.roll.groove.cross_section.area\n",
    "                        mean_temperature = (roll_pass.in_profile.temperature + roll_pass.out_profile.temperature) / 2\n",
    "                        roll_gap_ratio = roll_pass.roll.contact_area / ((\n",
    "                                                                                    roll_pass.in_profile.cross_section.area + 2 * roll_pass.out_profile.cross_section.area) / 3)\n",
    "                        if label in [\"17-H\", \"21-H\", \"23-H\", \"27-H\"]:\n",
    "                            groove_type = \"oval\"\n",
    "                        else:\n",
    "                            groove_type = \"round\"\n",
    "                        _data.append({\n",
    "                            \"groove\": groove_label,\n",
    "                            \"measurement_id\": measurement_id,\n",
    "                            \"label\": label,\n",
    "                            \"groove_type\": groove_type,\n",
    "                            \"tonnage\": tonnage,\n",
    "                            \"wear_area\": wear_area,\n",
    "                            \"normed_wear_area\": normed_wear_area,\n",
    "                            \"temperature\": mean_temperature,\n",
    "                            \"p_deformation_resistance\": np.mean(pillar_deformation_resistance(roll_pass)),\n",
    "                            \"roll_force\": roll_pass.roll_force,\n",
    "                            \"roll_temperature_profile\": roll_pass.roll.temperature_field,\n",
    "                            \"relative_wear_length\": np.max(\n",
    "                                pillars_wear_length(roll_pass.roll)) / roll_pass.roll.contact_length,\n",
    "                            \"roll_gap_ratio\": roll_gap_ratio\n",
    "                        })\n",
    "\n",
    "    return _data"
   ],
   "id": "88d253685c35e28a",
   "outputs": [],
   "execution_count": 11
  },
  {
   "metadata": {
    "ExecuteTime": {
     "end_time": "2025-07-11T10:24:25.634936Z",
     "start_time": "2025-07-11T10:13:41.739052Z"
    }
   },
   "cell_type": "code",
   "source": "data = combine_simulated_and_measured_data()",
   "id": "c3b4e3eed84ce50d",
   "outputs": [],
   "execution_count": 12
  },
  {
   "metadata": {
    "ExecuteTime": {
     "end_time": "2025-07-11T10:24:44.543578Z",
     "start_time": "2025-07-11T10:24:44.484107Z"
    }
   },
   "cell_type": "code",
   "source": [
    "tonnages = []\n",
    "normed_wear_areas = []\n",
    "temperatures = []\n",
    "deformation_resistances = []\n",
    "max_roll_surface_temperature = []\n",
    "relative_wear_length = []\n",
    "types = []\n",
    "roll_gap_ratios = []\n",
    "labels = []\n",
    "for data_per_pass in data:\n",
    "    labels.append(data_per_pass[\"label\"])\n",
    "    roll_surface_temp_arr = np.array(data_per_pass[\"roll_temperature_profile\"].tolist(), dtype=np.float32)\n",
    "    max_roll_surface_temperature.append(np.max(roll_surface_temp_arr[1]))\n",
    "    normed_wear_areas.append(data_per_pass['normed_wear_area'])\n",
    "    tonnages.append(data_per_pass['tonnage'])\n",
    "    temperatures.append(data_per_pass['temperature'])\n",
    "    deformation_resistances.append(data_per_pass['p_deformation_resistance'])\n",
    "    types.append(data_per_pass['groove_type'])\n",
    "    relative_wear_length.append(data_per_pass['relative_wear_length'])\n",
    "    roll_gap_ratios.append(data_per_pass['roll_gap_ratio'])\n"
   ],
   "id": "a63870ec7bf30a4",
   "outputs": [],
   "execution_count": 13
  },
  {
   "metadata": {
    "ExecuteTime": {
     "end_time": "2025-07-11T10:25:03.426038Z",
     "start_time": "2025-07-11T10:25:03.423190Z"
    }
   },
   "cell_type": "code",
   "source": [
    "df = pd.DataFrame({\n",
    "    'label': np.array(labels),\n",
    "    'tonnage': np.array(tonnages),\n",
    "    'normed_wear_area': np.array(normed_wear_areas),\n",
    "    'temperature': np.array(temperatures),\n",
    "    'deformation_resistance': np.array(deformation_resistances),\n",
    "    'groove_type': np.array(types),\n",
    "    'roll_surface_temperature': np.array(max_roll_surface_temperature),\n",
    "    'relative_wear_length': np.array(relative_wear_length),\n",
    "    'roll_gap_ratio': np.array(roll_gap_ratios),\n",
    "    'relative_surface_temperature': np.array(max_roll_surface_temperature) / np.array(temperatures)\n",
    "})"
   ],
   "id": "246f5729d8c6c937",
   "outputs": [],
   "execution_count": 14
  },
  {
   "metadata": {
    "ExecuteTime": {
     "end_time": "2025-07-11T10:25:22.429077Z",
     "start_time": "2025-07-11T10:25:22.426653Z"
    }
   },
   "cell_type": "code",
   "source": [
    "features_for_clustering = ['normed_wear_area', 'relative_wear_length', 'roll_gap_ratio', 'relative_surface_temperature']\n",
    "fitting_array = df[features_for_clustering].values"
   ],
   "id": "33b0ad4eab129513",
   "outputs": [],
   "execution_count": 15
  },
  {
   "metadata": {
    "ExecuteTime": {
     "end_time": "2025-07-11T10:25:42.767807Z",
     "start_time": "2025-07-11T10:25:41.357302Z"
    }
   },
   "cell_type": "code",
   "source": [
    "fig, (ax1, ax2, ax3) = plt.subplots(1, 3, figsize=(8.3, 6), constrained_layout=True)\n",
    "\n",
    "ax1.set_ylabel('Relative Wear Length')\n",
    "ax1.set_xlabel('Stand Label')\n",
    "ax1.grid()\n",
    "ax1.scatter(df['label'], df['relative_wear_length'], color='C0')\n",
    "ax1.set_xticks(ax1.get_xticks())\n",
    "ax1.set_xticklabels(ax1.get_xticklabels(), rotation=45, ha='right')\n",
    "\n",
    "ax2.set_ylabel('Relative Surface Temperature')\n",
    "ax2.set_xlabel('Stand Label')\n",
    "ax2.grid()\n",
    "ax2.scatter(df['label'], df['relative_surface_temperature'], color='C1')\n",
    "ax2.set_xticks(ax2.get_xticks())\n",
    "ax2.set_xticklabels(ax2.get_xticklabels(), rotation=45, ha='right')\n",
    "\n",
    "ax3.set_ylabel('Roll Gap Ratio')\n",
    "ax3.set_xlabel('Stand Label')\n",
    "ax3.grid()\n",
    "ax3.scatter(df['label'], df['roll_gap_ratio'], color='C2')\n",
    "ax3.set_xticks(ax3.get_xticks())\n",
    "ax3.set_xticklabels(ax3.get_xticklabels(), rotation=45, ha='right')\n",
    "\n",
    "fig.savefig(result_dir / \"cluster_features.pdf\", dpi=300, bbox_inches=\"tight\")"
   ],
   "id": "e7ea0531194f2618",
   "outputs": [
    {
     "data": {
      "text/plain": [
       "<Figure size 830x600 with 3 Axes>"
      ],
      "image/png": "[encoded data removed]"
     },
     "metadata": {},
     "output_type": "display_data"
    }
   ],
   "execution_count": 16
  },
  {
   "metadata": {
    "ExecuteTime": {
     "end_time": "2025-07-11T10:26:01.916235Z",
     "start_time": "2025-07-11T10:26:01.751319Z"
    }
   },
   "cell_type": "code",
   "source": [
    "fig, ax = plt.subplots(figsize=(8.3, 6))\n",
    "ax.grid()\n",
    "ax.scatter(df[\"label\"], df[\"temperature\"] - 273.15)"
   ],
   "id": "4765c28ef897e3c4",
   "outputs": [
    {
     "data": {
      "text/plain": [
       "<matplotlib.collections.PathCollection at 0x7fce89c3c190>"
      ]
     },
     "execution_count": 17,
     "metadata": {},
     "output_type": "execute_result"
    },
    {
     "data": {
      "text/plain": [
       "<Figure size 830x600 with 1 Axes>"
      ],
      "image/png": "[encoded data removed]"
     },
     "metadata": {},
     "output_type": "display_data"
    }
   ],
   "execution_count": 17
  },
  {
   "metadata": {
    "ExecuteTime": {
     "end_time": "2025-07-11T10:26:21.184098Z",
     "start_time": "2025-07-11T10:26:21.078999Z"
    }
   },
   "cell_type": "code",
   "source": [
    "inertias = []\n",
    "mapping1 = {}\n",
    "\n",
    "K = range(1, 10)\n",
    "for k in K:\n",
    "    kmeanModel = KMeans(n_clusters=k, random_state=42).fit(fitting_array)\n",
    "    df['cluster'] = kmeanModel.predict(fitting_array)\n",
    "    inertias.append(kmeanModel.inertia_)\n",
    "    mapping1[k] = inertias[-1]"
   ],
   "id": "c8581b838f6a118f",
   "outputs": [],
   "execution_count": 18
  },
  {
   "metadata": {
    "ExecuteTime": {
     "end_time": "2025-07-11T10:26:40.397821Z",
     "start_time": "2025-07-11T10:26:40.105414Z"
    }
   },
   "cell_type": "code",
   "source": [
    "fig, ax = plt.subplots(figsize=(8.6, 3))\n",
    "ax.grid(True)\n",
    "ax.set_xlabel('Number of Clusters (k)')\n",
    "ax.plot(K, inertias, label=\"Inertia\", color=\"C0\")\n",
    "ax.set_title('The Elbow Method using Inertia')\n",
    "ax.set_ylabel('Inertia')\n",
    "\n",
    "fig.savefig(result_dir / \"elbow_method_inertia.pdf\", bbox_inches='tight', dpi=300)"
   ],
   "id": "dcd902ed57150ee1",
   "outputs": [
    {
     "data": {
      "text/plain": [
       "<Figure size 860x300 with 1 Axes>"
      ],
      "image/png": "[encoded data removed]"
     },
     "metadata": {},
     "output_type": "display_data"
    }
   ],
   "execution_count": 19
  },
  {
   "metadata": {
    "ExecuteTime": {
     "end_time": "2025-07-11T10:58:26.678629Z",
     "start_time": "2025-07-11T10:58:26.650098Z"
    }
   },
   "cell_type": "code",
   "source": [
    "\n",
    "for k in [2, 3]:\n",
    "    kmeans = KMeans(n_clusters=k, random_state=42)\n",
    "    y_kmeans = kmeans.fit_predict(fitting_array)\n",
    "    df[f'cluster_k{k}'] = y_kmeans\n",
    "\n",
    "    fig = go.Figure()\n",
    "    for tag in df['groove_type'].unique():\n",
    "        mask = df['groove_type'] == tag\n",
    "\n",
    "        fig.add_trace(go.Scatter3d(\n",
    "            x=df.loc[mask, 'roll_gap_ratio'],\n",
    "            y=df.loc[mask, 'relative_wear_length'],\n",
    "            z=df.loc[mask, 'relative_surface_temperature'],\n",
    "            mode='markers',\n",
    "            marker=dict(\n",
    "                size=6,\n",
    "                color=y_kmeans[mask],\n",
    "                colorscale='Viridis',\n",
    "                opacity=0.8\n",
    "            ),\n",
    "        ))\n",
    "\n",
    "    fig.add_trace(go.Scatter3d(\n",
    "        x=kmeans.cluster_centers_[:, 2],\n",
    "        y=kmeans.cluster_centers_[:, 1],\n",
    "        z=kmeans.cluster_centers_[:, 3],\n",
    "        mode='markers',\n",
    "        marker=dict(\n",
    "            size=5,\n",
    "            color='red',\n",
    "            symbol='x'\n",
    "        ),\n",
    "        name='Cluster Centers'\n",
    "    ))\n",
    "\n",
    "    fig.update_layout(\n",
    "        scene=dict(\n",
    "            xaxis=dict(title='Roll Gap Ratio'),\n",
    "            yaxis=dict(title='Normed Wear Area'),\n",
    "            zaxis=dict(title='Relative Surface Temperature'),\n",
    "            camera=dict(\n",
    "                eye=dict(x=1.5, y=1.5, z=1.0),\n",
    "            )\n",
    "        ),\n",
    "        width=900,\n",
    "        height=900,\n",
    "        showlegend=False,\n",
    "        margin=dict(l=20, r=20, t=50, b=20)\n",
    "    )\n",
    "\n",
    "    fig.show()\n",
    "    fig.write_image(result_dir / f\"clusters_for_wear_analysis_{k}.pdf\", format=\"pdf\")"
   ],
   "id": "4fccab051311b460",
   "outputs": [
    {
     "data": {
      "application/vnd.plotly.v1+json": {
       "data": [
        {
         "marker": {
          "color": {
           "dtype": "i4",
           "bdata": "AAAAAAAAAAAAAAAAAQAAAAAAAAAAAAAAAAAAAAEAAAAAAAAAAAAAAAAAAAABAAAAAAAAAAAAAAAAAAAAAAAAAAAAAAABAAAAAAAAAAAAAAAAAAAAAQAAAAAAAAAAAAAAAAAAAAEAAAAAAAAAAAAAAAAAAAABAAAAAAAAAAAAAAAAAAAAAQAAAAEAAAAAAAAAAAAAAAAAAAABAAAAAAAAAAAAAAAAAAAAAQAAAAAAAAAAAAAAAAAAAAEAAAAAAAAAAAAAAAAAAAABAAAA"
          },
          "colorscale": [
           [
            0.0,
            "#440154"
           ],
           [
            0.1111111111111111,
            "#482878"
           ],
           [
            0.2222222222222222,
            "#3e4989"
           ],
           [
            0.3333333333333333,
            "#31688e"
           ],
           [
            0.4444444444444444,
            "#26828e"
           ],
           [
            0.5555555555555556,
            "#1f9e89"
           ],
           [
            0.6666666666666666,
            "#35b779"
           ],
           [
            0.7777777777777778,
            "#6ece58"
           ],
           [
            0.8888888888888888,
            "#b5de2b"
           ],
           [
            1.0,
            "#fde725"
           ]
          ],
          "opacity": 0.8,
          "size": 6
         },
         "mode": "markers",
         "x": {
          "dtype": "f8",
          "bdata": "PCtUYrCB8z+V7NNuVbP/Py2mSZX/7vo/TJU/mNb0B0A8K1RisIHzP5Xs025Vs/8/LaZJlf/u+j9MlT+Y1vQHQDwrVGKwgfM/lezTblWz/z8tpkmV/+76P0yVP5jW9AdAPCtUYrCB8z+V7NNuVbP/Py2mSZX/7vo/NJ5g6+XU/T/HlKbxlQn/PxeKKCDJPwRAIQ//vUSK+j80nmDr5dT9P8eUpvGVCf8/F4ooIMk/BEAhD/+9RIr6PzSeYOvl1P0/x5Sm8ZUJ/z8XiiggyT8EQCEP/71Eivo/NJ5g6+XU/T/HlKbxlQn/PxeKKCDJPwRAN+f/4QJG+D8+o9Fc1lH/P8XseMa2s/w/g7u3XBurBUCDu7dcG6sFQDfn/+ECRvg/PqPRXNZR/z/F7HjGtrP8P4O7t1wbqwVAN+f/4QJG+D8+o9Fc1lH/P8XseMa2s/w/g7u3XBurBUA35//hAkb4Pz6j0VzWUf8/xex4xraz/D+Du7dcG6sFQDfn/+ECRvg/PqPRXNZR/z/F7HjGtrP8P4O7t1wbqwVA"
         },
         "y": {
          "dtype": "f8",
          "bdata": "VVVVVVVV1T+8u7u7u7vbP5mZmZmZmdk/3t3d3d3d3T9VVVVVVVXVP7y7u7u7u9s/mZmZmZmZ2T/e3d3d3d3dP1VVVVVVVdU/vLu7u7u72z+ZmZmZmZnZP97d3d3d3d0/VVVVVVVV1T+8u7u7u7vbP5mZmZmZmdk/mZmZmZmZ2T+9u7u7u7vbP7u7u7u7u9s/m5mZmZmZ2T+ZmZmZmZnZP727u7u7u9s/u7u7u7u72z+bmZmZmZnZP5mZmZmZmdk/vbu7u7u72z+7u7u7u7vbP5uZmZmZmdk/mZmZmZmZ2T+9u7u7u7vbP7u7u7u7u9s/eXd3d3d31z+5u7u7u7vbP7u7u7u7u9s/3t3d3d3d3T/e3d3d3d3dP3l3d3d3d9c/ubu7u7u72z+7u7u7u7vbP97d3d3d3d0/eXd3d3d31z+5u7u7u7vbP7u7u7u7u9s/3t3d3d3d3T95d3d3d3fXP7m7u7u7u9s/u7u7u7u72z/e3d3d3d3dP3l3d3d3d9c/ubu7u7u72z+7u7u7u7vbP97d3d3d3d0/"
         },
         "z": {
          "dtype": "f8",
          "bdata": "qb5hP+ZY0z/4w+supmDUP+VckPRHCtM/P/cBcHMr0j+pvmE/5ljTP/jD6y6mYNQ/5VyQ9EcK0z8/9wFwcyvSP6m+YT/mWNM/+MPrLqZg1D/lXJD0RwrTPz/3AXBzK9I/qb5hP+ZY0z/4w+supmDUP+VckPRHCtM//g8fBnhT1D9DeTtmfxTTP0m6JlGM99E/q0fXhSCk0z/+Dx8GeFPUP0N5O2Z/FNM/SbomUYz30T+rR9eFIKTTP/4PHwZ4U9Q/Q3k7Zn8U0z9JuiZRjPfRP6tH14UgpNM//g8fBnhT1D9DeTtmfxTTP0m6JlGM99E/exJlPS+n0z9XXboqoFnUP73rAAdW6tI/RHNrNtoV0j9Ec2s22hXSP3sSZT0vp9M/V126KqBZ1D+96wAHVurSP0RzazbaFdI/exJlPS+n0z9XXboqoFnUP73rAAdW6tI/RHNrNtoV0j97EmU9L6fTP1dduiqgWdQ/vesAB1bq0j9Ec2s22hXSP3sSZT0vp9M/V126KqBZ1D+96wAHVurSP0RzazbaFdI/"
         },
         "type": "scatter3d"
        },
        {
         "marker": {
          "color": {
           "dtype": "i4",
           "bdata": "AAAAAAAAAAAAAAAAAQAAAAAAAAAAAAAAAAAAAAEAAAAAAAAAAAAAAAAAAAABAAAAAAAAAAAAAAAAAAAAAAAAAAAAAAAAAAAAAQAAAAAAAAAAAAAAAAAAAAEAAAAAAAAAAAAAAAAAAAABAAAAAAAAAAAAAAAAAAAAAQAAAAAAAAAAAAAAAAAAAAEAAAABAAAAAAAAAAAAAAAAAAAAAQAAAAAAAAAAAAAAAAAAAAEAAAAAAAAAAAAAAAAAAAABAAAAAAAAAAAAAAAAAAAAAQAAAA=="
          },
          "colorscale": [
           [
            0.0,
            "#440154"
           ],
           [
            0.1111111111111111,
            "#482878"
           ],
           [
            0.2222222222222222,
            "#3e4989"
           ],
           [
            0.3333333333333333,
            "#31688e"
           ],
           [
            0.4444444444444444,
            "#26828e"
           ],
           [
            0.5555555555555556,
            "#1f9e89"
           ],
           [
            0.6666666666666666,
            "#35b779"
           ],
           [
            0.7777777777777778,
            "#6ece58"
           ],
           [
            0.8888888888888888,
            "#b5de2b"
           ],
           [
            1.0,
            "#fde725"
           ]
          ],
          "opacity": 0.8,
          "size": 6
         },
         "mode": "markers",
         "x": {
          "dtype": "f8",
          "bdata": "bv4ld0Y08z/+fAo7ol73PxWyxWb2gvk/xdpcTva1A0Bu/iV3RjTzP/58CjuiXvc/FbLFZvaC+T/F2lxO9rUDQG7+JXdGNPM//nwKO6Je9z8VssVm9oL5P8XaXE72tQNAbv4ld0Y08z/+fAo7ol73PxWyxWb2gvk/fv4jC7LQ9j+8Dxc7Hxb5Pyn68jyBH/k/dC/DFRQRAUB+/iMLstD2P7wPFzsfFvk/KfryPIEf+T90L8MVFBEBQH7+Iwuy0PY/vA8XOx8W+T8p+vI8gR/5P3QvwxUUEQFAfv4jC7LQ9j+8Dxc7Hxb5Pyn68jyBH/k/dC/DFRQRAUCQ5jHyuwn1P5nrtBU3y/U/y31wd7cW+z+/LbdeIs8BQL8tt14izwFAkOYx8rsJ9T+Z67QVN8v1P8t9cHe3Fvs/vy23XiLPAUCQ5jHyuwn1P5nrtBU3y/U/y31wd7cW+z+/LbdeIs8BQJDmMfK7CfU/meu0FTfL9T/LfXB3txb7P78tt14izwFAkOYx8rsJ9T+Z67QVN8v1P8t9cHe3Fvs/vy23XiLPAUA="
         },
         "y": {
          "dtype": "f8",
          "bdata": "NDMzMzMz0z9WVVVVVVXVP3d3d3d3d9c/vLu7u7u72z80MzMzMzPTP1ZVVVVVVdU/d3d3d3d31z+8u7u7u7vbPzQzMzMzM9M/VlVVVVVV1T93d3d3d3fXP7y7u7u7u9s/NDMzMzMz0z9WVVVVVVXVP3d3d3d3d9c/VVVVVVVV1T9VVVVVVVXVP3d3d3d3d9c/mZmZmZmZ2T9VVVVVVVXVP1VVVVVVVdU/d3d3d3d31z+ZmZmZmZnZP1VVVVVVVdU/VVVVVVVV1T93d3d3d3fXP5mZmZmZmdk/VVVVVVVV1T9VVVVVVVXVP3d3d3d3d9c/mZmZmZmZ2T8zMzMzMzPTPzIzMzMzM9M/eXd3d3d31z+amZmZmZnZP5qZmZmZmdk/MzMzMzMz0z8yMzMzMzPTP3l3d3d3d9c/mpmZmZmZ2T8zMzMzMzPTPzIzMzMzM9M/eXd3d3d31z+amZmZmZnZPzMzMzMzM9M/MjMzMzMz0z95d3d3d3fXP5qZmZmZmdk/MzMzMzMz0z8yMzMzMzPTP3l3d3d3d9c/mpmZmZmZ2T8="
         },
         "z": {
          "dtype": "f8",
          "bdata": "a4W7cBnk0j9UMkdtZbzTPyMdZDJMwdI/dzoWimKa0T9rhbtwGeTSP1QyR21lvNM/Ix1kMkzB0j93OhaKYprRP2uFu3AZ5NI/VDJHbWW80z8jHWQyTMHSP3c6FopimtE/a4W7cBnk0j9UMkdtZbzTPyMdZDJMwdI/4DZRB/k60z9IcqiT5rTTP2Gf8KchhNI/6uNpg2mS0T/gNlEH+TrTP0hyqJPmtNM/YZ/wpyGE0j/q42mDaZLRP+A2UQf5OtM/SHKok+a00z9hn/CnIYTSP+rjaYNpktE/4DZRB/k60z9IcqiT5rTTP2Gf8KchhNI/6uNpg2mS0T+6Wt5UfyDTPxoX0SHWvtM/39/imie80j8zUBRKUIHRPzNQFEpQgdE/ulreVH8g0z8aF9Eh1r7TP9/f4ponvNI/M1AUSlCB0T+6Wt5UfyDTPxoX0SHWvtM/39/imie80j8zUBRKUIHRP7pa3lR/INM/GhfRIda+0z/f3+KaJ7zSPzNQFEpQgdE/ulreVH8g0z8aF9Eh1r7TP9/f4ponvNI/M1AUSlCB0T8="
         },
         "type": "scatter3d"
        },
        {
         "marker": {
          "color": "red",
          "size": 5,
          "symbol": "x"
         },
         "mode": "markers",
         "name": "Cluster Centers",
         "x": {
          "dtype": "f8",
          "bdata": "wL9ldYeZ+T921RQTvuMDQA=="
         },
         "y": {
          "dtype": "f8",
          "bdata": "+jJenb6M1z9ruqZruqbbPw=="
         },
         "z": {
          "dtype": "f8",
          "bdata": "BBUvVall0z8bENSz787RPw=="
         },
         "type": "scatter3d"
        }
       ],
       "layout": {
        "template": {
         "data": {
          "histogram2dcontour": [
           {
            "type": "histogram2dcontour",
            "colorbar": {
             "outlinewidth": 0,
             "ticks": ""
            },
            "colorscale": [
             [
              0.0,
              "#0d0887"
             ],
             [
              0.1111111111111111,
              "#46039f"
             ],
             [
              0.2222222222222222,
              "#7201a8"
             ],
             [
              0.3333333333333333,
              "#9c179e"
             ],
             [
              0.4444444444444444,
              "#bd3786"
             ],
             [
              0.5555555555555556,
              "#d8576b"
             ],
             [
              0.6666666666666666,
              "#ed7953"
             ],
             [
              0.7777777777777778,
              "#fb9f3a"
             ],
             [
              0.8888888888888888,
              "#fdca26"
             ],
             [
              1.0,
              "#f0f921"
             ]
            ]
           }
          ],
          "choropleth": [
           {
            "type": "choropleth",
            "colorbar": {
             "outlinewidth": 0,
             "ticks": ""
            }
           }
          ],
          "histogram2d": [
           {
            "type": "histogram2d",
            "colorbar": {
             "outlinewidth": 0,
             "ticks": ""
            },
            "colorscale": [
             [
              0.0,
              "#0d0887"
             ],
             [
              0.1111111111111111,
              "#46039f"
             ],
             [
              0.2222222222222222,
              "#7201a8"
             ],
             [
              0.3333333333333333,
              "#9c179e"
             ],
             [
              0.4444444444444444,
              "#bd3786"
             ],
             [
              0.5555555555555556,
              "#d8576b"
             ],
             [
              0.6666666666666666,
              "#ed7953"
             ],
             [
              0.7777777777777778,
              "#fb9f3a"
             ],
             [
              0.8888888888888888,
              "#fdca26"
             ],
             [
              1.0,
              "#f0f921"
             ]
            ]
           }
          ],
          "heatmap": [
           {
            "type": "heatmap",
            "colorbar": {
             "outlinewidth": 0,
             "ticks": ""
            },
            "colorscale": [
             [
              0.0,
              "#0d0887"
             ],
             [
              0.1111111111111111,
              "#46039f"
             ],
             [
              0.2222222222222222,
              "#7201a8"
             ],
             [
              0.3333333333333333,
              "#9c179e"
             ],
             [
              0.4444444444444444,
              "#bd3786"
             ],
             [
              0.5555555555555556,
              "#d8576b"
             ],
             [
              0.6666666666666666,
              "#ed7953"
             ],
             [
              0.7777777777777778,
              "#fb9f3a"
             ],
             [
              0.8888888888888888,
              "#fdca26"
             ],
             [
              1.0,
              "#f0f921"
             ]
            ]
           }
          ],
          "contourcarpet": [
           {
            "type": "contourcarpet",
            "colorbar": {
             "outlinewidth": 0,
             "ticks": ""
            }
           }
          ],
          "contour": [
           {
            "type": "contour",
            "colorbar": {
             "outlinewidth": 0,
             "ticks": ""
            },
            "colorscale": [
             [
              0.0,
              "#0d0887"
             ],
             [
              0.1111111111111111,
              "#46039f"
             ],
             [
              0.2222222222222222,
              "#7201a8"
             ],
             [
              0.3333333333333333,
              "#9c179e"
             ],
             [
              0.4444444444444444,
              "#bd3786"
             ],
             [
              0.5555555555555556,
              "#d8576b"
             ],
             [
              0.6666666666666666,
              "#ed7953"
             ],
             [
              0.7777777777777778,
              "#fb9f3a"
             ],
             [
              0.8888888888888888,
              "#fdca26"
             ],
             [
              1.0,
              "#f0f921"
             ]
            ]
           }
          ],
          "surface": [
           {
            "type": "surface",
            "colorbar": {
             "outlinewidth": 0,
             "ticks": ""
            },
            "colorscale": [
             [
              0.0,
              "#0d0887"
             ],
             [
              0.1111111111111111,
              "#46039f"
             ],
             [
              0.2222222222222222,
              "#7201a8"
             ],
             [
              0.3333333333333333,
              "#9c179e"
             ],
             [
              0.4444444444444444,
              "#bd3786"
             ],
             [
              0.5555555555555556,
              "#d8576b"
             ],
             [
              0.6666666666666666,
              "#ed7953"
             ],
             [
              0.7777777777777778,
              "#fb9f3a"
             ],
             [
              0.8888888888888888,
              "#fdca26"
             ],
             [
              1.0,
              "#f0f921"
             ]
            ]
           }
          ],
          "mesh3d": [
           {
            "type": "mesh3d",
            "colorbar": {
             "outlinewidth": 0,
             "ticks": ""
            }
           }
          ],
          "scatter": [
           {
            "fillpattern": {
             "fillmode": "overlay",
             "size": 10,
             "solidity": 0.2
            },
            "type": "scatter"
           }
          ],
          "parcoords": [
           {
            "type": "parcoords",
            "line": {
             "colorbar": {
              "outlinewidth": 0,
              "ticks": ""
             }
            }
           }
          ],
          "scatterpolargl": [
           {
            "type": "scatterpolargl",
            "marker": {
             "colorbar": {
              "outlinewidth": 0,
              "ticks": ""
             }
            }
           }
          ],
          "bar": [
           {
            "error_x": {
             "color": "#2a3f5f"
            },
            "error_y": {
             "color": "#2a3f5f"
            },
            "marker": {
             "line": {
              "color": "#E5ECF6",
              "width": 0.5
             },
             "pattern": {
              "fillmode": "overlay",
              "size": 10,
              "solidity": 0.2
             }
            },
            "type": "bar"
           }
          ],
          "scattergeo": [
           {
            "type": "scattergeo",
            "marker": {
             "colorbar": {
              "outlinewidth": 0,
              "ticks": ""
             }
            }
           }
          ],
          "scatterpolar": [
           {
            "type": "scatterpolar",
            "marker": {
             "colorbar": {
              "outlinewidth": 0,
              "ticks": ""
             }
            }
           }
          ],
          "histogram": [
           {
            "marker": {
             "pattern": {
              "fillmode": "overlay",
              "size": 10,
              "solidity": 0.2
             }
            },
            "type": "histogram"
           }
          ],
          "scattergl": [
           {
            "type": "scattergl",
            "marker": {
             "colorbar": {
              "outlinewidth": 0,
              "ticks": ""
             }
            }
           }
          ],
          "scatter3d": [
           {
            "type": "scatter3d",
            "line": {
             "colorbar": {
              "outlinewidth": 0,
              "ticks": ""
             }
            },
            "marker": {
             "colorbar": {
              "outlinewidth": 0,
              "ticks": ""
             }
            }
           }
          ],
          "scattermap": [
           {
            "type": "scattermap",
            "marker": {
             "colorbar": {
              "outlinewidth": 0,
              "ticks": ""
             }
            }
           }
          ],
          "scattermapbox": [
           {
            "type": "scattermapbox",
            "marker": {
             "colorbar": {
              "outlinewidth": 0,
              "ticks": ""
             }
            }
           }
          ],
          "scatterternary": [
           {
            "type": "scatterternary",
            "marker": {
             "colorbar": {
              "outlinewidth": 0,
              "ticks": ""
             }
            }
           }
          ],
          "scattercarpet": [
           {
            "type": "scattercarpet",
            "marker": {
             "colorbar": {
              "outlinewidth": 0,
              "ticks": ""
             }
            }
           }
          ],
          "carpet": [
           {
            "aaxis": {
             "endlinecolor": "#2a3f5f",
             "gridcolor": "white",
             "linecolor": "white",
             "minorgridcolor": "white",
             "startlinecolor": "#2a3f5f"
            },
            "baxis": {
             "endlinecolor": "#2a3f5f",
             "gridcolor": "white",
             "linecolor": "white",
             "minorgridcolor": "white",
             "startlinecolor": "#2a3f5f"
            },
            "type": "carpet"
           }
          ],
          "table": [
           {
            "cells": {
             "fill": {
              "color": "#EBF0F8"
             },
             "line": {
              "color": "white"
             }
            },
            "header": {
             "fill": {
              "color": "#C8D4E3"
             },
             "line": {
              "color": "white"
             }
            },
            "type": "table"
           }
          ],
          "barpolar": [
           {
            "marker": {
             "line": {
              "color": "#E5ECF6",
              "width": 0.5
             },
             "pattern": {
              "fillmode": "overlay",
              "size": 10,
              "solidity": 0.2
             }
            },
            "type": "barpolar"
           }
          ],
          "pie": [
           {
            "automargin": true,
            "type": "pie"
           }
          ]
         },
         "layout": {
          "autotypenumbers": "strict",
          "colorway": [
           "#636efa",
           "#EF553B",
           "#00cc96",
           "#ab63fa",
           "#FFA15A",
           "#19d3f3",
           "#FF6692",
           "#B6E880",
           "#FF97FF",
           "#FECB52"
          ],
          "font": {
           "color": "#2a3f5f"
          },
          "hovermode": "closest",
          "hoverlabel": {
           "align": "left"
          },
          "paper_bgcolor": "white",
          "plot_bgcolor": "#E5ECF6",
          "polar": {
           "bgcolor": "#E5ECF6",
           "angularaxis": {
            "gridcolor": "white",
            "linecolor": "white",
            "ticks": ""
           },
           "radialaxis": {
            "gridcolor": "white",
            "linecolor": "white",
            "ticks": ""
           }
          },
          "ternary": {
           "bgcolor": "#E5ECF6",
           "aaxis": {
            "gridcolor": "white",
            "linecolor": "white",
            "ticks": ""
           },
           "baxis": {
            "gridcolor": "white",
            "linecolor": "white",
            "ticks": ""
           },
           "caxis": {
            "gridcolor": "white",
            "linecolor": "white",
            "ticks": ""
           }
          },
          "coloraxis": {
           "colorbar": {
            "outlinewidth": 0,
            "ticks": ""
           }
          },
          "colorscale": {
           "sequential": [
            [
             0.0,
             "#0d0887"
            ],
            [
             0.1111111111111111,
             "#46039f"
            ],
            [
             0.2222222222222222,
             "#7201a8"
            ],
            [
             0.3333333333333333,
             "#9c179e"
            ],
            [
             0.4444444444444444,
             "#bd3786"
            ],
            [
             0.5555555555555556,
             "#d8576b"
            ],
            [
             0.6666666666666666,
             "#ed7953"
            ],
            [
             0.7777777777777778,
             "#fb9f3a"
            ],
            [
             0.8888888888888888,
             "#fdca26"
            ],
            [
             1.0,
             "#f0f921"
            ]
           ],
           "sequentialminus": [
            [
             0.0,
             "#0d0887"
            ],
            [
             0.1111111111111111,
             "#46039f"
            ],
            [
             0.2222222222222222,
             "#7201a8"
            ],
            [
             0.3333333333333333,
             "#9c179e"
            ],
            [
             0.4444444444444444,
             "#bd3786"
            ],
            [
             0.5555555555555556,
             "#d8576b"
            ],
            [
             0.6666666666666666,
             "#ed7953"
            ],
            [
             0.7777777777777778,
             "#fb9f3a"
            ],
            [
             0.8888888888888888,
             "#fdca26"
            ],
            [
             1.0,
             "#f0f921"
            ]
           ],
           "diverging": [
            [
             0,
             "#8e0152"
            ],
            [
             0.1,
             "#c51b7d"
            ],
            [
             0.2,
             "#de77ae"
            ],
            [
             0.3,
             "#f1b6da"
            ],
            [
             0.4,
             "#fde0ef"
            ],
            [
             0.5,
             "#f7f7f7"
            ],
            [
             0.6,
             "#e6f5d0"
            ],
            [
             0.7,
             "#b8e186"
            ],
            [
             0.8,
             "#7fbc41"
            ],
            [
             0.9,
             "#4d9221"
            ],
            [
             1,
             "#276419"
            ]
           ]
          },
          "xaxis": {
           "gridcolor": "white",
           "linecolor": "white",
           "ticks": "",
           "title": {
            "standoff": 15
           },
           "zerolinecolor": "white",
           "automargin": true,
           "zerolinewidth": 2
          },
          "yaxis": {
           "gridcolor": "white",
           "linecolor": "white",
           "ticks": "",
           "title": {
            "standoff": 15
           },
           "zerolinecolor": "white",
           "automargin": true,
           "zerolinewidth": 2
          },
          "scene": {
           "xaxis": {
            "backgroundcolor": "#E5ECF6",
            "gridcolor": "white",
            "linecolor": "white",
            "showbackground": true,
            "ticks": "",
            "zerolinecolor": "white",
            "gridwidth": 2
           },
           "yaxis": {
            "backgroundcolor": "#E5ECF6",
            "gridcolor": "white",
            "linecolor": "white",
            "showbackground": true,
            "ticks": "",
            "zerolinecolor": "white",
            "gridwidth": 2
           },
           "zaxis": {
            "backgroundcolor": "#E5ECF6",
            "gridcolor": "white",
            "linecolor": "white",
            "showbackground": true,
            "ticks": "",
            "zerolinecolor": "white",
            "gridwidth": 2
           }
          },
          "shapedefaults": {
           "line": {
            "color": "#2a3f5f"
           }
          },
          "annotationdefaults": {
           "arrowcolor": "#2a3f5f",
           "arrowhead": 0,
           "arrowwidth": 1
          },
          "geo": {
           "bgcolor": "white",
           "landcolor": "#E5ECF6",
           "subunitcolor": "white",
           "showland": true,
           "showlakes": true,
           "lakecolor": "white"
          },
          "title": {
           "x": 0.05
          },
          "mapbox": {
           "style": "light"
          }
         }
        },
        "scene": {
         "camera": {
          "eye": {
           "x": 1.5,
           "y": 1.5,
           "z": 1.0
          }
         },
         "xaxis": {
          "title": {
           "text": "Roll Gap Ratio"
          }
         },
         "yaxis": {
          "title": {
           "text": "Normed Wear Area"
          }
         },
         "zaxis": {
          "title": {
           "text": "Relative Surface Temperature"
          }
         }
        },
        "margin": {
         "l": 20,
         "r": 20,
         "t": 50,
         "b": 20
        },
        "width": 900,
        "height": 900,
        "showlegend": false
       },
       "config": {
        "plotlyServerURL": "https://plot.ly"
       }
      }
     },
     "metadata": {},
     "output_type": "display_data"
    },
    {
     "data": {
      "application/vnd.plotly.v1+json": {
       "data": [
        {
         "marker": {
          "color": {
           "dtype": "i4",
           "bdata": "AAAAAAIAAAAAAAAAAQAAAAAAAAACAAAAAAAAAAEAAAAAAAAAAgAAAAAAAAABAAAAAAAAAAIAAAAAAAAAAgAAAAIAAAABAAAAAAAAAAIAAAACAAAAAQAAAAAAAAACAAAAAgAAAAEAAAAAAAAAAgAAAAIAAAABAAAAAAAAAAIAAAACAAAAAQAAAAEAAAAAAAAAAgAAAAIAAAABAAAAAAAAAAIAAAACAAAAAQAAAAAAAAACAAAAAgAAAAEAAAAAAAAAAgAAAAIAAAABAAAA"
          },
          "colorscale": [
           [
            0.0,
            "#440154"
           ],
           [
            0.1111111111111111,
            "#482878"
           ],
           [
            0.2222222222222222,
            "#3e4989"
           ],
           [
            0.3333333333333333,
            "#31688e"
           ],
           [
            0.4444444444444444,
            "#26828e"
           ],
           [
            0.5555555555555556,
            "#1f9e89"
           ],
           [
            0.6666666666666666,
            "#35b779"
           ],
           [
            0.7777777777777778,
            "#6ece58"
           ],
           [
            0.8888888888888888,
            "#b5de2b"
           ],
           [
            1.0,
            "#fde725"
           ]
          ],
          "opacity": 0.8,
          "size": 6
         },
         "mode": "markers",
         "x": {
          "dtype": "f8",
          "bdata": "PCtUYrCB8z+V7NNuVbP/Py2mSZX/7vo/TJU/mNb0B0A8K1RisIHzP5Xs025Vs/8/LaZJlf/u+j9MlT+Y1vQHQDwrVGKwgfM/lezTblWz/z8tpkmV/+76P0yVP5jW9AdAPCtUYrCB8z+V7NNuVbP/Py2mSZX/7vo/NJ5g6+XU/T/HlKbxlQn/PxeKKCDJPwRAIQ//vUSK+j80nmDr5dT9P8eUpvGVCf8/F4ooIMk/BEAhD/+9RIr6PzSeYOvl1P0/x5Sm8ZUJ/z8XiiggyT8EQCEP/71Eivo/NJ5g6+XU/T/HlKbxlQn/PxeKKCDJPwRAN+f/4QJG+D8+o9Fc1lH/P8XseMa2s/w/g7u3XBurBUCDu7dcG6sFQDfn/+ECRvg/PqPRXNZR/z/F7HjGtrP8P4O7t1wbqwVAN+f/4QJG+D8+o9Fc1lH/P8XseMa2s/w/g7u3XBurBUA35//hAkb4Pz6j0VzWUf8/xex4xraz/D+Du7dcG6sFQDfn/+ECRvg/PqPRXNZR/z/F7HjGtrP8P4O7t1wbqwVA"
         },
         "y": {
          "dtype": "f8",
          "bdata": "VVVVVVVV1T+8u7u7u7vbP5mZmZmZmdk/3t3d3d3d3T9VVVVVVVXVP7y7u7u7u9s/mZmZmZmZ2T/e3d3d3d3dP1VVVVVVVdU/vLu7u7u72z+ZmZmZmZnZP97d3d3d3d0/VVVVVVVV1T+8u7u7u7vbP5mZmZmZmdk/mZmZmZmZ2T+9u7u7u7vbP7u7u7u7u9s/m5mZmZmZ2T+ZmZmZmZnZP727u7u7u9s/u7u7u7u72z+bmZmZmZnZP5mZmZmZmdk/vbu7u7u72z+7u7u7u7vbP5uZmZmZmdk/mZmZmZmZ2T+9u7u7u7vbP7u7u7u7u9s/eXd3d3d31z+5u7u7u7vbP7u7u7u7u9s/3t3d3d3d3T/e3d3d3d3dP3l3d3d3d9c/ubu7u7u72z+7u7u7u7vbP97d3d3d3d0/eXd3d3d31z+5u7u7u7vbP7u7u7u7u9s/3t3d3d3d3T95d3d3d3fXP7m7u7u7u9s/u7u7u7u72z/e3d3d3d3dP3l3d3d3d9c/ubu7u7u72z+7u7u7u7vbP97d3d3d3d0/"
         },
         "z": {
          "dtype": "f8",
          "bdata": "qb5hP+ZY0z/4w+supmDUP+VckPRHCtM/P/cBcHMr0j+pvmE/5ljTP/jD6y6mYNQ/5VyQ9EcK0z8/9wFwcyvSP6m+YT/mWNM/+MPrLqZg1D/lXJD0RwrTPz/3AXBzK9I/qb5hP+ZY0z/4w+supmDUP+VckPRHCtM//g8fBnhT1D9DeTtmfxTTP0m6JlGM99E/q0fXhSCk0z/+Dx8GeFPUP0N5O2Z/FNM/SbomUYz30T+rR9eFIKTTP/4PHwZ4U9Q/Q3k7Zn8U0z9JuiZRjPfRP6tH14UgpNM//g8fBnhT1D9DeTtmfxTTP0m6JlGM99E/exJlPS+n0z9XXboqoFnUP73rAAdW6tI/RHNrNtoV0j9Ec2s22hXSP3sSZT0vp9M/V126KqBZ1D+96wAHVurSP0RzazbaFdI/exJlPS+n0z9XXboqoFnUP73rAAdW6tI/RHNrNtoV0j97EmU9L6fTP1dduiqgWdQ/vesAB1bq0j9Ec2s22hXSP3sSZT0vp9M/V126KqBZ1D+96wAHVurSP0RzazbaFdI/"
         },
         "type": "scatter3d"
        },
        {
         "marker": {
          "color": {
           "dtype": "i4",
           "bdata": "AAAAAAAAAAAAAAAAAQAAAAAAAAAAAAAAAAAAAAEAAAAAAAAAAAAAAAAAAAABAAAAAAAAAAAAAAAAAAAAAAAAAAAAAAAAAAAAAgAAAAAAAAAAAAAAAAAAAAIAAAAAAAAAAAAAAAAAAAACAAAAAAAAAAAAAAAAAAAAAgAAAAAAAAAAAAAAAAAAAAIAAAACAAAAAAAAAAAAAAAAAAAAAgAAAAAAAAAAAAAAAAAAAAIAAAAAAAAAAAAAAAAAAAACAAAAAAAAAAAAAAAAAAAAAgAAAA=="
          },
          "colorscale": [
           [
            0.0,
            "#440154"
           ],
           [
            0.1111111111111111,
            "#482878"
           ],
           [
            0.2222222222222222,
            "#3e4989"
           ],
           [
            0.3333333333333333,
            "#31688e"
           ],
           [
            0.4444444444444444,
            "#26828e"
           ],
           [
            0.5555555555555556,
            "#1f9e89"
           ],
           [
            0.6666666666666666,
            "#35b779"
           ],
           [
            0.7777777777777778,
            "#6ece58"
           ],
           [
            0.8888888888888888,
            "#b5de2b"
           ],
           [
            1.0,
            "#fde725"
           ]
          ],
          "opacity": 0.8,
          "size": 6
         },
         "mode": "markers",
         "x": {
          "dtype": "f8",
          "bdata": "bv4ld0Y08z/+fAo7ol73PxWyxWb2gvk/xdpcTva1A0Bu/iV3RjTzP/58CjuiXvc/FbLFZvaC+T/F2lxO9rUDQG7+JXdGNPM//nwKO6Je9z8VssVm9oL5P8XaXE72tQNAbv4ld0Y08z/+fAo7ol73PxWyxWb2gvk/fv4jC7LQ9j+8Dxc7Hxb5Pyn68jyBH/k/dC/DFRQRAUB+/iMLstD2P7wPFzsfFvk/KfryPIEf+T90L8MVFBEBQH7+Iwuy0PY/vA8XOx8W+T8p+vI8gR/5P3QvwxUUEQFAfv4jC7LQ9j+8Dxc7Hxb5Pyn68jyBH/k/dC/DFRQRAUCQ5jHyuwn1P5nrtBU3y/U/y31wd7cW+z+/LbdeIs8BQL8tt14izwFAkOYx8rsJ9T+Z67QVN8v1P8t9cHe3Fvs/vy23XiLPAUCQ5jHyuwn1P5nrtBU3y/U/y31wd7cW+z+/LbdeIs8BQJDmMfK7CfU/meu0FTfL9T/LfXB3txb7P78tt14izwFAkOYx8rsJ9T+Z67QVN8v1P8t9cHe3Fvs/vy23XiLPAUA="
         },
         "y": {
          "dtype": "f8",
          "bdata": "NDMzMzMz0z9WVVVVVVXVP3d3d3d3d9c/vLu7u7u72z80MzMzMzPTP1ZVVVVVVdU/d3d3d3d31z+8u7u7u7vbPzQzMzMzM9M/VlVVVVVV1T93d3d3d3fXP7y7u7u7u9s/NDMzMzMz0z9WVVVVVVXVP3d3d3d3d9c/VVVVVVVV1T9VVVVVVVXVP3d3d3d3d9c/mZmZmZmZ2T9VVVVVVVXVP1VVVVVVVdU/d3d3d3d31z+ZmZmZmZnZP1VVVVVVVdU/VVVVVVVV1T93d3d3d3fXP5mZmZmZmdk/VVVVVVVV1T9VVVVVVVXVP3d3d3d3d9c/mZmZmZmZ2T8zMzMzMzPTPzIzMzMzM9M/eXd3d3d31z+amZmZmZnZP5qZmZmZmdk/MzMzMzMz0z8yMzMzMzPTP3l3d3d3d9c/mpmZmZmZ2T8zMzMzMzPTPzIzMzMzM9M/eXd3d3d31z+amZmZmZnZPzMzMzMzM9M/MjMzMzMz0z95d3d3d3fXP5qZmZmZmdk/MzMzMzMz0z8yMzMzMzPTP3l3d3d3d9c/mpmZmZmZ2T8="
         },
         "z": {
          "dtype": "f8",
          "bdata": "a4W7cBnk0j9UMkdtZbzTPyMdZDJMwdI/dzoWimKa0T9rhbtwGeTSP1QyR21lvNM/Ix1kMkzB0j93OhaKYprRP2uFu3AZ5NI/VDJHbWW80z8jHWQyTMHSP3c6FopimtE/a4W7cBnk0j9UMkdtZbzTPyMdZDJMwdI/4DZRB/k60z9IcqiT5rTTP2Gf8KchhNI/6uNpg2mS0T/gNlEH+TrTP0hyqJPmtNM/YZ/wpyGE0j/q42mDaZLRP+A2UQf5OtM/SHKok+a00z9hn/CnIYTSP+rjaYNpktE/4DZRB/k60z9IcqiT5rTTP2Gf8KchhNI/6uNpg2mS0T+6Wt5UfyDTPxoX0SHWvtM/39/imie80j8zUBRKUIHRPzNQFEpQgdE/ulreVH8g0z8aF9Eh1r7TP9/f4ponvNI/M1AUSlCB0T+6Wt5UfyDTPxoX0SHWvtM/39/imie80j8zUBRKUIHRP7pa3lR/INM/GhfRIda+0z/f3+KaJ7zSPzNQFEpQgdE/ulreVH8g0z8aF9Eh1r7TP9/f4ponvNI/M1AUSlCB0T8="
         },
         "type": "scatter3d"
        },
        {
         "marker": {
          "color": "red",
          "size": 5,
          "symbol": "x"
         },
         "mode": "markers",
         "name": "Cluster Centers",
         "x": {
          "dtype": "f8",
          "bdata": "vHrZR5im9z/aXQz2ImAFQHeH9B8K5f8/"
         },
         "y": {
          "dtype": "f8",
          "bdata": "CBaBYBEI1j/u7u7u7u7cP8zMzMzMzNo/"
         },
         "z": {
          "dtype": "f8",
          "bdata": "2gfKYgw90z8eg5YHLfvRP5kYf2k+FtM/"
         },
         "type": "scatter3d"
        }
       ],
       "layout": {
        "template": {
         "data": {
          "histogram2dcontour": [
           {
            "type": "histogram2dcontour",
            "colorbar": {
             "outlinewidth": 0,
             "ticks": ""
            },
            "colorscale": [
             [
              0.0,
              "#0d0887"
             ],
             [
              0.1111111111111111,
              "#46039f"
             ],
             [
              0.2222222222222222,
              "#7201a8"
             ],
             [
              0.3333333333333333,
              "#9c179e"
             ],
             [
              0.4444444444444444,
              "#bd3786"
             ],
             [
              0.5555555555555556,
              "#d8576b"
             ],
             [
              0.6666666666666666,
              "#ed7953"
             ],
             [
              0.7777777777777778,
              "#fb9f3a"
             ],
             [
              0.8888888888888888,
              "#fdca26"
             ],
             [
              1.0,
              "#f0f921"
             ]
            ]
           }
          ],
          "choropleth": [
           {
            "type": "choropleth",
            "colorbar": {
             "outlinewidth": 0,
             "ticks": ""
            }
           }
          ],
          "histogram2d": [
           {
            "type": "histogram2d",
            "colorbar": {
             "outlinewidth": 0,
             "ticks": ""
            },
            "colorscale": [
             [
              0.0,
              "#0d0887"
             ],
             [
              0.1111111111111111,
              "#46039f"
             ],
             [
              0.2222222222222222,
              "#7201a8"
             ],
             [
              0.3333333333333333,
              "#9c179e"
             ],
             [
              0.4444444444444444,
              "#bd3786"
             ],
             [
              0.5555555555555556,
              "#d8576b"
             ],
             [
              0.6666666666666666,
              "#ed7953"
             ],
             [
              0.7777777777777778,
              "#fb9f3a"
             ],
             [
              0.8888888888888888,
              "#fdca26"
             ],
             [
              1.0,
              "#f0f921"
             ]
            ]
           }
          ],
          "heatmap": [
           {
            "type": "heatmap",
            "colorbar": {
             "outlinewidth": 0,
             "ticks": ""
            },
            "colorscale": [
             [
              0.0,
              "#0d0887"
             ],
             [
              0.1111111111111111,
              "#46039f"
             ],
             [
              0.2222222222222222,
              "#7201a8"
             ],
             [
              0.3333333333333333,
              "#9c179e"
             ],
             [
              0.4444444444444444,
              "#bd3786"
             ],
             [
              0.5555555555555556,
              "#d8576b"
             ],
             [
              0.6666666666666666,
              "#ed7953"
             ],
             [
              0.7777777777777778,
              "#fb9f3a"
             ],
             [
              0.8888888888888888,
              "#fdca26"
             ],
             [
              1.0,
              "#f0f921"
             ]
            ]
           }
          ],
          "contourcarpet": [
           {
            "type": "contourcarpet",
            "colorbar": {
             "outlinewidth": 0,
             "ticks": ""
            }
           }
          ],
          "contour": [
           {
            "type": "contour",
            "colorbar": {
             "outlinewidth": 0,
             "ticks": ""
            },
            "colorscale": [
             [
              0.0,
              "#0d0887"
             ],
             [
              0.1111111111111111,
              "#46039f"
             ],
             [
              0.2222222222222222,
              "#7201a8"
             ],
             [
              0.3333333333333333,
              "#9c179e"
             ],
             [
              0.4444444444444444,
              "#bd3786"
             ],
             [
              0.5555555555555556,
              "#d8576b"
             ],
             [
              0.6666666666666666,
              "#ed7953"
             ],
             [
              0.7777777777777778,
              "#fb9f3a"
             ],
             [
              0.8888888888888888,
              "#fdca26"
             ],
             [
              1.0,
              "#f0f921"
             ]
            ]
           }
          ],
          "surface": [
           {
            "type": "surface",
            "colorbar": {
             "outlinewidth": 0,
             "ticks": ""
            },
            "colorscale": [
             [
              0.0,
              "#0d0887"
             ],
             [
              0.1111111111111111,
              "#46039f"
             ],
             [
              0.2222222222222222,
              "#7201a8"
             ],
             [
              0.3333333333333333,
              "#9c179e"
             ],
             [
              0.4444444444444444,
              "#bd3786"
             ],
             [
              0.5555555555555556,
              "#d8576b"
             ],
             [
              0.6666666666666666,
              "#ed7953"
             ],
             [
              0.7777777777777778,
              "#fb9f3a"
             ],
             [
              0.8888888888888888,
              "#fdca26"
             ],
             [
              1.0,
              "#f0f921"
             ]
            ]
           }
          ],
          "mesh3d": [
           {
            "type": "mesh3d",
            "colorbar": {
             "outlinewidth": 0,
             "ticks": ""
            }
           }
          ],
          "scatter": [
           {
            "fillpattern": {
             "fillmode": "overlay",
             "size": 10,
             "solidity": 0.2
            },
            "type": "scatter"
           }
          ],
          "parcoords": [
           {
            "type": "parcoords",
            "line": {
             "colorbar": {
              "outlinewidth": 0,
              "ticks": ""
             }
            }
           }
          ],
          "scatterpolargl": [
           {
            "type": "scatterpolargl",
            "marker": {
             "colorbar": {
              "outlinewidth": 0,
              "ticks": ""
             }
            }
           }
          ],
          "bar": [
           {
            "error_x": {
             "color": "#2a3f5f"
            },
            "error_y": {
             "color": "#2a3f5f"
            },
            "marker": {
             "line": {
              "color": "#E5ECF6",
              "width": 0.5
             },
             "pattern": {
              "fillmode": "overlay",
              "size": 10,
              "solidity": 0.2
             }
            },
            "type": "bar"
           }
          ],
          "scattergeo": [
           {
            "type": "scattergeo",
            "marker": {
             "colorbar": {
              "outlinewidth": 0,
              "ticks": ""
             }
            }
           }
          ],
          "scatterpolar": [
           {
            "type": "scatterpolar",
            "marker": {
             "colorbar": {
              "outlinewidth": 0,
              "ticks": ""
             }
            }
           }
          ],
          "histogram": [
           {
            "marker": {
             "pattern": {
              "fillmode": "overlay",
              "size": 10,
              "solidity": 0.2
             }
            },
            "type": "histogram"
           }
          ],
          "scattergl": [
           {
            "type": "scattergl",
            "marker": {
             "colorbar": {
              "outlinewidth": 0,
              "ticks": ""
             }
            }
           }
          ],
          "scatter3d": [
           {
            "type": "scatter3d",
            "line": {
             "colorbar": {
              "outlinewidth": 0,
              "ticks": ""
             }
            },
            "marker": {
             "colorbar": {
              "outlinewidth": 0,
              "ticks": ""
             }
            }
           }
          ],
          "scattermap": [
           {
            "type": "scattermap",
            "marker": {
             "colorbar": {
              "outlinewidth": 0,
              "ticks": ""
             }
            }
           }
          ],
          "scattermapbox": [
           {
            "type": "scattermapbox",
            "marker": {
             "colorbar": {
              "outlinewidth": 0,
              "ticks": ""
             }
            }
           }
          ],
          "scatterternary": [
           {
            "type": "scatterternary",
            "marker": {
             "colorbar": {
              "outlinewidth": 0,
              "ticks": ""
             }
            }
           }
          ],
          "scattercarpet": [
           {
            "type": "scattercarpet",
            "marker": {
             "colorbar": {
              "outlinewidth": 0,
              "ticks": ""
             }
            }
           }
          ],
          "carpet": [
           {
            "aaxis": {
             "endlinecolor": "#2a3f5f",
             "gridcolor": "white",
             "linecolor": "white",
             "minorgridcolor": "white",
             "startlinecolor": "#2a3f5f"
            },
            "baxis": {
             "endlinecolor": "#2a3f5f",
             "gridcolor": "white",
             "linecolor": "white",
             "minorgridcolor": "white",
             "startlinecolor": "#2a3f5f"
            },
            "type": "carpet"
           }
          ],
          "table": [
           {
            "cells": {
             "fill": {
              "color": "#EBF0F8"
             },
             "line": {
              "color": "white"
             }
            },
            "header": {
             "fill": {
              "color": "#C8D4E3"
             },
             "line": {
              "color": "white"
             }
            },
            "type": "table"
           }
          ],
          "barpolar": [
           {
            "marker": {
             "line": {
              "color": "#E5ECF6",
              "width": 0.5
             },
             "pattern": {
              "fillmode": "overlay",
              "size": 10,
              "solidity": 0.2
             }
            },
            "type": "barpolar"
           }
          ],
          "pie": [
           {
            "automargin": true,
            "type": "pie"
           }
          ]
         },
         "layout": {
          "autotypenumbers": "strict",
          "colorway": [
           "#636efa",
           "#EF553B",
           "#00cc96",
           "#ab63fa",
           "#FFA15A",
           "#19d3f3",
           "#FF6692",
           "#B6E880",
           "#FF97FF",
           "#FECB52"
          ],
          "font": {
           "color": "#2a3f5f"
          },
          "hovermode": "closest",
          "hoverlabel": {
           "align": "left"
          },
          "paper_bgcolor": "white",
          "plot_bgcolor": "#E5ECF6",
          "polar": {
           "bgcolor": "#E5ECF6",
           "angularaxis": {
            "gridcolor": "white",
            "linecolor": "white",
            "ticks": ""
           },
           "radialaxis": {
            "gridcolor": "white",
            "linecolor": "white",
            "ticks": ""
           }
          },
          "ternary": {
           "bgcolor": "#E5ECF6",
           "aaxis": {
            "gridcolor": "white",
            "linecolor": "white",
            "ticks": ""
           },
           "baxis": {
            "gridcolor": "white",
            "linecolor": "white",
            "ticks": ""
           },
           "caxis": {
            "gridcolor": "white",
            "linecolor": "white",
            "ticks": ""
           }
          },
          "coloraxis": {
           "colorbar": {
            "outlinewidth": 0,
            "ticks": ""
           }
          },
          "colorscale": {
           "sequential": [
            [
             0.0,
             "#0d0887"
            ],
            [
             0.1111111111111111,
             "#46039f"
            ],
            [
             0.2222222222222222,
             "#7201a8"
            ],
            [
             0.3333333333333333,
             "#9c179e"
            ],
            [
             0.4444444444444444,
             "#bd3786"
            ],
            [
             0.5555555555555556,
             "#d8576b"
            ],
            [
             0.6666666666666666,
             "#ed7953"
            ],
            [
             0.7777777777777778,
             "#fb9f3a"
            ],
            [
             0.8888888888888888,
             "#fdca26"
            ],
            [
             1.0,
             "#f0f921"
            ]
           ],
           "sequentialminus": [
            [
             0.0,
             "#0d0887"
            ],
            [
             0.1111111111111111,
             "#46039f"
            ],
            [
             0.2222222222222222,
             "#7201a8"
            ],
            [
             0.3333333333333333,
             "#9c179e"
            ],
            [
             0.4444444444444444,
             "#bd3786"
            ],
            [
             0.5555555555555556,
             "#d8576b"
            ],
            [
             0.6666666666666666,
             "#ed7953"
            ],
            [
             0.7777777777777778,
             "#fb9f3a"
            ],
            [
             0.8888888888888888,
             "#fdca26"
            ],
            [
             1.0,
             "#f0f921"
            ]
           ],
           "diverging": [
            [
             0,
             "#8e0152"
            ],
            [
             0.1,
             "#c51b7d"
            ],
            [
             0.2,
             "#de77ae"
            ],
            [
             0.3,
             "#f1b6da"
            ],
            [
             0.4,
             "#fde0ef"
            ],
            [
             0.5,
             "#f7f7f7"
            ],
            [
             0.6,
             "#e6f5d0"
            ],
            [
             0.7,
             "#b8e186"
            ],
            [
             0.8,
             "#7fbc41"
            ],
            [
             0.9,
             "#4d9221"
            ],
            [
             1,
             "#276419"
            ]
           ]
          },
          "xaxis": {
           "gridcolor": "white",
           "linecolor": "white",
           "ticks": "",
           "title": {
            "standoff": 15
           },
           "zerolinecolor": "white",
           "automargin": true,
           "zerolinewidth": 2
          },
          "yaxis": {
           "gridcolor": "white",
           "linecolor": "white",
           "ticks": "",
           "title": {
            "standoff": 15
           },
           "zerolinecolor": "white",
           "automargin": true,
           "zerolinewidth": 2
          },
          "scene": {
           "xaxis": {
            "backgroundcolor": "#E5ECF6",
            "gridcolor": "white",
            "linecolor": "white",
            "showbackground": true,
            "ticks": "",
            "zerolinecolor": "white",
            "gridwidth": 2
           },
           "yaxis": {
            "backgroundcolor": "#E5ECF6",
            "gridcolor": "white",
            "linecolor": "white",
            "showbackground": true,
            "ticks": "",
            "zerolinecolor": "white",
            "gridwidth": 2
           },
           "zaxis": {
            "backgroundcolor": "#E5ECF6",
            "gridcolor": "white",
            "linecolor": "white",
            "showbackground": true,
            "ticks": "",
            "zerolinecolor": "white",
            "gridwidth": 2
           }
          },
          "shapedefaults": {
           "line": {
            "color": "#2a3f5f"
           }
          },
          "annotationdefaults": {
           "arrowcolor": "#2a3f5f",
           "arrowhead": 0,
           "arrowwidth": 1
          },
          "geo": {
           "bgcolor": "white",
           "landcolor": "#E5ECF6",
           "subunitcolor": "white",
           "showland": true,
           "showlakes": true,
           "lakecolor": "white"
          },
          "title": {
           "x": 0.05
          },
          "mapbox": {
           "style": "light"
          }
         }
        },
        "scene": {
         "camera": {
          "eye": {
           "x": 1.5,
           "y": 1.5,
           "z": 1.0
          }
         },
         "xaxis": {
          "title": {
           "text": "Roll Gap Ratio"
          }
         },
         "yaxis": {
          "title": {
           "text": "Normed Wear Area"
          }
         },
         "zaxis": {
          "title": {
           "text": "Relative Surface Temperature"
          }
         }
        },
        "margin": {
         "l": 20,
         "r": 20,
         "t": 50,
         "b": 20
        },
        "width": 900,
        "height": 900,
        "showlegend": false
       },
       "config": {
        "plotlyServerURL": "https://plot.ly"
       }
      }
     },
     "metadata": {},
     "output_type": "display_data"
    }
   ],
   "execution_count": 71
  },
  {
   "metadata": {
    "ExecuteTime": {
     "end_time": "2025-07-11T10:27:19.705997Z",
     "start_time": "2025-07-11T10:27:19.700662Z"
    }
   },
   "cell_type": "code",
   "source": [
    "for k in [2, 3]:\n",
    "    print(f\"\\nCluster-Zuordnung bei k={k}:\")\n",
    "    grouped = df.groupby(f'cluster_k{k}')['label'].value_counts()\n",
    "    print(grouped)"
   ],
   "id": "e3e2ce902c351003",
   "outputs": [
    {
     "name": "stdout",
     "output_type": "stream",
     "text": [
      "\n",
      "Cluster-Zuordnung bei k=2:\n",
      "cluster_k2  label\n",
      "0           18-V     13\n",
      "            21-H     13\n",
      "            22-V     13\n",
      "            23-H     13\n",
      "            24-V     13\n",
      "            17-H     12\n",
      "1           27-H     13\n",
      "            28-V     13\n",
      "Name: count, dtype: int64\n",
      "\n",
      "Cluster-Zuordnung bei k=3:\n",
      "cluster_k3  label\n",
      "0           18-V     13\n",
      "            22-V     13\n",
      "            24-V     13\n",
      "            17-H     12\n",
      "            23-H      4\n",
      "1           27-H     13\n",
      "            28-V      3\n",
      "2           21-H     13\n",
      "            28-V     10\n",
      "            23-H      9\n",
      "Name: count, dtype: int64\n"
     ]
    }
   ],
   "execution_count": 21
  },
  {
   "metadata": {
    "ExecuteTime": {
     "end_time": "2025-07-11T10:27:38.704306Z",
     "start_time": "2025-07-11T10:27:38.702960Z"
    }
   },
   "cell_type": "code",
   "source": "",
   "id": "1095a799534de1f3",
   "outputs": [],
   "execution_count": null
  }
 ],
 "metadata": {
  "kernelspec": {
   "display_name": "Python 3",
   "language": "python",
   "name": "python3"
  },
  "language_info": {
   "codemirror_mode": {
    "name": "ipython",
    "version": 2
   },
   "file_extension": ".py",
   "mimetype": "text/x-python",
   "name": "python",
   "nbconvert_exporter": "python",
   "pygments_lexer": "ipython2",
   "version": "2.7.6"
  }
 },
 "nbformat": 4,
 "nbformat_minor": 5
}
