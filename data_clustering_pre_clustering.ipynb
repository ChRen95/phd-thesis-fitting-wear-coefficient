{
 "cells": [
  {
   "cell_type": "code",
   "id": "initial_id",
   "metadata": {
    "collapsed": true
   },
   "source": [
    "import numpy as np\n",
    "import pandas as pd\n",
    "import matplotlib.pyplot as plt\n",
    "from mpl_toolkits.mplot3d import Axes3D\n",
    "\n",
    "from pathlib import Path\n",
    "from lmfit import Parameters\n",
    "from lmfit import minimize, fit_report\n",
    "from sklearn import metrics\n",
    "from sklearn.cluster import KMeans\n",
    "from scipy.spatial.distance import cdist"
   ],
   "outputs": [],
   "execution_count": null
  },
  {
   "metadata": {},
   "cell_type": "code",
   "source": [
    "import pyroll.core as pr\n",
    "import pyroll.pillar_model\n",
    "import pyroll.neutral_point_estimator\n",
    "import pyroll.sparling_spreading\n",
    "import pyroll.hensel_force_torque\n",
    "import pyroll.freiberg_flow_stress\n",
    "import pyroll.ring_model_thermal\n",
    "from pyroll.freiberg_flow_stress import flow_stress"
   ],
   "id": "8970cbb7ad21db63",
   "outputs": [],
   "execution_count": null
  },
  {
   "metadata": {},
   "cell_type": "code",
   "source": [
    "ROLL_SURFACE_TEMPERATURE = 50 + 273.15\n",
    "DISK_ELEMENT_COUNT = 30"
   ],
   "id": "a6f5505d32600405",
   "outputs": [],
   "execution_count": null
  },
  {
   "metadata": {},
   "cell_type": "code",
   "source": [
    "pyroll.pillar_model.Config.PILLAR_COUNT = 30\n",
    "pyroll.neutral_point_estimator.Config.ESTIMATOR = \"EQUAL\"\n",
    "ROLL_SURFACE_TEMPERATURE = 50 + 273.15\n",
    "DISK_ELEMENT_COUNT = 30\n",
    "\n",
    "root_dir = Path.cwd()\n",
    "result_dir = root_dir / \"res\""
   ],
   "id": "95666e1e47353073",
   "outputs": [],
   "execution_count": null
  },
  {
   "metadata": {},
   "cell_type": "code",
   "source": [
    "from rolling_sequence import finishing_pass_design_1, finishing_pass_design_2, finishing_pass_design_3, \\\n",
    "    finishing_pass_design_4\n",
    "from in_profile import create_in_profile_for_finishing_train\n",
    "from utilities import *"
   ],
   "id": "31fa23264869536a",
   "outputs": [],
   "execution_count": null
  },
  {
   "metadata": {},
   "cell_type": "code",
   "source": [
    "@pr.CoolingPipe.DiskElement.heat_transfer_coefficient\n",
    "def heat_transfer_coefficient_model_moreales(self: pr.CoolingPipe.DiskElement):\n",
    "    mean_surface_temperature = (self.in_profile.surface_temperature + self.out_profile.surface_temperature) / 2\n",
    "    profile_surface_temperature_celsius = mean_surface_temperature - 273.15\n",
    "    return 13950 + 5.12 * 1e6 / profile_surface_temperature_celsius"
   ],
   "id": "30a65ca43ed5139a",
   "outputs": [],
   "execution_count": null
  },
  {
   "metadata": {},
   "cell_type": "code",
   "source": [
    "in_profile = create_in_profile_for_finishing_train(950 + 273.15)\n",
    "in_profile.ring_temperatures = in_profile.ring_temperatures"
   ],
   "id": "7a4d3220df8836d1",
   "outputs": [],
   "execution_count": null
  },
  {
   "metadata": {},
   "cell_type": "code",
   "source": [
    "rolling_train_rpd1 = finishing_pass_design_1(ROLL_SURFACE_TEMPERATURE, DISK_ELEMENT_COUNT)\n",
    "rolling_train_rpd2 = finishing_pass_design_2(ROLL_SURFACE_TEMPERATURE, DISK_ELEMENT_COUNT)\n",
    "rolling_train_rpd3 = finishing_pass_design_3(ROLL_SURFACE_TEMPERATURE, DISK_ELEMENT_COUNT)\n",
    "rolling_train_rpd4 = finishing_pass_design_4(ROLL_SURFACE_TEMPERATURE, DISK_ELEMENT_COUNT)"
   ],
   "id": "217dad671eb5af4b",
   "outputs": [],
   "execution_count": null
  },
  {
   "metadata": {},
   "cell_type": "code",
   "source": [
    "rolling_train_rpd1.solve(in_profile)\n",
    "rolling_train_rpd2.solve(in_profile)\n",
    "rolling_train_rpd3.solve(in_profile)\n",
    "#rolling_train_rpd4.solve(in_profile)"
   ],
   "id": "2e906d7a4e73982b",
   "outputs": [],
   "execution_count": null
  },
  {
   "metadata": {},
   "cell_type": "code",
   "source": [
    "sequences = [\n",
    "    {\"label\": \"RPD1\", \"sequence\": rolling_train_rpd1},\n",
    "    {\"label\": \"RPD2\", \"sequence\": rolling_train_rpd2},\n",
    "    {\"label\": \"RPD3\", \"sequence\": rolling_train_rpd3},\n",
    "    #{\"label\": \"RPD4\", \"sequence\": pass_design_3}\n",
    "]"
   ],
   "id": "94dce452891363e4",
   "outputs": [],
   "execution_count": null
  },
  {
   "metadata": {},
   "cell_type": "code",
   "source": [
    "def combine_simulated_and_measured_data():\n",
    "    _data = []\n",
    "\n",
    "    for entry in sequences:\n",
    "        groove_label = entry[\"label\"]\n",
    "        sequence = entry[\"sequence\"]\n",
    "        roll_passes = sequence.roll_passes\n",
    "        measurements = extract_wear_contours_from_measurement(groove_label)\n",
    "\n",
    "        for measurement_id, labels, tonnages, measured_wear_contours in measurements:\n",
    "            for roll_pass in roll_passes:\n",
    "                for label, tonnage, measured_wear_contour in zip(labels, tonnages, measured_wear_contours):\n",
    "                    if roll_pass.label == label:\n",
    "                        wear_area = calculate_area_between_contours(roll_pass.roll.contour_line, measured_wear_contour)\n",
    "                        normed_wear_area = wear_area / roll_pass.roll.groove.cross_section.area\n",
    "                        mean_temperature = (roll_pass.in_profile.temperature + roll_pass.out_profile.temperature) / 2\n",
    "                        if label in [\"17-H\", \"21-H\", \"23-H\", \"27-H\"]:\n",
    "                            groove_type = \"oval\"\n",
    "                        else:\n",
    "                            groove_type = \"round\"\n",
    "                        _data.append({\n",
    "                            \"groove\": groove_label,\n",
    "                            \"measurement_id\": measurement_id,\n",
    "                            \"label\": label,\n",
    "                            \"groove_type\": groove_type,\n",
    "                            \"tonnage\": tonnage,\n",
    "                            \"wear_area\": wear_area,\n",
    "                            \"normed_wear_area\": normed_wear_area,\n",
    "                            \"temperature\": mean_temperature,\n",
    "                            \"p_deformation_resistance\": np.mean(pillar_deformation_resistance(roll_pass)),\n",
    "                            \"roll_force\": roll_pass.roll_force\n",
    "                        })\n",
    "\n",
    "    return _data"
   ],
   "id": "88d253685c35e28a",
   "outputs": [],
   "execution_count": null
  },
  {
   "metadata": {},
   "cell_type": "code",
   "source": "data = combine_simulated_and_measured_data()",
   "id": "c3b4e3eed84ce50d",
   "outputs": [],
   "execution_count": null
  },
  {
   "metadata": {},
   "cell_type": "code",
   "source": [
    "tonnages = []\n",
    "normed_wear_areas = []\n",
    "temperatures = []\n",
    "deformation_resistances = []\n",
    "types = []\n",
    "for data_per_pass in data:\n",
    "    normed_wear_areas.append(data_per_pass['normed_wear_area'])\n",
    "    tonnages.append(data_per_pass['tonnage'])\n",
    "    temperatures.append(data_per_pass['temperature'])\n",
    "    deformation_resistances.append(data_per_pass['p_deformation_resistance'])\n",
    "    types.append(data_per_pass['groove_type'])\n",
    "\n"
   ],
   "id": "a63870ec7bf30a4",
   "outputs": [],
   "execution_count": null
  },
  {
   "metadata": {},
   "cell_type": "code",
   "source": [
    "df = pd.DataFrame({\n",
    "    'tonnage': np.array(tonnages),\n",
    "    'normed_wear_area': np.array(normed_wear_areas),\n",
    "    'temperature': np.array(temperatures),\n",
    "    'deformation_resistance': np.array(deformation_resistances),\n",
    "    'groove_type': np.array(types)\n",
    "})"
   ],
   "id": "246f5729d8c6c937",
   "outputs": [],
   "execution_count": null
  },
  {
   "metadata": {},
   "cell_type": "code",
   "source": [
    "features_for_clustering = ['tonnage', 'normed_wear_area', 'deformation_resistance', 'temperature']\n",
    "fitting_array = df[features_for_clustering].values"
   ],
   "id": "33b0ad4eab129513",
   "outputs": [],
   "execution_count": null
  },
  {
   "metadata": {},
   "cell_type": "code",
   "source": [
    "distortions = []\n",
    "inertias = []\n",
    "mapping1 = {}\n",
    "mapping2 = {}\n",
    "K = range(1, 10)\n",
    "for k in K:\n",
    "    kmeanModel = KMeans(n_clusters=k, random_state=42).fit(fitting_array)\n",
    "    df['cluster'] = kmeanModel.predict(fitting_array)\n",
    "\n",
    "    distortions.append(sum(np.min(cdist(fitting_array, kmeanModel.cluster_centers_, 'euclidean'), axis=1) ** 2) / fitting_array.shape[0])\n",
    "    inertias.append(kmeanModel.inertia_)\n",
    "\n",
    "    mapping1[k] = distortions[-1]\n",
    "    mapping2[k] = inertias[-1]"
   ],
   "id": "c8581b838f6a118f",
   "outputs": [],
   "execution_count": null
  },
  {
   "metadata": {},
   "cell_type": "code",
   "source": [
    "fig, ax = plt.subplots()\n",
    "ax2 = ax.twinx()\n",
    "ax.grid(True)\n",
    "ax.set_xlabel('Number of Clusters (k)')\n",
    "\n",
    "ax.plot(K, inertias, label=\"Inertia\", color=\"C0\")\n",
    "ax2.plot(K, distortions, label=\"Distortion\", color=\"C1\", linestyle=\"--\")\n",
    "\n",
    "ax.set_title('The Elbow Method using Distortion and Inertia')\n",
    "ax.set_ylabel('Distortion')\n",
    "ax2.set_ylabel('Inertia')\n",
    "lines, labels = ax.get_legend_handles_labels()\n",
    "lines2, labels2 = ax2.get_legend_handles_labels()\n",
    "ax2.legend(lines + lines2, labels + labels2, loc='upper right')"
   ],
   "id": "dcd902ed57150ee1",
   "outputs": [],
   "execution_count": null
  },
  {
   "metadata": {},
   "cell_type": "code",
   "source": [
    "fig = plt.figure(figsize=(14, 6))\n",
    "tag_to_marker = {'round': 'o', 'oval': '^'}\n",
    "for idx, k in enumerate([2, 3], 1):\n",
    "    kmeans = KMeans(n_clusters=k, random_state=42)\n",
    "    y_kmeans = kmeans.fit_predict(fitting_array)\n",
    "\n",
    "    ax = fig.add_subplot(1, 2, idx, projection='3d')\n",
    "\n",
    "    for tag in df['groove_type'].unique():\n",
    "        mask = df['groove_type'] == tag\n",
    "        ax.scatter(\n",
    "            df.loc[mask, 'tonnage'],\n",
    "            df.loc[mask, 'normed_wear_area'],\n",
    "            df.loc[mask, 'deformation_resistance'],\n",
    "            c=y_kmeans[mask],\n",
    "            cmap='viridis',\n",
    "            marker=tag_to_marker[tag],\n",
    "            edgecolor='k',\n",
    "            label=f'groove_type: {tag}',\n",
    "            s=60\n",
    "        )\n",
    "\n",
    "    ax.scatter(\n",
    "        kmeans.cluster_centers_[:, 0],\n",
    "        kmeans.cluster_centers_[:, 1],\n",
    "        kmeans.cluster_centers_[:, 2],\n",
    "        c='red', marker='x', s=200, label='Centroids'\n",
    "    )\n",
    "\n",
    "    ax.set_title(f'KMeans Clustering (k={k})')\n",
    "    ax.set_xlabel('Tonnage')\n",
    "    ax.set_ylabel('Normed Wear Area')\n",
    "    ax.set_zlabel('Deformation Resistance')\n",
    "    ax.legend(loc='upper left')\n",
    "\n",
    "plt.tight_layout()\n",
    "plt.show()"
   ],
   "id": "4fccab051311b460",
   "outputs": [],
   "execution_count": null
  },
  {
   "metadata": {},
   "cell_type": "code",
   "source": "",
   "id": "4235c25c0a4db1cb",
   "outputs": [],
   "execution_count": null
  }
 ],
 "metadata": {
  "kernelspec": {
   "display_name": "Python 3",
   "language": "python",
   "name": "python3"
  },
  "language_info": {
   "codemirror_mode": {
    "name": "ipython",
    "version": 2
   },
   "file_extension": ".py",
   "mimetype": "text/x-python",
   "name": "python",
   "nbconvert_exporter": "python",
   "pygments_lexer": "ipython2",
   "version": "2.7.6"
  }
 },
 "nbformat": 4,
 "nbformat_minor": 5
}
