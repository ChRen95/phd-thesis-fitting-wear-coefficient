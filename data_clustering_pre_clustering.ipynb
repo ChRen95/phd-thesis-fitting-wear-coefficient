{
 "cells": [
  {
   "cell_type": "code",
   "id": "initial_id",
   "metadata": {
    "collapsed": true,
    "ExecuteTime": {
     "end_time": "2025-06-23T15:03:19.123795Z",
     "start_time": "2025-06-23T15:03:18.157445Z"
    }
   },
   "source": [
    "import matplotlib.pyplot as plt\n",
    "from pathlib import Path\n",
    "from lmfit import Parameters\n",
    "from lmfit import minimize, fit_report\n",
    "from sklearn import metrics\n",
    "from sklearn.cluster import KMeans\n",
    "from scipy.spatial.distance import cdist"
   ],
   "outputs": [],
   "execution_count": 1
  },
  {
   "metadata": {},
   "cell_type": "code",
   "outputs": [],
   "execution_count": null,
   "source": [
    "import pyroll.core as pr\n",
    "import pyroll.pillar_model\n",
    "import pyroll.neutral_point_estimator\n",
    "import pyroll.sparling_spreading\n",
    "import pyroll.hensel_force_torque\n",
    "import pyroll.freiberg_flow_stress\n",
    "import pyroll.ring_model_thermal\n",
    "from pyroll.freiberg_flow_stress import flow_stress"
   ],
   "id": "8970cbb7ad21db63"
  },
  {
   "metadata": {},
   "cell_type": "code",
   "outputs": [],
   "execution_count": null,
   "source": [
    "ROLL_SURFACE_TEMPERATURE = 50 + 273.15\n",
    "DISK_ELEMENT_COUNT = 30"
   ],
   "id": "a6f5505d32600405"
  },
  {
   "metadata": {},
   "cell_type": "code",
   "outputs": [],
   "execution_count": null,
   "source": [
    "pyroll.pillar_model.Config.PILLAR_COUNT = 30\n",
    "pyroll.neutral_point_estimator.Config.ESTIMATOR = \"EQUAL\"\n",
    "ROLL_SURFACE_TEMPERATURE = 50 + 273.15\n",
    "DISK_ELEMENT_COUNT = 30\n",
    "\n",
    "root_dir = Path.cwd()\n",
    "result_dir = root_dir / \"res\""
   ],
   "id": "95666e1e47353073"
  },
  {
   "metadata": {},
   "cell_type": "code",
   "outputs": [],
   "execution_count": null,
   "source": [
    "from rolling_sequence import finishing_pass_design_1, finishing_pass_design_2, finishing_pass_design_3, \\\n",
    "    finishing_pass_design_4\n",
    "from utilities import *"
   ],
   "id": "31fa23264869536a"
  },
  {
   "metadata": {},
   "cell_type": "code",
   "outputs": [],
   "execution_count": null,
   "source": [
    "@pr.CoolingPipe.DiskElement.heat_transfer_coefficient\n",
    "def heat_transfer_coefficient_model_moreales(self: pr.CoolingPipe.DiskElement):\n",
    "    mean_surface_temperature = (self.in_profile.surface_temperature + self.out_profile.surface_temperature) / 2\n",
    "    profile_surface_temperature_celsius = mean_surface_temperature - 273.15\n",
    "    return 13950 + 5.12 * 1e6 / profile_surface_temperature_celsius"
   ],
   "id": "30a65ca43ed5139a"
  },
  {
   "metadata": {},
   "cell_type": "code",
   "outputs": [],
   "execution_count": null,
   "source": [
    "in_profile = create_in_profile_for_finishing_train(950 + 273.15)\n",
    "in_profile.ring_temperatures = in_profile.ring_temperatures"
   ],
   "id": "7a4d3220df8836d1"
  },
  {
   "metadata": {},
   "cell_type": "code",
   "outputs": [],
   "execution_count": null,
   "source": [
    "rolling_train_rpd1 = finishing_pass_design_1(ROLL_SURFACE_TEMPERATURE, DISK_ELEMENT_COUNT)\n",
    "rolling_train_rpd2 = finishing_pass_design_2(ROLL_SURFACE_TEMPERATURE, DISK_ELEMENT_COUNT)\n",
    "rolling_train_rpd3 = finishing_pass_design_3(ROLL_SURFACE_TEMPERATURE, DISK_ELEMENT_COUNT)\n",
    "rolling_train_rpd4 = finishing_pass_design_4(ROLL_SURFACE_TEMPERATURE, DISK_ELEMENT_COUNT)"
   ],
   "id": "217dad671eb5af4b"
  },
  {
   "metadata": {},
   "cell_type": "code",
   "outputs": [],
   "execution_count": null,
   "source": [
    "rolling_train_rpd1.solve(in_profile)\n",
    "rolling_train_rpd2.solve(in_profile)\n",
    "rolling_train_rpd3.solve(in_profile)\n",
    "#rolling_train_rpd4.solve(in_profile)"
   ],
   "id": "2e906d7a4e73982b"
  },
  {
   "metadata": {},
   "cell_type": "code",
   "outputs": [],
   "execution_count": null,
   "source": [
    "def calculate_wear_areas():\n",
    "\n",
    "    sequences = [\n",
    "        {\"label\": \"RPD1\", \"sequence\": pass_design_1},\n",
    "        {\"label\": \"RPD2\", \"sequence\": pass_design_2},\n",
    "        {\"label\": \"RPD3\", \"sequence\": pass_design_3},\n",
    "        #{\"label\": \"RPD4\", \"sequence\": pass_design_3}\n",
    "    ]\n",
    "\n",
    "    wear_areas = []\n",
    "\n",
    "    for entry in sequences:\n",
    "        groove_label = entry[\"label\"]\n",
    "        sequence = entry[\"sequence\"]\n",
    "        roll_passes = sequence.roll_passes\n",
    "        measurements = extract_wear_contours_from_measurement(groove_label)\n",
    "\n",
    "        for measurement_id, labels, tonnages, measured_wear_contours in measurements:\n",
    "            for roll_pass in roll_passes:\n",
    "                for label, tonnage, measured_wear_contour in zip(labels, tonnages, measured_wear_contours):\n",
    "                    if roll_pass.label == label:\n",
    "                        wear_area = calculate_area_between_contours(roll_pass.roll.contour_line, measured_wear_contour,\n",
    "                                                                    True, {\"measurement_id\": measurement_id,\n",
    "                                                                           \"label\": roll_pass.label})\n",
    "                        normed_wear_area = wear_area / roll_pass.roll.groove.cross_section.area\n",
    "                        wear_areas.append({\n",
    "                            \"groove\": groove_label,\n",
    "                            \"measurement_id\": measurement_id,\n",
    "                            \"label\": label,\n",
    "                            \"tonnage\": tonnage,\n",
    "                            \"wear_area\": wear_area,\n",
    "                            \"normed_wear_area\": normed_wear_area\n",
    "                        })\n",
    "\n",
    "    return wear_areas"
   ],
   "id": "88d253685c35e28a"
  }
 ],
 "metadata": {
  "kernelspec": {
   "display_name": "Python 3",
   "language": "python",
   "name": "python3"
  },
  "language_info": {
   "codemirror_mode": {
    "name": "ipython",
    "version": 2
   },
   "file_extension": ".py",
   "mimetype": "text/x-python",
   "name": "python",
   "nbconvert_exporter": "python",
   "pygments_lexer": "ipython2",
   "version": "2.7.6"
  }
 },
 "nbformat": 4,
 "nbformat_minor": 5
}
