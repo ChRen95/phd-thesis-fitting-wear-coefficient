{
 "cells": [
  {
   "metadata": {},
   "cell_type": "code",
   "source": [
    "from lmfit import Parameters\n",
    "from lmfit import minimize, fit_report"
   ],
   "id": "23a9b33121736c1b",
   "outputs": [],
   "execution_count": null
  },
  {
   "metadata": {},
   "cell_type": "code",
   "source": [
    "import pyroll.core as pr\n",
    "import pyroll.pillar_model\n",
    "import pyroll.neutral_point_estimator\n",
    "import pyroll.sparling_spreading\n",
    "import pyroll.hensel_force_torque\n",
    "import pyroll.freiberg_flow_stress\n",
    "import pyroll.ring_model_thermal"
   ],
   "id": "c2430fe7953713d9",
   "outputs": [],
   "execution_count": null
  },
  {
   "metadata": {},
   "cell_type": "code",
   "source": [
    "from in_profile import create_in_profile_from_surface_temperature\n",
    "from rolling_sequence import rolling_train_e112, rolling_train_e107\n",
    "from utilities import *"
   ],
   "id": "d8df741abd82231b",
   "outputs": [],
   "execution_count": null
  },
  {
   "metadata": {},
   "cell_type": "code",
   "source": [
    "pyroll.pillar_model.Config.PILLAR_COUNT = 30\n",
    "pyroll.neutral_point_estimator.Config.ESTIMATOR = \"EQUAL\"\n",
    "ROLL_SURFACE_TEMPERATURE = 50 + 273.15\n",
    "DISK_ELEMENT_COUNT = 30"
   ],
   "id": "882e05f0ff0e3b05",
   "outputs": [],
   "execution_count": null
  },
  {
   "metadata": {},
   "cell_type": "code",
   "source": [
    "@pr.CoolingPipe.DiskElement.heat_transfer_coefficient\n",
    "def heat_transfer_coefficient_model_moreales(self: pr.CoolingPipe.DiskElement):\n",
    "    mean_surface_temperature = (self.in_profile.surface_temperature + self.out_profile.surface_temperature) / 2\n",
    "    profile_surface_temperature_celsius = mean_surface_temperature - 273.15\n",
    "    return 13950 + 5.12 * 1e6 / profile_surface_temperature_celsius"
   ],
   "id": "bec0683651946559",
   "outputs": [],
   "execution_count": null
  },
  {
   "metadata": {},
   "cell_type": "code",
   "source": [
    "in_profile = create_in_profile_from_surface_temperature(1050 + 273.15)\n",
    "in_profile.ring_temperatures = in_profile.ring_temperatures"
   ],
   "id": "ac729b2907c199de",
   "outputs": [],
   "execution_count": null
  },
  {
   "metadata": {},
   "cell_type": "code",
   "source": [
    "rolling_train_e112 = rolling_train_e112(ROLL_SURFACE_TEMPERATURE, DISK_ELEMENT_COUNT)\n",
    "rolling_train_e107 = rolling_train_e107(ROLL_SURFACE_TEMPERATURE, DISK_ELEMENT_COUNT)"
   ],
   "id": "fe09575a3ae4613a",
   "outputs": [],
   "execution_count": null
  },
  {
   "metadata": {},
   "cell_type": "code",
   "source": "rolling_train_e112.solve(in_profile)",
   "id": "8a7d60a04ab6af07",
   "outputs": [],
   "execution_count": null
  },
  {
   "metadata": {},
   "cell_type": "code",
   "source": "rolling_train_e107.solve(in_profile)",
   "id": "8d41684a3d4f7735",
   "outputs": [],
   "execution_count": null
  },
  {
   "metadata": {},
   "cell_type": "code",
   "source": [
    "def solve_total_wear_depths_as_contour_line_with_constant(params):\n",
    "    sequences = [\n",
    "        {\n",
    "            \"label\": \"e11_2\",\n",
    "            \"sequence\": rolling_train_e112\n",
    "        },\n",
    "        {\n",
    "            \"label\": \"e10_7\",\n",
    "            \"sequence\": rolling_train_e107\n",
    "        }\n",
    "    ]\n",
    "\n",
    "    area_errors = []\n",
    "    wear_coefficient = params['wear_coefficient'].value\n",
    "\n",
    "    for entry in sequences:\n",
    "        groove_label = entry[\"label\"]\n",
    "        sequence = entry[\"sequence\"]\n",
    "        roll_passes = sequence.roll_passes\n",
    "        measurements = extract_wear_contours_from_measurement(groove_label)\n",
    "\n",
    "\n",
    "        for measurement_id, labels, tonnages, measured_wear_contours in measurements:\n",
    "            for roll_pass in roll_passes:\n",
    "                for label, tonnage, measured_wear_contour in zip(labels, tonnages, measured_wear_contours):\n",
    "                    if roll_pass.label == label:\n",
    "\n",
    "                        calculated_wear_contour = calculate_wear_contour(roll_pass, wear_coefficient, tonnage * 1000)\n",
    "                        area_error = calculate_area_between_contours(calculated_wear_contour, measured_wear_contour)\n",
    "                        area_errors.append(area_error)\n",
    "                    else:\n",
    "                        continue\n",
    "    rms_error = root_mean_square_value(np.array(area_errors))\n",
    "    return rms_error\n"
   ],
   "id": "22e82b3857c95d90",
   "outputs": [],
   "execution_count": null
  },
  {
   "metadata": {},
   "cell_type": "code",
   "source": [
    "def solve_total_wear_depths_as_contour_line_with_function(params):\n",
    "    sequences = [\n",
    "        {\n",
    "            \"label\": \"e11_2\",\n",
    "            \"sequence\": rolling_train_e112\n",
    "        },\n",
    "        {\n",
    "            \"label\": \"e10_7\",\n",
    "            \"sequence\": rolling_train_e107\n",
    "        }\n",
    "    ]\n",
    "\n",
    "    area_errors = []\n",
    "    base_wear_coefficient = params['base_wear_coefficient'].value\n",
    "    roll_gap_ratio_exponent = params['roll_gap_ratio_exponent'].value\n",
    "\n",
    "    for entry in sequences:\n",
    "        groove_label = entry[\"label\"]\n",
    "        sequence = entry[\"sequence\"]\n",
    "        roll_passes = sequence.roll_passes\n",
    "        measurements = extract_wear_contours_from_measurement(groove_label)\n",
    "\n",
    "\n",
    "        for measurement_id, labels, tonnages, measured_wear_contours in measurements:\n",
    "            for roll_pass in roll_passes:\n",
    "                for label, tonnage, measured_wear_contour in zip(labels, tonnages, measured_wear_contours):\n",
    "                    if roll_pass.label == label:\n",
    "\n",
    "                        calculated_wear_contour = calculate_wear_contour_as_function(roll_pass, base_wear_coefficient, roll_gap_ratio_exponent, tonnage * 1000)\n",
    "                        area_error = calculate_area_between_contours(calculated_wear_contour, measured_wear_contour)\n",
    "                        area_errors.append(area_error)\n",
    "                    else:\n",
    "                        continue\n",
    "    rms_error = root_mean_square_value(np.array(area_errors))\n",
    "    return rms_error\n"
   ],
   "id": "7016bd6d345e60ec",
   "outputs": [],
   "execution_count": null
  },
  {
   "metadata": {},
   "cell_type": "code",
   "source": [
    "params_constant_cobyla = Parameters()\n",
    "params_constant_cobyla.add('wear_coefficient', value=1e-6, min=1e-10, max=1e-3, vary=True)\n",
    "\n",
    "params_function_cobyla = Parameters()\n",
    "params_function_cobyla.add('base_wear_coefficient', value=1e-6, min=1e-10, max=1e-3, vary=True)\n",
    "params_function_cobyla.add('roll_gap_ratio_exponent', value=1e-6, min=1e-10, max=1e-3, vary=True)"
   ],
   "id": "6a0b6f2d8a3c457",
   "outputs": [],
   "execution_count": null
  },
  {
   "metadata": {},
   "cell_type": "code",
   "source": [
    "result_constant_cobyla = minimize(\n",
    "    solve_total_wear_depths_as_contour_line_with_constant,\n",
    "    params_constant_cobyla,\n",
    "    nan_policy='omit',\n",
    "    max_nfev=100,\n",
    "    method=\"cobyla\"\n",
    ")\n",
    "\n",
    "result_function_cobyla = minimize(\n",
    "    solve_total_wear_depths_as_contour_line_with_function,\n",
    "    params_function_cobyla,\n",
    "    nan_policy='omit',\n",
    "    max_nfev=100,\n",
    "    method=\"cobyla\"\n",
    ")\n",
    "\n",
    "\n",
    "result_constant_ls = minimize(\n",
    "    solve_total_wear_depths_as_contour_line_with_constant,\n",
    "    params_constant_cobyla,\n",
    "    nan_policy='omit',\n",
    "    max_nfev=100,\n",
    "    method=\"least_squares\"\n",
    ")\n",
    "\n",
    "result_function_ls = minimize(\n",
    "    solve_total_wear_depths_as_contour_line_with_function,\n",
    "    params_function_cobyla,\n",
    "    nan_policy='omit',\n",
    "    max_nfev=100,\n",
    "    method=\"least_squares\"\n",
    ")"
   ],
   "id": "ea78e32cea3cb9fc",
   "outputs": [],
   "execution_count": null
  },
  {
   "metadata": {},
   "cell_type": "code",
   "source": "print(fit_report(result_constant_cobyla))",
   "id": "7e9eb68026d8a668",
   "outputs": [],
   "execution_count": null
  },
  {
   "metadata": {},
   "cell_type": "code",
   "source": "print(fit_report(result_function_cobyla))",
   "id": "2d626f9fa45bfbba",
   "outputs": [],
   "execution_count": null
  },
  {
   "metadata": {},
   "cell_type": "code",
   "source": "print(fit_report(result_constant_ls))",
   "id": "5d53ef2569b58f62",
   "outputs": [],
   "execution_count": null
  },
  {
   "metadata": {},
   "cell_type": "code",
   "source": "print(fit_report(result_function_ls))",
   "id": "8f6fdc43cf5e4867",
   "outputs": [],
   "execution_count": null
  },
  {
   "metadata": {},
   "cell_type": "code",
   "source": "",
   "id": "4ad57f23ae5ff76d",
   "outputs": [],
   "execution_count": null
  }
 ],
 "metadata": {
  "jupytext": {
   "formats": "ipynb,md"
  },
  "kernelspec": {
   "display_name": "Python 3 (ipykernel)",
   "language": "python",
   "name": "python3"
  },
  "language_info": {
   "codemirror_mode": {
    "name": "ipython",
    "version": 3
   },
   "file_extension": ".py",
   "mimetype": "text/x-python",
   "name": "python",
   "nbconvert_exporter": "python",
   "pygments_lexer": "ipython3",
   "version": "3.12.7"
  }
 },
 "nbformat": 4,
 "nbformat_minor": 5
}
