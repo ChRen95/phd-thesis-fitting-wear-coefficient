{
 "cells": [
  {
   "metadata": {
    "ExecuteTime": {
     "end_time": "2025-06-02T19:26:19.728413Z",
     "start_time": "2025-06-02T19:26:19.130183Z"
    }
   },
   "cell_type": "code",
   "source": [
    "from lmfit import minimize\n",
    "from lmfit import Parameters"
   ],
   "id": "23a9b33121736c1b",
   "outputs": [],
   "execution_count": 1
  },
  {
   "metadata": {
    "ExecuteTime": {
     "end_time": "2025-06-02T15:36:37.133398Z",
     "start_time": "2025-06-02T15:36:37.028121Z"
    }
   },
   "cell_type": "code",
   "source": [
    "import pyroll.core as pr\n",
    "import pyroll.pillar_model\n",
    "import pyroll.neutral_point_estimator\n",
    "import pyroll.sparling_spreading\n",
    "import pyroll.hensel_force_torque\n",
    "import pyroll.freiberg_flow_stress\n",
    "import pyroll.ring_model_thermal"
   ],
   "id": "c2430fe7953713d9",
   "outputs": [],
   "execution_count": 2
  },
  {
   "metadata": {
    "ExecuteTime": {
     "end_time": "2025-06-02T15:36:38.427520Z",
     "start_time": "2025-06-02T15:36:38.404046Z"
    }
   },
   "cell_type": "code",
   "source": [
    "from in_profile import create_in_profile_from_surface_temperature\n",
    "from rolling_sequence import roughing_sequence, intermediate_sequence, finishing_sequence_e112, finishing_sequence_e107\n",
    "from utilities import *"
   ],
   "id": "d8df741abd82231b",
   "outputs": [],
   "execution_count": 3
  },
  {
   "metadata": {
    "ExecuteTime": {
     "end_time": "2025-06-02T15:36:40.213730Z",
     "start_time": "2025-06-02T15:36:40.211045Z"
    }
   },
   "cell_type": "code",
   "source": [
    "pyroll.pillar_model.Config.PILLAR_COUNT = 30\n",
    "pyroll.neutral_point_estimator.Config.ESTIMATOR = \"EQUAL\"\n",
    "ROLL_SURFACE_TEMPERATURE = 50 + 273.15\n",
    "DISK_ELEMENT_COUNT = 30"
   ],
   "id": "882e05f0ff0e3b05",
   "outputs": [],
   "execution_count": 4
  },
  {
   "metadata": {
    "ExecuteTime": {
     "end_time": "2025-06-02T15:36:42.151924Z",
     "start_time": "2025-06-02T15:36:42.148250Z"
    }
   },
   "cell_type": "code",
   "source": [
    "@pr.CoolingPipe.DiskElement.heat_transfer_coefficient\n",
    "def heat_transfer_coefficient_model_moreales(self: pr.CoolingPipe.DiskElement):\n",
    "    mean_surface_temperature = (self.in_profile.surface_temperature + self.out_profile.surface_temperature) / 2\n",
    "    profile_surface_temperature_celsius = mean_surface_temperature - 273.15\n",
    "    return 13950 + 5.12 * 1e6 / profile_surface_temperature_celsius"
   ],
   "id": "bec0683651946559",
   "outputs": [],
   "execution_count": 5
  },
  {
   "metadata": {
    "ExecuteTime": {
     "end_time": "2025-06-02T15:36:43.480091Z",
     "start_time": "2025-06-02T15:36:43.473593Z"
    }
   },
   "cell_type": "code",
   "source": [
    "in_profile = create_in_profile_from_surface_temperature(1050 + 273.15)\n",
    "in_profile.ring_temperatures = in_profile.ring_temperatures"
   ],
   "id": "ac729b2907c199de",
   "outputs": [],
   "execution_count": 6
  },
  {
   "metadata": {
    "ExecuteTime": {
     "end_time": "2025-06-02T15:36:44.430727Z",
     "start_time": "2025-06-02T15:36:44.417973Z"
    }
   },
   "cell_type": "code",
   "source": [
    "roughing_train = roughing_sequence(\n",
    "    roll_surface_temperature=ROLL_SURFACE_TEMPERATURE,\n",
    "    disk_element_count=DISK_ELEMENT_COUNT\n",
    ")\n",
    "\n",
    "intermediate_train = intermediate_sequence(\n",
    "    roll_surface_temperature=ROLL_SURFACE_TEMPERATURE,\n",
    "    disk_element_count=DISK_ELEMENT_COUNT\n",
    ")\n",
    "\n",
    "finishing_train_e112 = finishing_sequence_e112(\n",
    "    roll_surface_temperature=ROLL_SURFACE_TEMPERATURE,\n",
    "    disk_element_count=DISK_ELEMENT_COUNT\n",
    ")\n",
    "\n",
    "finishing_train_e107 = finishing_sequence_e107(\n",
    "    roll_surface_temperature=ROLL_SURFACE_TEMPERATURE,\n",
    "    disk_element_count=DISK_ELEMENT_COUNT\n",
    ")\n"
   ],
   "id": "24f67340b6ffc923",
   "outputs": [],
   "execution_count": 7
  },
  {
   "metadata": {
    "ExecuteTime": {
     "end_time": "2025-06-02T15:36:47.532989Z",
     "start_time": "2025-06-02T15:36:47.530641Z"
    }
   },
   "cell_type": "code",
   "source": [
    "rolling_train_e112 = pr.PassSequence([\n",
    "    roughing_train,\n",
    "    intermediate_train,\n",
    "    finishing_train_e112\n",
    "])\n",
    "\n",
    "rolling_train_e107 = pr.PassSequence([\n",
    "    roughing_train,\n",
    "    intermediate_train,\n",
    "    finishing_train_e107\n",
    "])"
   ],
   "id": "fe09575a3ae4613a",
   "outputs": [],
   "execution_count": 8
  },
  {
   "metadata": {
    "ExecuteTime": {
     "end_time": "2025-06-02T15:36:48.999977Z",
     "start_time": "2025-06-02T15:36:48.997386Z"
    }
   },
   "cell_type": "code",
   "source": [
    "rolling_train_e112.flatten()\n",
    "rolling_train_e107.flatten()"
   ],
   "id": "a4fdfb87ca0cf6b6",
   "outputs": [],
   "execution_count": 9
  },
  {
   "metadata": {},
   "cell_type": "code",
   "source": "rolling_train_e112.solve(in_profile)",
   "id": "8a7d60a04ab6af07",
   "outputs": [],
   "execution_count": null
  },
  {
   "metadata": {},
   "cell_type": "code",
   "outputs": [],
   "execution_count": null,
   "source": "rolling_train_e107.solve(in_profile)",
   "id": "8d41684a3d4f7735"
  },
  {
   "metadata": {
    "ExecuteTime": {
     "end_time": "2025-06-02T17:18:53.686392Z",
     "start_time": "2025-06-02T17:18:53.678196Z"
    }
   },
   "cell_type": "code",
   "source": [
    "def solve_total_wear_depths_as_contour_line(params):\n",
    "    sequences = [\n",
    "        {\n",
    "            \"label\": \"e11_2\",\n",
    "            \"sequence\": rolling_train_e112\n",
    "        },\n",
    "        {\n",
    "            \"label\": \"e10_7\",\n",
    "            \"sequence\": rolling_train_e107\n",
    "        }\n",
    "    ]\n",
    "\n",
    "    area_errors = []\n",
    "    wear_coefficient = params['wear_coefficient'].value\n",
    "\n",
    "    for dict in sequences:\n",
    "        roll_passes = dict[\"sequence\"].roll_passes\n",
    "        for roll_pass in roll_passes:\n",
    "            labels, tonnages, measured_wear_contours = extract_wear_contours_from_measurement(dict[\"label\"])\n",
    "        for label, tonnage, measured_wear_contour in zip(labels, tonnages, measured_wear_contours):\n",
    "            if roll_pass.label == label:\n",
    "                calculated_wear_contour = calculate_wear_contour(roll_pass, wear_coefficient, tonnage * 1000)\n",
    "                area_error = calculate_area_between_contours(calculated_wear_contour, measured_wear_contour)\n",
    "\n",
    "                area_errors.append(area_error)\n",
    "            else:\n",
    "                continue\n",
    "\n",
    "    rms_error = root_mean_square_value(np.array(area_errors))\n",
    "    print(\"RMS Error: \", rms_error)\n",
    "    return rms_error\n"
   ],
   "id": "22e82b3857c95d90",
   "outputs": [],
   "execution_count": 47
  },
  {
   "metadata": {
    "ExecuteTime": {
     "end_time": "2025-06-02T17:19:12.054080Z",
     "start_time": "2025-06-02T17:19:12.051777Z"
    }
   },
   "cell_type": "code",
   "source": [
    "params = Parameters()\n",
    "params.add('wear_coefficient', value=1e-6, min=1e-10, max=1e-3, vary=True)"
   ],
   "id": "6a0b6f2d8a3c457",
   "outputs": [],
   "execution_count": 48
  },
  {
   "metadata": {
    "ExecuteTime": {
     "end_time": "2025-06-02T17:19:31.059089Z",
     "start_time": "2025-06-02T17:19:20.443264Z"
    }
   },
   "cell_type": "code",
   "source": [
    "result = minimize(\n",
    "    solve_total_wear_depths_as_contour_line,\n",
    "    params,\n",
    "    nan_policy='omit',\n",
    "    max_nfev=100,\n",
    "    method=\"cobyla\"\n",
    ")"
   ],
   "id": "ea78e32cea3cb9fc",
   "outputs": [
    {
     "name": "stdout",
     "output_type": "stream",
     "text": [
      "Area error:  0.016834346823023448\n",
      "Area error:  0.010227192945194166\n",
      "Area error:  0.04900690185349483\n",
      "Area error:  0.010295584418315308\n",
      "Area error:  0.023222075066337763\n",
      "Area error:  0.008776070341056565\n",
      "Area error:  0.016852583875867105\n",
      "Area error:  0.00812307846281863\n",
      "RMS Error:  0.02197141428172309\n",
      "Area error:  4.3265347886895364\n",
      "Area error:  2.6284648422998553\n",
      "Area error:  12.595619744233055\n",
      "Area error:  2.6458620808845095\n",
      "Area error:  5.9684351017286925\n",
      "Area error:  2.255606627101959\n",
      "Area error:  4.331633694693945\n",
      "Area error:  2.087701730519397\n",
      "RMS Error:  5.647006744702435\n",
      "Area error:  3.4310378167537587\n",
      "Area error:  2.0844307688342063\n",
      "Area error:  9.988604718489086\n",
      "Area error:  2.098227309336746\n",
      "Area error:  4.733100921382851\n",
      "Area error:  1.7887458818663193\n",
      "Area error:  3.435081029045135\n",
      "Area error:  1.6555936499372543\n",
      "RMS Error:  4.478201122739372\n",
      "Area error:  0.7901683264158526\n",
      "Area error:  0.48004456614951263\n",
      "Area error:  2.300374988960189\n",
      "Area error:  0.48322245130538105\n",
      "Area error:  1.0900329384786247\n",
      "Area error:  0.4119480400332598\n",
      "Area error:  0.7910982402760075\n",
      "Area error:  0.3812833146704882\n",
      "RMS Error:  1.031329492894316\n",
      "Area error:  0.40964739945660716\n",
      "Area error:  0.24886974767406853\n",
      "Area error:  1.192583667177894\n",
      "Area error:  0.250517598653557\n",
      "Area error:  0.5651059737413819\n",
      "Area error:  0.2135662597421141\n",
      "Area error:  0.41012872045396304\n",
      "Area error:  0.1976688832176819\n",
      "RMS Error:  0.5346723152122822\n",
      "Area error:  0.016042592618784712\n",
      "Area error:  0.009746184881052498\n",
      "Area error:  0.04670190789836801\n",
      "Area error:  0.009811392794726707\n",
      "Area error:  0.022129853583093287\n",
      "Area error:  0.008363295123028408\n",
      "Area error:  0.01605989627937594\n",
      "Area error:  0.007741029834840714\n",
      "RMS Error:  0.020938014065092915\n",
      "Area error:  0.06489166191086056\n",
      "Area error:  0.039423067087059234\n",
      "Area error:  0.18891373175608553\n",
      "Area error:  0.039684691912934514\n",
      "Area error:  0.08951693234019652\n",
      "Area error:  0.033830397311511835\n",
      "Area error:  0.06496655332099793\n",
      "Area error:  0.031312385441319306\n",
      "RMS Error:  0.08469598154032225\n",
      "Area error:  0.003914542262694628\n",
      "Area error:  0.002378127986167316\n",
      "Area error:  0.011394128528708747\n",
      "Area error:  0.0023945702992582453\n",
      "Area error:  0.005399260833631587\n",
      "Area error:  0.0020404254708173996\n",
      "Area error:  0.003917548268560569\n",
      "Area error:  0.0018888285155608713\n",
      "RMS Error:  0.005108442484518705\n",
      "Area error:  2.612705749215009e-06\n",
      "Area error:  1.5720919462107195e-06\n",
      "Area error:  5.51921705749805e-06\n",
      "Area error:  2.2779528557103636e-06\n",
      "Area error:  2.766330735031869e-06\n",
      "Area error:  1.3046253537429006e-06\n",
      "Area error:  1.0103172991396383e-06\n",
      "Area error:  1.4251651129693585e-06\n",
      "RMS Error:  2.6775688659051034e-06\n",
      "Area error:  0.004310612742864756\n",
      "Area error:  0.0026187494996501148\n",
      "Area error:  0.012547188478007166\n",
      "Area error:  0.0026367843700170874\n",
      "Area error:  0.005945638339434296\n",
      "Area error:  0.002246913896052772\n",
      "Area error:  0.004314085672828641\n",
      "Area error:  0.002079946141108617\n",
      "RMS Error:  0.0056253949876821085\n",
      "Area error:  0.001129193543701652\n",
      "Area error:  0.0006859674796494319\n",
      "Area error:  0.0032852837308815774\n",
      "Area error:  0.0006912102017815921\n",
      "Area error:  0.0015568843828027924\n",
      "Area error:  0.0005883044481419001\n",
      "Area error:  0.0011289159258107315\n",
      "Area error:  0.0005448019845562505\n",
      "RMS Error:  0.0014729961665242261\n",
      "Area error:  0.00020998525730399174\n",
      "Area error:  0.0001275282620032971\n",
      "Area error:  0.0006092391550447182\n",
      "Area error:  0.0001290766728596207\n",
      "Area error:  0.00028884054722230095\n",
      "Area error:  0.00010908538855871804\n",
      "Area error:  0.00020862399263443316\n",
      "Area error:  0.00010125593048806993\n",
      "RMS Error:  0.0002732433939936011\n",
      "Area error:  9.15908390604588e-05\n",
      "Area error:  5.560100894064169e-05\n",
      "Area error:  0.00026456326314642934\n",
      "Area error:  5.6673753773097234e-05\n",
      "Area error:  0.0001255158612505984\n",
      "Area error:  4.736461238628149e-05\n",
      "Area error:  9.009012503152723e-05\n",
      "Area error:  4.4132848262176155e-05\n",
      "RMS Error:  0.0001187158189882183\n",
      "Area error:  6.287494134085256e-06\n",
      "Area error:  3.7819031500991227e-06\n",
      "Area error:  1.6220475544509997e-05\n",
      "Area error:  4.514245053577541e-06\n",
      "Area error:  7.838044879240849e-06\n",
      "Area error:  3.032333061255503e-06\n",
      "Area error:  4.687992086446341e-06\n",
      "Area error:  3.141170502124581e-06\n",
      "RMS Error:  7.41444386372016e-06\n",
      "Area error:  1.2813524888117573e-05\n",
      "Area error:  7.743746894958176e-06\n",
      "Area error:  3.522090989922164e-05\n",
      "Area error:  8.501451241770985e-06\n",
      "Area error:  1.684178625890008e-05\n",
      "Area error:  6.331368614208894e-06\n",
      "Area error:  1.1220877279948592e-05\n",
      "Area error:  6.222508807510313e-06\n",
      "RMS Error:  1.591107671988117e-05\n",
      "Area error:  5.267965537163815e-07\n",
      "Area error:  3.5344653764163886e-07\n",
      "Area error:  2.763912900828924e-06\n",
      "Area error:  1.128310212372361e-06\n",
      "Area error:  1.045544492542709e-06\n",
      "Area error:  7.908447820072033e-07\n",
      "Area error:  1.167677790009782e-06\n",
      "Area error:  4.772242901425982e-07\n",
      "RMS Error:  1.2562121000347277e-06\n",
      "Area error:  4.4677076218191206e-07\n",
      "Area error:  3.0776991093909495e-07\n",
      "Area error:  2.805227203020549e-06\n",
      "Area error:  1.0840995143697657e-06\n",
      "Area error:  1.0592339168080647e-06\n",
      "Area error:  8.030222121959742e-07\n",
      "Area error:  1.239947746216394e-06\n",
      "Area error:  4.520480698286435e-07\n",
      "RMS Error:  1.2672577127513818e-06\n",
      "Area error:  2.7964891096705075e-07\n",
      "Area error:  2.2195400446552088e-07\n",
      "Area error:  2.9347452205629302e-06\n",
      "Area error:  9.75411510340303e-07\n",
      "Area error:  1.135001206782582e-06\n",
      "Area error:  8.466846678853083e-07\n",
      "Area error:  1.4319783548047927e-06\n",
      "Area error:  4.0586050782619413e-07\n",
      "RMS Error:  1.3187120442071974e-06\n",
      "Area error:  7.89602141290064e-07\n",
      "Area error:  5.035292083228707e-07\n",
      "Area error:  2.6656534503281694e-06\n",
      "Area error:  1.2678192837479762e-06\n",
      "Area error:  1.0383327477020893e-06\n",
      "Area error:  7.740815925979398e-07\n",
      "Area error:  9.540873455620121e-07\n",
      "Area error:  5.802904457570584e-07\n",
      "RMS Error:  1.2507219979876544e-06\n",
      "Area error:  1.1377012934367103e-06\n",
      "Area error:  7.042854735722097e-07\n",
      "Area error:  2.6804388442487427e-06\n",
      "Area error:  1.4535115315217038e-06\n",
      "Area error:  1.09931129211104e-06\n",
      "Area error:  8.294292129864247e-07\n",
      "Area error:  7.264108491488638e-07\n",
      "Area error:  7.412446171572768e-07\n",
      "RMS Error:  1.3257726460417542e-06\n",
      "Area error:  1.1377012934367103e-06\n",
      "Area error:  7.042854735722097e-07\n",
      "Area error:  2.6804388442487427e-06\n",
      "Area error:  1.4535115315217038e-06\n",
      "Area error:  1.09931129211104e-06\n",
      "Area error:  8.294292129864247e-07\n",
      "Area error:  7.264108491488638e-07\n",
      "Area error:  7.412446171572768e-07\n",
      "RMS Error:  1.3257726460417542e-06\n"
     ]
    }
   ],
   "execution_count": 49
  },
  {
   "metadata": {
    "ExecuteTime": {
     "end_time": "2025-06-02T17:20:47.095087Z",
     "start_time": "2025-06-02T17:20:47.089574Z"
    }
   },
   "cell_type": "code",
   "source": "result.params",
   "id": "384a138139ac9e81",
   "outputs": [
    {
     "data": {
      "text/plain": [
       "Parameters([('wear_coefficient', <Parameter 'wear_coefficient', value=np.float64(1.5397649065289552e-10), bounds=[1e-10:0.001]>)])"
      ],
      "text/html": [
       "<table class=\"jp-toc-ignore\"><caption>Parameters</caption><tr><th style='text-align:left'>name</th><th style='text-align:left'>value</th><th style='text-align:left'>initial value</th><th style='text-align:left'>min</th><th style='text-align:left'>max</th><th style='text-align:right'>vary</th></tr><tr><td style='text-align:left'>wear_coefficient</td><td style='text-align:left'> 1.5398e-10</td><td style='text-align:left'>1e-06</td><td style='text-align:left'> 1.0000e-10</td><td style='text-align:left'> 1.0000e-03</td><td style='text-align:right'>True</td></tr></table>"
      ]
     },
     "execution_count": 50,
     "metadata": {},
     "output_type": "execute_result"
    }
   ],
   "execution_count": 50
  }
 ],
 "metadata": {
  "jupytext": {
   "formats": "ipynb,md"
  },
  "kernelspec": {
   "display_name": "Python 3 (ipykernel)",
   "language": "python",
   "name": "python3"
  },
  "language_info": {
   "codemirror_mode": {
    "name": "ipython",
    "version": 3
   },
   "file_extension": ".py",
   "mimetype": "text/x-python",
   "name": "python",
   "nbconvert_exporter": "python",
   "pygments_lexer": "ipython3",
   "version": "3.12.7"
  }
 },
 "nbformat": 4,
 "nbformat_minor": 5
}
