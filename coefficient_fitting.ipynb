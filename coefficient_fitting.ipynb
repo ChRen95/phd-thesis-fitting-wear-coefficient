{
 "cells": [
  {
   "metadata": {
    "ExecuteTime": {
     "end_time": "2025-06-11T10:54:25.739817Z",
     "start_time": "2025-06-11T10:54:23.491608Z"
    }
   },
   "cell_type": "code",
   "source": [
    "from lmfit import minimize\n",
    "from lmfit import Parameters"
   ],
   "id": "2dcfac54f088500",
   "outputs": [],
   "execution_count": 1
  },
  {
   "metadata": {
    "ExecuteTime": {
     "end_time": "2025-06-11T10:54:33.965270Z",
     "start_time": "2025-06-11T10:54:33.387457Z"
    }
   },
   "cell_type": "code",
   "source": [
    "import pyroll.core as pr\n",
    "import pyroll.pillar_model\n",
    "import pyroll.neutral_point_estimator\n",
    "import pyroll.sparling_spreading\n",
    "import pyroll.hensel_force_torque\n",
    "import pyroll.freiberg_flow_stress\n",
    "import pyroll.ring_model_thermal"
   ],
   "id": "54fae901f85c0c75",
   "outputs": [],
   "execution_count": 2
  },
  {
   "metadata": {
    "ExecuteTime": {
     "end_time": "2025-06-11T10:54:34.630880Z",
     "start_time": "2025-06-11T10:54:34.616005Z"
    }
   },
   "cell_type": "code",
   "source": [
    "from in_profile import create_in_profile_from_surface_temperature\n",
    "from rolling_sequence import roughing_sequence, intermediate_sequence, finishing_sequence_e112, finishing_sequence_e107\n",
    "from utilities import *"
   ],
   "id": "71136bc8cb2d364b",
   "outputs": [],
   "execution_count": 3
  },
  {
   "metadata": {
    "ExecuteTime": {
     "end_time": "2025-06-11T10:54:35.356835Z",
     "start_time": "2025-06-11T10:54:35.354663Z"
    }
   },
   "cell_type": "code",
   "source": [
    "pyroll.pillar_model.Config.PILLAR_COUNT = 30\n",
    "pyroll.neutral_point_estimator.Config.ESTIMATOR = \"EQUAL\"\n",
    "ROLL_SURFACE_TEMPERATURE = 50 + 273.15\n",
    "DISK_ELEMENT_COUNT = 30"
   ],
   "id": "2f8ff4955e74d30f",
   "outputs": [],
   "execution_count": 4
  },
  {
   "metadata": {
    "ExecuteTime": {
     "end_time": "2025-06-11T10:54:36.593825Z",
     "start_time": "2025-06-11T10:54:36.591320Z"
    }
   },
   "cell_type": "code",
   "source": [
    "@pr.CoolingPipe.DiskElement.heat_transfer_coefficient\n",
    "def heat_transfer_coefficient_model_moreales(self: pr.CoolingPipe.DiskElement):\n",
    "    mean_surface_temperature = (self.in_profile.surface_temperature + self.out_profile.surface_temperature) / 2\n",
    "    profile_surface_temperature_celsius = mean_surface_temperature - 273.15\n",
    "    return 13950 + 5.12 * 1e6 / profile_surface_temperature_celsius"
   ],
   "id": "430f4bfb06521e15",
   "outputs": [],
   "execution_count": 5
  },
  {
   "metadata": {
    "ExecuteTime": {
     "end_time": "2025-06-11T10:54:37.479477Z",
     "start_time": "2025-06-11T10:54:37.476983Z"
    }
   },
   "cell_type": "code",
   "source": [
    "in_profile = create_in_profile_from_surface_temperature(1050 + 273.15)\n",
    "in_profile.ring_temperatures = in_profile.ring_temperatures"
   ],
   "id": "de5b94b5f497703c",
   "outputs": [],
   "execution_count": 6
  },
  {
   "metadata": {
    "ExecuteTime": {
     "end_time": "2025-06-11T10:54:38.801744Z",
     "start_time": "2025-06-11T10:54:38.784212Z"
    }
   },
   "cell_type": "code",
   "source": [
    "roughing_train = roughing_sequence(\n",
    "    roll_surface_temperature=ROLL_SURFACE_TEMPERATURE,\n",
    "    disk_element_count=DISK_ELEMENT_COUNT\n",
    ")\n",
    "\n",
    "intermediate_train = intermediate_sequence(\n",
    "    roll_surface_temperature=ROLL_SURFACE_TEMPERATURE,\n",
    "    disk_element_count=DISK_ELEMENT_COUNT\n",
    ")\n",
    "\n",
    "finishing_train_e112 = finishing_sequence_e112(\n",
    "    roll_surface_temperature=ROLL_SURFACE_TEMPERATURE,\n",
    "    disk_element_count=DISK_ELEMENT_COUNT\n",
    ")\n",
    "\n",
    "finishing_train_e107 = finishing_sequence_e107(\n",
    "    roll_surface_temperature=ROLL_SURFACE_TEMPERATURE,\n",
    "    disk_element_count=DISK_ELEMENT_COUNT\n",
    ")\n"
   ],
   "id": "3b6d3440bd4a1524",
   "outputs": [],
   "execution_count": 7
  },
  {
   "metadata": {
    "ExecuteTime": {
     "end_time": "2025-06-11T10:54:39.691290Z",
     "start_time": "2025-06-11T10:54:39.689147Z"
    }
   },
   "cell_type": "code",
   "source": [
    "rolling_train_e112 = pr.PassSequence([\n",
    "    roughing_train,\n",
    "    intermediate_train,\n",
    "    finishing_train_e112\n",
    "])\n",
    "\n",
    "rolling_train_e107 = pr.PassSequence([\n",
    "    roughing_train,\n",
    "    intermediate_train,\n",
    "    finishing_train_e107\n",
    "])"
   ],
   "id": "6fce3a78c3faf61c",
   "outputs": [],
   "execution_count": 8
  },
  {
   "metadata": {
    "ExecuteTime": {
     "end_time": "2025-06-11T10:54:40.522336Z",
     "start_time": "2025-06-11T10:54:40.520424Z"
    }
   },
   "cell_type": "code",
   "source": [
    "rolling_train_e112.flatten()\n",
    "rolling_train_e107.flatten()"
   ],
   "id": "cfb749319287b99d",
   "outputs": [],
   "execution_count": 9
  },
  {
   "metadata": {
    "ExecuteTime": {
     "end_time": "2025-06-11T11:24:55.794105Z",
     "start_time": "2025-06-11T10:54:43.661090Z"
    }
   },
   "cell_type": "code",
   "source": "rolling_train_e112.solve(in_profile)",
   "id": "2436e4ee141fad37",
   "outputs": [
    {
     "name": "stderr",
     "output_type": "stream",
     "text": [
      "Solution iteration of TwoRollPass '3' exceeded the maximum iteration count of 100. Continuing anyway.\n",
      "Solution iteration of TwoRollPass '7' exceeded the maximum iteration count of 100. Continuing anyway.\n",
      "Solution iteration of TwoRollPass '8' exceeded the maximum iteration count of 100. Continuing anyway.\n",
      "Solution iteration of TwoRollPass '14' exceeded the maximum iteration count of 100. Continuing anyway.\n",
      "Solution iteration of TwoRollPass '18-V' exceeded the maximum iteration count of 100. Continuing anyway.\n",
      "Solution iteration of TwoRollPass '23-H' exceeded the maximum iteration count of 100. Continuing anyway.\n",
      "Solution iteration of TwoRollPass '18-V' exceeded the maximum iteration count of 100. Continuing anyway.\n"
     ]
    },
    {
     "data": {
      "text/plain": [
       "Profile(\n",
       "    classifiers={'false_round', 'generic_elongation', 'round', 'symmetric'},\n",
       "    core_temperature=np.float64(1570.0591539343973),\n",
       "    cross_section=Polygon(\n",
       "        area=5.939031536528554e-05,\n",
       "        height=0.008700000000000006,\n",
       "        perimeter=0.027369332464370438,\n",
       "        width=0.008768227336460339,\n",
       "        ),\n",
       "    length=5171.222724142008,\n",
       "    material=['BST500', 'steel'],\n",
       "    ring_temperatures=array([1570.05915393, 1567.12701904, 1558.34092613, 1543.71864333,\n",
       "           1523.23735286, 1496.84675482, 1464.74408402, 1428.15944014,\n",
       "           1390.54359123, 1358.13149   , 1337.87659106]),\n",
       "    strain=np.float64(0.5607017311212023),\n",
       "    surface_temperature=np.float64(1337.876591055721),\n",
       "    t=np.float64(36.875179665279155),\n",
       "    temperature=np.float64(1425.8613020468924),\n",
       "    weight=2400,\n",
       "    width=np.float64(0.008768227336460339),\n",
       "    )"
      ],
      "text/html": [
       "<table><tr><td style='text-align: center'><div>                        <script type=\"text/javascript\">window.PlotlyConfig = {MathJaxConfig: 'local'};</script>\n",
       "        <script charset=\"utf-8\" src=\"https://cdn.plot.ly/plotly-3.0.1.min.js\"></script>                <div id=\"24aba957-4820-425c-9d00-d7ae16dd2a9f\" class=\"plotly-graph-div\" style=\"height:480px; width:640px;\"></div>            <script type=\"text/javascript\">                window.PLOTLYENV=window.PLOTLYENV || {};                                if (document.getElementById(\"24aba957-4820-425c-9d00-d7ae16dd2a9f\")) {                    Plotly.newPlot(                        \"24aba957-4820-425c-9d00-d7ae16dd2a9f\",                        [{\"hovertemplate\":\"z=%{x}\\u003cbr\\u003ey=%{y}\\u003cextra\\u003e\\u003c\\u002fextra\\u003e\",\"legendgroup\":\"\",\"line\":{\"color\":\"#636efa\",\"dash\":\"solid\"},\"marker\":{\"symbol\":\"circle\"},\"mode\":\"lines\",\"name\":\"\",\"orientation\":\"v\",\"showlegend\":false,\"x\":{\"dtype\":\"f8\",\"bdata\":\"AAAAAAAAAACOjqj+VqEjP81H6NoZojM\\u002fx4BXQNl2PT\\u002fEMTVk9qhDP3TlnwR3m0g\\u002frizUjKKUTT8ASBVRCEtRPwpbc0Lw0FM\\u002fAl+4qUFdVj8O4ecnMexYP3jvtpk1d1s\\u002fbKLre5T8XT\\u002f2lDYZbD5gP\\u002fixVuT+e2E\\u002fOc0lCAq3Yj\\u002f0mM561+9jP7g4LtilJmU\\u002fbnt36GBbZj80cTiSHo5nP7TPn4Mqv2g\\u002fGDeze6LuaT9c2mnHpRxrPxiJIa2aSWw\\u002fd1yTsd11bT\\u002flD0Adp6FuPyDg\\u002fy34zm8\\u002fbLUv+iyBcD9mvqk3MiNxPzYbOjIttnE\\u002fSl87jRP1cT82GzoyLbZxP2a+qTcyI3E\\u002fbLUv+iyBcD8g4P8t+M5vP+UPQB2noW4\\u002fd1yTsd11bT8YiSGtmklsP1zaacelHGs\\u002fGDeze6LuaT+0z5+DKr9oPzRxOJIejmc\\u002fbnt36GBbZj+4OC7YpSZlP\\u002fSYznrX72M\\u002fOc0lCAq3Yj\\u002f4sVbk\\u002fnthP\\u002faUNhlsPmA\\u002fbKLre5T8XT9477aZNXdbPw7h5ycx7Fg\\u002fAl+4qUFdVj8KW3NC8NBTPwBIFVEIS1E\\u002frizUjKKUTT905Z8Ed5tIP8QxNWT2qEM\\u002fx4BXQNl2PT\\u002fNR+jaGaIzP46OqP5WoSM\\u002fAAAAAAAAAACOjqj+VqEjv81H6NoZojO\\u002fx4BXQNl2Pb\\u002fEMTVk9qhDv3TlnwR3m0i\\u002frizUjKKUTb8ASBVRCEtRvwpbc0Lw0FO\\u002fAl+4qUFdVr8O4ecnMexYv3jvtpk1d1u\\u002fbKLre5T8Xb\\u002f2lDYZbD5gv\\u002fixVuT+e2G\\u002fOc0lCAq3Yr\\u002f0mM561+9jv7g4LtilJmW\\u002fbnt36GBbZr80cTiSHo5nv7TPn4Mqv2i\\u002fGDeze6Luab9c2mnHpRxrvxiJIa2aSWy\\u002fd1yTsd11bb\\u002flD0Adp6FuvyDg\\u002fy34zm+\\u002fbLUv+iyBcL9mvqk3MiNxvzYbOjIttnG\\u002fSl87jRP1cb82GzoyLbZxv2a+qTcyI3G\\u002fbLUv+iyBcL8g4P8t+M5vv+UPQB2noW6\\u002fd1yTsd11bb8YiSGtmklsv1zaacelHGu\\u002fGDeze6Luab+0z5+DKr9ovzRxOJIejme\\u002fbnt36GBbZr+4OC7YpSZlv\\u002fSYznrX72O\\u002fOc0lCAq3Yr\\u002f4sVbk\\u002fnthv\\u002faUNhlsPmC\\u002fbKLre5T8Xb9477aZNXdbvw7h5ycx7Fi\\u002fAl+4qUFdVr8KW3NC8NBTvwBIFVEIS1G\\u002frizUjKKUTb905Z8Ed5tIv8QxNWT2qEO\\u002fx4BXQNl2Pb\\u002fNR+jaGaIzv46OqP5WoSO\\u002fAAAAAAAAAAA=\"},\"xaxis\":\"x\",\"y\":{\"dtype\":\"f8\",\"bdata\":\"rDXNO07RcT9M5YDYgs1xP8tq7qMdxXE\\u002fzmcmjRO4cT9VYPTx46RxP04nIeMpi3E\\u002f7sG6kU5scT\\u002f0cjxQFUhxP6UW4rKTG3E\\u002fI4Q\\u002f3UDocD9O9TuznK5wP4LkG9Ueb3A\\u002fygGk7nMmcD\\u002fdVNxAua5vP0EkZKMlBG8\\u002f6Wq\\u002fPK9Kbj8c0RHcRnxtP\\u002foxu4f3nmw\\u002f7QYxSLyyaz\\u002fute+au6pqPzD8MbN4jGk\\u002fF5yMnntZaD+QZcLI+gNnP5bTcZq4hGU\\u002faY5QiufgYz\\u002f6I3GmIAViPx76SwFMfl8\\u002fCiieGHTiWT\\u002fWCi0B8phSP6u7OFEGjUw\\u002fAAAAAAAAAACruzhRBo1Mv9YKLQHymFK\\u002fCiieGHTiWb8e+ksBTH5fv\\u002fojcaYgBWK\\u002faY5QiufgY7+W03GauIRlv5Blwsj6A2e\\u002fF5yMnntZaL8w\\u002fDGzeIxpv+6175q7qmq\\u002f7QYxSLyya7\\u002f6MbuH955svxzREdxGfG2\\u002f6Wq\\u002fPK9Kbr9BJGSjJQRvv91U3EC5rm+\\u002fygGk7nMmcL+C5BvVHm9wv071O7OcrnC\\u002fI4Q\\u002f3UDocL+lFuKykxtxv\\u002fRyPFAVSHG\\u002f7sG6kU5scb9OJyHjKYtxv1Vg9PHjpHG\\u002fzmcmjRO4cb\\u002fLau6jHcVxv0zlgNiCzXG\\u002frDXNO07Rcb9M5YDYgs1xv8tq7qMdxXG\\u002fzmcmjRO4cb9VYPTx46Rxv04nIeMpi3G\\u002f7sG6kU5scb\\u002f0cjxQFUhxv6UW4rKTG3G\\u002fI4Q\\u002f3UDocL9O9TuznK5wv4LkG9Ueb3C\\u002fygGk7nMmcL\\u002fdVNxAua5vv0EkZKMlBG+\\u002f6Wq\\u002fPK9Kbr8c0RHcRnxtv\\u002foxu4f3nmy\\u002f7QYxSLyya7\\u002fute+au6pqvzD8MbN4jGm\\u002fF5yMnntZaL+QZcLI+gNnv5bTcZq4hGW\\u002faY5QiufgY7\\u002f6I3GmIAVivx76SwFMfl+\\u002fCiieGHTiWb\\u002fWCi0B8phSv6u7OFEGjUy\\u002fAAAAAAAAAACruzhRBo1MP9YKLQHymFI\\u002fCiieGHTiWT8e+ksBTH5fP\\u002fojcaYgBWI\\u002faY5QiufgYz+W03GauIRlP5Blwsj6A2c\\u002fF5yMnntZaD8w\\u002fDGzeIxpP+6175q7qmo\\u002f7QYxSLyyaz\\u002f6MbuH955sPxzREdxGfG0\\u002f6Wq\\u002fPK9Kbj9BJGSjJQRvP91U3EC5rm8\\u002fygGk7nMmcD+C5BvVHm9wP071O7OcrnA\\u002fI4Q\\u002f3UDocD+lFuKykxtxP\\u002fRyPFAVSHE\\u002f7sG6kU5scT9OJyHjKYtxP1Vg9PHjpHE\\u002fzmcmjRO4cT\\u002fLau6jHcVxP0zlgNiCzXE\\u002frDXNO07RcT8=\"},\"yaxis\":\"y\",\"type\":\"scatter\",\"fill\":\"toself\"}],                        {\"template\":{\"data\":{\"histogram2dcontour\":[{\"type\":\"histogram2dcontour\",\"colorbar\":{\"outlinewidth\":0,\"ticks\":\"\"},\"colorscale\":[[0.0,\"#0d0887\"],[0.1111111111111111,\"#46039f\"],[0.2222222222222222,\"#7201a8\"],[0.3333333333333333,\"#9c179e\"],[0.4444444444444444,\"#bd3786\"],[0.5555555555555556,\"#d8576b\"],[0.6666666666666666,\"#ed7953\"],[0.7777777777777778,\"#fb9f3a\"],[0.8888888888888888,\"#fdca26\"],[1.0,\"#f0f921\"]]}],\"choropleth\":[{\"type\":\"choropleth\",\"colorbar\":{\"outlinewidth\":0,\"ticks\":\"\"}}],\"histogram2d\":[{\"type\":\"histogram2d\",\"colorbar\":{\"outlinewidth\":0,\"ticks\":\"\"},\"colorscale\":[[0.0,\"#0d0887\"],[0.1111111111111111,\"#46039f\"],[0.2222222222222222,\"#7201a8\"],[0.3333333333333333,\"#9c179e\"],[0.4444444444444444,\"#bd3786\"],[0.5555555555555556,\"#d8576b\"],[0.6666666666666666,\"#ed7953\"],[0.7777777777777778,\"#fb9f3a\"],[0.8888888888888888,\"#fdca26\"],[1.0,\"#f0f921\"]]}],\"heatmap\":[{\"type\":\"heatmap\",\"colorbar\":{\"outlinewidth\":0,\"ticks\":\"\"},\"colorscale\":[[0.0,\"#0d0887\"],[0.1111111111111111,\"#46039f\"],[0.2222222222222222,\"#7201a8\"],[0.3333333333333333,\"#9c179e\"],[0.4444444444444444,\"#bd3786\"],[0.5555555555555556,\"#d8576b\"],[0.6666666666666666,\"#ed7953\"],[0.7777777777777778,\"#fb9f3a\"],[0.8888888888888888,\"#fdca26\"],[1.0,\"#f0f921\"]]}],\"contourcarpet\":[{\"type\":\"contourcarpet\",\"colorbar\":{\"outlinewidth\":0,\"ticks\":\"\"}}],\"contour\":[{\"type\":\"contour\",\"colorbar\":{\"outlinewidth\":0,\"ticks\":\"\"},\"colorscale\":[[0.0,\"#0d0887\"],[0.1111111111111111,\"#46039f\"],[0.2222222222222222,\"#7201a8\"],[0.3333333333333333,\"#9c179e\"],[0.4444444444444444,\"#bd3786\"],[0.5555555555555556,\"#d8576b\"],[0.6666666666666666,\"#ed7953\"],[0.7777777777777778,\"#fb9f3a\"],[0.8888888888888888,\"#fdca26\"],[1.0,\"#f0f921\"]]}],\"surface\":[{\"type\":\"surface\",\"colorbar\":{\"outlinewidth\":0,\"ticks\":\"\"},\"colorscale\":[[0.0,\"#0d0887\"],[0.1111111111111111,\"#46039f\"],[0.2222222222222222,\"#7201a8\"],[0.3333333333333333,\"#9c179e\"],[0.4444444444444444,\"#bd3786\"],[0.5555555555555556,\"#d8576b\"],[0.6666666666666666,\"#ed7953\"],[0.7777777777777778,\"#fb9f3a\"],[0.8888888888888888,\"#fdca26\"],[1.0,\"#f0f921\"]]}],\"mesh3d\":[{\"type\":\"mesh3d\",\"colorbar\":{\"outlinewidth\":0,\"ticks\":\"\"}}],\"scatter\":[{\"fillpattern\":{\"fillmode\":\"overlay\",\"size\":10,\"solidity\":0.2},\"type\":\"scatter\"}],\"parcoords\":[{\"type\":\"parcoords\",\"line\":{\"colorbar\":{\"outlinewidth\":0,\"ticks\":\"\"}}}],\"scatterpolargl\":[{\"type\":\"scatterpolargl\",\"marker\":{\"colorbar\":{\"outlinewidth\":0,\"ticks\":\"\"}}}],\"bar\":[{\"error_x\":{\"color\":\"#2a3f5f\"},\"error_y\":{\"color\":\"#2a3f5f\"},\"marker\":{\"line\":{\"color\":\"#E5ECF6\",\"width\":0.5},\"pattern\":{\"fillmode\":\"overlay\",\"size\":10,\"solidity\":0.2}},\"type\":\"bar\"}],\"scattergeo\":[{\"type\":\"scattergeo\",\"marker\":{\"colorbar\":{\"outlinewidth\":0,\"ticks\":\"\"}}}],\"scatterpolar\":[{\"type\":\"scatterpolar\",\"marker\":{\"colorbar\":{\"outlinewidth\":0,\"ticks\":\"\"}}}],\"histogram\":[{\"marker\":{\"pattern\":{\"fillmode\":\"overlay\",\"size\":10,\"solidity\":0.2}},\"type\":\"histogram\"}],\"scattergl\":[{\"type\":\"scattergl\",\"marker\":{\"colorbar\":{\"outlinewidth\":0,\"ticks\":\"\"}}}],\"scatter3d\":[{\"type\":\"scatter3d\",\"line\":{\"colorbar\":{\"outlinewidth\":0,\"ticks\":\"\"}},\"marker\":{\"colorbar\":{\"outlinewidth\":0,\"ticks\":\"\"}}}],\"scattermap\":[{\"type\":\"scattermap\",\"marker\":{\"colorbar\":{\"outlinewidth\":0,\"ticks\":\"\"}}}],\"scattermapbox\":[{\"type\":\"scattermapbox\",\"marker\":{\"colorbar\":{\"outlinewidth\":0,\"ticks\":\"\"}}}],\"scatterternary\":[{\"type\":\"scatterternary\",\"marker\":{\"colorbar\":{\"outlinewidth\":0,\"ticks\":\"\"}}}],\"scattercarpet\":[{\"type\":\"scattercarpet\",\"marker\":{\"colorbar\":{\"outlinewidth\":0,\"ticks\":\"\"}}}],\"carpet\":[{\"aaxis\":{\"endlinecolor\":\"#2a3f5f\",\"gridcolor\":\"white\",\"linecolor\":\"white\",\"minorgridcolor\":\"white\",\"startlinecolor\":\"#2a3f5f\"},\"baxis\":{\"endlinecolor\":\"#2a3f5f\",\"gridcolor\":\"white\",\"linecolor\":\"white\",\"minorgridcolor\":\"white\",\"startlinecolor\":\"#2a3f5f\"},\"type\":\"carpet\"}],\"table\":[{\"cells\":{\"fill\":{\"color\":\"#EBF0F8\"},\"line\":{\"color\":\"white\"}},\"header\":{\"fill\":{\"color\":\"#C8D4E3\"},\"line\":{\"color\":\"white\"}},\"type\":\"table\"}],\"barpolar\":[{\"marker\":{\"line\":{\"color\":\"#E5ECF6\",\"width\":0.5},\"pattern\":{\"fillmode\":\"overlay\",\"size\":10,\"solidity\":0.2}},\"type\":\"barpolar\"}],\"pie\":[{\"automargin\":true,\"type\":\"pie\"}]},\"layout\":{\"autotypenumbers\":\"strict\",\"colorway\":[\"#636efa\",\"#EF553B\",\"#00cc96\",\"#ab63fa\",\"#FFA15A\",\"#19d3f3\",\"#FF6692\",\"#B6E880\",\"#FF97FF\",\"#FECB52\"],\"font\":{\"color\":\"#2a3f5f\"},\"hovermode\":\"closest\",\"hoverlabel\":{\"align\":\"left\"},\"paper_bgcolor\":\"white\",\"plot_bgcolor\":\"#E5ECF6\",\"polar\":{\"bgcolor\":\"#E5ECF6\",\"angularaxis\":{\"gridcolor\":\"white\",\"linecolor\":\"white\",\"ticks\":\"\"},\"radialaxis\":{\"gridcolor\":\"white\",\"linecolor\":\"white\",\"ticks\":\"\"}},\"ternary\":{\"bgcolor\":\"#E5ECF6\",\"aaxis\":{\"gridcolor\":\"white\",\"linecolor\":\"white\",\"ticks\":\"\"},\"baxis\":{\"gridcolor\":\"white\",\"linecolor\":\"white\",\"ticks\":\"\"},\"caxis\":{\"gridcolor\":\"white\",\"linecolor\":\"white\",\"ticks\":\"\"}},\"coloraxis\":{\"colorbar\":{\"outlinewidth\":0,\"ticks\":\"\"}},\"colorscale\":{\"sequential\":[[0.0,\"#0d0887\"],[0.1111111111111111,\"#46039f\"],[0.2222222222222222,\"#7201a8\"],[0.3333333333333333,\"#9c179e\"],[0.4444444444444444,\"#bd3786\"],[0.5555555555555556,\"#d8576b\"],[0.6666666666666666,\"#ed7953\"],[0.7777777777777778,\"#fb9f3a\"],[0.8888888888888888,\"#fdca26\"],[1.0,\"#f0f921\"]],\"sequentialminus\":[[0.0,\"#0d0887\"],[0.1111111111111111,\"#46039f\"],[0.2222222222222222,\"#7201a8\"],[0.3333333333333333,\"#9c179e\"],[0.4444444444444444,\"#bd3786\"],[0.5555555555555556,\"#d8576b\"],[0.6666666666666666,\"#ed7953\"],[0.7777777777777778,\"#fb9f3a\"],[0.8888888888888888,\"#fdca26\"],[1.0,\"#f0f921\"]],\"diverging\":[[0,\"#8e0152\"],[0.1,\"#c51b7d\"],[0.2,\"#de77ae\"],[0.3,\"#f1b6da\"],[0.4,\"#fde0ef\"],[0.5,\"#f7f7f7\"],[0.6,\"#e6f5d0\"],[0.7,\"#b8e186\"],[0.8,\"#7fbc41\"],[0.9,\"#4d9221\"],[1,\"#276419\"]]},\"xaxis\":{\"gridcolor\":\"white\",\"linecolor\":\"white\",\"ticks\":\"\",\"title\":{\"standoff\":15},\"zerolinecolor\":\"white\",\"automargin\":true,\"zerolinewidth\":2},\"yaxis\":{\"gridcolor\":\"white\",\"linecolor\":\"white\",\"ticks\":\"\",\"title\":{\"standoff\":15},\"zerolinecolor\":\"white\",\"automargin\":true,\"zerolinewidth\":2},\"scene\":{\"xaxis\":{\"backgroundcolor\":\"#E5ECF6\",\"gridcolor\":\"white\",\"linecolor\":\"white\",\"showbackground\":true,\"ticks\":\"\",\"zerolinecolor\":\"white\",\"gridwidth\":2},\"yaxis\":{\"backgroundcolor\":\"#E5ECF6\",\"gridcolor\":\"white\",\"linecolor\":\"white\",\"showbackground\":true,\"ticks\":\"\",\"zerolinecolor\":\"white\",\"gridwidth\":2},\"zaxis\":{\"backgroundcolor\":\"#E5ECF6\",\"gridcolor\":\"white\",\"linecolor\":\"white\",\"showbackground\":true,\"ticks\":\"\",\"zerolinecolor\":\"white\",\"gridwidth\":2}},\"shapedefaults\":{\"line\":{\"color\":\"#2a3f5f\"}},\"annotationdefaults\":{\"arrowcolor\":\"#2a3f5f\",\"arrowhead\":0,\"arrowwidth\":1},\"geo\":{\"bgcolor\":\"white\",\"landcolor\":\"#E5ECF6\",\"subunitcolor\":\"white\",\"showland\":true,\"showlakes\":true,\"lakecolor\":\"white\"},\"title\":{\"x\":0.05},\"mapbox\":{\"style\":\"light\"}}},\"xaxis\":{\"anchor\":\"y\",\"domain\":[0.0,1.0],\"title\":{\"text\":\"z\"}},\"yaxis\":{\"anchor\":\"x\",\"domain\":[0.0,1.0],\"title\":{\"text\":\"y\"},\"scaleanchor\":\"x\",\"scaleratio\":1},\"legend\":{\"tracegroupgap\":0},\"margin\":{\"t\":60},\"width\":640,\"height\":480},                        {\"responsive\": true}                    )                };            </script>        </div></td></tr><tr><td style='text-align: left'><details><summary style='font-weight:bold'>Profile</summary><table><tr><td style='text-align:left'>classifiers</td><td><table style='margin:0'><tr><td>&#x27;false_round&#x27;</td></tr><tr><td>&#x27;round&#x27;</td></tr><tr><td>&#x27;symmetric&#x27;</td></tr><tr><td>&#x27;generic_elongation&#x27;</td></tr></table></td></tr><tr><td style='text-align:left'>core_temperature</td><td>np.float64(1570.0591539343973)</td></tr><tr><td style='text-align:left'>cross_section</td><td><table><tr><td style='text-align: center'><div>                        <script type=\"text/javascript\">window.PlotlyConfig = {MathJaxConfig: 'local'};</script>\n",
       "        <script charset=\"utf-8\" src=\"https://cdn.plot.ly/plotly-3.0.1.min.js\"></script>                <div id=\"51fd81e1-80bc-4aa7-9775-72c83d61712e\" class=\"plotly-graph-div\" style=\"height:480px; width:640px;\"></div>            <script type=\"text/javascript\">                window.PLOTLYENV=window.PLOTLYENV || {};                                if (document.getElementById(\"51fd81e1-80bc-4aa7-9775-72c83d61712e\")) {                    Plotly.newPlot(                        \"51fd81e1-80bc-4aa7-9775-72c83d61712e\",                        [{\"hovertemplate\":\"z=%{x}\\u003cbr\\u003ey=%{y}\\u003cextra\\u003e\\u003c\\u002fextra\\u003e\",\"legendgroup\":\"\",\"line\":{\"color\":\"#636efa\",\"dash\":\"solid\"},\"marker\":{\"symbol\":\"circle\"},\"mode\":\"lines\",\"name\":\"\",\"orientation\":\"v\",\"showlegend\":false,\"x\":{\"dtype\":\"f8\",\"bdata\":\"AAAAAAAAAACOjqj+VqEjP81H6NoZojM\\u002fx4BXQNl2PT\\u002fEMTVk9qhDP3TlnwR3m0g\\u002frizUjKKUTT8ASBVRCEtRPwpbc0Lw0FM\\u002fAl+4qUFdVj8O4ecnMexYP3jvtpk1d1s\\u002fbKLre5T8XT\\u002f2lDYZbD5gP\\u002fixVuT+e2E\\u002fOc0lCAq3Yj\\u002f0mM561+9jP7g4LtilJmU\\u002fbnt36GBbZj80cTiSHo5nP7TPn4Mqv2g\\u002fGDeze6LuaT9c2mnHpRxrPxiJIa2aSWw\\u002fd1yTsd11bT\\u002flD0Adp6FuPyDg\\u002fy34zm8\\u002fbLUv+iyBcD9mvqk3MiNxPzYbOjIttnE\\u002fSl87jRP1cT82GzoyLbZxP2a+qTcyI3E\\u002fbLUv+iyBcD8g4P8t+M5vP+UPQB2noW4\\u002fd1yTsd11bT8YiSGtmklsP1zaacelHGs\\u002fGDeze6LuaT+0z5+DKr9oPzRxOJIejmc\\u002fbnt36GBbZj+4OC7YpSZlP\\u002fSYznrX72M\\u002fOc0lCAq3Yj\\u002f4sVbk\\u002fnthP\\u002faUNhlsPmA\\u002fbKLre5T8XT9477aZNXdbPw7h5ycx7Fg\\u002fAl+4qUFdVj8KW3NC8NBTPwBIFVEIS1E\\u002frizUjKKUTT905Z8Ed5tIP8QxNWT2qEM\\u002fx4BXQNl2PT\\u002fNR+jaGaIzP46OqP5WoSM\\u002fAAAAAAAAAACOjqj+VqEjv81H6NoZojO\\u002fx4BXQNl2Pb\\u002fEMTVk9qhDv3TlnwR3m0i\\u002frizUjKKUTb8ASBVRCEtRvwpbc0Lw0FO\\u002fAl+4qUFdVr8O4ecnMexYv3jvtpk1d1u\\u002fbKLre5T8Xb\\u002f2lDYZbD5gv\\u002fixVuT+e2G\\u002fOc0lCAq3Yr\\u002f0mM561+9jv7g4LtilJmW\\u002fbnt36GBbZr80cTiSHo5nv7TPn4Mqv2i\\u002fGDeze6Luab9c2mnHpRxrvxiJIa2aSWy\\u002fd1yTsd11bb\\u002flD0Adp6FuvyDg\\u002fy34zm+\\u002fbLUv+iyBcL9mvqk3MiNxvzYbOjIttnG\\u002fSl87jRP1cb82GzoyLbZxv2a+qTcyI3G\\u002fbLUv+iyBcL8g4P8t+M5vv+UPQB2noW6\\u002fd1yTsd11bb8YiSGtmklsv1zaacelHGu\\u002fGDeze6Luab+0z5+DKr9ovzRxOJIejme\\u002fbnt36GBbZr+4OC7YpSZlv\\u002fSYznrX72O\\u002fOc0lCAq3Yr\\u002f4sVbk\\u002fnthv\\u002faUNhlsPmC\\u002fbKLre5T8Xb9477aZNXdbvw7h5ycx7Fi\\u002fAl+4qUFdVr8KW3NC8NBTvwBIFVEIS1G\\u002frizUjKKUTb905Z8Ed5tIv8QxNWT2qEO\\u002fx4BXQNl2Pb\\u002fNR+jaGaIzv46OqP5WoSO\\u002fAAAAAAAAAAA=\"},\"xaxis\":\"x\",\"y\":{\"dtype\":\"f8\",\"bdata\":\"rDXNO07RcT9M5YDYgs1xP8tq7qMdxXE\\u002fzmcmjRO4cT9VYPTx46RxP04nIeMpi3E\\u002f7sG6kU5scT\\u002f0cjxQFUhxP6UW4rKTG3E\\u002fI4Q\\u002f3UDocD9O9TuznK5wP4LkG9Ueb3A\\u002fygGk7nMmcD\\u002fdVNxAua5vP0EkZKMlBG8\\u002f6Wq\\u002fPK9Kbj8c0RHcRnxtP\\u002foxu4f3nmw\\u002f7QYxSLyyaz\\u002fute+au6pqPzD8MbN4jGk\\u002fF5yMnntZaD+QZcLI+gNnP5bTcZq4hGU\\u002faY5QiufgYz\\u002f6I3GmIAViPx76SwFMfl8\\u002fCiieGHTiWT\\u002fWCi0B8phSP6u7OFEGjUw\\u002fAAAAAAAAAACruzhRBo1Mv9YKLQHymFK\\u002fCiieGHTiWb8e+ksBTH5fv\\u002fojcaYgBWK\\u002faY5QiufgY7+W03GauIRlv5Blwsj6A2e\\u002fF5yMnntZaL8w\\u002fDGzeIxpv+6175q7qmq\\u002f7QYxSLyya7\\u002f6MbuH955svxzREdxGfG2\\u002f6Wq\\u002fPK9Kbr9BJGSjJQRvv91U3EC5rm+\\u002fygGk7nMmcL+C5BvVHm9wv071O7OcrnC\\u002fI4Q\\u002f3UDocL+lFuKykxtxv\\u002fRyPFAVSHG\\u002f7sG6kU5scb9OJyHjKYtxv1Vg9PHjpHG\\u002fzmcmjRO4cb\\u002fLau6jHcVxv0zlgNiCzXG\\u002frDXNO07Rcb9M5YDYgs1xv8tq7qMdxXG\\u002fzmcmjRO4cb9VYPTx46Rxv04nIeMpi3G\\u002f7sG6kU5scb\\u002f0cjxQFUhxv6UW4rKTG3G\\u002fI4Q\\u002f3UDocL9O9TuznK5wv4LkG9Ueb3C\\u002fygGk7nMmcL\\u002fdVNxAua5vv0EkZKMlBG+\\u002f6Wq\\u002fPK9Kbr8c0RHcRnxtv\\u002foxu4f3nmy\\u002f7QYxSLyya7\\u002fute+au6pqvzD8MbN4jGm\\u002fF5yMnntZaL+QZcLI+gNnv5bTcZq4hGW\\u002faY5QiufgY7\\u002f6I3GmIAVivx76SwFMfl+\\u002fCiieGHTiWb\\u002fWCi0B8phSv6u7OFEGjUy\\u002fAAAAAAAAAACruzhRBo1MP9YKLQHymFI\\u002fCiieGHTiWT8e+ksBTH5fP\\u002fojcaYgBWI\\u002faY5QiufgYz+W03GauIRlP5Blwsj6A2c\\u002fF5yMnntZaD8w\\u002fDGzeIxpP+6175q7qmo\\u002f7QYxSLyyaz\\u002f6MbuH955sPxzREdxGfG0\\u002f6Wq\\u002fPK9Kbj9BJGSjJQRvP91U3EC5rm8\\u002fygGk7nMmcD+C5BvVHm9wP071O7OcrnA\\u002fI4Q\\u002f3UDocD+lFuKykxtxP\\u002fRyPFAVSHE\\u002f7sG6kU5scT9OJyHjKYtxP1Vg9PHjpHE\\u002fzmcmjRO4cT\\u002fLau6jHcVxP0zlgNiCzXE\\u002frDXNO07RcT8=\"},\"yaxis\":\"y\",\"type\":\"scatter\",\"fill\":\"toself\"}],                        {\"template\":{\"data\":{\"histogram2dcontour\":[{\"type\":\"histogram2dcontour\",\"colorbar\":{\"outlinewidth\":0,\"ticks\":\"\"},\"colorscale\":[[0.0,\"#0d0887\"],[0.1111111111111111,\"#46039f\"],[0.2222222222222222,\"#7201a8\"],[0.3333333333333333,\"#9c179e\"],[0.4444444444444444,\"#bd3786\"],[0.5555555555555556,\"#d8576b\"],[0.6666666666666666,\"#ed7953\"],[0.7777777777777778,\"#fb9f3a\"],[0.8888888888888888,\"#fdca26\"],[1.0,\"#f0f921\"]]}],\"choropleth\":[{\"type\":\"choropleth\",\"colorbar\":{\"outlinewidth\":0,\"ticks\":\"\"}}],\"histogram2d\":[{\"type\":\"histogram2d\",\"colorbar\":{\"outlinewidth\":0,\"ticks\":\"\"},\"colorscale\":[[0.0,\"#0d0887\"],[0.1111111111111111,\"#46039f\"],[0.2222222222222222,\"#7201a8\"],[0.3333333333333333,\"#9c179e\"],[0.4444444444444444,\"#bd3786\"],[0.5555555555555556,\"#d8576b\"],[0.6666666666666666,\"#ed7953\"],[0.7777777777777778,\"#fb9f3a\"],[0.8888888888888888,\"#fdca26\"],[1.0,\"#f0f921\"]]}],\"heatmap\":[{\"type\":\"heatmap\",\"colorbar\":{\"outlinewidth\":0,\"ticks\":\"\"},\"colorscale\":[[0.0,\"#0d0887\"],[0.1111111111111111,\"#46039f\"],[0.2222222222222222,\"#7201a8\"],[0.3333333333333333,\"#9c179e\"],[0.4444444444444444,\"#bd3786\"],[0.5555555555555556,\"#d8576b\"],[0.6666666666666666,\"#ed7953\"],[0.7777777777777778,\"#fb9f3a\"],[0.8888888888888888,\"#fdca26\"],[1.0,\"#f0f921\"]]}],\"contourcarpet\":[{\"type\":\"contourcarpet\",\"colorbar\":{\"outlinewidth\":0,\"ticks\":\"\"}}],\"contour\":[{\"type\":\"contour\",\"colorbar\":{\"outlinewidth\":0,\"ticks\":\"\"},\"colorscale\":[[0.0,\"#0d0887\"],[0.1111111111111111,\"#46039f\"],[0.2222222222222222,\"#7201a8\"],[0.3333333333333333,\"#9c179e\"],[0.4444444444444444,\"#bd3786\"],[0.5555555555555556,\"#d8576b\"],[0.6666666666666666,\"#ed7953\"],[0.7777777777777778,\"#fb9f3a\"],[0.8888888888888888,\"#fdca26\"],[1.0,\"#f0f921\"]]}],\"surface\":[{\"type\":\"surface\",\"colorbar\":{\"outlinewidth\":0,\"ticks\":\"\"},\"colorscale\":[[0.0,\"#0d0887\"],[0.1111111111111111,\"#46039f\"],[0.2222222222222222,\"#7201a8\"],[0.3333333333333333,\"#9c179e\"],[0.4444444444444444,\"#bd3786\"],[0.5555555555555556,\"#d8576b\"],[0.6666666666666666,\"#ed7953\"],[0.7777777777777778,\"#fb9f3a\"],[0.8888888888888888,\"#fdca26\"],[1.0,\"#f0f921\"]]}],\"mesh3d\":[{\"type\":\"mesh3d\",\"colorbar\":{\"outlinewidth\":0,\"ticks\":\"\"}}],\"scatter\":[{\"fillpattern\":{\"fillmode\":\"overlay\",\"size\":10,\"solidity\":0.2},\"type\":\"scatter\"}],\"parcoords\":[{\"type\":\"parcoords\",\"line\":{\"colorbar\":{\"outlinewidth\":0,\"ticks\":\"\"}}}],\"scatterpolargl\":[{\"type\":\"scatterpolargl\",\"marker\":{\"colorbar\":{\"outlinewidth\":0,\"ticks\":\"\"}}}],\"bar\":[{\"error_x\":{\"color\":\"#2a3f5f\"},\"error_y\":{\"color\":\"#2a3f5f\"},\"marker\":{\"line\":{\"color\":\"#E5ECF6\",\"width\":0.5},\"pattern\":{\"fillmode\":\"overlay\",\"size\":10,\"solidity\":0.2}},\"type\":\"bar\"}],\"scattergeo\":[{\"type\":\"scattergeo\",\"marker\":{\"colorbar\":{\"outlinewidth\":0,\"ticks\":\"\"}}}],\"scatterpolar\":[{\"type\":\"scatterpolar\",\"marker\":{\"colorbar\":{\"outlinewidth\":0,\"ticks\":\"\"}}}],\"histogram\":[{\"marker\":{\"pattern\":{\"fillmode\":\"overlay\",\"size\":10,\"solidity\":0.2}},\"type\":\"histogram\"}],\"scattergl\":[{\"type\":\"scattergl\",\"marker\":{\"colorbar\":{\"outlinewidth\":0,\"ticks\":\"\"}}}],\"scatter3d\":[{\"type\":\"scatter3d\",\"line\":{\"colorbar\":{\"outlinewidth\":0,\"ticks\":\"\"}},\"marker\":{\"colorbar\":{\"outlinewidth\":0,\"ticks\":\"\"}}}],\"scattermap\":[{\"type\":\"scattermap\",\"marker\":{\"colorbar\":{\"outlinewidth\":0,\"ticks\":\"\"}}}],\"scattermapbox\":[{\"type\":\"scattermapbox\",\"marker\":{\"colorbar\":{\"outlinewidth\":0,\"ticks\":\"\"}}}],\"scatterternary\":[{\"type\":\"scatterternary\",\"marker\":{\"colorbar\":{\"outlinewidth\":0,\"ticks\":\"\"}}}],\"scattercarpet\":[{\"type\":\"scattercarpet\",\"marker\":{\"colorbar\":{\"outlinewidth\":0,\"ticks\":\"\"}}}],\"carpet\":[{\"aaxis\":{\"endlinecolor\":\"#2a3f5f\",\"gridcolor\":\"white\",\"linecolor\":\"white\",\"minorgridcolor\":\"white\",\"startlinecolor\":\"#2a3f5f\"},\"baxis\":{\"endlinecolor\":\"#2a3f5f\",\"gridcolor\":\"white\",\"linecolor\":\"white\",\"minorgridcolor\":\"white\",\"startlinecolor\":\"#2a3f5f\"},\"type\":\"carpet\"}],\"table\":[{\"cells\":{\"fill\":{\"color\":\"#EBF0F8\"},\"line\":{\"color\":\"white\"}},\"header\":{\"fill\":{\"color\":\"#C8D4E3\"},\"line\":{\"color\":\"white\"}},\"type\":\"table\"}],\"barpolar\":[{\"marker\":{\"line\":{\"color\":\"#E5ECF6\",\"width\":0.5},\"pattern\":{\"fillmode\":\"overlay\",\"size\":10,\"solidity\":0.2}},\"type\":\"barpolar\"}],\"pie\":[{\"automargin\":true,\"type\":\"pie\"}]},\"layout\":{\"autotypenumbers\":\"strict\",\"colorway\":[\"#636efa\",\"#EF553B\",\"#00cc96\",\"#ab63fa\",\"#FFA15A\",\"#19d3f3\",\"#FF6692\",\"#B6E880\",\"#FF97FF\",\"#FECB52\"],\"font\":{\"color\":\"#2a3f5f\"},\"hovermode\":\"closest\",\"hoverlabel\":{\"align\":\"left\"},\"paper_bgcolor\":\"white\",\"plot_bgcolor\":\"#E5ECF6\",\"polar\":{\"bgcolor\":\"#E5ECF6\",\"angularaxis\":{\"gridcolor\":\"white\",\"linecolor\":\"white\",\"ticks\":\"\"},\"radialaxis\":{\"gridcolor\":\"white\",\"linecolor\":\"white\",\"ticks\":\"\"}},\"ternary\":{\"bgcolor\":\"#E5ECF6\",\"aaxis\":{\"gridcolor\":\"white\",\"linecolor\":\"white\",\"ticks\":\"\"},\"baxis\":{\"gridcolor\":\"white\",\"linecolor\":\"white\",\"ticks\":\"\"},\"caxis\":{\"gridcolor\":\"white\",\"linecolor\":\"white\",\"ticks\":\"\"}},\"coloraxis\":{\"colorbar\":{\"outlinewidth\":0,\"ticks\":\"\"}},\"colorscale\":{\"sequential\":[[0.0,\"#0d0887\"],[0.1111111111111111,\"#46039f\"],[0.2222222222222222,\"#7201a8\"],[0.3333333333333333,\"#9c179e\"],[0.4444444444444444,\"#bd3786\"],[0.5555555555555556,\"#d8576b\"],[0.6666666666666666,\"#ed7953\"],[0.7777777777777778,\"#fb9f3a\"],[0.8888888888888888,\"#fdca26\"],[1.0,\"#f0f921\"]],\"sequentialminus\":[[0.0,\"#0d0887\"],[0.1111111111111111,\"#46039f\"],[0.2222222222222222,\"#7201a8\"],[0.3333333333333333,\"#9c179e\"],[0.4444444444444444,\"#bd3786\"],[0.5555555555555556,\"#d8576b\"],[0.6666666666666666,\"#ed7953\"],[0.7777777777777778,\"#fb9f3a\"],[0.8888888888888888,\"#fdca26\"],[1.0,\"#f0f921\"]],\"diverging\":[[0,\"#8e0152\"],[0.1,\"#c51b7d\"],[0.2,\"#de77ae\"],[0.3,\"#f1b6da\"],[0.4,\"#fde0ef\"],[0.5,\"#f7f7f7\"],[0.6,\"#e6f5d0\"],[0.7,\"#b8e186\"],[0.8,\"#7fbc41\"],[0.9,\"#4d9221\"],[1,\"#276419\"]]},\"xaxis\":{\"gridcolor\":\"white\",\"linecolor\":\"white\",\"ticks\":\"\",\"title\":{\"standoff\":15},\"zerolinecolor\":\"white\",\"automargin\":true,\"zerolinewidth\":2},\"yaxis\":{\"gridcolor\":\"white\",\"linecolor\":\"white\",\"ticks\":\"\",\"title\":{\"standoff\":15},\"zerolinecolor\":\"white\",\"automargin\":true,\"zerolinewidth\":2},\"scene\":{\"xaxis\":{\"backgroundcolor\":\"#E5ECF6\",\"gridcolor\":\"white\",\"linecolor\":\"white\",\"showbackground\":true,\"ticks\":\"\",\"zerolinecolor\":\"white\",\"gridwidth\":2},\"yaxis\":{\"backgroundcolor\":\"#E5ECF6\",\"gridcolor\":\"white\",\"linecolor\":\"white\",\"showbackground\":true,\"ticks\":\"\",\"zerolinecolor\":\"white\",\"gridwidth\":2},\"zaxis\":{\"backgroundcolor\":\"#E5ECF6\",\"gridcolor\":\"white\",\"linecolor\":\"white\",\"showbackground\":true,\"ticks\":\"\",\"zerolinecolor\":\"white\",\"gridwidth\":2}},\"shapedefaults\":{\"line\":{\"color\":\"#2a3f5f\"}},\"annotationdefaults\":{\"arrowcolor\":\"#2a3f5f\",\"arrowhead\":0,\"arrowwidth\":1},\"geo\":{\"bgcolor\":\"white\",\"landcolor\":\"#E5ECF6\",\"subunitcolor\":\"white\",\"showland\":true,\"showlakes\":true,\"lakecolor\":\"white\"},\"title\":{\"x\":0.05},\"mapbox\":{\"style\":\"light\"}}},\"xaxis\":{\"anchor\":\"y\",\"domain\":[0.0,1.0],\"title\":{\"text\":\"z\"}},\"yaxis\":{\"anchor\":\"x\",\"domain\":[0.0,1.0],\"title\":{\"text\":\"y\"},\"scaleanchor\":\"x\",\"scaleratio\":1},\"legend\":{\"tracegroupgap\":0},\"margin\":{\"t\":60},\"width\":640,\"height\":480},                        {\"responsive\": true}                    )                };            </script>        </div></td></tr><tr><td style='text-align: left'><details><summary style='font-weight:bold'>Polygon</summary><table><tr><td style='text-align:left'>area</td><td>5.939031536528554e-05</td></tr><tr><td style='text-align:left'>height</td><td>0.008700000000000006</td></tr><tr><td style='text-align:left'>perimeter</td><td>0.027369332464370438</td></tr><tr><td style='text-align:left'>width</td><td>0.008768227336460339</td></tr></table></details></td></tr></table></td></tr><tr><td style='text-align:left'>length</td><td>5171.222724142008</td></tr><tr><td style='text-align:left'>material</td><td><table style='margin:0'><tr><td>&#x27;BST500&#x27;</td></tr><tr><td>&#x27;steel&#x27;</td></tr></table></td></tr><tr><td style='text-align:left'>ring_temperatures</td><td>array([1570.05915393, 1567.12701904, 1558.34092613, 1543.71864333,\n",
       "       1523.23735286, 1496.84675482, 1464.74408402, 1428.15944014,\n",
       "       1390.54359123, 1358.13149   , 1337.87659106])</td></tr><tr><td style='text-align:left'>strain</td><td>np.float64(0.5607017311212023)</td></tr><tr><td style='text-align:left'>surface_temperature</td><td>np.float64(1337.876591055721)</td></tr><tr><td style='text-align:left'>t</td><td>np.float64(36.875179665279155)</td></tr><tr><td style='text-align:left'>temperature</td><td>np.float64(1425.8613020468924)</td></tr><tr><td style='text-align:left'>weight</td><td>2400</td></tr><tr><td style='text-align:left'>width</td><td>np.float64(0.008768227336460339)</td></tr></table></details></td></tr></table>"
      ]
     },
     "execution_count": 11,
     "metadata": {},
     "output_type": "execute_result"
    }
   ],
   "execution_count": 11
  },
  {
   "metadata": {
    "ExecuteTime": {
     "end_time": "2025-06-11T11:43:16.496503Z",
     "start_time": "2025-06-11T11:25:13.914889Z"
    }
   },
   "cell_type": "code",
   "source": "rolling_train_e107.solve(in_profile)",
   "id": "34096b488b9338e9",
   "outputs": [
    {
     "name": "stderr",
     "output_type": "stream",
     "text": [
      "Solution iteration of TwoRollPass '22-V' exceeded the maximum iteration count of 100. Continuing anyway.\n",
      "Solution iteration of TwoRollPass '23-H' exceeded the maximum iteration count of 100. Continuing anyway.\n",
      "Solution iteration of TwoRollPass '27-H' exceeded the maximum iteration count of 100. Continuing anyway.\n"
     ]
    },
    {
     "data": {
      "text/plain": [
       "Profile(\n",
       "    classifiers={'false_round', 'generic_elongation', 'round', 'symmetric'},\n",
       "    core_temperature=np.float64(1564.0246198859436),\n",
       "    cross_section=Polygon(\n",
       "        area=5.8962201229988085e-05,\n",
       "        height=0.008700000000000006,\n",
       "        perimeter=0.027243885509781043,\n",
       "        width=0.008532317323115993,\n",
       "        ),\n",
       "    length=5208.733944907869,\n",
       "    material=['BST500', 'steel'],\n",
       "    ring_temperatures=array([1564.02461989, 1561.13466478, 1552.47023573, 1538.03228003,\n",
       "           1517.78168798, 1491.70612299, 1460.17725746, 1424.73026868,\n",
       "           1388.99526951, 1358.82742219, 1340.17168701]),\n",
       "    strain=np.float64(0.5201949000088957),\n",
       "    surface_temperature=np.float64(1340.1716870065247),\n",
       "    t=np.float64(36.85417441104773),\n",
       "    temperature=np.float64(1423.7200086555586),\n",
       "    weight=2400,\n",
       "    width=np.float64(0.008532317323115993),\n",
       "    )"
      ],
      "text/html": [
       "<table><tr><td style='text-align: center'><div>                        <script type=\"text/javascript\">window.PlotlyConfig = {MathJaxConfig: 'local'};</script>\n",
       "        <script charset=\"utf-8\" src=\"https://cdn.plot.ly/plotly-3.0.1.min.js\"></script>                <div id=\"b473fb03-7c03-4afe-b25f-7475f82734e3\" class=\"plotly-graph-div\" style=\"height:480px; width:640px;\"></div>            <script type=\"text/javascript\">                window.PLOTLYENV=window.PLOTLYENV || {};                                if (document.getElementById(\"b473fb03-7c03-4afe-b25f-7475f82734e3\")) {                    Plotly.newPlot(                        \"b473fb03-7c03-4afe-b25f-7475f82734e3\",                        [{\"hovertemplate\":\"z=%{x}\\u003cbr\\u003ey=%{y}\\u003cextra\\u003e\\u003c\\u002fextra\\u003e\",\"legendgroup\":\"\",\"line\":{\"color\":\"#636efa\",\"dash\":\"solid\"},\"marker\":{\"symbol\":\"circle\"},\"mode\":\"lines\",\"name\":\"\",\"orientation\":\"v\",\"showlegend\":false,\"x\":{\"dtype\":\"f8\",\"bdata\":\"AAAAAAAAAAAEbinfihAjP9SVhOP9EDM\\u002fYvHEmGecPD+VVUg6txZDP2B46f6u40c\\u002fnwxZnIW2TD93qHcXY8hQP+oLlJ03OlM\\u002fGJHV4MOxVT+GXezD4C1YP1W7AGKnrVo\\u002ft\\u002fvKdRgyXT8GWeOZPLZfP01x+UxbGmE\\u002fZMRJzPNWYj\\u002fNK0rLGpFjP+T2wFq9yGQ\\u002fS5mSq\\u002fj9ZT80Eal1BTFnP7ge0RbVYWg\\u002fBBrft1KQaT\\u002fctMr9tbxqP6hhgicE52s\\u002fZ2CfzccObT8laVFFHzRuP3JlOdv4Vm8\\u002fkGdVz5Q6cD+6L5WC68ZwP4xAzPbzQnE\\u002fAiDlPmR5cT+MQMz280JxP7ovlYLrxnA\\u002fkGdVz5Q6cD9yZTnb+FZvPyVpUUUfNG4\\u002fZ2CfzccObT+oYYInBOdrP9y0yv21vGo\\u002fBBrft1KQaT+4HtEW1WFoPzQRqXUFMWc\\u002fS5mSq\\u002fj9ZT\\u002fk9sBavchkP80rSssakWM\\u002fZMRJzPNWYj9NcflMWxphPwZZ45k8tl8\\u002ft\\u002fvKdRgyXT9VuwBip61aP4Zd7MPgLVg\\u002fGJHV4MOxVT\\u002fqC5SdNzpTP3eodxdjyFA\\u002fnwxZnIW2TD9geOn+ruNHP5VVSDq3FkM\\u002fYvHEmGecPD\\u002fUlYTj\\u002fRAzPwRuKd+KECM\\u002fAAAAAAAAAAAEbinfihAjv9SVhOP9EDO\\u002fYvHEmGecPL+VVUg6txZDv2B46f6u40e\\u002fnwxZnIW2TL93qHcXY8hQv+oLlJ03OlO\\u002fGJHV4MOxVb+GXezD4C1Yv1W7AGKnrVq\\u002ft\\u002fvKdRgyXb8GWeOZPLZfv01x+UxbGmG\\u002fZMRJzPNWYr\\u002fNK0rLGpFjv+T2wFq9yGS\\u002fS5mSq\\u002fj9Zb80Eal1BTFnv7ge0RbVYWi\\u002fBBrft1KQab\\u002fctMr9tbxqv6hhgicE52u\\u002fZ2CfzccObb8laVFFHzRuv3JlOdv4Vm+\\u002fkGdVz5Q6cL+6L5WC68Zwv4xAzPbzQnG\\u002fAiDlPmR5cb+MQMz280Jxv7ovlYLrxnC\\u002fkGdVz5Q6cL9yZTnb+FZvvyVpUUUfNG6\\u002fZ2CfzccObb+oYYInBOdrv9y0yv21vGq\\u002fBBrft1KQab+4HtEW1WFovzQRqXUFMWe\\u002fS5mSq\\u002fj9Zb\\u002fk9sBavchkv80rSssakWO\\u002fZMRJzPNWYr9NcflMWxphvwZZ45k8tl+\\u002ft\\u002fvKdRgyXb9VuwBip61av4Zd7MPgLVi\\u002fGJHV4MOxVb\\u002fqC5SdNzpTv3eodxdjyFC\\u002fnwxZnIW2TL9geOn+ruNHv5VVSDq3FkO\\u002fYvHEmGecPL\\u002fUlYTj\\u002fRAzvwRuKd+KECO\\u002fAAAAAAAAAAA=\"},\"xaxis\":\"x\",\"y\":{\"dtype\":\"f8\",\"bdata\":\"rDXNO07RcT+LF7LVns1xP\\u002frltVTGxXE\\u002fdw1dyry5cT\\u002fB3p9VHadxPwQJENIaj3E\\u002fLhd2oH1ycT+zx3rF509xP9Il\\u002fWH2JXE\\u002fJORkGG\\u002f2cD\\u002f9ZhbdG8FwP+B0BLztgnA\\u002fBC1jk0A9cD\\u002fc7uiNBuJvP\\u002f3TASIaPW8\\u002fdlN27z+Dbj+IxxcBl7ttPzOq0d8h5mw\\u002fTYBwZcr7az+tFzEM3PpqP5WwHsci6Gk\\u002fGKHsKQ6\\u002faD+92X3xdXBnPwpIgHoNB2Y\\u002fi\\u002fM9vg6AZD+opjlP9bJiP8NBkO2hr2A\\u002fngaqOivkXD8cjLkRv8FWPxGBrX7fvlA\\u002fAAAAAAAAAAARga1+375QvxyMuRG\\u002fwVa\\u002fngaqOivkXL\\u002fDQZDtoa9gv6imOU\\u002f1smK\\u002fi\\u002fM9vg6AZL8KSIB6DQdmv73ZffF1cGe\\u002fGKHsKQ6\\u002faL+VsB7HIuhpv60XMQzc+mq\\u002fTYBwZcr7a78zqtHfIeZsv4jHFwGXu22\\u002fdlN27z+Dbr\\u002f90wEiGj1vv9zu6I0G4m+\\u002fBC1jk0A9cL\\u002fgdAS87YJwv\\u002f1mFt0bwXC\\u002fJORkGG\\u002f2cL\\u002fSJf1h9iVxv7PHesXnT3G\\u002fLhd2oH1ycb8ECRDSGo9xv8Hen1Udp3G\\u002fdw1dyry5cb\\u002f65bVUxsVxv4sXstWezXG\\u002frDXNO07Rcb+LF7LVns1xv\\u002frltVTGxXG\\u002fdw1dyry5cb\\u002fB3p9VHadxvwQJENIaj3G\\u002fLhd2oH1ycb+zx3rF509xv9Il\\u002fWH2JXG\\u002fJORkGG\\u002f2cL\\u002f9ZhbdG8Fwv+B0BLztgnC\\u002fBC1jk0A9cL\\u002fc7uiNBuJvv\\u002f3TASIaPW+\\u002fdlN27z+Dbr+IxxcBl7ttvzOq0d8h5my\\u002fTYBwZcr7a7+tFzEM3Ppqv5WwHsci6Gm\\u002fGKHsKQ6\\u002faL+92X3xdXBnvwpIgHoNB2a\\u002fi\\u002fM9vg6AZL+opjlP9bJiv8NBkO2hr2C\\u002fngaqOivkXL8cjLkRv8FWvxGBrX7fvlC\\u002fAAAAAAAAAAARga1+375QPxyMuRG\\u002fwVY\\u002fngaqOivkXD\\u002fDQZDtoa9gP6imOU\\u002f1smI\\u002fi\\u002fM9vg6AZD8KSIB6DQdmP73ZffF1cGc\\u002fGKHsKQ6\\u002faD+VsB7HIuhpP60XMQzc+mo\\u002fTYBwZcr7az8zqtHfIeZsP4jHFwGXu20\\u002fdlN27z+Dbj\\u002f90wEiGj1vP9zu6I0G4m8\\u002fBC1jk0A9cD\\u002fgdAS87YJwP\\u002f1mFt0bwXA\\u002fJORkGG\\u002f2cD\\u002fSJf1h9iVxP7PHesXnT3E\\u002fLhd2oH1ycT8ECRDSGo9xP8Hen1Udp3E\\u002fdw1dyry5cT\\u002f65bVUxsVxP4sXstWezXE\\u002frDXNO07RcT8=\"},\"yaxis\":\"y\",\"type\":\"scatter\",\"fill\":\"toself\"}],                        {\"template\":{\"data\":{\"histogram2dcontour\":[{\"type\":\"histogram2dcontour\",\"colorbar\":{\"outlinewidth\":0,\"ticks\":\"\"},\"colorscale\":[[0.0,\"#0d0887\"],[0.1111111111111111,\"#46039f\"],[0.2222222222222222,\"#7201a8\"],[0.3333333333333333,\"#9c179e\"],[0.4444444444444444,\"#bd3786\"],[0.5555555555555556,\"#d8576b\"],[0.6666666666666666,\"#ed7953\"],[0.7777777777777778,\"#fb9f3a\"],[0.8888888888888888,\"#fdca26\"],[1.0,\"#f0f921\"]]}],\"choropleth\":[{\"type\":\"choropleth\",\"colorbar\":{\"outlinewidth\":0,\"ticks\":\"\"}}],\"histogram2d\":[{\"type\":\"histogram2d\",\"colorbar\":{\"outlinewidth\":0,\"ticks\":\"\"},\"colorscale\":[[0.0,\"#0d0887\"],[0.1111111111111111,\"#46039f\"],[0.2222222222222222,\"#7201a8\"],[0.3333333333333333,\"#9c179e\"],[0.4444444444444444,\"#bd3786\"],[0.5555555555555556,\"#d8576b\"],[0.6666666666666666,\"#ed7953\"],[0.7777777777777778,\"#fb9f3a\"],[0.8888888888888888,\"#fdca26\"],[1.0,\"#f0f921\"]]}],\"heatmap\":[{\"type\":\"heatmap\",\"colorbar\":{\"outlinewidth\":0,\"ticks\":\"\"},\"colorscale\":[[0.0,\"#0d0887\"],[0.1111111111111111,\"#46039f\"],[0.2222222222222222,\"#7201a8\"],[0.3333333333333333,\"#9c179e\"],[0.4444444444444444,\"#bd3786\"],[0.5555555555555556,\"#d8576b\"],[0.6666666666666666,\"#ed7953\"],[0.7777777777777778,\"#fb9f3a\"],[0.8888888888888888,\"#fdca26\"],[1.0,\"#f0f921\"]]}],\"contourcarpet\":[{\"type\":\"contourcarpet\",\"colorbar\":{\"outlinewidth\":0,\"ticks\":\"\"}}],\"contour\":[{\"type\":\"contour\",\"colorbar\":{\"outlinewidth\":0,\"ticks\":\"\"},\"colorscale\":[[0.0,\"#0d0887\"],[0.1111111111111111,\"#46039f\"],[0.2222222222222222,\"#7201a8\"],[0.3333333333333333,\"#9c179e\"],[0.4444444444444444,\"#bd3786\"],[0.5555555555555556,\"#d8576b\"],[0.6666666666666666,\"#ed7953\"],[0.7777777777777778,\"#fb9f3a\"],[0.8888888888888888,\"#fdca26\"],[1.0,\"#f0f921\"]]}],\"surface\":[{\"type\":\"surface\",\"colorbar\":{\"outlinewidth\":0,\"ticks\":\"\"},\"colorscale\":[[0.0,\"#0d0887\"],[0.1111111111111111,\"#46039f\"],[0.2222222222222222,\"#7201a8\"],[0.3333333333333333,\"#9c179e\"],[0.4444444444444444,\"#bd3786\"],[0.5555555555555556,\"#d8576b\"],[0.6666666666666666,\"#ed7953\"],[0.7777777777777778,\"#fb9f3a\"],[0.8888888888888888,\"#fdca26\"],[1.0,\"#f0f921\"]]}],\"mesh3d\":[{\"type\":\"mesh3d\",\"colorbar\":{\"outlinewidth\":0,\"ticks\":\"\"}}],\"scatter\":[{\"fillpattern\":{\"fillmode\":\"overlay\",\"size\":10,\"solidity\":0.2},\"type\":\"scatter\"}],\"parcoords\":[{\"type\":\"parcoords\",\"line\":{\"colorbar\":{\"outlinewidth\":0,\"ticks\":\"\"}}}],\"scatterpolargl\":[{\"type\":\"scatterpolargl\",\"marker\":{\"colorbar\":{\"outlinewidth\":0,\"ticks\":\"\"}}}],\"bar\":[{\"error_x\":{\"color\":\"#2a3f5f\"},\"error_y\":{\"color\":\"#2a3f5f\"},\"marker\":{\"line\":{\"color\":\"#E5ECF6\",\"width\":0.5},\"pattern\":{\"fillmode\":\"overlay\",\"size\":10,\"solidity\":0.2}},\"type\":\"bar\"}],\"scattergeo\":[{\"type\":\"scattergeo\",\"marker\":{\"colorbar\":{\"outlinewidth\":0,\"ticks\":\"\"}}}],\"scatterpolar\":[{\"type\":\"scatterpolar\",\"marker\":{\"colorbar\":{\"outlinewidth\":0,\"ticks\":\"\"}}}],\"histogram\":[{\"marker\":{\"pattern\":{\"fillmode\":\"overlay\",\"size\":10,\"solidity\":0.2}},\"type\":\"histogram\"}],\"scattergl\":[{\"type\":\"scattergl\",\"marker\":{\"colorbar\":{\"outlinewidth\":0,\"ticks\":\"\"}}}],\"scatter3d\":[{\"type\":\"scatter3d\",\"line\":{\"colorbar\":{\"outlinewidth\":0,\"ticks\":\"\"}},\"marker\":{\"colorbar\":{\"outlinewidth\":0,\"ticks\":\"\"}}}],\"scattermap\":[{\"type\":\"scattermap\",\"marker\":{\"colorbar\":{\"outlinewidth\":0,\"ticks\":\"\"}}}],\"scattermapbox\":[{\"type\":\"scattermapbox\",\"marker\":{\"colorbar\":{\"outlinewidth\":0,\"ticks\":\"\"}}}],\"scatterternary\":[{\"type\":\"scatterternary\",\"marker\":{\"colorbar\":{\"outlinewidth\":0,\"ticks\":\"\"}}}],\"scattercarpet\":[{\"type\":\"scattercarpet\",\"marker\":{\"colorbar\":{\"outlinewidth\":0,\"ticks\":\"\"}}}],\"carpet\":[{\"aaxis\":{\"endlinecolor\":\"#2a3f5f\",\"gridcolor\":\"white\",\"linecolor\":\"white\",\"minorgridcolor\":\"white\",\"startlinecolor\":\"#2a3f5f\"},\"baxis\":{\"endlinecolor\":\"#2a3f5f\",\"gridcolor\":\"white\",\"linecolor\":\"white\",\"minorgridcolor\":\"white\",\"startlinecolor\":\"#2a3f5f\"},\"type\":\"carpet\"}],\"table\":[{\"cells\":{\"fill\":{\"color\":\"#EBF0F8\"},\"line\":{\"color\":\"white\"}},\"header\":{\"fill\":{\"color\":\"#C8D4E3\"},\"line\":{\"color\":\"white\"}},\"type\":\"table\"}],\"barpolar\":[{\"marker\":{\"line\":{\"color\":\"#E5ECF6\",\"width\":0.5},\"pattern\":{\"fillmode\":\"overlay\",\"size\":10,\"solidity\":0.2}},\"type\":\"barpolar\"}],\"pie\":[{\"automargin\":true,\"type\":\"pie\"}]},\"layout\":{\"autotypenumbers\":\"strict\",\"colorway\":[\"#636efa\",\"#EF553B\",\"#00cc96\",\"#ab63fa\",\"#FFA15A\",\"#19d3f3\",\"#FF6692\",\"#B6E880\",\"#FF97FF\",\"#FECB52\"],\"font\":{\"color\":\"#2a3f5f\"},\"hovermode\":\"closest\",\"hoverlabel\":{\"align\":\"left\"},\"paper_bgcolor\":\"white\",\"plot_bgcolor\":\"#E5ECF6\",\"polar\":{\"bgcolor\":\"#E5ECF6\",\"angularaxis\":{\"gridcolor\":\"white\",\"linecolor\":\"white\",\"ticks\":\"\"},\"radialaxis\":{\"gridcolor\":\"white\",\"linecolor\":\"white\",\"ticks\":\"\"}},\"ternary\":{\"bgcolor\":\"#E5ECF6\",\"aaxis\":{\"gridcolor\":\"white\",\"linecolor\":\"white\",\"ticks\":\"\"},\"baxis\":{\"gridcolor\":\"white\",\"linecolor\":\"white\",\"ticks\":\"\"},\"caxis\":{\"gridcolor\":\"white\",\"linecolor\":\"white\",\"ticks\":\"\"}},\"coloraxis\":{\"colorbar\":{\"outlinewidth\":0,\"ticks\":\"\"}},\"colorscale\":{\"sequential\":[[0.0,\"#0d0887\"],[0.1111111111111111,\"#46039f\"],[0.2222222222222222,\"#7201a8\"],[0.3333333333333333,\"#9c179e\"],[0.4444444444444444,\"#bd3786\"],[0.5555555555555556,\"#d8576b\"],[0.6666666666666666,\"#ed7953\"],[0.7777777777777778,\"#fb9f3a\"],[0.8888888888888888,\"#fdca26\"],[1.0,\"#f0f921\"]],\"sequentialminus\":[[0.0,\"#0d0887\"],[0.1111111111111111,\"#46039f\"],[0.2222222222222222,\"#7201a8\"],[0.3333333333333333,\"#9c179e\"],[0.4444444444444444,\"#bd3786\"],[0.5555555555555556,\"#d8576b\"],[0.6666666666666666,\"#ed7953\"],[0.7777777777777778,\"#fb9f3a\"],[0.8888888888888888,\"#fdca26\"],[1.0,\"#f0f921\"]],\"diverging\":[[0,\"#8e0152\"],[0.1,\"#c51b7d\"],[0.2,\"#de77ae\"],[0.3,\"#f1b6da\"],[0.4,\"#fde0ef\"],[0.5,\"#f7f7f7\"],[0.6,\"#e6f5d0\"],[0.7,\"#b8e186\"],[0.8,\"#7fbc41\"],[0.9,\"#4d9221\"],[1,\"#276419\"]]},\"xaxis\":{\"gridcolor\":\"white\",\"linecolor\":\"white\",\"ticks\":\"\",\"title\":{\"standoff\":15},\"zerolinecolor\":\"white\",\"automargin\":true,\"zerolinewidth\":2},\"yaxis\":{\"gridcolor\":\"white\",\"linecolor\":\"white\",\"ticks\":\"\",\"title\":{\"standoff\":15},\"zerolinecolor\":\"white\",\"automargin\":true,\"zerolinewidth\":2},\"scene\":{\"xaxis\":{\"backgroundcolor\":\"#E5ECF6\",\"gridcolor\":\"white\",\"linecolor\":\"white\",\"showbackground\":true,\"ticks\":\"\",\"zerolinecolor\":\"white\",\"gridwidth\":2},\"yaxis\":{\"backgroundcolor\":\"#E5ECF6\",\"gridcolor\":\"white\",\"linecolor\":\"white\",\"showbackground\":true,\"ticks\":\"\",\"zerolinecolor\":\"white\",\"gridwidth\":2},\"zaxis\":{\"backgroundcolor\":\"#E5ECF6\",\"gridcolor\":\"white\",\"linecolor\":\"white\",\"showbackground\":true,\"ticks\":\"\",\"zerolinecolor\":\"white\",\"gridwidth\":2}},\"shapedefaults\":{\"line\":{\"color\":\"#2a3f5f\"}},\"annotationdefaults\":{\"arrowcolor\":\"#2a3f5f\",\"arrowhead\":0,\"arrowwidth\":1},\"geo\":{\"bgcolor\":\"white\",\"landcolor\":\"#E5ECF6\",\"subunitcolor\":\"white\",\"showland\":true,\"showlakes\":true,\"lakecolor\":\"white\"},\"title\":{\"x\":0.05},\"mapbox\":{\"style\":\"light\"}}},\"xaxis\":{\"anchor\":\"y\",\"domain\":[0.0,1.0],\"title\":{\"text\":\"z\"}},\"yaxis\":{\"anchor\":\"x\",\"domain\":[0.0,1.0],\"title\":{\"text\":\"y\"},\"scaleanchor\":\"x\",\"scaleratio\":1},\"legend\":{\"tracegroupgap\":0},\"margin\":{\"t\":60},\"width\":640,\"height\":480},                        {\"responsive\": true}                    )                };            </script>        </div></td></tr><tr><td style='text-align: left'><details><summary style='font-weight:bold'>Profile</summary><table><tr><td style='text-align:left'>classifiers</td><td><table style='margin:0'><tr><td>&#x27;false_round&#x27;</td></tr><tr><td>&#x27;round&#x27;</td></tr><tr><td>&#x27;symmetric&#x27;</td></tr><tr><td>&#x27;generic_elongation&#x27;</td></tr></table></td></tr><tr><td style='text-align:left'>core_temperature</td><td>np.float64(1564.0246198859436)</td></tr><tr><td style='text-align:left'>cross_section</td><td><table><tr><td style='text-align: center'><div>                        <script type=\"text/javascript\">window.PlotlyConfig = {MathJaxConfig: 'local'};</script>\n",
       "        <script charset=\"utf-8\" src=\"https://cdn.plot.ly/plotly-3.0.1.min.js\"></script>                <div id=\"e09dfb51-61c0-4cc6-bf66-01f0f992a00a\" class=\"plotly-graph-div\" style=\"height:480px; width:640px;\"></div>            <script type=\"text/javascript\">                window.PLOTLYENV=window.PLOTLYENV || {};                                if (document.getElementById(\"e09dfb51-61c0-4cc6-bf66-01f0f992a00a\")) {                    Plotly.newPlot(                        \"e09dfb51-61c0-4cc6-bf66-01f0f992a00a\",                        [{\"hovertemplate\":\"z=%{x}\\u003cbr\\u003ey=%{y}\\u003cextra\\u003e\\u003c\\u002fextra\\u003e\",\"legendgroup\":\"\",\"line\":{\"color\":\"#636efa\",\"dash\":\"solid\"},\"marker\":{\"symbol\":\"circle\"},\"mode\":\"lines\",\"name\":\"\",\"orientation\":\"v\",\"showlegend\":false,\"x\":{\"dtype\":\"f8\",\"bdata\":\"AAAAAAAAAAAEbinfihAjP9SVhOP9EDM\\u002fYvHEmGecPD+VVUg6txZDP2B46f6u40c\\u002fnwxZnIW2TD93qHcXY8hQP+oLlJ03OlM\\u002fGJHV4MOxVT+GXezD4C1YP1W7AGKnrVo\\u002ft\\u002fvKdRgyXT8GWeOZPLZfP01x+UxbGmE\\u002fZMRJzPNWYj\\u002fNK0rLGpFjP+T2wFq9yGQ\\u002fS5mSq\\u002fj9ZT80Eal1BTFnP7ge0RbVYWg\\u002fBBrft1KQaT\\u002fctMr9tbxqP6hhgicE52s\\u002fZ2CfzccObT8laVFFHzRuP3JlOdv4Vm8\\u002fkGdVz5Q6cD+6L5WC68ZwP4xAzPbzQnE\\u002fAiDlPmR5cT+MQMz280JxP7ovlYLrxnA\\u002fkGdVz5Q6cD9yZTnb+FZvPyVpUUUfNG4\\u002fZ2CfzccObT+oYYInBOdrP9y0yv21vGo\\u002fBBrft1KQaT+4HtEW1WFoPzQRqXUFMWc\\u002fS5mSq\\u002fj9ZT\\u002fk9sBavchkP80rSssakWM\\u002fZMRJzPNWYj9NcflMWxphPwZZ45k8tl8\\u002ft\\u002fvKdRgyXT9VuwBip61aP4Zd7MPgLVg\\u002fGJHV4MOxVT\\u002fqC5SdNzpTP3eodxdjyFA\\u002fnwxZnIW2TD9geOn+ruNHP5VVSDq3FkM\\u002fYvHEmGecPD\\u002fUlYTj\\u002fRAzPwRuKd+KECM\\u002fAAAAAAAAAAAEbinfihAjv9SVhOP9EDO\\u002fYvHEmGecPL+VVUg6txZDv2B46f6u40e\\u002fnwxZnIW2TL93qHcXY8hQv+oLlJ03OlO\\u002fGJHV4MOxVb+GXezD4C1Yv1W7AGKnrVq\\u002ft\\u002fvKdRgyXb8GWeOZPLZfv01x+UxbGmG\\u002fZMRJzPNWYr\\u002fNK0rLGpFjv+T2wFq9yGS\\u002fS5mSq\\u002fj9Zb80Eal1BTFnv7ge0RbVYWi\\u002fBBrft1KQab\\u002fctMr9tbxqv6hhgicE52u\\u002fZ2CfzccObb8laVFFHzRuv3JlOdv4Vm+\\u002fkGdVz5Q6cL+6L5WC68Zwv4xAzPbzQnG\\u002fAiDlPmR5cb+MQMz280Jxv7ovlYLrxnC\\u002fkGdVz5Q6cL9yZTnb+FZvvyVpUUUfNG6\\u002fZ2CfzccObb+oYYInBOdrv9y0yv21vGq\\u002fBBrft1KQab+4HtEW1WFovzQRqXUFMWe\\u002fS5mSq\\u002fj9Zb\\u002fk9sBavchkv80rSssakWO\\u002fZMRJzPNWYr9NcflMWxphvwZZ45k8tl+\\u002ft\\u002fvKdRgyXb9VuwBip61av4Zd7MPgLVi\\u002fGJHV4MOxVb\\u002fqC5SdNzpTv3eodxdjyFC\\u002fnwxZnIW2TL9geOn+ruNHv5VVSDq3FkO\\u002fYvHEmGecPL\\u002fUlYTj\\u002fRAzvwRuKd+KECO\\u002fAAAAAAAAAAA=\"},\"xaxis\":\"x\",\"y\":{\"dtype\":\"f8\",\"bdata\":\"rDXNO07RcT+LF7LVns1xP\\u002frltVTGxXE\\u002fdw1dyry5cT\\u002fB3p9VHadxPwQJENIaj3E\\u002fLhd2oH1ycT+zx3rF509xP9Il\\u002fWH2JXE\\u002fJORkGG\\u002f2cD\\u002f9ZhbdG8FwP+B0BLztgnA\\u002fBC1jk0A9cD\\u002fc7uiNBuJvP\\u002f3TASIaPW8\\u002fdlN27z+Dbj+IxxcBl7ttPzOq0d8h5mw\\u002fTYBwZcr7az+tFzEM3PpqP5WwHsci6Gk\\u002fGKHsKQ6\\u002faD+92X3xdXBnPwpIgHoNB2Y\\u002fi\\u002fM9vg6AZD+opjlP9bJiP8NBkO2hr2A\\u002fngaqOivkXD8cjLkRv8FWPxGBrX7fvlA\\u002fAAAAAAAAAAARga1+375QvxyMuRG\\u002fwVa\\u002fngaqOivkXL\\u002fDQZDtoa9gv6imOU\\u002f1smK\\u002fi\\u002fM9vg6AZL8KSIB6DQdmv73ZffF1cGe\\u002fGKHsKQ6\\u002faL+VsB7HIuhpv60XMQzc+mq\\u002fTYBwZcr7a78zqtHfIeZsv4jHFwGXu22\\u002fdlN27z+Dbr\\u002f90wEiGj1vv9zu6I0G4m+\\u002fBC1jk0A9cL\\u002fgdAS87YJwv\\u002f1mFt0bwXC\\u002fJORkGG\\u002f2cL\\u002fSJf1h9iVxv7PHesXnT3G\\u002fLhd2oH1ycb8ECRDSGo9xv8Hen1Udp3G\\u002fdw1dyry5cb\\u002f65bVUxsVxv4sXstWezXG\\u002frDXNO07Rcb+LF7LVns1xv\\u002frltVTGxXG\\u002fdw1dyry5cb\\u002fB3p9VHadxvwQJENIaj3G\\u002fLhd2oH1ycb+zx3rF509xv9Il\\u002fWH2JXG\\u002fJORkGG\\u002f2cL\\u002f9ZhbdG8Fwv+B0BLztgnC\\u002fBC1jk0A9cL\\u002fc7uiNBuJvv\\u002f3TASIaPW+\\u002fdlN27z+Dbr+IxxcBl7ttvzOq0d8h5my\\u002fTYBwZcr7a7+tFzEM3Ppqv5WwHsci6Gm\\u002fGKHsKQ6\\u002faL+92X3xdXBnvwpIgHoNB2a\\u002fi\\u002fM9vg6AZL+opjlP9bJiv8NBkO2hr2C\\u002fngaqOivkXL8cjLkRv8FWvxGBrX7fvlC\\u002fAAAAAAAAAAARga1+375QPxyMuRG\\u002fwVY\\u002fngaqOivkXD\\u002fDQZDtoa9gP6imOU\\u002f1smI\\u002fi\\u002fM9vg6AZD8KSIB6DQdmP73ZffF1cGc\\u002fGKHsKQ6\\u002faD+VsB7HIuhpP60XMQzc+mo\\u002fTYBwZcr7az8zqtHfIeZsP4jHFwGXu20\\u002fdlN27z+Dbj\\u002f90wEiGj1vP9zu6I0G4m8\\u002fBC1jk0A9cD\\u002fgdAS87YJwP\\u002f1mFt0bwXA\\u002fJORkGG\\u002f2cD\\u002fSJf1h9iVxP7PHesXnT3E\\u002fLhd2oH1ycT8ECRDSGo9xP8Hen1Udp3E\\u002fdw1dyry5cT\\u002f65bVUxsVxP4sXstWezXE\\u002frDXNO07RcT8=\"},\"yaxis\":\"y\",\"type\":\"scatter\",\"fill\":\"toself\"}],                        {\"template\":{\"data\":{\"histogram2dcontour\":[{\"type\":\"histogram2dcontour\",\"colorbar\":{\"outlinewidth\":0,\"ticks\":\"\"},\"colorscale\":[[0.0,\"#0d0887\"],[0.1111111111111111,\"#46039f\"],[0.2222222222222222,\"#7201a8\"],[0.3333333333333333,\"#9c179e\"],[0.4444444444444444,\"#bd3786\"],[0.5555555555555556,\"#d8576b\"],[0.6666666666666666,\"#ed7953\"],[0.7777777777777778,\"#fb9f3a\"],[0.8888888888888888,\"#fdca26\"],[1.0,\"#f0f921\"]]}],\"choropleth\":[{\"type\":\"choropleth\",\"colorbar\":{\"outlinewidth\":0,\"ticks\":\"\"}}],\"histogram2d\":[{\"type\":\"histogram2d\",\"colorbar\":{\"outlinewidth\":0,\"ticks\":\"\"},\"colorscale\":[[0.0,\"#0d0887\"],[0.1111111111111111,\"#46039f\"],[0.2222222222222222,\"#7201a8\"],[0.3333333333333333,\"#9c179e\"],[0.4444444444444444,\"#bd3786\"],[0.5555555555555556,\"#d8576b\"],[0.6666666666666666,\"#ed7953\"],[0.7777777777777778,\"#fb9f3a\"],[0.8888888888888888,\"#fdca26\"],[1.0,\"#f0f921\"]]}],\"heatmap\":[{\"type\":\"heatmap\",\"colorbar\":{\"outlinewidth\":0,\"ticks\":\"\"},\"colorscale\":[[0.0,\"#0d0887\"],[0.1111111111111111,\"#46039f\"],[0.2222222222222222,\"#7201a8\"],[0.3333333333333333,\"#9c179e\"],[0.4444444444444444,\"#bd3786\"],[0.5555555555555556,\"#d8576b\"],[0.6666666666666666,\"#ed7953\"],[0.7777777777777778,\"#fb9f3a\"],[0.8888888888888888,\"#fdca26\"],[1.0,\"#f0f921\"]]}],\"contourcarpet\":[{\"type\":\"contourcarpet\",\"colorbar\":{\"outlinewidth\":0,\"ticks\":\"\"}}],\"contour\":[{\"type\":\"contour\",\"colorbar\":{\"outlinewidth\":0,\"ticks\":\"\"},\"colorscale\":[[0.0,\"#0d0887\"],[0.1111111111111111,\"#46039f\"],[0.2222222222222222,\"#7201a8\"],[0.3333333333333333,\"#9c179e\"],[0.4444444444444444,\"#bd3786\"],[0.5555555555555556,\"#d8576b\"],[0.6666666666666666,\"#ed7953\"],[0.7777777777777778,\"#fb9f3a\"],[0.8888888888888888,\"#fdca26\"],[1.0,\"#f0f921\"]]}],\"surface\":[{\"type\":\"surface\",\"colorbar\":{\"outlinewidth\":0,\"ticks\":\"\"},\"colorscale\":[[0.0,\"#0d0887\"],[0.1111111111111111,\"#46039f\"],[0.2222222222222222,\"#7201a8\"],[0.3333333333333333,\"#9c179e\"],[0.4444444444444444,\"#bd3786\"],[0.5555555555555556,\"#d8576b\"],[0.6666666666666666,\"#ed7953\"],[0.7777777777777778,\"#fb9f3a\"],[0.8888888888888888,\"#fdca26\"],[1.0,\"#f0f921\"]]}],\"mesh3d\":[{\"type\":\"mesh3d\",\"colorbar\":{\"outlinewidth\":0,\"ticks\":\"\"}}],\"scatter\":[{\"fillpattern\":{\"fillmode\":\"overlay\",\"size\":10,\"solidity\":0.2},\"type\":\"scatter\"}],\"parcoords\":[{\"type\":\"parcoords\",\"line\":{\"colorbar\":{\"outlinewidth\":0,\"ticks\":\"\"}}}],\"scatterpolargl\":[{\"type\":\"scatterpolargl\",\"marker\":{\"colorbar\":{\"outlinewidth\":0,\"ticks\":\"\"}}}],\"bar\":[{\"error_x\":{\"color\":\"#2a3f5f\"},\"error_y\":{\"color\":\"#2a3f5f\"},\"marker\":{\"line\":{\"color\":\"#E5ECF6\",\"width\":0.5},\"pattern\":{\"fillmode\":\"overlay\",\"size\":10,\"solidity\":0.2}},\"type\":\"bar\"}],\"scattergeo\":[{\"type\":\"scattergeo\",\"marker\":{\"colorbar\":{\"outlinewidth\":0,\"ticks\":\"\"}}}],\"scatterpolar\":[{\"type\":\"scatterpolar\",\"marker\":{\"colorbar\":{\"outlinewidth\":0,\"ticks\":\"\"}}}],\"histogram\":[{\"marker\":{\"pattern\":{\"fillmode\":\"overlay\",\"size\":10,\"solidity\":0.2}},\"type\":\"histogram\"}],\"scattergl\":[{\"type\":\"scattergl\",\"marker\":{\"colorbar\":{\"outlinewidth\":0,\"ticks\":\"\"}}}],\"scatter3d\":[{\"type\":\"scatter3d\",\"line\":{\"colorbar\":{\"outlinewidth\":0,\"ticks\":\"\"}},\"marker\":{\"colorbar\":{\"outlinewidth\":0,\"ticks\":\"\"}}}],\"scattermap\":[{\"type\":\"scattermap\",\"marker\":{\"colorbar\":{\"outlinewidth\":0,\"ticks\":\"\"}}}],\"scattermapbox\":[{\"type\":\"scattermapbox\",\"marker\":{\"colorbar\":{\"outlinewidth\":0,\"ticks\":\"\"}}}],\"scatterternary\":[{\"type\":\"scatterternary\",\"marker\":{\"colorbar\":{\"outlinewidth\":0,\"ticks\":\"\"}}}],\"scattercarpet\":[{\"type\":\"scattercarpet\",\"marker\":{\"colorbar\":{\"outlinewidth\":0,\"ticks\":\"\"}}}],\"carpet\":[{\"aaxis\":{\"endlinecolor\":\"#2a3f5f\",\"gridcolor\":\"white\",\"linecolor\":\"white\",\"minorgridcolor\":\"white\",\"startlinecolor\":\"#2a3f5f\"},\"baxis\":{\"endlinecolor\":\"#2a3f5f\",\"gridcolor\":\"white\",\"linecolor\":\"white\",\"minorgridcolor\":\"white\",\"startlinecolor\":\"#2a3f5f\"},\"type\":\"carpet\"}],\"table\":[{\"cells\":{\"fill\":{\"color\":\"#EBF0F8\"},\"line\":{\"color\":\"white\"}},\"header\":{\"fill\":{\"color\":\"#C8D4E3\"},\"line\":{\"color\":\"white\"}},\"type\":\"table\"}],\"barpolar\":[{\"marker\":{\"line\":{\"color\":\"#E5ECF6\",\"width\":0.5},\"pattern\":{\"fillmode\":\"overlay\",\"size\":10,\"solidity\":0.2}},\"type\":\"barpolar\"}],\"pie\":[{\"automargin\":true,\"type\":\"pie\"}]},\"layout\":{\"autotypenumbers\":\"strict\",\"colorway\":[\"#636efa\",\"#EF553B\",\"#00cc96\",\"#ab63fa\",\"#FFA15A\",\"#19d3f3\",\"#FF6692\",\"#B6E880\",\"#FF97FF\",\"#FECB52\"],\"font\":{\"color\":\"#2a3f5f\"},\"hovermode\":\"closest\",\"hoverlabel\":{\"align\":\"left\"},\"paper_bgcolor\":\"white\",\"plot_bgcolor\":\"#E5ECF6\",\"polar\":{\"bgcolor\":\"#E5ECF6\",\"angularaxis\":{\"gridcolor\":\"white\",\"linecolor\":\"white\",\"ticks\":\"\"},\"radialaxis\":{\"gridcolor\":\"white\",\"linecolor\":\"white\",\"ticks\":\"\"}},\"ternary\":{\"bgcolor\":\"#E5ECF6\",\"aaxis\":{\"gridcolor\":\"white\",\"linecolor\":\"white\",\"ticks\":\"\"},\"baxis\":{\"gridcolor\":\"white\",\"linecolor\":\"white\",\"ticks\":\"\"},\"caxis\":{\"gridcolor\":\"white\",\"linecolor\":\"white\",\"ticks\":\"\"}},\"coloraxis\":{\"colorbar\":{\"outlinewidth\":0,\"ticks\":\"\"}},\"colorscale\":{\"sequential\":[[0.0,\"#0d0887\"],[0.1111111111111111,\"#46039f\"],[0.2222222222222222,\"#7201a8\"],[0.3333333333333333,\"#9c179e\"],[0.4444444444444444,\"#bd3786\"],[0.5555555555555556,\"#d8576b\"],[0.6666666666666666,\"#ed7953\"],[0.7777777777777778,\"#fb9f3a\"],[0.8888888888888888,\"#fdca26\"],[1.0,\"#f0f921\"]],\"sequentialminus\":[[0.0,\"#0d0887\"],[0.1111111111111111,\"#46039f\"],[0.2222222222222222,\"#7201a8\"],[0.3333333333333333,\"#9c179e\"],[0.4444444444444444,\"#bd3786\"],[0.5555555555555556,\"#d8576b\"],[0.6666666666666666,\"#ed7953\"],[0.7777777777777778,\"#fb9f3a\"],[0.8888888888888888,\"#fdca26\"],[1.0,\"#f0f921\"]],\"diverging\":[[0,\"#8e0152\"],[0.1,\"#c51b7d\"],[0.2,\"#de77ae\"],[0.3,\"#f1b6da\"],[0.4,\"#fde0ef\"],[0.5,\"#f7f7f7\"],[0.6,\"#e6f5d0\"],[0.7,\"#b8e186\"],[0.8,\"#7fbc41\"],[0.9,\"#4d9221\"],[1,\"#276419\"]]},\"xaxis\":{\"gridcolor\":\"white\",\"linecolor\":\"white\",\"ticks\":\"\",\"title\":{\"standoff\":15},\"zerolinecolor\":\"white\",\"automargin\":true,\"zerolinewidth\":2},\"yaxis\":{\"gridcolor\":\"white\",\"linecolor\":\"white\",\"ticks\":\"\",\"title\":{\"standoff\":15},\"zerolinecolor\":\"white\",\"automargin\":true,\"zerolinewidth\":2},\"scene\":{\"xaxis\":{\"backgroundcolor\":\"#E5ECF6\",\"gridcolor\":\"white\",\"linecolor\":\"white\",\"showbackground\":true,\"ticks\":\"\",\"zerolinecolor\":\"white\",\"gridwidth\":2},\"yaxis\":{\"backgroundcolor\":\"#E5ECF6\",\"gridcolor\":\"white\",\"linecolor\":\"white\",\"showbackground\":true,\"ticks\":\"\",\"zerolinecolor\":\"white\",\"gridwidth\":2},\"zaxis\":{\"backgroundcolor\":\"#E5ECF6\",\"gridcolor\":\"white\",\"linecolor\":\"white\",\"showbackground\":true,\"ticks\":\"\",\"zerolinecolor\":\"white\",\"gridwidth\":2}},\"shapedefaults\":{\"line\":{\"color\":\"#2a3f5f\"}},\"annotationdefaults\":{\"arrowcolor\":\"#2a3f5f\",\"arrowhead\":0,\"arrowwidth\":1},\"geo\":{\"bgcolor\":\"white\",\"landcolor\":\"#E5ECF6\",\"subunitcolor\":\"white\",\"showland\":true,\"showlakes\":true,\"lakecolor\":\"white\"},\"title\":{\"x\":0.05},\"mapbox\":{\"style\":\"light\"}}},\"xaxis\":{\"anchor\":\"y\",\"domain\":[0.0,1.0],\"title\":{\"text\":\"z\"}},\"yaxis\":{\"anchor\":\"x\",\"domain\":[0.0,1.0],\"title\":{\"text\":\"y\"},\"scaleanchor\":\"x\",\"scaleratio\":1},\"legend\":{\"tracegroupgap\":0},\"margin\":{\"t\":60},\"width\":640,\"height\":480},                        {\"responsive\": true}                    )                };            </script>        </div></td></tr><tr><td style='text-align: left'><details><summary style='font-weight:bold'>Polygon</summary><table><tr><td style='text-align:left'>area</td><td>5.8962201229988085e-05</td></tr><tr><td style='text-align:left'>height</td><td>0.008700000000000006</td></tr><tr><td style='text-align:left'>perimeter</td><td>0.027243885509781043</td></tr><tr><td style='text-align:left'>width</td><td>0.008532317323115993</td></tr></table></details></td></tr></table></td></tr><tr><td style='text-align:left'>length</td><td>5208.733944907869</td></tr><tr><td style='text-align:left'>material</td><td><table style='margin:0'><tr><td>&#x27;BST500&#x27;</td></tr><tr><td>&#x27;steel&#x27;</td></tr></table></td></tr><tr><td style='text-align:left'>ring_temperatures</td><td>array([1564.02461989, 1561.13466478, 1552.47023573, 1538.03228003,\n",
       "       1517.78168798, 1491.70612299, 1460.17725746, 1424.73026868,\n",
       "       1388.99526951, 1358.82742219, 1340.17168701])</td></tr><tr><td style='text-align:left'>strain</td><td>np.float64(0.5201949000088957)</td></tr><tr><td style='text-align:left'>surface_temperature</td><td>np.float64(1340.1716870065247)</td></tr><tr><td style='text-align:left'>t</td><td>np.float64(36.85417441104773)</td></tr><tr><td style='text-align:left'>temperature</td><td>np.float64(1423.7200086555586)</td></tr><tr><td style='text-align:left'>weight</td><td>2400</td></tr><tr><td style='text-align:left'>width</td><td>np.float64(0.008532317323115993)</td></tr></table></details></td></tr></table>"
      ]
     },
     "execution_count": 12,
     "metadata": {},
     "output_type": "execute_result"
    }
   ],
   "execution_count": 12
  },
  {
   "metadata": {
    "ExecuteTime": {
     "end_time": "2025-06-11T13:51:47.338277Z",
     "start_time": "2025-06-11T13:51:47.334890Z"
    }
   },
   "cell_type": "code",
   "source": [
    "def extract_wear_contours_from_measurement(groove_name):\n",
    "    root_dir = Path.cwd()\n",
    "    wear_data_dir = root_dir / \"wear_data\" / groove_name\n",
    "\n",
    "    labels = []\n",
    "    tonnages = []\n",
    "    measured_wear_contours = []\n",
    "\n",
    "    for file in wear_data_dir.iterdir():\n",
    "        with open(file, \"r\") as file:\n",
    "            data = json.load(file)\n",
    "\n",
    "        for entry in data[\"wear_data\"]:\n",
    "            labels.append(entry[\"stand\"])\n",
    "            tonnages.append(entry[\"tonnage\"])\n",
    "            x_values = np.array([point[\"x\"] * 1e-3 for point in entry[\"wear_contour\"]])\n",
    "            y_values = np.array([point[\"y\"] * 1e-3 for point in entry[\"wear_contour\"]])\n",
    "            x_values_shifted = x_values - max(x_values) / 2\n",
    "            measured_wear_contour = LineString(list(zip(x_values_shifted, y_values)))\n",
    "            measured_wear_contours.append(measured_wear_contour)\n",
    "\n",
    "        return labels, tonnages, measured_wear_contours"
   ],
   "id": "d15a07828c89aac8",
   "outputs": [],
   "execution_count": 13
  },
  {
   "metadata": {
    "ExecuteTime": {
     "end_time": "2025-06-11T14:00:30.717730Z",
     "start_time": "2025-06-11T14:00:30.714339Z"
    }
   },
   "cell_type": "code",
   "source": [
    "def calculate_wear_contour_as_function(roll_pass: pr.RollPass, base_wear_coefficient: float, roll_gap_ratio_coefficient: float, tonnage: float):\n",
    "    vickers_hardness_c15c = 900\n",
    "\n",
    "    _pillars_wear_length = pillars_wear_length(roll_pass.roll)\n",
    "    _pillar_deformation_resistance = pillar_deformation_resistance(roll_pass)\n",
    "\n",
    "    def wear_coefficient(base_wear_coefficient: float, roll_gap_ratio_coefficent: float):\n",
    "        mean_cross_section = (roll_pass.in_profile.cross_section.area + 2 * roll_pass.out_profile.cross_section.area) / 3\n",
    "        roll_gap_ratio =  roll_pass.roll.contact_area / mean_cross_section\n",
    "\n",
    "        return base_wear_coefficient * roll_gap_ratio ** roll_gap_ratio_coefficent\n",
    "\n",
    "    _wear_coefficient = wear_coefficient(base_wear_coefficient, roll_gap_ratio_coefficient)\n",
    "    pillar_wear_depths = _wear_coefficient * _pillar_deformation_resistance * _pillars_wear_length / (\n",
    "            3 * vickers_hardness_c15c)\n",
    "    total_pillar_wear_depths = pillar_wear_depths * tonnage / roll_pass.in_profile.weight\n",
    "    wear_depths_with_groove_contour = roll_pass.roll.groove.local_depth(\n",
    "        roll_pass.out_profile.pillars) + total_pillar_wear_depths\n",
    "    right_side = list(zip(roll_pass.out_profile.pillars, wear_depths_with_groove_contour))\n",
    "    left_side = list(zip(-roll_pass.out_profile.pillars[::-1], wear_depths_with_groove_contour[::-1]))\n",
    "    combined_contour_list = left_side + right_side\n",
    "    wear_contour = LineString(combined_contour_list)\n",
    "\n",
    "    return wear_contour"
   ],
   "id": "8c279be7b3b8db8a",
   "outputs": [],
   "execution_count": 20
  },
  {
   "metadata": {
    "ExecuteTime": {
     "end_time": "2025-06-11T14:00:55.025662Z",
     "start_time": "2025-06-11T14:00:55.022569Z"
    }
   },
   "cell_type": "code",
   "source": [
    "def solve_total_wear_depths_as_contour_line(params):\n",
    "    sequences = [\n",
    "        {\n",
    "            \"label\": \"e11_2\",\n",
    "            \"sequence\": rolling_train_e112\n",
    "        },\n",
    "        {\n",
    "            \"label\": \"e10_7\",\n",
    "            \"sequence\": rolling_train_e107\n",
    "        }\n",
    "    ]\n",
    "\n",
    "    area_errors = []\n",
    "    base_wear_coefficient = params['base_wear_coefficient'].value\n",
    "    roll_gap_ratio_coefficient = params['roll_gap_ratio_coefficient'].value\n",
    "\n",
    "    for dict in sequences:\n",
    "        roll_passes = dict[\"sequence\"].roll_passes\n",
    "        for roll_pass in roll_passes:\n",
    "            labels, tonnages, measured_wear_contours = extract_wear_contours_from_measurement(dict[\"label\"])\n",
    "            for label, tonnage, measured_wear_contour in zip(labels, tonnages, measured_wear_contours):\n",
    "                if roll_pass.label == label:\n",
    "                    calculated_wear_contour = calculate_wear_contour_as_function(roll_pass, base_wear_coefficient,roll_gap_ratio_coefficient, tonnage * 1000)\n",
    "                    area_error = calculate_area_between_contours(calculated_wear_contour, measured_wear_contour)\n",
    "\n",
    "                    area_errors.append(area_error)\n",
    "                else:\n",
    "                    continue\n",
    "    print(area_errors)\n",
    "    rms_error = root_mean_square_value(np.array(area_errors))\n",
    "    print(\"RMS Error: \", rms_error)\n",
    "    return rms_error\n"
   ],
   "id": "e627029542a6ce98",
   "outputs": [],
   "execution_count": 21
  },
  {
   "metadata": {
    "ExecuteTime": {
     "end_time": "2025-06-11T14:01:19.038188Z",
     "start_time": "2025-06-11T14:01:19.035840Z"
    }
   },
   "cell_type": "code",
   "source": [
    "params = Parameters()\n",
    "params.add('base_wear_coefficient', value=1e-6, min=1e-12, max=1e-3, vary=True)\n",
    "params.add('roll_gap_ratio_coefficient', value=1e-6, min=1e-12, max=1e-3, vary=True)"
   ],
   "id": "3c5cc256ef3dcfd3",
   "outputs": [],
   "execution_count": 22
  },
  {
   "metadata": {
    "ExecuteTime": {
     "end_time": "2025-06-11T14:02:25.283140Z",
     "start_time": "2025-06-11T14:01:43.031577Z"
    }
   },
   "cell_type": "code",
   "source": [
    "result = minimize(\n",
    "    solve_total_wear_depths_as_contour_line,\n",
    "    params,\n",
    "    nan_policy='omit',\n",
    "    max_nfev=100,\n",
    "    #method=\"least_squares\"\n",
    "    method=\"cobyla\"\n",
    ")"
   ],
   "id": "370b7dad190e557a",
   "outputs": [
    {
     "name": "stdout",
     "output_type": "stream",
     "text": [
      "[np.float64(0.01686005929270209), np.float64(0.01024216355080671), np.float64(0.047391729264827966), np.float64(0.010852154276129174), np.float64(0.02330441596877932), np.float64(0.009021442531524324), np.float64(0.01700616657052846), np.float64(0.008283575190405859), np.float64(0.008371959865682094), np.float64(0.004857607347681181), np.float64(0.009904051762089701), np.float64(0.008959128374927598), np.float64(0.0058469818269668156), np.float64(0.007287554287511434), np.float64(0.0035969188829024375), np.float64(0.003872220907337281)]\n",
      "RMS Error:  0.016051651326496857\n",
      "[np.float64(4.333164302112931), np.float64(2.632325303635149), np.float64(12.18060921307842), np.float64(2.788894145507086), np.float64(5.989624722515311), np.float64(2.318676612593277), np.float64(4.3711239190860125), np.float64(2.128890948845632), np.float64(2.1655968012997655), np.float64(1.2510194514929955), np.float64(2.55539596117806), np.float64(2.304887210967698), np.float64(1.5087243941357076), np.float64(1.8740608979382976), np.float64(0.9278914747278941), np.float64(0.996056451288622)]\n",
      "RMS Error:  4.126744060132665\n",
      "[np.float64(0.016860796892757112), np.float64(0.010242476152706395), np.float64(0.047401245127678016), np.float64(0.01085333410585423), np.float64(0.02330843580592608), np.float64(0.00902255816050437), np.float64(0.017010992040921276), np.float64(0.00828551980976719), np.float64(0.008373017357465918), np.float64(0.004857817392702191), np.float64(0.009905747582965647), np.float64(0.008959989148347183), np.float64(0.0058479579985092), np.float64(0.007288813115972178), np.float64(0.0035979259490075254), np.float64(0.003873098377862433)]\n",
      "RMS Error:  0.016054523382162247\n",
      "[np.float64(3.4362552851933157), np.float64(2.0874679721909586), np.float64(9.65938004251064), np.float64(2.2116292514685107), np.float64(4.749849632540796), np.float64(1.8387404376806928), np.float64(3.46635742127331), np.float64(1.6882380736315101), np.float64(1.7173349775240432), np.float64(0.9920725071449302), np.float64(2.026453950210121), np.float64(1.8278034643950793), np.float64(1.1964330850322566), np.float64(1.4861536165361668), np.float64(0.7358271356881971), np.float64(0.7898849368018014)]\n",
      "RMS Error:  3.2725602749689133\n",
      "[np.float64(0.7913623623810067), np.float64(0.4807394493395883), np.float64(2.2245331809248365), np.float64(0.5093341423929819), np.float64(1.0938797411542271), np.float64(0.42345776302999144), np.float64(0.798293591527822), np.float64(0.3887978305421213), np.float64(0.3954567235829668), np.float64(0.2284644626607158), np.float64(0.46665807914644025), np.float64(0.42093230905304946), np.float64(0.27551796691158), np.float64(0.3422547328403592), np.float64(0.1694490511595578), np.float64(0.18190623525891136)]\n",
      "RMS Error:  0.7536596894091548\n",
      "[np.float64(0.410279536137239), np.float64(0.24923796161848288), np.float64(1.153301740778994), np.float64(0.2640631805043626), np.float64(0.56711840164275), np.float64(0.21954027474866972), np.float64(0.41387224271374845), np.float64(0.20157121123086383), np.float64(0.20499717922097033), np.float64(0.11844189455421915), np.float64(0.24191876596401088), np.float64(0.2182267736355381), np.float64(0.14283019988694126), np.float64(0.17743890389687592), np.float64(0.08784387186595632), np.float64(0.09430713440882153)]\n",
      "RMS Error:  0.39073015624940444\n",
      "[np.float64(0.01685992946091604), np.float64(0.010242084705144438), np.float64(0.04739136293229935), np.float64(0.010852070584265235), np.float64(0.023304235952104436), np.float64(0.00902137292552792), np.float64(0.017006034848538153), np.float64(0.008283511111992662), np.float64(0.008371894850615774), np.float64(0.004857569864433104), np.float64(0.009903974962685887), np.float64(0.008959059228410369), np.float64(0.00584693648864692), np.float64(0.007287497962758108), np.float64(0.0035968909240727564), np.float64(0.00387219093246758)]\n",
      "RMS Error:  0.016051527279281205\n",
      "[np.float64(0.14657641821581524), np.float64(0.08904269741704698), np.float64(0.41202699451982705), np.float64(0.09433966277512655), np.float64(0.2026081170116066), np.float64(0.07843268816737241), np.float64(0.1478589149294603), np.float64(0.07201343314023911), np.float64(0.07320227100652181), np.float64(0.0423080668097218), np.float64(0.08640281432700372), np.float64(0.07795783912979934), np.float64(0.05101242195481755), np.float64(0.0633890292866105), np.float64(0.031374413640903286), np.float64(0.03368998017663709)]\n",
      "RMS Error:  0.1395888190098575\n",
      "[np.float64(0.14895200495197225), np.float64(0.09048582690768467), np.float64(0.4187048161220227), np.float64(0.09586862812583477), np.float64(0.20589183156488483), np.float64(0.07970386503541553), np.float64(0.150255313180384), np.float64(0.07318056277116078), np.float64(0.0743895540054063), np.float64(0.042993923362418744), np.float64(0.08780378986998788), np.float64(0.07922146095591331), np.float64(0.051839568367093185), np.float64(0.06441645498303679), np.float64(0.031883122404596335), np.float64(0.03423605373590224)]\n",
      "RMS Error:  0.14185124202829819\n",
      "[np.float64(9.707733037958492e-07), np.float64(6.075517691272337e-07), np.float64(2.4646716880421074e-06), np.float64(1.4515662881205253e-06), np.float64(1.1724437663104991e-06), np.float64(7.836394553081632e-07), np.float64(8.207553762945006e-07), np.float64(7.451753797557902e-07), np.float64(5.7700542427911805e-05), np.float64(3.415872104609822e-05), np.float64(4.0696092129557575e-05), np.float64(2.3681375132974335e-05), np.float64(2.4650153796261906e-05), np.float64(1.1944448317911231e-05), np.float64(1.4231004241285283e-05), np.float64(7.597775315967036e-06)]\n",
      "RMS Error:  2.198921422275316e-05\n",
      "[np.float64(0.01606392676331103), np.float64(0.009758526285596038), np.float64(0.04515378350683139), np.float64(0.010339750606767232), np.float64(0.02220394119094873), np.float64(0.008595431746370919), np.float64(0.016203058707794406), np.float64(0.00789243369123776), np.float64(0.007974064514613346), np.float64(0.004627755621993753), np.float64(0.009434541330297665), np.float64(0.008535649564304795), np.float64(0.005569779369961787), np.float64(0.006943232012441269), np.float64(0.003426434698907521), np.float64(0.0036892146516388567)]\n",
      "RMS Error:  0.015293443532626749\n",
      "[np.float64(9.705830023727373e-07), np.float64(6.074418763633376e-07), np.float64(2.464677203841744e-06), np.float64(1.4514525870493819e-06), np.float64(1.1724089994860948e-06), np.float64(7.836039370797975e-07), np.float64(8.208751054315998e-07), np.float64(7.45084112685424e-07), np.float64(5.770061161910654e-05), np.float64(3.415873201685919e-05), np.float64(4.06961780186204e-05), np.float64(2.3681395744832892e-05), np.float64(2.4650202672928844e-05), np.float64(1.1944463749220758e-05), np.float64(1.4231033230211083e-05), np.float64(7.597786386552036e-06)]\n",
      "RMS Error:  2.198924206346195e-05\n",
      "[np.float64(0.016063926763340685), np.float64(0.009758526285616855), np.float64(0.045153783506760546), np.float64(0.010339750606771704), np.float64(0.02220394119092756), np.float64(0.008595431746371845), np.float64(0.016203058707739765), np.float64(0.00789243369121955), np.float64(0.007974064514613893), np.float64(0.004627755622002375), np.float64(0.00943454133028903), np.float64(0.008535649564310861), np.float64(0.005569779369957207), np.float64(0.006943232012434622), np.float64(0.0034264346988962806), np.float64(0.0036892146516310062)]\n",
      "RMS Error:  0.015293443532610038\n",
      "[np.float64(0.003918112209925134), np.float64(0.0023801456504272934), np.float64(0.011011657063472038), np.float64(0.0025225114724373933), np.float64(0.005415083359759901), np.float64(0.0020962043086714165), np.float64(0.003950839807049853), np.float64(0.0019251759607595536), np.float64(0.0019037666382394464), np.float64(0.0011211328695919197), np.float64(0.0022716838910203934), np.float64(0.0020750492725550972), np.float64(0.0013407749006371014), np.float64(0.0016902468124411175), np.float64(0.0008255268042058638), np.float64(0.0008972693713461228)]\n",
      "RMS Error:  0.003726239994412695\n",
      "[np.float64(0.0011296496319420696), np.float64(0.0006862009424081387), np.float64(0.0031732332590230852), np.float64(0.0007278126736557374), np.float64(0.0015606607861714022), np.float64(0.000604099388984582), np.float64(0.0011379486871006873), np.float64(0.0005552011473416935), np.float64(0.0005101344210635476), np.float64(0.0003160747751184788), np.float64(0.0006272194680708399), np.float64(0.0005918105761595733), np.float64(0.0003698708371043815), np.float64(0.00048425502090939477), np.float64(0.00022840470084805462), np.float64(0.00025628848862177403)]\n",
      "RMS Error:  0.0010707129221501337\n",
      "[np.float64(0.00020846719694540247), np.float64(0.0001265979112599438), np.float64(0.000583771100291068), np.float64(0.00013492502918751537), np.float64(0.0002873331826801758), np.float64(0.00011117559520698142), np.float64(0.00020869616217182683), np.float64(0.00010262419460634162), np.float64(5.428219792083722e-05), np.float64(5.275328205058557e-05), np.float64(8.396249436766185e-05), np.float64(0.0001018153204169668), np.float64(4.912786696165452e-05), np.float64(8.58496544963646e-05), np.float64(3.114245407965445e-05), np.float64(4.453727668250309e-05)]\n",
      "RMS Error:  0.00019419190030363083\n",
      "[np.float64(9.70797435830876e-07), np.float64(6.075657019520087e-07), np.float64(2.4646710009634764e-06), np.float64(1.4515807199073572e-06), np.float64(1.1724481832284962e-06), np.float64(7.836439645133402e-07), np.float64(8.207401408092437e-07), np.float64(7.451869851659075e-07), np.float64(5.7700533643533944e-05), np.float64(3.4158719654912974e-05), np.float64(4.069608121816831e-05), np.float64(2.3681372517241933e-05), np.float64(2.4650147587328537e-05), np.float64(1.1944446357451053e-05), np.float64(1.4231000552714116e-05), np.float64(7.597773908415793e-06)]\n",
      "RMS Error:  2.1989210686842524e-05\n",
      "[np.float64(0.00030803159840140114), np.float64(0.00018708163280829236), np.float64(0.0008636485521038971), np.float64(0.00019900625324742363), np.float64(0.0004249585571516548), np.float64(0.00016445230783213916), np.float64(0.0003091327711141927), np.float64(0.00015153991193143164), np.float64(9.950191450973826e-05), np.float64(7.888975203546939e-05), np.float64(0.00014267946904085628), np.float64(0.00015477560156223696), np.float64(8.379480706548361e-05), np.float64(0.00012891059779343038), np.float64(5.246319385777077e-05), np.float64(6.742403224456446e-05)]\n",
      "RMS Error:  0.00028862953176432137\n",
      "[np.float64(4.0394815879481766e-05), np.float64(2.449672408727399e-05), np.float64(0.00011131557739877141), np.float64(2.6752379653425496e-05), np.float64(5.501038025991104e-05), np.float64(2.125087812124291e-05), np.float64(3.915152258995656e-05), np.float64(2.005650955492957e-05), np.float64(4.5467358943781636e-05), np.float64(3.303948948520679e-05), np.float64(2.711382112402491e-05), np.float64(2.4713308721157476e-05), np.float64(1.709439187948968e-05), np.float64(1.5489414091508973e-05), np.float64(9.772317930127392e-06), np.float64(8.296363610388746e-06)]\n",
      "RMS Error:  4.027467320767531e-05\n",
      "[np.float64(2.949084494704304e-05), np.float64(1.787306876340956e-05), np.float64(8.06642019002989e-05), np.float64(1.973495343366662e-05), np.float64(3.993797224293851e-05), np.float64(1.5421098926753494e-05), np.float64(2.8152229463704142e-05), np.float64(1.4702487371514558e-05), np.float64(4.840506210245533e-05), np.float64(3.315970503869207e-05), np.float64(2.980099376690906e-05), np.float64(2.336553684402225e-05), np.float64(1.8537196072276066e-05), np.float64(1.3122126895956918e-05), np.float64(1.0665549242684093e-05), np.float64(7.483234713795411e-06)]\n",
      "RMS Error:  3.210250736649332e-05\n",
      "[np.float64(1.2942662655149613e-06), np.float64(8.196129831448266e-07), np.float64(5.743073558759739e-06), np.float64(4.489090880832419e-07), np.float64(2.6022328820511353e-06), np.float64(1.5490689823937596e-06), np.float64(2.8788574122564606e-06), np.float64(7.219326756091476e-07), np.float64(5.851006554744904e-05), np.float64(3.4286274063274425e-05), np.float64(4.1700560864266086e-05), np.float64(2.3936832446878783e-05), np.float64(2.5226203348106212e-05), np.float64(1.2149978285837992e-05), np.float64(1.4576715110875647e-05), np.float64(7.733236525745005e-06)]\n",
      "RMS Error:  2.2389539274985485e-05\n",
      "[np.float64(9.70800994894931e-07), np.float64(6.075677565785268e-07), np.float64(2.4646708994967e-06), np.float64(1.4515828495131456e-06), np.float64(1.1724488353559692e-06), np.float64(7.836446299915116e-07), np.float64(8.207378892637678e-07), np.float64(7.451886995314844e-07), np.float64(5.7700532347096506e-05), np.float64(3.415871944973788e-05), np.float64(4.069607960720334e-05), np.float64(2.368137213129661e-05), np.float64(2.4650146670670515e-05), np.float64(1.1944446068002268e-05), np.float64(1.423100000762838e-05), np.float64(7.597773700505366e-06)]\n",
      "RMS Error:  2.1989210164874018e-05\n",
      "[np.float64(1.1208336263791107e-05), np.float64(6.768502218612157e-06), np.float64(2.927193324477319e-05), np.float64(7.971115225836112e-06), np.float64(1.46656661612741e-05), np.float64(5.671935850392044e-06), np.float64(9.710246779016156e-06), np.float64(5.7364747396524195e-06), np.float64(5.410858419537143e-05), np.float64(3.366351054809876e-05), np.float64(3.622957788591002e-05), np.float64(2.2971950094195437e-05), np.float64(2.217344927949379e-05), np.float64(1.1573436791248584e-05), np.float64(1.2755281217907355e-05), np.float64(7.192110403981884e-06)]\n",
      "RMS Error:  2.2648905060733356e-05\n",
      "[np.float64(1.1979129469143091e-06), np.float64(7.610799417447315e-07), np.float64(5.473103507018766e-06), np.float64(4.290360483197708e-07), np.float64(2.4771559206845724e-06), np.float64(1.4992287156826116e-06), np.float64(2.7816599978244714e-06), np.float64(6.824785300590741e-07), np.float64(5.8474441986707985e-05), np.float64(3.428064127206902e-05), np.float64(4.165632968489118e-05), np.float64(2.3924749300364736e-05), np.float64(2.520080364222761e-05), np.float64(1.2139736771696534e-05), np.float64(1.4561396962834132e-05), np.float64(7.727082156875537e-06)]\n",
      "RMS Error:  2.2367669925547048e-05\n",
      "[np.float64(2.7748537998198196e-06), np.float64(1.6681004383268726e-06), np.float64(5.571073574407509e-06), np.float64(2.55500218348547e-06), np.float64(3.0050049173289236e-06), np.float64(1.3722714487958255e-06), np.float64(1.204801168930335e-06), np.float64(1.62160730541408e-06), np.float64(5.7047995128678534e-05), np.float64(3.405616264012304e-05), np.float64(3.987773806377811e-05), np.float64(2.3498073681385924e-05), np.float64(2.4190604807332533e-05), np.float64(1.1810252047914436e-05), np.float64(1.3955032755626786e-05), np.float64(7.49930282188634e-06)]\n",
      "RMS Error:  2.178787066150559e-05\n",
      "[np.float64(5.083020337477242e-06), np.float64(3.051745843065818e-06), np.float64(1.2054637146069706e-05), np.float64(4.033799451089226e-06), np.float64(6.1972246444397445e-06), np.float64(2.4793973221861107e-06), np.float64(3.532193109747281e-06), np.float64(2.7451676211752983e-06), np.float64(5.622269326295067e-05), np.float64(3.393713592903761e-05), np.float64(3.8849249129242735e-05), np.float64(2.330539965522049e-05), np.float64(2.3616632067096378e-05), np.float64(1.1680460825259955e-05), np.float64(1.3613021957936037e-05), np.float64(7.389420685653911e-06)]\n",
      "RMS Error:  2.1737818463690602e-05\n",
      "[np.float64(6.572096744106313e-06), np.float64(3.9542606483738405e-06), np.float64(1.623988590531785e-05), np.float64(4.990341637777935e-06), np.float64(8.256200775043087e-06), np.float64(3.250083525152974e-06), np.float64(5.034003548669289e-06), np.float64(3.4714615871789343e-06), np.float64(5.569776353732803e-05), np.float64(3.386542596493574e-05), np.float64(3.819608827815982e-05), np.float64(2.3200562352341385e-05), np.float64(2.3255624639187386e-05), np.float64(1.1617038361134558e-05), np.float64(1.3399267857053107e-05), np.float64(7.327630299765882e-06)]\n",
      "RMS Error:  2.1821599911023774e-05\n",
      "[np.float64(6.012100435712226e-06), np.float64(3.614594151233062e-06), np.float64(1.4665937211196436e-05), np.float64(4.630513691801651e-06), np.float64(7.481937770186165e-06), np.float64(2.9594189678462845e-06), np.float64(4.469218530993257e-06), np.float64(3.19825424745783e-06), np.float64(5.589477034203408e-05), np.float64(3.3892229638475526e-05), np.float64(3.844019557987318e-05), np.float64(2.3238423647222402e-05), np.float64(2.339077924453152e-05), np.float64(1.1638857269683947e-05), np.float64(1.3478973230596065e-05), np.float64(7.349467538236265e-06)]\n",
      "RMS Error:  2.177950987702239e-05\n",
      "[np.float64(5.749698651434193e-06), np.float64(3.455455413083268e-06), np.float64(1.3928369018883348e-05), np.float64(4.461941672004858e-06), np.float64(7.119094397382905e-06), np.float64(2.8234592962256016e-06), np.float64(4.204561953060387e-06), np.float64(3.0702635779187203e-06), np.float64(5.5987093761249346e-05), np.float64(3.390479065868219e-05), np.float64(3.855532658573463e-05), np.float64(2.3257017962626508e-05), np.float64(2.3454192313367575e-05), np.float64(1.1650089834505981e-05), np.float64(1.3516408627104019e-05), np.float64(7.360438152475623e-06)]\n",
      "RMS Error:  2.176414849166847e-05\n",
      "[np.float64(4.6783451304547785e-06), np.float64(2.807581414250392e-06), np.float64(1.0917486692699485e-05), np.float64(3.774029266185753e-06), np.float64(5.637653836402211e-06), np.float64(2.2719585000572135e-06), np.float64(3.1240745293303087e-06), np.float64(2.5479782835265234e-06), np.float64(5.636615744161471e-05), np.float64(3.395685306367605e-05), np.float64(3.902820983598265e-05), np.float64(2.3335986288708957e-05), np.float64(2.371579300352542e-05), np.float64(1.1701049635218036e-05), np.float64(1.3672258241662296e-05), np.float64(7.407551849874561e-06)]\n",
      "RMS Error:  2.173064954494613e-05\n",
      "[np.float64(3.77998965275516e-06), np.float64(2.2672987300111822e-06), np.float64(8.393541498779516e-06), np.float64(3.197781831872912e-06), np.float64(4.395313021181873e-06), np.float64(1.8189467577380899e-06), np.float64(2.2181880364981405e-06), np.float64(2.110503558268472e-06), np.float64(5.668630369300426e-05), np.float64(3.4002216617482616e-05), np.float64(3.94276938127223e-05), np.float64(2.3409584564688304e-05), np.float64(2.393909517566785e-05), np.float64(1.1749707548664824e-05), np.float64(1.3804534893137707e-05), np.float64(7.44938116546854e-06)]\n",
      "RMS Error:  2.1738994426735714e-05\n",
      "[np.float64(3.77998965275516e-06), np.float64(2.2672987300111822e-06), np.float64(8.393541498779516e-06), np.float64(3.197781831872912e-06), np.float64(4.395313021181873e-06), np.float64(1.8189467577380899e-06), np.float64(2.2181880364981405e-06), np.float64(2.110503558268472e-06), np.float64(5.668630369300426e-05), np.float64(3.4002216617482616e-05), np.float64(3.94276938127223e-05), np.float64(2.3409584564688304e-05), np.float64(2.393909517566785e-05), np.float64(1.1749707548664824e-05), np.float64(1.3804534893137707e-05), np.float64(7.44938116546854e-06)]\n",
      "RMS Error:  2.1738994426735714e-05\n"
     ]
    }
   ],
   "execution_count": 23
  },
  {
   "metadata": {
    "ExecuteTime": {
     "end_time": "2025-06-11T14:02:53.597698Z",
     "start_time": "2025-06-11T14:02:53.595106Z"
    }
   },
   "cell_type": "code",
   "source": "result.params.pretty_print()",
   "id": "494e435ba3935a91",
   "outputs": [
    {
     "name": "stdout",
     "output_type": "stream",
     "text": [
      "Name                           Value      Min      Max   Stderr     Vary     Expr Brute_Step\n",
      "base_wear_coefficient       3.106e-10    1e-12    0.001     None     True     None     None\n",
      "roll_gap_ratio_coefficient  8.222e-07    1e-12    0.001     None     True     None     None\n"
     ]
    }
   ],
   "execution_count": 24
  },
  {
   "metadata": {
    "ExecuteTime": {
     "end_time": "2025-06-11T14:03:17.833322Z",
     "start_time": "2025-06-11T14:03:17.830491Z"
    }
   },
   "cell_type": "code",
   "source": "result.residual",
   "id": "183f8a5d7021b082",
   "outputs": [
    {
     "data": {
      "text/plain": [
       "array([2.17389944e-05])"
      ]
     },
     "execution_count": 25,
     "metadata": {},
     "output_type": "execute_result"
    }
   ],
   "execution_count": 25
  },
  {
   "metadata": {
    "ExecuteTime": {
     "end_time": "2025-06-11T14:04:07.590940Z",
     "start_time": "2025-06-11T14:04:07.588682Z"
    }
   },
   "cell_type": "code",
   "source": "from lmfit import fit_report",
   "id": "2b84221d2da0346c",
   "outputs": [],
   "execution_count": 26
  },
  {
   "metadata": {
    "ExecuteTime": {
     "end_time": "2025-06-11T14:04:31.947006Z",
     "start_time": "2025-06-11T14:04:31.944991Z"
    }
   },
   "cell_type": "code",
   "source": "print(fit_report(result))",
   "id": "d77fa532c46783c6",
   "outputs": [
    {
     "name": "stdout",
     "output_type": "stream",
     "text": [
      "[[Fit Statistics]]\n",
      "    # fitting method   = COBYLA\n",
      "    # function evals   = 31\n",
      "    # data points      = 1\n",
      "    # variables        = 2\n",
      "    chi-square         = 4.7258e-10\n",
      "    reduced chi-square = 4.7258e-10\n",
      "    Akaike info crit   = -17.4728059\n",
      "    Bayesian info crit = -21.4728059\n",
      "##  Warning: uncertainties could not be estimated:\n",
      "    this fitting method does not natively calculate uncertainties\n",
      "    and numdifftools is not installed for lmfit to do this. Use\n",
      "    `pip install numdifftools` for lmfit to estimate uncertainties\n",
      "    with this fitting method.\n",
      "[[Variables]]\n",
      "    base_wear_coefficient:       3.1064e-10 (init = 1e-06)\n",
      "    roll_gap_ratio_coefficient:  8.2225e-07 (init = 1e-06)\n"
     ]
    }
   ],
   "execution_count": 27
  },
  {
   "metadata": {},
   "cell_type": "code",
   "source": "",
   "id": "f53f83e94a852b4c",
   "outputs": [],
   "execution_count": null
  }
 ],
 "metadata": {
  "jupytext": {
   "formats": "ipynb,md"
  },
  "kernelspec": {
   "display_name": "Python 3 (ipykernel)",
   "language": "python",
   "name": "python3"
  },
  "language_info": {
   "codemirror_mode": {
    "name": "ipython",
    "version": 3
   },
   "file_extension": ".py",
   "mimetype": "text/x-python",
   "name": "python",
   "nbconvert_exporter": "python",
   "pygments_lexer": "ipython3",
   "version": "3.12.7"
  }
 },
 "nbformat": 4,
 "nbformat_minor": 5
}
