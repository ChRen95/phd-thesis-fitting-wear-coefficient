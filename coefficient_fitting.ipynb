{
 "cells": [
  {
   "metadata": {
    "ExecuteTime": {
     "end_time": "2025-06-02T14:13:13.767179Z",
     "start_time": "2025-06-02T14:13:13.764796Z"
    }
   },
   "cell_type": "code",
   "source": [
    "import json\n",
    "import numpy as np\n",
    "import matplotlib.pyplot as plt\n",
    "\n",
    "from pathlib import Path\n",
    "from lmfit import minimize\n",
    "from shapely import LineString\n",
    "from scipy.integrate import simpson\n",
    "from scipy.interpolate import interp1d"
   ],
   "id": "2c9fadc80e95c4eb",
   "outputs": [],
   "execution_count": 3
  },
  {
   "metadata": {
    "ExecuteTime": {
     "end_time": "2025-06-02T14:13:14.572397Z",
     "start_time": "2025-06-02T14:13:14.570294Z"
    }
   },
   "cell_type": "code",
   "source": [
    "import pyroll.core as pr\n",
    "import pyroll.pillar_model\n",
    "import pyroll.neutral_point_estimator\n",
    "import pyroll.sparling_spreading\n",
    "import pyroll.hensel_force_torque\n",
    "import pyroll.freiberg_flow_stress\n",
    "import pyroll.ring_model_thermal"
   ],
   "id": "5f850cf9c8686075",
   "outputs": [],
   "execution_count": 4
  },
  {
   "metadata": {
    "ExecuteTime": {
     "end_time": "2025-06-02T14:13:15.186008Z",
     "start_time": "2025-06-02T14:13:15.173512Z"
    }
   },
   "cell_type": "code",
   "source": [
    "from in_profile import create_in_profile_from_surface_temperature\n",
    "from rolling_sequence import roughing_sequence, intermediate_sequence, finishing_sequence"
   ],
   "id": "1c81205e18f57fc4",
   "outputs": [],
   "execution_count": 5
  },
  {
   "metadata": {
    "ExecuteTime": {
     "end_time": "2025-06-02T14:13:15.814082Z",
     "start_time": "2025-06-02T14:13:15.812072Z"
    }
   },
   "cell_type": "code",
   "source": [
    "pyroll.pillar_model.Config.PILLAR_COUNT = 30\n",
    "pyroll.neutral_point_estimator.Config.ESTIMATOR = \"EQUAL\"\n",
    "ROLL_SURFACE_TEMPERATURE = 50 + 273.15\n",
    "DISK_ELEMENT_COUNT = 30"
   ],
   "id": "9478464bcc7138ed",
   "outputs": [],
   "execution_count": 6
  },
  {
   "metadata": {
    "ExecuteTime": {
     "end_time": "2025-06-02T14:13:22.992947Z",
     "start_time": "2025-06-02T14:13:22.989525Z"
    }
   },
   "cell_type": "code",
   "source": [
    "@pr.CoolingPipe.DiskElement.heat_transfer_coefficient\n",
    "def heat_transfer_coefficient_model_moreales(self: pr.CoolingPipe.DiskElement):\n",
    "    mean_surface_temperature = (self.in_profile.surface_temperature - self.out_profile.surface_temperature) / 2\n",
    "\n",
    "    if mean_surface_temperature <= 650 + 273.15:\n",
    "        htc = 12.77 * np.exp(-0.00402 * mean_surface_temperature) * self.cooling_pipe.coolant_velocity ** 0.64\n",
    "    else:\n",
    "        w_coefficient = self.cooling_pipe.coolant_volume_flux * 1000 / self.cooling_pipe.coolant_flow_cross_section\n",
    "        htc = 14.06 * w_coefficient ** 0.63 / (mean_surface_temperature - self.cooling_pipe.coolant_temperature)\n",
    "\n",
    "    return htc * 1000"
   ],
   "id": "ebf1ef9d02fdac23",
   "outputs": [],
   "execution_count": 7
  },
  {
   "metadata": {
    "ExecuteTime": {
     "end_time": "2025-06-02T14:13:23.614661Z",
     "start_time": "2025-06-02T14:13:23.612187Z"
    }
   },
   "cell_type": "code",
   "source": [
    "in_profile = create_in_profile_from_surface_temperature(1100 + 273.15)\n",
    "in_profile.ring_temperatures = in_profile.ring_temperatures"
   ],
   "id": "3720bf83cb011fab",
   "outputs": [],
   "execution_count": 8
  },
  {
   "metadata": {
    "ExecuteTime": {
     "end_time": "2025-06-02T14:13:24.204351Z",
     "start_time": "2025-06-02T14:13:24.201238Z"
    }
   },
   "cell_type": "code",
   "source": [
    "roughing_train = roughing_sequence(\n",
    "    roll_surface_temperature=ROLL_SURFACE_TEMPERATURE,\n",
    "    disk_element_count=DISK_ELEMENT_COUNT\n",
    ")\n",
    "\n",
    "# intermediate_train = intermediate_sequence(\n",
    "#     roll_surface_temperature=ROLL_SURFACE_TEMPERATURE,\n",
    "#     disk_element_count=DISK_ELEMENT_COUNT\n",
    "# )\n",
    "#\n",
    "# finishing_train = finishing_sequence(\n",
    "#     roll_surface_temperature=ROLL_SURFACE_TEMPERATURE,\n",
    "#     disk_element_count=DISK_ELEMENT_COUNT\n",
    "# )\n"
   ],
   "id": "d8a58940d7d8b191",
   "outputs": [],
   "execution_count": 9
  },
  {
   "metadata": {
    "ExecuteTime": {
     "end_time": "2025-06-02T14:13:26.572771Z",
     "start_time": "2025-06-02T14:13:26.570853Z"
    }
   },
   "cell_type": "code",
   "source": [
    "rolling_train = pr.PassSequence([\n",
    "    roughing_train,\n",
    "   # intermediate_train,\n",
    "  #  finishing_train\n",
    "])"
   ],
   "id": "ad915b04461d2d20",
   "outputs": [],
   "execution_count": 10
  },
  {
   "metadata": {
    "ExecuteTime": {
     "end_time": "2025-06-02T14:13:27.382333Z",
     "start_time": "2025-06-02T14:13:27.380239Z"
    }
   },
   "cell_type": "code",
   "source": "rolling_train.flatten()",
   "id": "c895c1cb41709aa4",
   "outputs": [],
   "execution_count": 11
  },
  {
   "metadata": {
    "ExecuteTime": {
     "end_time": "2025-06-02T14:13:33.939844Z",
     "start_time": "2025-06-02T14:13:28.356923Z"
    }
   },
   "cell_type": "code",
   "source": "rolling_train.solve(in_profile)",
   "id": "58ce4c5bacca418e",
   "outputs": [
    {
     "name": "stderr",
     "output_type": "stream",
     "text": [
      "/home/christoph/PycharmProjects/phd-thesis-fitting-wear-coefficient/.venv/lib/python3.13/site-packages/pyroll/pillar_model/roll_pass/hookimpls/pillar_disk_element.py:30: RuntimeWarning: invalid value encountered in divide\n",
      "  return self.out_profile.pillar_heights / self.in_profile.pillar_heights\n"
     ]
    },
    {
     "ename": "RuntimeError",
     "evalue": "Solution of sub units failed at unit TwoRollPass 'B'.",
     "output_type": "error",
     "traceback": [
      "\u001B[31m---------------------------------------------------------------------------\u001B[39m",
      "\u001B[31mValueError\u001B[39m                                Traceback (most recent call last)",
      "\u001B[36mFile \u001B[39m\u001B[32m~/PycharmProjects/phd-thesis-fitting-wear-coefficient/.venv/lib/python3.13/site-packages/pyroll/core/unit/unit.py:201\u001B[39m, in \u001B[36mUnit._solve_subunits\u001B[39m\u001B[34m(self)\u001B[39m\n\u001B[32m    200\u001B[39m \u001B[38;5;28;01mtry\u001B[39;00m:\n\u001B[32m--> \u001B[39m\u001B[32m201\u001B[39m     last_profile = \u001B[43mu\u001B[49m\u001B[43m.\u001B[49m\u001B[43msolve\u001B[49m\u001B[43m(\u001B[49m\u001B[43mlast_profile\u001B[49m\u001B[43m)\u001B[49m\n\u001B[32m    202\u001B[39m \u001B[38;5;28;01mexcept\u001B[39;00m \u001B[38;5;167;01mException\u001B[39;00m \u001B[38;5;28;01mas\u001B[39;00m e:\n",
      "\u001B[36mFile \u001B[39m\u001B[32m~/PycharmProjects/phd-thesis-fitting-wear-coefficient/.venv/lib/python3.13/site-packages/pyroll/core/unit/unit.py:224\u001B[39m, in \u001B[36mUnit.solve\u001B[39m\u001B[34m(self, in_profile)\u001B[39m\n\u001B[32m    223\u001B[39m \u001B[38;5;28mself\u001B[39m.out_profile.reevaluate_cache()\n\u001B[32m--> \u001B[39m\u001B[32m224\u001B[39m current_results = \u001B[38;5;28;43mself\u001B[39;49m\u001B[43m.\u001B[49m\u001B[43mget_root_hook_results\u001B[49m\u001B[43m(\u001B[49m\u001B[43m)\u001B[49m\n\u001B[32m    226\u001B[39m residuum = np.max(np.abs(current_results - \u001B[38;5;28mself\u001B[39m._old_results) / (np.abs(\u001B[38;5;28mself\u001B[39m._old_results) + \u001B[32m1e-12\u001B[39m))\n",
      "\u001B[36mFile \u001B[39m\u001B[32m~/PycharmProjects/phd-thesis-fitting-wear-coefficient/.venv/lib/python3.13/site-packages/pyroll/core/unit/unit.py:183\u001B[39m, in \u001B[36mUnit.get_root_hook_results\u001B[39m\u001B[34m(self)\u001B[39m\n\u001B[32m    182\u001B[39m in_profile_results = \u001B[38;5;28mself\u001B[39m.in_profile.evaluate_and_set_hooks()\n\u001B[32m--> \u001B[39m\u001B[32m183\u001B[39m out_profile_results = \u001B[38;5;28;43mself\u001B[39;49m\u001B[43m.\u001B[49m\u001B[43mout_profile\u001B[49m\u001B[43m.\u001B[49m\u001B[43mevaluate_and_set_hooks\u001B[49m\u001B[43m(\u001B[49m\u001B[43m)\u001B[49m\n\u001B[32m    184\u001B[39m self_results = \u001B[38;5;28mself\u001B[39m.evaluate_and_set_hooks()\n",
      "\u001B[36mFile \u001B[39m\u001B[32m~/PycharmProjects/phd-thesis-fitting-wear-coefficient/.venv/lib/python3.13/site-packages/pyroll/core/hooks.py:475\u001B[39m, in \u001B[36mHookHost.evaluate_and_set_hooks\u001B[39m\u001B[34m(self)\u001B[39m\n\u001B[32m    473\u001B[39m                 \u001B[38;5;28;01mcontinue\u001B[39;00m\n\u001B[32m--> \u001B[39m\u001B[32m475\u001B[39m \u001B[38;5;28;01mreturn\u001B[39;00m \u001B[38;5;28;43mlist\u001B[39;49m\u001B[43m(\u001B[49m\u001B[43m_gen\u001B[49m\u001B[43m(\u001B[49m\u001B[43m)\u001B[49m\u001B[43m)\u001B[49m\n",
      "\u001B[36mFile \u001B[39m\u001B[32m~/PycharmProjects/phd-thesis-fitting-wear-coefficient/.venv/lib/python3.13/site-packages/pyroll/core/hooks.py:457\u001B[39m, in \u001B[36mHookHost.evaluate_and_set_hooks.<locals>._gen\u001B[39m\u001B[34m()\u001B[39m\n\u001B[32m    456\u001B[39m h = \u001B[38;5;28mgetattr\u001B[39m(\u001B[38;5;28mtype\u001B[39m(\u001B[38;5;28mself\u001B[39m), h.name)\n\u001B[32m--> \u001B[39m\u001B[32m457\u001B[39m result = \u001B[43mh\u001B[49m\u001B[43m.\u001B[49m\u001B[43mget_result\u001B[49m\u001B[43m(\u001B[49m\u001B[38;5;28;43mself\u001B[39;49m\u001B[43m)\u001B[49m\n\u001B[32m    459\u001B[39m \u001B[38;5;28;01mif\u001B[39;00m result \u001B[38;5;129;01mis\u001B[39;00m \u001B[38;5;28;01mNone\u001B[39;00m:\n",
      "\u001B[36mFile \u001B[39m\u001B[32m~/PycharmProjects/phd-thesis-fitting-wear-coefficient/.venv/lib/python3.13/site-packages/pyroll/core/hooks.py:281\u001B[39m, in \u001B[36mHook.get_result\u001B[39m\u001B[34m(self, instance)\u001B[39m\n\u001B[32m    280\u001B[39m \u001B[38;5;28;01mfor\u001B[39;00m f \u001B[38;5;129;01min\u001B[39;00m \u001B[38;5;28mself\u001B[39m.functions_gen:\n\u001B[32m--> \u001B[39m\u001B[32m281\u001B[39m     result = \u001B[43mf\u001B[49m\u001B[43m(\u001B[49m\u001B[43minstance\u001B[49m\u001B[43m)\u001B[49m\n\u001B[32m    282\u001B[39m     \u001B[38;5;28;01mif\u001B[39;00m result \u001B[38;5;129;01mis\u001B[39;00m \u001B[38;5;129;01mnot\u001B[39;00m \u001B[38;5;28;01mNone\u001B[39;00m:\n",
      "\u001B[36mFile \u001B[39m\u001B[32m~/PycharmProjects/phd-thesis-fitting-wear-coefficient/.venv/lib/python3.13/site-packages/pyroll/core/hooks.py:78\u001B[39m, in \u001B[36mHookFunction.__call__\u001B[39m\u001B[34m(self, instance)\u001B[39m\n\u001B[32m     77\u001B[39m     \u001B[38;5;28;01melse\u001B[39;00m:\n\u001B[32m---> \u001B[39m\u001B[32m78\u001B[39m         result = \u001B[38;5;28;43mself\u001B[39;49m\u001B[43m.\u001B[49m\u001B[43mfunction\u001B[49m\u001B[43m(\u001B[49m\u001B[43minstance\u001B[49m\u001B[43m,\u001B[49m\u001B[43m \u001B[49m\u001B[43m*\u001B[49m\u001B[43m*\u001B[49m\u001B[43mextra_args\u001B[49m\u001B[43m)\u001B[49m\n\u001B[32m     79\u001B[39m \u001B[38;5;28;01mexcept\u001B[39;00m \u001B[38;5;167;01mStopIteration\u001B[39;00m \u001B[38;5;28;01mas\u001B[39;00m e:\n",
      "\u001B[36mFile \u001B[39m\u001B[32m~/PycharmProjects/phd-thesis-fitting-wear-coefficient/.venv/lib/python3.13/site-packages/pyroll/pillar_model/roll_pass/hookimpls/pillar_disk_element.py:110\u001B[39m, in \u001B[36mout_pillar_widths\u001B[39m\u001B[34m(self)\u001B[39m\n\u001B[32m    109\u001B[39m de = \u001B[38;5;28mself\u001B[39m.disk_element\n\u001B[32m--> \u001B[39m\u001B[32m110\u001B[39m \u001B[38;5;28;01mreturn\u001B[39;00m de.in_profile.pillar_widths * \u001B[43mde\u001B[49m\u001B[43m.\u001B[49m\u001B[43mpillar_spreads\u001B[49m\n",
      "\u001B[36mFile \u001B[39m\u001B[32m~/PycharmProjects/phd-thesis-fitting-wear-coefficient/.venv/lib/python3.13/site-packages/pyroll/core/hooks.py:206\u001B[39m, in \u001B[36mHook.__get__\u001B[39m\u001B[34m(self, instance, owner)\u001B[39m\n\u001B[32m    205\u001B[39m \u001B[38;5;28;01mtry\u001B[39;00m:\n\u001B[32m--> \u001B[39m\u001B[32m206\u001B[39m     result = \u001B[38;5;28;43mself\u001B[39;49m\u001B[43m.\u001B[49m\u001B[43mget_result\u001B[49m\u001B[43m(\u001B[49m\u001B[43minstance\u001B[49m\u001B[43m)\u001B[49m\n\u001B[32m    207\u001B[39m \u001B[38;5;28;01mexcept\u001B[39;00m \u001B[38;5;167;01mRecursionError\u001B[39;00m \u001B[38;5;28;01mas\u001B[39;00m e:\n",
      "\u001B[36mFile \u001B[39m\u001B[32m~/PycharmProjects/phd-thesis-fitting-wear-coefficient/.venv/lib/python3.13/site-packages/pyroll/core/hooks.py:281\u001B[39m, in \u001B[36mHook.get_result\u001B[39m\u001B[34m(self, instance)\u001B[39m\n\u001B[32m    280\u001B[39m \u001B[38;5;28;01mfor\u001B[39;00m f \u001B[38;5;129;01min\u001B[39;00m \u001B[38;5;28mself\u001B[39m.functions_gen:\n\u001B[32m--> \u001B[39m\u001B[32m281\u001B[39m     result = \u001B[43mf\u001B[49m\u001B[43m(\u001B[49m\u001B[43minstance\u001B[49m\u001B[43m)\u001B[49m\n\u001B[32m    282\u001B[39m     \u001B[38;5;28;01mif\u001B[39;00m result \u001B[38;5;129;01mis\u001B[39;00m \u001B[38;5;129;01mnot\u001B[39;00m \u001B[38;5;28;01mNone\u001B[39;00m:\n",
      "\u001B[36mFile \u001B[39m\u001B[32m~/PycharmProjects/phd-thesis-fitting-wear-coefficient/.venv/lib/python3.13/site-packages/pyroll/core/hooks.py:75\u001B[39m, in \u001B[36mHookFunction.__call__\u001B[39m\u001B[34m(self, instance)\u001B[39m\n\u001B[32m     74\u001B[39m \u001B[38;5;28mnext\u001B[39m(gen)\n\u001B[32m---> \u001B[39m\u001B[32m75\u001B[39m gen.send(\u001B[38;5;28;43mself\u001B[39;49m\u001B[43m.\u001B[49m\u001B[43mhook\u001B[49m\u001B[43m.\u001B[49m\u001B[43mget_result\u001B[49m\u001B[43m(\u001B[49m\u001B[43minstance\u001B[49m\u001B[43m)\u001B[49m)\n\u001B[32m     76\u001B[39m \u001B[38;5;28;01mraise\u001B[39;00m \u001B[38;5;167;01mSyntaxError\u001B[39;00m(\u001B[33m\"\u001B[39m\u001B[33mWrapper function must only contain one yield expression.\u001B[39m\u001B[33m\"\u001B[39m)\n",
      "\u001B[36mFile \u001B[39m\u001B[32m~/PycharmProjects/phd-thesis-fitting-wear-coefficient/.venv/lib/python3.13/site-packages/pyroll/core/hooks.py:281\u001B[39m, in \u001B[36mHook.get_result\u001B[39m\u001B[34m(self, instance)\u001B[39m\n\u001B[32m    280\u001B[39m \u001B[38;5;28;01mfor\u001B[39;00m f \u001B[38;5;129;01min\u001B[39;00m \u001B[38;5;28mself\u001B[39m.functions_gen:\n\u001B[32m--> \u001B[39m\u001B[32m281\u001B[39m     result = \u001B[43mf\u001B[49m\u001B[43m(\u001B[49m\u001B[43minstance\u001B[49m\u001B[43m)\u001B[49m\n\u001B[32m    282\u001B[39m     \u001B[38;5;28;01mif\u001B[39;00m result \u001B[38;5;129;01mis\u001B[39;00m \u001B[38;5;129;01mnot\u001B[39;00m \u001B[38;5;28;01mNone\u001B[39;00m:\n",
      "\u001B[36mFile \u001B[39m\u001B[32m~/PycharmProjects/phd-thesis-fitting-wear-coefficient/.venv/lib/python3.13/site-packages/pyroll/core/hooks.py:78\u001B[39m, in \u001B[36mHookFunction.__call__\u001B[39m\u001B[34m(self, instance)\u001B[39m\n\u001B[32m     77\u001B[39m     \u001B[38;5;28;01melse\u001B[39;00m:\n\u001B[32m---> \u001B[39m\u001B[32m78\u001B[39m         result = \u001B[38;5;28;43mself\u001B[39;49m\u001B[43m.\u001B[49m\u001B[43mfunction\u001B[49m\u001B[43m(\u001B[49m\u001B[43minstance\u001B[49m\u001B[43m,\u001B[49m\u001B[43m \u001B[49m\u001B[43m*\u001B[49m\u001B[43m*\u001B[49m\u001B[43mextra_args\u001B[49m\u001B[43m)\u001B[49m\n\u001B[32m     79\u001B[39m \u001B[38;5;28;01mexcept\u001B[39;00m \u001B[38;5;167;01mStopIteration\u001B[39;00m \u001B[38;5;28;01mas\u001B[39;00m e:\n",
      "\u001B[36mFile \u001B[39m\u001B[32m~/PycharmProjects/phd-thesis-fitting-wear-coefficient/.venv/lib/python3.13/site-packages/pyroll/sparling_spreading.py:93\u001B[39m, in \u001B[36mpillar_spreads\u001B[39m\u001B[34m(self)\u001B[39m\n\u001B[32m     91\u001B[39m rp = \u001B[38;5;28mself\u001B[39m.roll_pass\n\u001B[32m     92\u001B[39m \u001B[38;5;28;01mreturn\u001B[39;00m (\n\u001B[32m---> \u001B[39m\u001B[32m93\u001B[39m         \u001B[38;5;28;43mself\u001B[39;49m\u001B[43m.\u001B[49m\u001B[43mpillar_draughts\u001B[49m\n\u001B[32m     94\u001B[39m         ** (\n\u001B[32m     95\u001B[39m                 -rp.sparling_exponent\n\u001B[32m     96\u001B[39m                 * rp.sparling_temperature_coefficient\n\u001B[32m     97\u001B[39m                 * rp.sparling_strain_rate_coefficient\n\u001B[32m     98\u001B[39m                 * rp.sparling_material_coefficient\n\u001B[32m     99\u001B[39m                 * rp.sparling_roll_surface_coefficient\n\u001B[32m    100\u001B[39m                 * rp.sparling_bar_surface_coefficient\n\u001B[32m    101\u001B[39m         )\n\u001B[32m    102\u001B[39m )\n",
      "\u001B[36mFile \u001B[39m\u001B[32m~/PycharmProjects/phd-thesis-fitting-wear-coefficient/.venv/lib/python3.13/site-packages/pyroll/core/hooks.py:219\u001B[39m, in \u001B[36mHook.__get__\u001B[39m\u001B[34m(self, instance, owner)\u001B[39m\n\u001B[32m    218\u001B[39m     \u001B[38;5;28;01mif\u001B[39;00m \u001B[38;5;129;01mnot\u001B[39;00m np.isfinite(result).all():\n\u001B[32m--> \u001B[39m\u001B[32m219\u001B[39m         \u001B[38;5;28;01mraise\u001B[39;00m \u001B[38;5;167;01mValueError\u001B[39;00m(\u001B[33mf\u001B[39m\u001B[33m\"\u001B[39m\u001B[33mHook call for \u001B[39m\u001B[33m'\u001B[39m\u001B[38;5;132;01m{\u001B[39;00m\u001B[38;5;28mself\u001B[39m.name\u001B[38;5;132;01m}\u001B[39;00m\u001B[33m'\u001B[39m\u001B[33m on \u001B[39m\u001B[33m'\u001B[39m\u001B[38;5;132;01m{\u001B[39;00minstance\u001B[38;5;132;01m}\u001B[39;00m\u001B[33m'\u001B[39m\u001B[33m resulted in an infinite value.\u001B[39m\u001B[33m\"\u001B[39m)\n\u001B[32m    220\u001B[39m \u001B[38;5;28;01mexcept\u001B[39;00m \u001B[38;5;167;01mTypeError\u001B[39;00m:\n",
      "\u001B[31mValueError\u001B[39m: Hook call for 'pillar_draughts' on 'TwoRollPass.DiskElement 'TwoRollPass 'B'[0]'' resulted in an infinite value.",
      "\nThe above exception was the direct cause of the following exception:\n",
      "\u001B[31mRuntimeError\u001B[39m                              Traceback (most recent call last)",
      "\u001B[36mFile \u001B[39m\u001B[32m~/PycharmProjects/phd-thesis-fitting-wear-coefficient/.venv/lib/python3.13/site-packages/pyroll/core/unit/unit.py:201\u001B[39m, in \u001B[36mUnit._solve_subunits\u001B[39m\u001B[34m(self)\u001B[39m\n\u001B[32m    200\u001B[39m \u001B[38;5;28;01mtry\u001B[39;00m:\n\u001B[32m--> \u001B[39m\u001B[32m201\u001B[39m     last_profile = \u001B[43mu\u001B[49m\u001B[43m.\u001B[49m\u001B[43msolve\u001B[49m\u001B[43m(\u001B[49m\u001B[43mlast_profile\u001B[49m\u001B[43m)\u001B[49m\n\u001B[32m    202\u001B[39m \u001B[38;5;28;01mexcept\u001B[39;00m \u001B[38;5;167;01mException\u001B[39;00m \u001B[38;5;28;01mas\u001B[39;00m e:\n",
      "\u001B[36mFile \u001B[39m\u001B[32m~/PycharmProjects/phd-thesis-fitting-wear-coefficient/.venv/lib/python3.13/site-packages/pyroll/core/unit/unit.py:221\u001B[39m, in \u001B[36mUnit.solve\u001B[39m\u001B[34m(self, in_profile)\u001B[39m\n\u001B[32m    220\u001B[39m \u001B[38;5;28mself\u001B[39m.in_profile.reevaluate_cache()\n\u001B[32m--> \u001B[39m\u001B[32m221\u001B[39m \u001B[38;5;28;43mself\u001B[39;49m\u001B[43m.\u001B[49m\u001B[43m_solve_subunits\u001B[49m\u001B[43m(\u001B[49m\u001B[43m)\u001B[49m\n\u001B[32m    222\u001B[39m \u001B[38;5;28mself\u001B[39m.reevaluate_cache()\n",
      "\u001B[36mFile \u001B[39m\u001B[32m~/PycharmProjects/phd-thesis-fitting-wear-coefficient/.venv/lib/python3.13/site-packages/pyroll/core/unit/unit.py:203\u001B[39m, in \u001B[36mUnit._solve_subunits\u001B[39m\u001B[34m(self)\u001B[39m\n\u001B[32m    202\u001B[39m \u001B[38;5;28;01mexcept\u001B[39;00m \u001B[38;5;167;01mException\u001B[39;00m \u001B[38;5;28;01mas\u001B[39;00m e:\n\u001B[32m--> \u001B[39m\u001B[32m203\u001B[39m     \u001B[38;5;28;01mraise\u001B[39;00m \u001B[38;5;167;01mRuntimeError\u001B[39;00m(\u001B[33mf\u001B[39m\u001B[33m\"\u001B[39m\u001B[33mSolution of sub units failed at unit \u001B[39m\u001B[38;5;132;01m{\u001B[39;00mu\u001B[38;5;132;01m}\u001B[39;00m\u001B[33m.\u001B[39m\u001B[33m\"\u001B[39m) \u001B[38;5;28;01mfrom\u001B[39;00m\u001B[38;5;250m \u001B[39m\u001B[34;01me\u001B[39;00m\n",
      "\u001B[31mRuntimeError\u001B[39m: Solution of sub units failed at unit TwoRollPass.DiskElement 'TwoRollPass 'B'[0]'.",
      "\nThe above exception was the direct cause of the following exception:\n",
      "\u001B[31mRuntimeError\u001B[39m                              Traceback (most recent call last)",
      "\u001B[36mCell\u001B[39m\u001B[36m \u001B[39m\u001B[32mIn[12]\u001B[39m\u001B[32m, line 1\u001B[39m\n\u001B[32m----> \u001B[39m\u001B[32m1\u001B[39m \u001B[43mrolling_train\u001B[49m\u001B[43m.\u001B[49m\u001B[43msolve\u001B[49m\u001B[43m(\u001B[49m\u001B[43min_profile\u001B[49m\u001B[43m)\u001B[49m\n",
      "\u001B[36mFile \u001B[39m\u001B[32m~/PycharmProjects/phd-thesis-fitting-wear-coefficient/.venv/lib/python3.13/site-packages/pyroll/core/unit/unit.py:221\u001B[39m, in \u001B[36mUnit.solve\u001B[39m\u001B[34m(self, in_profile)\u001B[39m\n\u001B[32m    218\u001B[39m relaxation_factor = \u001B[32m0.5\u001B[39m\n\u001B[32m    220\u001B[39m \u001B[38;5;28mself\u001B[39m.in_profile.reevaluate_cache()\n\u001B[32m--> \u001B[39m\u001B[32m221\u001B[39m \u001B[38;5;28;43mself\u001B[39;49m\u001B[43m.\u001B[49m\u001B[43m_solve_subunits\u001B[49m\u001B[43m(\u001B[49m\u001B[43m)\u001B[49m\n\u001B[32m    222\u001B[39m \u001B[38;5;28mself\u001B[39m.reevaluate_cache()\n\u001B[32m    223\u001B[39m \u001B[38;5;28mself\u001B[39m.out_profile.reevaluate_cache()\n",
      "\u001B[36mFile \u001B[39m\u001B[32m~/PycharmProjects/phd-thesis-fitting-wear-coefficient/.venv/lib/python3.13/site-packages/pyroll/core/unit/unit.py:203\u001B[39m, in \u001B[36mUnit._solve_subunits\u001B[39m\u001B[34m(self)\u001B[39m\n\u001B[32m    201\u001B[39m     last_profile = u.solve(last_profile)\n\u001B[32m    202\u001B[39m \u001B[38;5;28;01mexcept\u001B[39;00m \u001B[38;5;167;01mException\u001B[39;00m \u001B[38;5;28;01mas\u001B[39;00m e:\n\u001B[32m--> \u001B[39m\u001B[32m203\u001B[39m     \u001B[38;5;28;01mraise\u001B[39;00m \u001B[38;5;167;01mRuntimeError\u001B[39;00m(\u001B[33mf\u001B[39m\u001B[33m\"\u001B[39m\u001B[33mSolution of sub units failed at unit \u001B[39m\u001B[38;5;132;01m{\u001B[39;00mu\u001B[38;5;132;01m}\u001B[39;00m\u001B[33m.\u001B[39m\u001B[33m\"\u001B[39m) \u001B[38;5;28;01mfrom\u001B[39;00m\u001B[38;5;250m \u001B[39m\u001B[34;01me\u001B[39;00m\n",
      "\u001B[31mRuntimeError\u001B[39m: Solution of sub units failed at unit TwoRollPass 'B'."
     ]
    }
   ],
   "execution_count": 12
  },
  {
   "metadata": {
    "ExecuteTime": {
     "end_time": "2025-06-02T14:07:13.463301426Z",
     "start_time": "2025-06-02T13:43:57.272172Z"
    }
   },
   "cell_type": "code",
   "source": [
    "fig, ax = plt.subplots(figsize=(12, 8))\n",
    "for roll_pass in roughing_train.roll_passes:\n",
    "    for cl in roll_pass.contour_lines.geoms:\n",
    "        ax.plot(*cl.xy, color=\"black\")\n",
    "    ax.fill(*roll_pass.out_profile.cross_section.boundary.xy)"
   ],
   "id": "d7b7711d487317be",
   "outputs": [
    {
     "data": {
      "text/plain": [
       "<Figure size 1200x800 with 1 Axes>"
      ],
      "image/png": "[encoded data removed]"
     },
     "metadata": {},
     "output_type": "display_data"
    }
   ],
   "execution_count": 12
  },
  {
   "metadata": {},
   "cell_type": "code",
   "source": [
    "def pillar_deformation_resistance(roll_pass: pr.RollPass):\n",
    "    from pyroll.freiberg_flow_stress import flow_stress\n",
    "    pillars_flow_stress = flow_stress(roll_pass.out_profile.freiberg_flow_stress_coefficients,\n",
    "                                      roll_pass.total_pillar_strains,\n",
    "                                      roll_pass.total_pillar_strain_rates,\n",
    "                                      roll_pass.out_profile.temperature)\n",
    "    pillar_deformation_resistance = pillars_flow_stress / roll_pass.rolling_efficiency\n",
    "    return pillar_deformation_resistance\n",
    "\n",
    "\n",
    "def pillars_wear_length(roll: pr.RollPass.Roll) -> np.ndarray:\n",
    "    local_roll_radii = np.concatenate(\n",
    "        [roll.max_radius - roll.surface_interpolation(0, center)\n",
    "         for center in roll.roll_pass.in_profile.pillars],\n",
    "        axis=0).flatten()\n",
    "\n",
    "    pillars_wear_length = np.zeros_like(roll.roll_pass.in_profile.pillars)\n",
    "\n",
    "    for de in roll.roll_pass.disk_elements:\n",
    "        horizontal_roll_velocities = local_roll_radii * roll.rotational_frequency * 2 * np.pi * np.cos(\n",
    "            de.pillar_longitudinal_angles)\n",
    "        for i, pillars in enumerate(de.in_profile.pillars):\n",
    "            if de.pillar_velocities[i] < horizontal_roll_velocities[i] and de.pillars_in_contact[i]:\n",
    "                pillars_wear_length[i] += de.length\n",
    "\n",
    "    return pillars_wear_length\n",
    "\n",
    "\n",
    "def extract_wear_contours_from_measurement():\n",
    "    root_dir = Path.cwd()\n",
    "    wear_data_dir = root_dir / \"wear_data\"\n",
    "\n",
    "    labels = []\n",
    "    tonnages = []\n",
    "    measured_wear_contours = []\n",
    "\n",
    "    for file in wear_data_dir.iterdir():\n",
    "        with open(file, \"r\") as file:\n",
    "            data = json.load(file)\n",
    "\n",
    "        for entry in data[\"wear_data\"]:\n",
    "            labels.append(entry[\"groove\"])\n",
    "            tonnages.append(entry[\"tonnage\"])\n",
    "            x_values = np.array([point[\"x\"] * 1e-3 for point in entry[\"wear_contour\"]])\n",
    "            y_values = np.array([point[\"y\"] * 1e-3 for point in entry[\"wear_contour\"]])\n",
    "            x_values_shifted = x_values - max(x_values) / 2\n",
    "            measured_wear_contour = LineString(list(zip(x_values_shifted, y_values)))\n",
    "            measured_wear_contours.append(measured_wear_contour)\n",
    "\n",
    "        return labels, tonnages, measured_wear_contours\n",
    "\n",
    "\n",
    "def calculate_area_between_contours(contour_1: LineString, contour_2: LineString):\n",
    "    z1, y1 = contour_1.xy\n",
    "    z2, y2 = contour_2.xy\n",
    "    z_min = max(min(z1), min(z2))\n",
    "    z_max = min(max(z1), max(z2))\n",
    "    z_common = np.linspace(z_min, z_max, 1000)\n",
    "\n",
    "    f1 = interp1d(z1, y1, kind='linear', fill_value='extrapolate')\n",
    "    f2 = interp1d(z2, y2, kind='linear', fill_value='extrapolate')\n",
    "\n",
    "    y1_interp = f1(z_common)\n",
    "    y2_interp = f2(z_common)\n",
    "\n",
    "    diff = np.abs(y1_interp - y2_interp)\n",
    "    area = simpson(diff, z_common)\n",
    "\n",
    "    return area\n",
    "\n",
    "\n",
    "def root_mean_square_value(error_array: np.array) -> float:\n",
    "    return np.sqrt(np.mean(error_array ** 2))\n",
    "\n",
    "\n",
    "def calculate_wear_contour(roll_pass: pr.RollPass, wear_coefficient: float, tonnage: float):\n",
    "    vickers_hardness_c15c = 900\n",
    "\n",
    "    pillars_wear_length = pillars_wear_length(roll_pass.roll)\n",
    "    pillar_deformation_resistance = pillar_deformation_resistance(roll_pass)\n",
    "    pillar_wear_depths = wear_coefficient * pillar_deformation_resistance * pillars_wear_length / (\n",
    "            3 * vickers_hardness_c15c)\n",
    "    total_pillar_wear_depths = pillar_wear_depths * tonnage / roll_pass.in_profile.weight\n",
    "    wear_depths_with_groove_contour = roll_pass.roll.groove.local_depth(\n",
    "        roll_pass.out_profile.pillars) + total_pillar_wear_depths\n",
    "    right_side = list(zip(roll_pass.out_profile.pillars, wear_depths_with_groove_contour))\n",
    "    left_side = list(zip(-roll_pass.out_profile.pillars[::-1], wear_depths_with_groove_contour[::-1]))\n",
    "    combined_contour_list = left_side + right_side\n",
    "    wear_contours.append(LineString(combined_contour_list))\n",
    "\n",
    "    return wear_contours"
   ],
   "id": "3906cb5a6a686071",
   "outputs": [],
   "execution_count": null
  },
  {
   "metadata": {},
   "cell_type": "code",
   "source": [
    "def solve_total_wear_depths_as_contour_line(wear_coefficient: float):\n",
    "    roll_passes = rolling_train.roll_passes\n",
    "    area_errors = []\n",
    "\n",
    "    for roll_pass in roll_passes:\n",
    "        labels, tonnages, measured_wear_contours = extract_wear_contours_from_measurement()\n",
    "        for label, tonnage, measured_wear_contour in zip(labels, tonnages, measured_wear_contours):\n",
    "            if roll_pass.label == labels:\n",
    "                calculated_wear_contour = calculate_wear_contour(roll_pass, wear_coefficient, tonnage * 1000)\n",
    "                area_error = calculate_area_between_contours(calculated_wear_contour, measured_wear_contour)\n",
    "                area_errors.append(area_error)\n",
    "\n",
    "    rms_error = root_mean_square_value(np.array(area_errors))\n",
    "\n"
   ],
   "id": "7db1ff7ef1f7a42b",
   "outputs": [],
   "execution_count": null
  },
  {
   "metadata": {},
   "cell_type": "code",
   "source": [
    "# try:\n",
    "#     result = minimize(\n",
    "#         solve_total_wear_depths_as_contour_line,\n",
    "#         params,\n",
    "#         nan_policy='omit',\n",
    "#         max_nfev=100,\n",
    "#         args=(cases, solver),\n",
    "#         method=\"cobyla\"\n",
    "#     )\n",
    "#     return extract_modifications(result.params)\n",
    "# except Exception as e:\n",
    "#     print(f\"Optimization failed: {e}\")\n",
    "#     return None\n"
   ],
   "id": "375acfed6eaa20ce",
   "outputs": [],
   "execution_count": null
  },
  {
   "metadata": {},
   "cell_type": "code",
   "source": [
    "def compare_groove_contour_to_wear_contour(sequence: pr.PassSequence, roll_pass_label: str):\n",
    "    for roll_pass in sequence.roll_passes:\n",
    "        if roll_pass.label == roll_pass_label:\n",
    "            groove = roll_pass.roll.groove\n",
    "\n",
    "    labels, tonnages, measured_wear_contours = extract_wear_contours_from_measurement(roll_pass_label)\n",
    "\n",
    "    areas_between_contours = []\n",
    "    for contour in measured_wear_contours:\n",
    "        area = calculate_area_between_contours(contour, groove.contour_line)\n",
    "        areas_between_contours.append(area)\n",
    "\n",
    "    fig, ax = plt.subplots(figsize=(12, 8))\n",
    "    ax.set_title(\"Groove Contour Comparison\")\n",
    "    ax.plot(*groove.contour_line.xy)\n",
    "    for contour, tonnage, label, area in zip(measured_wear_contours, tonnages, labels, areas_between_contours):\n",
    "        ax.plot(*contour.xy, label=f\"{label} - {tonnage}\")\n",
    "        print(f\"Area between original groove and wear contour after {tonnage} tons: {area * 1e6:.6e} mm²\")\n",
    "    ax.set_xlabel(\"z [m]\")\n",
    "    ax.set_ylabel(\"y [m]\")\n",
    "    ax.set_aspect(\"equal\")\n",
    "    ax.legend()\n",
    "    ax.grid(True)\n",
    "\n",
    "    return np.array(areas_between_contours)"
   ],
   "id": "c23042b2f07f6743",
   "outputs": [],
   "execution_count": null
  }
 ],
 "metadata": {
  "jupytext": {
   "formats": "ipynb,md"
  },
  "kernelspec": {
   "display_name": "Python 3 (ipykernel)",
   "language": "python",
   "name": "python3"
  },
  "language_info": {
   "codemirror_mode": {
    "name": "ipython",
    "version": 3
   },
   "file_extension": ".py",
   "mimetype": "text/x-python",
   "name": "python",
   "nbconvert_exporter": "python",
   "pygments_lexer": "ipython3",
   "version": "3.12.7"
  }
 },
 "nbformat": 4,
 "nbformat_minor": 5
}
