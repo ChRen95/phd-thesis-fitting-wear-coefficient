{
 "cells": [
  {
   "metadata": {
    "ExecuteTime": {
     "end_time": "2025-06-18T12:37:45.116424Z",
     "start_time": "2025-06-18T12:37:44.536725Z"
    }
   },
   "cell_type": "code",
   "source": [
    "from lmfit import Parameters\n",
    "from lmfit import minimize, fit_report"
   ],
   "id": "23a9b33121736c1b",
   "outputs": [],
   "execution_count": 1
  },
  {
   "metadata": {
    "ExecuteTime": {
     "end_time": "2025-06-18T12:37:46.161564Z",
     "start_time": "2025-06-18T12:37:45.957622Z"
    }
   },
   "cell_type": "code",
   "source": [
    "import pyroll.core as pr\n",
    "import pyroll.pillar_model\n",
    "import pyroll.neutral_point_estimator\n",
    "import pyroll.sparling_spreading\n",
    "import pyroll.hensel_force_torque\n",
    "import pyroll.freiberg_flow_stress\n",
    "import pyroll.ring_model_thermal"
   ],
   "id": "c2430fe7953713d9",
   "outputs": [],
   "execution_count": 2
  },
  {
   "metadata": {
    "ExecuteTime": {
     "end_time": "2025-06-18T12:37:46.746758Z",
     "start_time": "2025-06-18T12:37:46.730170Z"
    }
   },
   "cell_type": "code",
   "source": [
    "from in_profile import create_in_profile_from_surface_temperature\n",
    "from rolling_sequence import rolling_train_e112, rolling_train_e107\n",
    "from utilities import *"
   ],
   "id": "d8df741abd82231b",
   "outputs": [],
   "execution_count": 3
  },
  {
   "metadata": {
    "ExecuteTime": {
     "end_time": "2025-06-18T12:37:50.906716Z",
     "start_time": "2025-06-18T12:37:50.904590Z"
    }
   },
   "cell_type": "code",
   "source": [
    "pyroll.pillar_model.Config.PILLAR_COUNT = 30\n",
    "pyroll.neutral_point_estimator.Config.ESTIMATOR = \"EQUAL\"\n",
    "ROLL_SURFACE_TEMPERATURE = 50 + 273.15\n",
    "DISK_ELEMENT_COUNT = 30"
   ],
   "id": "882e05f0ff0e3b05",
   "outputs": [],
   "execution_count": 4
  },
  {
   "metadata": {
    "ExecuteTime": {
     "end_time": "2025-06-18T12:37:51.498791Z",
     "start_time": "2025-06-18T12:37:51.496566Z"
    }
   },
   "cell_type": "code",
   "source": [
    "@pr.CoolingPipe.DiskElement.heat_transfer_coefficient\n",
    "def heat_transfer_coefficient_model_moreales(self: pr.CoolingPipe.DiskElement):\n",
    "    mean_surface_temperature = (self.in_profile.surface_temperature + self.out_profile.surface_temperature) / 2\n",
    "    profile_surface_temperature_celsius = mean_surface_temperature - 273.15\n",
    "    return 13950 + 5.12 * 1e6 / profile_surface_temperature_celsius"
   ],
   "id": "bec0683651946559",
   "outputs": [],
   "execution_count": 5
  },
  {
   "metadata": {
    "ExecuteTime": {
     "end_time": "2025-06-18T12:37:52.099148Z",
     "start_time": "2025-06-18T12:37:52.096520Z"
    }
   },
   "cell_type": "code",
   "source": [
    "in_profile = create_in_profile_from_surface_temperature(1050 + 273.15)\n",
    "in_profile.ring_temperatures = in_profile.ring_temperatures"
   ],
   "id": "ac729b2907c199de",
   "outputs": [],
   "execution_count": 6
  },
  {
   "metadata": {
    "ExecuteTime": {
     "end_time": "2025-06-18T12:37:52.734561Z",
     "start_time": "2025-06-18T12:37:52.704209Z"
    }
   },
   "cell_type": "code",
   "source": [
    "rolling_train_e112 = rolling_train_e112(ROLL_SURFACE_TEMPERATURE, DISK_ELEMENT_COUNT)\n",
    "rolling_train_e107 = rolling_train_e107(ROLL_SURFACE_TEMPERATURE, DISK_ELEMENT_COUNT)"
   ],
   "id": "fe09575a3ae4613a",
   "outputs": [],
   "execution_count": 7
  },
  {
   "metadata": {
    "ExecuteTime": {
     "end_time": "2025-06-18T13:08:17.423425Z",
     "start_time": "2025-06-18T12:37:53.256435Z"
    }
   },
   "cell_type": "code",
   "source": "rolling_train_e112.solve(in_profile)",
   "id": "8a7d60a04ab6af07",
   "outputs": [
    {
     "name": "stderr",
     "output_type": "stream",
     "text": [
      "Solution iteration of TwoRollPass '3' exceeded the maximum iteration count of 100. Continuing anyway.\n",
      "Solution iteration of TwoRollPass '7' exceeded the maximum iteration count of 100. Continuing anyway.\n",
      "Solution iteration of TwoRollPass '8' exceeded the maximum iteration count of 100. Continuing anyway.\n",
      "Solution iteration of TwoRollPass '14' exceeded the maximum iteration count of 100. Continuing anyway.\n",
      "Solution iteration of TwoRollPass '18-V' exceeded the maximum iteration count of 100. Continuing anyway.\n",
      "Solution iteration of TwoRollPass '23-H' exceeded the maximum iteration count of 100. Continuing anyway.\n",
      "Solution iteration of TwoRollPass '18-V' exceeded the maximum iteration count of 100. Continuing anyway.\n"
     ]
    },
    {
     "data": {
      "text/plain": [
       "Profile(\n",
       "    classifiers={'false_round', 'generic_elongation', 'round', 'symmetric'},\n",
       "    core_temperature=np.float64(1570.0591539343973),\n",
       "    cross_section=Polygon(\n",
       "        area=5.939031536528554e-05,\n",
       "        height=0.008700000000000006,\n",
       "        perimeter=0.027369332464370438,\n",
       "        width=0.008768227336460339,\n",
       "        ),\n",
       "    length=5171.222724142008,\n",
       "    material=['BST500', 'steel'],\n",
       "    ring_temperatures=array([1570.05915393, 1567.12701904, 1558.34092613, 1543.71864333,\n",
       "           1523.23735286, 1496.84675482, 1464.74408402, 1428.15944014,\n",
       "           1390.54359123, 1358.13149   , 1337.87659106]),\n",
       "    strain=np.float64(0.5607017311212023),\n",
       "    surface_temperature=np.float64(1337.876591055721),\n",
       "    t=np.float64(36.875179665279155),\n",
       "    temperature=np.float64(1425.8613020468924),\n",
       "    weight=2400,\n",
       "    width=np.float64(0.008768227336460339),\n",
       "    )"
      ],
      "text/html": [
       "<table><tr><td style='text-align: center'><div>                        <script type=\"text/javascript\">window.PlotlyConfig = {MathJaxConfig: 'local'};</script>\n",
       "        <script charset=\"utf-8\" src=\"https://cdn.plot.ly/plotly-3.0.1.min.js\"></script>                <div id=\"04dabbb8-f66f-4d69-9a45-f93c59cfa3f9\" class=\"plotly-graph-div\" style=\"height:480px; width:640px;\"></div>            <script type=\"text/javascript\">                window.PLOTLYENV=window.PLOTLYENV || {};                                if (document.getElementById(\"04dabbb8-f66f-4d69-9a45-f93c59cfa3f9\")) {                    Plotly.newPlot(                        \"04dabbb8-f66f-4d69-9a45-f93c59cfa3f9\",                        [{\"hovertemplate\":\"z=%{x}\\u003cbr\\u003ey=%{y}\\u003cextra\\u003e\\u003c\\u002fextra\\u003e\",\"legendgroup\":\"\",\"line\":{\"color\":\"#636efa\",\"dash\":\"solid\"},\"marker\":{\"symbol\":\"circle\"},\"mode\":\"lines\",\"name\":\"\",\"orientation\":\"v\",\"showlegend\":false,\"x\":{\"dtype\":\"f8\",\"bdata\":\"AAAAAAAAAACOjqj+VqEjP81H6NoZojM\\u002fx4BXQNl2PT\\u002fEMTVk9qhDP3TlnwR3m0g\\u002frizUjKKUTT8ASBVRCEtRPwpbc0Lw0FM\\u002fAl+4qUFdVj8O4ecnMexYP3jvtpk1d1s\\u002fbKLre5T8XT\\u002f2lDYZbD5gP\\u002fixVuT+e2E\\u002fOc0lCAq3Yj\\u002f0mM561+9jP7g4LtilJmU\\u002fbnt36GBbZj80cTiSHo5nP7TPn4Mqv2g\\u002fGDeze6LuaT9c2mnHpRxrPxiJIa2aSWw\\u002fd1yTsd11bT\\u002flD0Adp6FuPyDg\\u002fy34zm8\\u002fbLUv+iyBcD9mvqk3MiNxPzYbOjIttnE\\u002fSl87jRP1cT82GzoyLbZxP2a+qTcyI3E\\u002fbLUv+iyBcD8g4P8t+M5vP+UPQB2noW4\\u002fd1yTsd11bT8YiSGtmklsP1zaacelHGs\\u002fGDeze6LuaT+0z5+DKr9oPzRxOJIejmc\\u002fbnt36GBbZj+4OC7YpSZlP\\u002fSYznrX72M\\u002fOc0lCAq3Yj\\u002f4sVbk\\u002fnthP\\u002faUNhlsPmA\\u002fbKLre5T8XT9477aZNXdbPw7h5ycx7Fg\\u002fAl+4qUFdVj8KW3NC8NBTPwBIFVEIS1E\\u002frizUjKKUTT905Z8Ed5tIP8QxNWT2qEM\\u002fx4BXQNl2PT\\u002fNR+jaGaIzP46OqP5WoSM\\u002fAAAAAAAAAACOjqj+VqEjv81H6NoZojO\\u002fx4BXQNl2Pb\\u002fEMTVk9qhDv3TlnwR3m0i\\u002frizUjKKUTb8ASBVRCEtRvwpbc0Lw0FO\\u002fAl+4qUFdVr8O4ecnMexYv3jvtpk1d1u\\u002fbKLre5T8Xb\\u002f2lDYZbD5gv\\u002fixVuT+e2G\\u002fOc0lCAq3Yr\\u002f0mM561+9jv7g4LtilJmW\\u002fbnt36GBbZr80cTiSHo5nv7TPn4Mqv2i\\u002fGDeze6Luab9c2mnHpRxrvxiJIa2aSWy\\u002fd1yTsd11bb\\u002flD0Adp6FuvyDg\\u002fy34zm+\\u002fbLUv+iyBcL9mvqk3MiNxvzYbOjIttnG\\u002fSl87jRP1cb82GzoyLbZxv2a+qTcyI3G\\u002fbLUv+iyBcL8g4P8t+M5vv+UPQB2noW6\\u002fd1yTsd11bb8YiSGtmklsv1zaacelHGu\\u002fGDeze6Luab+0z5+DKr9ovzRxOJIejme\\u002fbnt36GBbZr+4OC7YpSZlv\\u002fSYznrX72O\\u002fOc0lCAq3Yr\\u002f4sVbk\\u002fnthv\\u002faUNhlsPmC\\u002fbKLre5T8Xb9477aZNXdbvw7h5ycx7Fi\\u002fAl+4qUFdVr8KW3NC8NBTvwBIFVEIS1G\\u002frizUjKKUTb905Z8Ed5tIv8QxNWT2qEO\\u002fx4BXQNl2Pb\\u002fNR+jaGaIzv46OqP5WoSO\\u002fAAAAAAAAAAA=\"},\"xaxis\":\"x\",\"y\":{\"dtype\":\"f8\",\"bdata\":\"rDXNO07RcT9M5YDYgs1xP8tq7qMdxXE\\u002fzmcmjRO4cT9VYPTx46RxP04nIeMpi3E\\u002f7sG6kU5scT\\u002f0cjxQFUhxP6UW4rKTG3E\\u002fI4Q\\u002f3UDocD9O9TuznK5wP4LkG9Ueb3A\\u002fygGk7nMmcD\\u002fdVNxAua5vP0EkZKMlBG8\\u002f6Wq\\u002fPK9Kbj8c0RHcRnxtP\\u002foxu4f3nmw\\u002f7QYxSLyyaz\\u002fute+au6pqPzD8MbN4jGk\\u002fF5yMnntZaD+QZcLI+gNnP5bTcZq4hGU\\u002faY5QiufgYz\\u002f6I3GmIAViPx76SwFMfl8\\u002fCiieGHTiWT\\u002fWCi0B8phSP6u7OFEGjUw\\u002fAAAAAAAAAACruzhRBo1Mv9YKLQHymFK\\u002fCiieGHTiWb8e+ksBTH5fv\\u002fojcaYgBWK\\u002faY5QiufgY7+W03GauIRlv5Blwsj6A2e\\u002fF5yMnntZaL8w\\u002fDGzeIxpv+6175q7qmq\\u002f7QYxSLyya7\\u002f6MbuH955svxzREdxGfG2\\u002f6Wq\\u002fPK9Kbr9BJGSjJQRvv91U3EC5rm+\\u002fygGk7nMmcL+C5BvVHm9wv071O7OcrnC\\u002fI4Q\\u002f3UDocL+lFuKykxtxv\\u002fRyPFAVSHG\\u002f7sG6kU5scb9OJyHjKYtxv1Vg9PHjpHG\\u002fzmcmjRO4cb\\u002fLau6jHcVxv0zlgNiCzXG\\u002frDXNO07Rcb9M5YDYgs1xv8tq7qMdxXG\\u002fzmcmjRO4cb9VYPTx46Rxv04nIeMpi3G\\u002f7sG6kU5scb\\u002f0cjxQFUhxv6UW4rKTG3G\\u002fI4Q\\u002f3UDocL9O9TuznK5wv4LkG9Ueb3C\\u002fygGk7nMmcL\\u002fdVNxAua5vv0EkZKMlBG+\\u002f6Wq\\u002fPK9Kbr8c0RHcRnxtv\\u002foxu4f3nmy\\u002f7QYxSLyya7\\u002fute+au6pqvzD8MbN4jGm\\u002fF5yMnntZaL+QZcLI+gNnv5bTcZq4hGW\\u002faY5QiufgY7\\u002f6I3GmIAVivx76SwFMfl+\\u002fCiieGHTiWb\\u002fWCi0B8phSv6u7OFEGjUy\\u002fAAAAAAAAAACruzhRBo1MP9YKLQHymFI\\u002fCiieGHTiWT8e+ksBTH5fP\\u002fojcaYgBWI\\u002faY5QiufgYz+W03GauIRlP5Blwsj6A2c\\u002fF5yMnntZaD8w\\u002fDGzeIxpP+6175q7qmo\\u002f7QYxSLyyaz\\u002f6MbuH955sPxzREdxGfG0\\u002f6Wq\\u002fPK9Kbj9BJGSjJQRvP91U3EC5rm8\\u002fygGk7nMmcD+C5BvVHm9wP071O7OcrnA\\u002fI4Q\\u002f3UDocD+lFuKykxtxP\\u002fRyPFAVSHE\\u002f7sG6kU5scT9OJyHjKYtxP1Vg9PHjpHE\\u002fzmcmjRO4cT\\u002fLau6jHcVxP0zlgNiCzXE\\u002frDXNO07RcT8=\"},\"yaxis\":\"y\",\"type\":\"scatter\",\"fill\":\"toself\"}],                        {\"template\":{\"data\":{\"histogram2dcontour\":[{\"type\":\"histogram2dcontour\",\"colorbar\":{\"outlinewidth\":0,\"ticks\":\"\"},\"colorscale\":[[0.0,\"#0d0887\"],[0.1111111111111111,\"#46039f\"],[0.2222222222222222,\"#7201a8\"],[0.3333333333333333,\"#9c179e\"],[0.4444444444444444,\"#bd3786\"],[0.5555555555555556,\"#d8576b\"],[0.6666666666666666,\"#ed7953\"],[0.7777777777777778,\"#fb9f3a\"],[0.8888888888888888,\"#fdca26\"],[1.0,\"#f0f921\"]]}],\"choropleth\":[{\"type\":\"choropleth\",\"colorbar\":{\"outlinewidth\":0,\"ticks\":\"\"}}],\"histogram2d\":[{\"type\":\"histogram2d\",\"colorbar\":{\"outlinewidth\":0,\"ticks\":\"\"},\"colorscale\":[[0.0,\"#0d0887\"],[0.1111111111111111,\"#46039f\"],[0.2222222222222222,\"#7201a8\"],[0.3333333333333333,\"#9c179e\"],[0.4444444444444444,\"#bd3786\"],[0.5555555555555556,\"#d8576b\"],[0.6666666666666666,\"#ed7953\"],[0.7777777777777778,\"#fb9f3a\"],[0.8888888888888888,\"#fdca26\"],[1.0,\"#f0f921\"]]}],\"heatmap\":[{\"type\":\"heatmap\",\"colorbar\":{\"outlinewidth\":0,\"ticks\":\"\"},\"colorscale\":[[0.0,\"#0d0887\"],[0.1111111111111111,\"#46039f\"],[0.2222222222222222,\"#7201a8\"],[0.3333333333333333,\"#9c179e\"],[0.4444444444444444,\"#bd3786\"],[0.5555555555555556,\"#d8576b\"],[0.6666666666666666,\"#ed7953\"],[0.7777777777777778,\"#fb9f3a\"],[0.8888888888888888,\"#fdca26\"],[1.0,\"#f0f921\"]]}],\"contourcarpet\":[{\"type\":\"contourcarpet\",\"colorbar\":{\"outlinewidth\":0,\"ticks\":\"\"}}],\"contour\":[{\"type\":\"contour\",\"colorbar\":{\"outlinewidth\":0,\"ticks\":\"\"},\"colorscale\":[[0.0,\"#0d0887\"],[0.1111111111111111,\"#46039f\"],[0.2222222222222222,\"#7201a8\"],[0.3333333333333333,\"#9c179e\"],[0.4444444444444444,\"#bd3786\"],[0.5555555555555556,\"#d8576b\"],[0.6666666666666666,\"#ed7953\"],[0.7777777777777778,\"#fb9f3a\"],[0.8888888888888888,\"#fdca26\"],[1.0,\"#f0f921\"]]}],\"surface\":[{\"type\":\"surface\",\"colorbar\":{\"outlinewidth\":0,\"ticks\":\"\"},\"colorscale\":[[0.0,\"#0d0887\"],[0.1111111111111111,\"#46039f\"],[0.2222222222222222,\"#7201a8\"],[0.3333333333333333,\"#9c179e\"],[0.4444444444444444,\"#bd3786\"],[0.5555555555555556,\"#d8576b\"],[0.6666666666666666,\"#ed7953\"],[0.7777777777777778,\"#fb9f3a\"],[0.8888888888888888,\"#fdca26\"],[1.0,\"#f0f921\"]]}],\"mesh3d\":[{\"type\":\"mesh3d\",\"colorbar\":{\"outlinewidth\":0,\"ticks\":\"\"}}],\"scatter\":[{\"fillpattern\":{\"fillmode\":\"overlay\",\"size\":10,\"solidity\":0.2},\"type\":\"scatter\"}],\"parcoords\":[{\"type\":\"parcoords\",\"line\":{\"colorbar\":{\"outlinewidth\":0,\"ticks\":\"\"}}}],\"scatterpolargl\":[{\"type\":\"scatterpolargl\",\"marker\":{\"colorbar\":{\"outlinewidth\":0,\"ticks\":\"\"}}}],\"bar\":[{\"error_x\":{\"color\":\"#2a3f5f\"},\"error_y\":{\"color\":\"#2a3f5f\"},\"marker\":{\"line\":{\"color\":\"#E5ECF6\",\"width\":0.5},\"pattern\":{\"fillmode\":\"overlay\",\"size\":10,\"solidity\":0.2}},\"type\":\"bar\"}],\"scattergeo\":[{\"type\":\"scattergeo\",\"marker\":{\"colorbar\":{\"outlinewidth\":0,\"ticks\":\"\"}}}],\"scatterpolar\":[{\"type\":\"scatterpolar\",\"marker\":{\"colorbar\":{\"outlinewidth\":0,\"ticks\":\"\"}}}],\"histogram\":[{\"marker\":{\"pattern\":{\"fillmode\":\"overlay\",\"size\":10,\"solidity\":0.2}},\"type\":\"histogram\"}],\"scattergl\":[{\"type\":\"scattergl\",\"marker\":{\"colorbar\":{\"outlinewidth\":0,\"ticks\":\"\"}}}],\"scatter3d\":[{\"type\":\"scatter3d\",\"line\":{\"colorbar\":{\"outlinewidth\":0,\"ticks\":\"\"}},\"marker\":{\"colorbar\":{\"outlinewidth\":0,\"ticks\":\"\"}}}],\"scattermap\":[{\"type\":\"scattermap\",\"marker\":{\"colorbar\":{\"outlinewidth\":0,\"ticks\":\"\"}}}],\"scattermapbox\":[{\"type\":\"scattermapbox\",\"marker\":{\"colorbar\":{\"outlinewidth\":0,\"ticks\":\"\"}}}],\"scatterternary\":[{\"type\":\"scatterternary\",\"marker\":{\"colorbar\":{\"outlinewidth\":0,\"ticks\":\"\"}}}],\"scattercarpet\":[{\"type\":\"scattercarpet\",\"marker\":{\"colorbar\":{\"outlinewidth\":0,\"ticks\":\"\"}}}],\"carpet\":[{\"aaxis\":{\"endlinecolor\":\"#2a3f5f\",\"gridcolor\":\"white\",\"linecolor\":\"white\",\"minorgridcolor\":\"white\",\"startlinecolor\":\"#2a3f5f\"},\"baxis\":{\"endlinecolor\":\"#2a3f5f\",\"gridcolor\":\"white\",\"linecolor\":\"white\",\"minorgridcolor\":\"white\",\"startlinecolor\":\"#2a3f5f\"},\"type\":\"carpet\"}],\"table\":[{\"cells\":{\"fill\":{\"color\":\"#EBF0F8\"},\"line\":{\"color\":\"white\"}},\"header\":{\"fill\":{\"color\":\"#C8D4E3\"},\"line\":{\"color\":\"white\"}},\"type\":\"table\"}],\"barpolar\":[{\"marker\":{\"line\":{\"color\":\"#E5ECF6\",\"width\":0.5},\"pattern\":{\"fillmode\":\"overlay\",\"size\":10,\"solidity\":0.2}},\"type\":\"barpolar\"}],\"pie\":[{\"automargin\":true,\"type\":\"pie\"}]},\"layout\":{\"autotypenumbers\":\"strict\",\"colorway\":[\"#636efa\",\"#EF553B\",\"#00cc96\",\"#ab63fa\",\"#FFA15A\",\"#19d3f3\",\"#FF6692\",\"#B6E880\",\"#FF97FF\",\"#FECB52\"],\"font\":{\"color\":\"#2a3f5f\"},\"hovermode\":\"closest\",\"hoverlabel\":{\"align\":\"left\"},\"paper_bgcolor\":\"white\",\"plot_bgcolor\":\"#E5ECF6\",\"polar\":{\"bgcolor\":\"#E5ECF6\",\"angularaxis\":{\"gridcolor\":\"white\",\"linecolor\":\"white\",\"ticks\":\"\"},\"radialaxis\":{\"gridcolor\":\"white\",\"linecolor\":\"white\",\"ticks\":\"\"}},\"ternary\":{\"bgcolor\":\"#E5ECF6\",\"aaxis\":{\"gridcolor\":\"white\",\"linecolor\":\"white\",\"ticks\":\"\"},\"baxis\":{\"gridcolor\":\"white\",\"linecolor\":\"white\",\"ticks\":\"\"},\"caxis\":{\"gridcolor\":\"white\",\"linecolor\":\"white\",\"ticks\":\"\"}},\"coloraxis\":{\"colorbar\":{\"outlinewidth\":0,\"ticks\":\"\"}},\"colorscale\":{\"sequential\":[[0.0,\"#0d0887\"],[0.1111111111111111,\"#46039f\"],[0.2222222222222222,\"#7201a8\"],[0.3333333333333333,\"#9c179e\"],[0.4444444444444444,\"#bd3786\"],[0.5555555555555556,\"#d8576b\"],[0.6666666666666666,\"#ed7953\"],[0.7777777777777778,\"#fb9f3a\"],[0.8888888888888888,\"#fdca26\"],[1.0,\"#f0f921\"]],\"sequentialminus\":[[0.0,\"#0d0887\"],[0.1111111111111111,\"#46039f\"],[0.2222222222222222,\"#7201a8\"],[0.3333333333333333,\"#9c179e\"],[0.4444444444444444,\"#bd3786\"],[0.5555555555555556,\"#d8576b\"],[0.6666666666666666,\"#ed7953\"],[0.7777777777777778,\"#fb9f3a\"],[0.8888888888888888,\"#fdca26\"],[1.0,\"#f0f921\"]],\"diverging\":[[0,\"#8e0152\"],[0.1,\"#c51b7d\"],[0.2,\"#de77ae\"],[0.3,\"#f1b6da\"],[0.4,\"#fde0ef\"],[0.5,\"#f7f7f7\"],[0.6,\"#e6f5d0\"],[0.7,\"#b8e186\"],[0.8,\"#7fbc41\"],[0.9,\"#4d9221\"],[1,\"#276419\"]]},\"xaxis\":{\"gridcolor\":\"white\",\"linecolor\":\"white\",\"ticks\":\"\",\"title\":{\"standoff\":15},\"zerolinecolor\":\"white\",\"automargin\":true,\"zerolinewidth\":2},\"yaxis\":{\"gridcolor\":\"white\",\"linecolor\":\"white\",\"ticks\":\"\",\"title\":{\"standoff\":15},\"zerolinecolor\":\"white\",\"automargin\":true,\"zerolinewidth\":2},\"scene\":{\"xaxis\":{\"backgroundcolor\":\"#E5ECF6\",\"gridcolor\":\"white\",\"linecolor\":\"white\",\"showbackground\":true,\"ticks\":\"\",\"zerolinecolor\":\"white\",\"gridwidth\":2},\"yaxis\":{\"backgroundcolor\":\"#E5ECF6\",\"gridcolor\":\"white\",\"linecolor\":\"white\",\"showbackground\":true,\"ticks\":\"\",\"zerolinecolor\":\"white\",\"gridwidth\":2},\"zaxis\":{\"backgroundcolor\":\"#E5ECF6\",\"gridcolor\":\"white\",\"linecolor\":\"white\",\"showbackground\":true,\"ticks\":\"\",\"zerolinecolor\":\"white\",\"gridwidth\":2}},\"shapedefaults\":{\"line\":{\"color\":\"#2a3f5f\"}},\"annotationdefaults\":{\"arrowcolor\":\"#2a3f5f\",\"arrowhead\":0,\"arrowwidth\":1},\"geo\":{\"bgcolor\":\"white\",\"landcolor\":\"#E5ECF6\",\"subunitcolor\":\"white\",\"showland\":true,\"showlakes\":true,\"lakecolor\":\"white\"},\"title\":{\"x\":0.05},\"mapbox\":{\"style\":\"light\"}}},\"xaxis\":{\"anchor\":\"y\",\"domain\":[0.0,1.0],\"title\":{\"text\":\"z\"}},\"yaxis\":{\"anchor\":\"x\",\"domain\":[0.0,1.0],\"title\":{\"text\":\"y\"},\"scaleanchor\":\"x\",\"scaleratio\":1},\"legend\":{\"tracegroupgap\":0},\"margin\":{\"t\":60},\"width\":640,\"height\":480},                        {\"responsive\": true}                    )                };            </script>        </div></td></tr><tr><td style='text-align: left'><details><summary style='font-weight:bold'>Profile</summary><table><tr><td style='text-align:left'>classifiers</td><td><table style='margin:0'><tr><td>&#x27;false_round&#x27;</td></tr><tr><td>&#x27;symmetric&#x27;</td></tr><tr><td>&#x27;round&#x27;</td></tr><tr><td>&#x27;generic_elongation&#x27;</td></tr></table></td></tr><tr><td style='text-align:left'>core_temperature</td><td>np.float64(1570.0591539343973)</td></tr><tr><td style='text-align:left'>cross_section</td><td><table><tr><td style='text-align: center'><div>                        <script type=\"text/javascript\">window.PlotlyConfig = {MathJaxConfig: 'local'};</script>\n",
       "        <script charset=\"utf-8\" src=\"https://cdn.plot.ly/plotly-3.0.1.min.js\"></script>                <div id=\"0d77b7b0-55c1-4696-84f2-8b3aa3c42149\" class=\"plotly-graph-div\" style=\"height:480px; width:640px;\"></div>            <script type=\"text/javascript\">                window.PLOTLYENV=window.PLOTLYENV || {};                                if (document.getElementById(\"0d77b7b0-55c1-4696-84f2-8b3aa3c42149\")) {                    Plotly.newPlot(                        \"0d77b7b0-55c1-4696-84f2-8b3aa3c42149\",                        [{\"hovertemplate\":\"z=%{x}\\u003cbr\\u003ey=%{y}\\u003cextra\\u003e\\u003c\\u002fextra\\u003e\",\"legendgroup\":\"\",\"line\":{\"color\":\"#636efa\",\"dash\":\"solid\"},\"marker\":{\"symbol\":\"circle\"},\"mode\":\"lines\",\"name\":\"\",\"orientation\":\"v\",\"showlegend\":false,\"x\":{\"dtype\":\"f8\",\"bdata\":\"AAAAAAAAAACOjqj+VqEjP81H6NoZojM\\u002fx4BXQNl2PT\\u002fEMTVk9qhDP3TlnwR3m0g\\u002frizUjKKUTT8ASBVRCEtRPwpbc0Lw0FM\\u002fAl+4qUFdVj8O4ecnMexYP3jvtpk1d1s\\u002fbKLre5T8XT\\u002f2lDYZbD5gP\\u002fixVuT+e2E\\u002fOc0lCAq3Yj\\u002f0mM561+9jP7g4LtilJmU\\u002fbnt36GBbZj80cTiSHo5nP7TPn4Mqv2g\\u002fGDeze6LuaT9c2mnHpRxrPxiJIa2aSWw\\u002fd1yTsd11bT\\u002flD0Adp6FuPyDg\\u002fy34zm8\\u002fbLUv+iyBcD9mvqk3MiNxPzYbOjIttnE\\u002fSl87jRP1cT82GzoyLbZxP2a+qTcyI3E\\u002fbLUv+iyBcD8g4P8t+M5vP+UPQB2noW4\\u002fd1yTsd11bT8YiSGtmklsP1zaacelHGs\\u002fGDeze6LuaT+0z5+DKr9oPzRxOJIejmc\\u002fbnt36GBbZj+4OC7YpSZlP\\u002fSYznrX72M\\u002fOc0lCAq3Yj\\u002f4sVbk\\u002fnthP\\u002faUNhlsPmA\\u002fbKLre5T8XT9477aZNXdbPw7h5ycx7Fg\\u002fAl+4qUFdVj8KW3NC8NBTPwBIFVEIS1E\\u002frizUjKKUTT905Z8Ed5tIP8QxNWT2qEM\\u002fx4BXQNl2PT\\u002fNR+jaGaIzP46OqP5WoSM\\u002fAAAAAAAAAACOjqj+VqEjv81H6NoZojO\\u002fx4BXQNl2Pb\\u002fEMTVk9qhDv3TlnwR3m0i\\u002frizUjKKUTb8ASBVRCEtRvwpbc0Lw0FO\\u002fAl+4qUFdVr8O4ecnMexYv3jvtpk1d1u\\u002fbKLre5T8Xb\\u002f2lDYZbD5gv\\u002fixVuT+e2G\\u002fOc0lCAq3Yr\\u002f0mM561+9jv7g4LtilJmW\\u002fbnt36GBbZr80cTiSHo5nv7TPn4Mqv2i\\u002fGDeze6Luab9c2mnHpRxrvxiJIa2aSWy\\u002fd1yTsd11bb\\u002flD0Adp6FuvyDg\\u002fy34zm+\\u002fbLUv+iyBcL9mvqk3MiNxvzYbOjIttnG\\u002fSl87jRP1cb82GzoyLbZxv2a+qTcyI3G\\u002fbLUv+iyBcL8g4P8t+M5vv+UPQB2noW6\\u002fd1yTsd11bb8YiSGtmklsv1zaacelHGu\\u002fGDeze6Luab+0z5+DKr9ovzRxOJIejme\\u002fbnt36GBbZr+4OC7YpSZlv\\u002fSYznrX72O\\u002fOc0lCAq3Yr\\u002f4sVbk\\u002fnthv\\u002faUNhlsPmC\\u002fbKLre5T8Xb9477aZNXdbvw7h5ycx7Fi\\u002fAl+4qUFdVr8KW3NC8NBTvwBIFVEIS1G\\u002frizUjKKUTb905Z8Ed5tIv8QxNWT2qEO\\u002fx4BXQNl2Pb\\u002fNR+jaGaIzv46OqP5WoSO\\u002fAAAAAAAAAAA=\"},\"xaxis\":\"x\",\"y\":{\"dtype\":\"f8\",\"bdata\":\"rDXNO07RcT9M5YDYgs1xP8tq7qMdxXE\\u002fzmcmjRO4cT9VYPTx46RxP04nIeMpi3E\\u002f7sG6kU5scT\\u002f0cjxQFUhxP6UW4rKTG3E\\u002fI4Q\\u002f3UDocD9O9TuznK5wP4LkG9Ueb3A\\u002fygGk7nMmcD\\u002fdVNxAua5vP0EkZKMlBG8\\u002f6Wq\\u002fPK9Kbj8c0RHcRnxtP\\u002foxu4f3nmw\\u002f7QYxSLyyaz\\u002fute+au6pqPzD8MbN4jGk\\u002fF5yMnntZaD+QZcLI+gNnP5bTcZq4hGU\\u002faY5QiufgYz\\u002f6I3GmIAViPx76SwFMfl8\\u002fCiieGHTiWT\\u002fWCi0B8phSP6u7OFEGjUw\\u002fAAAAAAAAAACruzhRBo1Mv9YKLQHymFK\\u002fCiieGHTiWb8e+ksBTH5fv\\u002fojcaYgBWK\\u002faY5QiufgY7+W03GauIRlv5Blwsj6A2e\\u002fF5yMnntZaL8w\\u002fDGzeIxpv+6175q7qmq\\u002f7QYxSLyya7\\u002f6MbuH955svxzREdxGfG2\\u002f6Wq\\u002fPK9Kbr9BJGSjJQRvv91U3EC5rm+\\u002fygGk7nMmcL+C5BvVHm9wv071O7OcrnC\\u002fI4Q\\u002f3UDocL+lFuKykxtxv\\u002fRyPFAVSHG\\u002f7sG6kU5scb9OJyHjKYtxv1Vg9PHjpHG\\u002fzmcmjRO4cb\\u002fLau6jHcVxv0zlgNiCzXG\\u002frDXNO07Rcb9M5YDYgs1xv8tq7qMdxXG\\u002fzmcmjRO4cb9VYPTx46Rxv04nIeMpi3G\\u002f7sG6kU5scb\\u002f0cjxQFUhxv6UW4rKTG3G\\u002fI4Q\\u002f3UDocL9O9TuznK5wv4LkG9Ueb3C\\u002fygGk7nMmcL\\u002fdVNxAua5vv0EkZKMlBG+\\u002f6Wq\\u002fPK9Kbr8c0RHcRnxtv\\u002foxu4f3nmy\\u002f7QYxSLyya7\\u002fute+au6pqvzD8MbN4jGm\\u002fF5yMnntZaL+QZcLI+gNnv5bTcZq4hGW\\u002faY5QiufgY7\\u002f6I3GmIAVivx76SwFMfl+\\u002fCiieGHTiWb\\u002fWCi0B8phSv6u7OFEGjUy\\u002fAAAAAAAAAACruzhRBo1MP9YKLQHymFI\\u002fCiieGHTiWT8e+ksBTH5fP\\u002fojcaYgBWI\\u002faY5QiufgYz+W03GauIRlP5Blwsj6A2c\\u002fF5yMnntZaD8w\\u002fDGzeIxpP+6175q7qmo\\u002f7QYxSLyyaz\\u002f6MbuH955sPxzREdxGfG0\\u002f6Wq\\u002fPK9Kbj9BJGSjJQRvP91U3EC5rm8\\u002fygGk7nMmcD+C5BvVHm9wP071O7OcrnA\\u002fI4Q\\u002f3UDocD+lFuKykxtxP\\u002fRyPFAVSHE\\u002f7sG6kU5scT9OJyHjKYtxP1Vg9PHjpHE\\u002fzmcmjRO4cT\\u002fLau6jHcVxP0zlgNiCzXE\\u002frDXNO07RcT8=\"},\"yaxis\":\"y\",\"type\":\"scatter\",\"fill\":\"toself\"}],                        {\"template\":{\"data\":{\"histogram2dcontour\":[{\"type\":\"histogram2dcontour\",\"colorbar\":{\"outlinewidth\":0,\"ticks\":\"\"},\"colorscale\":[[0.0,\"#0d0887\"],[0.1111111111111111,\"#46039f\"],[0.2222222222222222,\"#7201a8\"],[0.3333333333333333,\"#9c179e\"],[0.4444444444444444,\"#bd3786\"],[0.5555555555555556,\"#d8576b\"],[0.6666666666666666,\"#ed7953\"],[0.7777777777777778,\"#fb9f3a\"],[0.8888888888888888,\"#fdca26\"],[1.0,\"#f0f921\"]]}],\"choropleth\":[{\"type\":\"choropleth\",\"colorbar\":{\"outlinewidth\":0,\"ticks\":\"\"}}],\"histogram2d\":[{\"type\":\"histogram2d\",\"colorbar\":{\"outlinewidth\":0,\"ticks\":\"\"},\"colorscale\":[[0.0,\"#0d0887\"],[0.1111111111111111,\"#46039f\"],[0.2222222222222222,\"#7201a8\"],[0.3333333333333333,\"#9c179e\"],[0.4444444444444444,\"#bd3786\"],[0.5555555555555556,\"#d8576b\"],[0.6666666666666666,\"#ed7953\"],[0.7777777777777778,\"#fb9f3a\"],[0.8888888888888888,\"#fdca26\"],[1.0,\"#f0f921\"]]}],\"heatmap\":[{\"type\":\"heatmap\",\"colorbar\":{\"outlinewidth\":0,\"ticks\":\"\"},\"colorscale\":[[0.0,\"#0d0887\"],[0.1111111111111111,\"#46039f\"],[0.2222222222222222,\"#7201a8\"],[0.3333333333333333,\"#9c179e\"],[0.4444444444444444,\"#bd3786\"],[0.5555555555555556,\"#d8576b\"],[0.6666666666666666,\"#ed7953\"],[0.7777777777777778,\"#fb9f3a\"],[0.8888888888888888,\"#fdca26\"],[1.0,\"#f0f921\"]]}],\"contourcarpet\":[{\"type\":\"contourcarpet\",\"colorbar\":{\"outlinewidth\":0,\"ticks\":\"\"}}],\"contour\":[{\"type\":\"contour\",\"colorbar\":{\"outlinewidth\":0,\"ticks\":\"\"},\"colorscale\":[[0.0,\"#0d0887\"],[0.1111111111111111,\"#46039f\"],[0.2222222222222222,\"#7201a8\"],[0.3333333333333333,\"#9c179e\"],[0.4444444444444444,\"#bd3786\"],[0.5555555555555556,\"#d8576b\"],[0.6666666666666666,\"#ed7953\"],[0.7777777777777778,\"#fb9f3a\"],[0.8888888888888888,\"#fdca26\"],[1.0,\"#f0f921\"]]}],\"surface\":[{\"type\":\"surface\",\"colorbar\":{\"outlinewidth\":0,\"ticks\":\"\"},\"colorscale\":[[0.0,\"#0d0887\"],[0.1111111111111111,\"#46039f\"],[0.2222222222222222,\"#7201a8\"],[0.3333333333333333,\"#9c179e\"],[0.4444444444444444,\"#bd3786\"],[0.5555555555555556,\"#d8576b\"],[0.6666666666666666,\"#ed7953\"],[0.7777777777777778,\"#fb9f3a\"],[0.8888888888888888,\"#fdca26\"],[1.0,\"#f0f921\"]]}],\"mesh3d\":[{\"type\":\"mesh3d\",\"colorbar\":{\"outlinewidth\":0,\"ticks\":\"\"}}],\"scatter\":[{\"fillpattern\":{\"fillmode\":\"overlay\",\"size\":10,\"solidity\":0.2},\"type\":\"scatter\"}],\"parcoords\":[{\"type\":\"parcoords\",\"line\":{\"colorbar\":{\"outlinewidth\":0,\"ticks\":\"\"}}}],\"scatterpolargl\":[{\"type\":\"scatterpolargl\",\"marker\":{\"colorbar\":{\"outlinewidth\":0,\"ticks\":\"\"}}}],\"bar\":[{\"error_x\":{\"color\":\"#2a3f5f\"},\"error_y\":{\"color\":\"#2a3f5f\"},\"marker\":{\"line\":{\"color\":\"#E5ECF6\",\"width\":0.5},\"pattern\":{\"fillmode\":\"overlay\",\"size\":10,\"solidity\":0.2}},\"type\":\"bar\"}],\"scattergeo\":[{\"type\":\"scattergeo\",\"marker\":{\"colorbar\":{\"outlinewidth\":0,\"ticks\":\"\"}}}],\"scatterpolar\":[{\"type\":\"scatterpolar\",\"marker\":{\"colorbar\":{\"outlinewidth\":0,\"ticks\":\"\"}}}],\"histogram\":[{\"marker\":{\"pattern\":{\"fillmode\":\"overlay\",\"size\":10,\"solidity\":0.2}},\"type\":\"histogram\"}],\"scattergl\":[{\"type\":\"scattergl\",\"marker\":{\"colorbar\":{\"outlinewidth\":0,\"ticks\":\"\"}}}],\"scatter3d\":[{\"type\":\"scatter3d\",\"line\":{\"colorbar\":{\"outlinewidth\":0,\"ticks\":\"\"}},\"marker\":{\"colorbar\":{\"outlinewidth\":0,\"ticks\":\"\"}}}],\"scattermap\":[{\"type\":\"scattermap\",\"marker\":{\"colorbar\":{\"outlinewidth\":0,\"ticks\":\"\"}}}],\"scattermapbox\":[{\"type\":\"scattermapbox\",\"marker\":{\"colorbar\":{\"outlinewidth\":0,\"ticks\":\"\"}}}],\"scatterternary\":[{\"type\":\"scatterternary\",\"marker\":{\"colorbar\":{\"outlinewidth\":0,\"ticks\":\"\"}}}],\"scattercarpet\":[{\"type\":\"scattercarpet\",\"marker\":{\"colorbar\":{\"outlinewidth\":0,\"ticks\":\"\"}}}],\"carpet\":[{\"aaxis\":{\"endlinecolor\":\"#2a3f5f\",\"gridcolor\":\"white\",\"linecolor\":\"white\",\"minorgridcolor\":\"white\",\"startlinecolor\":\"#2a3f5f\"},\"baxis\":{\"endlinecolor\":\"#2a3f5f\",\"gridcolor\":\"white\",\"linecolor\":\"white\",\"minorgridcolor\":\"white\",\"startlinecolor\":\"#2a3f5f\"},\"type\":\"carpet\"}],\"table\":[{\"cells\":{\"fill\":{\"color\":\"#EBF0F8\"},\"line\":{\"color\":\"white\"}},\"header\":{\"fill\":{\"color\":\"#C8D4E3\"},\"line\":{\"color\":\"white\"}},\"type\":\"table\"}],\"barpolar\":[{\"marker\":{\"line\":{\"color\":\"#E5ECF6\",\"width\":0.5},\"pattern\":{\"fillmode\":\"overlay\",\"size\":10,\"solidity\":0.2}},\"type\":\"barpolar\"}],\"pie\":[{\"automargin\":true,\"type\":\"pie\"}]},\"layout\":{\"autotypenumbers\":\"strict\",\"colorway\":[\"#636efa\",\"#EF553B\",\"#00cc96\",\"#ab63fa\",\"#FFA15A\",\"#19d3f3\",\"#FF6692\",\"#B6E880\",\"#FF97FF\",\"#FECB52\"],\"font\":{\"color\":\"#2a3f5f\"},\"hovermode\":\"closest\",\"hoverlabel\":{\"align\":\"left\"},\"paper_bgcolor\":\"white\",\"plot_bgcolor\":\"#E5ECF6\",\"polar\":{\"bgcolor\":\"#E5ECF6\",\"angularaxis\":{\"gridcolor\":\"white\",\"linecolor\":\"white\",\"ticks\":\"\"},\"radialaxis\":{\"gridcolor\":\"white\",\"linecolor\":\"white\",\"ticks\":\"\"}},\"ternary\":{\"bgcolor\":\"#E5ECF6\",\"aaxis\":{\"gridcolor\":\"white\",\"linecolor\":\"white\",\"ticks\":\"\"},\"baxis\":{\"gridcolor\":\"white\",\"linecolor\":\"white\",\"ticks\":\"\"},\"caxis\":{\"gridcolor\":\"white\",\"linecolor\":\"white\",\"ticks\":\"\"}},\"coloraxis\":{\"colorbar\":{\"outlinewidth\":0,\"ticks\":\"\"}},\"colorscale\":{\"sequential\":[[0.0,\"#0d0887\"],[0.1111111111111111,\"#46039f\"],[0.2222222222222222,\"#7201a8\"],[0.3333333333333333,\"#9c179e\"],[0.4444444444444444,\"#bd3786\"],[0.5555555555555556,\"#d8576b\"],[0.6666666666666666,\"#ed7953\"],[0.7777777777777778,\"#fb9f3a\"],[0.8888888888888888,\"#fdca26\"],[1.0,\"#f0f921\"]],\"sequentialminus\":[[0.0,\"#0d0887\"],[0.1111111111111111,\"#46039f\"],[0.2222222222222222,\"#7201a8\"],[0.3333333333333333,\"#9c179e\"],[0.4444444444444444,\"#bd3786\"],[0.5555555555555556,\"#d8576b\"],[0.6666666666666666,\"#ed7953\"],[0.7777777777777778,\"#fb9f3a\"],[0.8888888888888888,\"#fdca26\"],[1.0,\"#f0f921\"]],\"diverging\":[[0,\"#8e0152\"],[0.1,\"#c51b7d\"],[0.2,\"#de77ae\"],[0.3,\"#f1b6da\"],[0.4,\"#fde0ef\"],[0.5,\"#f7f7f7\"],[0.6,\"#e6f5d0\"],[0.7,\"#b8e186\"],[0.8,\"#7fbc41\"],[0.9,\"#4d9221\"],[1,\"#276419\"]]},\"xaxis\":{\"gridcolor\":\"white\",\"linecolor\":\"white\",\"ticks\":\"\",\"title\":{\"standoff\":15},\"zerolinecolor\":\"white\",\"automargin\":true,\"zerolinewidth\":2},\"yaxis\":{\"gridcolor\":\"white\",\"linecolor\":\"white\",\"ticks\":\"\",\"title\":{\"standoff\":15},\"zerolinecolor\":\"white\",\"automargin\":true,\"zerolinewidth\":2},\"scene\":{\"xaxis\":{\"backgroundcolor\":\"#E5ECF6\",\"gridcolor\":\"white\",\"linecolor\":\"white\",\"showbackground\":true,\"ticks\":\"\",\"zerolinecolor\":\"white\",\"gridwidth\":2},\"yaxis\":{\"backgroundcolor\":\"#E5ECF6\",\"gridcolor\":\"white\",\"linecolor\":\"white\",\"showbackground\":true,\"ticks\":\"\",\"zerolinecolor\":\"white\",\"gridwidth\":2},\"zaxis\":{\"backgroundcolor\":\"#E5ECF6\",\"gridcolor\":\"white\",\"linecolor\":\"white\",\"showbackground\":true,\"ticks\":\"\",\"zerolinecolor\":\"white\",\"gridwidth\":2}},\"shapedefaults\":{\"line\":{\"color\":\"#2a3f5f\"}},\"annotationdefaults\":{\"arrowcolor\":\"#2a3f5f\",\"arrowhead\":0,\"arrowwidth\":1},\"geo\":{\"bgcolor\":\"white\",\"landcolor\":\"#E5ECF6\",\"subunitcolor\":\"white\",\"showland\":true,\"showlakes\":true,\"lakecolor\":\"white\"},\"title\":{\"x\":0.05},\"mapbox\":{\"style\":\"light\"}}},\"xaxis\":{\"anchor\":\"y\",\"domain\":[0.0,1.0],\"title\":{\"text\":\"z\"}},\"yaxis\":{\"anchor\":\"x\",\"domain\":[0.0,1.0],\"title\":{\"text\":\"y\"},\"scaleanchor\":\"x\",\"scaleratio\":1},\"legend\":{\"tracegroupgap\":0},\"margin\":{\"t\":60},\"width\":640,\"height\":480},                        {\"responsive\": true}                    )                };            </script>        </div></td></tr><tr><td style='text-align: left'><details><summary style='font-weight:bold'>Polygon</summary><table><tr><td style='text-align:left'>area</td><td>5.939031536528554e-05</td></tr><tr><td style='text-align:left'>height</td><td>0.008700000000000006</td></tr><tr><td style='text-align:left'>perimeter</td><td>0.027369332464370438</td></tr><tr><td style='text-align:left'>width</td><td>0.008768227336460339</td></tr></table></details></td></tr></table></td></tr><tr><td style='text-align:left'>length</td><td>5171.222724142008</td></tr><tr><td style='text-align:left'>material</td><td><table style='margin:0'><tr><td>&#x27;BST500&#x27;</td></tr><tr><td>&#x27;steel&#x27;</td></tr></table></td></tr><tr><td style='text-align:left'>ring_temperatures</td><td>array([1570.05915393, 1567.12701904, 1558.34092613, 1543.71864333,\n",
       "       1523.23735286, 1496.84675482, 1464.74408402, 1428.15944014,\n",
       "       1390.54359123, 1358.13149   , 1337.87659106])</td></tr><tr><td style='text-align:left'>strain</td><td>np.float64(0.5607017311212023)</td></tr><tr><td style='text-align:left'>surface_temperature</td><td>np.float64(1337.876591055721)</td></tr><tr><td style='text-align:left'>t</td><td>np.float64(36.875179665279155)</td></tr><tr><td style='text-align:left'>temperature</td><td>np.float64(1425.8613020468924)</td></tr><tr><td style='text-align:left'>weight</td><td>2400</td></tr><tr><td style='text-align:left'>width</td><td>np.float64(0.008768227336460339)</td></tr></table></details></td></tr></table>"
      ]
     },
     "execution_count": 8,
     "metadata": {},
     "output_type": "execute_result"
    }
   ],
   "execution_count": 8
  },
  {
   "metadata": {
    "ExecuteTime": {
     "end_time": "2025-06-18T13:39:22.177980Z",
     "start_time": "2025-06-18T13:08:24.452431Z"
    }
   },
   "cell_type": "code",
   "source": "rolling_train_e107.solve(in_profile)",
   "id": "8d41684a3d4f7735",
   "outputs": [
    {
     "name": "stderr",
     "output_type": "stream",
     "text": [
      "Solution iteration of TwoRollPass '3' exceeded the maximum iteration count of 100. Continuing anyway.\n",
      "Solution iteration of TwoRollPass '7' exceeded the maximum iteration count of 100. Continuing anyway.\n",
      "Solution iteration of TwoRollPass '8' exceeded the maximum iteration count of 100. Continuing anyway.\n",
      "Solution iteration of TwoRollPass '14' exceeded the maximum iteration count of 100. Continuing anyway.\n",
      "Solution iteration of TwoRollPass '22-V' exceeded the maximum iteration count of 100. Continuing anyway.\n",
      "Solution iteration of TwoRollPass '23-H' exceeded the maximum iteration count of 100. Continuing anyway.\n",
      "Solution iteration of TwoRollPass '27-H' exceeded the maximum iteration count of 100. Continuing anyway.\n"
     ]
    },
    {
     "data": {
      "text/plain": [
       "Profile(\n",
       "    classifiers={'false_round', 'generic_elongation', 'round', 'symmetric'},\n",
       "    core_temperature=np.float64(1564.031451573547),\n",
       "    cross_section=Polygon(\n",
       "        area=5.896233250690301e-05,\n",
       "        height=0.008700000000000006,\n",
       "        perimeter=0.027243894306999205,\n",
       "        width=0.008532481593459252,\n",
       "        ),\n",
       "    length=5208.739922328763,\n",
       "    material=['BST500', 'steel'],\n",
       "    ring_temperatures=array([1564.03145157, 1561.14151648, 1552.47714682, 1538.03928781,\n",
       "           1517.78882721, 1491.71342657, 1460.18475728, 1424.7379923 ,\n",
       "           1389.0032269 , 1358.83558383, 1340.17996623]),\n",
       "    strain=np.float64(0.5201991307214924),\n",
       "    surface_temperature=np.float64(1340.1799662253916),\n",
       "    t=np.float64(36.85417501903466),\n",
       "    temperature=np.float64(1423.7227334780737),\n",
       "    weight=2400,\n",
       "    width=np.float64(0.008532481593459252),\n",
       "    )"
      ],
      "text/html": [
       "<table><tr><td style='text-align: center'><div>                        <script type=\"text/javascript\">window.PlotlyConfig = {MathJaxConfig: 'local'};</script>\n",
       "        <script charset=\"utf-8\" src=\"https://cdn.plot.ly/plotly-3.0.1.min.js\"></script>                <div id=\"aff4839b-f6f0-44ea-9b19-7a55013c3a4e\" class=\"plotly-graph-div\" style=\"height:480px; width:640px;\"></div>            <script type=\"text/javascript\">                window.PLOTLYENV=window.PLOTLYENV || {};                                if (document.getElementById(\"aff4839b-f6f0-44ea-9b19-7a55013c3a4e\")) {                    Plotly.newPlot(                        \"aff4839b-f6f0-44ea-9b19-7a55013c3a4e\",                        [{\"hovertemplate\":\"z=%{x}\\u003cbr\\u003ey=%{y}\\u003cextra\\u003e\\u003c\\u002fextra\\u003e\",\"legendgroup\":\"\",\"line\":{\"color\":\"#636efa\",\"dash\":\"solid\"},\"marker\":{\"symbol\":\"circle\"},\"mode\":\"lines\",\"name\":\"\",\"orientation\":\"v\",\"showlegend\":false,\"x\":{\"dtype\":\"f8\",\"bdata\":\"AAAAAAAAAABIRTPrdxAjP939ciXrEDM\\u002foIwmGkycPD8U1GegpRZDP74rn1Wa40c\\u002ftvLt4262TD8ICS9iV8hQP07lR3MsOlM\\u002f+DqPWrqxVT8r1De72S1YP1RZTIKjrVo\\u002fXTrfERgyXT\\u002fA\\u002f9pRP7ZfP\\u002fDjPOpdGmE\\u002fgsaFa\\u002fdWYj\\u002fJtDNAH5FjP\\u002fYZaHjCyGQ\\u002fU\\u002f5sO\\u002f79ZT8mLaVLCzFnPxYFeRbbYWg\\u002f22SVmliQaT8mZZt8u7xqPzZVjAkJ52s\\u002fZJF+YcsObT+YqmmjIDRuP3TMfoH3Vm8\\u002fnBPFUpI6cD\\u002fvLWUE6MZwP2Im46\\u002ftQnE\\u002fWlguS3p5cT9iJuOv7UJxP+8tZQToxnA\\u002fnBPFUpI6cD90zH6B91ZvP5iqaaMgNG4\\u002fZJF+YcsObT82VYwJCedrPyZlm3y7vGo\\u002f22SVmliQaT8WBXkW22FoPyYtpUsLMWc\\u002fU\\u002f5sO\\u002f79ZT\\u002f2GWh4wshkP8m0M0AfkWM\\u002fgsaFa\\u002fdWYj\\u002fw4zzqXRphP8D\\u002f2lE\\u002ftl8\\u002fXTrfERgyXT9UWUyCo61aPyvUN7vZLVg\\u002f+DqPWrqxVT9O5UdzLDpTPwgJL2JXyFA\\u002ftvLt4262TD++K59VmuNHPxTUZ6ClFkM\\u002foIwmGkycPD\\u002fd\\u002fXIl6xAzP0hFM+t3ECM\\u002fAAAAAAAAAABIRTPrdxAjv939ciXrEDO\\u002foIwmGkycPL8U1GegpRZDv74rn1Wa40e\\u002ftvLt4262TL8ICS9iV8hQv07lR3MsOlO\\u002f+DqPWrqxVb8r1De72S1Yv1RZTIKjrVq\\u002fXTrfERgyXb\\u002fA\\u002f9pRP7Zfv\\u002fDjPOpdGmG\\u002fgsaFa\\u002fdWYr\\u002fJtDNAH5Fjv\\u002fYZaHjCyGS\\u002fU\\u002f5sO\\u002f79Zb8mLaVLCzFnvxYFeRbbYWi\\u002f22SVmliQab8mZZt8u7xqvzZVjAkJ52u\\u002fZJF+YcsObb+YqmmjIDRuv3TMfoH3Vm+\\u002fnBPFUpI6cL\\u002fvLWUE6MZwv2Im46\\u002ftQnG\\u002fWlguS3p5cb9iJuOv7UJxv+8tZQToxnC\\u002fnBPFUpI6cL90zH6B91Zvv5iqaaMgNG6\\u002fZJF+YcsObb82VYwJCedrvyZlm3y7vGq\\u002f22SVmliQab8WBXkW22FovyYtpUsLMWe\\u002fU\\u002f5sO\\u002f79Zb\\u002f2GWh4wshkv8m0M0AfkWO\\u002fgsaFa\\u002fdWYr\\u002fw4zzqXRphv8D\\u002f2lE\\u002ftl+\\u002fXTrfERgyXb9UWUyCo61avyvUN7vZLVi\\u002f+DqPWrqxVb9O5UdzLDpTvwgJL2JXyFC\\u002ftvLt4262TL++K59VmuNHvxTUZ6ClFkO\\u002foIwmGkycPL\\u002fd\\u002fXIl6xAzv0hFM+t3ECO\\u002fAAAAAAAAAAA=\"},\"xaxis\":\"x\",\"y\":{\"dtype\":\"f8\",\"bdata\":\"rDXNO07RcT9Z91vZns1xPxqwf2rGxXE\\u002fS\\u002fLi\\u002f7y5cT990CaaHadxP\\u002ft7fUMbj3E\\u002fSThlQn5ycT+vn19s6E9xP+rF8Cb3JXE\\u002fkr4D4m\\u002f2cD9bXxmMHMFwPxfaZhzugnA\\u002fGGmjnkA9cD+T0yLaBeJvPyROQcgYPW8\\u002fwiWczT2Dbj+BIp4GlLttP0\\u002fFVv8d5mw\\u002fhJFqLsb7az+SLV0G1\\u002fpqP+EZ7uIc6Gk\\u002fiB8pYgi\\u002faD9Znbm6b3BnP3nX+AUHB2Y\\u002f5Mx5AwqAZD\\u002fWZJsj87JiP8NlbqKkr2A\\u002f3viOKT\\u002fkXD+IS4wr58FWP4QQ9zI9v1A\\u002fAAAAAAAAAACEEPcyPb9Qv4hLjCvnwVa\\u002f3viOKT\\u002fkXL\\u002fDZW6ipK9gv9ZkmyPzsmK\\u002f5Mx5AwqAZL951\\u002fgFBwdmv1mdubpvcGe\\u002fiB8pYgi\\u002faL\\u002fhGe7iHOhpv5ItXQbX+mq\\u002fhJFqLsb7a79PxVb\\u002fHeZsv4EingaUu22\\u002fwiWczT2Dbr8kTkHIGD1vv5PTItoF4m+\\u002fGGmjnkA9cL8X2mYc7oJwv1tfGYwcwXC\\u002fkr4D4m\\u002f2cL\\u002fqxfAm9yVxv6+fX2zoT3G\\u002fSThlQn5ycb\\u002f7e31DG49xv33QJpodp3G\\u002fS\\u002fLi\\u002f7y5cb8asH9qxsVxv1n3W9mezXG\\u002frDXNO07Rcb9Z91vZns1xvxqwf2rGxXG\\u002fS\\u002fLi\\u002f7y5cb990CaaHadxv\\u002ft7fUMbj3G\\u002fSThlQn5ycb+vn19s6E9xv+rF8Cb3JXG\\u002fkr4D4m\\u002f2cL9bXxmMHMFwvxfaZhzugnC\\u002fGGmjnkA9cL+T0yLaBeJvvyROQcgYPW+\\u002fwiWczT2Dbr+BIp4GlLttv0\\u002fFVv8d5my\\u002fhJFqLsb7a7+SLV0G1\\u002fpqv+EZ7uIc6Gm\\u002fiB8pYgi\\u002faL9Znbm6b3Bnv3nX+AUHB2a\\u002f5Mx5AwqAZL\\u002fWZJsj87Jiv8NlbqKkr2C\\u002f3viOKT\\u002fkXL+IS4wr58FWv4QQ9zI9v1C\\u002fAAAAAAAAAACEEPcyPb9QP4hLjCvnwVY\\u002f3viOKT\\u002fkXD\\u002fDZW6ipK9gP9ZkmyPzsmI\\u002f5Mx5AwqAZD951\\u002fgFBwdmP1mdubpvcGc\\u002fiB8pYgi\\u002faD\\u002fhGe7iHOhpP5ItXQbX+mo\\u002fhJFqLsb7az9PxVb\\u002fHeZsP4EingaUu20\\u002fwiWczT2Dbj8kTkHIGD1vP5PTItoF4m8\\u002fGGmjnkA9cD8X2mYc7oJwP1tfGYwcwXA\\u002fkr4D4m\\u002f2cD\\u002fqxfAm9yVxP6+fX2zoT3E\\u002fSThlQn5ycT\\u002f7e31DG49xP33QJpodp3E\\u002fS\\u002fLi\\u002f7y5cT8asH9qxsVxP1n3W9mezXE\\u002frDXNO07RcT8=\"},\"yaxis\":\"y\",\"type\":\"scatter\",\"fill\":\"toself\"}],                        {\"template\":{\"data\":{\"histogram2dcontour\":[{\"type\":\"histogram2dcontour\",\"colorbar\":{\"outlinewidth\":0,\"ticks\":\"\"},\"colorscale\":[[0.0,\"#0d0887\"],[0.1111111111111111,\"#46039f\"],[0.2222222222222222,\"#7201a8\"],[0.3333333333333333,\"#9c179e\"],[0.4444444444444444,\"#bd3786\"],[0.5555555555555556,\"#d8576b\"],[0.6666666666666666,\"#ed7953\"],[0.7777777777777778,\"#fb9f3a\"],[0.8888888888888888,\"#fdca26\"],[1.0,\"#f0f921\"]]}],\"choropleth\":[{\"type\":\"choropleth\",\"colorbar\":{\"outlinewidth\":0,\"ticks\":\"\"}}],\"histogram2d\":[{\"type\":\"histogram2d\",\"colorbar\":{\"outlinewidth\":0,\"ticks\":\"\"},\"colorscale\":[[0.0,\"#0d0887\"],[0.1111111111111111,\"#46039f\"],[0.2222222222222222,\"#7201a8\"],[0.3333333333333333,\"#9c179e\"],[0.4444444444444444,\"#bd3786\"],[0.5555555555555556,\"#d8576b\"],[0.6666666666666666,\"#ed7953\"],[0.7777777777777778,\"#fb9f3a\"],[0.8888888888888888,\"#fdca26\"],[1.0,\"#f0f921\"]]}],\"heatmap\":[{\"type\":\"heatmap\",\"colorbar\":{\"outlinewidth\":0,\"ticks\":\"\"},\"colorscale\":[[0.0,\"#0d0887\"],[0.1111111111111111,\"#46039f\"],[0.2222222222222222,\"#7201a8\"],[0.3333333333333333,\"#9c179e\"],[0.4444444444444444,\"#bd3786\"],[0.5555555555555556,\"#d8576b\"],[0.6666666666666666,\"#ed7953\"],[0.7777777777777778,\"#fb9f3a\"],[0.8888888888888888,\"#fdca26\"],[1.0,\"#f0f921\"]]}],\"contourcarpet\":[{\"type\":\"contourcarpet\",\"colorbar\":{\"outlinewidth\":0,\"ticks\":\"\"}}],\"contour\":[{\"type\":\"contour\",\"colorbar\":{\"outlinewidth\":0,\"ticks\":\"\"},\"colorscale\":[[0.0,\"#0d0887\"],[0.1111111111111111,\"#46039f\"],[0.2222222222222222,\"#7201a8\"],[0.3333333333333333,\"#9c179e\"],[0.4444444444444444,\"#bd3786\"],[0.5555555555555556,\"#d8576b\"],[0.6666666666666666,\"#ed7953\"],[0.7777777777777778,\"#fb9f3a\"],[0.8888888888888888,\"#fdca26\"],[1.0,\"#f0f921\"]]}],\"surface\":[{\"type\":\"surface\",\"colorbar\":{\"outlinewidth\":0,\"ticks\":\"\"},\"colorscale\":[[0.0,\"#0d0887\"],[0.1111111111111111,\"#46039f\"],[0.2222222222222222,\"#7201a8\"],[0.3333333333333333,\"#9c179e\"],[0.4444444444444444,\"#bd3786\"],[0.5555555555555556,\"#d8576b\"],[0.6666666666666666,\"#ed7953\"],[0.7777777777777778,\"#fb9f3a\"],[0.8888888888888888,\"#fdca26\"],[1.0,\"#f0f921\"]]}],\"mesh3d\":[{\"type\":\"mesh3d\",\"colorbar\":{\"outlinewidth\":0,\"ticks\":\"\"}}],\"scatter\":[{\"fillpattern\":{\"fillmode\":\"overlay\",\"size\":10,\"solidity\":0.2},\"type\":\"scatter\"}],\"parcoords\":[{\"type\":\"parcoords\",\"line\":{\"colorbar\":{\"outlinewidth\":0,\"ticks\":\"\"}}}],\"scatterpolargl\":[{\"type\":\"scatterpolargl\",\"marker\":{\"colorbar\":{\"outlinewidth\":0,\"ticks\":\"\"}}}],\"bar\":[{\"error_x\":{\"color\":\"#2a3f5f\"},\"error_y\":{\"color\":\"#2a3f5f\"},\"marker\":{\"line\":{\"color\":\"#E5ECF6\",\"width\":0.5},\"pattern\":{\"fillmode\":\"overlay\",\"size\":10,\"solidity\":0.2}},\"type\":\"bar\"}],\"scattergeo\":[{\"type\":\"scattergeo\",\"marker\":{\"colorbar\":{\"outlinewidth\":0,\"ticks\":\"\"}}}],\"scatterpolar\":[{\"type\":\"scatterpolar\",\"marker\":{\"colorbar\":{\"outlinewidth\":0,\"ticks\":\"\"}}}],\"histogram\":[{\"marker\":{\"pattern\":{\"fillmode\":\"overlay\",\"size\":10,\"solidity\":0.2}},\"type\":\"histogram\"}],\"scattergl\":[{\"type\":\"scattergl\",\"marker\":{\"colorbar\":{\"outlinewidth\":0,\"ticks\":\"\"}}}],\"scatter3d\":[{\"type\":\"scatter3d\",\"line\":{\"colorbar\":{\"outlinewidth\":0,\"ticks\":\"\"}},\"marker\":{\"colorbar\":{\"outlinewidth\":0,\"ticks\":\"\"}}}],\"scattermap\":[{\"type\":\"scattermap\",\"marker\":{\"colorbar\":{\"outlinewidth\":0,\"ticks\":\"\"}}}],\"scattermapbox\":[{\"type\":\"scattermapbox\",\"marker\":{\"colorbar\":{\"outlinewidth\":0,\"ticks\":\"\"}}}],\"scatterternary\":[{\"type\":\"scatterternary\",\"marker\":{\"colorbar\":{\"outlinewidth\":0,\"ticks\":\"\"}}}],\"scattercarpet\":[{\"type\":\"scattercarpet\",\"marker\":{\"colorbar\":{\"outlinewidth\":0,\"ticks\":\"\"}}}],\"carpet\":[{\"aaxis\":{\"endlinecolor\":\"#2a3f5f\",\"gridcolor\":\"white\",\"linecolor\":\"white\",\"minorgridcolor\":\"white\",\"startlinecolor\":\"#2a3f5f\"},\"baxis\":{\"endlinecolor\":\"#2a3f5f\",\"gridcolor\":\"white\",\"linecolor\":\"white\",\"minorgridcolor\":\"white\",\"startlinecolor\":\"#2a3f5f\"},\"type\":\"carpet\"}],\"table\":[{\"cells\":{\"fill\":{\"color\":\"#EBF0F8\"},\"line\":{\"color\":\"white\"}},\"header\":{\"fill\":{\"color\":\"#C8D4E3\"},\"line\":{\"color\":\"white\"}},\"type\":\"table\"}],\"barpolar\":[{\"marker\":{\"line\":{\"color\":\"#E5ECF6\",\"width\":0.5},\"pattern\":{\"fillmode\":\"overlay\",\"size\":10,\"solidity\":0.2}},\"type\":\"barpolar\"}],\"pie\":[{\"automargin\":true,\"type\":\"pie\"}]},\"layout\":{\"autotypenumbers\":\"strict\",\"colorway\":[\"#636efa\",\"#EF553B\",\"#00cc96\",\"#ab63fa\",\"#FFA15A\",\"#19d3f3\",\"#FF6692\",\"#B6E880\",\"#FF97FF\",\"#FECB52\"],\"font\":{\"color\":\"#2a3f5f\"},\"hovermode\":\"closest\",\"hoverlabel\":{\"align\":\"left\"},\"paper_bgcolor\":\"white\",\"plot_bgcolor\":\"#E5ECF6\",\"polar\":{\"bgcolor\":\"#E5ECF6\",\"angularaxis\":{\"gridcolor\":\"white\",\"linecolor\":\"white\",\"ticks\":\"\"},\"radialaxis\":{\"gridcolor\":\"white\",\"linecolor\":\"white\",\"ticks\":\"\"}},\"ternary\":{\"bgcolor\":\"#E5ECF6\",\"aaxis\":{\"gridcolor\":\"white\",\"linecolor\":\"white\",\"ticks\":\"\"},\"baxis\":{\"gridcolor\":\"white\",\"linecolor\":\"white\",\"ticks\":\"\"},\"caxis\":{\"gridcolor\":\"white\",\"linecolor\":\"white\",\"ticks\":\"\"}},\"coloraxis\":{\"colorbar\":{\"outlinewidth\":0,\"ticks\":\"\"}},\"colorscale\":{\"sequential\":[[0.0,\"#0d0887\"],[0.1111111111111111,\"#46039f\"],[0.2222222222222222,\"#7201a8\"],[0.3333333333333333,\"#9c179e\"],[0.4444444444444444,\"#bd3786\"],[0.5555555555555556,\"#d8576b\"],[0.6666666666666666,\"#ed7953\"],[0.7777777777777778,\"#fb9f3a\"],[0.8888888888888888,\"#fdca26\"],[1.0,\"#f0f921\"]],\"sequentialminus\":[[0.0,\"#0d0887\"],[0.1111111111111111,\"#46039f\"],[0.2222222222222222,\"#7201a8\"],[0.3333333333333333,\"#9c179e\"],[0.4444444444444444,\"#bd3786\"],[0.5555555555555556,\"#d8576b\"],[0.6666666666666666,\"#ed7953\"],[0.7777777777777778,\"#fb9f3a\"],[0.8888888888888888,\"#fdca26\"],[1.0,\"#f0f921\"]],\"diverging\":[[0,\"#8e0152\"],[0.1,\"#c51b7d\"],[0.2,\"#de77ae\"],[0.3,\"#f1b6da\"],[0.4,\"#fde0ef\"],[0.5,\"#f7f7f7\"],[0.6,\"#e6f5d0\"],[0.7,\"#b8e186\"],[0.8,\"#7fbc41\"],[0.9,\"#4d9221\"],[1,\"#276419\"]]},\"xaxis\":{\"gridcolor\":\"white\",\"linecolor\":\"white\",\"ticks\":\"\",\"title\":{\"standoff\":15},\"zerolinecolor\":\"white\",\"automargin\":true,\"zerolinewidth\":2},\"yaxis\":{\"gridcolor\":\"white\",\"linecolor\":\"white\",\"ticks\":\"\",\"title\":{\"standoff\":15},\"zerolinecolor\":\"white\",\"automargin\":true,\"zerolinewidth\":2},\"scene\":{\"xaxis\":{\"backgroundcolor\":\"#E5ECF6\",\"gridcolor\":\"white\",\"linecolor\":\"white\",\"showbackground\":true,\"ticks\":\"\",\"zerolinecolor\":\"white\",\"gridwidth\":2},\"yaxis\":{\"backgroundcolor\":\"#E5ECF6\",\"gridcolor\":\"white\",\"linecolor\":\"white\",\"showbackground\":true,\"ticks\":\"\",\"zerolinecolor\":\"white\",\"gridwidth\":2},\"zaxis\":{\"backgroundcolor\":\"#E5ECF6\",\"gridcolor\":\"white\",\"linecolor\":\"white\",\"showbackground\":true,\"ticks\":\"\",\"zerolinecolor\":\"white\",\"gridwidth\":2}},\"shapedefaults\":{\"line\":{\"color\":\"#2a3f5f\"}},\"annotationdefaults\":{\"arrowcolor\":\"#2a3f5f\",\"arrowhead\":0,\"arrowwidth\":1},\"geo\":{\"bgcolor\":\"white\",\"landcolor\":\"#E5ECF6\",\"subunitcolor\":\"white\",\"showland\":true,\"showlakes\":true,\"lakecolor\":\"white\"},\"title\":{\"x\":0.05},\"mapbox\":{\"style\":\"light\"}}},\"xaxis\":{\"anchor\":\"y\",\"domain\":[0.0,1.0],\"title\":{\"text\":\"z\"}},\"yaxis\":{\"anchor\":\"x\",\"domain\":[0.0,1.0],\"title\":{\"text\":\"y\"},\"scaleanchor\":\"x\",\"scaleratio\":1},\"legend\":{\"tracegroupgap\":0},\"margin\":{\"t\":60},\"width\":640,\"height\":480},                        {\"responsive\": true}                    )                };            </script>        </div></td></tr><tr><td style='text-align: left'><details><summary style='font-weight:bold'>Profile</summary><table><tr><td style='text-align:left'>classifiers</td><td><table style='margin:0'><tr><td>&#x27;false_round&#x27;</td></tr><tr><td>&#x27;symmetric&#x27;</td></tr><tr><td>&#x27;round&#x27;</td></tr><tr><td>&#x27;generic_elongation&#x27;</td></tr></table></td></tr><tr><td style='text-align:left'>core_temperature</td><td>np.float64(1564.031451573547)</td></tr><tr><td style='text-align:left'>cross_section</td><td><table><tr><td style='text-align: center'><div>                        <script type=\"text/javascript\">window.PlotlyConfig = {MathJaxConfig: 'local'};</script>\n",
       "        <script charset=\"utf-8\" src=\"https://cdn.plot.ly/plotly-3.0.1.min.js\"></script>                <div id=\"b452dd80-0fb5-4244-b366-9538559a6156\" class=\"plotly-graph-div\" style=\"height:480px; width:640px;\"></div>            <script type=\"text/javascript\">                window.PLOTLYENV=window.PLOTLYENV || {};                                if (document.getElementById(\"b452dd80-0fb5-4244-b366-9538559a6156\")) {                    Plotly.newPlot(                        \"b452dd80-0fb5-4244-b366-9538559a6156\",                        [{\"hovertemplate\":\"z=%{x}\\u003cbr\\u003ey=%{y}\\u003cextra\\u003e\\u003c\\u002fextra\\u003e\",\"legendgroup\":\"\",\"line\":{\"color\":\"#636efa\",\"dash\":\"solid\"},\"marker\":{\"symbol\":\"circle\"},\"mode\":\"lines\",\"name\":\"\",\"orientation\":\"v\",\"showlegend\":false,\"x\":{\"dtype\":\"f8\",\"bdata\":\"AAAAAAAAAABIRTPrdxAjP939ciXrEDM\\u002foIwmGkycPD8U1GegpRZDP74rn1Wa40c\\u002ftvLt4262TD8ICS9iV8hQP07lR3MsOlM\\u002f+DqPWrqxVT8r1De72S1YP1RZTIKjrVo\\u002fXTrfERgyXT\\u002fA\\u002f9pRP7ZfP\\u002fDjPOpdGmE\\u002fgsaFa\\u002fdWYj\\u002fJtDNAH5FjP\\u002fYZaHjCyGQ\\u002fU\\u002f5sO\\u002f79ZT8mLaVLCzFnPxYFeRbbYWg\\u002f22SVmliQaT8mZZt8u7xqPzZVjAkJ52s\\u002fZJF+YcsObT+YqmmjIDRuP3TMfoH3Vm8\\u002fnBPFUpI6cD\\u002fvLWUE6MZwP2Im46\\u002ftQnE\\u002fWlguS3p5cT9iJuOv7UJxP+8tZQToxnA\\u002fnBPFUpI6cD90zH6B91ZvP5iqaaMgNG4\\u002fZJF+YcsObT82VYwJCedrPyZlm3y7vGo\\u002f22SVmliQaT8WBXkW22FoPyYtpUsLMWc\\u002fU\\u002f5sO\\u002f79ZT\\u002f2GWh4wshkP8m0M0AfkWM\\u002fgsaFa\\u002fdWYj\\u002fw4zzqXRphP8D\\u002f2lE\\u002ftl8\\u002fXTrfERgyXT9UWUyCo61aPyvUN7vZLVg\\u002f+DqPWrqxVT9O5UdzLDpTPwgJL2JXyFA\\u002ftvLt4262TD++K59VmuNHPxTUZ6ClFkM\\u002foIwmGkycPD\\u002fd\\u002fXIl6xAzP0hFM+t3ECM\\u002fAAAAAAAAAABIRTPrdxAjv939ciXrEDO\\u002foIwmGkycPL8U1GegpRZDv74rn1Wa40e\\u002ftvLt4262TL8ICS9iV8hQv07lR3MsOlO\\u002f+DqPWrqxVb8r1De72S1Yv1RZTIKjrVq\\u002fXTrfERgyXb\\u002fA\\u002f9pRP7Zfv\\u002fDjPOpdGmG\\u002fgsaFa\\u002fdWYr\\u002fJtDNAH5Fjv\\u002fYZaHjCyGS\\u002fU\\u002f5sO\\u002f79Zb8mLaVLCzFnvxYFeRbbYWi\\u002f22SVmliQab8mZZt8u7xqvzZVjAkJ52u\\u002fZJF+YcsObb+YqmmjIDRuv3TMfoH3Vm+\\u002fnBPFUpI6cL\\u002fvLWUE6MZwv2Im46\\u002ftQnG\\u002fWlguS3p5cb9iJuOv7UJxv+8tZQToxnC\\u002fnBPFUpI6cL90zH6B91Zvv5iqaaMgNG6\\u002fZJF+YcsObb82VYwJCedrvyZlm3y7vGq\\u002f22SVmliQab8WBXkW22FovyYtpUsLMWe\\u002fU\\u002f5sO\\u002f79Zb\\u002f2GWh4wshkv8m0M0AfkWO\\u002fgsaFa\\u002fdWYr\\u002fw4zzqXRphv8D\\u002f2lE\\u002ftl+\\u002fXTrfERgyXb9UWUyCo61avyvUN7vZLVi\\u002f+DqPWrqxVb9O5UdzLDpTvwgJL2JXyFC\\u002ftvLt4262TL++K59VmuNHvxTUZ6ClFkO\\u002foIwmGkycPL\\u002fd\\u002fXIl6xAzv0hFM+t3ECO\\u002fAAAAAAAAAAA=\"},\"xaxis\":\"x\",\"y\":{\"dtype\":\"f8\",\"bdata\":\"rDXNO07RcT9Z91vZns1xPxqwf2rGxXE\\u002fS\\u002fLi\\u002f7y5cT990CaaHadxP\\u002ft7fUMbj3E\\u002fSThlQn5ycT+vn19s6E9xP+rF8Cb3JXE\\u002fkr4D4m\\u002f2cD9bXxmMHMFwPxfaZhzugnA\\u002fGGmjnkA9cD+T0yLaBeJvPyROQcgYPW8\\u002fwiWczT2Dbj+BIp4GlLttP0\\u002fFVv8d5mw\\u002fhJFqLsb7az+SLV0G1\\u002fpqP+EZ7uIc6Gk\\u002fiB8pYgi\\u002faD9Znbm6b3BnP3nX+AUHB2Y\\u002f5Mx5AwqAZD\\u002fWZJsj87JiP8NlbqKkr2A\\u002f3viOKT\\u002fkXD+IS4wr58FWP4QQ9zI9v1A\\u002fAAAAAAAAAACEEPcyPb9Qv4hLjCvnwVa\\u002f3viOKT\\u002fkXL\\u002fDZW6ipK9gv9ZkmyPzsmK\\u002f5Mx5AwqAZL951\\u002fgFBwdmv1mdubpvcGe\\u002fiB8pYgi\\u002faL\\u002fhGe7iHOhpv5ItXQbX+mq\\u002fhJFqLsb7a79PxVb\\u002fHeZsv4EingaUu22\\u002fwiWczT2Dbr8kTkHIGD1vv5PTItoF4m+\\u002fGGmjnkA9cL8X2mYc7oJwv1tfGYwcwXC\\u002fkr4D4m\\u002f2cL\\u002fqxfAm9yVxv6+fX2zoT3G\\u002fSThlQn5ycb\\u002f7e31DG49xv33QJpodp3G\\u002fS\\u002fLi\\u002f7y5cb8asH9qxsVxv1n3W9mezXG\\u002frDXNO07Rcb9Z91vZns1xvxqwf2rGxXG\\u002fS\\u002fLi\\u002f7y5cb990CaaHadxv\\u002ft7fUMbj3G\\u002fSThlQn5ycb+vn19s6E9xv+rF8Cb3JXG\\u002fkr4D4m\\u002f2cL9bXxmMHMFwvxfaZhzugnC\\u002fGGmjnkA9cL+T0yLaBeJvvyROQcgYPW+\\u002fwiWczT2Dbr+BIp4GlLttv0\\u002fFVv8d5my\\u002fhJFqLsb7a7+SLV0G1\\u002fpqv+EZ7uIc6Gm\\u002fiB8pYgi\\u002faL9Znbm6b3Bnv3nX+AUHB2a\\u002f5Mx5AwqAZL\\u002fWZJsj87Jiv8NlbqKkr2C\\u002f3viOKT\\u002fkXL+IS4wr58FWv4QQ9zI9v1C\\u002fAAAAAAAAAACEEPcyPb9QP4hLjCvnwVY\\u002f3viOKT\\u002fkXD\\u002fDZW6ipK9gP9ZkmyPzsmI\\u002f5Mx5AwqAZD951\\u002fgFBwdmP1mdubpvcGc\\u002fiB8pYgi\\u002faD\\u002fhGe7iHOhpP5ItXQbX+mo\\u002fhJFqLsb7az9PxVb\\u002fHeZsP4EingaUu20\\u002fwiWczT2Dbj8kTkHIGD1vP5PTItoF4m8\\u002fGGmjnkA9cD8X2mYc7oJwP1tfGYwcwXA\\u002fkr4D4m\\u002f2cD\\u002fqxfAm9yVxP6+fX2zoT3E\\u002fSThlQn5ycT\\u002f7e31DG49xP33QJpodp3E\\u002fS\\u002fLi\\u002f7y5cT8asH9qxsVxP1n3W9mezXE\\u002frDXNO07RcT8=\"},\"yaxis\":\"y\",\"type\":\"scatter\",\"fill\":\"toself\"}],                        {\"template\":{\"data\":{\"histogram2dcontour\":[{\"type\":\"histogram2dcontour\",\"colorbar\":{\"outlinewidth\":0,\"ticks\":\"\"},\"colorscale\":[[0.0,\"#0d0887\"],[0.1111111111111111,\"#46039f\"],[0.2222222222222222,\"#7201a8\"],[0.3333333333333333,\"#9c179e\"],[0.4444444444444444,\"#bd3786\"],[0.5555555555555556,\"#d8576b\"],[0.6666666666666666,\"#ed7953\"],[0.7777777777777778,\"#fb9f3a\"],[0.8888888888888888,\"#fdca26\"],[1.0,\"#f0f921\"]]}],\"choropleth\":[{\"type\":\"choropleth\",\"colorbar\":{\"outlinewidth\":0,\"ticks\":\"\"}}],\"histogram2d\":[{\"type\":\"histogram2d\",\"colorbar\":{\"outlinewidth\":0,\"ticks\":\"\"},\"colorscale\":[[0.0,\"#0d0887\"],[0.1111111111111111,\"#46039f\"],[0.2222222222222222,\"#7201a8\"],[0.3333333333333333,\"#9c179e\"],[0.4444444444444444,\"#bd3786\"],[0.5555555555555556,\"#d8576b\"],[0.6666666666666666,\"#ed7953\"],[0.7777777777777778,\"#fb9f3a\"],[0.8888888888888888,\"#fdca26\"],[1.0,\"#f0f921\"]]}],\"heatmap\":[{\"type\":\"heatmap\",\"colorbar\":{\"outlinewidth\":0,\"ticks\":\"\"},\"colorscale\":[[0.0,\"#0d0887\"],[0.1111111111111111,\"#46039f\"],[0.2222222222222222,\"#7201a8\"],[0.3333333333333333,\"#9c179e\"],[0.4444444444444444,\"#bd3786\"],[0.5555555555555556,\"#d8576b\"],[0.6666666666666666,\"#ed7953\"],[0.7777777777777778,\"#fb9f3a\"],[0.8888888888888888,\"#fdca26\"],[1.0,\"#f0f921\"]]}],\"contourcarpet\":[{\"type\":\"contourcarpet\",\"colorbar\":{\"outlinewidth\":0,\"ticks\":\"\"}}],\"contour\":[{\"type\":\"contour\",\"colorbar\":{\"outlinewidth\":0,\"ticks\":\"\"},\"colorscale\":[[0.0,\"#0d0887\"],[0.1111111111111111,\"#46039f\"],[0.2222222222222222,\"#7201a8\"],[0.3333333333333333,\"#9c179e\"],[0.4444444444444444,\"#bd3786\"],[0.5555555555555556,\"#d8576b\"],[0.6666666666666666,\"#ed7953\"],[0.7777777777777778,\"#fb9f3a\"],[0.8888888888888888,\"#fdca26\"],[1.0,\"#f0f921\"]]}],\"surface\":[{\"type\":\"surface\",\"colorbar\":{\"outlinewidth\":0,\"ticks\":\"\"},\"colorscale\":[[0.0,\"#0d0887\"],[0.1111111111111111,\"#46039f\"],[0.2222222222222222,\"#7201a8\"],[0.3333333333333333,\"#9c179e\"],[0.4444444444444444,\"#bd3786\"],[0.5555555555555556,\"#d8576b\"],[0.6666666666666666,\"#ed7953\"],[0.7777777777777778,\"#fb9f3a\"],[0.8888888888888888,\"#fdca26\"],[1.0,\"#f0f921\"]]}],\"mesh3d\":[{\"type\":\"mesh3d\",\"colorbar\":{\"outlinewidth\":0,\"ticks\":\"\"}}],\"scatter\":[{\"fillpattern\":{\"fillmode\":\"overlay\",\"size\":10,\"solidity\":0.2},\"type\":\"scatter\"}],\"parcoords\":[{\"type\":\"parcoords\",\"line\":{\"colorbar\":{\"outlinewidth\":0,\"ticks\":\"\"}}}],\"scatterpolargl\":[{\"type\":\"scatterpolargl\",\"marker\":{\"colorbar\":{\"outlinewidth\":0,\"ticks\":\"\"}}}],\"bar\":[{\"error_x\":{\"color\":\"#2a3f5f\"},\"error_y\":{\"color\":\"#2a3f5f\"},\"marker\":{\"line\":{\"color\":\"#E5ECF6\",\"width\":0.5},\"pattern\":{\"fillmode\":\"overlay\",\"size\":10,\"solidity\":0.2}},\"type\":\"bar\"}],\"scattergeo\":[{\"type\":\"scattergeo\",\"marker\":{\"colorbar\":{\"outlinewidth\":0,\"ticks\":\"\"}}}],\"scatterpolar\":[{\"type\":\"scatterpolar\",\"marker\":{\"colorbar\":{\"outlinewidth\":0,\"ticks\":\"\"}}}],\"histogram\":[{\"marker\":{\"pattern\":{\"fillmode\":\"overlay\",\"size\":10,\"solidity\":0.2}},\"type\":\"histogram\"}],\"scattergl\":[{\"type\":\"scattergl\",\"marker\":{\"colorbar\":{\"outlinewidth\":0,\"ticks\":\"\"}}}],\"scatter3d\":[{\"type\":\"scatter3d\",\"line\":{\"colorbar\":{\"outlinewidth\":0,\"ticks\":\"\"}},\"marker\":{\"colorbar\":{\"outlinewidth\":0,\"ticks\":\"\"}}}],\"scattermap\":[{\"type\":\"scattermap\",\"marker\":{\"colorbar\":{\"outlinewidth\":0,\"ticks\":\"\"}}}],\"scattermapbox\":[{\"type\":\"scattermapbox\",\"marker\":{\"colorbar\":{\"outlinewidth\":0,\"ticks\":\"\"}}}],\"scatterternary\":[{\"type\":\"scatterternary\",\"marker\":{\"colorbar\":{\"outlinewidth\":0,\"ticks\":\"\"}}}],\"scattercarpet\":[{\"type\":\"scattercarpet\",\"marker\":{\"colorbar\":{\"outlinewidth\":0,\"ticks\":\"\"}}}],\"carpet\":[{\"aaxis\":{\"endlinecolor\":\"#2a3f5f\",\"gridcolor\":\"white\",\"linecolor\":\"white\",\"minorgridcolor\":\"white\",\"startlinecolor\":\"#2a3f5f\"},\"baxis\":{\"endlinecolor\":\"#2a3f5f\",\"gridcolor\":\"white\",\"linecolor\":\"white\",\"minorgridcolor\":\"white\",\"startlinecolor\":\"#2a3f5f\"},\"type\":\"carpet\"}],\"table\":[{\"cells\":{\"fill\":{\"color\":\"#EBF0F8\"},\"line\":{\"color\":\"white\"}},\"header\":{\"fill\":{\"color\":\"#C8D4E3\"},\"line\":{\"color\":\"white\"}},\"type\":\"table\"}],\"barpolar\":[{\"marker\":{\"line\":{\"color\":\"#E5ECF6\",\"width\":0.5},\"pattern\":{\"fillmode\":\"overlay\",\"size\":10,\"solidity\":0.2}},\"type\":\"barpolar\"}],\"pie\":[{\"automargin\":true,\"type\":\"pie\"}]},\"layout\":{\"autotypenumbers\":\"strict\",\"colorway\":[\"#636efa\",\"#EF553B\",\"#00cc96\",\"#ab63fa\",\"#FFA15A\",\"#19d3f3\",\"#FF6692\",\"#B6E880\",\"#FF97FF\",\"#FECB52\"],\"font\":{\"color\":\"#2a3f5f\"},\"hovermode\":\"closest\",\"hoverlabel\":{\"align\":\"left\"},\"paper_bgcolor\":\"white\",\"plot_bgcolor\":\"#E5ECF6\",\"polar\":{\"bgcolor\":\"#E5ECF6\",\"angularaxis\":{\"gridcolor\":\"white\",\"linecolor\":\"white\",\"ticks\":\"\"},\"radialaxis\":{\"gridcolor\":\"white\",\"linecolor\":\"white\",\"ticks\":\"\"}},\"ternary\":{\"bgcolor\":\"#E5ECF6\",\"aaxis\":{\"gridcolor\":\"white\",\"linecolor\":\"white\",\"ticks\":\"\"},\"baxis\":{\"gridcolor\":\"white\",\"linecolor\":\"white\",\"ticks\":\"\"},\"caxis\":{\"gridcolor\":\"white\",\"linecolor\":\"white\",\"ticks\":\"\"}},\"coloraxis\":{\"colorbar\":{\"outlinewidth\":0,\"ticks\":\"\"}},\"colorscale\":{\"sequential\":[[0.0,\"#0d0887\"],[0.1111111111111111,\"#46039f\"],[0.2222222222222222,\"#7201a8\"],[0.3333333333333333,\"#9c179e\"],[0.4444444444444444,\"#bd3786\"],[0.5555555555555556,\"#d8576b\"],[0.6666666666666666,\"#ed7953\"],[0.7777777777777778,\"#fb9f3a\"],[0.8888888888888888,\"#fdca26\"],[1.0,\"#f0f921\"]],\"sequentialminus\":[[0.0,\"#0d0887\"],[0.1111111111111111,\"#46039f\"],[0.2222222222222222,\"#7201a8\"],[0.3333333333333333,\"#9c179e\"],[0.4444444444444444,\"#bd3786\"],[0.5555555555555556,\"#d8576b\"],[0.6666666666666666,\"#ed7953\"],[0.7777777777777778,\"#fb9f3a\"],[0.8888888888888888,\"#fdca26\"],[1.0,\"#f0f921\"]],\"diverging\":[[0,\"#8e0152\"],[0.1,\"#c51b7d\"],[0.2,\"#de77ae\"],[0.3,\"#f1b6da\"],[0.4,\"#fde0ef\"],[0.5,\"#f7f7f7\"],[0.6,\"#e6f5d0\"],[0.7,\"#b8e186\"],[0.8,\"#7fbc41\"],[0.9,\"#4d9221\"],[1,\"#276419\"]]},\"xaxis\":{\"gridcolor\":\"white\",\"linecolor\":\"white\",\"ticks\":\"\",\"title\":{\"standoff\":15},\"zerolinecolor\":\"white\",\"automargin\":true,\"zerolinewidth\":2},\"yaxis\":{\"gridcolor\":\"white\",\"linecolor\":\"white\",\"ticks\":\"\",\"title\":{\"standoff\":15},\"zerolinecolor\":\"white\",\"automargin\":true,\"zerolinewidth\":2},\"scene\":{\"xaxis\":{\"backgroundcolor\":\"#E5ECF6\",\"gridcolor\":\"white\",\"linecolor\":\"white\",\"showbackground\":true,\"ticks\":\"\",\"zerolinecolor\":\"white\",\"gridwidth\":2},\"yaxis\":{\"backgroundcolor\":\"#E5ECF6\",\"gridcolor\":\"white\",\"linecolor\":\"white\",\"showbackground\":true,\"ticks\":\"\",\"zerolinecolor\":\"white\",\"gridwidth\":2},\"zaxis\":{\"backgroundcolor\":\"#E5ECF6\",\"gridcolor\":\"white\",\"linecolor\":\"white\",\"showbackground\":true,\"ticks\":\"\",\"zerolinecolor\":\"white\",\"gridwidth\":2}},\"shapedefaults\":{\"line\":{\"color\":\"#2a3f5f\"}},\"annotationdefaults\":{\"arrowcolor\":\"#2a3f5f\",\"arrowhead\":0,\"arrowwidth\":1},\"geo\":{\"bgcolor\":\"white\",\"landcolor\":\"#E5ECF6\",\"subunitcolor\":\"white\",\"showland\":true,\"showlakes\":true,\"lakecolor\":\"white\"},\"title\":{\"x\":0.05},\"mapbox\":{\"style\":\"light\"}}},\"xaxis\":{\"anchor\":\"y\",\"domain\":[0.0,1.0],\"title\":{\"text\":\"z\"}},\"yaxis\":{\"anchor\":\"x\",\"domain\":[0.0,1.0],\"title\":{\"text\":\"y\"},\"scaleanchor\":\"x\",\"scaleratio\":1},\"legend\":{\"tracegroupgap\":0},\"margin\":{\"t\":60},\"width\":640,\"height\":480},                        {\"responsive\": true}                    )                };            </script>        </div></td></tr><tr><td style='text-align: left'><details><summary style='font-weight:bold'>Polygon</summary><table><tr><td style='text-align:left'>area</td><td>5.896233250690301e-05</td></tr><tr><td style='text-align:left'>height</td><td>0.008700000000000006</td></tr><tr><td style='text-align:left'>perimeter</td><td>0.027243894306999205</td></tr><tr><td style='text-align:left'>width</td><td>0.008532481593459252</td></tr></table></details></td></tr></table></td></tr><tr><td style='text-align:left'>length</td><td>5208.739922328763</td></tr><tr><td style='text-align:left'>material</td><td><table style='margin:0'><tr><td>&#x27;BST500&#x27;</td></tr><tr><td>&#x27;steel&#x27;</td></tr></table></td></tr><tr><td style='text-align:left'>ring_temperatures</td><td>array([1564.03145157, 1561.14151648, 1552.47714682, 1538.03928781,\n",
       "       1517.78882721, 1491.71342657, 1460.18475728, 1424.7379923 ,\n",
       "       1389.0032269 , 1358.83558383, 1340.17996623])</td></tr><tr><td style='text-align:left'>strain</td><td>np.float64(0.5201991307214924)</td></tr><tr><td style='text-align:left'>surface_temperature</td><td>np.float64(1340.1799662253916)</td></tr><tr><td style='text-align:left'>t</td><td>np.float64(36.85417501903466)</td></tr><tr><td style='text-align:left'>temperature</td><td>np.float64(1423.7227334780737)</td></tr><tr><td style='text-align:left'>weight</td><td>2400</td></tr><tr><td style='text-align:left'>width</td><td>np.float64(0.008532481593459252)</td></tr></table></details></td></tr></table>"
      ]
     },
     "execution_count": 9,
     "metadata": {},
     "output_type": "execute_result"
    }
   ],
   "execution_count": 9
  },
  {
   "metadata": {
    "ExecuteTime": {
     "end_time": "2025-06-18T13:46:33.776153Z",
     "start_time": "2025-06-18T13:46:33.772556Z"
    }
   },
   "cell_type": "code",
   "source": [
    "def solve_total_wear_depths_as_contour_line(params):\n",
    "    sequences = [\n",
    "        {\n",
    "            \"label\": \"e11_2\",\n",
    "            \"sequence\": rolling_train_e112\n",
    "        },\n",
    "        {\n",
    "            \"label\": \"e10_7\",\n",
    "            \"sequence\": rolling_train_e107\n",
    "        }\n",
    "    ]\n",
    "\n",
    "    area_errors = []\n",
    "\n",
    "    for entry in sequences:\n",
    "        groove_label = entry[\"label\"]\n",
    "        sequence = entry[\"sequence\"]\n",
    "        roll_passes = sequence.roll_passes\n",
    "        measurements = extract_wear_contours_from_measurement(groove_label)\n",
    "\n",
    "        for measurement_id, labels, tonnages, measured_wear_contours in measurements:\n",
    "            for roll_pass in roll_passes:\n",
    "                for label, tonnage, measured_wear_contour in zip(labels, tonnages, measured_wear_contours):\n",
    "                    if roll_pass.label == label:\n",
    "\n",
    "                        wear_coefficient = get_wear_coefficient(roll_pass, params)\n",
    "                        calculated_wear_contour = calculate_wear_contour(roll_pass, wear_coefficient, tonnage * 1000)\n",
    "                        area_error = calculate_area_between_contours(calculated_wear_contour, measured_wear_contour)\n",
    "                        area_errors.append(area_error)\n",
    "                    else:\n",
    "                        continue\n",
    "    rms_error = root_mean_square_value(np.array(area_errors))\n",
    "    return rms_error\n"
   ],
   "id": "22e82b3857c95d90",
   "outputs": [],
   "execution_count": 10
  },
  {
   "metadata": {
    "ExecuteTime": {
     "end_time": "2025-06-18T14:02:18.701530Z",
     "start_time": "2025-06-18T14:02:18.695943Z"
    }
   },
   "cell_type": "code",
   "source": [
    "def solve_total_wear_depths_as_contour_line_4_pass_block(params):\n",
    "    sequences = [\n",
    "        {\n",
    "            \"label\": \"e11_2\",\n",
    "            \"sequence\": rolling_train_e112\n",
    "        },\n",
    "        {\n",
    "            \"label\": \"e10_7\",\n",
    "            \"sequence\": rolling_train_e107\n",
    "        }\n",
    "    ]\n",
    "\n",
    "    area_errors = []\n",
    "\n",
    "    for entry in sequences:\n",
    "        groove_label = entry[\"label\"]\n",
    "        sequence = entry[\"sequence\"]\n",
    "        roll_passes = sequence.roll_passes\n",
    "        measurements = extract_wear_contours_from_measurement(groove_label)\n",
    "\n",
    "        for measurement_id, labels, tonnages, measured_wear_contours in measurements:\n",
    "            for roll_pass in roll_passes:\n",
    "                for label, tonnage, measured_wear_contour in zip(labels, tonnages, measured_wear_contours):\n",
    "                    if roll_pass.label == label and label in [\"17-H\", \"18-V\"]:\n",
    "\n",
    "                        wear_coefficient = get_wear_coefficient(roll_pass, params)\n",
    "                        calculated_wear_contour = calculate_wear_contour(roll_pass, wear_coefficient, tonnage * 1000)\n",
    "                        area_error = calculate_area_between_contours(calculated_wear_contour, measured_wear_contour)\n",
    "                        area_errors.append(area_error)\n",
    "                    else:\n",
    "                        continue\n",
    "    rms_error = root_mean_square_value(np.array(area_errors))\n",
    "    return rms_error\n",
    "\n",
    "\n",
    "def solve_total_wear_depths_as_contour_line_6_pass_block(params):\n",
    "    sequences = [\n",
    "        {\n",
    "            \"label\": \"e11_2\",\n",
    "            \"sequence\": rolling_train_e112\n",
    "        },\n",
    "        {\n",
    "            \"label\": \"e10_7\",\n",
    "            \"sequence\": rolling_train_e107\n",
    "        }\n",
    "    ]\n",
    "\n",
    "    area_errors = []\n",
    "\n",
    "    for entry in sequences:\n",
    "        groove_label = entry[\"label\"]\n",
    "        sequence = entry[\"sequence\"]\n",
    "        roll_passes = sequence.roll_passes\n",
    "        measurements = extract_wear_contours_from_measurement(groove_label)\n",
    "\n",
    "        for measurement_id, labels, tonnages, measured_wear_contours in measurements:\n",
    "            for roll_pass in roll_passes:\n",
    "                for label, tonnage, measured_wear_contour in zip(labels, tonnages, measured_wear_contours):\n",
    "                    if roll_pass.label == label and label in [\"21-H\", \"22-V\", \"23-H\", \"24-V\"]:\n",
    "\n",
    "                        wear_coefficient = get_wear_coefficient(roll_pass, params)\n",
    "                        calculated_wear_contour = calculate_wear_contour(roll_pass, wear_coefficient, tonnage * 1000)\n",
    "                        area_error = calculate_area_between_contours(calculated_wear_contour, measured_wear_contour)\n",
    "                        area_errors.append(area_error)\n",
    "                    else:\n",
    "                        continue\n",
    "    rms_error = root_mean_square_value(np.array(area_errors))\n",
    "    return rms_error\n",
    "\n",
    "\n",
    "def solve_total_wear_depths_as_contour_line_csb_block(params):\n",
    "    sequences = [\n",
    "        {\n",
    "            \"label\": \"e11_2\",\n",
    "            \"sequence\": rolling_train_e112\n",
    "        },\n",
    "        {\n",
    "            \"label\": \"e10_7\",\n",
    "            \"sequence\": rolling_train_e107\n",
    "        }\n",
    "    ]\n",
    "\n",
    "    area_errors = []\n",
    "\n",
    "    for entry in sequences:\n",
    "        groove_label = entry[\"label\"]\n",
    "        sequence = entry[\"sequence\"]\n",
    "        roll_passes = sequence.roll_passes\n",
    "        measurements = extract_wear_contours_from_measurement(groove_label)\n",
    "\n",
    "        for measurement_id, labels, tonnages, measured_wear_contours in measurements:\n",
    "            for roll_pass in roll_passes:\n",
    "                for label, tonnage, measured_wear_contour in zip(labels, tonnages, measured_wear_contours):\n",
    "                    if roll_pass.label == label and label in [\"27-H\", \"28-V\"]:\n",
    "\n",
    "                        wear_coefficient = get_wear_coefficient(roll_pass, params)\n",
    "                        calculated_wear_contour = calculate_wear_contour(roll_pass, wear_coefficient, tonnage * 1000)\n",
    "                        area_error = calculate_area_between_contours(calculated_wear_contour, measured_wear_contour)\n",
    "                        area_errors.append(area_error)\n",
    "                    else:\n",
    "                        continue\n",
    "    rms_error = root_mean_square_value(np.array(area_errors))\n",
    "    return rms_error"
   ],
   "id": "d6bde75d614a3235",
   "outputs": [],
   "execution_count": 30
  },
  {
   "metadata": {
    "ExecuteTime": {
     "end_time": "2025-06-18T13:47:57.641701Z",
     "start_time": "2025-06-18T13:47:57.637992Z"
    }
   },
   "cell_type": "code",
   "source": [
    "params_constant_cobyla = Parameters()\n",
    "params_constant_cobyla.add('wear_coefficient', value=1e-6, min=1e-10, max=1e-1, vary=True)\n",
    "\n",
    "params_linear_function_cobyla = Parameters()\n",
    "params_linear_function_cobyla.add('base_wear_coefficient', value=1e-6, min=1e-10, max=1e-1, vary=True)\n",
    "params_linear_function_cobyla.add('roll_gap_ratio_coefficient', value=1e-6, min=1e-10, max=1e-1, vary=True)\n",
    "\n",
    "params_cubic_function_cobyla = Parameters()\n",
    "params_cubic_function_cobyla.add('base_wear_coefficient', value=1e-6, min=1e-10, max=1e-1, vary=True)\n",
    "params_cubic_function_cobyla.add('roll_gap_ratio_coefficient', value=1e-6, min=1e-10, max=1e-1, vary=True)\n",
    "params_cubic_function_cobyla.add('speed_ratio_coefficient', value=1e-6, min=1e-10, max=1e-1, vary=True)"
   ],
   "id": "6a0b6f2d8a3c457",
   "outputs": [],
   "execution_count": 12
  },
  {
   "metadata": {
    "ExecuteTime": {
     "end_time": "2025-06-18T13:49:46.680696Z",
     "start_time": "2025-06-18T13:49:08.935493Z"
    }
   },
   "cell_type": "code",
   "source": [
    "result_constant_cobyla = minimize(\n",
    "    solve_total_wear_depths_as_contour_line,\n",
    "    params_constant_cobyla,\n",
    "    nan_policy='omit',\n",
    "    max_nfev=100,\n",
    "    method=\"cobyla\"\n",
    ")\n",
    "\n",
    "result_linear_function_cobyla = minimize(\n",
    "    solve_total_wear_depths_as_contour_line,\n",
    "    params_linear_function_cobyla,\n",
    "    nan_policy='omit',\n",
    "    max_nfev=100,\n",
    "    method=\"cobyla\"\n",
    ")\n",
    "\n",
    "result_cubic_function_cobyla = minimize(\n",
    "    solve_total_wear_depths_as_contour_line,\n",
    "    params_cubic_function_cobyla,\n",
    "    nan_policy='omit',\n",
    "    max_nfev=100,\n",
    "    method=\"cobyla\"\n",
    ")"
   ],
   "id": "ea78e32cea3cb9fc",
   "outputs": [],
   "execution_count": 14
  },
  {
   "metadata": {
    "ExecuteTime": {
     "end_time": "2025-06-18T13:50:39.674148Z",
     "start_time": "2025-06-18T13:50:39.671620Z"
    }
   },
   "cell_type": "code",
   "source": "print(fit_report(result_constant_cobyla))",
   "id": "7e9eb68026d8a668",
   "outputs": [
    {
     "name": "stdout",
     "output_type": "stream",
     "text": [
      "[[Fit Statistics]]\n",
      "    # fitting method   = COBYLA\n",
      "    # function evals   = 21\n",
      "    # data points      = 1\n",
      "    # variables        = 1\n",
      "    chi-square         = 4.8089e-10\n",
      "    reduced chi-square = 4.8089e-10\n",
      "    Akaike info crit   = -19.4553802\n",
      "    Bayesian info crit = -21.4553802\n",
      "##  Warning: uncertainties could not be estimated:\n",
      "    this fitting method does not natively calculate uncertainties\n",
      "    and numdifftools is not installed for lmfit to do this. Use\n",
      "    `pip install numdifftools` for lmfit to estimate uncertainties\n",
      "    with this fitting method.\n",
      "[[Variables]]\n",
      "    wear_coefficient:  8.7963e-10 (init = 1e-06)\n"
     ]
    }
   ],
   "execution_count": 15
  },
  {
   "metadata": {
    "ExecuteTime": {
     "end_time": "2025-06-18T13:50:53.748166Z",
     "start_time": "2025-06-18T13:50:53.746079Z"
    }
   },
   "cell_type": "code",
   "source": "print(fit_report(result_linear_function_cobyla))",
   "id": "2d626f9fa45bfbba",
   "outputs": [
    {
     "name": "stdout",
     "output_type": "stream",
     "text": [
      "[[Fit Statistics]]\n",
      "    # fitting method   = COBYLA\n",
      "    # function evals   = 29\n",
      "    # data points      = 1\n",
      "    # variables        = 2\n",
      "    chi-square         = 4.1440e-10\n",
      "    reduced chi-square = 4.1440e-10\n",
      "    Akaike info crit   = -17.6041785\n",
      "    Bayesian info crit = -21.6041785\n",
      "##  Warning: uncertainties could not be estimated:\n",
      "    this fitting method does not natively calculate uncertainties\n",
      "    and numdifftools is not installed for lmfit to do this. Use\n",
      "    `pip install numdifftools` for lmfit to estimate uncertainties\n",
      "    with this fitting method.\n",
      "[[Variables]]\n",
      "    base_wear_coefficient:       2.7404e-10 (init = 1e-06)\n",
      "    roll_gap_ratio_coefficient:  1.4988e-10 (init = 1e-06)\n"
     ]
    }
   ],
   "execution_count": 16
  },
  {
   "metadata": {
    "ExecuteTime": {
     "end_time": "2025-06-18T13:51:07.872340Z",
     "start_time": "2025-06-18T13:51:07.870201Z"
    }
   },
   "cell_type": "code",
   "source": "print(fit_report(result_cubic_function_cobyla))",
   "id": "acfcf5eda5b35c3a",
   "outputs": [
    {
     "name": "stdout",
     "output_type": "stream",
     "text": [
      "[[Fit Statistics]]\n",
      "    # fitting method   = COBYLA\n",
      "    # function evals   = 46\n",
      "    # data points      = 1\n",
      "    # variables        = 3\n",
      "    chi-square         = 5.1441e-10\n",
      "    reduced chi-square = 5.1441e-10\n",
      "    Akaike info crit   = -15.3880091\n",
      "    Bayesian info crit = -21.3880091\n",
      "##  Warning: uncertainties could not be estimated:\n",
      "    this fitting method does not natively calculate uncertainties\n",
      "    and numdifftools is not installed for lmfit to do this. Use\n",
      "    `pip install numdifftools` for lmfit to estimate uncertainties\n",
      "    with this fitting method.\n",
      "[[Variables]]\n",
      "    base_wear_coefficient:       2.5760e-10 (init = 1e-06)\n",
      "    roll_gap_ratio_coefficient:  2.2668e-10 (init = 1e-06)\n",
      "    speed_ratio_coefficient:     1.3637e-05 (init = 1e-06)\n"
     ]
    }
   ],
   "execution_count": 17
  },
  {
   "metadata": {
    "ExecuteTime": {
     "end_time": "2025-06-18T13:51:54.231278Z",
     "start_time": "2025-06-18T13:51:40.699036Z"
    }
   },
   "cell_type": "code",
   "source": [
    "params_4_pass_block_cobyla = Parameters()\n",
    "params_4_pass_block_cobyla.add('wear_coefficient', value=1e-6, min=1e-10, max=1e-1, vary=True)\n",
    "\n",
    "params_6_pass_block_cobyla = Parameters()\n",
    "params_6_pass_block_cobyla.add('wear_coefficient', value=1e-6, min=1e-10, max=1e-1, vary=True)\n",
    "\n",
    "params_csb_block_cobyla = Parameters()\n",
    "params_csb_block_cobyla.add('wear_coefficient', value=1e-6, min=1e-10, max=1e-1, vary=True)\n",
    "\n",
    "\n",
    "result_4_pass_block_cobyla = minimize(\n",
    "    solve_total_wear_depths_as_contour_line_4_pass_block,\n",
    "    params_4_pass_block_cobyla,\n",
    "    nan_policy='omit',\n",
    "    max_nfev=100,\n",
    "    method=\"cobyla\"\n",
    ")\n",
    "\n",
    "result_6_pass_block_cobyla = minimize(\n",
    "    solve_total_wear_depths_as_contour_line_6_pass_block,\n",
    "    params_6_pass_block_cobyla,\n",
    "    nan_policy='omit',\n",
    "    max_nfev=100,\n",
    "    method=\"cobyla\"\n",
    ")\n",
    "\n",
    "result_csb_block_cobyla = minimize(\n",
    "    solve_total_wear_depths_as_contour_line_csb_block,\n",
    "    params_csb_block_cobyla,\n",
    "    nan_policy='omit',\n",
    "    max_nfev=100,\n",
    "    method=\"cobyla\"\n",
    ")"
   ],
   "id": "4231952047f2f60e",
   "outputs": [],
   "execution_count": 19
  },
  {
   "metadata": {
    "ExecuteTime": {
     "end_time": "2025-06-18T13:52:08.473251Z",
     "start_time": "2025-06-18T13:52:08.470964Z"
    }
   },
   "cell_type": "code",
   "source": [
    "print(fit_report(result_4_pass_block_cobyla))\n",
    "print(fit_report(result_6_pass_block_cobyla))\n",
    "print(fit_report(result_csb_block_cobyla))"
   ],
   "id": "3b0ec46e61f08a71",
   "outputs": [
    {
     "name": "stdout",
     "output_type": "stream",
     "text": [
      "[[Fit Statistics]]\n",
      "    # fitting method   = COBYLA\n",
      "    # function evals   = 21\n",
      "    # data points      = 1\n",
      "    # variables        = 1\n",
      "    chi-square         = 1.0659e-09\n",
      "    reduced chi-square = 1.0659e-09\n",
      "    Akaike info crit   = -18.6594551\n",
      "    Bayesian info crit = -20.6594551\n",
      "##  Warning: uncertainties could not be estimated:\n",
      "    this fitting method does not natively calculate uncertainties\n",
      "    and numdifftools is not installed for lmfit to do this. Use\n",
      "    `pip install numdifftools` for lmfit to estimate uncertainties\n",
      "    with this fitting method.\n",
      "[[Variables]]\n",
      "    wear_coefficient:  2.0126e-09 (init = 1e-06)\n",
      "[[Fit Statistics]]\n",
      "    # fitting method   = COBYLA\n",
      "    # function evals   = 20\n",
      "    # data points      = 1\n",
      "    # variables        = 1\n",
      "    chi-square         = 4.7699e-10\n",
      "    reduced chi-square = 4.7699e-10\n",
      "    Akaike info crit   = -19.4635352\n",
      "    Bayesian info crit = -21.4635352\n",
      "##  Warning: uncertainties could not be estimated:\n",
      "    this fitting method does not natively calculate uncertainties\n",
      "    and numdifftools is not installed for lmfit to do this. Use\n",
      "    `pip install numdifftools` for lmfit to estimate uncertainties\n",
      "    with this fitting method.\n",
      "[[Variables]]\n",
      "    wear_coefficient:  8.7963e-10 (init = 1e-06)\n",
      "[[Fit Statistics]]\n",
      "    # fitting method   = COBYLA\n",
      "    # function evals   = 20\n",
      "    # data points      = 1\n",
      "    # variables        = 1\n",
      "    chi-square         = 9.8005e-11\n",
      "    reduced chi-square = 9.8005e-11\n",
      "    Akaike info crit   = -21.0460014\n",
      "    Bayesian info crit = -23.0460014\n",
      "##  Warning: uncertainties could not be estimated:\n",
      "    this fitting method does not natively calculate uncertainties\n",
      "    and numdifftools is not installed for lmfit to do this. Use\n",
      "    `pip install numdifftools` for lmfit to estimate uncertainties\n",
      "    with this fitting method.\n",
      "[[Variables]]\n",
      "    wear_coefficient:  8.7963e-10 (init = 1e-06)\n"
     ]
    }
   ],
   "execution_count": 20
  },
  {
   "metadata": {},
   "cell_type": "code",
   "outputs": [],
   "execution_count": null,
   "source": "",
   "id": "b938fc526dd23fc"
  }
 ],
 "metadata": {
  "jupytext": {
   "formats": "ipynb,md"
  },
  "kernelspec": {
   "display_name": "Python 3 (ipykernel)",
   "language": "python",
   "name": "python3"
  },
  "language_info": {
   "codemirror_mode": {
    "name": "ipython",
    "version": 3
   },
   "file_extension": ".py",
   "mimetype": "text/x-python",
   "name": "python",
   "nbconvert_exporter": "python",
   "pygments_lexer": "ipython3",
   "version": "3.12.7"
  }
 },
 "nbformat": 4,
 "nbformat_minor": 5
}
