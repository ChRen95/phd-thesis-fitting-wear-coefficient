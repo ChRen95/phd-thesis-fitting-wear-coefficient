{
 "cells": [
  {
   "metadata": {
    "ExecuteTime": {
     "end_time": "2025-06-02T19:26:19.728413Z",
     "start_time": "2025-06-02T19:26:19.130183Z"
    }
   },
   "cell_type": "code",
   "source": [
    "from lmfit import minimize\n",
    "from lmfit import Parameters"
   ],
   "id": "23a9b33121736c1b",
   "outputs": [],
   "execution_count": 1
  },
  {
   "metadata": {
    "ExecuteTime": {
     "end_time": "2025-06-02T19:26:40.796991Z",
     "start_time": "2025-06-02T19:26:40.552494Z"
    }
   },
   "cell_type": "code",
   "source": [
    "import pyroll.core as pr\n",
    "import pyroll.pillar_model\n",
    "import pyroll.neutral_point_estimator\n",
    "import pyroll.sparling_spreading\n",
    "import pyroll.hensel_force_torque\n",
    "import pyroll.freiberg_flow_stress\n",
    "import pyroll.ring_model_thermal"
   ],
   "id": "c2430fe7953713d9",
   "outputs": [],
   "execution_count": 2
  },
  {
   "metadata": {
    "ExecuteTime": {
     "end_time": "2025-06-02T19:26:41.591666Z",
     "start_time": "2025-06-02T19:26:41.571422Z"
    }
   },
   "cell_type": "code",
   "source": [
    "from in_profile import create_in_profile_from_surface_temperature\n",
    "from rolling_sequence import roughing_sequence, intermediate_sequence, finishing_sequence_e112, finishing_sequence_e107\n",
    "from utilities import *"
   ],
   "id": "d8df741abd82231b",
   "outputs": [],
   "execution_count": 3
  },
  {
   "metadata": {
    "ExecuteTime": {
     "end_time": "2025-06-02T19:26:42.464875Z",
     "start_time": "2025-06-02T19:26:42.460995Z"
    }
   },
   "cell_type": "code",
   "source": [
    "pyroll.pillar_model.Config.PILLAR_COUNT = 30\n",
    "pyroll.neutral_point_estimator.Config.ESTIMATOR = \"EQUAL\"\n",
    "ROLL_SURFACE_TEMPERATURE = 50 + 273.15\n",
    "DISK_ELEMENT_COUNT = 30"
   ],
   "id": "882e05f0ff0e3b05",
   "outputs": [],
   "execution_count": 4
  },
  {
   "metadata": {
    "ExecuteTime": {
     "end_time": "2025-06-02T19:26:43.830966Z",
     "start_time": "2025-06-02T19:26:43.828180Z"
    }
   },
   "cell_type": "code",
   "source": [
    "@pr.CoolingPipe.DiskElement.heat_transfer_coefficient\n",
    "def heat_transfer_coefficient_model_moreales(self: pr.CoolingPipe.DiskElement):\n",
    "    mean_surface_temperature = (self.in_profile.surface_temperature + self.out_profile.surface_temperature) / 2\n",
    "    profile_surface_temperature_celsius = mean_surface_temperature - 273.15\n",
    "    return 13950 + 5.12 * 1e6 / profile_surface_temperature_celsius"
   ],
   "id": "bec0683651946559",
   "outputs": [],
   "execution_count": 5
  },
  {
   "metadata": {
    "ExecuteTime": {
     "end_time": "2025-06-02T19:26:44.944441Z",
     "start_time": "2025-06-02T19:26:44.939876Z"
    }
   },
   "cell_type": "code",
   "source": [
    "in_profile = create_in_profile_from_surface_temperature(1050 + 273.15)\n",
    "in_profile.ring_temperatures = in_profile.ring_temperatures"
   ],
   "id": "ac729b2907c199de",
   "outputs": [],
   "execution_count": 6
  },
  {
   "metadata": {
    "ExecuteTime": {
     "end_time": "2025-06-02T19:26:45.494496Z",
     "start_time": "2025-06-02T19:26:45.480807Z"
    }
   },
   "cell_type": "code",
   "source": [
    "roughing_train = roughing_sequence(\n",
    "    roll_surface_temperature=ROLL_SURFACE_TEMPERATURE,\n",
    "    disk_element_count=DISK_ELEMENT_COUNT\n",
    ")\n",
    "\n",
    "intermediate_train = intermediate_sequence(\n",
    "    roll_surface_temperature=ROLL_SURFACE_TEMPERATURE,\n",
    "    disk_element_count=DISK_ELEMENT_COUNT\n",
    ")\n",
    "\n",
    "finishing_train_e112 = finishing_sequence_e112(\n",
    "    roll_surface_temperature=ROLL_SURFACE_TEMPERATURE,\n",
    "    disk_element_count=DISK_ELEMENT_COUNT\n",
    ")\n",
    "\n",
    "finishing_train_e107 = finishing_sequence_e107(\n",
    "    roll_surface_temperature=ROLL_SURFACE_TEMPERATURE,\n",
    "    disk_element_count=DISK_ELEMENT_COUNT\n",
    ")\n"
   ],
   "id": "24f67340b6ffc923",
   "outputs": [],
   "execution_count": 7
  },
  {
   "metadata": {
    "ExecuteTime": {
     "end_time": "2025-06-02T19:26:47.360627Z",
     "start_time": "2025-06-02T19:26:47.356709Z"
    }
   },
   "cell_type": "code",
   "source": [
    "rolling_train_e112 = pr.PassSequence([\n",
    "    roughing_train,\n",
    "    intermediate_train,\n",
    "    finishing_train_e112\n",
    "])\n",
    "\n",
    "rolling_train_e107 = pr.PassSequence([\n",
    "    roughing_train,\n",
    "    intermediate_train,\n",
    "    finishing_train_e107\n",
    "])"
   ],
   "id": "fe09575a3ae4613a",
   "outputs": [],
   "execution_count": 8
  },
  {
   "metadata": {
    "ExecuteTime": {
     "end_time": "2025-06-02T19:26:48.547049Z",
     "start_time": "2025-06-02T19:26:48.545089Z"
    }
   },
   "cell_type": "code",
   "source": [
    "rolling_train_e112.flatten()\n",
    "rolling_train_e107.flatten()"
   ],
   "id": "a4fdfb87ca0cf6b6",
   "outputs": [],
   "execution_count": 9
  },
  {
   "metadata": {
    "ExecuteTime": {
     "end_time": "2025-06-02T19:27:02.432399Z",
     "start_time": "2025-06-02T19:26:50.673837Z"
    }
   },
   "cell_type": "code",
   "source": "rolling_train_e112.solve(in_profile)",
   "id": "8a7d60a04ab6af07",
   "outputs": [
    {
     "ename": "KeyboardInterrupt",
     "evalue": "",
     "output_type": "error",
     "traceback": [
      "\u001B[31m---------------------------------------------------------------------------\u001B[39m",
      "\u001B[31mKeyboardInterrupt\u001B[39m                         Traceback (most recent call last)",
      "\u001B[36mCell\u001B[39m\u001B[36m \u001B[39m\u001B[32mIn[10]\u001B[39m\u001B[32m, line 1\u001B[39m\n\u001B[32m----> \u001B[39m\u001B[32m1\u001B[39m \u001B[43mrolling_train_e112\u001B[49m\u001B[43m.\u001B[49m\u001B[43msolve\u001B[49m\u001B[43m(\u001B[49m\u001B[43min_profile\u001B[49m\u001B[43m)\u001B[49m\n",
      "\u001B[36mFile \u001B[39m\u001B[32m~/PycharmProjects/phd-thesis-fitting-wear-coefficient/.venv/lib/python3.13/site-packages/pyroll/core/unit/unit.py:210\u001B[39m, in \u001B[36mUnit.solve\u001B[39m\u001B[34m(self, in_profile)\u001B[39m\n\u001B[32m    208\u001B[39m \u001B[38;5;28;01mfor\u001B[39;00m i \u001B[38;5;129;01min\u001B[39;00m \u001B[38;5;28mrange\u001B[39m(\u001B[32m1\u001B[39m, \u001B[38;5;28mself\u001B[39m.max_iteration_count):\n\u001B[32m    209\u001B[39m     \u001B[38;5;28mself\u001B[39m.in_profile.reevaluate_cache()\n\u001B[32m--> \u001B[39m\u001B[32m210\u001B[39m     \u001B[38;5;28;43mself\u001B[39;49m\u001B[43m.\u001B[49m\u001B[43m_solve_subunits\u001B[49m\u001B[43m(\u001B[49m\u001B[43m)\u001B[49m\n\u001B[32m    211\u001B[39m     \u001B[38;5;28mself\u001B[39m.reevaluate_cache()\n\u001B[32m    212\u001B[39m     \u001B[38;5;28mself\u001B[39m.out_profile.reevaluate_cache()\n",
      "\u001B[36mFile \u001B[39m\u001B[32m~/PycharmProjects/phd-thesis-fitting-wear-coefficient/.venv/lib/python3.13/site-packages/pyroll/core/unit/unit.py:192\u001B[39m, in \u001B[36mUnit._solve_subunits\u001B[39m\u001B[34m(self)\u001B[39m\n\u001B[32m    190\u001B[39m \u001B[38;5;28;01mfor\u001B[39;00m u \u001B[38;5;129;01min\u001B[39;00m \u001B[38;5;28mself\u001B[39m._subunits:\n\u001B[32m    191\u001B[39m     \u001B[38;5;28;01mtry\u001B[39;00m:\n\u001B[32m--> \u001B[39m\u001B[32m192\u001B[39m         last_profile = \u001B[43mu\u001B[49m\u001B[43m.\u001B[49m\u001B[43msolve\u001B[49m\u001B[43m(\u001B[49m\u001B[43mlast_profile\u001B[49m\u001B[43m)\u001B[49m\n\u001B[32m    193\u001B[39m     \u001B[38;5;28;01mexcept\u001B[39;00m \u001B[38;5;167;01mException\u001B[39;00m \u001B[38;5;28;01mas\u001B[39;00m e:\n\u001B[32m    194\u001B[39m         \u001B[38;5;28;01mraise\u001B[39;00m \u001B[38;5;167;01mRuntimeError\u001B[39;00m(\u001B[33mf\u001B[39m\u001B[33m\"\u001B[39m\u001B[33mSolution of sub units failed at unit \u001B[39m\u001B[38;5;132;01m{\u001B[39;00mu\u001B[38;5;132;01m}\u001B[39;00m\u001B[33m.\u001B[39m\u001B[33m\"\u001B[39m) \u001B[38;5;28;01mfrom\u001B[39;00m\u001B[38;5;250m \u001B[39m\u001B[34;01me\u001B[39;00m\n",
      "\u001B[36mFile \u001B[39m\u001B[32m~/PycharmProjects/phd-thesis-fitting-wear-coefficient/.venv/lib/python3.13/site-packages/pyroll/core/unit/unit.py:210\u001B[39m, in \u001B[36mUnit.solve\u001B[39m\u001B[34m(self, in_profile)\u001B[39m\n\u001B[32m    208\u001B[39m \u001B[38;5;28;01mfor\u001B[39;00m i \u001B[38;5;129;01min\u001B[39;00m \u001B[38;5;28mrange\u001B[39m(\u001B[32m1\u001B[39m, \u001B[38;5;28mself\u001B[39m.max_iteration_count):\n\u001B[32m    209\u001B[39m     \u001B[38;5;28mself\u001B[39m.in_profile.reevaluate_cache()\n\u001B[32m--> \u001B[39m\u001B[32m210\u001B[39m     \u001B[38;5;28;43mself\u001B[39;49m\u001B[43m.\u001B[49m\u001B[43m_solve_subunits\u001B[49m\u001B[43m(\u001B[49m\u001B[43m)\u001B[49m\n\u001B[32m    211\u001B[39m     \u001B[38;5;28mself\u001B[39m.reevaluate_cache()\n\u001B[32m    212\u001B[39m     \u001B[38;5;28mself\u001B[39m.out_profile.reevaluate_cache()\n",
      "\u001B[36mFile \u001B[39m\u001B[32m~/PycharmProjects/phd-thesis-fitting-wear-coefficient/.venv/lib/python3.13/site-packages/pyroll/core/unit/unit.py:192\u001B[39m, in \u001B[36mUnit._solve_subunits\u001B[39m\u001B[34m(self)\u001B[39m\n\u001B[32m    190\u001B[39m \u001B[38;5;28;01mfor\u001B[39;00m u \u001B[38;5;129;01min\u001B[39;00m \u001B[38;5;28mself\u001B[39m._subunits:\n\u001B[32m    191\u001B[39m     \u001B[38;5;28;01mtry\u001B[39;00m:\n\u001B[32m--> \u001B[39m\u001B[32m192\u001B[39m         last_profile = \u001B[43mu\u001B[49m\u001B[43m.\u001B[49m\u001B[43msolve\u001B[49m\u001B[43m(\u001B[49m\u001B[43mlast_profile\u001B[49m\u001B[43m)\u001B[49m\n\u001B[32m    193\u001B[39m     \u001B[38;5;28;01mexcept\u001B[39;00m \u001B[38;5;167;01mException\u001B[39;00m \u001B[38;5;28;01mas\u001B[39;00m e:\n\u001B[32m    194\u001B[39m         \u001B[38;5;28;01mraise\u001B[39;00m \u001B[38;5;167;01mRuntimeError\u001B[39;00m(\u001B[33mf\u001B[39m\u001B[33m\"\u001B[39m\u001B[33mSolution of sub units failed at unit \u001B[39m\u001B[38;5;132;01m{\u001B[39;00mu\u001B[38;5;132;01m}\u001B[39;00m\u001B[33m.\u001B[39m\u001B[33m\"\u001B[39m) \u001B[38;5;28;01mfrom\u001B[39;00m\u001B[38;5;250m \u001B[39m\u001B[34;01me\u001B[39;00m\n",
      "\u001B[36mFile \u001B[39m\u001B[32m~/PycharmProjects/phd-thesis-fitting-wear-coefficient/.venv/lib/python3.13/site-packages/pyroll/core/unit/unit.py:213\u001B[39m, in \u001B[36mUnit.solve\u001B[39m\u001B[34m(self, in_profile)\u001B[39m\n\u001B[32m    211\u001B[39m \u001B[38;5;28mself\u001B[39m.reevaluate_cache()\n\u001B[32m    212\u001B[39m \u001B[38;5;28mself\u001B[39m.out_profile.reevaluate_cache()\n\u001B[32m--> \u001B[39m\u001B[32m213\u001B[39m current_results = \u001B[38;5;28;43mself\u001B[39;49m\u001B[43m.\u001B[49m\u001B[43mget_root_hook_results\u001B[49m\u001B[43m(\u001B[49m\u001B[43m)\u001B[49m\n\u001B[32m    215\u001B[39m residuum = np.max(np.abs(current_results - \u001B[38;5;28mself\u001B[39m._old_results) / (np.abs(\u001B[38;5;28mself\u001B[39m._old_results) + \u001B[32m1e-12\u001B[39m))\n\u001B[32m    217\u001B[39m \u001B[38;5;28mself\u001B[39m.convergence_history.append({\n\u001B[32m    218\u001B[39m     \u001B[33m\"\u001B[39m\u001B[33miteration\u001B[39m\u001B[33m\"\u001B[39m: \u001B[38;5;28mself\u001B[39m.global_iteration_counter,\n\u001B[32m    219\u001B[39m     \u001B[33m\"\u001B[39m\u001B[33mresiduum\u001B[39m\u001B[33m\"\u001B[39m: residuum,\n\u001B[32m    220\u001B[39m     \u001B[33m\"\u001B[39m\u001B[33mlabel\u001B[39m\u001B[33m\"\u001B[39m: \u001B[38;5;28mself\u001B[39m.label\n\u001B[32m    221\u001B[39m })\n",
      "\u001B[36mFile \u001B[39m\u001B[32m~/PycharmProjects/phd-thesis-fitting-wear-coefficient/.venv/lib/python3.13/site-packages/pyroll/core/unit/unit.py:181\u001B[39m, in \u001B[36mUnit.get_root_hook_results\u001B[39m\u001B[34m(self)\u001B[39m\n\u001B[32m    179\u001B[39m \u001B[38;5;28;01mdef\u001B[39;00m\u001B[38;5;250m \u001B[39m\u001B[34mget_root_hook_results\u001B[39m(\u001B[38;5;28mself\u001B[39m):\n\u001B[32m    180\u001B[39m     in_profile_results = \u001B[38;5;28mself\u001B[39m.in_profile.evaluate_and_set_hooks()\n\u001B[32m--> \u001B[39m\u001B[32m181\u001B[39m     out_profile_results = \u001B[38;5;28;43mself\u001B[39;49m\u001B[43m.\u001B[49m\u001B[43mout_profile\u001B[49m\u001B[43m.\u001B[49m\u001B[43mevaluate_and_set_hooks\u001B[49m\u001B[43m(\u001B[49m\u001B[43m)\u001B[49m\n\u001B[32m    182\u001B[39m     self_results = \u001B[38;5;28mself\u001B[39m.evaluate_and_set_hooks()\n\u001B[32m    184\u001B[39m     \u001B[38;5;28;01mreturn\u001B[39;00m np.concatenate([in_profile_results, self_results, out_profile_results], axis=\u001B[32m0\u001B[39m)\n",
      "\u001B[36mFile \u001B[39m\u001B[32m~/PycharmProjects/phd-thesis-fitting-wear-coefficient/.venv/lib/python3.13/site-packages/pyroll/core/hooks.py:473\u001B[39m, in \u001B[36mHookHost.evaluate_and_set_hooks\u001B[39m\u001B[34m(self)\u001B[39m\n\u001B[32m    470\u001B[39m             \u001B[38;5;28;01mexcept\u001B[39;00m \u001B[38;5;167;01mTypeError\u001B[39;00m:  \u001B[38;5;66;03m# yield only numeric values\u001B[39;00m\n\u001B[32m    471\u001B[39m                 \u001B[38;5;28;01mcontinue\u001B[39;00m\n\u001B[32m--> \u001B[39m\u001B[32m473\u001B[39m \u001B[38;5;28;01mreturn\u001B[39;00m \u001B[38;5;28;43mlist\u001B[39;49m\u001B[43m(\u001B[49m\u001B[43m_gen\u001B[49m\u001B[43m(\u001B[49m\u001B[43m)\u001B[49m\u001B[43m)\u001B[49m\n",
      "\u001B[36mFile \u001B[39m\u001B[32m~/PycharmProjects/phd-thesis-fitting-wear-coefficient/.venv/lib/python3.13/site-packages/pyroll/core/hooks.py:457\u001B[39m, in \u001B[36mHookHost.evaluate_and_set_hooks.<locals>._gen\u001B[39m\u001B[34m()\u001B[39m\n\u001B[32m    455\u001B[39m \u001B[38;5;28;01mif\u001B[39;00m \u001B[38;5;28missubclass\u001B[39m(\u001B[38;5;28mtype\u001B[39m(\u001B[38;5;28mself\u001B[39m), h.owner):\n\u001B[32m    456\u001B[39m     h = \u001B[38;5;28mgetattr\u001B[39m(\u001B[38;5;28mtype\u001B[39m(\u001B[38;5;28mself\u001B[39m), h.name)\n\u001B[32m--> \u001B[39m\u001B[32m457\u001B[39m     result = \u001B[43mh\u001B[49m\u001B[43m.\u001B[49m\u001B[43mget_result\u001B[49m\u001B[43m(\u001B[49m\u001B[38;5;28;43mself\u001B[39;49m\u001B[43m)\u001B[49m\n\u001B[32m    459\u001B[39m     \u001B[38;5;28;01mif\u001B[39;00m result \u001B[38;5;129;01mis\u001B[39;00m \u001B[38;5;28;01mNone\u001B[39;00m:\n\u001B[32m    460\u001B[39m         result = \u001B[38;5;28mself\u001B[39m.root_hook_fallback(h)\n",
      "\u001B[36mFile \u001B[39m\u001B[32m~/PycharmProjects/phd-thesis-fitting-wear-coefficient/.venv/lib/python3.13/site-packages/pyroll/core/hooks.py:281\u001B[39m, in \u001B[36mHook.get_result\u001B[39m\u001B[34m(self, instance)\u001B[39m\n\u001B[32m    277\u001B[39m \u001B[38;5;250m\u001B[39m\u001B[33;03m\"\"\"\u001B[39;00m\n\u001B[32m    278\u001B[39m \u001B[33;03mGet the first not ``None`` result of the functions in ``self.functions`` or the cached value.\u001B[39;00m\n\u001B[32m    279\u001B[39m \u001B[33;03m\"\"\"\u001B[39;00m\n\u001B[32m    280\u001B[39m \u001B[38;5;28;01mfor\u001B[39;00m f \u001B[38;5;129;01min\u001B[39;00m \u001B[38;5;28mself\u001B[39m.functions_gen:\n\u001B[32m--> \u001B[39m\u001B[32m281\u001B[39m     result = \u001B[43mf\u001B[49m\u001B[43m(\u001B[49m\u001B[43minstance\u001B[49m\u001B[43m)\u001B[49m\n\u001B[32m    282\u001B[39m     \u001B[38;5;28;01mif\u001B[39;00m result \u001B[38;5;129;01mis\u001B[39;00m \u001B[38;5;129;01mnot\u001B[39;00m \u001B[38;5;28;01mNone\u001B[39;00m:\n\u001B[32m    283\u001B[39m         \u001B[38;5;28mself\u001B[39m.owner.logger.debug(\n\u001B[32m    284\u001B[39m             \u001B[33m\"\u001B[39m\u001B[33mHook \u001B[39m\u001B[38;5;132;01m%s\u001B[39;00m\u001B[33m.\u001B[39m\u001B[38;5;132;01m%s\u001B[39;00m\u001B[33m on \u001B[39m\u001B[38;5;132;01m%s\u001B[39;00m\u001B[33m: resolved from function \u001B[39m\u001B[38;5;132;01m%s\u001B[39;00m\u001B[33m with value \u001B[39m\u001B[38;5;132;01m%s\u001B[39;00m\u001B[33m.\u001B[39m\u001B[33m\"\u001B[39m,\n\u001B[32m    285\u001B[39m             \u001B[38;5;28mself\u001B[39m.owner.\u001B[34m__qualname__\u001B[39m,\n\u001B[32m   (...)\u001B[39m\u001B[32m    289\u001B[39m             result,\n\u001B[32m    290\u001B[39m         )\n",
      "\u001B[36mFile \u001B[39m\u001B[32m~/PycharmProjects/phd-thesis-fitting-wear-coefficient/.venv/lib/python3.13/site-packages/pyroll/core/hooks.py:78\u001B[39m, in \u001B[36mHookFunction.__call__\u001B[39m\u001B[34m(self, instance)\u001B[39m\n\u001B[32m     76\u001B[39m         \u001B[38;5;28;01mraise\u001B[39;00m \u001B[38;5;167;01mSyntaxError\u001B[39;00m(\u001B[33m\"\u001B[39m\u001B[33mWrapper function must only contain one yield expression.\u001B[39m\u001B[33m\"\u001B[39m)\n\u001B[32m     77\u001B[39m     \u001B[38;5;28;01melse\u001B[39;00m:\n\u001B[32m---> \u001B[39m\u001B[32m78\u001B[39m         result = \u001B[38;5;28;43mself\u001B[39;49m\u001B[43m.\u001B[49m\u001B[43mfunction\u001B[49m\u001B[43m(\u001B[49m\u001B[43minstance\u001B[49m\u001B[43m,\u001B[49m\u001B[43m \u001B[49m\u001B[43m*\u001B[49m\u001B[43m*\u001B[49m\u001B[43mextra_args\u001B[49m\u001B[43m)\u001B[49m\n\u001B[32m     79\u001B[39m \u001B[38;5;28;01mexcept\u001B[39;00m \u001B[38;5;167;01mStopIteration\u001B[39;00m \u001B[38;5;28;01mas\u001B[39;00m e:\n\u001B[32m     80\u001B[39m     result = e.value\n",
      "\u001B[36mFile \u001B[39m\u001B[32m~/PycharmProjects/phd-thesis-fitting-wear-coefficient/.venv/lib/python3.13/site-packages/pyroll/ring_model_thermal/roll_pass.py:145\u001B[39m, in \u001B[36mring_temperatures_disk\u001B[39m\u001B[34m(self)\u001B[39m\n\u001B[32m    142\u001B[39m roll_pass = \u001B[38;5;28mself\u001B[39m.roll_pass\n\u001B[32m    143\u001B[39m disk = \u001B[38;5;28mself\u001B[39m.disk_element\n\u001B[32m--> \u001B[39m\u001B[32m145\u001B[39m \u001B[38;5;28;01mreturn\u001B[39;00m \u001B[43m_solve_step\u001B[49m\u001B[43m(\u001B[49m\u001B[43mdisk\u001B[49m\u001B[43m,\u001B[49m\u001B[43m \u001B[49m\u001B[43mroll_pass\u001B[49m\u001B[43m,\u001B[49m\u001B[43m \u001B[49m\u001B[43mdisk\u001B[49m\u001B[43m.\u001B[49m\u001B[43min_profile\u001B[49m\u001B[43m.\u001B[49m\u001B[43mring_temperatures\u001B[49m\u001B[43m)\u001B[49m\n",
      "\u001B[36mFile \u001B[39m\u001B[32m~/PycharmProjects/phd-thesis-fitting-wear-coefficient/.venv/lib/python3.13/site-packages/pyroll/ring_model_thermal/roll_pass.py:124\u001B[39m, in \u001B[36m_solve_step\u001B[39m\u001B[34m(unit, roll_pass, in_ring_temperatures)\u001B[39m\n\u001B[32m    121\u001B[39m     out_ring_temperatures = in_ring_temperatures + x\n\u001B[32m    122\u001B[39m     \u001B[38;5;28;01mreturn\u001B[39;00m get_increments(unit, roll_pass, out_ring_temperatures) - x\n\u001B[32m--> \u001B[39m\u001B[32m124\u001B[39m sol = \u001B[43mscopt\u001B[49m\u001B[43m.\u001B[49m\u001B[43mroot\u001B[49m\u001B[43m(\u001B[49m\u001B[43mf\u001B[49m\u001B[43m,\u001B[49m\u001B[43m \u001B[49m\u001B[43mx0\u001B[49m\u001B[43m=\u001B[49m\u001B[43mx0\u001B[49m\u001B[43m)\u001B[49m\n\u001B[32m    126\u001B[39m \u001B[38;5;28;01mif\u001B[39;00m \u001B[38;5;129;01mnot\u001B[39;00m sol.success:\n\u001B[32m    127\u001B[39m     \u001B[38;5;28;01mraise\u001B[39;00m \u001B[38;5;167;01mRuntimeError\u001B[39;00m(\u001B[33mf\u001B[39m\u001B[33m\"\u001B[39m\u001B[33mNumerical procedure did not succeed: \u001B[39m\u001B[38;5;132;01m{\u001B[39;00msol.message\u001B[38;5;132;01m}\u001B[39;00m\u001B[33m.\u001B[39m\u001B[33m\"\u001B[39m)\n",
      "\u001B[36mFile \u001B[39m\u001B[32m~/PycharmProjects/phd-thesis-fitting-wear-coefficient/.venv/lib/python3.13/site-packages/scipy/optimize/_root.py:253\u001B[39m, in \u001B[36mroot\u001B[39m\u001B[34m(fun, x0, args, method, jac, tol, callback, options)\u001B[39m\n\u001B[32m    250\u001B[39m         options.setdefault(\u001B[33m'\u001B[39m\u001B[33mfatol\u001B[39m\u001B[33m'\u001B[39m, np.inf)\n\u001B[32m    252\u001B[39m \u001B[38;5;28;01mif\u001B[39;00m meth == \u001B[33m'\u001B[39m\u001B[33mhybr\u001B[39m\u001B[33m'\u001B[39m:\n\u001B[32m--> \u001B[39m\u001B[32m253\u001B[39m     sol = \u001B[43m_root_hybr\u001B[49m\u001B[43m(\u001B[49m\u001B[43m_wrapped_fun\u001B[49m\u001B[43m,\u001B[49m\u001B[43m \u001B[49m\u001B[43mx0\u001B[49m\u001B[43m,\u001B[49m\u001B[43m \u001B[49m\u001B[43margs\u001B[49m\u001B[43m=\u001B[49m\u001B[43margs\u001B[49m\u001B[43m,\u001B[49m\u001B[43m \u001B[49m\u001B[43mjac\u001B[49m\u001B[43m=\u001B[49m\u001B[43mjac\u001B[49m\u001B[43m,\u001B[49m\u001B[43m \u001B[49m\u001B[43m*\u001B[49m\u001B[43m*\u001B[49m\u001B[43moptions\u001B[49m\u001B[43m)\u001B[49m\n\u001B[32m    254\u001B[39m \u001B[38;5;28;01melif\u001B[39;00m meth == \u001B[33m'\u001B[39m\u001B[33mlm\u001B[39m\u001B[33m'\u001B[39m:\n\u001B[32m    255\u001B[39m     sol = _root_leastsq(_wrapped_fun, x0, args=args, jac=jac, **options)\n",
      "\u001B[36mFile \u001B[39m\u001B[32m~/PycharmProjects/phd-thesis-fitting-wear-coefficient/.venv/lib/python3.13/site-packages/scipy/optimize/_minpack_py.py:249\u001B[39m, in \u001B[36m_root_hybr\u001B[39m\u001B[34m(func, x0, args, jac, col_deriv, xtol, maxfev, band, eps, factor, diag, **unknown_options)\u001B[39m\n\u001B[32m    247\u001B[39m     \u001B[38;5;28;01mif\u001B[39;00m maxfev == \u001B[32m0\u001B[39m:\n\u001B[32m    248\u001B[39m         maxfev = \u001B[32m200\u001B[39m * (n + \u001B[32m1\u001B[39m)\n\u001B[32m--> \u001B[39m\u001B[32m249\u001B[39m     retval = \u001B[43m_minpack\u001B[49m\u001B[43m.\u001B[49m\u001B[43m_hybrd\u001B[49m\u001B[43m(\u001B[49m\u001B[43mfunc\u001B[49m\u001B[43m,\u001B[49m\u001B[43m \u001B[49m\u001B[43mx0\u001B[49m\u001B[43m,\u001B[49m\u001B[43m \u001B[49m\u001B[43margs\u001B[49m\u001B[43m,\u001B[49m\u001B[43m \u001B[49m\u001B[32;43m1\u001B[39;49m\u001B[43m,\u001B[49m\u001B[43m \u001B[49m\u001B[43mxtol\u001B[49m\u001B[43m,\u001B[49m\u001B[43m \u001B[49m\u001B[43mmaxfev\u001B[49m\u001B[43m,\u001B[49m\n\u001B[32m    250\u001B[39m \u001B[43m                             \u001B[49m\u001B[43mml\u001B[49m\u001B[43m,\u001B[49m\u001B[43m \u001B[49m\u001B[43mmu\u001B[49m\u001B[43m,\u001B[49m\u001B[43m \u001B[49m\u001B[43mepsfcn\u001B[49m\u001B[43m,\u001B[49m\u001B[43m \u001B[49m\u001B[43mfactor\u001B[49m\u001B[43m,\u001B[49m\u001B[43m \u001B[49m\u001B[43mdiag\u001B[49m\u001B[43m)\u001B[49m\n\u001B[32m    251\u001B[39m \u001B[38;5;28;01melse\u001B[39;00m:\n\u001B[32m    252\u001B[39m     _check_func(\u001B[33m'\u001B[39m\u001B[33mfsolve\u001B[39m\u001B[33m'\u001B[39m, \u001B[33m'\u001B[39m\u001B[33mfprime\u001B[39m\u001B[33m'\u001B[39m, Dfun, x0, args, n, (n, n))\n",
      "\u001B[36mFile \u001B[39m\u001B[32m~/PycharmProjects/phd-thesis-fitting-wear-coefficient/.venv/lib/python3.13/site-packages/scipy/optimize/_root.py:215\u001B[39m, in \u001B[36mroot.<locals>._wrapped_fun\u001B[39m\u001B[34m(*fargs)\u001B[39m\n\u001B[32m    210\u001B[39m \u001B[38;5;250m\u001B[39m\u001B[33;03m\"\"\"\u001B[39;00m\n\u001B[32m    211\u001B[39m \u001B[33;03mWrapped `func` to track the number of times\u001B[39;00m\n\u001B[32m    212\u001B[39m \u001B[33;03mthe function has been called.\u001B[39;00m\n\u001B[32m    213\u001B[39m \u001B[33;03m\"\"\"\u001B[39;00m\n\u001B[32m    214\u001B[39m _wrapped_fun.nfev += \u001B[32m1\u001B[39m\n\u001B[32m--> \u001B[39m\u001B[32m215\u001B[39m \u001B[38;5;28;01mreturn\u001B[39;00m \u001B[43mfun\u001B[49m\u001B[43m(\u001B[49m\u001B[43m*\u001B[49m\u001B[43mfargs\u001B[49m\u001B[43m)\u001B[49m\n",
      "\u001B[36mFile \u001B[39m\u001B[32m~/PycharmProjects/phd-thesis-fitting-wear-coefficient/.venv/lib/python3.13/site-packages/pyroll/ring_model_thermal/roll_pass.py:122\u001B[39m, in \u001B[36m_solve_step.<locals>.f\u001B[39m\u001B[34m(x)\u001B[39m\n\u001B[32m    120\u001B[39m \u001B[38;5;28;01mdef\u001B[39;00m\u001B[38;5;250m \u001B[39m\u001B[34mf\u001B[39m(x):\n\u001B[32m    121\u001B[39m     out_ring_temperatures = in_ring_temperatures + x\n\u001B[32m--> \u001B[39m\u001B[32m122\u001B[39m     \u001B[38;5;28;01mreturn\u001B[39;00m \u001B[43mget_increments\u001B[49m\u001B[43m(\u001B[49m\u001B[43munit\u001B[49m\u001B[43m,\u001B[49m\u001B[43m \u001B[49m\u001B[43mroll_pass\u001B[49m\u001B[43m,\u001B[49m\u001B[43m \u001B[49m\u001B[43mout_ring_temperatures\u001B[49m\u001B[43m)\u001B[49m - x\n",
      "\u001B[36mFile \u001B[39m\u001B[32m~/PycharmProjects/phd-thesis-fitting-wear-coefficient/.venv/lib/python3.13/site-packages/pyroll/ring_model_thermal/roll_pass.py:106\u001B[39m, in \u001B[36mget_increments\u001B[39m\u001B[34m(unit, roll_pass, ring_temperatures)\u001B[39m\n\u001B[32m    101\u001B[39m \u001B[38;5;28;01mfor\u001B[39;00m i \u001B[38;5;129;01min\u001B[39;00m \u001B[38;5;28mrange\u001B[39m(\u001B[32m1\u001B[39m, \u001B[38;5;28mlen\u001B[39m(increments) - \u001B[32m1\u001B[39m):\n\u001B[32m    102\u001B[39m     cross_section = p.ring_sections[i].area\n\u001B[32m    103\u001B[39m     increments[i] = unit.duration / (p.density * p.specific_heat_capacity * cross_section) * (\n\u001B[32m    104\u001B[39m             p.thermal_conductivity\n\u001B[32m    105\u001B[39m             * (\n\u001B[32m--> \u001B[39m\u001B[32m106\u001B[39m                     (ring_temperatures[i + \u001B[32m1\u001B[39m] - ring_temperatures[i]) * \u001B[43mp\u001B[49m\u001B[43m.\u001B[49m\u001B[43mring_contours\u001B[49m\u001B[43m[\u001B[49m\u001B[43mi\u001B[49m\u001B[43m \u001B[49m\u001B[43m+\u001B[49m\u001B[43m \u001B[49m\u001B[32;43m1\u001B[39;49m\u001B[43m]\u001B[49m\u001B[43m.\u001B[49m\u001B[43mlength\u001B[49m\n\u001B[32m    107\u001B[39m                     / (p.rings[i + \u001B[32m1\u001B[39m] - p.rings[i])\n\u001B[32m    108\u001B[39m                     - (ring_temperatures[i] - ring_temperatures[i - \u001B[32m1\u001B[39m]) * p.ring_contours[i].length\n\u001B[32m    109\u001B[39m                     / (p.rings[i] - p.rings[i - \u001B[32m1\u001B[39m])\n\u001B[32m    110\u001B[39m             )\n\u001B[32m    111\u001B[39m             + source_density * cross_section\n\u001B[32m    112\u001B[39m     )\n\u001B[32m    114\u001B[39m \u001B[38;5;28;01mreturn\u001B[39;00m increments\n",
      "\u001B[36mFile \u001B[39m\u001B[32m~/PycharmProjects/phd-thesis-fitting-wear-coefficient/.venv/lib/python3.13/site-packages/shapely/geometry/base.py:354\u001B[39m, in \u001B[36mBaseGeometry.length\u001B[39m\u001B[34m(self)\u001B[39m\n\u001B[32m    351\u001B[39m \u001B[38;5;129m@property\u001B[39m\n\u001B[32m    352\u001B[39m \u001B[38;5;28;01mdef\u001B[39;00m\u001B[38;5;250m \u001B[39m\u001B[34mlength\u001B[39m(\u001B[38;5;28mself\u001B[39m):\n\u001B[32m    353\u001B[39m \u001B[38;5;250m    \u001B[39m\u001B[33;03m\"\"\"Unitless length of the geometry (float).\"\"\"\u001B[39;00m\n\u001B[32m--> \u001B[39m\u001B[32m354\u001B[39m     \u001B[38;5;28;01mreturn\u001B[39;00m \u001B[38;5;28mfloat\u001B[39m(\u001B[43mshapely\u001B[49m\u001B[43m.\u001B[49m\u001B[43mlength\u001B[49m\u001B[43m(\u001B[49m\u001B[38;5;28;43mself\u001B[39;49m\u001B[43m)\u001B[49m)\n",
      "\u001B[36mFile \u001B[39m\u001B[32m~/PycharmProjects/phd-thesis-fitting-wear-coefficient/.venv/lib/python3.13/site-packages/shapely/decorators.py:88\u001B[39m, in \u001B[36mmultithreading_enabled.<locals>.wrapped\u001B[39m\u001B[34m(*args, **kwargs)\u001B[39m\n\u001B[32m     86\u001B[39m     \u001B[38;5;28;01mfor\u001B[39;00m arr \u001B[38;5;129;01min\u001B[39;00m array_args:\n\u001B[32m     87\u001B[39m         arr.flags.writeable = \u001B[38;5;28;01mFalse\u001B[39;00m\n\u001B[32m---> \u001B[39m\u001B[32m88\u001B[39m     \u001B[38;5;28;01mreturn\u001B[39;00m \u001B[43mfunc\u001B[49m\u001B[43m(\u001B[49m\u001B[43m*\u001B[49m\u001B[43margs\u001B[49m\u001B[43m,\u001B[49m\u001B[43m \u001B[49m\u001B[43m*\u001B[49m\u001B[43m*\u001B[49m\u001B[43mkwargs\u001B[49m\u001B[43m)\u001B[49m\n\u001B[32m     89\u001B[39m \u001B[38;5;28;01mfinally\u001B[39;00m:\n\u001B[32m     90\u001B[39m     \u001B[38;5;28;01mfor\u001B[39;00m arr, old_flag \u001B[38;5;129;01min\u001B[39;00m \u001B[38;5;28mzip\u001B[39m(array_args, old_flags):\n",
      "\u001B[36mFile \u001B[39m\u001B[32m~/PycharmProjects/phd-thesis-fitting-wear-coefficient/.venv/lib/python3.13/site-packages/shapely/measurement.py:196\u001B[39m, in \u001B[36mlength\u001B[39m\u001B[34m(geometry, **kwargs)\u001B[39m\n\u001B[32m    166\u001B[39m \u001B[38;5;129m@multithreading_enabled\u001B[39m\n\u001B[32m    167\u001B[39m \u001B[38;5;28;01mdef\u001B[39;00m\u001B[38;5;250m \u001B[39m\u001B[34mlength\u001B[39m(geometry, **kwargs):\n\u001B[32m    168\u001B[39m \u001B[38;5;250m    \u001B[39m\u001B[33;03m\"\"\"Compute the length of a (multi)linestring or polygon perimeter.\u001B[39;00m\n\u001B[32m    169\u001B[39m \n\u001B[32m    170\u001B[39m \u001B[33;03m    Parameters\u001B[39;00m\n\u001B[32m   (...)\u001B[39m\u001B[32m    194\u001B[39m \n\u001B[32m    195\u001B[39m \u001B[33;03m    \"\"\"\u001B[39;00m\n\u001B[32m--> \u001B[39m\u001B[32m196\u001B[39m     \u001B[38;5;28;01mreturn\u001B[39;00m \u001B[43mlib\u001B[49m\u001B[43m.\u001B[49m\u001B[43mlength\u001B[49m\u001B[43m(\u001B[49m\u001B[43mgeometry\u001B[49m\u001B[43m,\u001B[49m\u001B[43m \u001B[49m\u001B[43m*\u001B[49m\u001B[43m*\u001B[49m\u001B[43mkwargs\u001B[49m\u001B[43m)\u001B[49m\n",
      "\u001B[31mKeyboardInterrupt\u001B[39m: "
     ]
    }
   ],
   "execution_count": 10
  },
  {
   "metadata": {},
   "cell_type": "code",
   "outputs": [],
   "execution_count": null,
   "source": "rolling_train_e107.solve(in_profile)",
   "id": "8d41684a3d4f7735"
  },
  {
   "metadata": {
    "ExecuteTime": {
     "end_time": "2025-06-02T17:18:53.686392Z",
     "start_time": "2025-06-02T17:18:53.678196Z"
    }
   },
   "cell_type": "code",
   "source": [
    "def solve_total_wear_depths_as_contour_line(params):\n",
    "    sequences = [\n",
    "        {\n",
    "            \"label\": \"e11_2\",\n",
    "            \"sequence\": rolling_train_e112\n",
    "        },\n",
    "        {\n",
    "            \"label\": \"e10_7\",\n",
    "            \"sequence\": rolling_train_e107\n",
    "        }\n",
    "    ]\n",
    "\n",
    "    area_errors = []\n",
    "    wear_coefficient = params['wear_coefficient'].value\n",
    "\n",
    "    for dict in sequences:\n",
    "        roll_passes = dict[\"sequence\"].roll_passes\n",
    "        for roll_pass in roll_passes:\n",
    "            labels, tonnages, measured_wear_contours = extract_wear_contours_from_measurement(dict[\"label\"])\n",
    "        for label, tonnage, measured_wear_contour in zip(labels, tonnages, measured_wear_contours):\n",
    "            if roll_pass.label == label:\n",
    "                calculated_wear_contour = calculate_wear_contour(roll_pass, wear_coefficient, tonnage * 1000)\n",
    "                area_error = calculate_area_between_contours(calculated_wear_contour, measured_wear_contour)\n",
    "\n",
    "                area_errors.append(area_error)\n",
    "            else:\n",
    "                continue\n",
    "\n",
    "    rms_error = root_mean_square_value(np.array(area_errors))\n",
    "    print(\"RMS Error: \", rms_error)\n",
    "    return rms_error\n"
   ],
   "id": "22e82b3857c95d90",
   "outputs": [],
   "execution_count": 47
  },
  {
   "metadata": {
    "ExecuteTime": {
     "end_time": "2025-06-02T17:19:12.054080Z",
     "start_time": "2025-06-02T17:19:12.051777Z"
    }
   },
   "cell_type": "code",
   "source": [
    "params = Parameters()\n",
    "params.add('wear_coefficient', value=1e-6, min=1e-10, max=1e-3, vary=True)"
   ],
   "id": "6a0b6f2d8a3c457",
   "outputs": [],
   "execution_count": 48
  },
  {
   "metadata": {
    "ExecuteTime": {
     "end_time": "2025-06-02T17:19:31.059089Z",
     "start_time": "2025-06-02T17:19:20.443264Z"
    }
   },
   "cell_type": "code",
   "source": [
    "result = minimize(\n",
    "    solve_total_wear_depths_as_contour_line,\n",
    "    params,\n",
    "    nan_policy='omit',\n",
    "    max_nfev=100,\n",
    "    method=\"cobyla\"\n",
    ")"
   ],
   "id": "ea78e32cea3cb9fc",
   "outputs": [
    {
     "name": "stdout",
     "output_type": "stream",
     "text": [
      "Area error:  0.016834346823023448\n",
      "Area error:  0.010227192945194166\n",
      "Area error:  0.04900690185349483\n",
      "Area error:  0.010295584418315308\n",
      "Area error:  0.023222075066337763\n",
      "Area error:  0.008776070341056565\n",
      "Area error:  0.016852583875867105\n",
      "Area error:  0.00812307846281863\n",
      "RMS Error:  0.02197141428172309\n",
      "Area error:  4.3265347886895364\n",
      "Area error:  2.6284648422998553\n",
      "Area error:  12.595619744233055\n",
      "Area error:  2.6458620808845095\n",
      "Area error:  5.9684351017286925\n",
      "Area error:  2.255606627101959\n",
      "Area error:  4.331633694693945\n",
      "Area error:  2.087701730519397\n",
      "RMS Error:  5.647006744702435\n",
      "Area error:  3.4310378167537587\n",
      "Area error:  2.0844307688342063\n",
      "Area error:  9.988604718489086\n",
      "Area error:  2.098227309336746\n",
      "Area error:  4.733100921382851\n",
      "Area error:  1.7887458818663193\n",
      "Area error:  3.435081029045135\n",
      "Area error:  1.6555936499372543\n",
      "RMS Error:  4.478201122739372\n",
      "Area error:  0.7901683264158526\n",
      "Area error:  0.48004456614951263\n",
      "Area error:  2.300374988960189\n",
      "Area error:  0.48322245130538105\n",
      "Area error:  1.0900329384786247\n",
      "Area error:  0.4119480400332598\n",
      "Area error:  0.7910982402760075\n",
      "Area error:  0.3812833146704882\n",
      "RMS Error:  1.031329492894316\n",
      "Area error:  0.40964739945660716\n",
      "Area error:  0.24886974767406853\n",
      "Area error:  1.192583667177894\n",
      "Area error:  0.250517598653557\n",
      "Area error:  0.5651059737413819\n",
      "Area error:  0.2135662597421141\n",
      "Area error:  0.41012872045396304\n",
      "Area error:  0.1976688832176819\n",
      "RMS Error:  0.5346723152122822\n",
      "Area error:  0.016042592618784712\n",
      "Area error:  0.009746184881052498\n",
      "Area error:  0.04670190789836801\n",
      "Area error:  0.009811392794726707\n",
      "Area error:  0.022129853583093287\n",
      "Area error:  0.008363295123028408\n",
      "Area error:  0.01605989627937594\n",
      "Area error:  0.007741029834840714\n",
      "RMS Error:  0.020938014065092915\n",
      "Area error:  0.06489166191086056\n",
      "Area error:  0.039423067087059234\n",
      "Area error:  0.18891373175608553\n",
      "Area error:  0.039684691912934514\n",
      "Area error:  0.08951693234019652\n",
      "Area error:  0.033830397311511835\n",
      "Area error:  0.06496655332099793\n",
      "Area error:  0.031312385441319306\n",
      "RMS Error:  0.08469598154032225\n",
      "Area error:  0.003914542262694628\n",
      "Area error:  0.002378127986167316\n",
      "Area error:  0.011394128528708747\n",
      "Area error:  0.0023945702992582453\n",
      "Area error:  0.005399260833631587\n",
      "Area error:  0.0020404254708173996\n",
      "Area error:  0.003917548268560569\n",
      "Area error:  0.0018888285155608713\n",
      "RMS Error:  0.005108442484518705\n",
      "Area error:  2.612705749215009e-06\n",
      "Area error:  1.5720919462107195e-06\n",
      "Area error:  5.51921705749805e-06\n",
      "Area error:  2.2779528557103636e-06\n",
      "Area error:  2.766330735031869e-06\n",
      "Area error:  1.3046253537429006e-06\n",
      "Area error:  1.0103172991396383e-06\n",
      "Area error:  1.4251651129693585e-06\n",
      "RMS Error:  2.6775688659051034e-06\n",
      "Area error:  0.004310612742864756\n",
      "Area error:  0.0026187494996501148\n",
      "Area error:  0.012547188478007166\n",
      "Area error:  0.0026367843700170874\n",
      "Area error:  0.005945638339434296\n",
      "Area error:  0.002246913896052772\n",
      "Area error:  0.004314085672828641\n",
      "Area error:  0.002079946141108617\n",
      "RMS Error:  0.0056253949876821085\n",
      "Area error:  0.001129193543701652\n",
      "Area error:  0.0006859674796494319\n",
      "Area error:  0.0032852837308815774\n",
      "Area error:  0.0006912102017815921\n",
      "Area error:  0.0015568843828027924\n",
      "Area error:  0.0005883044481419001\n",
      "Area error:  0.0011289159258107315\n",
      "Area error:  0.0005448019845562505\n",
      "RMS Error:  0.0014729961665242261\n",
      "Area error:  0.00020998525730399174\n",
      "Area error:  0.0001275282620032971\n",
      "Area error:  0.0006092391550447182\n",
      "Area error:  0.0001290766728596207\n",
      "Area error:  0.00028884054722230095\n",
      "Area error:  0.00010908538855871804\n",
      "Area error:  0.00020862399263443316\n",
      "Area error:  0.00010125593048806993\n",
      "RMS Error:  0.0002732433939936011\n",
      "Area error:  9.15908390604588e-05\n",
      "Area error:  5.560100894064169e-05\n",
      "Area error:  0.00026456326314642934\n",
      "Area error:  5.6673753773097234e-05\n",
      "Area error:  0.0001255158612505984\n",
      "Area error:  4.736461238628149e-05\n",
      "Area error:  9.009012503152723e-05\n",
      "Area error:  4.4132848262176155e-05\n",
      "RMS Error:  0.0001187158189882183\n",
      "Area error:  6.287494134085256e-06\n",
      "Area error:  3.7819031500991227e-06\n",
      "Area error:  1.6220475544509997e-05\n",
      "Area error:  4.514245053577541e-06\n",
      "Area error:  7.838044879240849e-06\n",
      "Area error:  3.032333061255503e-06\n",
      "Area error:  4.687992086446341e-06\n",
      "Area error:  3.141170502124581e-06\n",
      "RMS Error:  7.41444386372016e-06\n",
      "Area error:  1.2813524888117573e-05\n",
      "Area error:  7.743746894958176e-06\n",
      "Area error:  3.522090989922164e-05\n",
      "Area error:  8.501451241770985e-06\n",
      "Area error:  1.684178625890008e-05\n",
      "Area error:  6.331368614208894e-06\n",
      "Area error:  1.1220877279948592e-05\n",
      "Area error:  6.222508807510313e-06\n",
      "RMS Error:  1.591107671988117e-05\n",
      "Area error:  5.267965537163815e-07\n",
      "Area error:  3.5344653764163886e-07\n",
      "Area error:  2.763912900828924e-06\n",
      "Area error:  1.128310212372361e-06\n",
      "Area error:  1.045544492542709e-06\n",
      "Area error:  7.908447820072033e-07\n",
      "Area error:  1.167677790009782e-06\n",
      "Area error:  4.772242901425982e-07\n",
      "RMS Error:  1.2562121000347277e-06\n",
      "Area error:  4.4677076218191206e-07\n",
      "Area error:  3.0776991093909495e-07\n",
      "Area error:  2.805227203020549e-06\n",
      "Area error:  1.0840995143697657e-06\n",
      "Area error:  1.0592339168080647e-06\n",
      "Area error:  8.030222121959742e-07\n",
      "Area error:  1.239947746216394e-06\n",
      "Area error:  4.520480698286435e-07\n",
      "RMS Error:  1.2672577127513818e-06\n",
      "Area error:  2.7964891096705075e-07\n",
      "Area error:  2.2195400446552088e-07\n",
      "Area error:  2.9347452205629302e-06\n",
      "Area error:  9.75411510340303e-07\n",
      "Area error:  1.135001206782582e-06\n",
      "Area error:  8.466846678853083e-07\n",
      "Area error:  1.4319783548047927e-06\n",
      "Area error:  4.0586050782619413e-07\n",
      "RMS Error:  1.3187120442071974e-06\n",
      "Area error:  7.89602141290064e-07\n",
      "Area error:  5.035292083228707e-07\n",
      "Area error:  2.6656534503281694e-06\n",
      "Area error:  1.2678192837479762e-06\n",
      "Area error:  1.0383327477020893e-06\n",
      "Area error:  7.740815925979398e-07\n",
      "Area error:  9.540873455620121e-07\n",
      "Area error:  5.802904457570584e-07\n",
      "RMS Error:  1.2507219979876544e-06\n",
      "Area error:  1.1377012934367103e-06\n",
      "Area error:  7.042854735722097e-07\n",
      "Area error:  2.6804388442487427e-06\n",
      "Area error:  1.4535115315217038e-06\n",
      "Area error:  1.09931129211104e-06\n",
      "Area error:  8.294292129864247e-07\n",
      "Area error:  7.264108491488638e-07\n",
      "Area error:  7.412446171572768e-07\n",
      "RMS Error:  1.3257726460417542e-06\n",
      "Area error:  1.1377012934367103e-06\n",
      "Area error:  7.042854735722097e-07\n",
      "Area error:  2.6804388442487427e-06\n",
      "Area error:  1.4535115315217038e-06\n",
      "Area error:  1.09931129211104e-06\n",
      "Area error:  8.294292129864247e-07\n",
      "Area error:  7.264108491488638e-07\n",
      "Area error:  7.412446171572768e-07\n",
      "RMS Error:  1.3257726460417542e-06\n"
     ]
    }
   ],
   "execution_count": 49
  },
  {
   "metadata": {
    "ExecuteTime": {
     "end_time": "2025-06-02T17:20:47.095087Z",
     "start_time": "2025-06-02T17:20:47.089574Z"
    }
   },
   "cell_type": "code",
   "source": "result.params",
   "id": "384a138139ac9e81",
   "outputs": [
    {
     "data": {
      "text/plain": [
       "Parameters([('wear_coefficient', <Parameter 'wear_coefficient', value=np.float64(1.5397649065289552e-10), bounds=[1e-10:0.001]>)])"
      ],
      "text/html": [
       "<table class=\"jp-toc-ignore\"><caption>Parameters</caption><tr><th style='text-align:left'>name</th><th style='text-align:left'>value</th><th style='text-align:left'>initial value</th><th style='text-align:left'>min</th><th style='text-align:left'>max</th><th style='text-align:right'>vary</th></tr><tr><td style='text-align:left'>wear_coefficient</td><td style='text-align:left'> 1.5398e-10</td><td style='text-align:left'>1e-06</td><td style='text-align:left'> 1.0000e-10</td><td style='text-align:left'> 1.0000e-03</td><td style='text-align:right'>True</td></tr></table>"
      ]
     },
     "execution_count": 50,
     "metadata": {},
     "output_type": "execute_result"
    }
   ],
   "execution_count": 50
  }
 ],
 "metadata": {
  "jupytext": {
   "formats": "ipynb,md"
  },
  "kernelspec": {
   "display_name": "Python 3 (ipykernel)",
   "language": "python",
   "name": "python3"
  },
  "language_info": {
   "codemirror_mode": {
    "name": "ipython",
    "version": 3
   },
   "file_extension": ".py",
   "mimetype": "text/x-python",
   "name": "python",
   "nbconvert_exporter": "python",
   "pygments_lexer": "ipython3",
   "version": "3.12.7"
  }
 },
 "nbformat": 4,
 "nbformat_minor": 5
}
