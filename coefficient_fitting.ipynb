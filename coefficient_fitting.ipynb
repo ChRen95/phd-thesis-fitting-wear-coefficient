{
 "cells": [
  {
   "metadata": {
    "ExecuteTime": {
     "end_time": "2025-06-16T19:53:44.582751Z",
     "start_time": "2025-06-16T19:53:44.579128Z"
    }
   },
   "cell_type": "code",
   "source": [
    "from lmfit import Parameters\n",
    "from lmfit import minimize, fit_report"
   ],
   "id": "23a9b33121736c1b",
   "outputs": [],
   "execution_count": 24
  },
  {
   "metadata": {
    "ExecuteTime": {
     "end_time": "2025-06-16T19:08:56.951327Z",
     "start_time": "2025-06-16T19:08:56.703221Z"
    }
   },
   "cell_type": "code",
   "source": [
    "import pyroll.core as pr\n",
    "import pyroll.pillar_model\n",
    "import pyroll.neutral_point_estimator\n",
    "import pyroll.sparling_spreading\n",
    "import pyroll.hensel_force_torque\n",
    "import pyroll.freiberg_flow_stress\n",
    "import pyroll.ring_model_thermal"
   ],
   "id": "c2430fe7953713d9",
   "outputs": [],
   "execution_count": 2
  },
  {
   "metadata": {
    "ExecuteTime": {
     "end_time": "2025-06-16T19:08:57.395753Z",
     "start_time": "2025-06-16T19:08:57.368126Z"
    }
   },
   "cell_type": "code",
   "source": [
    "from in_profile import create_in_profile_from_surface_temperature\n",
    "from rolling_sequence import rolling_train_e112, rolling_train_e107\n",
    "from utilities import *"
   ],
   "id": "d8df741abd82231b",
   "outputs": [],
   "execution_count": 3
  },
  {
   "metadata": {
    "ExecuteTime": {
     "end_time": "2025-06-16T19:08:57.895804Z",
     "start_time": "2025-06-16T19:08:57.890845Z"
    }
   },
   "cell_type": "code",
   "source": [
    "pyroll.pillar_model.Config.PILLAR_COUNT = 30\n",
    "pyroll.neutral_point_estimator.Config.ESTIMATOR = \"EQUAL\"\n",
    "ROLL_SURFACE_TEMPERATURE = 50 + 273.15\n",
    "DISK_ELEMENT_COUNT = 30"
   ],
   "id": "882e05f0ff0e3b05",
   "outputs": [],
   "execution_count": 4
  },
  {
   "metadata": {
    "ExecuteTime": {
     "end_time": "2025-06-16T19:08:58.683951Z",
     "start_time": "2025-06-16T19:08:58.679420Z"
    }
   },
   "cell_type": "code",
   "source": [
    "@pr.CoolingPipe.DiskElement.heat_transfer_coefficient\n",
    "def heat_transfer_coefficient_model_moreales(self: pr.CoolingPipe.DiskElement):\n",
    "    mean_surface_temperature = (self.in_profile.surface_temperature + self.out_profile.surface_temperature) / 2\n",
    "    profile_surface_temperature_celsius = mean_surface_temperature - 273.15\n",
    "    return 13950 + 5.12 * 1e6 / profile_surface_temperature_celsius"
   ],
   "id": "bec0683651946559",
   "outputs": [],
   "execution_count": 5
  },
  {
   "metadata": {
    "ExecuteTime": {
     "end_time": "2025-06-16T19:08:59.125783Z",
     "start_time": "2025-06-16T19:08:59.119951Z"
    }
   },
   "cell_type": "code",
   "source": [
    "in_profile = create_in_profile_from_surface_temperature(1050 + 273.15)\n",
    "in_profile.ring_temperatures = in_profile.ring_temperatures"
   ],
   "id": "ac729b2907c199de",
   "outputs": [],
   "execution_count": 6
  },
  {
   "metadata": {
    "ExecuteTime": {
     "end_time": "2025-06-16T19:08:59.628383Z",
     "start_time": "2025-06-16T19:08:59.603830Z"
    }
   },
   "cell_type": "code",
   "source": [
    "rolling_train_e112 = rolling_train_e112(ROLL_SURFACE_TEMPERATURE, DISK_ELEMENT_COUNT)\n",
    "rolling_train_e107 = rolling_train_e107(ROLL_SURFACE_TEMPERATURE, DISK_ELEMENT_COUNT)"
   ],
   "id": "fe09575a3ae4613a",
   "outputs": [],
   "execution_count": 7
  },
  {
   "metadata": {
    "ExecuteTime": {
     "end_time": "2025-06-16T19:27:44.758302Z",
     "start_time": "2025-06-16T19:09:00.227126Z"
    }
   },
   "cell_type": "code",
   "source": "rolling_train_e112.solve(in_profile)",
   "id": "8a7d60a04ab6af07",
   "outputs": [
    {
     "name": "stderr",
     "output_type": "stream",
     "text": [
      "Solution iteration of TwoRollPass '3' exceeded the maximum iteration count of 100. Continuing anyway.\n",
      "Solution iteration of TwoRollPass '7' exceeded the maximum iteration count of 100. Continuing anyway.\n",
      "Solution iteration of TwoRollPass '8' exceeded the maximum iteration count of 100. Continuing anyway.\n",
      "Solution iteration of TwoRollPass '14' exceeded the maximum iteration count of 100. Continuing anyway.\n",
      "Solution iteration of TwoRollPass '18-V' exceeded the maximum iteration count of 100. Continuing anyway.\n",
      "Solution iteration of TwoRollPass '23-H' exceeded the maximum iteration count of 100. Continuing anyway.\n",
      "Solution iteration of TwoRollPass '18-V' exceeded the maximum iteration count of 100. Continuing anyway.\n"
     ]
    },
    {
     "data": {
      "text/plain": [
       "Profile(\n",
       "    classifiers={'false_round', 'generic_elongation', 'round', 'symmetric'},\n",
       "    core_temperature=np.float64(1570.0591539343975),\n",
       "    cross_section=Polygon(\n",
       "        area=5.939031536528555e-05,\n",
       "        height=0.008700000000000006,\n",
       "        perimeter=0.02736933246437044,\n",
       "        width=0.008768227336460354,\n",
       "        ),\n",
       "    length=5171.222724142025,\n",
       "    material=['BST500', 'steel'],\n",
       "    ring_temperatures=array([1570.05915393, 1567.12701904, 1558.34092613, 1543.71864333,\n",
       "           1523.23735286, 1496.84675482, 1464.74408402, 1428.15944014,\n",
       "           1390.54359123, 1358.13149   , 1337.87659106]),\n",
       "    strain=np.float64(0.5607017311212023),\n",
       "    surface_temperature=np.float64(1337.8765910557204),\n",
       "    t=np.float64(36.875179665279155),\n",
       "    temperature=np.float64(1425.8613020468922),\n",
       "    weight=2400,\n",
       "    width=np.float64(0.008768227336460354),\n",
       "    )"
      ],
      "text/html": [
       "<table><tr><td style='text-align: center'><div>                        <script type=\"text/javascript\">window.PlotlyConfig = {MathJaxConfig: 'local'};</script>\n",
       "        <script charset=\"utf-8\" src=\"https://cdn.plot.ly/plotly-3.0.1.min.js\"></script>                <div id=\"cd4679b4-367b-487c-9c56-7adf6bac8b2d\" class=\"plotly-graph-div\" style=\"height:480px; width:640px;\"></div>            <script type=\"text/javascript\">                window.PLOTLYENV=window.PLOTLYENV || {};                                if (document.getElementById(\"cd4679b4-367b-487c-9c56-7adf6bac8b2d\")) {                    Plotly.newPlot(                        \"cd4679b4-367b-487c-9c56-7adf6bac8b2d\",                        [{\"hovertemplate\":\"z=%{x}\\u003cbr\\u003ey=%{y}\\u003cextra\\u003e\\u003c\\u002fextra\\u003e\",\"legendgroup\":\"\",\"line\":{\"color\":\"#636efa\",\"dash\":\"solid\"},\"marker\":{\"symbol\":\"circle\"},\"mode\":\"lines\",\"name\":\"\",\"orientation\":\"v\",\"showlegend\":false,\"x\":{\"dtype\":\"f8\",\"bdata\":\"AAAAAAAAAACMjqj+VqEjP9RH6NoZojM\\u002f14BXQNl2PT\\u002fMMTVk9qhDP3vlnwR3m0g\\u002ftCzUjKKUTT8CSBVRCEtRPwtbc0Lw0FM\\u002fAl+4qUFdVj8N4ecnMexYP3bvtpk1d1s\\u002faaLre5T8XT\\u002f0lDYZbD5gP\\u002fixVuT+e2E\\u002fOc0lCAq3Yj\\u002f1mM561+9jP7g4LtilJmU\\u002fcHt36GBbZj82cTiSHo5nP7bPn4Mqv2g\\u002fGjeze6LuaT9e2mnHpRxrPxyJIa2aSWw\\u002ffFyTsd11bT\\u002fqD0Adp6FuPyjg\\u002fy34zm8\\u002fcrUv+iyBcD9tvqk3MiNxPz8bOjIttnE\\u002fU187jRP1cT8\\u002fGzoyLbZxP22+qTcyI3E\\u002fcrUv+iyBcD8o4P8t+M5vP+oPQB2noW4\\u002ffFyTsd11bT8ciSGtmklsP17aacelHGs\\u002fGjeze6LuaT+2z5+DKr9oPzZxOJIejmc\\u002fcHt36GBbZj+4OC7YpSZlP\\u002fWYznrX72M\\u002fOc0lCAq3Yj\\u002f4sVbk\\u002fnthP\\u002fSUNhlsPmA\\u002faaLre5T8XT9277aZNXdbPw3h5ycx7Fg\\u002fAl+4qUFdVj8LW3NC8NBTPwJIFVEIS1E\\u002ftCzUjKKUTT975Z8Ed5tIP8wxNWT2qEM\\u002f14BXQNl2PT\\u002fUR+jaGaIzP4yOqP5WoSM\\u002fAAAAAAAAAACMjqj+VqEjv9RH6NoZojO\\u002f14BXQNl2Pb\\u002fMMTVk9qhDv3vlnwR3m0i\\u002ftCzUjKKUTb8CSBVRCEtRvwtbc0Lw0FO\\u002fAl+4qUFdVr8N4ecnMexYv3bvtpk1d1u\\u002faaLre5T8Xb\\u002f0lDYZbD5gv\\u002fixVuT+e2G\\u002fOc0lCAq3Yr\\u002f1mM561+9jv7g4LtilJmW\\u002fcHt36GBbZr82cTiSHo5nv7bPn4Mqv2i\\u002fGjeze6Luab9e2mnHpRxrvxyJIa2aSWy\\u002ffFyTsd11bb\\u002fqD0Adp6Fuvyjg\\u002fy34zm+\\u002fcrUv+iyBcL9tvqk3MiNxvz8bOjIttnG\\u002fU187jRP1cb8\\u002fGzoyLbZxv22+qTcyI3G\\u002fcrUv+iyBcL8o4P8t+M5vv+oPQB2noW6\\u002ffFyTsd11bb8ciSGtmklsv17aacelHGu\\u002fGjeze6Luab+2z5+DKr9ovzZxOJIejme\\u002fcHt36GBbZr+4OC7YpSZlv\\u002fWYznrX72O\\u002fOc0lCAq3Yr\\u002f4sVbk\\u002fnthv\\u002fSUNhlsPmC\\u002faaLre5T8Xb9277aZNXdbvw3h5ycx7Fi\\u002fAl+4qUFdVr8LW3NC8NBTvwJIFVEIS1G\\u002ftCzUjKKUTb975Z8Ed5tIv8wxNWT2qEO\\u002f14BXQNl2Pb\\u002fUR+jaGaIzv4yOqP5WoSO\\u002fAAAAAAAAAAA=\"},\"xaxis\":\"x\",\"y\":{\"dtype\":\"f8\",\"bdata\":\"rDXNO07RcT9N5YDYgs1xP8tq7qMdxXE\\u002fzmcmjRO4cT9UYPTx46RxP08nIeMpi3E\\u002f7sG6kU5scT\\u002f1cjxQFUhxP6UW4rKTG3E\\u002fJIQ\\u002f3UDocD9O9TuznK5wP4LkG9Ueb3A\\u002fywGk7nMmcD\\u002ffVNxAua5vP0IkZKMlBG8\\u002f6Wq\\u002fPK9Kbj8b0RHcRnxtP\\u002foxu4f3nmw\\u002f6wYxSLyyaz\\u002ftte+au6pqPy78MbN4jGk\\u002fFZyMnntZaD+OZcLI+gNnP5HTcZq4hGU\\u002fYo5QiufgYz\\u002fyI3GmIAViP\\u002f75SwFMfl8\\u002fxCeeGHTiWT9tCi0B8phSP4a7OFEGjUw\\u002fAAAAAAAAAACGuzhRBo1Mv20KLQHymFK\\u002fxCeeGHTiWb\\u002f++UsBTH5fv\\u002fIjcaYgBWK\\u002fYo5QiufgY7+R03GauIRlv45lwsj6A2e\\u002fFZyMnntZaL8u\\u002fDGzeIxpv+2175q7qmq\\u002f6wYxSLyya7\\u002f6MbuH955svxvREdxGfG2\\u002f6Wq\\u002fPK9Kbr9CJGSjJQRvv99U3EC5rm+\\u002fywGk7nMmcL+C5BvVHm9wv071O7OcrnC\\u002fJIQ\\u002f3UDocL+lFuKykxtxv\\u002fVyPFAVSHG\\u002f7sG6kU5scb9PJyHjKYtxv1Rg9PHjpHG\\u002fzmcmjRO4cb\\u002fLau6jHcVxv03lgNiCzXG\\u002frDXNO07Rcb9N5YDYgs1xv8tq7qMdxXG\\u002fzmcmjRO4cb9UYPTx46Rxv08nIeMpi3G\\u002f7sG6kU5scb\\u002f1cjxQFUhxv6UW4rKTG3G\\u002fJIQ\\u002f3UDocL9O9TuznK5wv4LkG9Ueb3C\\u002fywGk7nMmcL\\u002ffVNxAua5vv0IkZKMlBG+\\u002f6Wq\\u002fPK9Kbr8b0RHcRnxtv\\u002foxu4f3nmy\\u002f6wYxSLyya7\\u002ftte+au6pqvy78MbN4jGm\\u002fFZyMnntZaL+OZcLI+gNnv5HTcZq4hGW\\u002fYo5QiufgY7\\u002fyI3GmIAViv\\u002f75SwFMfl+\\u002fxCeeGHTiWb9tCi0B8phSv4a7OFEGjUy\\u002fAAAAAAAAAACGuzhRBo1MP20KLQHymFI\\u002fxCeeGHTiWT\\u002f++UsBTH5fP\\u002fIjcaYgBWI\\u002fYo5QiufgYz+R03GauIRlP45lwsj6A2c\\u002fFZyMnntZaD8u\\u002fDGzeIxpP+2175q7qmo\\u002f6wYxSLyyaz\\u002f6MbuH955sPxvREdxGfG0\\u002f6Wq\\u002fPK9Kbj9CJGSjJQRvP99U3EC5rm8\\u002fywGk7nMmcD+C5BvVHm9wP071O7OcrnA\\u002fJIQ\\u002f3UDocD+lFuKykxtxP\\u002fVyPFAVSHE\\u002f7sG6kU5scT9PJyHjKYtxP1Rg9PHjpHE\\u002fzmcmjRO4cT\\u002fLau6jHcVxP03lgNiCzXE\\u002frDXNO07RcT8=\"},\"yaxis\":\"y\",\"type\":\"scatter\",\"fill\":\"toself\"}],                        {\"template\":{\"data\":{\"histogram2dcontour\":[{\"type\":\"histogram2dcontour\",\"colorbar\":{\"outlinewidth\":0,\"ticks\":\"\"},\"colorscale\":[[0.0,\"#0d0887\"],[0.1111111111111111,\"#46039f\"],[0.2222222222222222,\"#7201a8\"],[0.3333333333333333,\"#9c179e\"],[0.4444444444444444,\"#bd3786\"],[0.5555555555555556,\"#d8576b\"],[0.6666666666666666,\"#ed7953\"],[0.7777777777777778,\"#fb9f3a\"],[0.8888888888888888,\"#fdca26\"],[1.0,\"#f0f921\"]]}],\"choropleth\":[{\"type\":\"choropleth\",\"colorbar\":{\"outlinewidth\":0,\"ticks\":\"\"}}],\"histogram2d\":[{\"type\":\"histogram2d\",\"colorbar\":{\"outlinewidth\":0,\"ticks\":\"\"},\"colorscale\":[[0.0,\"#0d0887\"],[0.1111111111111111,\"#46039f\"],[0.2222222222222222,\"#7201a8\"],[0.3333333333333333,\"#9c179e\"],[0.4444444444444444,\"#bd3786\"],[0.5555555555555556,\"#d8576b\"],[0.6666666666666666,\"#ed7953\"],[0.7777777777777778,\"#fb9f3a\"],[0.8888888888888888,\"#fdca26\"],[1.0,\"#f0f921\"]]}],\"heatmap\":[{\"type\":\"heatmap\",\"colorbar\":{\"outlinewidth\":0,\"ticks\":\"\"},\"colorscale\":[[0.0,\"#0d0887\"],[0.1111111111111111,\"#46039f\"],[0.2222222222222222,\"#7201a8\"],[0.3333333333333333,\"#9c179e\"],[0.4444444444444444,\"#bd3786\"],[0.5555555555555556,\"#d8576b\"],[0.6666666666666666,\"#ed7953\"],[0.7777777777777778,\"#fb9f3a\"],[0.8888888888888888,\"#fdca26\"],[1.0,\"#f0f921\"]]}],\"contourcarpet\":[{\"type\":\"contourcarpet\",\"colorbar\":{\"outlinewidth\":0,\"ticks\":\"\"}}],\"contour\":[{\"type\":\"contour\",\"colorbar\":{\"outlinewidth\":0,\"ticks\":\"\"},\"colorscale\":[[0.0,\"#0d0887\"],[0.1111111111111111,\"#46039f\"],[0.2222222222222222,\"#7201a8\"],[0.3333333333333333,\"#9c179e\"],[0.4444444444444444,\"#bd3786\"],[0.5555555555555556,\"#d8576b\"],[0.6666666666666666,\"#ed7953\"],[0.7777777777777778,\"#fb9f3a\"],[0.8888888888888888,\"#fdca26\"],[1.0,\"#f0f921\"]]}],\"surface\":[{\"type\":\"surface\",\"colorbar\":{\"outlinewidth\":0,\"ticks\":\"\"},\"colorscale\":[[0.0,\"#0d0887\"],[0.1111111111111111,\"#46039f\"],[0.2222222222222222,\"#7201a8\"],[0.3333333333333333,\"#9c179e\"],[0.4444444444444444,\"#bd3786\"],[0.5555555555555556,\"#d8576b\"],[0.6666666666666666,\"#ed7953\"],[0.7777777777777778,\"#fb9f3a\"],[0.8888888888888888,\"#fdca26\"],[1.0,\"#f0f921\"]]}],\"mesh3d\":[{\"type\":\"mesh3d\",\"colorbar\":{\"outlinewidth\":0,\"ticks\":\"\"}}],\"scatter\":[{\"fillpattern\":{\"fillmode\":\"overlay\",\"size\":10,\"solidity\":0.2},\"type\":\"scatter\"}],\"parcoords\":[{\"type\":\"parcoords\",\"line\":{\"colorbar\":{\"outlinewidth\":0,\"ticks\":\"\"}}}],\"scatterpolargl\":[{\"type\":\"scatterpolargl\",\"marker\":{\"colorbar\":{\"outlinewidth\":0,\"ticks\":\"\"}}}],\"bar\":[{\"error_x\":{\"color\":\"#2a3f5f\"},\"error_y\":{\"color\":\"#2a3f5f\"},\"marker\":{\"line\":{\"color\":\"#E5ECF6\",\"width\":0.5},\"pattern\":{\"fillmode\":\"overlay\",\"size\":10,\"solidity\":0.2}},\"type\":\"bar\"}],\"scattergeo\":[{\"type\":\"scattergeo\",\"marker\":{\"colorbar\":{\"outlinewidth\":0,\"ticks\":\"\"}}}],\"scatterpolar\":[{\"type\":\"scatterpolar\",\"marker\":{\"colorbar\":{\"outlinewidth\":0,\"ticks\":\"\"}}}],\"histogram\":[{\"marker\":{\"pattern\":{\"fillmode\":\"overlay\",\"size\":10,\"solidity\":0.2}},\"type\":\"histogram\"}],\"scattergl\":[{\"type\":\"scattergl\",\"marker\":{\"colorbar\":{\"outlinewidth\":0,\"ticks\":\"\"}}}],\"scatter3d\":[{\"type\":\"scatter3d\",\"line\":{\"colorbar\":{\"outlinewidth\":0,\"ticks\":\"\"}},\"marker\":{\"colorbar\":{\"outlinewidth\":0,\"ticks\":\"\"}}}],\"scattermap\":[{\"type\":\"scattermap\",\"marker\":{\"colorbar\":{\"outlinewidth\":0,\"ticks\":\"\"}}}],\"scattermapbox\":[{\"type\":\"scattermapbox\",\"marker\":{\"colorbar\":{\"outlinewidth\":0,\"ticks\":\"\"}}}],\"scatterternary\":[{\"type\":\"scatterternary\",\"marker\":{\"colorbar\":{\"outlinewidth\":0,\"ticks\":\"\"}}}],\"scattercarpet\":[{\"type\":\"scattercarpet\",\"marker\":{\"colorbar\":{\"outlinewidth\":0,\"ticks\":\"\"}}}],\"carpet\":[{\"aaxis\":{\"endlinecolor\":\"#2a3f5f\",\"gridcolor\":\"white\",\"linecolor\":\"white\",\"minorgridcolor\":\"white\",\"startlinecolor\":\"#2a3f5f\"},\"baxis\":{\"endlinecolor\":\"#2a3f5f\",\"gridcolor\":\"white\",\"linecolor\":\"white\",\"minorgridcolor\":\"white\",\"startlinecolor\":\"#2a3f5f\"},\"type\":\"carpet\"}],\"table\":[{\"cells\":{\"fill\":{\"color\":\"#EBF0F8\"},\"line\":{\"color\":\"white\"}},\"header\":{\"fill\":{\"color\":\"#C8D4E3\"},\"line\":{\"color\":\"white\"}},\"type\":\"table\"}],\"barpolar\":[{\"marker\":{\"line\":{\"color\":\"#E5ECF6\",\"width\":0.5},\"pattern\":{\"fillmode\":\"overlay\",\"size\":10,\"solidity\":0.2}},\"type\":\"barpolar\"}],\"pie\":[{\"automargin\":true,\"type\":\"pie\"}]},\"layout\":{\"autotypenumbers\":\"strict\",\"colorway\":[\"#636efa\",\"#EF553B\",\"#00cc96\",\"#ab63fa\",\"#FFA15A\",\"#19d3f3\",\"#FF6692\",\"#B6E880\",\"#FF97FF\",\"#FECB52\"],\"font\":{\"color\":\"#2a3f5f\"},\"hovermode\":\"closest\",\"hoverlabel\":{\"align\":\"left\"},\"paper_bgcolor\":\"white\",\"plot_bgcolor\":\"#E5ECF6\",\"polar\":{\"bgcolor\":\"#E5ECF6\",\"angularaxis\":{\"gridcolor\":\"white\",\"linecolor\":\"white\",\"ticks\":\"\"},\"radialaxis\":{\"gridcolor\":\"white\",\"linecolor\":\"white\",\"ticks\":\"\"}},\"ternary\":{\"bgcolor\":\"#E5ECF6\",\"aaxis\":{\"gridcolor\":\"white\",\"linecolor\":\"white\",\"ticks\":\"\"},\"baxis\":{\"gridcolor\":\"white\",\"linecolor\":\"white\",\"ticks\":\"\"},\"caxis\":{\"gridcolor\":\"white\",\"linecolor\":\"white\",\"ticks\":\"\"}},\"coloraxis\":{\"colorbar\":{\"outlinewidth\":0,\"ticks\":\"\"}},\"colorscale\":{\"sequential\":[[0.0,\"#0d0887\"],[0.1111111111111111,\"#46039f\"],[0.2222222222222222,\"#7201a8\"],[0.3333333333333333,\"#9c179e\"],[0.4444444444444444,\"#bd3786\"],[0.5555555555555556,\"#d8576b\"],[0.6666666666666666,\"#ed7953\"],[0.7777777777777778,\"#fb9f3a\"],[0.8888888888888888,\"#fdca26\"],[1.0,\"#f0f921\"]],\"sequentialminus\":[[0.0,\"#0d0887\"],[0.1111111111111111,\"#46039f\"],[0.2222222222222222,\"#7201a8\"],[0.3333333333333333,\"#9c179e\"],[0.4444444444444444,\"#bd3786\"],[0.5555555555555556,\"#d8576b\"],[0.6666666666666666,\"#ed7953\"],[0.7777777777777778,\"#fb9f3a\"],[0.8888888888888888,\"#fdca26\"],[1.0,\"#f0f921\"]],\"diverging\":[[0,\"#8e0152\"],[0.1,\"#c51b7d\"],[0.2,\"#de77ae\"],[0.3,\"#f1b6da\"],[0.4,\"#fde0ef\"],[0.5,\"#f7f7f7\"],[0.6,\"#e6f5d0\"],[0.7,\"#b8e186\"],[0.8,\"#7fbc41\"],[0.9,\"#4d9221\"],[1,\"#276419\"]]},\"xaxis\":{\"gridcolor\":\"white\",\"linecolor\":\"white\",\"ticks\":\"\",\"title\":{\"standoff\":15},\"zerolinecolor\":\"white\",\"automargin\":true,\"zerolinewidth\":2},\"yaxis\":{\"gridcolor\":\"white\",\"linecolor\":\"white\",\"ticks\":\"\",\"title\":{\"standoff\":15},\"zerolinecolor\":\"white\",\"automargin\":true,\"zerolinewidth\":2},\"scene\":{\"xaxis\":{\"backgroundcolor\":\"#E5ECF6\",\"gridcolor\":\"white\",\"linecolor\":\"white\",\"showbackground\":true,\"ticks\":\"\",\"zerolinecolor\":\"white\",\"gridwidth\":2},\"yaxis\":{\"backgroundcolor\":\"#E5ECF6\",\"gridcolor\":\"white\",\"linecolor\":\"white\",\"showbackground\":true,\"ticks\":\"\",\"zerolinecolor\":\"white\",\"gridwidth\":2},\"zaxis\":{\"backgroundcolor\":\"#E5ECF6\",\"gridcolor\":\"white\",\"linecolor\":\"white\",\"showbackground\":true,\"ticks\":\"\",\"zerolinecolor\":\"white\",\"gridwidth\":2}},\"shapedefaults\":{\"line\":{\"color\":\"#2a3f5f\"}},\"annotationdefaults\":{\"arrowcolor\":\"#2a3f5f\",\"arrowhead\":0,\"arrowwidth\":1},\"geo\":{\"bgcolor\":\"white\",\"landcolor\":\"#E5ECF6\",\"subunitcolor\":\"white\",\"showland\":true,\"showlakes\":true,\"lakecolor\":\"white\"},\"title\":{\"x\":0.05},\"mapbox\":{\"style\":\"light\"}}},\"xaxis\":{\"anchor\":\"y\",\"domain\":[0.0,1.0],\"title\":{\"text\":\"z\"}},\"yaxis\":{\"anchor\":\"x\",\"domain\":[0.0,1.0],\"title\":{\"text\":\"y\"},\"scaleanchor\":\"x\",\"scaleratio\":1},\"legend\":{\"tracegroupgap\":0},\"margin\":{\"t\":60},\"width\":640,\"height\":480},                        {\"responsive\": true}                    )                };            </script>        </div></td></tr><tr><td style='text-align: left'><details><summary style='font-weight:bold'>Profile</summary><table><tr><td style='text-align:left'>classifiers</td><td><table style='margin:0'><tr><td>&#x27;generic_elongation&#x27;</td></tr><tr><td>&#x27;false_round&#x27;</td></tr><tr><td>&#x27;symmetric&#x27;</td></tr><tr><td>&#x27;round&#x27;</td></tr></table></td></tr><tr><td style='text-align:left'>core_temperature</td><td>np.float64(1570.0591539343975)</td></tr><tr><td style='text-align:left'>cross_section</td><td><table><tr><td style='text-align: center'><div>                        <script type=\"text/javascript\">window.PlotlyConfig = {MathJaxConfig: 'local'};</script>\n",
       "        <script charset=\"utf-8\" src=\"https://cdn.plot.ly/plotly-3.0.1.min.js\"></script>                <div id=\"c9d3864b-7d40-4338-a980-c9153af03d1c\" class=\"plotly-graph-div\" style=\"height:480px; width:640px;\"></div>            <script type=\"text/javascript\">                window.PLOTLYENV=window.PLOTLYENV || {};                                if (document.getElementById(\"c9d3864b-7d40-4338-a980-c9153af03d1c\")) {                    Plotly.newPlot(                        \"c9d3864b-7d40-4338-a980-c9153af03d1c\",                        [{\"hovertemplate\":\"z=%{x}\\u003cbr\\u003ey=%{y}\\u003cextra\\u003e\\u003c\\u002fextra\\u003e\",\"legendgroup\":\"\",\"line\":{\"color\":\"#636efa\",\"dash\":\"solid\"},\"marker\":{\"symbol\":\"circle\"},\"mode\":\"lines\",\"name\":\"\",\"orientation\":\"v\",\"showlegend\":false,\"x\":{\"dtype\":\"f8\",\"bdata\":\"AAAAAAAAAACMjqj+VqEjP9RH6NoZojM\\u002f14BXQNl2PT\\u002fMMTVk9qhDP3vlnwR3m0g\\u002ftCzUjKKUTT8CSBVRCEtRPwtbc0Lw0FM\\u002fAl+4qUFdVj8N4ecnMexYP3bvtpk1d1s\\u002faaLre5T8XT\\u002f0lDYZbD5gP\\u002fixVuT+e2E\\u002fOc0lCAq3Yj\\u002f1mM561+9jP7g4LtilJmU\\u002fcHt36GBbZj82cTiSHo5nP7bPn4Mqv2g\\u002fGjeze6LuaT9e2mnHpRxrPxyJIa2aSWw\\u002ffFyTsd11bT\\u002fqD0Adp6FuPyjg\\u002fy34zm8\\u002fcrUv+iyBcD9tvqk3MiNxPz8bOjIttnE\\u002fU187jRP1cT8\\u002fGzoyLbZxP22+qTcyI3E\\u002fcrUv+iyBcD8o4P8t+M5vP+oPQB2noW4\\u002ffFyTsd11bT8ciSGtmklsP17aacelHGs\\u002fGjeze6LuaT+2z5+DKr9oPzZxOJIejmc\\u002fcHt36GBbZj+4OC7YpSZlP\\u002fWYznrX72M\\u002fOc0lCAq3Yj\\u002f4sVbk\\u002fnthP\\u002fSUNhlsPmA\\u002faaLre5T8XT9277aZNXdbPw3h5ycx7Fg\\u002fAl+4qUFdVj8LW3NC8NBTPwJIFVEIS1E\\u002ftCzUjKKUTT975Z8Ed5tIP8wxNWT2qEM\\u002f14BXQNl2PT\\u002fUR+jaGaIzP4yOqP5WoSM\\u002fAAAAAAAAAACMjqj+VqEjv9RH6NoZojO\\u002f14BXQNl2Pb\\u002fMMTVk9qhDv3vlnwR3m0i\\u002ftCzUjKKUTb8CSBVRCEtRvwtbc0Lw0FO\\u002fAl+4qUFdVr8N4ecnMexYv3bvtpk1d1u\\u002faaLre5T8Xb\\u002f0lDYZbD5gv\\u002fixVuT+e2G\\u002fOc0lCAq3Yr\\u002f1mM561+9jv7g4LtilJmW\\u002fcHt36GBbZr82cTiSHo5nv7bPn4Mqv2i\\u002fGjeze6Luab9e2mnHpRxrvxyJIa2aSWy\\u002ffFyTsd11bb\\u002fqD0Adp6Fuvyjg\\u002fy34zm+\\u002fcrUv+iyBcL9tvqk3MiNxvz8bOjIttnG\\u002fU187jRP1cb8\\u002fGzoyLbZxv22+qTcyI3G\\u002fcrUv+iyBcL8o4P8t+M5vv+oPQB2noW6\\u002ffFyTsd11bb8ciSGtmklsv17aacelHGu\\u002fGjeze6Luab+2z5+DKr9ovzZxOJIejme\\u002fcHt36GBbZr+4OC7YpSZlv\\u002fWYznrX72O\\u002fOc0lCAq3Yr\\u002f4sVbk\\u002fnthv\\u002fSUNhlsPmC\\u002faaLre5T8Xb9277aZNXdbvw3h5ycx7Fi\\u002fAl+4qUFdVr8LW3NC8NBTvwJIFVEIS1G\\u002ftCzUjKKUTb975Z8Ed5tIv8wxNWT2qEO\\u002f14BXQNl2Pb\\u002fUR+jaGaIzv4yOqP5WoSO\\u002fAAAAAAAAAAA=\"},\"xaxis\":\"x\",\"y\":{\"dtype\":\"f8\",\"bdata\":\"rDXNO07RcT9N5YDYgs1xP8tq7qMdxXE\\u002fzmcmjRO4cT9UYPTx46RxP08nIeMpi3E\\u002f7sG6kU5scT\\u002f1cjxQFUhxP6UW4rKTG3E\\u002fJIQ\\u002f3UDocD9O9TuznK5wP4LkG9Ueb3A\\u002fywGk7nMmcD\\u002ffVNxAua5vP0IkZKMlBG8\\u002f6Wq\\u002fPK9Kbj8b0RHcRnxtP\\u002foxu4f3nmw\\u002f6wYxSLyyaz\\u002ftte+au6pqPy78MbN4jGk\\u002fFZyMnntZaD+OZcLI+gNnP5HTcZq4hGU\\u002fYo5QiufgYz\\u002fyI3GmIAViP\\u002f75SwFMfl8\\u002fxCeeGHTiWT9tCi0B8phSP4a7OFEGjUw\\u002fAAAAAAAAAACGuzhRBo1Mv20KLQHymFK\\u002fxCeeGHTiWb\\u002f++UsBTH5fv\\u002fIjcaYgBWK\\u002fYo5QiufgY7+R03GauIRlv45lwsj6A2e\\u002fFZyMnntZaL8u\\u002fDGzeIxpv+2175q7qmq\\u002f6wYxSLyya7\\u002f6MbuH955svxvREdxGfG2\\u002f6Wq\\u002fPK9Kbr9CJGSjJQRvv99U3EC5rm+\\u002fywGk7nMmcL+C5BvVHm9wv071O7OcrnC\\u002fJIQ\\u002f3UDocL+lFuKykxtxv\\u002fVyPFAVSHG\\u002f7sG6kU5scb9PJyHjKYtxv1Rg9PHjpHG\\u002fzmcmjRO4cb\\u002fLau6jHcVxv03lgNiCzXG\\u002frDXNO07Rcb9N5YDYgs1xv8tq7qMdxXG\\u002fzmcmjRO4cb9UYPTx46Rxv08nIeMpi3G\\u002f7sG6kU5scb\\u002f1cjxQFUhxv6UW4rKTG3G\\u002fJIQ\\u002f3UDocL9O9TuznK5wv4LkG9Ueb3C\\u002fywGk7nMmcL\\u002ffVNxAua5vv0IkZKMlBG+\\u002f6Wq\\u002fPK9Kbr8b0RHcRnxtv\\u002foxu4f3nmy\\u002f6wYxSLyya7\\u002ftte+au6pqvy78MbN4jGm\\u002fFZyMnntZaL+OZcLI+gNnv5HTcZq4hGW\\u002fYo5QiufgY7\\u002fyI3GmIAViv\\u002f75SwFMfl+\\u002fxCeeGHTiWb9tCi0B8phSv4a7OFEGjUy\\u002fAAAAAAAAAACGuzhRBo1MP20KLQHymFI\\u002fxCeeGHTiWT\\u002f++UsBTH5fP\\u002fIjcaYgBWI\\u002fYo5QiufgYz+R03GauIRlP45lwsj6A2c\\u002fFZyMnntZaD8u\\u002fDGzeIxpP+2175q7qmo\\u002f6wYxSLyyaz\\u002f6MbuH955sPxvREdxGfG0\\u002f6Wq\\u002fPK9Kbj9CJGSjJQRvP99U3EC5rm8\\u002fywGk7nMmcD+C5BvVHm9wP071O7OcrnA\\u002fJIQ\\u002f3UDocD+lFuKykxtxP\\u002fVyPFAVSHE\\u002f7sG6kU5scT9PJyHjKYtxP1Rg9PHjpHE\\u002fzmcmjRO4cT\\u002fLau6jHcVxP03lgNiCzXE\\u002frDXNO07RcT8=\"},\"yaxis\":\"y\",\"type\":\"scatter\",\"fill\":\"toself\"}],                        {\"template\":{\"data\":{\"histogram2dcontour\":[{\"type\":\"histogram2dcontour\",\"colorbar\":{\"outlinewidth\":0,\"ticks\":\"\"},\"colorscale\":[[0.0,\"#0d0887\"],[0.1111111111111111,\"#46039f\"],[0.2222222222222222,\"#7201a8\"],[0.3333333333333333,\"#9c179e\"],[0.4444444444444444,\"#bd3786\"],[0.5555555555555556,\"#d8576b\"],[0.6666666666666666,\"#ed7953\"],[0.7777777777777778,\"#fb9f3a\"],[0.8888888888888888,\"#fdca26\"],[1.0,\"#f0f921\"]]}],\"choropleth\":[{\"type\":\"choropleth\",\"colorbar\":{\"outlinewidth\":0,\"ticks\":\"\"}}],\"histogram2d\":[{\"type\":\"histogram2d\",\"colorbar\":{\"outlinewidth\":0,\"ticks\":\"\"},\"colorscale\":[[0.0,\"#0d0887\"],[0.1111111111111111,\"#46039f\"],[0.2222222222222222,\"#7201a8\"],[0.3333333333333333,\"#9c179e\"],[0.4444444444444444,\"#bd3786\"],[0.5555555555555556,\"#d8576b\"],[0.6666666666666666,\"#ed7953\"],[0.7777777777777778,\"#fb9f3a\"],[0.8888888888888888,\"#fdca26\"],[1.0,\"#f0f921\"]]}],\"heatmap\":[{\"type\":\"heatmap\",\"colorbar\":{\"outlinewidth\":0,\"ticks\":\"\"},\"colorscale\":[[0.0,\"#0d0887\"],[0.1111111111111111,\"#46039f\"],[0.2222222222222222,\"#7201a8\"],[0.3333333333333333,\"#9c179e\"],[0.4444444444444444,\"#bd3786\"],[0.5555555555555556,\"#d8576b\"],[0.6666666666666666,\"#ed7953\"],[0.7777777777777778,\"#fb9f3a\"],[0.8888888888888888,\"#fdca26\"],[1.0,\"#f0f921\"]]}],\"contourcarpet\":[{\"type\":\"contourcarpet\",\"colorbar\":{\"outlinewidth\":0,\"ticks\":\"\"}}],\"contour\":[{\"type\":\"contour\",\"colorbar\":{\"outlinewidth\":0,\"ticks\":\"\"},\"colorscale\":[[0.0,\"#0d0887\"],[0.1111111111111111,\"#46039f\"],[0.2222222222222222,\"#7201a8\"],[0.3333333333333333,\"#9c179e\"],[0.4444444444444444,\"#bd3786\"],[0.5555555555555556,\"#d8576b\"],[0.6666666666666666,\"#ed7953\"],[0.7777777777777778,\"#fb9f3a\"],[0.8888888888888888,\"#fdca26\"],[1.0,\"#f0f921\"]]}],\"surface\":[{\"type\":\"surface\",\"colorbar\":{\"outlinewidth\":0,\"ticks\":\"\"},\"colorscale\":[[0.0,\"#0d0887\"],[0.1111111111111111,\"#46039f\"],[0.2222222222222222,\"#7201a8\"],[0.3333333333333333,\"#9c179e\"],[0.4444444444444444,\"#bd3786\"],[0.5555555555555556,\"#d8576b\"],[0.6666666666666666,\"#ed7953\"],[0.7777777777777778,\"#fb9f3a\"],[0.8888888888888888,\"#fdca26\"],[1.0,\"#f0f921\"]]}],\"mesh3d\":[{\"type\":\"mesh3d\",\"colorbar\":{\"outlinewidth\":0,\"ticks\":\"\"}}],\"scatter\":[{\"fillpattern\":{\"fillmode\":\"overlay\",\"size\":10,\"solidity\":0.2},\"type\":\"scatter\"}],\"parcoords\":[{\"type\":\"parcoords\",\"line\":{\"colorbar\":{\"outlinewidth\":0,\"ticks\":\"\"}}}],\"scatterpolargl\":[{\"type\":\"scatterpolargl\",\"marker\":{\"colorbar\":{\"outlinewidth\":0,\"ticks\":\"\"}}}],\"bar\":[{\"error_x\":{\"color\":\"#2a3f5f\"},\"error_y\":{\"color\":\"#2a3f5f\"},\"marker\":{\"line\":{\"color\":\"#E5ECF6\",\"width\":0.5},\"pattern\":{\"fillmode\":\"overlay\",\"size\":10,\"solidity\":0.2}},\"type\":\"bar\"}],\"scattergeo\":[{\"type\":\"scattergeo\",\"marker\":{\"colorbar\":{\"outlinewidth\":0,\"ticks\":\"\"}}}],\"scatterpolar\":[{\"type\":\"scatterpolar\",\"marker\":{\"colorbar\":{\"outlinewidth\":0,\"ticks\":\"\"}}}],\"histogram\":[{\"marker\":{\"pattern\":{\"fillmode\":\"overlay\",\"size\":10,\"solidity\":0.2}},\"type\":\"histogram\"}],\"scattergl\":[{\"type\":\"scattergl\",\"marker\":{\"colorbar\":{\"outlinewidth\":0,\"ticks\":\"\"}}}],\"scatter3d\":[{\"type\":\"scatter3d\",\"line\":{\"colorbar\":{\"outlinewidth\":0,\"ticks\":\"\"}},\"marker\":{\"colorbar\":{\"outlinewidth\":0,\"ticks\":\"\"}}}],\"scattermap\":[{\"type\":\"scattermap\",\"marker\":{\"colorbar\":{\"outlinewidth\":0,\"ticks\":\"\"}}}],\"scattermapbox\":[{\"type\":\"scattermapbox\",\"marker\":{\"colorbar\":{\"outlinewidth\":0,\"ticks\":\"\"}}}],\"scatterternary\":[{\"type\":\"scatterternary\",\"marker\":{\"colorbar\":{\"outlinewidth\":0,\"ticks\":\"\"}}}],\"scattercarpet\":[{\"type\":\"scattercarpet\",\"marker\":{\"colorbar\":{\"outlinewidth\":0,\"ticks\":\"\"}}}],\"carpet\":[{\"aaxis\":{\"endlinecolor\":\"#2a3f5f\",\"gridcolor\":\"white\",\"linecolor\":\"white\",\"minorgridcolor\":\"white\",\"startlinecolor\":\"#2a3f5f\"},\"baxis\":{\"endlinecolor\":\"#2a3f5f\",\"gridcolor\":\"white\",\"linecolor\":\"white\",\"minorgridcolor\":\"white\",\"startlinecolor\":\"#2a3f5f\"},\"type\":\"carpet\"}],\"table\":[{\"cells\":{\"fill\":{\"color\":\"#EBF0F8\"},\"line\":{\"color\":\"white\"}},\"header\":{\"fill\":{\"color\":\"#C8D4E3\"},\"line\":{\"color\":\"white\"}},\"type\":\"table\"}],\"barpolar\":[{\"marker\":{\"line\":{\"color\":\"#E5ECF6\",\"width\":0.5},\"pattern\":{\"fillmode\":\"overlay\",\"size\":10,\"solidity\":0.2}},\"type\":\"barpolar\"}],\"pie\":[{\"automargin\":true,\"type\":\"pie\"}]},\"layout\":{\"autotypenumbers\":\"strict\",\"colorway\":[\"#636efa\",\"#EF553B\",\"#00cc96\",\"#ab63fa\",\"#FFA15A\",\"#19d3f3\",\"#FF6692\",\"#B6E880\",\"#FF97FF\",\"#FECB52\"],\"font\":{\"color\":\"#2a3f5f\"},\"hovermode\":\"closest\",\"hoverlabel\":{\"align\":\"left\"},\"paper_bgcolor\":\"white\",\"plot_bgcolor\":\"#E5ECF6\",\"polar\":{\"bgcolor\":\"#E5ECF6\",\"angularaxis\":{\"gridcolor\":\"white\",\"linecolor\":\"white\",\"ticks\":\"\"},\"radialaxis\":{\"gridcolor\":\"white\",\"linecolor\":\"white\",\"ticks\":\"\"}},\"ternary\":{\"bgcolor\":\"#E5ECF6\",\"aaxis\":{\"gridcolor\":\"white\",\"linecolor\":\"white\",\"ticks\":\"\"},\"baxis\":{\"gridcolor\":\"white\",\"linecolor\":\"white\",\"ticks\":\"\"},\"caxis\":{\"gridcolor\":\"white\",\"linecolor\":\"white\",\"ticks\":\"\"}},\"coloraxis\":{\"colorbar\":{\"outlinewidth\":0,\"ticks\":\"\"}},\"colorscale\":{\"sequential\":[[0.0,\"#0d0887\"],[0.1111111111111111,\"#46039f\"],[0.2222222222222222,\"#7201a8\"],[0.3333333333333333,\"#9c179e\"],[0.4444444444444444,\"#bd3786\"],[0.5555555555555556,\"#d8576b\"],[0.6666666666666666,\"#ed7953\"],[0.7777777777777778,\"#fb9f3a\"],[0.8888888888888888,\"#fdca26\"],[1.0,\"#f0f921\"]],\"sequentialminus\":[[0.0,\"#0d0887\"],[0.1111111111111111,\"#46039f\"],[0.2222222222222222,\"#7201a8\"],[0.3333333333333333,\"#9c179e\"],[0.4444444444444444,\"#bd3786\"],[0.5555555555555556,\"#d8576b\"],[0.6666666666666666,\"#ed7953\"],[0.7777777777777778,\"#fb9f3a\"],[0.8888888888888888,\"#fdca26\"],[1.0,\"#f0f921\"]],\"diverging\":[[0,\"#8e0152\"],[0.1,\"#c51b7d\"],[0.2,\"#de77ae\"],[0.3,\"#f1b6da\"],[0.4,\"#fde0ef\"],[0.5,\"#f7f7f7\"],[0.6,\"#e6f5d0\"],[0.7,\"#b8e186\"],[0.8,\"#7fbc41\"],[0.9,\"#4d9221\"],[1,\"#276419\"]]},\"xaxis\":{\"gridcolor\":\"white\",\"linecolor\":\"white\",\"ticks\":\"\",\"title\":{\"standoff\":15},\"zerolinecolor\":\"white\",\"automargin\":true,\"zerolinewidth\":2},\"yaxis\":{\"gridcolor\":\"white\",\"linecolor\":\"white\",\"ticks\":\"\",\"title\":{\"standoff\":15},\"zerolinecolor\":\"white\",\"automargin\":true,\"zerolinewidth\":2},\"scene\":{\"xaxis\":{\"backgroundcolor\":\"#E5ECF6\",\"gridcolor\":\"white\",\"linecolor\":\"white\",\"showbackground\":true,\"ticks\":\"\",\"zerolinecolor\":\"white\",\"gridwidth\":2},\"yaxis\":{\"backgroundcolor\":\"#E5ECF6\",\"gridcolor\":\"white\",\"linecolor\":\"white\",\"showbackground\":true,\"ticks\":\"\",\"zerolinecolor\":\"white\",\"gridwidth\":2},\"zaxis\":{\"backgroundcolor\":\"#E5ECF6\",\"gridcolor\":\"white\",\"linecolor\":\"white\",\"showbackground\":true,\"ticks\":\"\",\"zerolinecolor\":\"white\",\"gridwidth\":2}},\"shapedefaults\":{\"line\":{\"color\":\"#2a3f5f\"}},\"annotationdefaults\":{\"arrowcolor\":\"#2a3f5f\",\"arrowhead\":0,\"arrowwidth\":1},\"geo\":{\"bgcolor\":\"white\",\"landcolor\":\"#E5ECF6\",\"subunitcolor\":\"white\",\"showland\":true,\"showlakes\":true,\"lakecolor\":\"white\"},\"title\":{\"x\":0.05},\"mapbox\":{\"style\":\"light\"}}},\"xaxis\":{\"anchor\":\"y\",\"domain\":[0.0,1.0],\"title\":{\"text\":\"z\"}},\"yaxis\":{\"anchor\":\"x\",\"domain\":[0.0,1.0],\"title\":{\"text\":\"y\"},\"scaleanchor\":\"x\",\"scaleratio\":1},\"legend\":{\"tracegroupgap\":0},\"margin\":{\"t\":60},\"width\":640,\"height\":480},                        {\"responsive\": true}                    )                };            </script>        </div></td></tr><tr><td style='text-align: left'><details><summary style='font-weight:bold'>Polygon</summary><table><tr><td style='text-align:left'>area</td><td>5.939031536528555e-05</td></tr><tr><td style='text-align:left'>height</td><td>0.008700000000000006</td></tr><tr><td style='text-align:left'>perimeter</td><td>0.02736933246437044</td></tr><tr><td style='text-align:left'>width</td><td>0.008768227336460354</td></tr></table></details></td></tr></table></td></tr><tr><td style='text-align:left'>length</td><td>5171.222724142025</td></tr><tr><td style='text-align:left'>material</td><td><table style='margin:0'><tr><td>&#x27;BST500&#x27;</td></tr><tr><td>&#x27;steel&#x27;</td></tr></table></td></tr><tr><td style='text-align:left'>ring_temperatures</td><td>array([1570.05915393, 1567.12701904, 1558.34092613, 1543.71864333,\n",
       "       1523.23735286, 1496.84675482, 1464.74408402, 1428.15944014,\n",
       "       1390.54359123, 1358.13149   , 1337.87659106])</td></tr><tr><td style='text-align:left'>strain</td><td>np.float64(0.5607017311212023)</td></tr><tr><td style='text-align:left'>surface_temperature</td><td>np.float64(1337.8765910557204)</td></tr><tr><td style='text-align:left'>t</td><td>np.float64(36.875179665279155)</td></tr><tr><td style='text-align:left'>temperature</td><td>np.float64(1425.8613020468922)</td></tr><tr><td style='text-align:left'>weight</td><td>2400</td></tr><tr><td style='text-align:left'>width</td><td>np.float64(0.008768227336460354)</td></tr></table></details></td></tr></table>"
      ]
     },
     "execution_count": 8,
     "metadata": {},
     "output_type": "execute_result"
    }
   ],
   "execution_count": 8
  },
  {
   "metadata": {
    "ExecuteTime": {
     "end_time": "2025-06-16T19:47:05.886124Z",
     "start_time": "2025-06-16T19:27:48.951864Z"
    }
   },
   "cell_type": "code",
   "source": "rolling_train_e107.solve(in_profile)",
   "id": "8d41684a3d4f7735",
   "outputs": [
    {
     "name": "stderr",
     "output_type": "stream",
     "text": [
      "Solution iteration of TwoRollPass '3' exceeded the maximum iteration count of 100. Continuing anyway.\n",
      "Solution iteration of TwoRollPass '7' exceeded the maximum iteration count of 100. Continuing anyway.\n",
      "Solution iteration of TwoRollPass '8' exceeded the maximum iteration count of 100. Continuing anyway.\n",
      "Solution iteration of TwoRollPass '14' exceeded the maximum iteration count of 100. Continuing anyway.\n",
      "Solution iteration of TwoRollPass '22-V' exceeded the maximum iteration count of 100. Continuing anyway.\n",
      "Solution iteration of TwoRollPass '23-H' exceeded the maximum iteration count of 100. Continuing anyway.\n",
      "Solution iteration of TwoRollPass '27-H' exceeded the maximum iteration count of 100. Continuing anyway.\n"
     ]
    },
    {
     "data": {
      "text/plain": [
       "Profile(\n",
       "    classifiers={'false_round', 'generic_elongation', 'round', 'symmetric'},\n",
       "    core_temperature=np.float64(1564.031451573546),\n",
       "    cross_section=Polygon(\n",
       "        area=5.8962332506903015e-05,\n",
       "        height=0.008700000000000006,\n",
       "        perimeter=0.02724389430699921,\n",
       "        width=0.008532481593459231,\n",
       "        ),\n",
       "    length=5208.739922328765,\n",
       "    material=['BST500', 'steel'],\n",
       "    ring_temperatures=array([1564.03145157, 1561.14151648, 1552.47714682, 1538.03928781,\n",
       "           1517.78882721, 1491.71342657, 1460.18475728, 1424.7379923 ,\n",
       "           1389.0032269 , 1358.83558383, 1340.17996623]),\n",
       "    strain=np.float64(0.5201991307214928),\n",
       "    surface_temperature=np.float64(1340.1799662253923),\n",
       "    t=np.float64(36.85417501903467),\n",
       "    temperature=np.float64(1423.722733478073),\n",
       "    weight=2400,\n",
       "    width=np.float64(0.008532481593459231),\n",
       "    )"
      ],
      "text/html": [
       "<table><tr><td style='text-align: center'><div>                        <script type=\"text/javascript\">window.PlotlyConfig = {MathJaxConfig: 'local'};</script>\n",
       "        <script charset=\"utf-8\" src=\"https://cdn.plot.ly/plotly-3.0.1.min.js\"></script>                <div id=\"b275439e-8465-425c-a8c9-78ada2d66d84\" class=\"plotly-graph-div\" style=\"height:480px; width:640px;\"></div>            <script type=\"text/javascript\">                window.PLOTLYENV=window.PLOTLYENV || {};                                if (document.getElementById(\"b275439e-8465-425c-a8c9-78ada2d66d84\")) {                    Plotly.newPlot(                        \"b275439e-8465-425c-a8c9-78ada2d66d84\",                        [{\"hovertemplate\":\"z=%{x}\\u003cbr\\u003ey=%{y}\\u003cextra\\u003e\\u003c\\u002fextra\\u003e\",\"legendgroup\":\"\",\"line\":{\"color\":\"#636efa\",\"dash\":\"solid\"},\"marker\":{\"symbol\":\"circle\"},\"mode\":\"lines\",\"name\":\"\",\"orientation\":\"v\",\"showlegend\":false,\"x\":{\"dtype\":\"f8\",\"bdata\":\"AAAAAAAAAABJRTPrdxAjP979ciXrEDM\\u002fpIwmGkycPD8W1GegpRZDP78rn1Wa40c\\u002ft\\u002fLt4262TD8HCS9iV8hQP03lR3MsOlM\\u002f9jqPWrqxVT8o1De72S1YP1JZTIKjrVo\\u002fWzrfERgyXT++\\u002f9pRP7ZfP+7jPOpdGmE\\u002fgcaFa\\u002fdWYj\\u002fItDNAH5FjP\\u002fUZaHjCyGQ\\u002fUv5sO\\u002f79ZT8lLaVLCzFnPxUFeRbbYWg\\u002f3GSVmliQaT8oZZt8u7xqPzdVjAkJ52s\\u002fZZF+YcsObT+ZqmmjIDRuP3bMfoH3Vm8\\u002fnRPFUpI6cD\\u002fxLWUE6MZwP2Qm46\\u002ftQnE\\u002fTlguS3p5cT9kJuOv7UJxP\\u002fEtZQToxnA\\u002fnRPFUpI6cD92zH6B91ZvP5mqaaMgNG4\\u002fZZF+YcsObT83VYwJCedrPyhlm3y7vGo\\u002f3GSVmliQaT8VBXkW22FoPyUtpUsLMWc\\u002fUv5sO\\u002f79ZT\\u002f1GWh4wshkP8i0M0AfkWM\\u002fgcaFa\\u002fdWYj\\u002fu4zzqXRphP77\\u002f2lE\\u002ftl8\\u002fWzrfERgyXT9SWUyCo61aPyjUN7vZLVg\\u002f9jqPWrqxVT9N5UdzLDpTPwcJL2JXyFA\\u002ft\\u002fLt4262TD+\\u002fK59VmuNHPxbUZ6ClFkM\\u002fpIwmGkycPD\\u002fe\\u002fXIl6xAzP0lFM+t3ECM\\u002fAAAAAAAAAABJRTPrdxAjv979ciXrEDO\\u002fpIwmGkycPL8W1GegpRZDv78rn1Wa40e\\u002ft\\u002fLt4262TL8HCS9iV8hQv03lR3MsOlO\\u002f9jqPWrqxVb8o1De72S1Yv1JZTIKjrVq\\u002fWzrfERgyXb++\\u002f9pRP7Zfv+7jPOpdGmG\\u002fgcaFa\\u002fdWYr\\u002fItDNAH5Fjv\\u002fUZaHjCyGS\\u002fUv5sO\\u002f79Zb8lLaVLCzFnvxUFeRbbYWi\\u002f3GSVmliQab8oZZt8u7xqvzdVjAkJ52u\\u002fZZF+YcsObb+ZqmmjIDRuv3bMfoH3Vm+\\u002fnRPFUpI6cL\\u002fxLWUE6MZwv2Qm46\\u002ftQnG\\u002fTlguS3p5cb9kJuOv7UJxv\\u002fEtZQToxnC\\u002fnRPFUpI6cL92zH6B91Zvv5mqaaMgNG6\\u002fZZF+YcsObb83VYwJCedrvyhlm3y7vGq\\u002f3GSVmliQab8VBXkW22FovyUtpUsLMWe\\u002fUv5sO\\u002f79Zb\\u002f1GWh4wshkv8i0M0AfkWO\\u002fgcaFa\\u002fdWYr\\u002fu4zzqXRphv77\\u002f2lE\\u002ftl+\\u002fWzrfERgyXb9SWUyCo61avyjUN7vZLVi\\u002f9jqPWrqxVb9N5UdzLDpTvwcJL2JXyFC\\u002ft\\u002fLt4262TL+\\u002fK59VmuNHvxbUZ6ClFkO\\u002fpIwmGkycPL\\u002fe\\u002fXIl6xAzv0lFM+t3ECO\\u002fAAAAAAAAAAA=\"},\"xaxis\":\"x\",\"y\":{\"dtype\":\"f8\",\"bdata\":\"rDXNO07RcT9Y91vZns1xPxqwf2rGxXE\\u002fSvLi\\u002f7y5cT990CaaHadxP\\u002ft7fUMbj3E\\u002fSDhlQn5ycT+vn19s6E9xP+nF8Cb3JXE\\u002fk74D4m\\u002f2cD9cXxmMHMFwPxbaZhzugnA\\u002fGGmjnkA9cD+T0yLaBeJvPyROQcgYPW8\\u002fxCWczT2Dbj+CIp4GlLttP07FVv8d5mw\\u002fhZFqLsb7az+TLV0G1\\u002fpqP+IZ7uIc6Gk\\u002fhx8pYgi\\u002faD9Wnbm6b3BnP3fX+AUHB2Y\\u002f4sx5AwqAZD\\u002fUZJsj87JiP79lbqKkr2A\\u002f1viOKT\\u002fkXD9xS4wr58FWP2YQ9zI9v1A\\u002fAAAAAAAAAABmEPcyPb9Qv3FLjCvnwVa\\u002f1viOKT\\u002fkXL+\\u002fZW6ipK9gv9RkmyPzsmK\\u002f4sx5AwqAZL931\\u002fgFBwdmv1adubpvcGe\\u002fhx8pYgi\\u002faL\\u002fiGe7iHOhpv5MtXQbX+mq\\u002fhZFqLsb7a79OxVb\\u002fHeZsv4IingaUu22\\u002fxCWczT2Dbr8kTkHIGD1vv5PTItoF4m+\\u002fGGmjnkA9cL8W2mYc7oJwv1xfGYwcwXC\\u002fk74D4m\\u002f2cL\\u002fpxfAm9yVxv6+fX2zoT3G\\u002fSDhlQn5ycb\\u002f7e31DG49xv33QJpodp3G\\u002fSvLi\\u002f7y5cb8asH9qxsVxv1j3W9mezXG\\u002frDXNO07Rcb9Y91vZns1xvxqwf2rGxXG\\u002fSvLi\\u002f7y5cb990CaaHadxv\\u002ft7fUMbj3G\\u002fSDhlQn5ycb+vn19s6E9xv+nF8Cb3JXG\\u002fk74D4m\\u002f2cL9cXxmMHMFwvxbaZhzugnC\\u002fGGmjnkA9cL+T0yLaBeJvvyROQcgYPW+\\u002fxCWczT2Dbr+CIp4GlLttv07FVv8d5my\\u002fhZFqLsb7a7+TLV0G1\\u002fpqv+IZ7uIc6Gm\\u002fhx8pYgi\\u002faL9Wnbm6b3Bnv3fX+AUHB2a\\u002f4sx5AwqAZL\\u002fUZJsj87Jiv79lbqKkr2C\\u002f1viOKT\\u002fkXL9xS4wr58FWv2YQ9zI9v1C\\u002fAAAAAAAAAABmEPcyPb9QP3FLjCvnwVY\\u002f1viOKT\\u002fkXD+\\u002fZW6ipK9gP9RkmyPzsmI\\u002f4sx5AwqAZD931\\u002fgFBwdmP1adubpvcGc\\u002fhx8pYgi\\u002faD\\u002fiGe7iHOhpP5MtXQbX+mo\\u002fhZFqLsb7az9OxVb\\u002fHeZsP4IingaUu20\\u002fxCWczT2Dbj8kTkHIGD1vP5PTItoF4m8\\u002fGGmjnkA9cD8W2mYc7oJwP1xfGYwcwXA\\u002fk74D4m\\u002f2cD\\u002fpxfAm9yVxP6+fX2zoT3E\\u002fSDhlQn5ycT\\u002f7e31DG49xP33QJpodp3E\\u002fSvLi\\u002f7y5cT8asH9qxsVxP1j3W9mezXE\\u002frDXNO07RcT8=\"},\"yaxis\":\"y\",\"type\":\"scatter\",\"fill\":\"toself\"}],                        {\"template\":{\"data\":{\"histogram2dcontour\":[{\"type\":\"histogram2dcontour\",\"colorbar\":{\"outlinewidth\":0,\"ticks\":\"\"},\"colorscale\":[[0.0,\"#0d0887\"],[0.1111111111111111,\"#46039f\"],[0.2222222222222222,\"#7201a8\"],[0.3333333333333333,\"#9c179e\"],[0.4444444444444444,\"#bd3786\"],[0.5555555555555556,\"#d8576b\"],[0.6666666666666666,\"#ed7953\"],[0.7777777777777778,\"#fb9f3a\"],[0.8888888888888888,\"#fdca26\"],[1.0,\"#f0f921\"]]}],\"choropleth\":[{\"type\":\"choropleth\",\"colorbar\":{\"outlinewidth\":0,\"ticks\":\"\"}}],\"histogram2d\":[{\"type\":\"histogram2d\",\"colorbar\":{\"outlinewidth\":0,\"ticks\":\"\"},\"colorscale\":[[0.0,\"#0d0887\"],[0.1111111111111111,\"#46039f\"],[0.2222222222222222,\"#7201a8\"],[0.3333333333333333,\"#9c179e\"],[0.4444444444444444,\"#bd3786\"],[0.5555555555555556,\"#d8576b\"],[0.6666666666666666,\"#ed7953\"],[0.7777777777777778,\"#fb9f3a\"],[0.8888888888888888,\"#fdca26\"],[1.0,\"#f0f921\"]]}],\"heatmap\":[{\"type\":\"heatmap\",\"colorbar\":{\"outlinewidth\":0,\"ticks\":\"\"},\"colorscale\":[[0.0,\"#0d0887\"],[0.1111111111111111,\"#46039f\"],[0.2222222222222222,\"#7201a8\"],[0.3333333333333333,\"#9c179e\"],[0.4444444444444444,\"#bd3786\"],[0.5555555555555556,\"#d8576b\"],[0.6666666666666666,\"#ed7953\"],[0.7777777777777778,\"#fb9f3a\"],[0.8888888888888888,\"#fdca26\"],[1.0,\"#f0f921\"]]}],\"contourcarpet\":[{\"type\":\"contourcarpet\",\"colorbar\":{\"outlinewidth\":0,\"ticks\":\"\"}}],\"contour\":[{\"type\":\"contour\",\"colorbar\":{\"outlinewidth\":0,\"ticks\":\"\"},\"colorscale\":[[0.0,\"#0d0887\"],[0.1111111111111111,\"#46039f\"],[0.2222222222222222,\"#7201a8\"],[0.3333333333333333,\"#9c179e\"],[0.4444444444444444,\"#bd3786\"],[0.5555555555555556,\"#d8576b\"],[0.6666666666666666,\"#ed7953\"],[0.7777777777777778,\"#fb9f3a\"],[0.8888888888888888,\"#fdca26\"],[1.0,\"#f0f921\"]]}],\"surface\":[{\"type\":\"surface\",\"colorbar\":{\"outlinewidth\":0,\"ticks\":\"\"},\"colorscale\":[[0.0,\"#0d0887\"],[0.1111111111111111,\"#46039f\"],[0.2222222222222222,\"#7201a8\"],[0.3333333333333333,\"#9c179e\"],[0.4444444444444444,\"#bd3786\"],[0.5555555555555556,\"#d8576b\"],[0.6666666666666666,\"#ed7953\"],[0.7777777777777778,\"#fb9f3a\"],[0.8888888888888888,\"#fdca26\"],[1.0,\"#f0f921\"]]}],\"mesh3d\":[{\"type\":\"mesh3d\",\"colorbar\":{\"outlinewidth\":0,\"ticks\":\"\"}}],\"scatter\":[{\"fillpattern\":{\"fillmode\":\"overlay\",\"size\":10,\"solidity\":0.2},\"type\":\"scatter\"}],\"parcoords\":[{\"type\":\"parcoords\",\"line\":{\"colorbar\":{\"outlinewidth\":0,\"ticks\":\"\"}}}],\"scatterpolargl\":[{\"type\":\"scatterpolargl\",\"marker\":{\"colorbar\":{\"outlinewidth\":0,\"ticks\":\"\"}}}],\"bar\":[{\"error_x\":{\"color\":\"#2a3f5f\"},\"error_y\":{\"color\":\"#2a3f5f\"},\"marker\":{\"line\":{\"color\":\"#E5ECF6\",\"width\":0.5},\"pattern\":{\"fillmode\":\"overlay\",\"size\":10,\"solidity\":0.2}},\"type\":\"bar\"}],\"scattergeo\":[{\"type\":\"scattergeo\",\"marker\":{\"colorbar\":{\"outlinewidth\":0,\"ticks\":\"\"}}}],\"scatterpolar\":[{\"type\":\"scatterpolar\",\"marker\":{\"colorbar\":{\"outlinewidth\":0,\"ticks\":\"\"}}}],\"histogram\":[{\"marker\":{\"pattern\":{\"fillmode\":\"overlay\",\"size\":10,\"solidity\":0.2}},\"type\":\"histogram\"}],\"scattergl\":[{\"type\":\"scattergl\",\"marker\":{\"colorbar\":{\"outlinewidth\":0,\"ticks\":\"\"}}}],\"scatter3d\":[{\"type\":\"scatter3d\",\"line\":{\"colorbar\":{\"outlinewidth\":0,\"ticks\":\"\"}},\"marker\":{\"colorbar\":{\"outlinewidth\":0,\"ticks\":\"\"}}}],\"scattermap\":[{\"type\":\"scattermap\",\"marker\":{\"colorbar\":{\"outlinewidth\":0,\"ticks\":\"\"}}}],\"scattermapbox\":[{\"type\":\"scattermapbox\",\"marker\":{\"colorbar\":{\"outlinewidth\":0,\"ticks\":\"\"}}}],\"scatterternary\":[{\"type\":\"scatterternary\",\"marker\":{\"colorbar\":{\"outlinewidth\":0,\"ticks\":\"\"}}}],\"scattercarpet\":[{\"type\":\"scattercarpet\",\"marker\":{\"colorbar\":{\"outlinewidth\":0,\"ticks\":\"\"}}}],\"carpet\":[{\"aaxis\":{\"endlinecolor\":\"#2a3f5f\",\"gridcolor\":\"white\",\"linecolor\":\"white\",\"minorgridcolor\":\"white\",\"startlinecolor\":\"#2a3f5f\"},\"baxis\":{\"endlinecolor\":\"#2a3f5f\",\"gridcolor\":\"white\",\"linecolor\":\"white\",\"minorgridcolor\":\"white\",\"startlinecolor\":\"#2a3f5f\"},\"type\":\"carpet\"}],\"table\":[{\"cells\":{\"fill\":{\"color\":\"#EBF0F8\"},\"line\":{\"color\":\"white\"}},\"header\":{\"fill\":{\"color\":\"#C8D4E3\"},\"line\":{\"color\":\"white\"}},\"type\":\"table\"}],\"barpolar\":[{\"marker\":{\"line\":{\"color\":\"#E5ECF6\",\"width\":0.5},\"pattern\":{\"fillmode\":\"overlay\",\"size\":10,\"solidity\":0.2}},\"type\":\"barpolar\"}],\"pie\":[{\"automargin\":true,\"type\":\"pie\"}]},\"layout\":{\"autotypenumbers\":\"strict\",\"colorway\":[\"#636efa\",\"#EF553B\",\"#00cc96\",\"#ab63fa\",\"#FFA15A\",\"#19d3f3\",\"#FF6692\",\"#B6E880\",\"#FF97FF\",\"#FECB52\"],\"font\":{\"color\":\"#2a3f5f\"},\"hovermode\":\"closest\",\"hoverlabel\":{\"align\":\"left\"},\"paper_bgcolor\":\"white\",\"plot_bgcolor\":\"#E5ECF6\",\"polar\":{\"bgcolor\":\"#E5ECF6\",\"angularaxis\":{\"gridcolor\":\"white\",\"linecolor\":\"white\",\"ticks\":\"\"},\"radialaxis\":{\"gridcolor\":\"white\",\"linecolor\":\"white\",\"ticks\":\"\"}},\"ternary\":{\"bgcolor\":\"#E5ECF6\",\"aaxis\":{\"gridcolor\":\"white\",\"linecolor\":\"white\",\"ticks\":\"\"},\"baxis\":{\"gridcolor\":\"white\",\"linecolor\":\"white\",\"ticks\":\"\"},\"caxis\":{\"gridcolor\":\"white\",\"linecolor\":\"white\",\"ticks\":\"\"}},\"coloraxis\":{\"colorbar\":{\"outlinewidth\":0,\"ticks\":\"\"}},\"colorscale\":{\"sequential\":[[0.0,\"#0d0887\"],[0.1111111111111111,\"#46039f\"],[0.2222222222222222,\"#7201a8\"],[0.3333333333333333,\"#9c179e\"],[0.4444444444444444,\"#bd3786\"],[0.5555555555555556,\"#d8576b\"],[0.6666666666666666,\"#ed7953\"],[0.7777777777777778,\"#fb9f3a\"],[0.8888888888888888,\"#fdca26\"],[1.0,\"#f0f921\"]],\"sequentialminus\":[[0.0,\"#0d0887\"],[0.1111111111111111,\"#46039f\"],[0.2222222222222222,\"#7201a8\"],[0.3333333333333333,\"#9c179e\"],[0.4444444444444444,\"#bd3786\"],[0.5555555555555556,\"#d8576b\"],[0.6666666666666666,\"#ed7953\"],[0.7777777777777778,\"#fb9f3a\"],[0.8888888888888888,\"#fdca26\"],[1.0,\"#f0f921\"]],\"diverging\":[[0,\"#8e0152\"],[0.1,\"#c51b7d\"],[0.2,\"#de77ae\"],[0.3,\"#f1b6da\"],[0.4,\"#fde0ef\"],[0.5,\"#f7f7f7\"],[0.6,\"#e6f5d0\"],[0.7,\"#b8e186\"],[0.8,\"#7fbc41\"],[0.9,\"#4d9221\"],[1,\"#276419\"]]},\"xaxis\":{\"gridcolor\":\"white\",\"linecolor\":\"white\",\"ticks\":\"\",\"title\":{\"standoff\":15},\"zerolinecolor\":\"white\",\"automargin\":true,\"zerolinewidth\":2},\"yaxis\":{\"gridcolor\":\"white\",\"linecolor\":\"white\",\"ticks\":\"\",\"title\":{\"standoff\":15},\"zerolinecolor\":\"white\",\"automargin\":true,\"zerolinewidth\":2},\"scene\":{\"xaxis\":{\"backgroundcolor\":\"#E5ECF6\",\"gridcolor\":\"white\",\"linecolor\":\"white\",\"showbackground\":true,\"ticks\":\"\",\"zerolinecolor\":\"white\",\"gridwidth\":2},\"yaxis\":{\"backgroundcolor\":\"#E5ECF6\",\"gridcolor\":\"white\",\"linecolor\":\"white\",\"showbackground\":true,\"ticks\":\"\",\"zerolinecolor\":\"white\",\"gridwidth\":2},\"zaxis\":{\"backgroundcolor\":\"#E5ECF6\",\"gridcolor\":\"white\",\"linecolor\":\"white\",\"showbackground\":true,\"ticks\":\"\",\"zerolinecolor\":\"white\",\"gridwidth\":2}},\"shapedefaults\":{\"line\":{\"color\":\"#2a3f5f\"}},\"annotationdefaults\":{\"arrowcolor\":\"#2a3f5f\",\"arrowhead\":0,\"arrowwidth\":1},\"geo\":{\"bgcolor\":\"white\",\"landcolor\":\"#E5ECF6\",\"subunitcolor\":\"white\",\"showland\":true,\"showlakes\":true,\"lakecolor\":\"white\"},\"title\":{\"x\":0.05},\"mapbox\":{\"style\":\"light\"}}},\"xaxis\":{\"anchor\":\"y\",\"domain\":[0.0,1.0],\"title\":{\"text\":\"z\"}},\"yaxis\":{\"anchor\":\"x\",\"domain\":[0.0,1.0],\"title\":{\"text\":\"y\"},\"scaleanchor\":\"x\",\"scaleratio\":1},\"legend\":{\"tracegroupgap\":0},\"margin\":{\"t\":60},\"width\":640,\"height\":480},                        {\"responsive\": true}                    )                };            </script>        </div></td></tr><tr><td style='text-align: left'><details><summary style='font-weight:bold'>Profile</summary><table><tr><td style='text-align:left'>classifiers</td><td><table style='margin:0'><tr><td>&#x27;generic_elongation&#x27;</td></tr><tr><td>&#x27;false_round&#x27;</td></tr><tr><td>&#x27;symmetric&#x27;</td></tr><tr><td>&#x27;round&#x27;</td></tr></table></td></tr><tr><td style='text-align:left'>core_temperature</td><td>np.float64(1564.031451573546)</td></tr><tr><td style='text-align:left'>cross_section</td><td><table><tr><td style='text-align: center'><div>                        <script type=\"text/javascript\">window.PlotlyConfig = {MathJaxConfig: 'local'};</script>\n",
       "        <script charset=\"utf-8\" src=\"https://cdn.plot.ly/plotly-3.0.1.min.js\"></script>                <div id=\"66d71db0-5090-4cad-b05c-b83cb4b411c4\" class=\"plotly-graph-div\" style=\"height:480px; width:640px;\"></div>            <script type=\"text/javascript\">                window.PLOTLYENV=window.PLOTLYENV || {};                                if (document.getElementById(\"66d71db0-5090-4cad-b05c-b83cb4b411c4\")) {                    Plotly.newPlot(                        \"66d71db0-5090-4cad-b05c-b83cb4b411c4\",                        [{\"hovertemplate\":\"z=%{x}\\u003cbr\\u003ey=%{y}\\u003cextra\\u003e\\u003c\\u002fextra\\u003e\",\"legendgroup\":\"\",\"line\":{\"color\":\"#636efa\",\"dash\":\"solid\"},\"marker\":{\"symbol\":\"circle\"},\"mode\":\"lines\",\"name\":\"\",\"orientation\":\"v\",\"showlegend\":false,\"x\":{\"dtype\":\"f8\",\"bdata\":\"AAAAAAAAAABJRTPrdxAjP979ciXrEDM\\u002fpIwmGkycPD8W1GegpRZDP78rn1Wa40c\\u002ft\\u002fLt4262TD8HCS9iV8hQP03lR3MsOlM\\u002f9jqPWrqxVT8o1De72S1YP1JZTIKjrVo\\u002fWzrfERgyXT++\\u002f9pRP7ZfP+7jPOpdGmE\\u002fgcaFa\\u002fdWYj\\u002fItDNAH5FjP\\u002fUZaHjCyGQ\\u002fUv5sO\\u002f79ZT8lLaVLCzFnPxUFeRbbYWg\\u002f3GSVmliQaT8oZZt8u7xqPzdVjAkJ52s\\u002fZZF+YcsObT+ZqmmjIDRuP3bMfoH3Vm8\\u002fnRPFUpI6cD\\u002fxLWUE6MZwP2Qm46\\u002ftQnE\\u002fTlguS3p5cT9kJuOv7UJxP\\u002fEtZQToxnA\\u002fnRPFUpI6cD92zH6B91ZvP5mqaaMgNG4\\u002fZZF+YcsObT83VYwJCedrPyhlm3y7vGo\\u002f3GSVmliQaT8VBXkW22FoPyUtpUsLMWc\\u002fUv5sO\\u002f79ZT\\u002f1GWh4wshkP8i0M0AfkWM\\u002fgcaFa\\u002fdWYj\\u002fu4zzqXRphP77\\u002f2lE\\u002ftl8\\u002fWzrfERgyXT9SWUyCo61aPyjUN7vZLVg\\u002f9jqPWrqxVT9N5UdzLDpTPwcJL2JXyFA\\u002ft\\u002fLt4262TD+\\u002fK59VmuNHPxbUZ6ClFkM\\u002fpIwmGkycPD\\u002fe\\u002fXIl6xAzP0lFM+t3ECM\\u002fAAAAAAAAAABJRTPrdxAjv979ciXrEDO\\u002fpIwmGkycPL8W1GegpRZDv78rn1Wa40e\\u002ft\\u002fLt4262TL8HCS9iV8hQv03lR3MsOlO\\u002f9jqPWrqxVb8o1De72S1Yv1JZTIKjrVq\\u002fWzrfERgyXb++\\u002f9pRP7Zfv+7jPOpdGmG\\u002fgcaFa\\u002fdWYr\\u002fItDNAH5Fjv\\u002fUZaHjCyGS\\u002fUv5sO\\u002f79Zb8lLaVLCzFnvxUFeRbbYWi\\u002f3GSVmliQab8oZZt8u7xqvzdVjAkJ52u\\u002fZZF+YcsObb+ZqmmjIDRuv3bMfoH3Vm+\\u002fnRPFUpI6cL\\u002fxLWUE6MZwv2Qm46\\u002ftQnG\\u002fTlguS3p5cb9kJuOv7UJxv\\u002fEtZQToxnC\\u002fnRPFUpI6cL92zH6B91Zvv5mqaaMgNG6\\u002fZZF+YcsObb83VYwJCedrvyhlm3y7vGq\\u002f3GSVmliQab8VBXkW22FovyUtpUsLMWe\\u002fUv5sO\\u002f79Zb\\u002f1GWh4wshkv8i0M0AfkWO\\u002fgcaFa\\u002fdWYr\\u002fu4zzqXRphv77\\u002f2lE\\u002ftl+\\u002fWzrfERgyXb9SWUyCo61avyjUN7vZLVi\\u002f9jqPWrqxVb9N5UdzLDpTvwcJL2JXyFC\\u002ft\\u002fLt4262TL+\\u002fK59VmuNHvxbUZ6ClFkO\\u002fpIwmGkycPL\\u002fe\\u002fXIl6xAzv0lFM+t3ECO\\u002fAAAAAAAAAAA=\"},\"xaxis\":\"x\",\"y\":{\"dtype\":\"f8\",\"bdata\":\"rDXNO07RcT9Y91vZns1xPxqwf2rGxXE\\u002fSvLi\\u002f7y5cT990CaaHadxP\\u002ft7fUMbj3E\\u002fSDhlQn5ycT+vn19s6E9xP+nF8Cb3JXE\\u002fk74D4m\\u002f2cD9cXxmMHMFwPxbaZhzugnA\\u002fGGmjnkA9cD+T0yLaBeJvPyROQcgYPW8\\u002fxCWczT2Dbj+CIp4GlLttP07FVv8d5mw\\u002fhZFqLsb7az+TLV0G1\\u002fpqP+IZ7uIc6Gk\\u002fhx8pYgi\\u002faD9Wnbm6b3BnP3fX+AUHB2Y\\u002f4sx5AwqAZD\\u002fUZJsj87JiP79lbqKkr2A\\u002f1viOKT\\u002fkXD9xS4wr58FWP2YQ9zI9v1A\\u002fAAAAAAAAAABmEPcyPb9Qv3FLjCvnwVa\\u002f1viOKT\\u002fkXL+\\u002fZW6ipK9gv9RkmyPzsmK\\u002f4sx5AwqAZL931\\u002fgFBwdmv1adubpvcGe\\u002fhx8pYgi\\u002faL\\u002fiGe7iHOhpv5MtXQbX+mq\\u002fhZFqLsb7a79OxVb\\u002fHeZsv4IingaUu22\\u002fxCWczT2Dbr8kTkHIGD1vv5PTItoF4m+\\u002fGGmjnkA9cL8W2mYc7oJwv1xfGYwcwXC\\u002fk74D4m\\u002f2cL\\u002fpxfAm9yVxv6+fX2zoT3G\\u002fSDhlQn5ycb\\u002f7e31DG49xv33QJpodp3G\\u002fSvLi\\u002f7y5cb8asH9qxsVxv1j3W9mezXG\\u002frDXNO07Rcb9Y91vZns1xvxqwf2rGxXG\\u002fSvLi\\u002f7y5cb990CaaHadxv\\u002ft7fUMbj3G\\u002fSDhlQn5ycb+vn19s6E9xv+nF8Cb3JXG\\u002fk74D4m\\u002f2cL9cXxmMHMFwvxbaZhzugnC\\u002fGGmjnkA9cL+T0yLaBeJvvyROQcgYPW+\\u002fxCWczT2Dbr+CIp4GlLttv07FVv8d5my\\u002fhZFqLsb7a7+TLV0G1\\u002fpqv+IZ7uIc6Gm\\u002fhx8pYgi\\u002faL9Wnbm6b3Bnv3fX+AUHB2a\\u002f4sx5AwqAZL\\u002fUZJsj87Jiv79lbqKkr2C\\u002f1viOKT\\u002fkXL9xS4wr58FWv2YQ9zI9v1C\\u002fAAAAAAAAAABmEPcyPb9QP3FLjCvnwVY\\u002f1viOKT\\u002fkXD+\\u002fZW6ipK9gP9RkmyPzsmI\\u002f4sx5AwqAZD931\\u002fgFBwdmP1adubpvcGc\\u002fhx8pYgi\\u002faD\\u002fiGe7iHOhpP5MtXQbX+mo\\u002fhZFqLsb7az9OxVb\\u002fHeZsP4IingaUu20\\u002fxCWczT2Dbj8kTkHIGD1vP5PTItoF4m8\\u002fGGmjnkA9cD8W2mYc7oJwP1xfGYwcwXA\\u002fk74D4m\\u002f2cD\\u002fpxfAm9yVxP6+fX2zoT3E\\u002fSDhlQn5ycT\\u002f7e31DG49xP33QJpodp3E\\u002fSvLi\\u002f7y5cT8asH9qxsVxP1j3W9mezXE\\u002frDXNO07RcT8=\"},\"yaxis\":\"y\",\"type\":\"scatter\",\"fill\":\"toself\"}],                        {\"template\":{\"data\":{\"histogram2dcontour\":[{\"type\":\"histogram2dcontour\",\"colorbar\":{\"outlinewidth\":0,\"ticks\":\"\"},\"colorscale\":[[0.0,\"#0d0887\"],[0.1111111111111111,\"#46039f\"],[0.2222222222222222,\"#7201a8\"],[0.3333333333333333,\"#9c179e\"],[0.4444444444444444,\"#bd3786\"],[0.5555555555555556,\"#d8576b\"],[0.6666666666666666,\"#ed7953\"],[0.7777777777777778,\"#fb9f3a\"],[0.8888888888888888,\"#fdca26\"],[1.0,\"#f0f921\"]]}],\"choropleth\":[{\"type\":\"choropleth\",\"colorbar\":{\"outlinewidth\":0,\"ticks\":\"\"}}],\"histogram2d\":[{\"type\":\"histogram2d\",\"colorbar\":{\"outlinewidth\":0,\"ticks\":\"\"},\"colorscale\":[[0.0,\"#0d0887\"],[0.1111111111111111,\"#46039f\"],[0.2222222222222222,\"#7201a8\"],[0.3333333333333333,\"#9c179e\"],[0.4444444444444444,\"#bd3786\"],[0.5555555555555556,\"#d8576b\"],[0.6666666666666666,\"#ed7953\"],[0.7777777777777778,\"#fb9f3a\"],[0.8888888888888888,\"#fdca26\"],[1.0,\"#f0f921\"]]}],\"heatmap\":[{\"type\":\"heatmap\",\"colorbar\":{\"outlinewidth\":0,\"ticks\":\"\"},\"colorscale\":[[0.0,\"#0d0887\"],[0.1111111111111111,\"#46039f\"],[0.2222222222222222,\"#7201a8\"],[0.3333333333333333,\"#9c179e\"],[0.4444444444444444,\"#bd3786\"],[0.5555555555555556,\"#d8576b\"],[0.6666666666666666,\"#ed7953\"],[0.7777777777777778,\"#fb9f3a\"],[0.8888888888888888,\"#fdca26\"],[1.0,\"#f0f921\"]]}],\"contourcarpet\":[{\"type\":\"contourcarpet\",\"colorbar\":{\"outlinewidth\":0,\"ticks\":\"\"}}],\"contour\":[{\"type\":\"contour\",\"colorbar\":{\"outlinewidth\":0,\"ticks\":\"\"},\"colorscale\":[[0.0,\"#0d0887\"],[0.1111111111111111,\"#46039f\"],[0.2222222222222222,\"#7201a8\"],[0.3333333333333333,\"#9c179e\"],[0.4444444444444444,\"#bd3786\"],[0.5555555555555556,\"#d8576b\"],[0.6666666666666666,\"#ed7953\"],[0.7777777777777778,\"#fb9f3a\"],[0.8888888888888888,\"#fdca26\"],[1.0,\"#f0f921\"]]}],\"surface\":[{\"type\":\"surface\",\"colorbar\":{\"outlinewidth\":0,\"ticks\":\"\"},\"colorscale\":[[0.0,\"#0d0887\"],[0.1111111111111111,\"#46039f\"],[0.2222222222222222,\"#7201a8\"],[0.3333333333333333,\"#9c179e\"],[0.4444444444444444,\"#bd3786\"],[0.5555555555555556,\"#d8576b\"],[0.6666666666666666,\"#ed7953\"],[0.7777777777777778,\"#fb9f3a\"],[0.8888888888888888,\"#fdca26\"],[1.0,\"#f0f921\"]]}],\"mesh3d\":[{\"type\":\"mesh3d\",\"colorbar\":{\"outlinewidth\":0,\"ticks\":\"\"}}],\"scatter\":[{\"fillpattern\":{\"fillmode\":\"overlay\",\"size\":10,\"solidity\":0.2},\"type\":\"scatter\"}],\"parcoords\":[{\"type\":\"parcoords\",\"line\":{\"colorbar\":{\"outlinewidth\":0,\"ticks\":\"\"}}}],\"scatterpolargl\":[{\"type\":\"scatterpolargl\",\"marker\":{\"colorbar\":{\"outlinewidth\":0,\"ticks\":\"\"}}}],\"bar\":[{\"error_x\":{\"color\":\"#2a3f5f\"},\"error_y\":{\"color\":\"#2a3f5f\"},\"marker\":{\"line\":{\"color\":\"#E5ECF6\",\"width\":0.5},\"pattern\":{\"fillmode\":\"overlay\",\"size\":10,\"solidity\":0.2}},\"type\":\"bar\"}],\"scattergeo\":[{\"type\":\"scattergeo\",\"marker\":{\"colorbar\":{\"outlinewidth\":0,\"ticks\":\"\"}}}],\"scatterpolar\":[{\"type\":\"scatterpolar\",\"marker\":{\"colorbar\":{\"outlinewidth\":0,\"ticks\":\"\"}}}],\"histogram\":[{\"marker\":{\"pattern\":{\"fillmode\":\"overlay\",\"size\":10,\"solidity\":0.2}},\"type\":\"histogram\"}],\"scattergl\":[{\"type\":\"scattergl\",\"marker\":{\"colorbar\":{\"outlinewidth\":0,\"ticks\":\"\"}}}],\"scatter3d\":[{\"type\":\"scatter3d\",\"line\":{\"colorbar\":{\"outlinewidth\":0,\"ticks\":\"\"}},\"marker\":{\"colorbar\":{\"outlinewidth\":0,\"ticks\":\"\"}}}],\"scattermap\":[{\"type\":\"scattermap\",\"marker\":{\"colorbar\":{\"outlinewidth\":0,\"ticks\":\"\"}}}],\"scattermapbox\":[{\"type\":\"scattermapbox\",\"marker\":{\"colorbar\":{\"outlinewidth\":0,\"ticks\":\"\"}}}],\"scatterternary\":[{\"type\":\"scatterternary\",\"marker\":{\"colorbar\":{\"outlinewidth\":0,\"ticks\":\"\"}}}],\"scattercarpet\":[{\"type\":\"scattercarpet\",\"marker\":{\"colorbar\":{\"outlinewidth\":0,\"ticks\":\"\"}}}],\"carpet\":[{\"aaxis\":{\"endlinecolor\":\"#2a3f5f\",\"gridcolor\":\"white\",\"linecolor\":\"white\",\"minorgridcolor\":\"white\",\"startlinecolor\":\"#2a3f5f\"},\"baxis\":{\"endlinecolor\":\"#2a3f5f\",\"gridcolor\":\"white\",\"linecolor\":\"white\",\"minorgridcolor\":\"white\",\"startlinecolor\":\"#2a3f5f\"},\"type\":\"carpet\"}],\"table\":[{\"cells\":{\"fill\":{\"color\":\"#EBF0F8\"},\"line\":{\"color\":\"white\"}},\"header\":{\"fill\":{\"color\":\"#C8D4E3\"},\"line\":{\"color\":\"white\"}},\"type\":\"table\"}],\"barpolar\":[{\"marker\":{\"line\":{\"color\":\"#E5ECF6\",\"width\":0.5},\"pattern\":{\"fillmode\":\"overlay\",\"size\":10,\"solidity\":0.2}},\"type\":\"barpolar\"}],\"pie\":[{\"automargin\":true,\"type\":\"pie\"}]},\"layout\":{\"autotypenumbers\":\"strict\",\"colorway\":[\"#636efa\",\"#EF553B\",\"#00cc96\",\"#ab63fa\",\"#FFA15A\",\"#19d3f3\",\"#FF6692\",\"#B6E880\",\"#FF97FF\",\"#FECB52\"],\"font\":{\"color\":\"#2a3f5f\"},\"hovermode\":\"closest\",\"hoverlabel\":{\"align\":\"left\"},\"paper_bgcolor\":\"white\",\"plot_bgcolor\":\"#E5ECF6\",\"polar\":{\"bgcolor\":\"#E5ECF6\",\"angularaxis\":{\"gridcolor\":\"white\",\"linecolor\":\"white\",\"ticks\":\"\"},\"radialaxis\":{\"gridcolor\":\"white\",\"linecolor\":\"white\",\"ticks\":\"\"}},\"ternary\":{\"bgcolor\":\"#E5ECF6\",\"aaxis\":{\"gridcolor\":\"white\",\"linecolor\":\"white\",\"ticks\":\"\"},\"baxis\":{\"gridcolor\":\"white\",\"linecolor\":\"white\",\"ticks\":\"\"},\"caxis\":{\"gridcolor\":\"white\",\"linecolor\":\"white\",\"ticks\":\"\"}},\"coloraxis\":{\"colorbar\":{\"outlinewidth\":0,\"ticks\":\"\"}},\"colorscale\":{\"sequential\":[[0.0,\"#0d0887\"],[0.1111111111111111,\"#46039f\"],[0.2222222222222222,\"#7201a8\"],[0.3333333333333333,\"#9c179e\"],[0.4444444444444444,\"#bd3786\"],[0.5555555555555556,\"#d8576b\"],[0.6666666666666666,\"#ed7953\"],[0.7777777777777778,\"#fb9f3a\"],[0.8888888888888888,\"#fdca26\"],[1.0,\"#f0f921\"]],\"sequentialminus\":[[0.0,\"#0d0887\"],[0.1111111111111111,\"#46039f\"],[0.2222222222222222,\"#7201a8\"],[0.3333333333333333,\"#9c179e\"],[0.4444444444444444,\"#bd3786\"],[0.5555555555555556,\"#d8576b\"],[0.6666666666666666,\"#ed7953\"],[0.7777777777777778,\"#fb9f3a\"],[0.8888888888888888,\"#fdca26\"],[1.0,\"#f0f921\"]],\"diverging\":[[0,\"#8e0152\"],[0.1,\"#c51b7d\"],[0.2,\"#de77ae\"],[0.3,\"#f1b6da\"],[0.4,\"#fde0ef\"],[0.5,\"#f7f7f7\"],[0.6,\"#e6f5d0\"],[0.7,\"#b8e186\"],[0.8,\"#7fbc41\"],[0.9,\"#4d9221\"],[1,\"#276419\"]]},\"xaxis\":{\"gridcolor\":\"white\",\"linecolor\":\"white\",\"ticks\":\"\",\"title\":{\"standoff\":15},\"zerolinecolor\":\"white\",\"automargin\":true,\"zerolinewidth\":2},\"yaxis\":{\"gridcolor\":\"white\",\"linecolor\":\"white\",\"ticks\":\"\",\"title\":{\"standoff\":15},\"zerolinecolor\":\"white\",\"automargin\":true,\"zerolinewidth\":2},\"scene\":{\"xaxis\":{\"backgroundcolor\":\"#E5ECF6\",\"gridcolor\":\"white\",\"linecolor\":\"white\",\"showbackground\":true,\"ticks\":\"\",\"zerolinecolor\":\"white\",\"gridwidth\":2},\"yaxis\":{\"backgroundcolor\":\"#E5ECF6\",\"gridcolor\":\"white\",\"linecolor\":\"white\",\"showbackground\":true,\"ticks\":\"\",\"zerolinecolor\":\"white\",\"gridwidth\":2},\"zaxis\":{\"backgroundcolor\":\"#E5ECF6\",\"gridcolor\":\"white\",\"linecolor\":\"white\",\"showbackground\":true,\"ticks\":\"\",\"zerolinecolor\":\"white\",\"gridwidth\":2}},\"shapedefaults\":{\"line\":{\"color\":\"#2a3f5f\"}},\"annotationdefaults\":{\"arrowcolor\":\"#2a3f5f\",\"arrowhead\":0,\"arrowwidth\":1},\"geo\":{\"bgcolor\":\"white\",\"landcolor\":\"#E5ECF6\",\"subunitcolor\":\"white\",\"showland\":true,\"showlakes\":true,\"lakecolor\":\"white\"},\"title\":{\"x\":0.05},\"mapbox\":{\"style\":\"light\"}}},\"xaxis\":{\"anchor\":\"y\",\"domain\":[0.0,1.0],\"title\":{\"text\":\"z\"}},\"yaxis\":{\"anchor\":\"x\",\"domain\":[0.0,1.0],\"title\":{\"text\":\"y\"},\"scaleanchor\":\"x\",\"scaleratio\":1},\"legend\":{\"tracegroupgap\":0},\"margin\":{\"t\":60},\"width\":640,\"height\":480},                        {\"responsive\": true}                    )                };            </script>        </div></td></tr><tr><td style='text-align: left'><details><summary style='font-weight:bold'>Polygon</summary><table><tr><td style='text-align:left'>area</td><td>5.8962332506903015e-05</td></tr><tr><td style='text-align:left'>height</td><td>0.008700000000000006</td></tr><tr><td style='text-align:left'>perimeter</td><td>0.02724389430699921</td></tr><tr><td style='text-align:left'>width</td><td>0.008532481593459231</td></tr></table></details></td></tr></table></td></tr><tr><td style='text-align:left'>length</td><td>5208.739922328765</td></tr><tr><td style='text-align:left'>material</td><td><table style='margin:0'><tr><td>&#x27;BST500&#x27;</td></tr><tr><td>&#x27;steel&#x27;</td></tr></table></td></tr><tr><td style='text-align:left'>ring_temperatures</td><td>array([1564.03145157, 1561.14151648, 1552.47714682, 1538.03928781,\n",
       "       1517.78882721, 1491.71342657, 1460.18475728, 1424.7379923 ,\n",
       "       1389.0032269 , 1358.83558383, 1340.17996623])</td></tr><tr><td style='text-align:left'>strain</td><td>np.float64(0.5201991307214928)</td></tr><tr><td style='text-align:left'>surface_temperature</td><td>np.float64(1340.1799662253923)</td></tr><tr><td style='text-align:left'>t</td><td>np.float64(36.85417501903467)</td></tr><tr><td style='text-align:left'>temperature</td><td>np.float64(1423.722733478073)</td></tr><tr><td style='text-align:left'>weight</td><td>2400</td></tr><tr><td style='text-align:left'>width</td><td>np.float64(0.008532481593459231)</td></tr></table></details></td></tr></table>"
      ]
     },
     "execution_count": 9,
     "metadata": {},
     "output_type": "execute_result"
    }
   ],
   "execution_count": 9
  },
  {
   "metadata": {
    "ExecuteTime": {
     "end_time": "2025-06-16T19:56:46.700301Z",
     "start_time": "2025-06-16T19:56:46.695157Z"
    }
   },
   "cell_type": "code",
   "source": [
    "def solve_total_wear_depths_as_contour_line_with_constant(params):\n",
    "    sequences = [\n",
    "        {\n",
    "            \"label\": \"e11_2\",\n",
    "            \"sequence\": rolling_train_e112\n",
    "        },\n",
    "        {\n",
    "            \"label\": \"e10_7\",\n",
    "            \"sequence\": rolling_train_e107\n",
    "        }\n",
    "    ]\n",
    "\n",
    "    area_errors = []\n",
    "    wear_coefficient = params['wear_coefficient'].value\n",
    "\n",
    "    for entry in sequences:\n",
    "        groove_label = entry[\"label\"]\n",
    "        sequence = entry[\"sequence\"]\n",
    "        roll_passes = sequence.roll_passes\n",
    "        measurements = extract_wear_contours_from_measurement(groove_label)\n",
    "\n",
    "\n",
    "        for measurement_id, labels, tonnages, measured_wear_contours in measurements:\n",
    "            for roll_pass in roll_passes:\n",
    "                for label, tonnage, measured_wear_contour in zip(labels, tonnages, measured_wear_contours):\n",
    "                    if roll_pass.label == label:\n",
    "\n",
    "                        calculated_wear_contour = calculate_wear_contour(roll_pass, wear_coefficient, tonnage * 1000)\n",
    "                        area_error = calculate_area_between_contours(calculated_wear_contour, measured_wear_contour)\n",
    "                        area_errors.append(area_error)\n",
    "                    else:\n",
    "                        continue\n",
    "    rms_error = root_mean_square_value(np.array(area_errors))\n",
    "    return rms_error\n"
   ],
   "id": "22e82b3857c95d90",
   "outputs": [],
   "execution_count": 27
  },
  {
   "metadata": {
    "ExecuteTime": {
     "end_time": "2025-06-16T19:56:54.902541Z",
     "start_time": "2025-06-16T19:56:54.899668Z"
    }
   },
   "cell_type": "code",
   "source": [
    "def solve_total_wear_depths_as_contour_line_with_function(params):\n",
    "    sequences = [\n",
    "        {\n",
    "            \"label\": \"e11_2\",\n",
    "            \"sequence\": rolling_train_e112\n",
    "        },\n",
    "        {\n",
    "            \"label\": \"e10_7\",\n",
    "            \"sequence\": rolling_train_e107\n",
    "        }\n",
    "    ]\n",
    "\n",
    "    area_errors = []\n",
    "    base_wear_coefficient = params['base_wear_coefficient'].value\n",
    "    roll_gap_ratio_exponent = params['roll_gap_ratio_exponent'].value\n",
    "\n",
    "    for entry in sequences:\n",
    "        groove_label = entry[\"label\"]\n",
    "        sequence = entry[\"sequence\"]\n",
    "        roll_passes = sequence.roll_passes\n",
    "        measurements = extract_wear_contours_from_measurement(groove_label)\n",
    "\n",
    "\n",
    "        for measurement_id, labels, tonnages, measured_wear_contours in measurements:\n",
    "            for roll_pass in roll_passes:\n",
    "                for label, tonnage, measured_wear_contour in zip(labels, tonnages, measured_wear_contours):\n",
    "                    if roll_pass.label == label:\n",
    "\n",
    "                        calculated_wear_contour = calculate_wear_contour_as_function(roll_pass, base_wear_coefficient, roll_gap_ratio_exponent, tonnage * 1000)\n",
    "                        area_error = calculate_area_between_contours(calculated_wear_contour, measured_wear_contour)\n",
    "                        area_errors.append(area_error)\n",
    "                    else:\n",
    "                        continue\n",
    "    rms_error = root_mean_square_value(np.array(area_errors))\n",
    "    return rms_error\n"
   ],
   "id": "7016bd6d345e60ec",
   "outputs": [],
   "execution_count": 28
  },
  {
   "metadata": {
    "ExecuteTime": {
     "end_time": "2025-06-16T19:57:03.457813Z",
     "start_time": "2025-06-16T19:57:03.455118Z"
    }
   },
   "cell_type": "code",
   "source": [
    "params_constant_cobyla = Parameters()\n",
    "params_constant_cobyla.add('wear_coefficient', value=1e-6, min=1e-10, max=1e-3, vary=True)\n",
    "\n",
    "params_function_cobyla = Parameters()\n",
    "params_function_cobyla.add('base_wear_coefficient', value=1e-6, min=1e-10, max=1e-3, vary=True)\n",
    "params_function_cobyla.add('roll_gap_ratio_exponent', value=1e-6, min=1e-10, max=1e-3, vary=True)"
   ],
   "id": "6a0b6f2d8a3c457",
   "outputs": [],
   "execution_count": 29
  },
  {
   "metadata": {
    "ExecuteTime": {
     "end_time": "2025-06-16T19:57:59.216835Z",
     "start_time": "2025-06-16T19:57:34.995644Z"
    }
   },
   "cell_type": "code",
   "source": [
    "result_constant_cobyla = minimize(\n",
    "    solve_total_wear_depths_as_contour_line_with_constant,\n",
    "    params_constant_cobyla,\n",
    "    nan_policy='omit',\n",
    "    max_nfev=100,\n",
    "    method=\"cobyla\"\n",
    ")\n",
    "\n",
    "result_function_cobyla = minimize(\n",
    "    solve_total_wear_depths_as_contour_line_with_function,\n",
    "    params_function_cobyla,\n",
    "    nan_policy='omit',\n",
    "    max_nfev=100,\n",
    "    method=\"cobyla\"\n",
    ")\n",
    "\n",
    "\n",
    "result_constant_ls = minimize(\n",
    "    solve_total_wear_depths_as_contour_line_with_constant,\n",
    "    params_constant_cobyla,\n",
    "    nan_policy='omit',\n",
    "    max_nfev=100,\n",
    "    method=\"least_squares\"\n",
    ")\n",
    "\n",
    "result_function_ls = minimize(\n",
    "    solve_total_wear_depths_as_contour_line_with_function,\n",
    "    params_function_cobyla,\n",
    "    nan_policy='omit',\n",
    "    max_nfev=100,\n",
    "    method=\"least_squares\"\n",
    ")"
   ],
   "id": "ea78e32cea3cb9fc",
   "outputs": [],
   "execution_count": 30
  },
  {
   "metadata": {
    "ExecuteTime": {
     "end_time": "2025-06-16T20:00:37.117473Z",
     "start_time": "2025-06-16T20:00:37.114740Z"
    }
   },
   "cell_type": "code",
   "source": "print(fit_report(result_constant_cobyla))",
   "id": "7e9eb68026d8a668",
   "outputs": [
    {
     "name": "stdout",
     "output_type": "stream",
     "text": [
      "[[Fit Statistics]]\n",
      "    # fitting method   = COBYLA\n",
      "    # function evals   = 20\n",
      "    # data points      = 1\n",
      "    # variables        = 1\n",
      "    chi-square         = 3.8732e-10\n",
      "    reduced chi-square = 3.8732e-10\n",
      "    Akaike info crit   = -19.6717722\n",
      "    Bayesian info crit = -21.6717722\n",
      "##  Warning: uncertainties could not be estimated:\n",
      "    this fitting method does not natively calculate uncertainties\n",
      "    and numdifftools is not installed for lmfit to do this. Use\n",
      "    `pip install numdifftools` for lmfit to estimate uncertainties\n",
      "    with this fitting method.\n",
      "[[Variables]]\n",
      "    wear_coefficient:  3.2702e-10 (init = 1e-06)\n"
     ]
    }
   ],
   "execution_count": 31
  },
  {
   "metadata": {
    "ExecuteTime": {
     "end_time": "2025-06-16T20:00:45.887580Z",
     "start_time": "2025-06-16T20:00:45.885544Z"
    }
   },
   "cell_type": "code",
   "source": "print(fit_report(result_function_cobyla))",
   "id": "2d626f9fa45bfbba",
   "outputs": [
    {
     "name": "stdout",
     "output_type": "stream",
     "text": [
      "[[Fit Statistics]]\n",
      "    # fitting method   = COBYLA\n",
      "    # function evals   = 29\n",
      "    # data points      = 1\n",
      "    # variables        = 2\n",
      "    chi-square         = 3.8732e-10\n",
      "    reduced chi-square = 3.8732e-10\n",
      "    Akaike info crit   = -17.6717780\n",
      "    Bayesian info crit = -21.6717780\n",
      "##  Warning: uncertainties could not be estimated:\n",
      "    this fitting method does not natively calculate uncertainties\n",
      "    and numdifftools is not installed for lmfit to do this. Use\n",
      "    `pip install numdifftools` for lmfit to estimate uncertainties\n",
      "    with this fitting method.\n",
      "[[Variables]]\n",
      "    base_wear_coefficient:    3.2691e-10 (init = 1e-06)\n",
      "    roll_gap_ratio_exponent:  8.2077e-07 (init = 1e-06)\n"
     ]
    }
   ],
   "execution_count": 32
  },
  {
   "metadata": {
    "ExecuteTime": {
     "end_time": "2025-06-16T20:01:25.723356Z",
     "start_time": "2025-06-16T20:01:25.721320Z"
    }
   },
   "cell_type": "code",
   "source": "print(fit_report(result_constant_ls))",
   "id": "5d53ef2569b58f62",
   "outputs": [
    {
     "name": "stdout",
     "output_type": "stream",
     "text": [
      "[[Fit Statistics]]\n",
      "    # fitting method   = least_squares\n",
      "    # function evals   = 18\n",
      "    # data points      = 1\n",
      "    # variables        = 1\n",
      "    chi-square         = 4.2846e-09\n",
      "    reduced chi-square = 4.2846e-09\n",
      "    Akaike info crit   = -17.2682316\n",
      "    Bayesian info crit = -19.2682316\n",
      "[[Variables]]\n",
      "    wear_coefficient:  4.0879e-09 +/- 3.9969e-09 (97.77%) (init = 1e-06)\n"
     ]
    }
   ],
   "execution_count": 33
  },
  {
   "metadata": {
    "ExecuteTime": {
     "end_time": "2025-06-16T20:07:09.374452Z",
     "start_time": "2025-06-16T20:07:09.271860Z"
    }
   },
   "cell_type": "code",
   "source": "print(fit_report(result_function_ls))",
   "id": "8f6fdc43cf5e4867",
   "outputs": [
    {
     "ename": "NameError",
     "evalue": "name 'fit_report' is not defined",
     "output_type": "error",
     "traceback": [
      "\u001B[31m---------------------------------------------------------------------------\u001B[39m",
      "\u001B[31mNameError\u001B[39m                                 Traceback (most recent call last)",
      "\u001B[36mCell\u001B[39m\u001B[36m \u001B[39m\u001B[32mIn[1]\u001B[39m\u001B[32m, line 1\u001B[39m\n\u001B[32m----> \u001B[39m\u001B[32m1\u001B[39m \u001B[38;5;28mprint\u001B[39m(\u001B[43mfit_report\u001B[49m(result_function_ls))\n",
      "\u001B[31mNameError\u001B[39m: name 'fit_report' is not defined"
     ]
    }
   ],
   "execution_count": 1
  },
  {
   "metadata": {},
   "cell_type": "code",
   "outputs": [],
   "execution_count": null,
   "source": "",
   "id": "4ad57f23ae5ff76d"
  }
 ],
 "metadata": {
  "jupytext": {
   "formats": "ipynb,md"
  },
  "kernelspec": {
   "display_name": "Python 3 (ipykernel)",
   "language": "python",
   "name": "python3"
  },
  "language_info": {
   "codemirror_mode": {
    "name": "ipython",
    "version": 3
   },
   "file_extension": ".py",
   "mimetype": "text/x-python",
   "name": "python",
   "nbconvert_exporter": "python",
   "pygments_lexer": "ipython3",
   "version": "3.12.7"
  }
 },
 "nbformat": 4,
 "nbformat_minor": 5
}
