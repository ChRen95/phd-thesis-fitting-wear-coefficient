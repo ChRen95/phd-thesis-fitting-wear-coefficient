{
 "cells": [
  {
   "metadata": {
    "ExecuteTime": {
     "end_time": "2025-06-10T10:25:44.540976Z",
     "start_time": "2025-06-10T10:25:43.608748Z"
    }
   },
   "cell_type": "code",
   "source": [
    "from lmfit import minimize\n",
    "from lmfit import Parameters"
   ],
   "id": "23a9b33121736c1b",
   "outputs": [],
   "execution_count": 1
  },
  {
   "metadata": {
    "ExecuteTime": {
     "end_time": "2025-06-10T10:25:44.902333Z",
     "start_time": "2025-06-10T10:25:44.648813Z"
    }
   },
   "cell_type": "code",
   "source": [
    "import pyroll.core as pr\n",
    "import pyroll.pillar_model\n",
    "import pyroll.neutral_point_estimator\n",
    "import pyroll.sparling_spreading\n",
    "import pyroll.hensel_force_torque\n",
    "import pyroll.freiberg_flow_stress\n",
    "import pyroll.ring_model_thermal"
   ],
   "id": "c2430fe7953713d9",
   "outputs": [],
   "execution_count": 2
  },
  {
   "metadata": {
    "ExecuteTime": {
     "end_time": "2025-06-10T10:25:44.938235Z",
     "start_time": "2025-06-10T10:25:44.917356Z"
    }
   },
   "cell_type": "code",
   "source": [
    "from in_profile import create_in_profile_from_surface_temperature\n",
    "from rolling_sequence import roughing_sequence, intermediate_sequence, finishing_sequence_e112, finishing_sequence_e107\n",
    "from utilities import *"
   ],
   "id": "d8df741abd82231b",
   "outputs": [],
   "execution_count": 3
  },
  {
   "metadata": {
    "ExecuteTime": {
     "end_time": "2025-06-10T10:25:44.972889Z",
     "start_time": "2025-06-10T10:25:44.970444Z"
    }
   },
   "cell_type": "code",
   "source": [
    "pyroll.pillar_model.Config.PILLAR_COUNT = 30\n",
    "pyroll.neutral_point_estimator.Config.ESTIMATOR = \"EQUAL\"\n",
    "ROLL_SURFACE_TEMPERATURE = 50 + 273.15\n",
    "DISK_ELEMENT_COUNT = 30"
   ],
   "id": "882e05f0ff0e3b05",
   "outputs": [],
   "execution_count": 4
  },
  {
   "metadata": {
    "ExecuteTime": {
     "end_time": "2025-06-10T10:25:45.026580Z",
     "start_time": "2025-06-10T10:25:45.023887Z"
    }
   },
   "cell_type": "code",
   "source": [
    "@pr.CoolingPipe.DiskElement.heat_transfer_coefficient\n",
    "def heat_transfer_coefficient_model_moreales(self: pr.CoolingPipe.DiskElement):\n",
    "    mean_surface_temperature = (self.in_profile.surface_temperature + self.out_profile.surface_temperature) / 2\n",
    "    profile_surface_temperature_celsius = mean_surface_temperature - 273.15\n",
    "    return 13950 + 5.12 * 1e6 / profile_surface_temperature_celsius"
   ],
   "id": "bec0683651946559",
   "outputs": [],
   "execution_count": 5
  },
  {
   "metadata": {
    "ExecuteTime": {
     "end_time": "2025-06-10T10:25:45.146803Z",
     "start_time": "2025-06-10T10:25:45.137673Z"
    }
   },
   "cell_type": "code",
   "source": [
    "in_profile = create_in_profile_from_surface_temperature(1050 + 273.15)\n",
    "in_profile.ring_temperatures = in_profile.ring_temperatures"
   ],
   "id": "ac729b2907c199de",
   "outputs": [],
   "execution_count": 6
  },
  {
   "metadata": {
    "ExecuteTime": {
     "end_time": "2025-06-10T10:25:45.249502Z",
     "start_time": "2025-06-10T10:25:45.236566Z"
    }
   },
   "cell_type": "code",
   "source": [
    "roughing_train = roughing_sequence(\n",
    "    roll_surface_temperature=ROLL_SURFACE_TEMPERATURE,\n",
    "    disk_element_count=DISK_ELEMENT_COUNT\n",
    ")\n",
    "\n",
    "intermediate_train = intermediate_sequence(\n",
    "    roll_surface_temperature=ROLL_SURFACE_TEMPERATURE,\n",
    "    disk_element_count=DISK_ELEMENT_COUNT\n",
    ")\n",
    "\n",
    "finishing_train_e112 = finishing_sequence_e112(\n",
    "    roll_surface_temperature=ROLL_SURFACE_TEMPERATURE,\n",
    "    disk_element_count=DISK_ELEMENT_COUNT\n",
    ")\n",
    "\n",
    "finishing_train_e107 = finishing_sequence_e107(\n",
    "    roll_surface_temperature=ROLL_SURFACE_TEMPERATURE,\n",
    "    disk_element_count=DISK_ELEMENT_COUNT\n",
    ")\n"
   ],
   "id": "24f67340b6ffc923",
   "outputs": [],
   "execution_count": 7
  },
  {
   "metadata": {
    "ExecuteTime": {
     "end_time": "2025-06-10T10:25:45.316876Z",
     "start_time": "2025-06-10T10:25:45.314742Z"
    }
   },
   "cell_type": "code",
   "source": [
    "rolling_train_e112 = pr.PassSequence([\n",
    "    roughing_train,\n",
    "    intermediate_train,\n",
    "    finishing_train_e112\n",
    "])\n",
    "\n",
    "rolling_train_e107 = pr.PassSequence([\n",
    "    roughing_train,\n",
    "    intermediate_train,\n",
    "    finishing_train_e107\n",
    "])"
   ],
   "id": "fe09575a3ae4613a",
   "outputs": [],
   "execution_count": 8
  },
  {
   "metadata": {
    "ExecuteTime": {
     "end_time": "2025-06-10T10:25:45.431066Z",
     "start_time": "2025-06-10T10:25:45.429143Z"
    }
   },
   "cell_type": "code",
   "source": [
    "rolling_train_e112.flatten()\n",
    "rolling_train_e107.flatten()"
   ],
   "id": "a4fdfb87ca0cf6b6",
   "outputs": [],
   "execution_count": 9
  },
  {
   "metadata": {
    "ExecuteTime": {
     "end_time": "2025-06-10T10:44:45.031823Z",
     "start_time": "2025-06-10T10:25:45.547321Z"
    }
   },
   "cell_type": "code",
   "source": "rolling_train_e112.solve(in_profile)",
   "id": "8a7d60a04ab6af07",
   "outputs": [
    {
     "name": "stderr",
     "output_type": "stream",
     "text": [
      "Solution iteration of TwoRollPass '3' exceeded the maximum iteration count of 100. Continuing anyway.\n",
      "Solution iteration of TwoRollPass '7' exceeded the maximum iteration count of 100. Continuing anyway.\n",
      "Solution iteration of TwoRollPass '8' exceeded the maximum iteration count of 100. Continuing anyway.\n",
      "Solution iteration of TwoRollPass '14' exceeded the maximum iteration count of 100. Continuing anyway.\n",
      "Solution iteration of TwoRollPass '18-V' exceeded the maximum iteration count of 100. Continuing anyway.\n",
      "Solution iteration of TwoRollPass '23-H' exceeded the maximum iteration count of 100. Continuing anyway.\n",
      "Solution iteration of TwoRollPass '18-V' exceeded the maximum iteration count of 100. Continuing anyway.\n"
     ]
    },
    {
     "data": {
      "text/plain": [
       "Profile(\n",
       "    classifiers={'false_round', 'generic_elongation', 'round', 'symmetric'},\n",
       "    core_temperature=np.float64(1570.0591539343975),\n",
       "    cross_section=Polygon(\n",
       "        area=5.939031536528555e-05,\n",
       "        height=0.008700000000000006,\n",
       "        perimeter=0.02736933246437044,\n",
       "        width=0.008768227336460354,\n",
       "        ),\n",
       "    length=5171.222724142025,\n",
       "    material=['BST500', 'steel'],\n",
       "    ring_temperatures=array([1570.05915393, 1567.12701904, 1558.34092613, 1543.71864333,\n",
       "           1523.23735286, 1496.84675482, 1464.74408402, 1428.15944014,\n",
       "           1390.54359123, 1358.13149   , 1337.87659106]),\n",
       "    strain=np.float64(0.5607017311212023),\n",
       "    surface_temperature=np.float64(1337.8765910557204),\n",
       "    t=np.float64(36.875179665279155),\n",
       "    temperature=np.float64(1425.8613020468922),\n",
       "    weight=2400,\n",
       "    width=np.float64(0.008768227336460354),\n",
       "    )"
      ],
      "text/html": [
       "<table><tr><td style='text-align: center'><div>                        <script type=\"text/javascript\">window.PlotlyConfig = {MathJaxConfig: 'local'};</script>\n",
       "        <script charset=\"utf-8\" src=\"https://cdn.plot.ly/plotly-3.0.1.min.js\"></script>                <div id=\"2d439fdb-0be3-40b7-bf78-39e8de348f84\" class=\"plotly-graph-div\" style=\"height:480px; width:640px;\"></div>            <script type=\"text/javascript\">                window.PLOTLYENV=window.PLOTLYENV || {};                                if (document.getElementById(\"2d439fdb-0be3-40b7-bf78-39e8de348f84\")) {                    Plotly.newPlot(                        \"2d439fdb-0be3-40b7-bf78-39e8de348f84\",                        [{\"hovertemplate\":\"z=%{x}\\u003cbr\\u003ey=%{y}\\u003cextra\\u003e\\u003c\\u002fextra\\u003e\",\"legendgroup\":\"\",\"line\":{\"color\":\"#636efa\",\"dash\":\"solid\"},\"marker\":{\"symbol\":\"circle\"},\"mode\":\"lines\",\"name\":\"\",\"orientation\":\"v\",\"showlegend\":false,\"x\":{\"dtype\":\"f8\",\"bdata\":\"AAAAAAAAAACMjqj+VqEjP9RH6NoZojM\\u002f14BXQNl2PT\\u002fMMTVk9qhDP3vlnwR3m0g\\u002ftCzUjKKUTT8CSBVRCEtRPwtbc0Lw0FM\\u002fAl+4qUFdVj8N4ecnMexYP3bvtpk1d1s\\u002faaLre5T8XT\\u002f0lDYZbD5gP\\u002fixVuT+e2E\\u002fOc0lCAq3Yj\\u002f1mM561+9jP7g4LtilJmU\\u002fcHt36GBbZj82cTiSHo5nP7bPn4Mqv2g\\u002fGjeze6LuaT9e2mnHpRxrPxyJIa2aSWw\\u002ffFyTsd11bT\\u002fqD0Adp6FuPyjg\\u002fy34zm8\\u002fcrUv+iyBcD9tvqk3MiNxPz8bOjIttnE\\u002fU187jRP1cT8\\u002fGzoyLbZxP22+qTcyI3E\\u002fcrUv+iyBcD8o4P8t+M5vP+oPQB2noW4\\u002ffFyTsd11bT8ciSGtmklsP17aacelHGs\\u002fGjeze6LuaT+2z5+DKr9oPzZxOJIejmc\\u002fcHt36GBbZj+4OC7YpSZlP\\u002fWYznrX72M\\u002fOc0lCAq3Yj\\u002f4sVbk\\u002fnthP\\u002fSUNhlsPmA\\u002faaLre5T8XT9277aZNXdbPw3h5ycx7Fg\\u002fAl+4qUFdVj8LW3NC8NBTPwJIFVEIS1E\\u002ftCzUjKKUTT975Z8Ed5tIP8wxNWT2qEM\\u002f14BXQNl2PT\\u002fUR+jaGaIzP4yOqP5WoSM\\u002fAAAAAAAAAACMjqj+VqEjv9RH6NoZojO\\u002f14BXQNl2Pb\\u002fMMTVk9qhDv3vlnwR3m0i\\u002ftCzUjKKUTb8CSBVRCEtRvwtbc0Lw0FO\\u002fAl+4qUFdVr8N4ecnMexYv3bvtpk1d1u\\u002faaLre5T8Xb\\u002f0lDYZbD5gv\\u002fixVuT+e2G\\u002fOc0lCAq3Yr\\u002f1mM561+9jv7g4LtilJmW\\u002fcHt36GBbZr82cTiSHo5nv7bPn4Mqv2i\\u002fGjeze6Luab9e2mnHpRxrvxyJIa2aSWy\\u002ffFyTsd11bb\\u002fqD0Adp6Fuvyjg\\u002fy34zm+\\u002fcrUv+iyBcL9tvqk3MiNxvz8bOjIttnG\\u002fU187jRP1cb8\\u002fGzoyLbZxv22+qTcyI3G\\u002fcrUv+iyBcL8o4P8t+M5vv+oPQB2noW6\\u002ffFyTsd11bb8ciSGtmklsv17aacelHGu\\u002fGjeze6Luab+2z5+DKr9ovzZxOJIejme\\u002fcHt36GBbZr+4OC7YpSZlv\\u002fWYznrX72O\\u002fOc0lCAq3Yr\\u002f4sVbk\\u002fnthv\\u002fSUNhlsPmC\\u002faaLre5T8Xb9277aZNXdbvw3h5ycx7Fi\\u002fAl+4qUFdVr8LW3NC8NBTvwJIFVEIS1G\\u002ftCzUjKKUTb975Z8Ed5tIv8wxNWT2qEO\\u002f14BXQNl2Pb\\u002fUR+jaGaIzv4yOqP5WoSO\\u002fAAAAAAAAAAA=\"},\"xaxis\":\"x\",\"y\":{\"dtype\":\"f8\",\"bdata\":\"rDXNO07RcT9N5YDYgs1xP8tq7qMdxXE\\u002fzmcmjRO4cT9UYPTx46RxP08nIeMpi3E\\u002f7sG6kU5scT\\u002f1cjxQFUhxP6UW4rKTG3E\\u002fJIQ\\u002f3UDocD9O9TuznK5wP4LkG9Ueb3A\\u002fywGk7nMmcD\\u002ffVNxAua5vP0IkZKMlBG8\\u002f6Wq\\u002fPK9Kbj8b0RHcRnxtP\\u002foxu4f3nmw\\u002f6wYxSLyyaz\\u002ftte+au6pqPy78MbN4jGk\\u002fFZyMnntZaD+OZcLI+gNnP5HTcZq4hGU\\u002fYo5QiufgYz\\u002fyI3GmIAViP\\u002f75SwFMfl8\\u002fxCeeGHTiWT9tCi0B8phSP4a7OFEGjUw\\u002fAAAAAAAAAACGuzhRBo1Mv20KLQHymFK\\u002fxCeeGHTiWb\\u002f++UsBTH5fv\\u002fIjcaYgBWK\\u002fYo5QiufgY7+R03GauIRlv45lwsj6A2e\\u002fFZyMnntZaL8u\\u002fDGzeIxpv+2175q7qmq\\u002f6wYxSLyya7\\u002f6MbuH955svxvREdxGfG2\\u002f6Wq\\u002fPK9Kbr9CJGSjJQRvv99U3EC5rm+\\u002fywGk7nMmcL+C5BvVHm9wv071O7OcrnC\\u002fJIQ\\u002f3UDocL+lFuKykxtxv\\u002fVyPFAVSHG\\u002f7sG6kU5scb9PJyHjKYtxv1Rg9PHjpHG\\u002fzmcmjRO4cb\\u002fLau6jHcVxv03lgNiCzXG\\u002frDXNO07Rcb9N5YDYgs1xv8tq7qMdxXG\\u002fzmcmjRO4cb9UYPTx46Rxv08nIeMpi3G\\u002f7sG6kU5scb\\u002f1cjxQFUhxv6UW4rKTG3G\\u002fJIQ\\u002f3UDocL9O9TuznK5wv4LkG9Ueb3C\\u002fywGk7nMmcL\\u002ffVNxAua5vv0IkZKMlBG+\\u002f6Wq\\u002fPK9Kbr8b0RHcRnxtv\\u002foxu4f3nmy\\u002f6wYxSLyya7\\u002ftte+au6pqvy78MbN4jGm\\u002fFZyMnntZaL+OZcLI+gNnv5HTcZq4hGW\\u002fYo5QiufgY7\\u002fyI3GmIAViv\\u002f75SwFMfl+\\u002fxCeeGHTiWb9tCi0B8phSv4a7OFEGjUy\\u002fAAAAAAAAAACGuzhRBo1MP20KLQHymFI\\u002fxCeeGHTiWT\\u002f++UsBTH5fP\\u002fIjcaYgBWI\\u002fYo5QiufgYz+R03GauIRlP45lwsj6A2c\\u002fFZyMnntZaD8u\\u002fDGzeIxpP+2175q7qmo\\u002f6wYxSLyyaz\\u002f6MbuH955sPxvREdxGfG0\\u002f6Wq\\u002fPK9Kbj9CJGSjJQRvP99U3EC5rm8\\u002fywGk7nMmcD+C5BvVHm9wP071O7OcrnA\\u002fJIQ\\u002f3UDocD+lFuKykxtxP\\u002fVyPFAVSHE\\u002f7sG6kU5scT9PJyHjKYtxP1Rg9PHjpHE\\u002fzmcmjRO4cT\\u002fLau6jHcVxP03lgNiCzXE\\u002frDXNO07RcT8=\"},\"yaxis\":\"y\",\"type\":\"scatter\",\"fill\":\"toself\"}],                        {\"template\":{\"data\":{\"histogram2dcontour\":[{\"type\":\"histogram2dcontour\",\"colorbar\":{\"outlinewidth\":0,\"ticks\":\"\"},\"colorscale\":[[0.0,\"#0d0887\"],[0.1111111111111111,\"#46039f\"],[0.2222222222222222,\"#7201a8\"],[0.3333333333333333,\"#9c179e\"],[0.4444444444444444,\"#bd3786\"],[0.5555555555555556,\"#d8576b\"],[0.6666666666666666,\"#ed7953\"],[0.7777777777777778,\"#fb9f3a\"],[0.8888888888888888,\"#fdca26\"],[1.0,\"#f0f921\"]]}],\"choropleth\":[{\"type\":\"choropleth\",\"colorbar\":{\"outlinewidth\":0,\"ticks\":\"\"}}],\"histogram2d\":[{\"type\":\"histogram2d\",\"colorbar\":{\"outlinewidth\":0,\"ticks\":\"\"},\"colorscale\":[[0.0,\"#0d0887\"],[0.1111111111111111,\"#46039f\"],[0.2222222222222222,\"#7201a8\"],[0.3333333333333333,\"#9c179e\"],[0.4444444444444444,\"#bd3786\"],[0.5555555555555556,\"#d8576b\"],[0.6666666666666666,\"#ed7953\"],[0.7777777777777778,\"#fb9f3a\"],[0.8888888888888888,\"#fdca26\"],[1.0,\"#f0f921\"]]}],\"heatmap\":[{\"type\":\"heatmap\",\"colorbar\":{\"outlinewidth\":0,\"ticks\":\"\"},\"colorscale\":[[0.0,\"#0d0887\"],[0.1111111111111111,\"#46039f\"],[0.2222222222222222,\"#7201a8\"],[0.3333333333333333,\"#9c179e\"],[0.4444444444444444,\"#bd3786\"],[0.5555555555555556,\"#d8576b\"],[0.6666666666666666,\"#ed7953\"],[0.7777777777777778,\"#fb9f3a\"],[0.8888888888888888,\"#fdca26\"],[1.0,\"#f0f921\"]]}],\"contourcarpet\":[{\"type\":\"contourcarpet\",\"colorbar\":{\"outlinewidth\":0,\"ticks\":\"\"}}],\"contour\":[{\"type\":\"contour\",\"colorbar\":{\"outlinewidth\":0,\"ticks\":\"\"},\"colorscale\":[[0.0,\"#0d0887\"],[0.1111111111111111,\"#46039f\"],[0.2222222222222222,\"#7201a8\"],[0.3333333333333333,\"#9c179e\"],[0.4444444444444444,\"#bd3786\"],[0.5555555555555556,\"#d8576b\"],[0.6666666666666666,\"#ed7953\"],[0.7777777777777778,\"#fb9f3a\"],[0.8888888888888888,\"#fdca26\"],[1.0,\"#f0f921\"]]}],\"surface\":[{\"type\":\"surface\",\"colorbar\":{\"outlinewidth\":0,\"ticks\":\"\"},\"colorscale\":[[0.0,\"#0d0887\"],[0.1111111111111111,\"#46039f\"],[0.2222222222222222,\"#7201a8\"],[0.3333333333333333,\"#9c179e\"],[0.4444444444444444,\"#bd3786\"],[0.5555555555555556,\"#d8576b\"],[0.6666666666666666,\"#ed7953\"],[0.7777777777777778,\"#fb9f3a\"],[0.8888888888888888,\"#fdca26\"],[1.0,\"#f0f921\"]]}],\"mesh3d\":[{\"type\":\"mesh3d\",\"colorbar\":{\"outlinewidth\":0,\"ticks\":\"\"}}],\"scatter\":[{\"fillpattern\":{\"fillmode\":\"overlay\",\"size\":10,\"solidity\":0.2},\"type\":\"scatter\"}],\"parcoords\":[{\"type\":\"parcoords\",\"line\":{\"colorbar\":{\"outlinewidth\":0,\"ticks\":\"\"}}}],\"scatterpolargl\":[{\"type\":\"scatterpolargl\",\"marker\":{\"colorbar\":{\"outlinewidth\":0,\"ticks\":\"\"}}}],\"bar\":[{\"error_x\":{\"color\":\"#2a3f5f\"},\"error_y\":{\"color\":\"#2a3f5f\"},\"marker\":{\"line\":{\"color\":\"#E5ECF6\",\"width\":0.5},\"pattern\":{\"fillmode\":\"overlay\",\"size\":10,\"solidity\":0.2}},\"type\":\"bar\"}],\"scattergeo\":[{\"type\":\"scattergeo\",\"marker\":{\"colorbar\":{\"outlinewidth\":0,\"ticks\":\"\"}}}],\"scatterpolar\":[{\"type\":\"scatterpolar\",\"marker\":{\"colorbar\":{\"outlinewidth\":0,\"ticks\":\"\"}}}],\"histogram\":[{\"marker\":{\"pattern\":{\"fillmode\":\"overlay\",\"size\":10,\"solidity\":0.2}},\"type\":\"histogram\"}],\"scattergl\":[{\"type\":\"scattergl\",\"marker\":{\"colorbar\":{\"outlinewidth\":0,\"ticks\":\"\"}}}],\"scatter3d\":[{\"type\":\"scatter3d\",\"line\":{\"colorbar\":{\"outlinewidth\":0,\"ticks\":\"\"}},\"marker\":{\"colorbar\":{\"outlinewidth\":0,\"ticks\":\"\"}}}],\"scattermap\":[{\"type\":\"scattermap\",\"marker\":{\"colorbar\":{\"outlinewidth\":0,\"ticks\":\"\"}}}],\"scattermapbox\":[{\"type\":\"scattermapbox\",\"marker\":{\"colorbar\":{\"outlinewidth\":0,\"ticks\":\"\"}}}],\"scatterternary\":[{\"type\":\"scatterternary\",\"marker\":{\"colorbar\":{\"outlinewidth\":0,\"ticks\":\"\"}}}],\"scattercarpet\":[{\"type\":\"scattercarpet\",\"marker\":{\"colorbar\":{\"outlinewidth\":0,\"ticks\":\"\"}}}],\"carpet\":[{\"aaxis\":{\"endlinecolor\":\"#2a3f5f\",\"gridcolor\":\"white\",\"linecolor\":\"white\",\"minorgridcolor\":\"white\",\"startlinecolor\":\"#2a3f5f\"},\"baxis\":{\"endlinecolor\":\"#2a3f5f\",\"gridcolor\":\"white\",\"linecolor\":\"white\",\"minorgridcolor\":\"white\",\"startlinecolor\":\"#2a3f5f\"},\"type\":\"carpet\"}],\"table\":[{\"cells\":{\"fill\":{\"color\":\"#EBF0F8\"},\"line\":{\"color\":\"white\"}},\"header\":{\"fill\":{\"color\":\"#C8D4E3\"},\"line\":{\"color\":\"white\"}},\"type\":\"table\"}],\"barpolar\":[{\"marker\":{\"line\":{\"color\":\"#E5ECF6\",\"width\":0.5},\"pattern\":{\"fillmode\":\"overlay\",\"size\":10,\"solidity\":0.2}},\"type\":\"barpolar\"}],\"pie\":[{\"automargin\":true,\"type\":\"pie\"}]},\"layout\":{\"autotypenumbers\":\"strict\",\"colorway\":[\"#636efa\",\"#EF553B\",\"#00cc96\",\"#ab63fa\",\"#FFA15A\",\"#19d3f3\",\"#FF6692\",\"#B6E880\",\"#FF97FF\",\"#FECB52\"],\"font\":{\"color\":\"#2a3f5f\"},\"hovermode\":\"closest\",\"hoverlabel\":{\"align\":\"left\"},\"paper_bgcolor\":\"white\",\"plot_bgcolor\":\"#E5ECF6\",\"polar\":{\"bgcolor\":\"#E5ECF6\",\"angularaxis\":{\"gridcolor\":\"white\",\"linecolor\":\"white\",\"ticks\":\"\"},\"radialaxis\":{\"gridcolor\":\"white\",\"linecolor\":\"white\",\"ticks\":\"\"}},\"ternary\":{\"bgcolor\":\"#E5ECF6\",\"aaxis\":{\"gridcolor\":\"white\",\"linecolor\":\"white\",\"ticks\":\"\"},\"baxis\":{\"gridcolor\":\"white\",\"linecolor\":\"white\",\"ticks\":\"\"},\"caxis\":{\"gridcolor\":\"white\",\"linecolor\":\"white\",\"ticks\":\"\"}},\"coloraxis\":{\"colorbar\":{\"outlinewidth\":0,\"ticks\":\"\"}},\"colorscale\":{\"sequential\":[[0.0,\"#0d0887\"],[0.1111111111111111,\"#46039f\"],[0.2222222222222222,\"#7201a8\"],[0.3333333333333333,\"#9c179e\"],[0.4444444444444444,\"#bd3786\"],[0.5555555555555556,\"#d8576b\"],[0.6666666666666666,\"#ed7953\"],[0.7777777777777778,\"#fb9f3a\"],[0.8888888888888888,\"#fdca26\"],[1.0,\"#f0f921\"]],\"sequentialminus\":[[0.0,\"#0d0887\"],[0.1111111111111111,\"#46039f\"],[0.2222222222222222,\"#7201a8\"],[0.3333333333333333,\"#9c179e\"],[0.4444444444444444,\"#bd3786\"],[0.5555555555555556,\"#d8576b\"],[0.6666666666666666,\"#ed7953\"],[0.7777777777777778,\"#fb9f3a\"],[0.8888888888888888,\"#fdca26\"],[1.0,\"#f0f921\"]],\"diverging\":[[0,\"#8e0152\"],[0.1,\"#c51b7d\"],[0.2,\"#de77ae\"],[0.3,\"#f1b6da\"],[0.4,\"#fde0ef\"],[0.5,\"#f7f7f7\"],[0.6,\"#e6f5d0\"],[0.7,\"#b8e186\"],[0.8,\"#7fbc41\"],[0.9,\"#4d9221\"],[1,\"#276419\"]]},\"xaxis\":{\"gridcolor\":\"white\",\"linecolor\":\"white\",\"ticks\":\"\",\"title\":{\"standoff\":15},\"zerolinecolor\":\"white\",\"automargin\":true,\"zerolinewidth\":2},\"yaxis\":{\"gridcolor\":\"white\",\"linecolor\":\"white\",\"ticks\":\"\",\"title\":{\"standoff\":15},\"zerolinecolor\":\"white\",\"automargin\":true,\"zerolinewidth\":2},\"scene\":{\"xaxis\":{\"backgroundcolor\":\"#E5ECF6\",\"gridcolor\":\"white\",\"linecolor\":\"white\",\"showbackground\":true,\"ticks\":\"\",\"zerolinecolor\":\"white\",\"gridwidth\":2},\"yaxis\":{\"backgroundcolor\":\"#E5ECF6\",\"gridcolor\":\"white\",\"linecolor\":\"white\",\"showbackground\":true,\"ticks\":\"\",\"zerolinecolor\":\"white\",\"gridwidth\":2},\"zaxis\":{\"backgroundcolor\":\"#E5ECF6\",\"gridcolor\":\"white\",\"linecolor\":\"white\",\"showbackground\":true,\"ticks\":\"\",\"zerolinecolor\":\"white\",\"gridwidth\":2}},\"shapedefaults\":{\"line\":{\"color\":\"#2a3f5f\"}},\"annotationdefaults\":{\"arrowcolor\":\"#2a3f5f\",\"arrowhead\":0,\"arrowwidth\":1},\"geo\":{\"bgcolor\":\"white\",\"landcolor\":\"#E5ECF6\",\"subunitcolor\":\"white\",\"showland\":true,\"showlakes\":true,\"lakecolor\":\"white\"},\"title\":{\"x\":0.05},\"mapbox\":{\"style\":\"light\"}}},\"xaxis\":{\"anchor\":\"y\",\"domain\":[0.0,1.0],\"title\":{\"text\":\"z\"}},\"yaxis\":{\"anchor\":\"x\",\"domain\":[0.0,1.0],\"title\":{\"text\":\"y\"},\"scaleanchor\":\"x\",\"scaleratio\":1},\"legend\":{\"tracegroupgap\":0},\"margin\":{\"t\":60},\"width\":640,\"height\":480},                        {\"responsive\": true}                    )                };            </script>        </div></td></tr><tr><td style='text-align: left'><details><summary style='font-weight:bold'>Profile</summary><table><tr><td style='text-align:left'>classifiers</td><td><table style='margin:0'><tr><td>&#x27;symmetric&#x27;</td></tr><tr><td>&#x27;false_round&#x27;</td></tr><tr><td>&#x27;round&#x27;</td></tr><tr><td>&#x27;generic_elongation&#x27;</td></tr></table></td></tr><tr><td style='text-align:left'>core_temperature</td><td>np.float64(1570.0591539343975)</td></tr><tr><td style='text-align:left'>cross_section</td><td><table><tr><td style='text-align: center'><div>                        <script type=\"text/javascript\">window.PlotlyConfig = {MathJaxConfig: 'local'};</script>\n",
       "        <script charset=\"utf-8\" src=\"https://cdn.plot.ly/plotly-3.0.1.min.js\"></script>                <div id=\"f9701f42-a556-445f-99e0-3098644abc46\" class=\"plotly-graph-div\" style=\"height:480px; width:640px;\"></div>            <script type=\"text/javascript\">                window.PLOTLYENV=window.PLOTLYENV || {};                                if (document.getElementById(\"f9701f42-a556-445f-99e0-3098644abc46\")) {                    Plotly.newPlot(                        \"f9701f42-a556-445f-99e0-3098644abc46\",                        [{\"hovertemplate\":\"z=%{x}\\u003cbr\\u003ey=%{y}\\u003cextra\\u003e\\u003c\\u002fextra\\u003e\",\"legendgroup\":\"\",\"line\":{\"color\":\"#636efa\",\"dash\":\"solid\"},\"marker\":{\"symbol\":\"circle\"},\"mode\":\"lines\",\"name\":\"\",\"orientation\":\"v\",\"showlegend\":false,\"x\":{\"dtype\":\"f8\",\"bdata\":\"AAAAAAAAAACMjqj+VqEjP9RH6NoZojM\\u002f14BXQNl2PT\\u002fMMTVk9qhDP3vlnwR3m0g\\u002ftCzUjKKUTT8CSBVRCEtRPwtbc0Lw0FM\\u002fAl+4qUFdVj8N4ecnMexYP3bvtpk1d1s\\u002faaLre5T8XT\\u002f0lDYZbD5gP\\u002fixVuT+e2E\\u002fOc0lCAq3Yj\\u002f1mM561+9jP7g4LtilJmU\\u002fcHt36GBbZj82cTiSHo5nP7bPn4Mqv2g\\u002fGjeze6LuaT9e2mnHpRxrPxyJIa2aSWw\\u002ffFyTsd11bT\\u002fqD0Adp6FuPyjg\\u002fy34zm8\\u002fcrUv+iyBcD9tvqk3MiNxPz8bOjIttnE\\u002fU187jRP1cT8\\u002fGzoyLbZxP22+qTcyI3E\\u002fcrUv+iyBcD8o4P8t+M5vP+oPQB2noW4\\u002ffFyTsd11bT8ciSGtmklsP17aacelHGs\\u002fGjeze6LuaT+2z5+DKr9oPzZxOJIejmc\\u002fcHt36GBbZj+4OC7YpSZlP\\u002fWYznrX72M\\u002fOc0lCAq3Yj\\u002f4sVbk\\u002fnthP\\u002fSUNhlsPmA\\u002faaLre5T8XT9277aZNXdbPw3h5ycx7Fg\\u002fAl+4qUFdVj8LW3NC8NBTPwJIFVEIS1E\\u002ftCzUjKKUTT975Z8Ed5tIP8wxNWT2qEM\\u002f14BXQNl2PT\\u002fUR+jaGaIzP4yOqP5WoSM\\u002fAAAAAAAAAACMjqj+VqEjv9RH6NoZojO\\u002f14BXQNl2Pb\\u002fMMTVk9qhDv3vlnwR3m0i\\u002ftCzUjKKUTb8CSBVRCEtRvwtbc0Lw0FO\\u002fAl+4qUFdVr8N4ecnMexYv3bvtpk1d1u\\u002faaLre5T8Xb\\u002f0lDYZbD5gv\\u002fixVuT+e2G\\u002fOc0lCAq3Yr\\u002f1mM561+9jv7g4LtilJmW\\u002fcHt36GBbZr82cTiSHo5nv7bPn4Mqv2i\\u002fGjeze6Luab9e2mnHpRxrvxyJIa2aSWy\\u002ffFyTsd11bb\\u002fqD0Adp6Fuvyjg\\u002fy34zm+\\u002fcrUv+iyBcL9tvqk3MiNxvz8bOjIttnG\\u002fU187jRP1cb8\\u002fGzoyLbZxv22+qTcyI3G\\u002fcrUv+iyBcL8o4P8t+M5vv+oPQB2noW6\\u002ffFyTsd11bb8ciSGtmklsv17aacelHGu\\u002fGjeze6Luab+2z5+DKr9ovzZxOJIejme\\u002fcHt36GBbZr+4OC7YpSZlv\\u002fWYznrX72O\\u002fOc0lCAq3Yr\\u002f4sVbk\\u002fnthv\\u002fSUNhlsPmC\\u002faaLre5T8Xb9277aZNXdbvw3h5ycx7Fi\\u002fAl+4qUFdVr8LW3NC8NBTvwJIFVEIS1G\\u002ftCzUjKKUTb975Z8Ed5tIv8wxNWT2qEO\\u002f14BXQNl2Pb\\u002fUR+jaGaIzv4yOqP5WoSO\\u002fAAAAAAAAAAA=\"},\"xaxis\":\"x\",\"y\":{\"dtype\":\"f8\",\"bdata\":\"rDXNO07RcT9N5YDYgs1xP8tq7qMdxXE\\u002fzmcmjRO4cT9UYPTx46RxP08nIeMpi3E\\u002f7sG6kU5scT\\u002f1cjxQFUhxP6UW4rKTG3E\\u002fJIQ\\u002f3UDocD9O9TuznK5wP4LkG9Ueb3A\\u002fywGk7nMmcD\\u002ffVNxAua5vP0IkZKMlBG8\\u002f6Wq\\u002fPK9Kbj8b0RHcRnxtP\\u002foxu4f3nmw\\u002f6wYxSLyyaz\\u002ftte+au6pqPy78MbN4jGk\\u002fFZyMnntZaD+OZcLI+gNnP5HTcZq4hGU\\u002fYo5QiufgYz\\u002fyI3GmIAViP\\u002f75SwFMfl8\\u002fxCeeGHTiWT9tCi0B8phSP4a7OFEGjUw\\u002fAAAAAAAAAACGuzhRBo1Mv20KLQHymFK\\u002fxCeeGHTiWb\\u002f++UsBTH5fv\\u002fIjcaYgBWK\\u002fYo5QiufgY7+R03GauIRlv45lwsj6A2e\\u002fFZyMnntZaL8u\\u002fDGzeIxpv+2175q7qmq\\u002f6wYxSLyya7\\u002f6MbuH955svxvREdxGfG2\\u002f6Wq\\u002fPK9Kbr9CJGSjJQRvv99U3EC5rm+\\u002fywGk7nMmcL+C5BvVHm9wv071O7OcrnC\\u002fJIQ\\u002f3UDocL+lFuKykxtxv\\u002fVyPFAVSHG\\u002f7sG6kU5scb9PJyHjKYtxv1Rg9PHjpHG\\u002fzmcmjRO4cb\\u002fLau6jHcVxv03lgNiCzXG\\u002frDXNO07Rcb9N5YDYgs1xv8tq7qMdxXG\\u002fzmcmjRO4cb9UYPTx46Rxv08nIeMpi3G\\u002f7sG6kU5scb\\u002f1cjxQFUhxv6UW4rKTG3G\\u002fJIQ\\u002f3UDocL9O9TuznK5wv4LkG9Ueb3C\\u002fywGk7nMmcL\\u002ffVNxAua5vv0IkZKMlBG+\\u002f6Wq\\u002fPK9Kbr8b0RHcRnxtv\\u002foxu4f3nmy\\u002f6wYxSLyya7\\u002ftte+au6pqvy78MbN4jGm\\u002fFZyMnntZaL+OZcLI+gNnv5HTcZq4hGW\\u002fYo5QiufgY7\\u002fyI3GmIAViv\\u002f75SwFMfl+\\u002fxCeeGHTiWb9tCi0B8phSv4a7OFEGjUy\\u002fAAAAAAAAAACGuzhRBo1MP20KLQHymFI\\u002fxCeeGHTiWT\\u002f++UsBTH5fP\\u002fIjcaYgBWI\\u002fYo5QiufgYz+R03GauIRlP45lwsj6A2c\\u002fFZyMnntZaD8u\\u002fDGzeIxpP+2175q7qmo\\u002f6wYxSLyyaz\\u002f6MbuH955sPxvREdxGfG0\\u002f6Wq\\u002fPK9Kbj9CJGSjJQRvP99U3EC5rm8\\u002fywGk7nMmcD+C5BvVHm9wP071O7OcrnA\\u002fJIQ\\u002f3UDocD+lFuKykxtxP\\u002fVyPFAVSHE\\u002f7sG6kU5scT9PJyHjKYtxP1Rg9PHjpHE\\u002fzmcmjRO4cT\\u002fLau6jHcVxP03lgNiCzXE\\u002frDXNO07RcT8=\"},\"yaxis\":\"y\",\"type\":\"scatter\",\"fill\":\"toself\"}],                        {\"template\":{\"data\":{\"histogram2dcontour\":[{\"type\":\"histogram2dcontour\",\"colorbar\":{\"outlinewidth\":0,\"ticks\":\"\"},\"colorscale\":[[0.0,\"#0d0887\"],[0.1111111111111111,\"#46039f\"],[0.2222222222222222,\"#7201a8\"],[0.3333333333333333,\"#9c179e\"],[0.4444444444444444,\"#bd3786\"],[0.5555555555555556,\"#d8576b\"],[0.6666666666666666,\"#ed7953\"],[0.7777777777777778,\"#fb9f3a\"],[0.8888888888888888,\"#fdca26\"],[1.0,\"#f0f921\"]]}],\"choropleth\":[{\"type\":\"choropleth\",\"colorbar\":{\"outlinewidth\":0,\"ticks\":\"\"}}],\"histogram2d\":[{\"type\":\"histogram2d\",\"colorbar\":{\"outlinewidth\":0,\"ticks\":\"\"},\"colorscale\":[[0.0,\"#0d0887\"],[0.1111111111111111,\"#46039f\"],[0.2222222222222222,\"#7201a8\"],[0.3333333333333333,\"#9c179e\"],[0.4444444444444444,\"#bd3786\"],[0.5555555555555556,\"#d8576b\"],[0.6666666666666666,\"#ed7953\"],[0.7777777777777778,\"#fb9f3a\"],[0.8888888888888888,\"#fdca26\"],[1.0,\"#f0f921\"]]}],\"heatmap\":[{\"type\":\"heatmap\",\"colorbar\":{\"outlinewidth\":0,\"ticks\":\"\"},\"colorscale\":[[0.0,\"#0d0887\"],[0.1111111111111111,\"#46039f\"],[0.2222222222222222,\"#7201a8\"],[0.3333333333333333,\"#9c179e\"],[0.4444444444444444,\"#bd3786\"],[0.5555555555555556,\"#d8576b\"],[0.6666666666666666,\"#ed7953\"],[0.7777777777777778,\"#fb9f3a\"],[0.8888888888888888,\"#fdca26\"],[1.0,\"#f0f921\"]]}],\"contourcarpet\":[{\"type\":\"contourcarpet\",\"colorbar\":{\"outlinewidth\":0,\"ticks\":\"\"}}],\"contour\":[{\"type\":\"contour\",\"colorbar\":{\"outlinewidth\":0,\"ticks\":\"\"},\"colorscale\":[[0.0,\"#0d0887\"],[0.1111111111111111,\"#46039f\"],[0.2222222222222222,\"#7201a8\"],[0.3333333333333333,\"#9c179e\"],[0.4444444444444444,\"#bd3786\"],[0.5555555555555556,\"#d8576b\"],[0.6666666666666666,\"#ed7953\"],[0.7777777777777778,\"#fb9f3a\"],[0.8888888888888888,\"#fdca26\"],[1.0,\"#f0f921\"]]}],\"surface\":[{\"type\":\"surface\",\"colorbar\":{\"outlinewidth\":0,\"ticks\":\"\"},\"colorscale\":[[0.0,\"#0d0887\"],[0.1111111111111111,\"#46039f\"],[0.2222222222222222,\"#7201a8\"],[0.3333333333333333,\"#9c179e\"],[0.4444444444444444,\"#bd3786\"],[0.5555555555555556,\"#d8576b\"],[0.6666666666666666,\"#ed7953\"],[0.7777777777777778,\"#fb9f3a\"],[0.8888888888888888,\"#fdca26\"],[1.0,\"#f0f921\"]]}],\"mesh3d\":[{\"type\":\"mesh3d\",\"colorbar\":{\"outlinewidth\":0,\"ticks\":\"\"}}],\"scatter\":[{\"fillpattern\":{\"fillmode\":\"overlay\",\"size\":10,\"solidity\":0.2},\"type\":\"scatter\"}],\"parcoords\":[{\"type\":\"parcoords\",\"line\":{\"colorbar\":{\"outlinewidth\":0,\"ticks\":\"\"}}}],\"scatterpolargl\":[{\"type\":\"scatterpolargl\",\"marker\":{\"colorbar\":{\"outlinewidth\":0,\"ticks\":\"\"}}}],\"bar\":[{\"error_x\":{\"color\":\"#2a3f5f\"},\"error_y\":{\"color\":\"#2a3f5f\"},\"marker\":{\"line\":{\"color\":\"#E5ECF6\",\"width\":0.5},\"pattern\":{\"fillmode\":\"overlay\",\"size\":10,\"solidity\":0.2}},\"type\":\"bar\"}],\"scattergeo\":[{\"type\":\"scattergeo\",\"marker\":{\"colorbar\":{\"outlinewidth\":0,\"ticks\":\"\"}}}],\"scatterpolar\":[{\"type\":\"scatterpolar\",\"marker\":{\"colorbar\":{\"outlinewidth\":0,\"ticks\":\"\"}}}],\"histogram\":[{\"marker\":{\"pattern\":{\"fillmode\":\"overlay\",\"size\":10,\"solidity\":0.2}},\"type\":\"histogram\"}],\"scattergl\":[{\"type\":\"scattergl\",\"marker\":{\"colorbar\":{\"outlinewidth\":0,\"ticks\":\"\"}}}],\"scatter3d\":[{\"type\":\"scatter3d\",\"line\":{\"colorbar\":{\"outlinewidth\":0,\"ticks\":\"\"}},\"marker\":{\"colorbar\":{\"outlinewidth\":0,\"ticks\":\"\"}}}],\"scattermap\":[{\"type\":\"scattermap\",\"marker\":{\"colorbar\":{\"outlinewidth\":0,\"ticks\":\"\"}}}],\"scattermapbox\":[{\"type\":\"scattermapbox\",\"marker\":{\"colorbar\":{\"outlinewidth\":0,\"ticks\":\"\"}}}],\"scatterternary\":[{\"type\":\"scatterternary\",\"marker\":{\"colorbar\":{\"outlinewidth\":0,\"ticks\":\"\"}}}],\"scattercarpet\":[{\"type\":\"scattercarpet\",\"marker\":{\"colorbar\":{\"outlinewidth\":0,\"ticks\":\"\"}}}],\"carpet\":[{\"aaxis\":{\"endlinecolor\":\"#2a3f5f\",\"gridcolor\":\"white\",\"linecolor\":\"white\",\"minorgridcolor\":\"white\",\"startlinecolor\":\"#2a3f5f\"},\"baxis\":{\"endlinecolor\":\"#2a3f5f\",\"gridcolor\":\"white\",\"linecolor\":\"white\",\"minorgridcolor\":\"white\",\"startlinecolor\":\"#2a3f5f\"},\"type\":\"carpet\"}],\"table\":[{\"cells\":{\"fill\":{\"color\":\"#EBF0F8\"},\"line\":{\"color\":\"white\"}},\"header\":{\"fill\":{\"color\":\"#C8D4E3\"},\"line\":{\"color\":\"white\"}},\"type\":\"table\"}],\"barpolar\":[{\"marker\":{\"line\":{\"color\":\"#E5ECF6\",\"width\":0.5},\"pattern\":{\"fillmode\":\"overlay\",\"size\":10,\"solidity\":0.2}},\"type\":\"barpolar\"}],\"pie\":[{\"automargin\":true,\"type\":\"pie\"}]},\"layout\":{\"autotypenumbers\":\"strict\",\"colorway\":[\"#636efa\",\"#EF553B\",\"#00cc96\",\"#ab63fa\",\"#FFA15A\",\"#19d3f3\",\"#FF6692\",\"#B6E880\",\"#FF97FF\",\"#FECB52\"],\"font\":{\"color\":\"#2a3f5f\"},\"hovermode\":\"closest\",\"hoverlabel\":{\"align\":\"left\"},\"paper_bgcolor\":\"white\",\"plot_bgcolor\":\"#E5ECF6\",\"polar\":{\"bgcolor\":\"#E5ECF6\",\"angularaxis\":{\"gridcolor\":\"white\",\"linecolor\":\"white\",\"ticks\":\"\"},\"radialaxis\":{\"gridcolor\":\"white\",\"linecolor\":\"white\",\"ticks\":\"\"}},\"ternary\":{\"bgcolor\":\"#E5ECF6\",\"aaxis\":{\"gridcolor\":\"white\",\"linecolor\":\"white\",\"ticks\":\"\"},\"baxis\":{\"gridcolor\":\"white\",\"linecolor\":\"white\",\"ticks\":\"\"},\"caxis\":{\"gridcolor\":\"white\",\"linecolor\":\"white\",\"ticks\":\"\"}},\"coloraxis\":{\"colorbar\":{\"outlinewidth\":0,\"ticks\":\"\"}},\"colorscale\":{\"sequential\":[[0.0,\"#0d0887\"],[0.1111111111111111,\"#46039f\"],[0.2222222222222222,\"#7201a8\"],[0.3333333333333333,\"#9c179e\"],[0.4444444444444444,\"#bd3786\"],[0.5555555555555556,\"#d8576b\"],[0.6666666666666666,\"#ed7953\"],[0.7777777777777778,\"#fb9f3a\"],[0.8888888888888888,\"#fdca26\"],[1.0,\"#f0f921\"]],\"sequentialminus\":[[0.0,\"#0d0887\"],[0.1111111111111111,\"#46039f\"],[0.2222222222222222,\"#7201a8\"],[0.3333333333333333,\"#9c179e\"],[0.4444444444444444,\"#bd3786\"],[0.5555555555555556,\"#d8576b\"],[0.6666666666666666,\"#ed7953\"],[0.7777777777777778,\"#fb9f3a\"],[0.8888888888888888,\"#fdca26\"],[1.0,\"#f0f921\"]],\"diverging\":[[0,\"#8e0152\"],[0.1,\"#c51b7d\"],[0.2,\"#de77ae\"],[0.3,\"#f1b6da\"],[0.4,\"#fde0ef\"],[0.5,\"#f7f7f7\"],[0.6,\"#e6f5d0\"],[0.7,\"#b8e186\"],[0.8,\"#7fbc41\"],[0.9,\"#4d9221\"],[1,\"#276419\"]]},\"xaxis\":{\"gridcolor\":\"white\",\"linecolor\":\"white\",\"ticks\":\"\",\"title\":{\"standoff\":15},\"zerolinecolor\":\"white\",\"automargin\":true,\"zerolinewidth\":2},\"yaxis\":{\"gridcolor\":\"white\",\"linecolor\":\"white\",\"ticks\":\"\",\"title\":{\"standoff\":15},\"zerolinecolor\":\"white\",\"automargin\":true,\"zerolinewidth\":2},\"scene\":{\"xaxis\":{\"backgroundcolor\":\"#E5ECF6\",\"gridcolor\":\"white\",\"linecolor\":\"white\",\"showbackground\":true,\"ticks\":\"\",\"zerolinecolor\":\"white\",\"gridwidth\":2},\"yaxis\":{\"backgroundcolor\":\"#E5ECF6\",\"gridcolor\":\"white\",\"linecolor\":\"white\",\"showbackground\":true,\"ticks\":\"\",\"zerolinecolor\":\"white\",\"gridwidth\":2},\"zaxis\":{\"backgroundcolor\":\"#E5ECF6\",\"gridcolor\":\"white\",\"linecolor\":\"white\",\"showbackground\":true,\"ticks\":\"\",\"zerolinecolor\":\"white\",\"gridwidth\":2}},\"shapedefaults\":{\"line\":{\"color\":\"#2a3f5f\"}},\"annotationdefaults\":{\"arrowcolor\":\"#2a3f5f\",\"arrowhead\":0,\"arrowwidth\":1},\"geo\":{\"bgcolor\":\"white\",\"landcolor\":\"#E5ECF6\",\"subunitcolor\":\"white\",\"showland\":true,\"showlakes\":true,\"lakecolor\":\"white\"},\"title\":{\"x\":0.05},\"mapbox\":{\"style\":\"light\"}}},\"xaxis\":{\"anchor\":\"y\",\"domain\":[0.0,1.0],\"title\":{\"text\":\"z\"}},\"yaxis\":{\"anchor\":\"x\",\"domain\":[0.0,1.0],\"title\":{\"text\":\"y\"},\"scaleanchor\":\"x\",\"scaleratio\":1},\"legend\":{\"tracegroupgap\":0},\"margin\":{\"t\":60},\"width\":640,\"height\":480},                        {\"responsive\": true}                    )                };            </script>        </div></td></tr><tr><td style='text-align: left'><details><summary style='font-weight:bold'>Polygon</summary><table><tr><td style='text-align:left'>area</td><td>5.939031536528555e-05</td></tr><tr><td style='text-align:left'>height</td><td>0.008700000000000006</td></tr><tr><td style='text-align:left'>perimeter</td><td>0.02736933246437044</td></tr><tr><td style='text-align:left'>width</td><td>0.008768227336460354</td></tr></table></details></td></tr></table></td></tr><tr><td style='text-align:left'>length</td><td>5171.222724142025</td></tr><tr><td style='text-align:left'>material</td><td><table style='margin:0'><tr><td>&#x27;BST500&#x27;</td></tr><tr><td>&#x27;steel&#x27;</td></tr></table></td></tr><tr><td style='text-align:left'>ring_temperatures</td><td>array([1570.05915393, 1567.12701904, 1558.34092613, 1543.71864333,\n",
       "       1523.23735286, 1496.84675482, 1464.74408402, 1428.15944014,\n",
       "       1390.54359123, 1358.13149   , 1337.87659106])</td></tr><tr><td style='text-align:left'>strain</td><td>np.float64(0.5607017311212023)</td></tr><tr><td style='text-align:left'>surface_temperature</td><td>np.float64(1337.8765910557204)</td></tr><tr><td style='text-align:left'>t</td><td>np.float64(36.875179665279155)</td></tr><tr><td style='text-align:left'>temperature</td><td>np.float64(1425.8613020468922)</td></tr><tr><td style='text-align:left'>weight</td><td>2400</td></tr><tr><td style='text-align:left'>width</td><td>np.float64(0.008768227336460354)</td></tr></table></details></td></tr></table>"
      ]
     },
     "execution_count": 10,
     "metadata": {},
     "output_type": "execute_result"
    }
   ],
   "execution_count": 10
  },
  {
   "metadata": {
    "ExecuteTime": {
     "end_time": "2025-06-10T10:55:41.432436Z",
     "start_time": "2025-06-10T10:44:56.082892Z"
    }
   },
   "cell_type": "code",
   "source": "rolling_train_e107.solve(in_profile)",
   "id": "8d41684a3d4f7735",
   "outputs": [
    {
     "name": "stderr",
     "output_type": "stream",
     "text": [
      "Solution iteration of TwoRollPass '22-V' exceeded the maximum iteration count of 100. Continuing anyway.\n",
      "Solution iteration of TwoRollPass '23-H' exceeded the maximum iteration count of 100. Continuing anyway.\n",
      "Solution iteration of TwoRollPass '27-H' exceeded the maximum iteration count of 100. Continuing anyway.\n"
     ]
    },
    {
     "data": {
      "text/plain": [
       "Profile(\n",
       "    classifiers={'false_round', 'generic_elongation', 'round', 'symmetric'},\n",
       "    core_temperature=np.float64(1564.024619885944),\n",
       "    cross_section=Polygon(\n",
       "        area=5.896220122998807e-05,\n",
       "        height=0.008700000000000006,\n",
       "        perimeter=0.027243885509781032,\n",
       "        width=0.008532317323115969,\n",
       "        ),\n",
       "    length=5208.7339449078745,\n",
       "    material=['BST500', 'steel'],\n",
       "    ring_temperatures=array([1564.02461989, 1561.13466478, 1552.47023573, 1538.03228003,\n",
       "           1517.78168798, 1491.70612299, 1460.17725746, 1424.73026868,\n",
       "           1388.99526951, 1358.82742219, 1340.17168701]),\n",
       "    strain=np.float64(0.520194900008893),\n",
       "    surface_temperature=np.float64(1340.1716870065236),\n",
       "    t=np.float64(36.854174411047744),\n",
       "    temperature=np.float64(1423.7200086555574),\n",
       "    weight=2400,\n",
       "    width=np.float64(0.008532317323115969),\n",
       "    )"
      ],
      "text/html": [
       "<table><tr><td style='text-align: center'><div>                        <script type=\"text/javascript\">window.PlotlyConfig = {MathJaxConfig: 'local'};</script>\n",
       "        <script charset=\"utf-8\" src=\"https://cdn.plot.ly/plotly-3.0.1.min.js\"></script>                <div id=\"fc9569c0-bdfc-4280-afc8-2c87b4ab698e\" class=\"plotly-graph-div\" style=\"height:480px; width:640px;\"></div>            <script type=\"text/javascript\">                window.PLOTLYENV=window.PLOTLYENV || {};                                if (document.getElementById(\"fc9569c0-bdfc-4280-afc8-2c87b4ab698e\")) {                    Plotly.newPlot(                        \"fc9569c0-bdfc-4280-afc8-2c87b4ab698e\",                        [{\"hovertemplate\":\"z=%{x}\\u003cbr\\u003ey=%{y}\\u003cextra\\u003e\\u003c\\u002fextra\\u003e\",\"legendgroup\":\"\",\"line\":{\"color\":\"#636efa\",\"dash\":\"solid\"},\"marker\":{\"symbol\":\"circle\"},\"mode\":\"lines\",\"name\":\"\",\"orientation\":\"v\",\"showlegend\":false,\"x\":{\"dtype\":\"f8\",\"bdata\":\"AAAAAAAAAADubSnfihAjP72VhOP9EDM\\u002fSPHEmGecPD+GVUg6txZDP0546f6u40c\\u002fhQxZnIW2TD9mqHcXY8hQP9gLlJ03OlM\\u002fBJHV4MOxVT9uXezD4C1YPzq7AGKnrVo\\u002fnPvKdRgyXT\\u002fqWOOZPLZfPz9x+UxbGmE\\u002fVsRJzPNWYj+\\u002fK0rLGpFjP9f2wFq9yGQ\\u002fQJmSq\\u002fj9ZT8qEal1BTFnP6we0RbVYWg\\u002f+Rnft1KQaT\\u002fQtMr9tbxqP5xhgicE52s\\u002fWmCfzccObT8YaVFFHzRuP2NlOdv4Vm8\\u002fh2dVz5Q6cD+uL5WC68ZwP39AzPbzQnE\\u002f9B\\u002flPmR5cT9\\u002fQMz280JxP64vlYLrxnA\\u002fh2dVz5Q6cD9jZTnb+FZvPxhpUUUfNG4\\u002fWmCfzccObT+cYYInBOdrP9C0yv21vGo\\u002f+Rnft1KQaT+sHtEW1WFoPyoRqXUFMWc\\u002fQJmSq\\u002fj9ZT\\u002fX9sBavchkP78rSssakWM\\u002fVsRJzPNWYj8\\u002fcflMWxphP+pY45k8tl8\\u002fnPvKdRgyXT86uwBip61aP25d7MPgLVg\\u002fBJHV4MOxVT\\u002fYC5SdNzpTP2aodxdjyFA\\u002fhQxZnIW2TD9OeOn+ruNHP4ZVSDq3FkM\\u002fSPHEmGecPD+9lYTj\\u002fRAzP+5tKd+KECM\\u002fAAAAAAAAAADubSnfihAjv72VhOP9EDO\\u002fSPHEmGecPL+GVUg6txZDv0546f6u40e\\u002fhQxZnIW2TL9mqHcXY8hQv9gLlJ03OlO\\u002fBJHV4MOxVb9uXezD4C1Yvzq7AGKnrVq\\u002fnPvKdRgyXb\\u002fqWOOZPLZfvz9x+UxbGmG\\u002fVsRJzPNWYr+\\u002fK0rLGpFjv9f2wFq9yGS\\u002fQJmSq\\u002fj9Zb8qEal1BTFnv6we0RbVYWi\\u002f+Rnft1KQab\\u002fQtMr9tbxqv5xhgicE52u\\u002fWmCfzccObb8YaVFFHzRuv2NlOdv4Vm+\\u002fh2dVz5Q6cL+uL5WC68Zwv39AzPbzQnG\\u002f9B\\u002flPmR5cb9\\u002fQMz280Jxv64vlYLrxnC\\u002fh2dVz5Q6cL9jZTnb+FZvvxhpUUUfNG6\\u002fWmCfzccObb+cYYInBOdrv9C0yv21vGq\\u002f+Rnft1KQab+sHtEW1WFovyoRqXUFMWe\\u002fQJmSq\\u002fj9Zb\\u002fX9sBavchkv78rSssakWO\\u002fVsRJzPNWYr8\\u002fcflMWxphv+pY45k8tl+\\u002fnPvKdRgyXb86uwBip61av25d7MPgLVi\\u002fBJHV4MOxVb\\u002fYC5SdNzpTv2aodxdjyFC\\u002fhQxZnIW2TL9OeOn+ruNHv4ZVSDq3FkO\\u002fSPHEmGecPL+9lYTj\\u002fRAzv+5tKd+KECO\\u002fAAAAAAAAAAA=\"},\"xaxis\":\"x\",\"y\":{\"dtype\":\"f8\",\"bdata\":\"rDXNO07RcT+MF7LVns1xP\\u002frltVTGxXE\\u002fdw1dyry5cT\\u002fB3p9VHadxPwQJENIaj3E\\u002fLhd2oH1ycT+1x3rF509xP9Ml\\u002fWH2JXE\\u002fJeRkGG\\u002f2cD8AZxbdG8FwP+N0BLztgnA\\u002fCC1jk0A9cD\\u002fj7uiNBuJvPwTUASIaPW8\\u002ff1N27z+Dbj+QxxcBl7ttPz2q0d8h5mw\\u002fVoBwZcr7az+2FzEM3PpqP6KwHsci6Gk\\u002fI6HsKQ6\\u002faD\\u002fK2X3xdXBnPxpIgHoNB2Y\\u002fnfM9vg6AZD+8pjlP9bJiP+FBkO2hr2A\\u002f5waqOivkXD+mjLkRv8FWP9OBrX7fvlA\\u002fAAAAAAAAAADTga1+375Qv6aMuRG\\u002fwVa\\u002f5waqOivkXL\\u002fhQZDtoa9gv7ymOU\\u002f1smK\\u002fnfM9vg6AZL8aSIB6DQdmv8rZffF1cGe\\u002fI6HsKQ6\\u002faL+isB7HIuhpv7YXMQzc+mq\\u002fVoBwZcr7a789qtHfIeZsv5DHFwGXu22\\u002ff1N27z+Dbr8E1AEiGj1vv+Pu6I0G4m+\\u002fCC1jk0A9cL\\u002fjdAS87YJwvwBnFt0bwXC\\u002fJeRkGG\\u002f2cL\\u002fTJf1h9iVxv7XHesXnT3G\\u002fLhd2oH1ycb8ECRDSGo9xv8Hen1Udp3G\\u002fdw1dyry5cb\\u002f65bVUxsVxv4wXstWezXG\\u002frDXNO07Rcb+MF7LVns1xv\\u002frltVTGxXG\\u002fdw1dyry5cb\\u002fB3p9VHadxvwQJENIaj3G\\u002fLhd2oH1ycb+1x3rF509xv9Ml\\u002fWH2JXG\\u002fJeRkGG\\u002f2cL8AZxbdG8Fwv+N0BLztgnC\\u002fCC1jk0A9cL\\u002fj7uiNBuJvvwTUASIaPW+\\u002ff1N27z+Dbr+QxxcBl7ttvz2q0d8h5my\\u002fVoBwZcr7a7+2FzEM3Ppqv6KwHsci6Gm\\u002fI6HsKQ6\\u002faL\\u002fK2X3xdXBnvxpIgHoNB2a\\u002fnfM9vg6AZL+8pjlP9bJiv+FBkO2hr2C\\u002f5waqOivkXL+mjLkRv8FWv9OBrX7fvlC\\u002fAAAAAAAAAADTga1+375QP6aMuRG\\u002fwVY\\u002f5waqOivkXD\\u002fhQZDtoa9gP7ymOU\\u002f1smI\\u002fnfM9vg6AZD8aSIB6DQdmP8rZffF1cGc\\u002fI6HsKQ6\\u002faD+isB7HIuhpP7YXMQzc+mo\\u002fVoBwZcr7az89qtHfIeZsP5DHFwGXu20\\u002ff1N27z+Dbj8E1AEiGj1vP+Pu6I0G4m8\\u002fCC1jk0A9cD\\u002fjdAS87YJwPwBnFt0bwXA\\u002fJeRkGG\\u002f2cD\\u002fTJf1h9iVxP7XHesXnT3E\\u002fLhd2oH1ycT8ECRDSGo9xP8Hen1Udp3E\\u002fdw1dyry5cT\\u002f65bVUxsVxP4wXstWezXE\\u002frDXNO07RcT8=\"},\"yaxis\":\"y\",\"type\":\"scatter\",\"fill\":\"toself\"}],                        {\"template\":{\"data\":{\"histogram2dcontour\":[{\"type\":\"histogram2dcontour\",\"colorbar\":{\"outlinewidth\":0,\"ticks\":\"\"},\"colorscale\":[[0.0,\"#0d0887\"],[0.1111111111111111,\"#46039f\"],[0.2222222222222222,\"#7201a8\"],[0.3333333333333333,\"#9c179e\"],[0.4444444444444444,\"#bd3786\"],[0.5555555555555556,\"#d8576b\"],[0.6666666666666666,\"#ed7953\"],[0.7777777777777778,\"#fb9f3a\"],[0.8888888888888888,\"#fdca26\"],[1.0,\"#f0f921\"]]}],\"choropleth\":[{\"type\":\"choropleth\",\"colorbar\":{\"outlinewidth\":0,\"ticks\":\"\"}}],\"histogram2d\":[{\"type\":\"histogram2d\",\"colorbar\":{\"outlinewidth\":0,\"ticks\":\"\"},\"colorscale\":[[0.0,\"#0d0887\"],[0.1111111111111111,\"#46039f\"],[0.2222222222222222,\"#7201a8\"],[0.3333333333333333,\"#9c179e\"],[0.4444444444444444,\"#bd3786\"],[0.5555555555555556,\"#d8576b\"],[0.6666666666666666,\"#ed7953\"],[0.7777777777777778,\"#fb9f3a\"],[0.8888888888888888,\"#fdca26\"],[1.0,\"#f0f921\"]]}],\"heatmap\":[{\"type\":\"heatmap\",\"colorbar\":{\"outlinewidth\":0,\"ticks\":\"\"},\"colorscale\":[[0.0,\"#0d0887\"],[0.1111111111111111,\"#46039f\"],[0.2222222222222222,\"#7201a8\"],[0.3333333333333333,\"#9c179e\"],[0.4444444444444444,\"#bd3786\"],[0.5555555555555556,\"#d8576b\"],[0.6666666666666666,\"#ed7953\"],[0.7777777777777778,\"#fb9f3a\"],[0.8888888888888888,\"#fdca26\"],[1.0,\"#f0f921\"]]}],\"contourcarpet\":[{\"type\":\"contourcarpet\",\"colorbar\":{\"outlinewidth\":0,\"ticks\":\"\"}}],\"contour\":[{\"type\":\"contour\",\"colorbar\":{\"outlinewidth\":0,\"ticks\":\"\"},\"colorscale\":[[0.0,\"#0d0887\"],[0.1111111111111111,\"#46039f\"],[0.2222222222222222,\"#7201a8\"],[0.3333333333333333,\"#9c179e\"],[0.4444444444444444,\"#bd3786\"],[0.5555555555555556,\"#d8576b\"],[0.6666666666666666,\"#ed7953\"],[0.7777777777777778,\"#fb9f3a\"],[0.8888888888888888,\"#fdca26\"],[1.0,\"#f0f921\"]]}],\"surface\":[{\"type\":\"surface\",\"colorbar\":{\"outlinewidth\":0,\"ticks\":\"\"},\"colorscale\":[[0.0,\"#0d0887\"],[0.1111111111111111,\"#46039f\"],[0.2222222222222222,\"#7201a8\"],[0.3333333333333333,\"#9c179e\"],[0.4444444444444444,\"#bd3786\"],[0.5555555555555556,\"#d8576b\"],[0.6666666666666666,\"#ed7953\"],[0.7777777777777778,\"#fb9f3a\"],[0.8888888888888888,\"#fdca26\"],[1.0,\"#f0f921\"]]}],\"mesh3d\":[{\"type\":\"mesh3d\",\"colorbar\":{\"outlinewidth\":0,\"ticks\":\"\"}}],\"scatter\":[{\"fillpattern\":{\"fillmode\":\"overlay\",\"size\":10,\"solidity\":0.2},\"type\":\"scatter\"}],\"parcoords\":[{\"type\":\"parcoords\",\"line\":{\"colorbar\":{\"outlinewidth\":0,\"ticks\":\"\"}}}],\"scatterpolargl\":[{\"type\":\"scatterpolargl\",\"marker\":{\"colorbar\":{\"outlinewidth\":0,\"ticks\":\"\"}}}],\"bar\":[{\"error_x\":{\"color\":\"#2a3f5f\"},\"error_y\":{\"color\":\"#2a3f5f\"},\"marker\":{\"line\":{\"color\":\"#E5ECF6\",\"width\":0.5},\"pattern\":{\"fillmode\":\"overlay\",\"size\":10,\"solidity\":0.2}},\"type\":\"bar\"}],\"scattergeo\":[{\"type\":\"scattergeo\",\"marker\":{\"colorbar\":{\"outlinewidth\":0,\"ticks\":\"\"}}}],\"scatterpolar\":[{\"type\":\"scatterpolar\",\"marker\":{\"colorbar\":{\"outlinewidth\":0,\"ticks\":\"\"}}}],\"histogram\":[{\"marker\":{\"pattern\":{\"fillmode\":\"overlay\",\"size\":10,\"solidity\":0.2}},\"type\":\"histogram\"}],\"scattergl\":[{\"type\":\"scattergl\",\"marker\":{\"colorbar\":{\"outlinewidth\":0,\"ticks\":\"\"}}}],\"scatter3d\":[{\"type\":\"scatter3d\",\"line\":{\"colorbar\":{\"outlinewidth\":0,\"ticks\":\"\"}},\"marker\":{\"colorbar\":{\"outlinewidth\":0,\"ticks\":\"\"}}}],\"scattermap\":[{\"type\":\"scattermap\",\"marker\":{\"colorbar\":{\"outlinewidth\":0,\"ticks\":\"\"}}}],\"scattermapbox\":[{\"type\":\"scattermapbox\",\"marker\":{\"colorbar\":{\"outlinewidth\":0,\"ticks\":\"\"}}}],\"scatterternary\":[{\"type\":\"scatterternary\",\"marker\":{\"colorbar\":{\"outlinewidth\":0,\"ticks\":\"\"}}}],\"scattercarpet\":[{\"type\":\"scattercarpet\",\"marker\":{\"colorbar\":{\"outlinewidth\":0,\"ticks\":\"\"}}}],\"carpet\":[{\"aaxis\":{\"endlinecolor\":\"#2a3f5f\",\"gridcolor\":\"white\",\"linecolor\":\"white\",\"minorgridcolor\":\"white\",\"startlinecolor\":\"#2a3f5f\"},\"baxis\":{\"endlinecolor\":\"#2a3f5f\",\"gridcolor\":\"white\",\"linecolor\":\"white\",\"minorgridcolor\":\"white\",\"startlinecolor\":\"#2a3f5f\"},\"type\":\"carpet\"}],\"table\":[{\"cells\":{\"fill\":{\"color\":\"#EBF0F8\"},\"line\":{\"color\":\"white\"}},\"header\":{\"fill\":{\"color\":\"#C8D4E3\"},\"line\":{\"color\":\"white\"}},\"type\":\"table\"}],\"barpolar\":[{\"marker\":{\"line\":{\"color\":\"#E5ECF6\",\"width\":0.5},\"pattern\":{\"fillmode\":\"overlay\",\"size\":10,\"solidity\":0.2}},\"type\":\"barpolar\"}],\"pie\":[{\"automargin\":true,\"type\":\"pie\"}]},\"layout\":{\"autotypenumbers\":\"strict\",\"colorway\":[\"#636efa\",\"#EF553B\",\"#00cc96\",\"#ab63fa\",\"#FFA15A\",\"#19d3f3\",\"#FF6692\",\"#B6E880\",\"#FF97FF\",\"#FECB52\"],\"font\":{\"color\":\"#2a3f5f\"},\"hovermode\":\"closest\",\"hoverlabel\":{\"align\":\"left\"},\"paper_bgcolor\":\"white\",\"plot_bgcolor\":\"#E5ECF6\",\"polar\":{\"bgcolor\":\"#E5ECF6\",\"angularaxis\":{\"gridcolor\":\"white\",\"linecolor\":\"white\",\"ticks\":\"\"},\"radialaxis\":{\"gridcolor\":\"white\",\"linecolor\":\"white\",\"ticks\":\"\"}},\"ternary\":{\"bgcolor\":\"#E5ECF6\",\"aaxis\":{\"gridcolor\":\"white\",\"linecolor\":\"white\",\"ticks\":\"\"},\"baxis\":{\"gridcolor\":\"white\",\"linecolor\":\"white\",\"ticks\":\"\"},\"caxis\":{\"gridcolor\":\"white\",\"linecolor\":\"white\",\"ticks\":\"\"}},\"coloraxis\":{\"colorbar\":{\"outlinewidth\":0,\"ticks\":\"\"}},\"colorscale\":{\"sequential\":[[0.0,\"#0d0887\"],[0.1111111111111111,\"#46039f\"],[0.2222222222222222,\"#7201a8\"],[0.3333333333333333,\"#9c179e\"],[0.4444444444444444,\"#bd3786\"],[0.5555555555555556,\"#d8576b\"],[0.6666666666666666,\"#ed7953\"],[0.7777777777777778,\"#fb9f3a\"],[0.8888888888888888,\"#fdca26\"],[1.0,\"#f0f921\"]],\"sequentialminus\":[[0.0,\"#0d0887\"],[0.1111111111111111,\"#46039f\"],[0.2222222222222222,\"#7201a8\"],[0.3333333333333333,\"#9c179e\"],[0.4444444444444444,\"#bd3786\"],[0.5555555555555556,\"#d8576b\"],[0.6666666666666666,\"#ed7953\"],[0.7777777777777778,\"#fb9f3a\"],[0.8888888888888888,\"#fdca26\"],[1.0,\"#f0f921\"]],\"diverging\":[[0,\"#8e0152\"],[0.1,\"#c51b7d\"],[0.2,\"#de77ae\"],[0.3,\"#f1b6da\"],[0.4,\"#fde0ef\"],[0.5,\"#f7f7f7\"],[0.6,\"#e6f5d0\"],[0.7,\"#b8e186\"],[0.8,\"#7fbc41\"],[0.9,\"#4d9221\"],[1,\"#276419\"]]},\"xaxis\":{\"gridcolor\":\"white\",\"linecolor\":\"white\",\"ticks\":\"\",\"title\":{\"standoff\":15},\"zerolinecolor\":\"white\",\"automargin\":true,\"zerolinewidth\":2},\"yaxis\":{\"gridcolor\":\"white\",\"linecolor\":\"white\",\"ticks\":\"\",\"title\":{\"standoff\":15},\"zerolinecolor\":\"white\",\"automargin\":true,\"zerolinewidth\":2},\"scene\":{\"xaxis\":{\"backgroundcolor\":\"#E5ECF6\",\"gridcolor\":\"white\",\"linecolor\":\"white\",\"showbackground\":true,\"ticks\":\"\",\"zerolinecolor\":\"white\",\"gridwidth\":2},\"yaxis\":{\"backgroundcolor\":\"#E5ECF6\",\"gridcolor\":\"white\",\"linecolor\":\"white\",\"showbackground\":true,\"ticks\":\"\",\"zerolinecolor\":\"white\",\"gridwidth\":2},\"zaxis\":{\"backgroundcolor\":\"#E5ECF6\",\"gridcolor\":\"white\",\"linecolor\":\"white\",\"showbackground\":true,\"ticks\":\"\",\"zerolinecolor\":\"white\",\"gridwidth\":2}},\"shapedefaults\":{\"line\":{\"color\":\"#2a3f5f\"}},\"annotationdefaults\":{\"arrowcolor\":\"#2a3f5f\",\"arrowhead\":0,\"arrowwidth\":1},\"geo\":{\"bgcolor\":\"white\",\"landcolor\":\"#E5ECF6\",\"subunitcolor\":\"white\",\"showland\":true,\"showlakes\":true,\"lakecolor\":\"white\"},\"title\":{\"x\":0.05},\"mapbox\":{\"style\":\"light\"}}},\"xaxis\":{\"anchor\":\"y\",\"domain\":[0.0,1.0],\"title\":{\"text\":\"z\"}},\"yaxis\":{\"anchor\":\"x\",\"domain\":[0.0,1.0],\"title\":{\"text\":\"y\"},\"scaleanchor\":\"x\",\"scaleratio\":1},\"legend\":{\"tracegroupgap\":0},\"margin\":{\"t\":60},\"width\":640,\"height\":480},                        {\"responsive\": true}                    )                };            </script>        </div></td></tr><tr><td style='text-align: left'><details><summary style='font-weight:bold'>Profile</summary><table><tr><td style='text-align:left'>classifiers</td><td><table style='margin:0'><tr><td>&#x27;symmetric&#x27;</td></tr><tr><td>&#x27;false_round&#x27;</td></tr><tr><td>&#x27;round&#x27;</td></tr><tr><td>&#x27;generic_elongation&#x27;</td></tr></table></td></tr><tr><td style='text-align:left'>core_temperature</td><td>np.float64(1564.024619885944)</td></tr><tr><td style='text-align:left'>cross_section</td><td><table><tr><td style='text-align: center'><div>                        <script type=\"text/javascript\">window.PlotlyConfig = {MathJaxConfig: 'local'};</script>\n",
       "        <script charset=\"utf-8\" src=\"https://cdn.plot.ly/plotly-3.0.1.min.js\"></script>                <div id=\"0fb776c3-5e23-4486-906a-fe9fc5404760\" class=\"plotly-graph-div\" style=\"height:480px; width:640px;\"></div>            <script type=\"text/javascript\">                window.PLOTLYENV=window.PLOTLYENV || {};                                if (document.getElementById(\"0fb776c3-5e23-4486-906a-fe9fc5404760\")) {                    Plotly.newPlot(                        \"0fb776c3-5e23-4486-906a-fe9fc5404760\",                        [{\"hovertemplate\":\"z=%{x}\\u003cbr\\u003ey=%{y}\\u003cextra\\u003e\\u003c\\u002fextra\\u003e\",\"legendgroup\":\"\",\"line\":{\"color\":\"#636efa\",\"dash\":\"solid\"},\"marker\":{\"symbol\":\"circle\"},\"mode\":\"lines\",\"name\":\"\",\"orientation\":\"v\",\"showlegend\":false,\"x\":{\"dtype\":\"f8\",\"bdata\":\"AAAAAAAAAADubSnfihAjP72VhOP9EDM\\u002fSPHEmGecPD+GVUg6txZDP0546f6u40c\\u002fhQxZnIW2TD9mqHcXY8hQP9gLlJ03OlM\\u002fBJHV4MOxVT9uXezD4C1YPzq7AGKnrVo\\u002fnPvKdRgyXT\\u002fqWOOZPLZfPz9x+UxbGmE\\u002fVsRJzPNWYj+\\u002fK0rLGpFjP9f2wFq9yGQ\\u002fQJmSq\\u002fj9ZT8qEal1BTFnP6we0RbVYWg\\u002f+Rnft1KQaT\\u002fQtMr9tbxqP5xhgicE52s\\u002fWmCfzccObT8YaVFFHzRuP2NlOdv4Vm8\\u002fh2dVz5Q6cD+uL5WC68ZwP39AzPbzQnE\\u002f9B\\u002flPmR5cT9\\u002fQMz280JxP64vlYLrxnA\\u002fh2dVz5Q6cD9jZTnb+FZvPxhpUUUfNG4\\u002fWmCfzccObT+cYYInBOdrP9C0yv21vGo\\u002f+Rnft1KQaT+sHtEW1WFoPyoRqXUFMWc\\u002fQJmSq\\u002fj9ZT\\u002fX9sBavchkP78rSssakWM\\u002fVsRJzPNWYj8\\u002fcflMWxphP+pY45k8tl8\\u002fnPvKdRgyXT86uwBip61aP25d7MPgLVg\\u002fBJHV4MOxVT\\u002fYC5SdNzpTP2aodxdjyFA\\u002fhQxZnIW2TD9OeOn+ruNHP4ZVSDq3FkM\\u002fSPHEmGecPD+9lYTj\\u002fRAzP+5tKd+KECM\\u002fAAAAAAAAAADubSnfihAjv72VhOP9EDO\\u002fSPHEmGecPL+GVUg6txZDv0546f6u40e\\u002fhQxZnIW2TL9mqHcXY8hQv9gLlJ03OlO\\u002fBJHV4MOxVb9uXezD4C1Yvzq7AGKnrVq\\u002fnPvKdRgyXb\\u002fqWOOZPLZfvz9x+UxbGmG\\u002fVsRJzPNWYr+\\u002fK0rLGpFjv9f2wFq9yGS\\u002fQJmSq\\u002fj9Zb8qEal1BTFnv6we0RbVYWi\\u002f+Rnft1KQab\\u002fQtMr9tbxqv5xhgicE52u\\u002fWmCfzccObb8YaVFFHzRuv2NlOdv4Vm+\\u002fh2dVz5Q6cL+uL5WC68Zwv39AzPbzQnG\\u002f9B\\u002flPmR5cb9\\u002fQMz280Jxv64vlYLrxnC\\u002fh2dVz5Q6cL9jZTnb+FZvvxhpUUUfNG6\\u002fWmCfzccObb+cYYInBOdrv9C0yv21vGq\\u002f+Rnft1KQab+sHtEW1WFovyoRqXUFMWe\\u002fQJmSq\\u002fj9Zb\\u002fX9sBavchkv78rSssakWO\\u002fVsRJzPNWYr8\\u002fcflMWxphv+pY45k8tl+\\u002fnPvKdRgyXb86uwBip61av25d7MPgLVi\\u002fBJHV4MOxVb\\u002fYC5SdNzpTv2aodxdjyFC\\u002fhQxZnIW2TL9OeOn+ruNHv4ZVSDq3FkO\\u002fSPHEmGecPL+9lYTj\\u002fRAzv+5tKd+KECO\\u002fAAAAAAAAAAA=\"},\"xaxis\":\"x\",\"y\":{\"dtype\":\"f8\",\"bdata\":\"rDXNO07RcT+MF7LVns1xP\\u002frltVTGxXE\\u002fdw1dyry5cT\\u002fB3p9VHadxPwQJENIaj3E\\u002fLhd2oH1ycT+1x3rF509xP9Ml\\u002fWH2JXE\\u002fJeRkGG\\u002f2cD8AZxbdG8FwP+N0BLztgnA\\u002fCC1jk0A9cD\\u002fj7uiNBuJvPwTUASIaPW8\\u002ff1N27z+Dbj+QxxcBl7ttPz2q0d8h5mw\\u002fVoBwZcr7az+2FzEM3PpqP6KwHsci6Gk\\u002fI6HsKQ6\\u002faD\\u002fK2X3xdXBnPxpIgHoNB2Y\\u002fnfM9vg6AZD+8pjlP9bJiP+FBkO2hr2A\\u002f5waqOivkXD+mjLkRv8FWP9OBrX7fvlA\\u002fAAAAAAAAAADTga1+375Qv6aMuRG\\u002fwVa\\u002f5waqOivkXL\\u002fhQZDtoa9gv7ymOU\\u002f1smK\\u002fnfM9vg6AZL8aSIB6DQdmv8rZffF1cGe\\u002fI6HsKQ6\\u002faL+isB7HIuhpv7YXMQzc+mq\\u002fVoBwZcr7a789qtHfIeZsv5DHFwGXu22\\u002ff1N27z+Dbr8E1AEiGj1vv+Pu6I0G4m+\\u002fCC1jk0A9cL\\u002fjdAS87YJwvwBnFt0bwXC\\u002fJeRkGG\\u002f2cL\\u002fTJf1h9iVxv7XHesXnT3G\\u002fLhd2oH1ycb8ECRDSGo9xv8Hen1Udp3G\\u002fdw1dyry5cb\\u002f65bVUxsVxv4wXstWezXG\\u002frDXNO07Rcb+MF7LVns1xv\\u002frltVTGxXG\\u002fdw1dyry5cb\\u002fB3p9VHadxvwQJENIaj3G\\u002fLhd2oH1ycb+1x3rF509xv9Ml\\u002fWH2JXG\\u002fJeRkGG\\u002f2cL8AZxbdG8Fwv+N0BLztgnC\\u002fCC1jk0A9cL\\u002fj7uiNBuJvvwTUASIaPW+\\u002ff1N27z+Dbr+QxxcBl7ttvz2q0d8h5my\\u002fVoBwZcr7a7+2FzEM3Ppqv6KwHsci6Gm\\u002fI6HsKQ6\\u002faL\\u002fK2X3xdXBnvxpIgHoNB2a\\u002fnfM9vg6AZL+8pjlP9bJiv+FBkO2hr2C\\u002f5waqOivkXL+mjLkRv8FWv9OBrX7fvlC\\u002fAAAAAAAAAADTga1+375QP6aMuRG\\u002fwVY\\u002f5waqOivkXD\\u002fhQZDtoa9gP7ymOU\\u002f1smI\\u002fnfM9vg6AZD8aSIB6DQdmP8rZffF1cGc\\u002fI6HsKQ6\\u002faD+isB7HIuhpP7YXMQzc+mo\\u002fVoBwZcr7az89qtHfIeZsP5DHFwGXu20\\u002ff1N27z+Dbj8E1AEiGj1vP+Pu6I0G4m8\\u002fCC1jk0A9cD\\u002fjdAS87YJwPwBnFt0bwXA\\u002fJeRkGG\\u002f2cD\\u002fTJf1h9iVxP7XHesXnT3E\\u002fLhd2oH1ycT8ECRDSGo9xP8Hen1Udp3E\\u002fdw1dyry5cT\\u002f65bVUxsVxP4wXstWezXE\\u002frDXNO07RcT8=\"},\"yaxis\":\"y\",\"type\":\"scatter\",\"fill\":\"toself\"}],                        {\"template\":{\"data\":{\"histogram2dcontour\":[{\"type\":\"histogram2dcontour\",\"colorbar\":{\"outlinewidth\":0,\"ticks\":\"\"},\"colorscale\":[[0.0,\"#0d0887\"],[0.1111111111111111,\"#46039f\"],[0.2222222222222222,\"#7201a8\"],[0.3333333333333333,\"#9c179e\"],[0.4444444444444444,\"#bd3786\"],[0.5555555555555556,\"#d8576b\"],[0.6666666666666666,\"#ed7953\"],[0.7777777777777778,\"#fb9f3a\"],[0.8888888888888888,\"#fdca26\"],[1.0,\"#f0f921\"]]}],\"choropleth\":[{\"type\":\"choropleth\",\"colorbar\":{\"outlinewidth\":0,\"ticks\":\"\"}}],\"histogram2d\":[{\"type\":\"histogram2d\",\"colorbar\":{\"outlinewidth\":0,\"ticks\":\"\"},\"colorscale\":[[0.0,\"#0d0887\"],[0.1111111111111111,\"#46039f\"],[0.2222222222222222,\"#7201a8\"],[0.3333333333333333,\"#9c179e\"],[0.4444444444444444,\"#bd3786\"],[0.5555555555555556,\"#d8576b\"],[0.6666666666666666,\"#ed7953\"],[0.7777777777777778,\"#fb9f3a\"],[0.8888888888888888,\"#fdca26\"],[1.0,\"#f0f921\"]]}],\"heatmap\":[{\"type\":\"heatmap\",\"colorbar\":{\"outlinewidth\":0,\"ticks\":\"\"},\"colorscale\":[[0.0,\"#0d0887\"],[0.1111111111111111,\"#46039f\"],[0.2222222222222222,\"#7201a8\"],[0.3333333333333333,\"#9c179e\"],[0.4444444444444444,\"#bd3786\"],[0.5555555555555556,\"#d8576b\"],[0.6666666666666666,\"#ed7953\"],[0.7777777777777778,\"#fb9f3a\"],[0.8888888888888888,\"#fdca26\"],[1.0,\"#f0f921\"]]}],\"contourcarpet\":[{\"type\":\"contourcarpet\",\"colorbar\":{\"outlinewidth\":0,\"ticks\":\"\"}}],\"contour\":[{\"type\":\"contour\",\"colorbar\":{\"outlinewidth\":0,\"ticks\":\"\"},\"colorscale\":[[0.0,\"#0d0887\"],[0.1111111111111111,\"#46039f\"],[0.2222222222222222,\"#7201a8\"],[0.3333333333333333,\"#9c179e\"],[0.4444444444444444,\"#bd3786\"],[0.5555555555555556,\"#d8576b\"],[0.6666666666666666,\"#ed7953\"],[0.7777777777777778,\"#fb9f3a\"],[0.8888888888888888,\"#fdca26\"],[1.0,\"#f0f921\"]]}],\"surface\":[{\"type\":\"surface\",\"colorbar\":{\"outlinewidth\":0,\"ticks\":\"\"},\"colorscale\":[[0.0,\"#0d0887\"],[0.1111111111111111,\"#46039f\"],[0.2222222222222222,\"#7201a8\"],[0.3333333333333333,\"#9c179e\"],[0.4444444444444444,\"#bd3786\"],[0.5555555555555556,\"#d8576b\"],[0.6666666666666666,\"#ed7953\"],[0.7777777777777778,\"#fb9f3a\"],[0.8888888888888888,\"#fdca26\"],[1.0,\"#f0f921\"]]}],\"mesh3d\":[{\"type\":\"mesh3d\",\"colorbar\":{\"outlinewidth\":0,\"ticks\":\"\"}}],\"scatter\":[{\"fillpattern\":{\"fillmode\":\"overlay\",\"size\":10,\"solidity\":0.2},\"type\":\"scatter\"}],\"parcoords\":[{\"type\":\"parcoords\",\"line\":{\"colorbar\":{\"outlinewidth\":0,\"ticks\":\"\"}}}],\"scatterpolargl\":[{\"type\":\"scatterpolargl\",\"marker\":{\"colorbar\":{\"outlinewidth\":0,\"ticks\":\"\"}}}],\"bar\":[{\"error_x\":{\"color\":\"#2a3f5f\"},\"error_y\":{\"color\":\"#2a3f5f\"},\"marker\":{\"line\":{\"color\":\"#E5ECF6\",\"width\":0.5},\"pattern\":{\"fillmode\":\"overlay\",\"size\":10,\"solidity\":0.2}},\"type\":\"bar\"}],\"scattergeo\":[{\"type\":\"scattergeo\",\"marker\":{\"colorbar\":{\"outlinewidth\":0,\"ticks\":\"\"}}}],\"scatterpolar\":[{\"type\":\"scatterpolar\",\"marker\":{\"colorbar\":{\"outlinewidth\":0,\"ticks\":\"\"}}}],\"histogram\":[{\"marker\":{\"pattern\":{\"fillmode\":\"overlay\",\"size\":10,\"solidity\":0.2}},\"type\":\"histogram\"}],\"scattergl\":[{\"type\":\"scattergl\",\"marker\":{\"colorbar\":{\"outlinewidth\":0,\"ticks\":\"\"}}}],\"scatter3d\":[{\"type\":\"scatter3d\",\"line\":{\"colorbar\":{\"outlinewidth\":0,\"ticks\":\"\"}},\"marker\":{\"colorbar\":{\"outlinewidth\":0,\"ticks\":\"\"}}}],\"scattermap\":[{\"type\":\"scattermap\",\"marker\":{\"colorbar\":{\"outlinewidth\":0,\"ticks\":\"\"}}}],\"scattermapbox\":[{\"type\":\"scattermapbox\",\"marker\":{\"colorbar\":{\"outlinewidth\":0,\"ticks\":\"\"}}}],\"scatterternary\":[{\"type\":\"scatterternary\",\"marker\":{\"colorbar\":{\"outlinewidth\":0,\"ticks\":\"\"}}}],\"scattercarpet\":[{\"type\":\"scattercarpet\",\"marker\":{\"colorbar\":{\"outlinewidth\":0,\"ticks\":\"\"}}}],\"carpet\":[{\"aaxis\":{\"endlinecolor\":\"#2a3f5f\",\"gridcolor\":\"white\",\"linecolor\":\"white\",\"minorgridcolor\":\"white\",\"startlinecolor\":\"#2a3f5f\"},\"baxis\":{\"endlinecolor\":\"#2a3f5f\",\"gridcolor\":\"white\",\"linecolor\":\"white\",\"minorgridcolor\":\"white\",\"startlinecolor\":\"#2a3f5f\"},\"type\":\"carpet\"}],\"table\":[{\"cells\":{\"fill\":{\"color\":\"#EBF0F8\"},\"line\":{\"color\":\"white\"}},\"header\":{\"fill\":{\"color\":\"#C8D4E3\"},\"line\":{\"color\":\"white\"}},\"type\":\"table\"}],\"barpolar\":[{\"marker\":{\"line\":{\"color\":\"#E5ECF6\",\"width\":0.5},\"pattern\":{\"fillmode\":\"overlay\",\"size\":10,\"solidity\":0.2}},\"type\":\"barpolar\"}],\"pie\":[{\"automargin\":true,\"type\":\"pie\"}]},\"layout\":{\"autotypenumbers\":\"strict\",\"colorway\":[\"#636efa\",\"#EF553B\",\"#00cc96\",\"#ab63fa\",\"#FFA15A\",\"#19d3f3\",\"#FF6692\",\"#B6E880\",\"#FF97FF\",\"#FECB52\"],\"font\":{\"color\":\"#2a3f5f\"},\"hovermode\":\"closest\",\"hoverlabel\":{\"align\":\"left\"},\"paper_bgcolor\":\"white\",\"plot_bgcolor\":\"#E5ECF6\",\"polar\":{\"bgcolor\":\"#E5ECF6\",\"angularaxis\":{\"gridcolor\":\"white\",\"linecolor\":\"white\",\"ticks\":\"\"},\"radialaxis\":{\"gridcolor\":\"white\",\"linecolor\":\"white\",\"ticks\":\"\"}},\"ternary\":{\"bgcolor\":\"#E5ECF6\",\"aaxis\":{\"gridcolor\":\"white\",\"linecolor\":\"white\",\"ticks\":\"\"},\"baxis\":{\"gridcolor\":\"white\",\"linecolor\":\"white\",\"ticks\":\"\"},\"caxis\":{\"gridcolor\":\"white\",\"linecolor\":\"white\",\"ticks\":\"\"}},\"coloraxis\":{\"colorbar\":{\"outlinewidth\":0,\"ticks\":\"\"}},\"colorscale\":{\"sequential\":[[0.0,\"#0d0887\"],[0.1111111111111111,\"#46039f\"],[0.2222222222222222,\"#7201a8\"],[0.3333333333333333,\"#9c179e\"],[0.4444444444444444,\"#bd3786\"],[0.5555555555555556,\"#d8576b\"],[0.6666666666666666,\"#ed7953\"],[0.7777777777777778,\"#fb9f3a\"],[0.8888888888888888,\"#fdca26\"],[1.0,\"#f0f921\"]],\"sequentialminus\":[[0.0,\"#0d0887\"],[0.1111111111111111,\"#46039f\"],[0.2222222222222222,\"#7201a8\"],[0.3333333333333333,\"#9c179e\"],[0.4444444444444444,\"#bd3786\"],[0.5555555555555556,\"#d8576b\"],[0.6666666666666666,\"#ed7953\"],[0.7777777777777778,\"#fb9f3a\"],[0.8888888888888888,\"#fdca26\"],[1.0,\"#f0f921\"]],\"diverging\":[[0,\"#8e0152\"],[0.1,\"#c51b7d\"],[0.2,\"#de77ae\"],[0.3,\"#f1b6da\"],[0.4,\"#fde0ef\"],[0.5,\"#f7f7f7\"],[0.6,\"#e6f5d0\"],[0.7,\"#b8e186\"],[0.8,\"#7fbc41\"],[0.9,\"#4d9221\"],[1,\"#276419\"]]},\"xaxis\":{\"gridcolor\":\"white\",\"linecolor\":\"white\",\"ticks\":\"\",\"title\":{\"standoff\":15},\"zerolinecolor\":\"white\",\"automargin\":true,\"zerolinewidth\":2},\"yaxis\":{\"gridcolor\":\"white\",\"linecolor\":\"white\",\"ticks\":\"\",\"title\":{\"standoff\":15},\"zerolinecolor\":\"white\",\"automargin\":true,\"zerolinewidth\":2},\"scene\":{\"xaxis\":{\"backgroundcolor\":\"#E5ECF6\",\"gridcolor\":\"white\",\"linecolor\":\"white\",\"showbackground\":true,\"ticks\":\"\",\"zerolinecolor\":\"white\",\"gridwidth\":2},\"yaxis\":{\"backgroundcolor\":\"#E5ECF6\",\"gridcolor\":\"white\",\"linecolor\":\"white\",\"showbackground\":true,\"ticks\":\"\",\"zerolinecolor\":\"white\",\"gridwidth\":2},\"zaxis\":{\"backgroundcolor\":\"#E5ECF6\",\"gridcolor\":\"white\",\"linecolor\":\"white\",\"showbackground\":true,\"ticks\":\"\",\"zerolinecolor\":\"white\",\"gridwidth\":2}},\"shapedefaults\":{\"line\":{\"color\":\"#2a3f5f\"}},\"annotationdefaults\":{\"arrowcolor\":\"#2a3f5f\",\"arrowhead\":0,\"arrowwidth\":1},\"geo\":{\"bgcolor\":\"white\",\"landcolor\":\"#E5ECF6\",\"subunitcolor\":\"white\",\"showland\":true,\"showlakes\":true,\"lakecolor\":\"white\"},\"title\":{\"x\":0.05},\"mapbox\":{\"style\":\"light\"}}},\"xaxis\":{\"anchor\":\"y\",\"domain\":[0.0,1.0],\"title\":{\"text\":\"z\"}},\"yaxis\":{\"anchor\":\"x\",\"domain\":[0.0,1.0],\"title\":{\"text\":\"y\"},\"scaleanchor\":\"x\",\"scaleratio\":1},\"legend\":{\"tracegroupgap\":0},\"margin\":{\"t\":60},\"width\":640,\"height\":480},                        {\"responsive\": true}                    )                };            </script>        </div></td></tr><tr><td style='text-align: left'><details><summary style='font-weight:bold'>Polygon</summary><table><tr><td style='text-align:left'>area</td><td>5.896220122998807e-05</td></tr><tr><td style='text-align:left'>height</td><td>0.008700000000000006</td></tr><tr><td style='text-align:left'>perimeter</td><td>0.027243885509781032</td></tr><tr><td style='text-align:left'>width</td><td>0.008532317323115969</td></tr></table></details></td></tr></table></td></tr><tr><td style='text-align:left'>length</td><td>5208.7339449078745</td></tr><tr><td style='text-align:left'>material</td><td><table style='margin:0'><tr><td>&#x27;BST500&#x27;</td></tr><tr><td>&#x27;steel&#x27;</td></tr></table></td></tr><tr><td style='text-align:left'>ring_temperatures</td><td>array([1564.02461989, 1561.13466478, 1552.47023573, 1538.03228003,\n",
       "       1517.78168798, 1491.70612299, 1460.17725746, 1424.73026868,\n",
       "       1388.99526951, 1358.82742219, 1340.17168701])</td></tr><tr><td style='text-align:left'>strain</td><td>np.float64(0.520194900008893)</td></tr><tr><td style='text-align:left'>surface_temperature</td><td>np.float64(1340.1716870065236)</td></tr><tr><td style='text-align:left'>t</td><td>np.float64(36.854174411047744)</td></tr><tr><td style='text-align:left'>temperature</td><td>np.float64(1423.7200086555574)</td></tr><tr><td style='text-align:left'>weight</td><td>2400</td></tr><tr><td style='text-align:left'>width</td><td>np.float64(0.008532317323115969)</td></tr></table></details></td></tr></table>"
      ]
     },
     "execution_count": 11,
     "metadata": {},
     "output_type": "execute_result"
    }
   ],
   "execution_count": 11
  },
  {
   "metadata": {
    "ExecuteTime": {
     "end_time": "2025-06-10T10:55:56.488599Z",
     "start_time": "2025-06-10T10:55:56.485907Z"
    }
   },
   "cell_type": "code",
   "source": [
    "def extract_wear_contours_from_measurement(groove_name):\n",
    "    root_dir = Path.cwd()\n",
    "    wear_data_dir = root_dir / \"wear_data\" / groove_name\n",
    "\n",
    "    labels = []\n",
    "    tonnages = []\n",
    "    measured_wear_contours = []\n",
    "\n",
    "    for file in wear_data_dir.iterdir():\n",
    "        with open(file, \"r\") as file:\n",
    "            data = json.load(file)\n",
    "\n",
    "        for entry in data[\"wear_data\"]:\n",
    "            labels.append(entry[\"stand\"])\n",
    "            tonnages.append(entry[\"tonnage\"])\n",
    "            x_values = np.array([point[\"x\"] * 1e-3 for point in entry[\"wear_contour\"]])\n",
    "            y_values = np.array([point[\"y\"] * 1e-3 for point in entry[\"wear_contour\"]])\n",
    "            x_values_shifted = x_values - max(x_values) / 2\n",
    "            measured_wear_contour = LineString(list(zip(x_values_shifted, y_values)))\n",
    "            measured_wear_contours.append(measured_wear_contour)\n",
    "\n",
    "        return labels, tonnages, measured_wear_contours"
   ],
   "id": "87188d56b666e42b",
   "outputs": [],
   "execution_count": 12
  },
  {
   "metadata": {
    "ExecuteTime": {
     "end_time": "2025-06-10T10:56:11.372317Z",
     "start_time": "2025-06-10T10:56:11.369816Z"
    }
   },
   "cell_type": "code",
   "source": [
    "def solve_total_wear_depths_as_contour_line(params):\n",
    "    sequences = [\n",
    "        {\n",
    "            \"label\": \"e11_2\",\n",
    "            \"sequence\": rolling_train_e112\n",
    "        },\n",
    "        {\n",
    "            \"label\": \"e10_7\",\n",
    "            \"sequence\": rolling_train_e107\n",
    "        }\n",
    "    ]\n",
    "\n",
    "    area_errors = []\n",
    "    wear_coefficient = params['wear_coefficient'].value\n",
    "\n",
    "    for dict in sequences:\n",
    "        roll_passes = dict[\"sequence\"].roll_passes\n",
    "        for roll_pass in roll_passes:\n",
    "            labels, tonnages, measured_wear_contours = extract_wear_contours_from_measurement(dict[\"label\"])\n",
    "            for label, tonnage, measured_wear_contour in zip(labels, tonnages, measured_wear_contours):\n",
    "                if roll_pass.label == label:\n",
    "                    calculated_wear_contour = calculate_wear_contour(roll_pass, wear_coefficient, tonnage * 1000)\n",
    "                    area_error = calculate_area_between_contours(calculated_wear_contour, measured_wear_contour)\n",
    "\n",
    "                    area_errors.append(area_error)\n",
    "                else:\n",
    "                    continue\n",
    "    print(area_errors)\n",
    "    rms_error = root_mean_square_value(np.array(area_errors))\n",
    "    print(\"RMS Error: \", rms_error)\n",
    "    return rms_error\n"
   ],
   "id": "22e82b3857c95d90",
   "outputs": [],
   "execution_count": 13
  },
  {
   "metadata": {
    "ExecuteTime": {
     "end_time": "2025-06-10T10:56:26.472172Z",
     "start_time": "2025-06-10T10:56:26.469073Z"
    }
   },
   "cell_type": "code",
   "source": [
    "params = Parameters()\n",
    "params.add('wear_coefficient', value=1e-6, min=1e-10, max=1e-3, vary=True)"
   ],
   "id": "6a0b6f2d8a3c457",
   "outputs": [],
   "execution_count": 14
  },
  {
   "metadata": {
    "ExecuteTime": {
     "end_time": "2025-06-10T10:57:11.828942Z",
     "start_time": "2025-06-10T10:56:55.538067Z"
    }
   },
   "cell_type": "code",
   "source": [
    "result = minimize(\n",
    "    solve_total_wear_depths_as_contour_line,\n",
    "    params,\n",
    "    nan_policy='omit',\n",
    "    max_nfev=100,\n",
    "    method=\"least_squares\"\n",
    "    #method=\"cobyla\"\n",
    ")"
   ],
   "id": "ea78e32cea3cb9fc",
   "outputs": [
    {
     "name": "stdout",
     "output_type": "stream",
     "text": [
      "[np.float64(0.016860056411351323), np.float64(0.010242162329654846), np.float64(0.047391692095124935), np.float64(0.010852149667409258), np.float64(0.02330440026675892), np.float64(0.009021438173621835), np.float64(0.017006147722649), np.float64(0.008283567594700399), np.float64(0.00916502281013381), np.float64(0.005325686148000485), np.float64(0.010864787856011167), np.float64(0.009815914370343614), np.float64(0.006643524186903544), np.float64(0.008032536829695711), np.float64(0.00491491035087566), np.float64(0.004977521965445099)]\n",
      "RMS Error:  0.01623953411191651\n",
      "[np.float64(0.017111312595946594), np.float64(0.010394796296688902), np.float64(0.048097977817959485), np.float64(0.011013862098912747), np.float64(0.023651705284711447), np.float64(0.009155885360842374), np.float64(0.01725960483014659), np.float64(0.008407010079350227), np.float64(0.009302451656818358), np.float64(0.005405202917817698), np.float64(0.011027271961145713), np.float64(0.00996234360663308), np.float64(0.006742882749045232), np.float64(0.008152312219412332), np.float64(0.004988386068582268), np.float64(0.005051742909959155)]\n",
      "RMS Error:  0.016481630344566792\n",
      "[np.float64(0.008431605660978824), np.float64(0.0051220182183654445), np.float64(0.023699163132340093), np.float64(0.005427466223912428), np.float64(0.011653967685824036), np.float64(0.00451137408170792), np.float64(0.008503866470084245), np.float64(0.00414265907282731), np.float64(0.004554938215292729), np.float64(0.002658276470850988), np.float64(0.005414218430025173), np.float64(0.0049039094839028385), np.float64(0.0033105166870563514), np.float64(0.004014641807691095), np.float64(0.002450149258383635), np.float64(0.00248776205569195)]\n",
      "RMS Error:  0.008118361295109542\n",
      "[np.float64(0.008682861845574095), np.float64(0.0052746521853995), np.float64(0.024405448855174643), np.float64(0.005589178655415917), np.float64(0.012001272703776563), np.float64(0.004645821268928459), np.float64(0.008757323577581836), np.float64(0.004266101524754438), np.float64(0.004692367061977276), np.float64(0.0027377932406682003), np.float64(0.005576702535159719), np.float64(0.005050338720192306), np.float64(0.0034098752491980374), np.float64(0.004134417197407716), np.float64(0.0025236249760902424), np.float64(0.002561983000206004)]\n",
      "RMS Error:  0.008360457093978568\n",
      "[np.float64(0.004217375443499132), np.float64(0.00256194322110775), np.float64(0.011852885039172386), np.float64(0.002715121385587808), np.float64(0.0058287447019778294), np.float64(0.0022563394446396884), np.float64(0.004252720959091502), np.float64(0.0020722029291544266), np.float64(0.002249893269297372), np.float64(0.0013245700998023879), np.float64(0.0026889305855840166), np.float64(0.0024479042186491095), np.float64(0.0016440110222612284), np.float64(0.002005691988337313), np.float64(0.0012177672960889522), np.float64(0.0012428806704044444)]\n",
      "RMS Error:  0.004057785265601031\n",
      "[np.float64(0.004468631628094402), np.float64(0.002714577188141805), np.float64(0.012559170762006938), np.float64(0.0028768338170912966), np.float64(0.006176049719930358), np.float64(0.002390786631860227), np.float64(0.004506178066589093), np.float64(0.0021956453810815543), np.float64(0.0023873221159819193), np.float64(0.001404086869619601), np.float64(0.0028514146907185627), np.float64(0.002594333454938577), np.float64(0.0017433695844029143), np.float64(0.002125467378053934), np.float64(0.0012912430137955598), np.float64(0.0013171016149184994)]\n",
      "RMS Error:  0.004299879388949804\n",
      "[np.float64(0.0021102508645340504), np.float64(0.001281899969474061), np.float64(0.005929719371612472), np.float64(0.0013589428712396127), np.float64(0.002916120119603835), np.float64(0.0011288178957391635), np.float64(0.002127138650413785), np.float64(0.0010369707085328167), np.float64(0.0010973656163988123), np.float64(0.0006577139171708871), np.float64(0.0013262805390920089), np.float64(0.0012198960668830807), np.float64(0.0008107544448893328), np.float64(0.0010012125641450076), np.float64(0.0006015735455307918), np.float64(0.0006204371802611484)]\n",
      "RMS Error:  0.0020275182651399858\n",
      "[np.float64(0.0023615070491293205), np.float64(0.001434533936508116), np.float64(0.006636005094447022), np.float64(0.0015206553027431017), np.float64(0.0032634251375563634), np.float64(0.0012632648154808478), np.float64(0.002380595757911376), np.float64(0.0011604130950145454), np.float64(0.00123479446308336), np.float64(0.0007372306869880996), np.float64(0.0014887646442265552), np.float64(0.0013663253031725477), np.float64(0.0009101130070310187), np.float64(0.001120987953861628), np.float64(0.0006750492632373995), np.float64(0.000694658124775203)]\n",
      "RMS Error:  0.0022696060809886745\n",
      "[np.float64(0.001056670301369094), np.float64(0.0006418672426980739), np.float64(0.0029680851701775657), np.float64(0.000680841852836152), np.float64(0.0014597825691715395), np.float64(0.0005650480460719324), np.float64(0.001064329062320964), np.float64(0.0005193460017561566), np.float64(0.0005210917948479071), np.float64(0.00032428004265739853), np.float64(0.0006449436984933707), np.float64(0.0006058813413065485), np.float64(0.00039411892992629737), np.float64(0.0004989641408705153), np.float64(0.00029347132641536854), np.float64(0.00030921003715334494)]\n",
      "RMS Error:  0.0010124275265763541\n",
      "[np.float64(0.0013079264859643639), np.float64(0.0007945012097321291), np.float64(0.0036743708930121162), np.float64(0.000842554284339641), np.float64(0.0018070875871240679), np.float64(0.0006994949658136165), np.float64(0.0013177861698185549), np.float64(0.0006427881841112467), np.float64(0.0006585206415324546), np.float64(0.0004037968124746112), np.float64(0.0008074278036279172), np.float64(0.0007523105775960156), np.float64(0.0004934774920679832), np.float64(0.0006187395305871358), np.float64(0.0003669470441219762), np.float64(0.00038343098166739964)]\n",
      "RMS Error:  0.0012544929029608342\n",
      "[np.float64(0.0005298458597171111), np.float64(0.0003218301276341326), np.float64(0.0014871720448809734), np.float64(0.0003417693576765085), np.float64(0.0007315665753622587), np.float64(0.000283144842221104), np.float64(0.0005328898089738901), np.float64(0.0002605171140204041), np.float64(0.00023293619964101557), np.float64(0.00015755229452892153), np.float64(0.00030425318732160727), np.float64(0.0002988540704197128), np.float64(0.00018578766393992789), np.float64(0.00024782364491515686), np.float64(0.00013941022731002526), np.float64(0.00015358637473291447)]\n",
      "RMS Error:  0.0005049704805205015\n",
      "[np.float64(0.0007811020443123811), np.float64(0.0004744640946681878), np.float64(0.0021934577677155233), np.float64(0.0005034817891799977), np.float64(0.001078871593314787), np.float64(0.0004175917619627882), np.float64(0.0007863469164714809), np.float64(0.00038395929637549426), np.float64(0.00037036504632556296), np.float64(0.00023706906434613418), np.float64(0.0004667372924561537), np.float64(0.00044528330670917985), np.float64(0.00028514622608161384), np.float64(0.0003675990346317773), np.float64(0.00021288594501663293), np.float64(0.0002278073192469692)]\n",
      "RMS Error:  0.0007469624920886111\n",
      "[np.float64(0.0002663719015981418), np.float64(0.0001617740657201052), np.float64(0.0007465419375747928), np.float64(0.00017219337500408406), np.float64(0.00036737324057158543), np.float64(0.00014216020473524203), np.float64(0.00026710790420865895), np.float64(0.000131072421847948), np.float64(8.882463377437237e-05), np.float64(7.430524523088287e-05), np.float64(0.00013386800703170645), np.float64(0.00014530445518667944), np.float64(8.159761710526625e-05), np.float64(0.00012222396638499834), np.float64(6.236162370659213e-05), np.float64(7.575630635888996e-05)]\n",
      "RMS Error:  0.00025142959593472974\n",
      "[np.float64(0.0005176280861934118), np.float64(0.00031440803275416046), np.float64(0.0014528276604093432), np.float64(0.00033390580650757314), np.float64(0.0007146782585241137), np.float64(0.0002766071244769263), np.float64(0.0005205650117062499), np.float64(0.000254514520970943), np.float64(0.00022625348045891976), np.float64(0.00015368565185691017), np.float64(0.0002963521121662529), np.float64(0.0002917336914761465), np.float64(0.00018095617924695215), np.float64(0.0002419993561016188), np.float64(0.00013583734141319983), np.float64(0.00014997725087294463)]\n",
      "RMS Error:  0.0004932058049676009\n",
      "[np.float64(0.0001345244552269057), np.float64(8.167892770243402e-05), np.float64(0.00037591635829123664), np.float64(8.7334460507489e-05), np.float64(0.00018512387702768315), np.float64(7.161050676595109e-05), np.float64(0.00013410551685637433), np.float64(6.629681415270595e-05), np.float64(3.5490516078655065e-05), np.float64(4.15186965798306e-05), np.float64(4.910755286981135e-05), np.float64(6.846526848185985e-05), np.float64(3.054843760438104e-05), np.float64(5.9371466663670866e-05), np.float64(2.3850754039166786e-05), np.float64(3.680864018620407e-05)]\n",
      "RMS Error:  0.00012548692676922957\n",
      "[np.float64(0.00038578063982217567), np.float64(0.00023431289473648925), np.float64(0.0010822020811257869), np.float64(0.0002490467166723777), np.float64(0.0005324288949802115), np.float64(0.00020605569479182666), np.float64(0.0003875626243539651), np.float64(0.00018973789539692315), np.float64(0.00015413727554922059), np.float64(0.0001119589852637001), np.float64(0.00021108808424823638), np.float64(0.0002148945047713269), np.float64(0.0001288174718372175), np.float64(0.00017914685638029126), np.float64(9.728073527228012e-05), np.float64(0.00011102958470025875)]\n",
      "RMS Error:  0.0003662793648137881\n",
      "[np.float64(6.822548549240864e-05), np.float64(4.140333794849115e-05), np.float64(0.0001895483114877331), np.float64(4.466390440745059e-05), np.float64(9.348028896094421e-05), np.float64(3.6137646029887216e-05), np.float64(6.722584884728663e-05), np.float64(3.372624644703023e-05), np.float64(3.702297256149887e-05), np.float64(3.344216239808916e-05), np.float64(2.5750165566940267e-05), np.float64(3.3134738088621503e-05), np.float64(1.6744064908159892e-05), np.float64(2.7766261128680763e-05), np.float64(9.547067258256546e-06), np.float64(1.7223914042396853e-05)]\n",
      "RMS Error:  6.407166282722605e-05\n",
      "[np.float64(0.00031948151631392633), np.float64(0.0001940372762547168), np.float64(0.0008958340343222833), np.float64(0.00020637555820382324), np.float64(0.00044078530691347257), np.float64(0.00017057910363202676), np.float64(0.0003206827419697974), np.float64(0.000157165157971325), np.float64(0.0001178738414983853), np.float64(9.097684644956298e-05), np.float64(0.00016821330378543754), np.float64(0.00017625613239608722), np.float64(0.0001025996671147394), np.float64(0.00014754165084530119), np.float64(7.789265258315314e-05), np.float64(9.144485855645155e-05)]\n",
      "RMS Error:  0.00030249103746712435\n",
      "[np.float64(6.822548549240864e-05), np.float64(4.140333794849115e-05), np.float64(0.0001895483114877331), np.float64(4.466390440745059e-05), np.float64(9.348028896094421e-05), np.float64(3.6137646029887216e-05), np.float64(6.722584884728663e-05), np.float64(3.372624644703023e-05), np.float64(3.702297256149887e-05), np.float64(3.344216239808916e-05), np.float64(2.5750165566940267e-05), np.float64(3.3134738088621503e-05), np.float64(1.6744064908159892e-05), np.float64(2.7766261128680763e-05), np.float64(9.547067258256546e-06), np.float64(1.7223914042396853e-05)]\n",
      "RMS Error:  6.407166282722605e-05\n"
     ]
    }
   ],
   "execution_count": 15
  },
  {
   "metadata": {
    "ExecuteTime": {
     "end_time": "2025-06-10T10:57:26.942820Z",
     "start_time": "2025-06-10T10:57:26.940316Z"
    }
   },
   "cell_type": "code",
   "source": "result.params",
   "id": "384a138139ac9e81",
   "outputs": [
    {
     "data": {
      "text/plain": [
       "Parameters([('wear_coefficient', <Parameter 'wear_coefficient', value=np.float64(4.132845284884514e-09) +/- 4e-09, bounds=[1e-10:0.001]>)])"
      ],
      "text/html": [
       "<table class=\"jp-toc-ignore\"><caption>Parameters</caption><tr><th style='text-align:left'>name</th><th style='text-align:left'>value</th><th style='text-align:left'>standard error</th><th style='text-align:left'>relative error</th><th style='text-align:left'>initial value</th><th style='text-align:left'>min</th><th style='text-align:left'>max</th><th style='text-align:right'>vary</th></tr><tr><td style='text-align:left'>wear_coefficient</td><td style='text-align:left'> 4.1328e-09</td><td style='text-align:left'> 4.0045e-09</td><td style='text-align:left'>(96.89%)</td><td style='text-align:left'>1e-06</td><td style='text-align:left'> 1.0000e-10</td><td style='text-align:left'> 1.0000e-03</td><td style='text-align:right'>True</td></tr></table>"
      ]
     },
     "execution_count": 16,
     "metadata": {},
     "output_type": "execute_result"
    }
   ],
   "execution_count": 16
  },
  {
   "metadata": {
    "ExecuteTime": {
     "end_time": "2025-06-10T10:57:42.048897Z",
     "start_time": "2025-06-10T10:57:42.046665Z"
    }
   },
   "cell_type": "code",
   "source": "result",
   "id": "7289d4efa3fcf8f0",
   "outputs": [
    {
     "data": {
      "text/plain": [
       "<lmfit.minimizer.MinimizerResult at 0x7b49a0110c20>"
      ],
      "text/html": [
       "<h2>Fit Result</h2> <table class=\"jp-toc-ignore\"><caption class=\"jp-toc-ignore\">Fit Statistics</caption><tr><td style='text-align:left'>fitting method</td><td style='text-align:right'>least_squares</td></tr><tr><td style='text-align:left'># function evals</td><td style='text-align:right'>18</td></tr><tr><td style='text-align:left'># data points</td><td style='text-align:right'>1</td></tr><tr><td style='text-align:left'># variables</td><td style='text-align:right'>1</td></tr><tr><td style='text-align:left'>chi-square</td><td style='text-align:right'> 4.1052e-09</td></tr><tr><td style='text-align:left'>reduced chi-square</td><td style='text-align:right'> 4.1052e-09</td></tr><tr><td style='text-align:left'>Akaike info crit.</td><td style='text-align:right'>-17.3110167</td></tr><tr><td style='text-align:left'>Bayesian info crit.</td><td style='text-align:right'>-19.3110167</td></tr></table><table class=\"jp-toc-ignore\"><caption>Parameters</caption><tr><th style='text-align:left'>name</th><th style='text-align:left'>value</th><th style='text-align:left'>standard error</th><th style='text-align:left'>relative error</th><th style='text-align:left'>initial value</th><th style='text-align:left'>min</th><th style='text-align:left'>max</th><th style='text-align:right'>vary</th></tr><tr><td style='text-align:left'>wear_coefficient</td><td style='text-align:left'> 4.1328e-09</td><td style='text-align:left'> 4.0045e-09</td><td style='text-align:left'>(96.89%)</td><td style='text-align:left'>1e-06</td><td style='text-align:left'> 1.0000e-10</td><td style='text-align:left'> 1.0000e-03</td><td style='text-align:right'>True</td></tr></table>"
      ]
     },
     "execution_count": 17,
     "metadata": {},
     "output_type": "execute_result"
    }
   ],
   "execution_count": 17
  },
  {
   "metadata": {
    "ExecuteTime": {
     "end_time": "2025-06-10T11:00:38.163675Z",
     "start_time": "2025-06-10T11:00:37.402947Z"
    }
   },
   "cell_type": "code",
   "source": "result.fit_report()",
   "id": "7e9eb68026d8a668",
   "outputs": [
    {
     "ename": "AttributeError",
     "evalue": "'MinimizerResult' object has no attribute 'fit_report'",
     "output_type": "error",
     "traceback": [
      "\u001B[31m---------------------------------------------------------------------------\u001B[39m",
      "\u001B[31mAttributeError\u001B[39m                            Traceback (most recent call last)",
      "\u001B[36mCell\u001B[39m\u001B[36m \u001B[39m\u001B[32mIn[18]\u001B[39m\u001B[32m, line 1\u001B[39m\n\u001B[32m----> \u001B[39m\u001B[32m1\u001B[39m \u001B[43mresult\u001B[49m\u001B[43m.\u001B[49m\u001B[43mfit_report\u001B[49m()\n",
      "\u001B[31mAttributeError\u001B[39m: 'MinimizerResult' object has no attribute 'fit_report'"
     ]
    }
   ],
   "execution_count": 18
  },
  {
   "metadata": {
    "ExecuteTime": {
     "end_time": "2025-06-10T11:41:46.390288Z",
     "start_time": "2025-06-10T11:41:46.383710Z"
    }
   },
   "cell_type": "code",
   "source": [
    "for roll_pass in rolling_train_e107.roll_passes:\n",
    "    print(roll_pass.label)\n",
    "    print(roll_pass.elongation)"
   ],
   "id": "c443df729127cc2",
   "outputs": [
    {
     "name": "stdout",
     "output_type": "stream",
     "text": [
      "A\n",
      "1.332721444396918\n",
      "B\n",
      "1.2676741917624201\n",
      "1\n",
      "1.4148755445109202\n",
      "2\n",
      "1.2721075360738472\n",
      "3\n",
      "1.3431342336241443\n",
      "4\n",
      "1.295319732453617\n",
      "5\n",
      "1.2694938287140918\n",
      "6\n",
      "1.2086014744540545\n",
      "7\n",
      "1.300440193519346\n",
      "8\n",
      "1.2055568625036193\n",
      "9\n",
      "1.3703432274493266\n",
      "10\n",
      "1.2652280845613628\n",
      "11\n",
      "1.3547292905376056\n",
      "12\n",
      "1.2209624253366764\n",
      "13\n",
      "1.329132080637813\n",
      "14\n",
      "1.1957896857909633\n",
      "17-H\n",
      "1.3163849710650921\n",
      "18-V\n",
      "1.1799461031839393\n",
      "21-H\n",
      "1.3748433264386175\n",
      "22-V\n",
      "1.2019025294343542\n",
      "23-H\n",
      "1.3529498625258818\n",
      "24-V\n",
      "1.296311857760552\n",
      "27-H\n",
      "1.300416795126196\n",
      "28-V\n",
      "1.2783694269760837\n"
     ]
    }
   ],
   "execution_count": 19
  },
  {
   "metadata": {},
   "cell_type": "code",
   "outputs": [],
   "execution_count": null,
   "source": "",
   "id": "beb2212cf4cb4921"
  }
 ],
 "metadata": {
  "jupytext": {
   "formats": "ipynb,md"
  },
  "kernelspec": {
   "display_name": "Python 3 (ipykernel)",
   "language": "python",
   "name": "python3"
  },
  "language_info": {
   "codemirror_mode": {
    "name": "ipython",
    "version": 3
   },
   "file_extension": ".py",
   "mimetype": "text/x-python",
   "name": "python",
   "nbconvert_exporter": "python",
   "pygments_lexer": "ipython3",
   "version": "3.12.7"
  }
 },
 "nbformat": 4,
 "nbformat_minor": 5
}
