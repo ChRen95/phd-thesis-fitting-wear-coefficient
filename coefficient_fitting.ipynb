{
 "cells": [
  {
   "metadata": {
    "ExecuteTime": {
     "end_time": "2025-06-02T19:27:51.444026Z",
     "start_time": "2025-06-02T19:27:50.956316Z"
    }
   },
   "cell_type": "code",
   "source": [
    "from lmfit import minimize\n",
    "from lmfit import Parameters"
   ],
   "id": "23a9b33121736c1b",
   "outputs": [],
   "execution_count": 1
  },
  {
   "metadata": {
    "ExecuteTime": {
     "end_time": "2025-06-02T19:27:52.600570Z",
     "start_time": "2025-06-02T19:27:52.394704Z"
    }
   },
   "cell_type": "code",
   "source": [
    "import pyroll.core as pr\n",
    "import pyroll.pillar_model\n",
    "import pyroll.neutral_point_estimator\n",
    "import pyroll.sparling_spreading\n",
    "import pyroll.hensel_force_torque\n",
    "import pyroll.freiberg_flow_stress\n",
    "import pyroll.ring_model_thermal"
   ],
   "id": "c2430fe7953713d9",
   "outputs": [],
   "execution_count": 2
  },
  {
   "metadata": {
    "ExecuteTime": {
     "end_time": "2025-06-02T19:27:53.337452Z",
     "start_time": "2025-06-02T19:27:53.322870Z"
    }
   },
   "cell_type": "code",
   "source": [
    "from in_profile import create_in_profile_from_surface_temperature\n",
    "from rolling_sequence import roughing_sequence, intermediate_sequence, finishing_sequence_e112, finishing_sequence_e107\n",
    "from utilities import *"
   ],
   "id": "d8df741abd82231b",
   "outputs": [],
   "execution_count": 3
  },
  {
   "metadata": {
    "ExecuteTime": {
     "end_time": "2025-06-02T19:27:55.627580Z",
     "start_time": "2025-06-02T19:27:55.624521Z"
    }
   },
   "cell_type": "code",
   "source": [
    "pyroll.pillar_model.Config.PILLAR_COUNT = 30\n",
    "pyroll.neutral_point_estimator.Config.ESTIMATOR = \"EQUAL\"\n",
    "ROLL_SURFACE_TEMPERATURE = 50 + 273.15\n",
    "DISK_ELEMENT_COUNT = 30"
   ],
   "id": "882e05f0ff0e3b05",
   "outputs": [],
   "execution_count": 4
  },
  {
   "metadata": {
    "ExecuteTime": {
     "end_time": "2025-06-02T19:27:56.717030Z",
     "start_time": "2025-06-02T19:27:56.712748Z"
    }
   },
   "cell_type": "code",
   "source": [
    "@pr.CoolingPipe.DiskElement.heat_transfer_coefficient\n",
    "def heat_transfer_coefficient_model_moreales(self: pr.CoolingPipe.DiskElement):\n",
    "    mean_surface_temperature = (self.in_profile.surface_temperature + self.out_profile.surface_temperature) / 2\n",
    "    profile_surface_temperature_celsius = mean_surface_temperature - 273.15\n",
    "    return 13950 + 5.12 * 1e6 / profile_surface_temperature_celsius"
   ],
   "id": "bec0683651946559",
   "outputs": [],
   "execution_count": 5
  },
  {
   "metadata": {
    "ExecuteTime": {
     "end_time": "2025-06-02T19:27:57.659364Z",
     "start_time": "2025-06-02T19:27:57.654927Z"
    }
   },
   "cell_type": "code",
   "source": [
    "in_profile = create_in_profile_from_surface_temperature(1050 + 273.15)\n",
    "in_profile.ring_temperatures = in_profile.ring_temperatures"
   ],
   "id": "ac729b2907c199de",
   "outputs": [],
   "execution_count": 6
  },
  {
   "metadata": {
    "ExecuteTime": {
     "end_time": "2025-06-02T19:27:58.580063Z",
     "start_time": "2025-06-02T19:27:58.567612Z"
    }
   },
   "cell_type": "code",
   "source": [
    "roughing_train = roughing_sequence(\n",
    "    roll_surface_temperature=ROLL_SURFACE_TEMPERATURE,\n",
    "    disk_element_count=DISK_ELEMENT_COUNT\n",
    ")\n",
    "\n",
    "intermediate_train = intermediate_sequence(\n",
    "    roll_surface_temperature=ROLL_SURFACE_TEMPERATURE,\n",
    "    disk_element_count=DISK_ELEMENT_COUNT\n",
    ")\n",
    "\n",
    "finishing_train_e112 = finishing_sequence_e112(\n",
    "    roll_surface_temperature=ROLL_SURFACE_TEMPERATURE,\n",
    "    disk_element_count=DISK_ELEMENT_COUNT\n",
    ")\n",
    "\n",
    "finishing_train_e107 = finishing_sequence_e107(\n",
    "    roll_surface_temperature=ROLL_SURFACE_TEMPERATURE,\n",
    "    disk_element_count=DISK_ELEMENT_COUNT\n",
    ")\n"
   ],
   "id": "24f67340b6ffc923",
   "outputs": [],
   "execution_count": 7
  },
  {
   "metadata": {
    "ExecuteTime": {
     "end_time": "2025-06-02T19:27:59.662362Z",
     "start_time": "2025-06-02T19:27:59.657977Z"
    }
   },
   "cell_type": "code",
   "source": [
    "rolling_train_e112 = pr.PassSequence([\n",
    "    roughing_train,\n",
    "    intermediate_train,\n",
    "    finishing_train_e112\n",
    "])\n",
    "\n",
    "rolling_train_e107 = pr.PassSequence([\n",
    "    roughing_train,\n",
    "    intermediate_train,\n",
    "    finishing_train_e107\n",
    "])"
   ],
   "id": "fe09575a3ae4613a",
   "outputs": [],
   "execution_count": 8
  },
  {
   "metadata": {
    "ExecuteTime": {
     "end_time": "2025-06-02T19:28:00.585972Z",
     "start_time": "2025-06-02T19:28:00.583446Z"
    }
   },
   "cell_type": "code",
   "source": [
    "rolling_train_e112.flatten()\n",
    "rolling_train_e107.flatten()"
   ],
   "id": "a4fdfb87ca0cf6b6",
   "outputs": [],
   "execution_count": 9
  },
  {
   "metadata": {
    "ExecuteTime": {
     "end_time": "2025-06-02T19:45:52.928844Z",
     "start_time": "2025-06-02T19:28:01.536996Z"
    }
   },
   "cell_type": "code",
   "source": "rolling_train_e112.solve(in_profile)",
   "id": "8a7d60a04ab6af07",
   "outputs": [
    {
     "name": "stderr",
     "output_type": "stream",
     "text": [
      "Solution iteration of TwoRollPass '3' exceeded the maximum iteration count of 100. Continuing anyway.\n",
      "Solution iteration of TwoRollPass '7' exceeded the maximum iteration count of 100. Continuing anyway.\n",
      "Solution iteration of TwoRollPass '8' exceeded the maximum iteration count of 100. Continuing anyway.\n",
      "Solution iteration of TwoRollPass '14' exceeded the maximum iteration count of 100. Continuing anyway.\n",
      "Solution iteration of TwoRollPass '18-V' exceeded the maximum iteration count of 100. Continuing anyway.\n",
      "Solution iteration of TwoRollPass '23-H' exceeded the maximum iteration count of 100. Continuing anyway.\n",
      "Solution iteration of TwoRollPass '18-V' exceeded the maximum iteration count of 100. Continuing anyway.\n"
     ]
    },
    {
     "data": {
      "text/plain": [
       "Profile(\n",
       "    classifiers={'false_round', 'generic_elongation', 'round', 'symmetric'},\n",
       "    core_temperature=np.float64(1570.0591539343975),\n",
       "    cross_section=Polygon(\n",
       "        area=5.939031536528555e-05,\n",
       "        height=0.008700000000000006,\n",
       "        perimeter=0.02736933246437044,\n",
       "        width=0.008768227336460354,\n",
       "        ),\n",
       "    length=5171.222724142025,\n",
       "    material=['BST500', 'steel'],\n",
       "    ring_temperatures=array([1570.05915393, 1567.12701904, 1558.34092613, 1543.71864333,\n",
       "           1523.23735286, 1496.84675482, 1464.74408402, 1428.15944014,\n",
       "           1390.54359123, 1358.13149   , 1337.87659106]),\n",
       "    strain=np.float64(0.5607017311212023),\n",
       "    surface_temperature=np.float64(1337.8765910557204),\n",
       "    t=np.float64(36.875179665279155),\n",
       "    temperature=np.float64(1425.8613020468922),\n",
       "    weight=2400,\n",
       "    width=np.float64(0.008768227336460354),\n",
       "    )"
      ],
      "text/html": [
       "<table><tr><td style='text-align: center'><div>                        <script type=\"text/javascript\">window.PlotlyConfig = {MathJaxConfig: 'local'};</script>\n",
       "        <script charset=\"utf-8\" src=\"https://cdn.plot.ly/plotly-3.0.1.min.js\"></script>                <div id=\"b6284c68-2fff-4fee-812c-9fd100560881\" class=\"plotly-graph-div\" style=\"height:480px; width:640px;\"></div>            <script type=\"text/javascript\">                window.PLOTLYENV=window.PLOTLYENV || {};                                if (document.getElementById(\"b6284c68-2fff-4fee-812c-9fd100560881\")) {                    Plotly.newPlot(                        \"b6284c68-2fff-4fee-812c-9fd100560881\",                        [{\"hovertemplate\":\"z=%{x}\\u003cbr\\u003ey=%{y}\\u003cextra\\u003e\\u003c\\u002fextra\\u003e\",\"legendgroup\":\"\",\"line\":{\"color\":\"#636efa\",\"dash\":\"solid\"},\"marker\":{\"symbol\":\"circle\"},\"mode\":\"lines\",\"name\":\"\",\"orientation\":\"v\",\"showlegend\":false,\"x\":{\"dtype\":\"f8\",\"bdata\":\"AAAAAAAAAACMjqj+VqEjP9RH6NoZojM\\u002f14BXQNl2PT\\u002fMMTVk9qhDP3vlnwR3m0g\\u002ftCzUjKKUTT8CSBVRCEtRPwtbc0Lw0FM\\u002fAl+4qUFdVj8N4ecnMexYP3bvtpk1d1s\\u002faaLre5T8XT\\u002f0lDYZbD5gP\\u002fixVuT+e2E\\u002fOc0lCAq3Yj\\u002f1mM561+9jP7g4LtilJmU\\u002fcHt36GBbZj82cTiSHo5nP7bPn4Mqv2g\\u002fGjeze6LuaT9e2mnHpRxrPxyJIa2aSWw\\u002ffFyTsd11bT\\u002fqD0Adp6FuPyjg\\u002fy34zm8\\u002fcrUv+iyBcD9tvqk3MiNxPz8bOjIttnE\\u002fU187jRP1cT8\\u002fGzoyLbZxP22+qTcyI3E\\u002fcrUv+iyBcD8o4P8t+M5vP+oPQB2noW4\\u002ffFyTsd11bT8ciSGtmklsP17aacelHGs\\u002fGjeze6LuaT+2z5+DKr9oPzZxOJIejmc\\u002fcHt36GBbZj+4OC7YpSZlP\\u002fWYznrX72M\\u002fOc0lCAq3Yj\\u002f4sVbk\\u002fnthP\\u002fSUNhlsPmA\\u002faaLre5T8XT9277aZNXdbPw3h5ycx7Fg\\u002fAl+4qUFdVj8LW3NC8NBTPwJIFVEIS1E\\u002ftCzUjKKUTT975Z8Ed5tIP8wxNWT2qEM\\u002f14BXQNl2PT\\u002fUR+jaGaIzP4yOqP5WoSM\\u002fAAAAAAAAAACMjqj+VqEjv9RH6NoZojO\\u002f14BXQNl2Pb\\u002fMMTVk9qhDv3vlnwR3m0i\\u002ftCzUjKKUTb8CSBVRCEtRvwtbc0Lw0FO\\u002fAl+4qUFdVr8N4ecnMexYv3bvtpk1d1u\\u002faaLre5T8Xb\\u002f0lDYZbD5gv\\u002fixVuT+e2G\\u002fOc0lCAq3Yr\\u002f1mM561+9jv7g4LtilJmW\\u002fcHt36GBbZr82cTiSHo5nv7bPn4Mqv2i\\u002fGjeze6Luab9e2mnHpRxrvxyJIa2aSWy\\u002ffFyTsd11bb\\u002fqD0Adp6Fuvyjg\\u002fy34zm+\\u002fcrUv+iyBcL9tvqk3MiNxvz8bOjIttnG\\u002fU187jRP1cb8\\u002fGzoyLbZxv22+qTcyI3G\\u002fcrUv+iyBcL8o4P8t+M5vv+oPQB2noW6\\u002ffFyTsd11bb8ciSGtmklsv17aacelHGu\\u002fGjeze6Luab+2z5+DKr9ovzZxOJIejme\\u002fcHt36GBbZr+4OC7YpSZlv\\u002fWYznrX72O\\u002fOc0lCAq3Yr\\u002f4sVbk\\u002fnthv\\u002fSUNhlsPmC\\u002faaLre5T8Xb9277aZNXdbvw3h5ycx7Fi\\u002fAl+4qUFdVr8LW3NC8NBTvwJIFVEIS1G\\u002ftCzUjKKUTb975Z8Ed5tIv8wxNWT2qEO\\u002f14BXQNl2Pb\\u002fUR+jaGaIzv4yOqP5WoSO\\u002fAAAAAAAAAAA=\"},\"xaxis\":\"x\",\"y\":{\"dtype\":\"f8\",\"bdata\":\"rDXNO07RcT9N5YDYgs1xP8tq7qMdxXE\\u002fzmcmjRO4cT9UYPTx46RxP08nIeMpi3E\\u002f7sG6kU5scT\\u002f1cjxQFUhxP6UW4rKTG3E\\u002fJIQ\\u002f3UDocD9O9TuznK5wP4LkG9Ueb3A\\u002fywGk7nMmcD\\u002ffVNxAua5vP0IkZKMlBG8\\u002f6Wq\\u002fPK9Kbj8b0RHcRnxtP\\u002foxu4f3nmw\\u002f6wYxSLyyaz\\u002ftte+au6pqPy78MbN4jGk\\u002fFZyMnntZaD+OZcLI+gNnP5HTcZq4hGU\\u002fYo5QiufgYz\\u002fyI3GmIAViP\\u002f75SwFMfl8\\u002fxCeeGHTiWT9tCi0B8phSP4a7OFEGjUw\\u002fAAAAAAAAAACGuzhRBo1Mv20KLQHymFK\\u002fxCeeGHTiWb\\u002f++UsBTH5fv\\u002fIjcaYgBWK\\u002fYo5QiufgY7+R03GauIRlv45lwsj6A2e\\u002fFZyMnntZaL8u\\u002fDGzeIxpv+2175q7qmq\\u002f6wYxSLyya7\\u002f6MbuH955svxvREdxGfG2\\u002f6Wq\\u002fPK9Kbr9CJGSjJQRvv99U3EC5rm+\\u002fywGk7nMmcL+C5BvVHm9wv071O7OcrnC\\u002fJIQ\\u002f3UDocL+lFuKykxtxv\\u002fVyPFAVSHG\\u002f7sG6kU5scb9PJyHjKYtxv1Rg9PHjpHG\\u002fzmcmjRO4cb\\u002fLau6jHcVxv03lgNiCzXG\\u002frDXNO07Rcb9N5YDYgs1xv8tq7qMdxXG\\u002fzmcmjRO4cb9UYPTx46Rxv08nIeMpi3G\\u002f7sG6kU5scb\\u002f1cjxQFUhxv6UW4rKTG3G\\u002fJIQ\\u002f3UDocL9O9TuznK5wv4LkG9Ueb3C\\u002fywGk7nMmcL\\u002ffVNxAua5vv0IkZKMlBG+\\u002f6Wq\\u002fPK9Kbr8b0RHcRnxtv\\u002foxu4f3nmy\\u002f6wYxSLyya7\\u002ftte+au6pqvy78MbN4jGm\\u002fFZyMnntZaL+OZcLI+gNnv5HTcZq4hGW\\u002fYo5QiufgY7\\u002fyI3GmIAViv\\u002f75SwFMfl+\\u002fxCeeGHTiWb9tCi0B8phSv4a7OFEGjUy\\u002fAAAAAAAAAACGuzhRBo1MP20KLQHymFI\\u002fxCeeGHTiWT\\u002f++UsBTH5fP\\u002fIjcaYgBWI\\u002fYo5QiufgYz+R03GauIRlP45lwsj6A2c\\u002fFZyMnntZaD8u\\u002fDGzeIxpP+2175q7qmo\\u002f6wYxSLyyaz\\u002f6MbuH955sPxvREdxGfG0\\u002f6Wq\\u002fPK9Kbj9CJGSjJQRvP99U3EC5rm8\\u002fywGk7nMmcD+C5BvVHm9wP071O7OcrnA\\u002fJIQ\\u002f3UDocD+lFuKykxtxP\\u002fVyPFAVSHE\\u002f7sG6kU5scT9PJyHjKYtxP1Rg9PHjpHE\\u002fzmcmjRO4cT\\u002fLau6jHcVxP03lgNiCzXE\\u002frDXNO07RcT8=\"},\"yaxis\":\"y\",\"type\":\"scatter\",\"fill\":\"toself\"}],                        {\"template\":{\"data\":{\"histogram2dcontour\":[{\"type\":\"histogram2dcontour\",\"colorbar\":{\"outlinewidth\":0,\"ticks\":\"\"},\"colorscale\":[[0.0,\"#0d0887\"],[0.1111111111111111,\"#46039f\"],[0.2222222222222222,\"#7201a8\"],[0.3333333333333333,\"#9c179e\"],[0.4444444444444444,\"#bd3786\"],[0.5555555555555556,\"#d8576b\"],[0.6666666666666666,\"#ed7953\"],[0.7777777777777778,\"#fb9f3a\"],[0.8888888888888888,\"#fdca26\"],[1.0,\"#f0f921\"]]}],\"choropleth\":[{\"type\":\"choropleth\",\"colorbar\":{\"outlinewidth\":0,\"ticks\":\"\"}}],\"histogram2d\":[{\"type\":\"histogram2d\",\"colorbar\":{\"outlinewidth\":0,\"ticks\":\"\"},\"colorscale\":[[0.0,\"#0d0887\"],[0.1111111111111111,\"#46039f\"],[0.2222222222222222,\"#7201a8\"],[0.3333333333333333,\"#9c179e\"],[0.4444444444444444,\"#bd3786\"],[0.5555555555555556,\"#d8576b\"],[0.6666666666666666,\"#ed7953\"],[0.7777777777777778,\"#fb9f3a\"],[0.8888888888888888,\"#fdca26\"],[1.0,\"#f0f921\"]]}],\"heatmap\":[{\"type\":\"heatmap\",\"colorbar\":{\"outlinewidth\":0,\"ticks\":\"\"},\"colorscale\":[[0.0,\"#0d0887\"],[0.1111111111111111,\"#46039f\"],[0.2222222222222222,\"#7201a8\"],[0.3333333333333333,\"#9c179e\"],[0.4444444444444444,\"#bd3786\"],[0.5555555555555556,\"#d8576b\"],[0.6666666666666666,\"#ed7953\"],[0.7777777777777778,\"#fb9f3a\"],[0.8888888888888888,\"#fdca26\"],[1.0,\"#f0f921\"]]}],\"contourcarpet\":[{\"type\":\"contourcarpet\",\"colorbar\":{\"outlinewidth\":0,\"ticks\":\"\"}}],\"contour\":[{\"type\":\"contour\",\"colorbar\":{\"outlinewidth\":0,\"ticks\":\"\"},\"colorscale\":[[0.0,\"#0d0887\"],[0.1111111111111111,\"#46039f\"],[0.2222222222222222,\"#7201a8\"],[0.3333333333333333,\"#9c179e\"],[0.4444444444444444,\"#bd3786\"],[0.5555555555555556,\"#d8576b\"],[0.6666666666666666,\"#ed7953\"],[0.7777777777777778,\"#fb9f3a\"],[0.8888888888888888,\"#fdca26\"],[1.0,\"#f0f921\"]]}],\"surface\":[{\"type\":\"surface\",\"colorbar\":{\"outlinewidth\":0,\"ticks\":\"\"},\"colorscale\":[[0.0,\"#0d0887\"],[0.1111111111111111,\"#46039f\"],[0.2222222222222222,\"#7201a8\"],[0.3333333333333333,\"#9c179e\"],[0.4444444444444444,\"#bd3786\"],[0.5555555555555556,\"#d8576b\"],[0.6666666666666666,\"#ed7953\"],[0.7777777777777778,\"#fb9f3a\"],[0.8888888888888888,\"#fdca26\"],[1.0,\"#f0f921\"]]}],\"mesh3d\":[{\"type\":\"mesh3d\",\"colorbar\":{\"outlinewidth\":0,\"ticks\":\"\"}}],\"scatter\":[{\"fillpattern\":{\"fillmode\":\"overlay\",\"size\":10,\"solidity\":0.2},\"type\":\"scatter\"}],\"parcoords\":[{\"type\":\"parcoords\",\"line\":{\"colorbar\":{\"outlinewidth\":0,\"ticks\":\"\"}}}],\"scatterpolargl\":[{\"type\":\"scatterpolargl\",\"marker\":{\"colorbar\":{\"outlinewidth\":0,\"ticks\":\"\"}}}],\"bar\":[{\"error_x\":{\"color\":\"#2a3f5f\"},\"error_y\":{\"color\":\"#2a3f5f\"},\"marker\":{\"line\":{\"color\":\"#E5ECF6\",\"width\":0.5},\"pattern\":{\"fillmode\":\"overlay\",\"size\":10,\"solidity\":0.2}},\"type\":\"bar\"}],\"scattergeo\":[{\"type\":\"scattergeo\",\"marker\":{\"colorbar\":{\"outlinewidth\":0,\"ticks\":\"\"}}}],\"scatterpolar\":[{\"type\":\"scatterpolar\",\"marker\":{\"colorbar\":{\"outlinewidth\":0,\"ticks\":\"\"}}}],\"histogram\":[{\"marker\":{\"pattern\":{\"fillmode\":\"overlay\",\"size\":10,\"solidity\":0.2}},\"type\":\"histogram\"}],\"scattergl\":[{\"type\":\"scattergl\",\"marker\":{\"colorbar\":{\"outlinewidth\":0,\"ticks\":\"\"}}}],\"scatter3d\":[{\"type\":\"scatter3d\",\"line\":{\"colorbar\":{\"outlinewidth\":0,\"ticks\":\"\"}},\"marker\":{\"colorbar\":{\"outlinewidth\":0,\"ticks\":\"\"}}}],\"scattermap\":[{\"type\":\"scattermap\",\"marker\":{\"colorbar\":{\"outlinewidth\":0,\"ticks\":\"\"}}}],\"scattermapbox\":[{\"type\":\"scattermapbox\",\"marker\":{\"colorbar\":{\"outlinewidth\":0,\"ticks\":\"\"}}}],\"scatterternary\":[{\"type\":\"scatterternary\",\"marker\":{\"colorbar\":{\"outlinewidth\":0,\"ticks\":\"\"}}}],\"scattercarpet\":[{\"type\":\"scattercarpet\",\"marker\":{\"colorbar\":{\"outlinewidth\":0,\"ticks\":\"\"}}}],\"carpet\":[{\"aaxis\":{\"endlinecolor\":\"#2a3f5f\",\"gridcolor\":\"white\",\"linecolor\":\"white\",\"minorgridcolor\":\"white\",\"startlinecolor\":\"#2a3f5f\"},\"baxis\":{\"endlinecolor\":\"#2a3f5f\",\"gridcolor\":\"white\",\"linecolor\":\"white\",\"minorgridcolor\":\"white\",\"startlinecolor\":\"#2a3f5f\"},\"type\":\"carpet\"}],\"table\":[{\"cells\":{\"fill\":{\"color\":\"#EBF0F8\"},\"line\":{\"color\":\"white\"}},\"header\":{\"fill\":{\"color\":\"#C8D4E3\"},\"line\":{\"color\":\"white\"}},\"type\":\"table\"}],\"barpolar\":[{\"marker\":{\"line\":{\"color\":\"#E5ECF6\",\"width\":0.5},\"pattern\":{\"fillmode\":\"overlay\",\"size\":10,\"solidity\":0.2}},\"type\":\"barpolar\"}],\"pie\":[{\"automargin\":true,\"type\":\"pie\"}]},\"layout\":{\"autotypenumbers\":\"strict\",\"colorway\":[\"#636efa\",\"#EF553B\",\"#00cc96\",\"#ab63fa\",\"#FFA15A\",\"#19d3f3\",\"#FF6692\",\"#B6E880\",\"#FF97FF\",\"#FECB52\"],\"font\":{\"color\":\"#2a3f5f\"},\"hovermode\":\"closest\",\"hoverlabel\":{\"align\":\"left\"},\"paper_bgcolor\":\"white\",\"plot_bgcolor\":\"#E5ECF6\",\"polar\":{\"bgcolor\":\"#E5ECF6\",\"angularaxis\":{\"gridcolor\":\"white\",\"linecolor\":\"white\",\"ticks\":\"\"},\"radialaxis\":{\"gridcolor\":\"white\",\"linecolor\":\"white\",\"ticks\":\"\"}},\"ternary\":{\"bgcolor\":\"#E5ECF6\",\"aaxis\":{\"gridcolor\":\"white\",\"linecolor\":\"white\",\"ticks\":\"\"},\"baxis\":{\"gridcolor\":\"white\",\"linecolor\":\"white\",\"ticks\":\"\"},\"caxis\":{\"gridcolor\":\"white\",\"linecolor\":\"white\",\"ticks\":\"\"}},\"coloraxis\":{\"colorbar\":{\"outlinewidth\":0,\"ticks\":\"\"}},\"colorscale\":{\"sequential\":[[0.0,\"#0d0887\"],[0.1111111111111111,\"#46039f\"],[0.2222222222222222,\"#7201a8\"],[0.3333333333333333,\"#9c179e\"],[0.4444444444444444,\"#bd3786\"],[0.5555555555555556,\"#d8576b\"],[0.6666666666666666,\"#ed7953\"],[0.7777777777777778,\"#fb9f3a\"],[0.8888888888888888,\"#fdca26\"],[1.0,\"#f0f921\"]],\"sequentialminus\":[[0.0,\"#0d0887\"],[0.1111111111111111,\"#46039f\"],[0.2222222222222222,\"#7201a8\"],[0.3333333333333333,\"#9c179e\"],[0.4444444444444444,\"#bd3786\"],[0.5555555555555556,\"#d8576b\"],[0.6666666666666666,\"#ed7953\"],[0.7777777777777778,\"#fb9f3a\"],[0.8888888888888888,\"#fdca26\"],[1.0,\"#f0f921\"]],\"diverging\":[[0,\"#8e0152\"],[0.1,\"#c51b7d\"],[0.2,\"#de77ae\"],[0.3,\"#f1b6da\"],[0.4,\"#fde0ef\"],[0.5,\"#f7f7f7\"],[0.6,\"#e6f5d0\"],[0.7,\"#b8e186\"],[0.8,\"#7fbc41\"],[0.9,\"#4d9221\"],[1,\"#276419\"]]},\"xaxis\":{\"gridcolor\":\"white\",\"linecolor\":\"white\",\"ticks\":\"\",\"title\":{\"standoff\":15},\"zerolinecolor\":\"white\",\"automargin\":true,\"zerolinewidth\":2},\"yaxis\":{\"gridcolor\":\"white\",\"linecolor\":\"white\",\"ticks\":\"\",\"title\":{\"standoff\":15},\"zerolinecolor\":\"white\",\"automargin\":true,\"zerolinewidth\":2},\"scene\":{\"xaxis\":{\"backgroundcolor\":\"#E5ECF6\",\"gridcolor\":\"white\",\"linecolor\":\"white\",\"showbackground\":true,\"ticks\":\"\",\"zerolinecolor\":\"white\",\"gridwidth\":2},\"yaxis\":{\"backgroundcolor\":\"#E5ECF6\",\"gridcolor\":\"white\",\"linecolor\":\"white\",\"showbackground\":true,\"ticks\":\"\",\"zerolinecolor\":\"white\",\"gridwidth\":2},\"zaxis\":{\"backgroundcolor\":\"#E5ECF6\",\"gridcolor\":\"white\",\"linecolor\":\"white\",\"showbackground\":true,\"ticks\":\"\",\"zerolinecolor\":\"white\",\"gridwidth\":2}},\"shapedefaults\":{\"line\":{\"color\":\"#2a3f5f\"}},\"annotationdefaults\":{\"arrowcolor\":\"#2a3f5f\",\"arrowhead\":0,\"arrowwidth\":1},\"geo\":{\"bgcolor\":\"white\",\"landcolor\":\"#E5ECF6\",\"subunitcolor\":\"white\",\"showland\":true,\"showlakes\":true,\"lakecolor\":\"white\"},\"title\":{\"x\":0.05},\"mapbox\":{\"style\":\"light\"}}},\"xaxis\":{\"anchor\":\"y\",\"domain\":[0.0,1.0],\"title\":{\"text\":\"z\"}},\"yaxis\":{\"anchor\":\"x\",\"domain\":[0.0,1.0],\"title\":{\"text\":\"y\"},\"scaleanchor\":\"x\",\"scaleratio\":1},\"legend\":{\"tracegroupgap\":0},\"margin\":{\"t\":60},\"width\":640,\"height\":480},                        {\"responsive\": true}                    )                };            </script>        </div></td></tr><tr><td style='text-align: left'><details><summary style='font-weight:bold'>Profile</summary><table><tr><td style='text-align:left'>classifiers</td><td><table style='margin:0'><tr><td>&#x27;symmetric&#x27;</td></tr><tr><td>&#x27;generic_elongation&#x27;</td></tr><tr><td>&#x27;false_round&#x27;</td></tr><tr><td>&#x27;round&#x27;</td></tr></table></td></tr><tr><td style='text-align:left'>core_temperature</td><td>np.float64(1570.0591539343975)</td></tr><tr><td style='text-align:left'>cross_section</td><td><table><tr><td style='text-align: center'><div>                        <script type=\"text/javascript\">window.PlotlyConfig = {MathJaxConfig: 'local'};</script>\n",
       "        <script charset=\"utf-8\" src=\"https://cdn.plot.ly/plotly-3.0.1.min.js\"></script>                <div id=\"2cc56ebe-17cf-4852-889e-fa5c40753738\" class=\"plotly-graph-div\" style=\"height:480px; width:640px;\"></div>            <script type=\"text/javascript\">                window.PLOTLYENV=window.PLOTLYENV || {};                                if (document.getElementById(\"2cc56ebe-17cf-4852-889e-fa5c40753738\")) {                    Plotly.newPlot(                        \"2cc56ebe-17cf-4852-889e-fa5c40753738\",                        [{\"hovertemplate\":\"z=%{x}\\u003cbr\\u003ey=%{y}\\u003cextra\\u003e\\u003c\\u002fextra\\u003e\",\"legendgroup\":\"\",\"line\":{\"color\":\"#636efa\",\"dash\":\"solid\"},\"marker\":{\"symbol\":\"circle\"},\"mode\":\"lines\",\"name\":\"\",\"orientation\":\"v\",\"showlegend\":false,\"x\":{\"dtype\":\"f8\",\"bdata\":\"AAAAAAAAAACMjqj+VqEjP9RH6NoZojM\\u002f14BXQNl2PT\\u002fMMTVk9qhDP3vlnwR3m0g\\u002ftCzUjKKUTT8CSBVRCEtRPwtbc0Lw0FM\\u002fAl+4qUFdVj8N4ecnMexYP3bvtpk1d1s\\u002faaLre5T8XT\\u002f0lDYZbD5gP\\u002fixVuT+e2E\\u002fOc0lCAq3Yj\\u002f1mM561+9jP7g4LtilJmU\\u002fcHt36GBbZj82cTiSHo5nP7bPn4Mqv2g\\u002fGjeze6LuaT9e2mnHpRxrPxyJIa2aSWw\\u002ffFyTsd11bT\\u002fqD0Adp6FuPyjg\\u002fy34zm8\\u002fcrUv+iyBcD9tvqk3MiNxPz8bOjIttnE\\u002fU187jRP1cT8\\u002fGzoyLbZxP22+qTcyI3E\\u002fcrUv+iyBcD8o4P8t+M5vP+oPQB2noW4\\u002ffFyTsd11bT8ciSGtmklsP17aacelHGs\\u002fGjeze6LuaT+2z5+DKr9oPzZxOJIejmc\\u002fcHt36GBbZj+4OC7YpSZlP\\u002fWYznrX72M\\u002fOc0lCAq3Yj\\u002f4sVbk\\u002fnthP\\u002fSUNhlsPmA\\u002faaLre5T8XT9277aZNXdbPw3h5ycx7Fg\\u002fAl+4qUFdVj8LW3NC8NBTPwJIFVEIS1E\\u002ftCzUjKKUTT975Z8Ed5tIP8wxNWT2qEM\\u002f14BXQNl2PT\\u002fUR+jaGaIzP4yOqP5WoSM\\u002fAAAAAAAAAACMjqj+VqEjv9RH6NoZojO\\u002f14BXQNl2Pb\\u002fMMTVk9qhDv3vlnwR3m0i\\u002ftCzUjKKUTb8CSBVRCEtRvwtbc0Lw0FO\\u002fAl+4qUFdVr8N4ecnMexYv3bvtpk1d1u\\u002faaLre5T8Xb\\u002f0lDYZbD5gv\\u002fixVuT+e2G\\u002fOc0lCAq3Yr\\u002f1mM561+9jv7g4LtilJmW\\u002fcHt36GBbZr82cTiSHo5nv7bPn4Mqv2i\\u002fGjeze6Luab9e2mnHpRxrvxyJIa2aSWy\\u002ffFyTsd11bb\\u002fqD0Adp6Fuvyjg\\u002fy34zm+\\u002fcrUv+iyBcL9tvqk3MiNxvz8bOjIttnG\\u002fU187jRP1cb8\\u002fGzoyLbZxv22+qTcyI3G\\u002fcrUv+iyBcL8o4P8t+M5vv+oPQB2noW6\\u002ffFyTsd11bb8ciSGtmklsv17aacelHGu\\u002fGjeze6Luab+2z5+DKr9ovzZxOJIejme\\u002fcHt36GBbZr+4OC7YpSZlv\\u002fWYznrX72O\\u002fOc0lCAq3Yr\\u002f4sVbk\\u002fnthv\\u002fSUNhlsPmC\\u002faaLre5T8Xb9277aZNXdbvw3h5ycx7Fi\\u002fAl+4qUFdVr8LW3NC8NBTvwJIFVEIS1G\\u002ftCzUjKKUTb975Z8Ed5tIv8wxNWT2qEO\\u002f14BXQNl2Pb\\u002fUR+jaGaIzv4yOqP5WoSO\\u002fAAAAAAAAAAA=\"},\"xaxis\":\"x\",\"y\":{\"dtype\":\"f8\",\"bdata\":\"rDXNO07RcT9N5YDYgs1xP8tq7qMdxXE\\u002fzmcmjRO4cT9UYPTx46RxP08nIeMpi3E\\u002f7sG6kU5scT\\u002f1cjxQFUhxP6UW4rKTG3E\\u002fJIQ\\u002f3UDocD9O9TuznK5wP4LkG9Ueb3A\\u002fywGk7nMmcD\\u002ffVNxAua5vP0IkZKMlBG8\\u002f6Wq\\u002fPK9Kbj8b0RHcRnxtP\\u002foxu4f3nmw\\u002f6wYxSLyyaz\\u002ftte+au6pqPy78MbN4jGk\\u002fFZyMnntZaD+OZcLI+gNnP5HTcZq4hGU\\u002fYo5QiufgYz\\u002fyI3GmIAViP\\u002f75SwFMfl8\\u002fxCeeGHTiWT9tCi0B8phSP4a7OFEGjUw\\u002fAAAAAAAAAACGuzhRBo1Mv20KLQHymFK\\u002fxCeeGHTiWb\\u002f++UsBTH5fv\\u002fIjcaYgBWK\\u002fYo5QiufgY7+R03GauIRlv45lwsj6A2e\\u002fFZyMnntZaL8u\\u002fDGzeIxpv+2175q7qmq\\u002f6wYxSLyya7\\u002f6MbuH955svxvREdxGfG2\\u002f6Wq\\u002fPK9Kbr9CJGSjJQRvv99U3EC5rm+\\u002fywGk7nMmcL+C5BvVHm9wv071O7OcrnC\\u002fJIQ\\u002f3UDocL+lFuKykxtxv\\u002fVyPFAVSHG\\u002f7sG6kU5scb9PJyHjKYtxv1Rg9PHjpHG\\u002fzmcmjRO4cb\\u002fLau6jHcVxv03lgNiCzXG\\u002frDXNO07Rcb9N5YDYgs1xv8tq7qMdxXG\\u002fzmcmjRO4cb9UYPTx46Rxv08nIeMpi3G\\u002f7sG6kU5scb\\u002f1cjxQFUhxv6UW4rKTG3G\\u002fJIQ\\u002f3UDocL9O9TuznK5wv4LkG9Ueb3C\\u002fywGk7nMmcL\\u002ffVNxAua5vv0IkZKMlBG+\\u002f6Wq\\u002fPK9Kbr8b0RHcRnxtv\\u002foxu4f3nmy\\u002f6wYxSLyya7\\u002ftte+au6pqvy78MbN4jGm\\u002fFZyMnntZaL+OZcLI+gNnv5HTcZq4hGW\\u002fYo5QiufgY7\\u002fyI3GmIAViv\\u002f75SwFMfl+\\u002fxCeeGHTiWb9tCi0B8phSv4a7OFEGjUy\\u002fAAAAAAAAAACGuzhRBo1MP20KLQHymFI\\u002fxCeeGHTiWT\\u002f++UsBTH5fP\\u002fIjcaYgBWI\\u002fYo5QiufgYz+R03GauIRlP45lwsj6A2c\\u002fFZyMnntZaD8u\\u002fDGzeIxpP+2175q7qmo\\u002f6wYxSLyyaz\\u002f6MbuH955sPxvREdxGfG0\\u002f6Wq\\u002fPK9Kbj9CJGSjJQRvP99U3EC5rm8\\u002fywGk7nMmcD+C5BvVHm9wP071O7OcrnA\\u002fJIQ\\u002f3UDocD+lFuKykxtxP\\u002fVyPFAVSHE\\u002f7sG6kU5scT9PJyHjKYtxP1Rg9PHjpHE\\u002fzmcmjRO4cT\\u002fLau6jHcVxP03lgNiCzXE\\u002frDXNO07RcT8=\"},\"yaxis\":\"y\",\"type\":\"scatter\",\"fill\":\"toself\"}],                        {\"template\":{\"data\":{\"histogram2dcontour\":[{\"type\":\"histogram2dcontour\",\"colorbar\":{\"outlinewidth\":0,\"ticks\":\"\"},\"colorscale\":[[0.0,\"#0d0887\"],[0.1111111111111111,\"#46039f\"],[0.2222222222222222,\"#7201a8\"],[0.3333333333333333,\"#9c179e\"],[0.4444444444444444,\"#bd3786\"],[0.5555555555555556,\"#d8576b\"],[0.6666666666666666,\"#ed7953\"],[0.7777777777777778,\"#fb9f3a\"],[0.8888888888888888,\"#fdca26\"],[1.0,\"#f0f921\"]]}],\"choropleth\":[{\"type\":\"choropleth\",\"colorbar\":{\"outlinewidth\":0,\"ticks\":\"\"}}],\"histogram2d\":[{\"type\":\"histogram2d\",\"colorbar\":{\"outlinewidth\":0,\"ticks\":\"\"},\"colorscale\":[[0.0,\"#0d0887\"],[0.1111111111111111,\"#46039f\"],[0.2222222222222222,\"#7201a8\"],[0.3333333333333333,\"#9c179e\"],[0.4444444444444444,\"#bd3786\"],[0.5555555555555556,\"#d8576b\"],[0.6666666666666666,\"#ed7953\"],[0.7777777777777778,\"#fb9f3a\"],[0.8888888888888888,\"#fdca26\"],[1.0,\"#f0f921\"]]}],\"heatmap\":[{\"type\":\"heatmap\",\"colorbar\":{\"outlinewidth\":0,\"ticks\":\"\"},\"colorscale\":[[0.0,\"#0d0887\"],[0.1111111111111111,\"#46039f\"],[0.2222222222222222,\"#7201a8\"],[0.3333333333333333,\"#9c179e\"],[0.4444444444444444,\"#bd3786\"],[0.5555555555555556,\"#d8576b\"],[0.6666666666666666,\"#ed7953\"],[0.7777777777777778,\"#fb9f3a\"],[0.8888888888888888,\"#fdca26\"],[1.0,\"#f0f921\"]]}],\"contourcarpet\":[{\"type\":\"contourcarpet\",\"colorbar\":{\"outlinewidth\":0,\"ticks\":\"\"}}],\"contour\":[{\"type\":\"contour\",\"colorbar\":{\"outlinewidth\":0,\"ticks\":\"\"},\"colorscale\":[[0.0,\"#0d0887\"],[0.1111111111111111,\"#46039f\"],[0.2222222222222222,\"#7201a8\"],[0.3333333333333333,\"#9c179e\"],[0.4444444444444444,\"#bd3786\"],[0.5555555555555556,\"#d8576b\"],[0.6666666666666666,\"#ed7953\"],[0.7777777777777778,\"#fb9f3a\"],[0.8888888888888888,\"#fdca26\"],[1.0,\"#f0f921\"]]}],\"surface\":[{\"type\":\"surface\",\"colorbar\":{\"outlinewidth\":0,\"ticks\":\"\"},\"colorscale\":[[0.0,\"#0d0887\"],[0.1111111111111111,\"#46039f\"],[0.2222222222222222,\"#7201a8\"],[0.3333333333333333,\"#9c179e\"],[0.4444444444444444,\"#bd3786\"],[0.5555555555555556,\"#d8576b\"],[0.6666666666666666,\"#ed7953\"],[0.7777777777777778,\"#fb9f3a\"],[0.8888888888888888,\"#fdca26\"],[1.0,\"#f0f921\"]]}],\"mesh3d\":[{\"type\":\"mesh3d\",\"colorbar\":{\"outlinewidth\":0,\"ticks\":\"\"}}],\"scatter\":[{\"fillpattern\":{\"fillmode\":\"overlay\",\"size\":10,\"solidity\":0.2},\"type\":\"scatter\"}],\"parcoords\":[{\"type\":\"parcoords\",\"line\":{\"colorbar\":{\"outlinewidth\":0,\"ticks\":\"\"}}}],\"scatterpolargl\":[{\"type\":\"scatterpolargl\",\"marker\":{\"colorbar\":{\"outlinewidth\":0,\"ticks\":\"\"}}}],\"bar\":[{\"error_x\":{\"color\":\"#2a3f5f\"},\"error_y\":{\"color\":\"#2a3f5f\"},\"marker\":{\"line\":{\"color\":\"#E5ECF6\",\"width\":0.5},\"pattern\":{\"fillmode\":\"overlay\",\"size\":10,\"solidity\":0.2}},\"type\":\"bar\"}],\"scattergeo\":[{\"type\":\"scattergeo\",\"marker\":{\"colorbar\":{\"outlinewidth\":0,\"ticks\":\"\"}}}],\"scatterpolar\":[{\"type\":\"scatterpolar\",\"marker\":{\"colorbar\":{\"outlinewidth\":0,\"ticks\":\"\"}}}],\"histogram\":[{\"marker\":{\"pattern\":{\"fillmode\":\"overlay\",\"size\":10,\"solidity\":0.2}},\"type\":\"histogram\"}],\"scattergl\":[{\"type\":\"scattergl\",\"marker\":{\"colorbar\":{\"outlinewidth\":0,\"ticks\":\"\"}}}],\"scatter3d\":[{\"type\":\"scatter3d\",\"line\":{\"colorbar\":{\"outlinewidth\":0,\"ticks\":\"\"}},\"marker\":{\"colorbar\":{\"outlinewidth\":0,\"ticks\":\"\"}}}],\"scattermap\":[{\"type\":\"scattermap\",\"marker\":{\"colorbar\":{\"outlinewidth\":0,\"ticks\":\"\"}}}],\"scattermapbox\":[{\"type\":\"scattermapbox\",\"marker\":{\"colorbar\":{\"outlinewidth\":0,\"ticks\":\"\"}}}],\"scatterternary\":[{\"type\":\"scatterternary\",\"marker\":{\"colorbar\":{\"outlinewidth\":0,\"ticks\":\"\"}}}],\"scattercarpet\":[{\"type\":\"scattercarpet\",\"marker\":{\"colorbar\":{\"outlinewidth\":0,\"ticks\":\"\"}}}],\"carpet\":[{\"aaxis\":{\"endlinecolor\":\"#2a3f5f\",\"gridcolor\":\"white\",\"linecolor\":\"white\",\"minorgridcolor\":\"white\",\"startlinecolor\":\"#2a3f5f\"},\"baxis\":{\"endlinecolor\":\"#2a3f5f\",\"gridcolor\":\"white\",\"linecolor\":\"white\",\"minorgridcolor\":\"white\",\"startlinecolor\":\"#2a3f5f\"},\"type\":\"carpet\"}],\"table\":[{\"cells\":{\"fill\":{\"color\":\"#EBF0F8\"},\"line\":{\"color\":\"white\"}},\"header\":{\"fill\":{\"color\":\"#C8D4E3\"},\"line\":{\"color\":\"white\"}},\"type\":\"table\"}],\"barpolar\":[{\"marker\":{\"line\":{\"color\":\"#E5ECF6\",\"width\":0.5},\"pattern\":{\"fillmode\":\"overlay\",\"size\":10,\"solidity\":0.2}},\"type\":\"barpolar\"}],\"pie\":[{\"automargin\":true,\"type\":\"pie\"}]},\"layout\":{\"autotypenumbers\":\"strict\",\"colorway\":[\"#636efa\",\"#EF553B\",\"#00cc96\",\"#ab63fa\",\"#FFA15A\",\"#19d3f3\",\"#FF6692\",\"#B6E880\",\"#FF97FF\",\"#FECB52\"],\"font\":{\"color\":\"#2a3f5f\"},\"hovermode\":\"closest\",\"hoverlabel\":{\"align\":\"left\"},\"paper_bgcolor\":\"white\",\"plot_bgcolor\":\"#E5ECF6\",\"polar\":{\"bgcolor\":\"#E5ECF6\",\"angularaxis\":{\"gridcolor\":\"white\",\"linecolor\":\"white\",\"ticks\":\"\"},\"radialaxis\":{\"gridcolor\":\"white\",\"linecolor\":\"white\",\"ticks\":\"\"}},\"ternary\":{\"bgcolor\":\"#E5ECF6\",\"aaxis\":{\"gridcolor\":\"white\",\"linecolor\":\"white\",\"ticks\":\"\"},\"baxis\":{\"gridcolor\":\"white\",\"linecolor\":\"white\",\"ticks\":\"\"},\"caxis\":{\"gridcolor\":\"white\",\"linecolor\":\"white\",\"ticks\":\"\"}},\"coloraxis\":{\"colorbar\":{\"outlinewidth\":0,\"ticks\":\"\"}},\"colorscale\":{\"sequential\":[[0.0,\"#0d0887\"],[0.1111111111111111,\"#46039f\"],[0.2222222222222222,\"#7201a8\"],[0.3333333333333333,\"#9c179e\"],[0.4444444444444444,\"#bd3786\"],[0.5555555555555556,\"#d8576b\"],[0.6666666666666666,\"#ed7953\"],[0.7777777777777778,\"#fb9f3a\"],[0.8888888888888888,\"#fdca26\"],[1.0,\"#f0f921\"]],\"sequentialminus\":[[0.0,\"#0d0887\"],[0.1111111111111111,\"#46039f\"],[0.2222222222222222,\"#7201a8\"],[0.3333333333333333,\"#9c179e\"],[0.4444444444444444,\"#bd3786\"],[0.5555555555555556,\"#d8576b\"],[0.6666666666666666,\"#ed7953\"],[0.7777777777777778,\"#fb9f3a\"],[0.8888888888888888,\"#fdca26\"],[1.0,\"#f0f921\"]],\"diverging\":[[0,\"#8e0152\"],[0.1,\"#c51b7d\"],[0.2,\"#de77ae\"],[0.3,\"#f1b6da\"],[0.4,\"#fde0ef\"],[0.5,\"#f7f7f7\"],[0.6,\"#e6f5d0\"],[0.7,\"#b8e186\"],[0.8,\"#7fbc41\"],[0.9,\"#4d9221\"],[1,\"#276419\"]]},\"xaxis\":{\"gridcolor\":\"white\",\"linecolor\":\"white\",\"ticks\":\"\",\"title\":{\"standoff\":15},\"zerolinecolor\":\"white\",\"automargin\":true,\"zerolinewidth\":2},\"yaxis\":{\"gridcolor\":\"white\",\"linecolor\":\"white\",\"ticks\":\"\",\"title\":{\"standoff\":15},\"zerolinecolor\":\"white\",\"automargin\":true,\"zerolinewidth\":2},\"scene\":{\"xaxis\":{\"backgroundcolor\":\"#E5ECF6\",\"gridcolor\":\"white\",\"linecolor\":\"white\",\"showbackground\":true,\"ticks\":\"\",\"zerolinecolor\":\"white\",\"gridwidth\":2},\"yaxis\":{\"backgroundcolor\":\"#E5ECF6\",\"gridcolor\":\"white\",\"linecolor\":\"white\",\"showbackground\":true,\"ticks\":\"\",\"zerolinecolor\":\"white\",\"gridwidth\":2},\"zaxis\":{\"backgroundcolor\":\"#E5ECF6\",\"gridcolor\":\"white\",\"linecolor\":\"white\",\"showbackground\":true,\"ticks\":\"\",\"zerolinecolor\":\"white\",\"gridwidth\":2}},\"shapedefaults\":{\"line\":{\"color\":\"#2a3f5f\"}},\"annotationdefaults\":{\"arrowcolor\":\"#2a3f5f\",\"arrowhead\":0,\"arrowwidth\":1},\"geo\":{\"bgcolor\":\"white\",\"landcolor\":\"#E5ECF6\",\"subunitcolor\":\"white\",\"showland\":true,\"showlakes\":true,\"lakecolor\":\"white\"},\"title\":{\"x\":0.05},\"mapbox\":{\"style\":\"light\"}}},\"xaxis\":{\"anchor\":\"y\",\"domain\":[0.0,1.0],\"title\":{\"text\":\"z\"}},\"yaxis\":{\"anchor\":\"x\",\"domain\":[0.0,1.0],\"title\":{\"text\":\"y\"},\"scaleanchor\":\"x\",\"scaleratio\":1},\"legend\":{\"tracegroupgap\":0},\"margin\":{\"t\":60},\"width\":640,\"height\":480},                        {\"responsive\": true}                    )                };            </script>        </div></td></tr><tr><td style='text-align: left'><details><summary style='font-weight:bold'>Polygon</summary><table><tr><td style='text-align:left'>area</td><td>5.939031536528555e-05</td></tr><tr><td style='text-align:left'>height</td><td>0.008700000000000006</td></tr><tr><td style='text-align:left'>perimeter</td><td>0.02736933246437044</td></tr><tr><td style='text-align:left'>width</td><td>0.008768227336460354</td></tr></table></details></td></tr></table></td></tr><tr><td style='text-align:left'>length</td><td>5171.222724142025</td></tr><tr><td style='text-align:left'>material</td><td><table style='margin:0'><tr><td>&#x27;BST500&#x27;</td></tr><tr><td>&#x27;steel&#x27;</td></tr></table></td></tr><tr><td style='text-align:left'>ring_temperatures</td><td>array([1570.05915393, 1567.12701904, 1558.34092613, 1543.71864333,\n",
       "       1523.23735286, 1496.84675482, 1464.74408402, 1428.15944014,\n",
       "       1390.54359123, 1358.13149   , 1337.87659106])</td></tr><tr><td style='text-align:left'>strain</td><td>np.float64(0.5607017311212023)</td></tr><tr><td style='text-align:left'>surface_temperature</td><td>np.float64(1337.8765910557204)</td></tr><tr><td style='text-align:left'>t</td><td>np.float64(36.875179665279155)</td></tr><tr><td style='text-align:left'>temperature</td><td>np.float64(1425.8613020468922)</td></tr><tr><td style='text-align:left'>weight</td><td>2400</td></tr><tr><td style='text-align:left'>width</td><td>np.float64(0.008768227336460354)</td></tr></table></details></td></tr></table>"
      ]
     },
     "execution_count": 10,
     "metadata": {},
     "output_type": "execute_result"
    }
   ],
   "execution_count": 10
  },
  {
   "metadata": {
    "ExecuteTime": {
     "end_time": "2025-06-02T19:56:48.026581Z",
     "start_time": "2025-06-02T19:46:03.249787Z"
    }
   },
   "cell_type": "code",
   "source": "rolling_train_e107.solve(in_profile)",
   "id": "8d41684a3d4f7735",
   "outputs": [
    {
     "name": "stderr",
     "output_type": "stream",
     "text": [
      "Solution iteration of TwoRollPass '22-V' exceeded the maximum iteration count of 100. Continuing anyway.\n",
      "Solution iteration of TwoRollPass '23-H' exceeded the maximum iteration count of 100. Continuing anyway.\n",
      "Solution iteration of TwoRollPass '27-H' exceeded the maximum iteration count of 100. Continuing anyway.\n"
     ]
    },
    {
     "data": {
      "text/plain": [
       "Profile(\n",
       "    classifiers={'false_round', 'generic_elongation', 'round', 'symmetric'},\n",
       "    core_temperature=np.float64(1564.024619885944),\n",
       "    cross_section=Polygon(\n",
       "        area=5.896220122998807e-05,\n",
       "        height=0.008700000000000006,\n",
       "        perimeter=0.027243885509781032,\n",
       "        width=0.008532317323115969,\n",
       "        ),\n",
       "    length=5208.7339449078745,\n",
       "    material=['BST500', 'steel'],\n",
       "    ring_temperatures=array([1564.02461989, 1561.13466478, 1552.47023573, 1538.03228003,\n",
       "           1517.78168798, 1491.70612299, 1460.17725746, 1424.73026868,\n",
       "           1388.99526951, 1358.82742219, 1340.17168701]),\n",
       "    strain=np.float64(0.520194900008893),\n",
       "    surface_temperature=np.float64(1340.1716870065236),\n",
       "    t=np.float64(36.854174411047744),\n",
       "    temperature=np.float64(1423.7200086555574),\n",
       "    weight=2400,\n",
       "    width=np.float64(0.008532317323115969),\n",
       "    )"
      ],
      "text/html": [
       "<table><tr><td style='text-align: center'><div>                        <script type=\"text/javascript\">window.PlotlyConfig = {MathJaxConfig: 'local'};</script>\n",
       "        <script charset=\"utf-8\" src=\"https://cdn.plot.ly/plotly-3.0.1.min.js\"></script>                <div id=\"d9df0d8c-004a-453a-812f-f6b493f38eff\" class=\"plotly-graph-div\" style=\"height:480px; width:640px;\"></div>            <script type=\"text/javascript\">                window.PLOTLYENV=window.PLOTLYENV || {};                                if (document.getElementById(\"d9df0d8c-004a-453a-812f-f6b493f38eff\")) {                    Plotly.newPlot(                        \"d9df0d8c-004a-453a-812f-f6b493f38eff\",                        [{\"hovertemplate\":\"z=%{x}\\u003cbr\\u003ey=%{y}\\u003cextra\\u003e\\u003c\\u002fextra\\u003e\",\"legendgroup\":\"\",\"line\":{\"color\":\"#636efa\",\"dash\":\"solid\"},\"marker\":{\"symbol\":\"circle\"},\"mode\":\"lines\",\"name\":\"\",\"orientation\":\"v\",\"showlegend\":false,\"x\":{\"dtype\":\"f8\",\"bdata\":\"AAAAAAAAAADubSnfihAjP72VhOP9EDM\\u002fSPHEmGecPD+GVUg6txZDP0546f6u40c\\u002fhQxZnIW2TD9mqHcXY8hQP9gLlJ03OlM\\u002fBJHV4MOxVT9uXezD4C1YPzq7AGKnrVo\\u002fnPvKdRgyXT\\u002fqWOOZPLZfPz9x+UxbGmE\\u002fVsRJzPNWYj+\\u002fK0rLGpFjP9f2wFq9yGQ\\u002fQJmSq\\u002fj9ZT8qEal1BTFnP6we0RbVYWg\\u002f+Rnft1KQaT\\u002fQtMr9tbxqP5xhgicE52s\\u002fWmCfzccObT8YaVFFHzRuP2NlOdv4Vm8\\u002fh2dVz5Q6cD+uL5WC68ZwP39AzPbzQnE\\u002f9B\\u002flPmR5cT9\\u002fQMz280JxP64vlYLrxnA\\u002fh2dVz5Q6cD9jZTnb+FZvPxhpUUUfNG4\\u002fWmCfzccObT+cYYInBOdrP9C0yv21vGo\\u002f+Rnft1KQaT+sHtEW1WFoPyoRqXUFMWc\\u002fQJmSq\\u002fj9ZT\\u002fX9sBavchkP78rSssakWM\\u002fVsRJzPNWYj8\\u002fcflMWxphP+pY45k8tl8\\u002fnPvKdRgyXT86uwBip61aP25d7MPgLVg\\u002fBJHV4MOxVT\\u002fYC5SdNzpTP2aodxdjyFA\\u002fhQxZnIW2TD9OeOn+ruNHP4ZVSDq3FkM\\u002fSPHEmGecPD+9lYTj\\u002fRAzP+5tKd+KECM\\u002fAAAAAAAAAADubSnfihAjv72VhOP9EDO\\u002fSPHEmGecPL+GVUg6txZDv0546f6u40e\\u002fhQxZnIW2TL9mqHcXY8hQv9gLlJ03OlO\\u002fBJHV4MOxVb9uXezD4C1Yvzq7AGKnrVq\\u002fnPvKdRgyXb\\u002fqWOOZPLZfvz9x+UxbGmG\\u002fVsRJzPNWYr+\\u002fK0rLGpFjv9f2wFq9yGS\\u002fQJmSq\\u002fj9Zb8qEal1BTFnv6we0RbVYWi\\u002f+Rnft1KQab\\u002fQtMr9tbxqv5xhgicE52u\\u002fWmCfzccObb8YaVFFHzRuv2NlOdv4Vm+\\u002fh2dVz5Q6cL+uL5WC68Zwv39AzPbzQnG\\u002f9B\\u002flPmR5cb9\\u002fQMz280Jxv64vlYLrxnC\\u002fh2dVz5Q6cL9jZTnb+FZvvxhpUUUfNG6\\u002fWmCfzccObb+cYYInBOdrv9C0yv21vGq\\u002f+Rnft1KQab+sHtEW1WFovyoRqXUFMWe\\u002fQJmSq\\u002fj9Zb\\u002fX9sBavchkv78rSssakWO\\u002fVsRJzPNWYr8\\u002fcflMWxphv+pY45k8tl+\\u002fnPvKdRgyXb86uwBip61av25d7MPgLVi\\u002fBJHV4MOxVb\\u002fYC5SdNzpTv2aodxdjyFC\\u002fhQxZnIW2TL9OeOn+ruNHv4ZVSDq3FkO\\u002fSPHEmGecPL+9lYTj\\u002fRAzv+5tKd+KECO\\u002fAAAAAAAAAAA=\"},\"xaxis\":\"x\",\"y\":{\"dtype\":\"f8\",\"bdata\":\"rDXNO07RcT+MF7LVns1xP\\u002frltVTGxXE\\u002fdw1dyry5cT\\u002fB3p9VHadxPwQJENIaj3E\\u002fLhd2oH1ycT+1x3rF509xP9Ml\\u002fWH2JXE\\u002fJeRkGG\\u002f2cD8AZxbdG8FwP+N0BLztgnA\\u002fCC1jk0A9cD\\u002fj7uiNBuJvPwTUASIaPW8\\u002ff1N27z+Dbj+QxxcBl7ttPz2q0d8h5mw\\u002fVoBwZcr7az+2FzEM3PpqP6KwHsci6Gk\\u002fI6HsKQ6\\u002faD\\u002fK2X3xdXBnPxpIgHoNB2Y\\u002fnfM9vg6AZD+8pjlP9bJiP+FBkO2hr2A\\u002f5waqOivkXD+mjLkRv8FWP9OBrX7fvlA\\u002fAAAAAAAAAADTga1+375Qv6aMuRG\\u002fwVa\\u002f5waqOivkXL\\u002fhQZDtoa9gv7ymOU\\u002f1smK\\u002fnfM9vg6AZL8aSIB6DQdmv8rZffF1cGe\\u002fI6HsKQ6\\u002faL+isB7HIuhpv7YXMQzc+mq\\u002fVoBwZcr7a789qtHfIeZsv5DHFwGXu22\\u002ff1N27z+Dbr8E1AEiGj1vv+Pu6I0G4m+\\u002fCC1jk0A9cL\\u002fjdAS87YJwvwBnFt0bwXC\\u002fJeRkGG\\u002f2cL\\u002fTJf1h9iVxv7XHesXnT3G\\u002fLhd2oH1ycb8ECRDSGo9xv8Hen1Udp3G\\u002fdw1dyry5cb\\u002f65bVUxsVxv4wXstWezXG\\u002frDXNO07Rcb+MF7LVns1xv\\u002frltVTGxXG\\u002fdw1dyry5cb\\u002fB3p9VHadxvwQJENIaj3G\\u002fLhd2oH1ycb+1x3rF509xv9Ml\\u002fWH2JXG\\u002fJeRkGG\\u002f2cL8AZxbdG8Fwv+N0BLztgnC\\u002fCC1jk0A9cL\\u002fj7uiNBuJvvwTUASIaPW+\\u002ff1N27z+Dbr+QxxcBl7ttvz2q0d8h5my\\u002fVoBwZcr7a7+2FzEM3Ppqv6KwHsci6Gm\\u002fI6HsKQ6\\u002faL\\u002fK2X3xdXBnvxpIgHoNB2a\\u002fnfM9vg6AZL+8pjlP9bJiv+FBkO2hr2C\\u002f5waqOivkXL+mjLkRv8FWv9OBrX7fvlC\\u002fAAAAAAAAAADTga1+375QP6aMuRG\\u002fwVY\\u002f5waqOivkXD\\u002fhQZDtoa9gP7ymOU\\u002f1smI\\u002fnfM9vg6AZD8aSIB6DQdmP8rZffF1cGc\\u002fI6HsKQ6\\u002faD+isB7HIuhpP7YXMQzc+mo\\u002fVoBwZcr7az89qtHfIeZsP5DHFwGXu20\\u002ff1N27z+Dbj8E1AEiGj1vP+Pu6I0G4m8\\u002fCC1jk0A9cD\\u002fjdAS87YJwPwBnFt0bwXA\\u002fJeRkGG\\u002f2cD\\u002fTJf1h9iVxP7XHesXnT3E\\u002fLhd2oH1ycT8ECRDSGo9xP8Hen1Udp3E\\u002fdw1dyry5cT\\u002f65bVUxsVxP4wXstWezXE\\u002frDXNO07RcT8=\"},\"yaxis\":\"y\",\"type\":\"scatter\",\"fill\":\"toself\"}],                        {\"template\":{\"data\":{\"histogram2dcontour\":[{\"type\":\"histogram2dcontour\",\"colorbar\":{\"outlinewidth\":0,\"ticks\":\"\"},\"colorscale\":[[0.0,\"#0d0887\"],[0.1111111111111111,\"#46039f\"],[0.2222222222222222,\"#7201a8\"],[0.3333333333333333,\"#9c179e\"],[0.4444444444444444,\"#bd3786\"],[0.5555555555555556,\"#d8576b\"],[0.6666666666666666,\"#ed7953\"],[0.7777777777777778,\"#fb9f3a\"],[0.8888888888888888,\"#fdca26\"],[1.0,\"#f0f921\"]]}],\"choropleth\":[{\"type\":\"choropleth\",\"colorbar\":{\"outlinewidth\":0,\"ticks\":\"\"}}],\"histogram2d\":[{\"type\":\"histogram2d\",\"colorbar\":{\"outlinewidth\":0,\"ticks\":\"\"},\"colorscale\":[[0.0,\"#0d0887\"],[0.1111111111111111,\"#46039f\"],[0.2222222222222222,\"#7201a8\"],[0.3333333333333333,\"#9c179e\"],[0.4444444444444444,\"#bd3786\"],[0.5555555555555556,\"#d8576b\"],[0.6666666666666666,\"#ed7953\"],[0.7777777777777778,\"#fb9f3a\"],[0.8888888888888888,\"#fdca26\"],[1.0,\"#f0f921\"]]}],\"heatmap\":[{\"type\":\"heatmap\",\"colorbar\":{\"outlinewidth\":0,\"ticks\":\"\"},\"colorscale\":[[0.0,\"#0d0887\"],[0.1111111111111111,\"#46039f\"],[0.2222222222222222,\"#7201a8\"],[0.3333333333333333,\"#9c179e\"],[0.4444444444444444,\"#bd3786\"],[0.5555555555555556,\"#d8576b\"],[0.6666666666666666,\"#ed7953\"],[0.7777777777777778,\"#fb9f3a\"],[0.8888888888888888,\"#fdca26\"],[1.0,\"#f0f921\"]]}],\"contourcarpet\":[{\"type\":\"contourcarpet\",\"colorbar\":{\"outlinewidth\":0,\"ticks\":\"\"}}],\"contour\":[{\"type\":\"contour\",\"colorbar\":{\"outlinewidth\":0,\"ticks\":\"\"},\"colorscale\":[[0.0,\"#0d0887\"],[0.1111111111111111,\"#46039f\"],[0.2222222222222222,\"#7201a8\"],[0.3333333333333333,\"#9c179e\"],[0.4444444444444444,\"#bd3786\"],[0.5555555555555556,\"#d8576b\"],[0.6666666666666666,\"#ed7953\"],[0.7777777777777778,\"#fb9f3a\"],[0.8888888888888888,\"#fdca26\"],[1.0,\"#f0f921\"]]}],\"surface\":[{\"type\":\"surface\",\"colorbar\":{\"outlinewidth\":0,\"ticks\":\"\"},\"colorscale\":[[0.0,\"#0d0887\"],[0.1111111111111111,\"#46039f\"],[0.2222222222222222,\"#7201a8\"],[0.3333333333333333,\"#9c179e\"],[0.4444444444444444,\"#bd3786\"],[0.5555555555555556,\"#d8576b\"],[0.6666666666666666,\"#ed7953\"],[0.7777777777777778,\"#fb9f3a\"],[0.8888888888888888,\"#fdca26\"],[1.0,\"#f0f921\"]]}],\"mesh3d\":[{\"type\":\"mesh3d\",\"colorbar\":{\"outlinewidth\":0,\"ticks\":\"\"}}],\"scatter\":[{\"fillpattern\":{\"fillmode\":\"overlay\",\"size\":10,\"solidity\":0.2},\"type\":\"scatter\"}],\"parcoords\":[{\"type\":\"parcoords\",\"line\":{\"colorbar\":{\"outlinewidth\":0,\"ticks\":\"\"}}}],\"scatterpolargl\":[{\"type\":\"scatterpolargl\",\"marker\":{\"colorbar\":{\"outlinewidth\":0,\"ticks\":\"\"}}}],\"bar\":[{\"error_x\":{\"color\":\"#2a3f5f\"},\"error_y\":{\"color\":\"#2a3f5f\"},\"marker\":{\"line\":{\"color\":\"#E5ECF6\",\"width\":0.5},\"pattern\":{\"fillmode\":\"overlay\",\"size\":10,\"solidity\":0.2}},\"type\":\"bar\"}],\"scattergeo\":[{\"type\":\"scattergeo\",\"marker\":{\"colorbar\":{\"outlinewidth\":0,\"ticks\":\"\"}}}],\"scatterpolar\":[{\"type\":\"scatterpolar\",\"marker\":{\"colorbar\":{\"outlinewidth\":0,\"ticks\":\"\"}}}],\"histogram\":[{\"marker\":{\"pattern\":{\"fillmode\":\"overlay\",\"size\":10,\"solidity\":0.2}},\"type\":\"histogram\"}],\"scattergl\":[{\"type\":\"scattergl\",\"marker\":{\"colorbar\":{\"outlinewidth\":0,\"ticks\":\"\"}}}],\"scatter3d\":[{\"type\":\"scatter3d\",\"line\":{\"colorbar\":{\"outlinewidth\":0,\"ticks\":\"\"}},\"marker\":{\"colorbar\":{\"outlinewidth\":0,\"ticks\":\"\"}}}],\"scattermap\":[{\"type\":\"scattermap\",\"marker\":{\"colorbar\":{\"outlinewidth\":0,\"ticks\":\"\"}}}],\"scattermapbox\":[{\"type\":\"scattermapbox\",\"marker\":{\"colorbar\":{\"outlinewidth\":0,\"ticks\":\"\"}}}],\"scatterternary\":[{\"type\":\"scatterternary\",\"marker\":{\"colorbar\":{\"outlinewidth\":0,\"ticks\":\"\"}}}],\"scattercarpet\":[{\"type\":\"scattercarpet\",\"marker\":{\"colorbar\":{\"outlinewidth\":0,\"ticks\":\"\"}}}],\"carpet\":[{\"aaxis\":{\"endlinecolor\":\"#2a3f5f\",\"gridcolor\":\"white\",\"linecolor\":\"white\",\"minorgridcolor\":\"white\",\"startlinecolor\":\"#2a3f5f\"},\"baxis\":{\"endlinecolor\":\"#2a3f5f\",\"gridcolor\":\"white\",\"linecolor\":\"white\",\"minorgridcolor\":\"white\",\"startlinecolor\":\"#2a3f5f\"},\"type\":\"carpet\"}],\"table\":[{\"cells\":{\"fill\":{\"color\":\"#EBF0F8\"},\"line\":{\"color\":\"white\"}},\"header\":{\"fill\":{\"color\":\"#C8D4E3\"},\"line\":{\"color\":\"white\"}},\"type\":\"table\"}],\"barpolar\":[{\"marker\":{\"line\":{\"color\":\"#E5ECF6\",\"width\":0.5},\"pattern\":{\"fillmode\":\"overlay\",\"size\":10,\"solidity\":0.2}},\"type\":\"barpolar\"}],\"pie\":[{\"automargin\":true,\"type\":\"pie\"}]},\"layout\":{\"autotypenumbers\":\"strict\",\"colorway\":[\"#636efa\",\"#EF553B\",\"#00cc96\",\"#ab63fa\",\"#FFA15A\",\"#19d3f3\",\"#FF6692\",\"#B6E880\",\"#FF97FF\",\"#FECB52\"],\"font\":{\"color\":\"#2a3f5f\"},\"hovermode\":\"closest\",\"hoverlabel\":{\"align\":\"left\"},\"paper_bgcolor\":\"white\",\"plot_bgcolor\":\"#E5ECF6\",\"polar\":{\"bgcolor\":\"#E5ECF6\",\"angularaxis\":{\"gridcolor\":\"white\",\"linecolor\":\"white\",\"ticks\":\"\"},\"radialaxis\":{\"gridcolor\":\"white\",\"linecolor\":\"white\",\"ticks\":\"\"}},\"ternary\":{\"bgcolor\":\"#E5ECF6\",\"aaxis\":{\"gridcolor\":\"white\",\"linecolor\":\"white\",\"ticks\":\"\"},\"baxis\":{\"gridcolor\":\"white\",\"linecolor\":\"white\",\"ticks\":\"\"},\"caxis\":{\"gridcolor\":\"white\",\"linecolor\":\"white\",\"ticks\":\"\"}},\"coloraxis\":{\"colorbar\":{\"outlinewidth\":0,\"ticks\":\"\"}},\"colorscale\":{\"sequential\":[[0.0,\"#0d0887\"],[0.1111111111111111,\"#46039f\"],[0.2222222222222222,\"#7201a8\"],[0.3333333333333333,\"#9c179e\"],[0.4444444444444444,\"#bd3786\"],[0.5555555555555556,\"#d8576b\"],[0.6666666666666666,\"#ed7953\"],[0.7777777777777778,\"#fb9f3a\"],[0.8888888888888888,\"#fdca26\"],[1.0,\"#f0f921\"]],\"sequentialminus\":[[0.0,\"#0d0887\"],[0.1111111111111111,\"#46039f\"],[0.2222222222222222,\"#7201a8\"],[0.3333333333333333,\"#9c179e\"],[0.4444444444444444,\"#bd3786\"],[0.5555555555555556,\"#d8576b\"],[0.6666666666666666,\"#ed7953\"],[0.7777777777777778,\"#fb9f3a\"],[0.8888888888888888,\"#fdca26\"],[1.0,\"#f0f921\"]],\"diverging\":[[0,\"#8e0152\"],[0.1,\"#c51b7d\"],[0.2,\"#de77ae\"],[0.3,\"#f1b6da\"],[0.4,\"#fde0ef\"],[0.5,\"#f7f7f7\"],[0.6,\"#e6f5d0\"],[0.7,\"#b8e186\"],[0.8,\"#7fbc41\"],[0.9,\"#4d9221\"],[1,\"#276419\"]]},\"xaxis\":{\"gridcolor\":\"white\",\"linecolor\":\"white\",\"ticks\":\"\",\"title\":{\"standoff\":15},\"zerolinecolor\":\"white\",\"automargin\":true,\"zerolinewidth\":2},\"yaxis\":{\"gridcolor\":\"white\",\"linecolor\":\"white\",\"ticks\":\"\",\"title\":{\"standoff\":15},\"zerolinecolor\":\"white\",\"automargin\":true,\"zerolinewidth\":2},\"scene\":{\"xaxis\":{\"backgroundcolor\":\"#E5ECF6\",\"gridcolor\":\"white\",\"linecolor\":\"white\",\"showbackground\":true,\"ticks\":\"\",\"zerolinecolor\":\"white\",\"gridwidth\":2},\"yaxis\":{\"backgroundcolor\":\"#E5ECF6\",\"gridcolor\":\"white\",\"linecolor\":\"white\",\"showbackground\":true,\"ticks\":\"\",\"zerolinecolor\":\"white\",\"gridwidth\":2},\"zaxis\":{\"backgroundcolor\":\"#E5ECF6\",\"gridcolor\":\"white\",\"linecolor\":\"white\",\"showbackground\":true,\"ticks\":\"\",\"zerolinecolor\":\"white\",\"gridwidth\":2}},\"shapedefaults\":{\"line\":{\"color\":\"#2a3f5f\"}},\"annotationdefaults\":{\"arrowcolor\":\"#2a3f5f\",\"arrowhead\":0,\"arrowwidth\":1},\"geo\":{\"bgcolor\":\"white\",\"landcolor\":\"#E5ECF6\",\"subunitcolor\":\"white\",\"showland\":true,\"showlakes\":true,\"lakecolor\":\"white\"},\"title\":{\"x\":0.05},\"mapbox\":{\"style\":\"light\"}}},\"xaxis\":{\"anchor\":\"y\",\"domain\":[0.0,1.0],\"title\":{\"text\":\"z\"}},\"yaxis\":{\"anchor\":\"x\",\"domain\":[0.0,1.0],\"title\":{\"text\":\"y\"},\"scaleanchor\":\"x\",\"scaleratio\":1},\"legend\":{\"tracegroupgap\":0},\"margin\":{\"t\":60},\"width\":640,\"height\":480},                        {\"responsive\": true}                    )                };            </script>        </div></td></tr><tr><td style='text-align: left'><details><summary style='font-weight:bold'>Profile</summary><table><tr><td style='text-align:left'>classifiers</td><td><table style='margin:0'><tr><td>&#x27;symmetric&#x27;</td></tr><tr><td>&#x27;generic_elongation&#x27;</td></tr><tr><td>&#x27;false_round&#x27;</td></tr><tr><td>&#x27;round&#x27;</td></tr></table></td></tr><tr><td style='text-align:left'>core_temperature</td><td>np.float64(1564.024619885944)</td></tr><tr><td style='text-align:left'>cross_section</td><td><table><tr><td style='text-align: center'><div>                        <script type=\"text/javascript\">window.PlotlyConfig = {MathJaxConfig: 'local'};</script>\n",
       "        <script charset=\"utf-8\" src=\"https://cdn.plot.ly/plotly-3.0.1.min.js\"></script>                <div id=\"cee9b1a3-0184-422a-ab63-9970d44ad4ac\" class=\"plotly-graph-div\" style=\"height:480px; width:640px;\"></div>            <script type=\"text/javascript\">                window.PLOTLYENV=window.PLOTLYENV || {};                                if (document.getElementById(\"cee9b1a3-0184-422a-ab63-9970d44ad4ac\")) {                    Plotly.newPlot(                        \"cee9b1a3-0184-422a-ab63-9970d44ad4ac\",                        [{\"hovertemplate\":\"z=%{x}\\u003cbr\\u003ey=%{y}\\u003cextra\\u003e\\u003c\\u002fextra\\u003e\",\"legendgroup\":\"\",\"line\":{\"color\":\"#636efa\",\"dash\":\"solid\"},\"marker\":{\"symbol\":\"circle\"},\"mode\":\"lines\",\"name\":\"\",\"orientation\":\"v\",\"showlegend\":false,\"x\":{\"dtype\":\"f8\",\"bdata\":\"AAAAAAAAAADubSnfihAjP72VhOP9EDM\\u002fSPHEmGecPD+GVUg6txZDP0546f6u40c\\u002fhQxZnIW2TD9mqHcXY8hQP9gLlJ03OlM\\u002fBJHV4MOxVT9uXezD4C1YPzq7AGKnrVo\\u002fnPvKdRgyXT\\u002fqWOOZPLZfPz9x+UxbGmE\\u002fVsRJzPNWYj+\\u002fK0rLGpFjP9f2wFq9yGQ\\u002fQJmSq\\u002fj9ZT8qEal1BTFnP6we0RbVYWg\\u002f+Rnft1KQaT\\u002fQtMr9tbxqP5xhgicE52s\\u002fWmCfzccObT8YaVFFHzRuP2NlOdv4Vm8\\u002fh2dVz5Q6cD+uL5WC68ZwP39AzPbzQnE\\u002f9B\\u002flPmR5cT9\\u002fQMz280JxP64vlYLrxnA\\u002fh2dVz5Q6cD9jZTnb+FZvPxhpUUUfNG4\\u002fWmCfzccObT+cYYInBOdrP9C0yv21vGo\\u002f+Rnft1KQaT+sHtEW1WFoPyoRqXUFMWc\\u002fQJmSq\\u002fj9ZT\\u002fX9sBavchkP78rSssakWM\\u002fVsRJzPNWYj8\\u002fcflMWxphP+pY45k8tl8\\u002fnPvKdRgyXT86uwBip61aP25d7MPgLVg\\u002fBJHV4MOxVT\\u002fYC5SdNzpTP2aodxdjyFA\\u002fhQxZnIW2TD9OeOn+ruNHP4ZVSDq3FkM\\u002fSPHEmGecPD+9lYTj\\u002fRAzP+5tKd+KECM\\u002fAAAAAAAAAADubSnfihAjv72VhOP9EDO\\u002fSPHEmGecPL+GVUg6txZDv0546f6u40e\\u002fhQxZnIW2TL9mqHcXY8hQv9gLlJ03OlO\\u002fBJHV4MOxVb9uXezD4C1Yvzq7AGKnrVq\\u002fnPvKdRgyXb\\u002fqWOOZPLZfvz9x+UxbGmG\\u002fVsRJzPNWYr+\\u002fK0rLGpFjv9f2wFq9yGS\\u002fQJmSq\\u002fj9Zb8qEal1BTFnv6we0RbVYWi\\u002f+Rnft1KQab\\u002fQtMr9tbxqv5xhgicE52u\\u002fWmCfzccObb8YaVFFHzRuv2NlOdv4Vm+\\u002fh2dVz5Q6cL+uL5WC68Zwv39AzPbzQnG\\u002f9B\\u002flPmR5cb9\\u002fQMz280Jxv64vlYLrxnC\\u002fh2dVz5Q6cL9jZTnb+FZvvxhpUUUfNG6\\u002fWmCfzccObb+cYYInBOdrv9C0yv21vGq\\u002f+Rnft1KQab+sHtEW1WFovyoRqXUFMWe\\u002fQJmSq\\u002fj9Zb\\u002fX9sBavchkv78rSssakWO\\u002fVsRJzPNWYr8\\u002fcflMWxphv+pY45k8tl+\\u002fnPvKdRgyXb86uwBip61av25d7MPgLVi\\u002fBJHV4MOxVb\\u002fYC5SdNzpTv2aodxdjyFC\\u002fhQxZnIW2TL9OeOn+ruNHv4ZVSDq3FkO\\u002fSPHEmGecPL+9lYTj\\u002fRAzv+5tKd+KECO\\u002fAAAAAAAAAAA=\"},\"xaxis\":\"x\",\"y\":{\"dtype\":\"f8\",\"bdata\":\"rDXNO07RcT+MF7LVns1xP\\u002frltVTGxXE\\u002fdw1dyry5cT\\u002fB3p9VHadxPwQJENIaj3E\\u002fLhd2oH1ycT+1x3rF509xP9Ml\\u002fWH2JXE\\u002fJeRkGG\\u002f2cD8AZxbdG8FwP+N0BLztgnA\\u002fCC1jk0A9cD\\u002fj7uiNBuJvPwTUASIaPW8\\u002ff1N27z+Dbj+QxxcBl7ttPz2q0d8h5mw\\u002fVoBwZcr7az+2FzEM3PpqP6KwHsci6Gk\\u002fI6HsKQ6\\u002faD\\u002fK2X3xdXBnPxpIgHoNB2Y\\u002fnfM9vg6AZD+8pjlP9bJiP+FBkO2hr2A\\u002f5waqOivkXD+mjLkRv8FWP9OBrX7fvlA\\u002fAAAAAAAAAADTga1+375Qv6aMuRG\\u002fwVa\\u002f5waqOivkXL\\u002fhQZDtoa9gv7ymOU\\u002f1smK\\u002fnfM9vg6AZL8aSIB6DQdmv8rZffF1cGe\\u002fI6HsKQ6\\u002faL+isB7HIuhpv7YXMQzc+mq\\u002fVoBwZcr7a789qtHfIeZsv5DHFwGXu22\\u002ff1N27z+Dbr8E1AEiGj1vv+Pu6I0G4m+\\u002fCC1jk0A9cL\\u002fjdAS87YJwvwBnFt0bwXC\\u002fJeRkGG\\u002f2cL\\u002fTJf1h9iVxv7XHesXnT3G\\u002fLhd2oH1ycb8ECRDSGo9xv8Hen1Udp3G\\u002fdw1dyry5cb\\u002f65bVUxsVxv4wXstWezXG\\u002frDXNO07Rcb+MF7LVns1xv\\u002frltVTGxXG\\u002fdw1dyry5cb\\u002fB3p9VHadxvwQJENIaj3G\\u002fLhd2oH1ycb+1x3rF509xv9Ml\\u002fWH2JXG\\u002fJeRkGG\\u002f2cL8AZxbdG8Fwv+N0BLztgnC\\u002fCC1jk0A9cL\\u002fj7uiNBuJvvwTUASIaPW+\\u002ff1N27z+Dbr+QxxcBl7ttvz2q0d8h5my\\u002fVoBwZcr7a7+2FzEM3Ppqv6KwHsci6Gm\\u002fI6HsKQ6\\u002faL\\u002fK2X3xdXBnvxpIgHoNB2a\\u002fnfM9vg6AZL+8pjlP9bJiv+FBkO2hr2C\\u002f5waqOivkXL+mjLkRv8FWv9OBrX7fvlC\\u002fAAAAAAAAAADTga1+375QP6aMuRG\\u002fwVY\\u002f5waqOivkXD\\u002fhQZDtoa9gP7ymOU\\u002f1smI\\u002fnfM9vg6AZD8aSIB6DQdmP8rZffF1cGc\\u002fI6HsKQ6\\u002faD+isB7HIuhpP7YXMQzc+mo\\u002fVoBwZcr7az89qtHfIeZsP5DHFwGXu20\\u002ff1N27z+Dbj8E1AEiGj1vP+Pu6I0G4m8\\u002fCC1jk0A9cD\\u002fjdAS87YJwPwBnFt0bwXA\\u002fJeRkGG\\u002f2cD\\u002fTJf1h9iVxP7XHesXnT3E\\u002fLhd2oH1ycT8ECRDSGo9xP8Hen1Udp3E\\u002fdw1dyry5cT\\u002f65bVUxsVxP4wXstWezXE\\u002frDXNO07RcT8=\"},\"yaxis\":\"y\",\"type\":\"scatter\",\"fill\":\"toself\"}],                        {\"template\":{\"data\":{\"histogram2dcontour\":[{\"type\":\"histogram2dcontour\",\"colorbar\":{\"outlinewidth\":0,\"ticks\":\"\"},\"colorscale\":[[0.0,\"#0d0887\"],[0.1111111111111111,\"#46039f\"],[0.2222222222222222,\"#7201a8\"],[0.3333333333333333,\"#9c179e\"],[0.4444444444444444,\"#bd3786\"],[0.5555555555555556,\"#d8576b\"],[0.6666666666666666,\"#ed7953\"],[0.7777777777777778,\"#fb9f3a\"],[0.8888888888888888,\"#fdca26\"],[1.0,\"#f0f921\"]]}],\"choropleth\":[{\"type\":\"choropleth\",\"colorbar\":{\"outlinewidth\":0,\"ticks\":\"\"}}],\"histogram2d\":[{\"type\":\"histogram2d\",\"colorbar\":{\"outlinewidth\":0,\"ticks\":\"\"},\"colorscale\":[[0.0,\"#0d0887\"],[0.1111111111111111,\"#46039f\"],[0.2222222222222222,\"#7201a8\"],[0.3333333333333333,\"#9c179e\"],[0.4444444444444444,\"#bd3786\"],[0.5555555555555556,\"#d8576b\"],[0.6666666666666666,\"#ed7953\"],[0.7777777777777778,\"#fb9f3a\"],[0.8888888888888888,\"#fdca26\"],[1.0,\"#f0f921\"]]}],\"heatmap\":[{\"type\":\"heatmap\",\"colorbar\":{\"outlinewidth\":0,\"ticks\":\"\"},\"colorscale\":[[0.0,\"#0d0887\"],[0.1111111111111111,\"#46039f\"],[0.2222222222222222,\"#7201a8\"],[0.3333333333333333,\"#9c179e\"],[0.4444444444444444,\"#bd3786\"],[0.5555555555555556,\"#d8576b\"],[0.6666666666666666,\"#ed7953\"],[0.7777777777777778,\"#fb9f3a\"],[0.8888888888888888,\"#fdca26\"],[1.0,\"#f0f921\"]]}],\"contourcarpet\":[{\"type\":\"contourcarpet\",\"colorbar\":{\"outlinewidth\":0,\"ticks\":\"\"}}],\"contour\":[{\"type\":\"contour\",\"colorbar\":{\"outlinewidth\":0,\"ticks\":\"\"},\"colorscale\":[[0.0,\"#0d0887\"],[0.1111111111111111,\"#46039f\"],[0.2222222222222222,\"#7201a8\"],[0.3333333333333333,\"#9c179e\"],[0.4444444444444444,\"#bd3786\"],[0.5555555555555556,\"#d8576b\"],[0.6666666666666666,\"#ed7953\"],[0.7777777777777778,\"#fb9f3a\"],[0.8888888888888888,\"#fdca26\"],[1.0,\"#f0f921\"]]}],\"surface\":[{\"type\":\"surface\",\"colorbar\":{\"outlinewidth\":0,\"ticks\":\"\"},\"colorscale\":[[0.0,\"#0d0887\"],[0.1111111111111111,\"#46039f\"],[0.2222222222222222,\"#7201a8\"],[0.3333333333333333,\"#9c179e\"],[0.4444444444444444,\"#bd3786\"],[0.5555555555555556,\"#d8576b\"],[0.6666666666666666,\"#ed7953\"],[0.7777777777777778,\"#fb9f3a\"],[0.8888888888888888,\"#fdca26\"],[1.0,\"#f0f921\"]]}],\"mesh3d\":[{\"type\":\"mesh3d\",\"colorbar\":{\"outlinewidth\":0,\"ticks\":\"\"}}],\"scatter\":[{\"fillpattern\":{\"fillmode\":\"overlay\",\"size\":10,\"solidity\":0.2},\"type\":\"scatter\"}],\"parcoords\":[{\"type\":\"parcoords\",\"line\":{\"colorbar\":{\"outlinewidth\":0,\"ticks\":\"\"}}}],\"scatterpolargl\":[{\"type\":\"scatterpolargl\",\"marker\":{\"colorbar\":{\"outlinewidth\":0,\"ticks\":\"\"}}}],\"bar\":[{\"error_x\":{\"color\":\"#2a3f5f\"},\"error_y\":{\"color\":\"#2a3f5f\"},\"marker\":{\"line\":{\"color\":\"#E5ECF6\",\"width\":0.5},\"pattern\":{\"fillmode\":\"overlay\",\"size\":10,\"solidity\":0.2}},\"type\":\"bar\"}],\"scattergeo\":[{\"type\":\"scattergeo\",\"marker\":{\"colorbar\":{\"outlinewidth\":0,\"ticks\":\"\"}}}],\"scatterpolar\":[{\"type\":\"scatterpolar\",\"marker\":{\"colorbar\":{\"outlinewidth\":0,\"ticks\":\"\"}}}],\"histogram\":[{\"marker\":{\"pattern\":{\"fillmode\":\"overlay\",\"size\":10,\"solidity\":0.2}},\"type\":\"histogram\"}],\"scattergl\":[{\"type\":\"scattergl\",\"marker\":{\"colorbar\":{\"outlinewidth\":0,\"ticks\":\"\"}}}],\"scatter3d\":[{\"type\":\"scatter3d\",\"line\":{\"colorbar\":{\"outlinewidth\":0,\"ticks\":\"\"}},\"marker\":{\"colorbar\":{\"outlinewidth\":0,\"ticks\":\"\"}}}],\"scattermap\":[{\"type\":\"scattermap\",\"marker\":{\"colorbar\":{\"outlinewidth\":0,\"ticks\":\"\"}}}],\"scattermapbox\":[{\"type\":\"scattermapbox\",\"marker\":{\"colorbar\":{\"outlinewidth\":0,\"ticks\":\"\"}}}],\"scatterternary\":[{\"type\":\"scatterternary\",\"marker\":{\"colorbar\":{\"outlinewidth\":0,\"ticks\":\"\"}}}],\"scattercarpet\":[{\"type\":\"scattercarpet\",\"marker\":{\"colorbar\":{\"outlinewidth\":0,\"ticks\":\"\"}}}],\"carpet\":[{\"aaxis\":{\"endlinecolor\":\"#2a3f5f\",\"gridcolor\":\"white\",\"linecolor\":\"white\",\"minorgridcolor\":\"white\",\"startlinecolor\":\"#2a3f5f\"},\"baxis\":{\"endlinecolor\":\"#2a3f5f\",\"gridcolor\":\"white\",\"linecolor\":\"white\",\"minorgridcolor\":\"white\",\"startlinecolor\":\"#2a3f5f\"},\"type\":\"carpet\"}],\"table\":[{\"cells\":{\"fill\":{\"color\":\"#EBF0F8\"},\"line\":{\"color\":\"white\"}},\"header\":{\"fill\":{\"color\":\"#C8D4E3\"},\"line\":{\"color\":\"white\"}},\"type\":\"table\"}],\"barpolar\":[{\"marker\":{\"line\":{\"color\":\"#E5ECF6\",\"width\":0.5},\"pattern\":{\"fillmode\":\"overlay\",\"size\":10,\"solidity\":0.2}},\"type\":\"barpolar\"}],\"pie\":[{\"automargin\":true,\"type\":\"pie\"}]},\"layout\":{\"autotypenumbers\":\"strict\",\"colorway\":[\"#636efa\",\"#EF553B\",\"#00cc96\",\"#ab63fa\",\"#FFA15A\",\"#19d3f3\",\"#FF6692\",\"#B6E880\",\"#FF97FF\",\"#FECB52\"],\"font\":{\"color\":\"#2a3f5f\"},\"hovermode\":\"closest\",\"hoverlabel\":{\"align\":\"left\"},\"paper_bgcolor\":\"white\",\"plot_bgcolor\":\"#E5ECF6\",\"polar\":{\"bgcolor\":\"#E5ECF6\",\"angularaxis\":{\"gridcolor\":\"white\",\"linecolor\":\"white\",\"ticks\":\"\"},\"radialaxis\":{\"gridcolor\":\"white\",\"linecolor\":\"white\",\"ticks\":\"\"}},\"ternary\":{\"bgcolor\":\"#E5ECF6\",\"aaxis\":{\"gridcolor\":\"white\",\"linecolor\":\"white\",\"ticks\":\"\"},\"baxis\":{\"gridcolor\":\"white\",\"linecolor\":\"white\",\"ticks\":\"\"},\"caxis\":{\"gridcolor\":\"white\",\"linecolor\":\"white\",\"ticks\":\"\"}},\"coloraxis\":{\"colorbar\":{\"outlinewidth\":0,\"ticks\":\"\"}},\"colorscale\":{\"sequential\":[[0.0,\"#0d0887\"],[0.1111111111111111,\"#46039f\"],[0.2222222222222222,\"#7201a8\"],[0.3333333333333333,\"#9c179e\"],[0.4444444444444444,\"#bd3786\"],[0.5555555555555556,\"#d8576b\"],[0.6666666666666666,\"#ed7953\"],[0.7777777777777778,\"#fb9f3a\"],[0.8888888888888888,\"#fdca26\"],[1.0,\"#f0f921\"]],\"sequentialminus\":[[0.0,\"#0d0887\"],[0.1111111111111111,\"#46039f\"],[0.2222222222222222,\"#7201a8\"],[0.3333333333333333,\"#9c179e\"],[0.4444444444444444,\"#bd3786\"],[0.5555555555555556,\"#d8576b\"],[0.6666666666666666,\"#ed7953\"],[0.7777777777777778,\"#fb9f3a\"],[0.8888888888888888,\"#fdca26\"],[1.0,\"#f0f921\"]],\"diverging\":[[0,\"#8e0152\"],[0.1,\"#c51b7d\"],[0.2,\"#de77ae\"],[0.3,\"#f1b6da\"],[0.4,\"#fde0ef\"],[0.5,\"#f7f7f7\"],[0.6,\"#e6f5d0\"],[0.7,\"#b8e186\"],[0.8,\"#7fbc41\"],[0.9,\"#4d9221\"],[1,\"#276419\"]]},\"xaxis\":{\"gridcolor\":\"white\",\"linecolor\":\"white\",\"ticks\":\"\",\"title\":{\"standoff\":15},\"zerolinecolor\":\"white\",\"automargin\":true,\"zerolinewidth\":2},\"yaxis\":{\"gridcolor\":\"white\",\"linecolor\":\"white\",\"ticks\":\"\",\"title\":{\"standoff\":15},\"zerolinecolor\":\"white\",\"automargin\":true,\"zerolinewidth\":2},\"scene\":{\"xaxis\":{\"backgroundcolor\":\"#E5ECF6\",\"gridcolor\":\"white\",\"linecolor\":\"white\",\"showbackground\":true,\"ticks\":\"\",\"zerolinecolor\":\"white\",\"gridwidth\":2},\"yaxis\":{\"backgroundcolor\":\"#E5ECF6\",\"gridcolor\":\"white\",\"linecolor\":\"white\",\"showbackground\":true,\"ticks\":\"\",\"zerolinecolor\":\"white\",\"gridwidth\":2},\"zaxis\":{\"backgroundcolor\":\"#E5ECF6\",\"gridcolor\":\"white\",\"linecolor\":\"white\",\"showbackground\":true,\"ticks\":\"\",\"zerolinecolor\":\"white\",\"gridwidth\":2}},\"shapedefaults\":{\"line\":{\"color\":\"#2a3f5f\"}},\"annotationdefaults\":{\"arrowcolor\":\"#2a3f5f\",\"arrowhead\":0,\"arrowwidth\":1},\"geo\":{\"bgcolor\":\"white\",\"landcolor\":\"#E5ECF6\",\"subunitcolor\":\"white\",\"showland\":true,\"showlakes\":true,\"lakecolor\":\"white\"},\"title\":{\"x\":0.05},\"mapbox\":{\"style\":\"light\"}}},\"xaxis\":{\"anchor\":\"y\",\"domain\":[0.0,1.0],\"title\":{\"text\":\"z\"}},\"yaxis\":{\"anchor\":\"x\",\"domain\":[0.0,1.0],\"title\":{\"text\":\"y\"},\"scaleanchor\":\"x\",\"scaleratio\":1},\"legend\":{\"tracegroupgap\":0},\"margin\":{\"t\":60},\"width\":640,\"height\":480},                        {\"responsive\": true}                    )                };            </script>        </div></td></tr><tr><td style='text-align: left'><details><summary style='font-weight:bold'>Polygon</summary><table><tr><td style='text-align:left'>area</td><td>5.896220122998807e-05</td></tr><tr><td style='text-align:left'>height</td><td>0.008700000000000006</td></tr><tr><td style='text-align:left'>perimeter</td><td>0.027243885509781032</td></tr><tr><td style='text-align:left'>width</td><td>0.008532317323115969</td></tr></table></details></td></tr></table></td></tr><tr><td style='text-align:left'>length</td><td>5208.7339449078745</td></tr><tr><td style='text-align:left'>material</td><td><table style='margin:0'><tr><td>&#x27;BST500&#x27;</td></tr><tr><td>&#x27;steel&#x27;</td></tr></table></td></tr><tr><td style='text-align:left'>ring_temperatures</td><td>array([1564.02461989, 1561.13466478, 1552.47023573, 1538.03228003,\n",
       "       1517.78168798, 1491.70612299, 1460.17725746, 1424.73026868,\n",
       "       1388.99526951, 1358.82742219, 1340.17168701])</td></tr><tr><td style='text-align:left'>strain</td><td>np.float64(0.520194900008893)</td></tr><tr><td style='text-align:left'>surface_temperature</td><td>np.float64(1340.1716870065236)</td></tr><tr><td style='text-align:left'>t</td><td>np.float64(36.854174411047744)</td></tr><tr><td style='text-align:left'>temperature</td><td>np.float64(1423.7200086555574)</td></tr><tr><td style='text-align:left'>weight</td><td>2400</td></tr><tr><td style='text-align:left'>width</td><td>np.float64(0.008532317323115969)</td></tr></table></details></td></tr></table>"
      ]
     },
     "execution_count": 11,
     "metadata": {},
     "output_type": "execute_result"
    }
   ],
   "execution_count": 11
  },
  {
   "metadata": {
    "ExecuteTime": {
     "end_time": "2025-06-02T20:01:11.293861Z",
     "start_time": "2025-06-02T20:01:11.288841Z"
    }
   },
   "cell_type": "code",
   "source": [
    "def extract_wear_contours_from_measurement(groove_name):\n",
    "    root_dir = Path.cwd()\n",
    "    wear_data_dir = root_dir / \"wear_data\" / groove_name\n",
    "\n",
    "    labels = []\n",
    "    tonnages = []\n",
    "    measured_wear_contours = []\n",
    "\n",
    "    for file in wear_data_dir.iterdir():\n",
    "        with open(file, \"r\") as file:\n",
    "            data = json.load(file)\n",
    "\n",
    "        for entry in data[\"wear_data\"]:\n",
    "            labels.append(entry[\"stand\"])\n",
    "            tonnages.append(entry[\"tonnage\"])\n",
    "            x_values = np.array([point[\"x\"] * 1e-3 for point in entry[\"wear_contour\"]])\n",
    "            y_values = np.array([point[\"y\"] * 1e-3 for point in entry[\"wear_contour\"]])\n",
    "            x_values_shifted = x_values - max(x_values) / 2\n",
    "            measured_wear_contour = LineString(list(zip(x_values_shifted, y_values)))\n",
    "            measured_wear_contours.append(measured_wear_contour)\n",
    "\n",
    "        return labels, tonnages, measured_wear_contours"
   ],
   "id": "87188d56b666e42b",
   "outputs": [],
   "execution_count": 15
  },
  {
   "metadata": {
    "ExecuteTime": {
     "end_time": "2025-06-02T20:01:25.222308Z",
     "start_time": "2025-06-02T20:01:25.219515Z"
    }
   },
   "cell_type": "code",
   "source": [
    "def solve_total_wear_depths_as_contour_line(params):\n",
    "    sequences = [\n",
    "        {\n",
    "            \"label\": \"e11_2\",\n",
    "            \"sequence\": rolling_train_e112\n",
    "        },\n",
    "        {\n",
    "            \"label\": \"e10_7\",\n",
    "            \"sequence\": rolling_train_e107\n",
    "        }\n",
    "    ]\n",
    "\n",
    "    area_errors = []\n",
    "    wear_coefficient = params['wear_coefficient'].value\n",
    "\n",
    "    for dict in sequences:\n",
    "        roll_passes = dict[\"sequence\"].roll_passes\n",
    "        for roll_pass in roll_passes:\n",
    "            labels, tonnages, measured_wear_contours = extract_wear_contours_from_measurement(dict[\"label\"])\n",
    "        for label, tonnage, measured_wear_contour in zip(labels, tonnages, measured_wear_contours):\n",
    "            if roll_pass.label == label:\n",
    "                calculated_wear_contour = calculate_wear_contour(roll_pass, wear_coefficient, tonnage * 1000)\n",
    "                area_error = calculate_area_between_contours(calculated_wear_contour, measured_wear_contour)\n",
    "\n",
    "                area_errors.append(area_error)\n",
    "            else:\n",
    "                continue\n",
    "\n",
    "    rms_error = root_mean_square_value(np.array(area_errors))\n",
    "    print(\"RMS Error: \", rms_error)\n",
    "    return rms_error\n"
   ],
   "id": "22e82b3857c95d90",
   "outputs": [],
   "execution_count": 16
  },
  {
   "metadata": {
    "ExecuteTime": {
     "end_time": "2025-06-02T20:01:39.113695Z",
     "start_time": "2025-06-02T20:01:39.111866Z"
    }
   },
   "cell_type": "code",
   "source": [
    "params = Parameters()\n",
    "params.add('wear_coefficient', value=1e-6, min=1e-10, max=1e-3, vary=True)"
   ],
   "id": "6a0b6f2d8a3c457",
   "outputs": [],
   "execution_count": 17
  },
  {
   "metadata": {
    "ExecuteTime": {
     "end_time": "2025-06-02T20:02:09.894110Z",
     "start_time": "2025-06-02T20:01:53.073890Z"
    }
   },
   "cell_type": "code",
   "source": [
    "result = minimize(\n",
    "    solve_total_wear_depths_as_contour_line,\n",
    "    params,\n",
    "    nan_policy='omit',\n",
    "    max_nfev=100,\n",
    "    method=\"cobyla\"\n",
    ")"
   ],
   "id": "ea78e32cea3cb9fc",
   "outputs": [
    {
     "name": "stdout",
     "output_type": "stream",
     "text": [
      "RMS Error:  0.006833491677483034\n",
      "RMS Error:  1.7564929780778638\n",
      "RMS Error:  1.3929376003092915\n",
      "RMS Error:  0.3207929306083314\n",
      "RMS Error:  0.16630840002847386\n",
      "RMS Error:  0.00651205397663961\n",
      "RMS Error:  0.026343881687781207\n",
      "RMS Error:  0.0015882887993602173\n",
      "RMS Error:  4.913460374274769e-06\n",
      "RMS Error:  0.0017490860140008278\n",
      "RMS Error:  0.00045749171059937256\n",
      "RMS Error:  8.432740894226726e-05\n",
      "RMS Error:  3.628956849469586e-05\n",
      "RMS Error:  5.2511421913995216e-06\n",
      "RMS Error:  6.558215027511069e-06\n",
      "RMS Error:  4.888909131693676e-06\n",
      "RMS Error:  4.897313228225242e-06\n",
      "RMS Error:  4.88494312911687e-06\n",
      "RMS Error:  4.883145074625359e-06\n",
      "RMS Error:  4.8855066519036806e-06\n",
      "RMS Error:  4.8855066519036806e-06\n"
     ]
    }
   ],
   "execution_count": 18
  },
  {
   "metadata": {
    "ExecuteTime": {
     "end_time": "2025-06-02T20:02:23.828027Z",
     "start_time": "2025-06-02T20:02:23.825763Z"
    }
   },
   "cell_type": "code",
   "source": "result.params",
   "id": "384a138139ac9e81",
   "outputs": [
    {
     "data": {
      "text/plain": [
       "Parameters([('wear_coefficient', <Parameter 'wear_coefficient', value=np.float64(1.7970932943737316e-10), bounds=[1e-10:0.001]>)])"
      ],
      "text/html": [
       "<table class=\"jp-toc-ignore\"><caption>Parameters</caption><tr><th style='text-align:left'>name</th><th style='text-align:left'>value</th><th style='text-align:left'>initial value</th><th style='text-align:left'>min</th><th style='text-align:left'>max</th><th style='text-align:right'>vary</th></tr><tr><td style='text-align:left'>wear_coefficient</td><td style='text-align:left'> 1.7971e-10</td><td style='text-align:left'>1e-06</td><td style='text-align:left'> 1.0000e-10</td><td style='text-align:left'> 1.0000e-03</td><td style='text-align:right'>True</td></tr></table>"
      ]
     },
     "execution_count": 19,
     "metadata": {},
     "output_type": "execute_result"
    }
   ],
   "execution_count": 19
  },
  {
   "metadata": {
    "ExecuteTime": {
     "end_time": "2025-06-02T20:04:14.917958Z",
     "start_time": "2025-06-02T20:04:14.915227Z"
    }
   },
   "cell_type": "code",
   "source": "result",
   "id": "7289d4efa3fcf8f0",
   "outputs": [
    {
     "data": {
      "text/plain": [
       "<lmfit.minimizer.MinimizerResult at 0x7f024364f890>"
      ],
      "text/html": [
       "<h2>Fit Result</h2> <table class=\"jp-toc-ignore\"><caption class=\"jp-toc-ignore\">Fit Statistics</caption><tr><td style='text-align:left'>fitting method</td><td style='text-align:right'>COBYLA</td></tr><tr><td style='text-align:left'># function evals</td><td style='text-align:right'>20</td></tr><tr><td style='text-align:left'># data points</td><td style='text-align:right'>1</td></tr><tr><td style='text-align:left'># variables</td><td style='text-align:right'>1</td></tr><tr><td style='text-align:left'>chi-square</td><td style='text-align:right'> 2.3868e-11</td></tr><tr><td style='text-align:left'>reduced chi-square</td><td style='text-align:right'> 2.3868e-11</td></tr><tr><td style='text-align:left'>Akaike info crit.</td><td style='text-align:right'>-22.4584751</td></tr><tr><td style='text-align:left'>Bayesian info crit.</td><td style='text-align:right'>-24.4584751</td></tr></table><table class=\"jp-toc-ignore\"><caption>Parameters</caption><tr><th style='text-align:left'>name</th><th style='text-align:left'>value</th><th style='text-align:left'>initial value</th><th style='text-align:left'>min</th><th style='text-align:left'>max</th><th style='text-align:right'>vary</th></tr><tr><td style='text-align:left'>wear_coefficient</td><td style='text-align:left'> 1.7971e-10</td><td style='text-align:left'>1e-06</td><td style='text-align:left'> 1.0000e-10</td><td style='text-align:left'> 1.0000e-03</td><td style='text-align:right'>True</td></tr></table>"
      ]
     },
     "execution_count": 20,
     "metadata": {},
     "output_type": "execute_result"
    }
   ],
   "execution_count": 20
  },
  {
   "metadata": {},
   "cell_type": "code",
   "outputs": [],
   "execution_count": null,
   "source": "",
   "id": "7e9eb68026d8a668"
  }
 ],
 "metadata": {
  "jupytext": {
   "formats": "ipynb,md"
  },
  "kernelspec": {
   "display_name": "Python 3 (ipykernel)",
   "language": "python",
   "name": "python3"
  },
  "language_info": {
   "codemirror_mode": {
    "name": "ipython",
    "version": 3
   },
   "file_extension": ".py",
   "mimetype": "text/x-python",
   "name": "python",
   "nbconvert_exporter": "python",
   "pygments_lexer": "ipython3",
   "version": "3.12.7"
  }
 },
 "nbformat": 4,
 "nbformat_minor": 5
}
