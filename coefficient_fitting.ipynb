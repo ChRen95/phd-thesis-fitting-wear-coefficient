{
 "cells": [
  {
   "metadata": {
    "ExecuteTime": {
     "end_time": "2025-06-18T22:11:01.789268Z",
     "start_time": "2025-06-18T22:11:01.328200Z"
    }
   },
   "cell_type": "code",
   "source": [
    "from lmfit import Parameters\n",
    "from lmfit import minimize, fit_report"
   ],
   "id": "23a9b33121736c1b",
   "outputs": [],
   "execution_count": 1
  },
  {
   "metadata": {
    "ExecuteTime": {
     "end_time": "2025-06-18T22:11:02.055404Z",
     "start_time": "2025-06-18T22:11:01.872384Z"
    }
   },
   "cell_type": "code",
   "source": [
    "import pyroll.core as pr\n",
    "import pyroll.pillar_model\n",
    "import pyroll.neutral_point_estimator\n",
    "import pyroll.sparling_spreading\n",
    "import pyroll.hensel_force_torque\n",
    "import pyroll.freiberg_flow_stress\n",
    "import pyroll.ring_model_thermal"
   ],
   "id": "c2430fe7953713d9",
   "outputs": [],
   "execution_count": 2
  },
  {
   "metadata": {
    "ExecuteTime": {
     "end_time": "2025-06-18T22:11:02.074438Z",
     "start_time": "2025-06-18T22:11:02.062836Z"
    }
   },
   "cell_type": "code",
   "source": [
    "from in_profile import create_in_profile_from_surface_temperature\n",
    "from rolling_sequence import rolling_train_rpd1, rolling_train_rpd2, rolling_train_rpd3\n",
    "from utilities import *"
   ],
   "id": "d8df741abd82231b",
   "outputs": [],
   "execution_count": 3
  },
  {
   "metadata": {
    "ExecuteTime": {
     "end_time": "2025-06-18T22:11:02.115932Z",
     "start_time": "2025-06-18T22:11:02.113890Z"
    }
   },
   "cell_type": "code",
   "source": [
    "pyroll.pillar_model.Config.PILLAR_COUNT = 30\n",
    "pyroll.neutral_point_estimator.Config.ESTIMATOR = \"EQUAL\"\n",
    "ROLL_SURFACE_TEMPERATURE = 50 + 273.15\n",
    "DISK_ELEMENT_COUNT = 30"
   ],
   "id": "882e05f0ff0e3b05",
   "outputs": [],
   "execution_count": 4
  },
  {
   "metadata": {
    "ExecuteTime": {
     "end_time": "2025-06-18T22:11:02.165989Z",
     "start_time": "2025-06-18T22:11:02.163955Z"
    }
   },
   "cell_type": "code",
   "source": [
    "@pr.CoolingPipe.DiskElement.heat_transfer_coefficient\n",
    "def heat_transfer_coefficient_model_moreales(self: pr.CoolingPipe.DiskElement):\n",
    "    mean_surface_temperature = (self.in_profile.surface_temperature + self.out_profile.surface_temperature) / 2\n",
    "    profile_surface_temperature_celsius = mean_surface_temperature - 273.15\n",
    "    return 13950 + 5.12 * 1e6 / profile_surface_temperature_celsius"
   ],
   "id": "bec0683651946559",
   "outputs": [],
   "execution_count": 5
  },
  {
   "metadata": {
    "ExecuteTime": {
     "end_time": "2025-06-18T22:11:02.212360Z",
     "start_time": "2025-06-18T22:11:02.210313Z"
    }
   },
   "cell_type": "code",
   "source": [
    "in_profile = create_in_profile_from_surface_temperature(1050 + 273.15)\n",
    "in_profile.ring_temperatures = in_profile.ring_temperatures"
   ],
   "id": "ac729b2907c199de",
   "outputs": [],
   "execution_count": 6
  },
  {
   "metadata": {
    "ExecuteTime": {
     "end_time": "2025-06-18T22:11:02.281559Z",
     "start_time": "2025-06-18T22:11:02.260503Z"
    }
   },
   "cell_type": "code",
   "source": [
    "rolling_train_rpd1 = rolling_train_rpd1(ROLL_SURFACE_TEMPERATURE, DISK_ELEMENT_COUNT)\n",
    "rolling_train_rpd2 = rolling_train_rpd2(ROLL_SURFACE_TEMPERATURE, DISK_ELEMENT_COUNT)\n",
    "rolling_train_rpd3 = rolling_train_rpd3(ROLL_SURFACE_TEMPERATURE, DISK_ELEMENT_COUNT)"
   ],
   "id": "fe09575a3ae4613a",
   "outputs": [],
   "execution_count": 7
  },
  {
   "metadata": {
    "ExecuteTime": {
     "end_time": "2025-06-18T23:04:51.925660Z",
     "start_time": "2025-06-18T22:11:02.364244Z"
    }
   },
   "cell_type": "code",
   "source": [
    "rolling_train_rpd1.solve(in_profile)\n",
    "rolling_train_rpd2.solve(in_profile)\n",
    "rolling_train_rpd3.solve(in_profile)"
   ],
   "id": "8a7d60a04ab6af07",
   "outputs": [
    {
     "name": "stderr",
     "output_type": "stream",
     "text": [
      "Solution iteration of TwoRollPass '3' exceeded the maximum iteration count of 100. Continuing anyway.\n",
      "Solution iteration of TwoRollPass '7' exceeded the maximum iteration count of 100. Continuing anyway.\n",
      "Solution iteration of TwoRollPass '8' exceeded the maximum iteration count of 100. Continuing anyway.\n",
      "Solution iteration of TwoRollPass '14' exceeded the maximum iteration count of 100. Continuing anyway.\n",
      "Solution iteration of TwoRollPass '18-V' exceeded the maximum iteration count of 100. Continuing anyway.\n",
      "Solution iteration of TwoRollPass '23-H' exceeded the maximum iteration count of 100. Continuing anyway.\n",
      "Solution iteration of TwoRollPass '18-V' exceeded the maximum iteration count of 100. Continuing anyway.\n",
      "Solution iteration of TwoRollPass '3' exceeded the maximum iteration count of 100. Continuing anyway.\n",
      "Solution iteration of TwoRollPass '7' exceeded the maximum iteration count of 100. Continuing anyway.\n",
      "Solution iteration of TwoRollPass '8' exceeded the maximum iteration count of 100. Continuing anyway.\n",
      "Solution iteration of TwoRollPass '14' exceeded the maximum iteration count of 100. Continuing anyway.\n",
      "Solution iteration of TwoRollPass '22-V' exceeded the maximum iteration count of 100. Continuing anyway.\n",
      "Solution iteration of TwoRollPass '23-H' exceeded the maximum iteration count of 100. Continuing anyway.\n",
      "Solution iteration of TwoRollPass '27-H' exceeded the maximum iteration count of 100. Continuing anyway.\n",
      "Solution iteration of TwoRollPass '3' exceeded the maximum iteration count of 100. Continuing anyway.\n",
      "Solution iteration of TwoRollPass '7' exceeded the maximum iteration count of 100. Continuing anyway.\n",
      "Solution iteration of TwoRollPass '8' exceeded the maximum iteration count of 100. Continuing anyway.\n",
      "Solution iteration of TwoRollPass '14' exceeded the maximum iteration count of 100. Continuing anyway.\n",
      "Solution iteration of TwoRollPass '27-H' exceeded the maximum iteration count of 100. Continuing anyway.\n",
      "Solution iteration of TwoRollPass '28-V' exceeded the maximum iteration count of 100. Continuing anyway.\n",
      "Solution iteration of TwoRollPass '18-V' exceeded the maximum iteration count of 100. Continuing anyway.\n",
      "Solution iteration of TwoRollPass '18-V' exceeded the maximum iteration count of 100. Continuing anyway.\n"
     ]
    },
    {
     "data": {
      "text/plain": [
       "Profile(\n",
       "    classifiers={'false_round', 'generic_elongation', 'round', 'symmetric'},\n",
       "    core_temperature=np.float64(1563.6262441102974),\n",
       "    cross_section=Polygon(\n",
       "        area=5.893659124183413e-05,\n",
       "        height=0.008700000000000006,\n",
       "        perimeter=0.027240114871976685,\n",
       "        width=0.008517743190215882,\n",
       "        ),\n",
       "    length=5211.114927918349,\n",
       "    material=['BST500', 'steel'],\n",
       "    ring_temperatures=array([1563.62624411, 1560.75020294, 1552.12609703, 1537.75030537,\n",
       "           1517.57709745, 1491.58658858, 1460.14304003, 1424.77487668,\n",
       "           1389.10595613, 1358.98549405, 1340.35438669]),\n",
       "    strain=np.float64(0.5177718111612112),\n",
       "    surface_temperature=np.float64(1340.3543866900577),\n",
       "    t=np.float64(36.838988272772404),\n",
       "    temperature=np.float64(1423.7380968234704),\n",
       "    weight=2400,\n",
       "    width=np.float64(0.008517743190215882),\n",
       "    )"
      ],
      "text/html": [
       "<table><tr><td style='text-align: center'><div>                        <script type=\"text/javascript\">window.PlotlyConfig = {MathJaxConfig: 'local'};</script>\n",
       "        <script charset=\"utf-8\" src=\"https://cdn.plot.ly/plotly-3.0.1.min.js\"></script>                <div id=\"049602bf-5fda-4a77-9c4e-da310a73da53\" class=\"plotly-graph-div\" style=\"height:480px; width:640px;\"></div>            <script type=\"text/javascript\">                window.PLOTLYENV=window.PLOTLYENV || {};                                if (document.getElementById(\"049602bf-5fda-4a77-9c4e-da310a73da53\")) {                    Plotly.newPlot(                        \"049602bf-5fda-4a77-9c4e-da310a73da53\",                        [{\"hovertemplate\":\"z=%{x}\\u003cbr\\u003ey=%{y}\\u003cextra\\u003e\\u003c\\u002fextra\\u003e\",\"legendgroup\":\"\",\"line\":{\"color\":\"#636efa\",\"dash\":\"solid\"},\"marker\":{\"symbol\":\"circle\"},\"mode\":\"lines\",\"name\":\"\",\"orientation\":\"v\",\"showlegend\":false,\"x\":{\"dtype\":\"f8\",\"bdata\":\"AAAAAAAAAADpYdhQnAgjPwrYAV4KCTM\\u002fC7ehtm6QPD8UwfP5sg5DPxg5pM2b2Uc\\u002fYDFFhFiqTD9PlcNaOsFQPwd8Jhn2MVM\\u002fBXgtE1yoVT9qJb2EWCNYPyW04n0folo\\u002fFPxoEAwmXT9IBxGQQKpfP+dHNqB6FGE\\u002fVgzEZypRYj\\u002fbXVEQZItjP3jsebQXw2Q\\u002f046rR174ZT9HCAAbcStnP7d8TPdAXGg\\u002f6PsO97SKaT\\u002fg2UaFBLdqP4H3LCku4Ws\\u002fAIUzwrwIbT97YYB8wC1uP8ErVgEKUG8\\u002fqBfXJbE2cD\\u002fMDmD9LcJwP9HWPMd0PHE\\u002f6mqAI8BxcT\\u002fR1jzHdDxxP8wOYP0twnA\\u002fqBfXJbE2cD\\u002fBK1YBClBvP3thgHzALW4\\u002fAIUzwrwIbT+B9ywpLuFrP+DZRoUEt2o\\u002f6PsO97SKaT+3fEz3QFxoP0cIABtxK2c\\u002f046rR174ZT947Hm0F8NkP9tdURBki2M\\u002fVgzEZypRYj\\u002fnRzagehRhP0gHEZBAql8\\u002fFPxoEAwmXT8ltOJ9H6JaP2olvYRYI1g\\u002fBXgtE1yoVT8HfCYZ9jFTP0+Vw1o6wVA\\u002fYDFFhFiqTD8YOaTNm9lHPxTB8\\u002fmyDkM\\u002fC7ehtm6QPD8K2AFeCgkzP+lh2FCcCCM\\u002fAAAAAAAAAADpYdhQnAgjvwrYAV4KCTO\\u002fC7ehtm6QPL8UwfP5sg5Dvxg5pM2b2Ue\\u002fYDFFhFiqTL9PlcNaOsFQvwd8Jhn2MVO\\u002fBXgtE1yoVb9qJb2EWCNYvyW04n0folq\\u002fFPxoEAwmXb9IBxGQQKpfv+dHNqB6FGG\\u002fVgzEZypRYr\\u002fbXVEQZItjv3jsebQXw2S\\u002f046rR174Zb9HCAAbcStnv7d8TPdAXGi\\u002f6PsO97SKab\\u002fg2UaFBLdqv4H3LCku4Wu\\u002fAIUzwrwIbb97YYB8wC1uv8ErVgEKUG+\\u002fqBfXJbE2cL\\u002fMDmD9LcJwv9HWPMd0PHG\\u002f6mqAI8Bxcb\\u002fR1jzHdDxxv8wOYP0twnC\\u002fqBfXJbE2cL\\u002fBK1YBClBvv3thgHzALW6\\u002fAIUzwrwIbb+B9ywpLuFrv+DZRoUEt2q\\u002f6PsO97SKab+3fEz3QFxov0cIABtxK2e\\u002f046rR174Zb947Hm0F8Nkv9tdURBki2O\\u002fVgzEZypRYr\\u002fnRzagehRhv0gHEZBAql+\\u002fFPxoEAwmXb8ltOJ9H6Jav2olvYRYI1i\\u002fBXgtE1yoVb8HfCYZ9jFTv0+Vw1o6wVC\\u002fYDFFhFiqTL8YOaTNm9lHvxTB8\\u002fmyDkO\\u002fC7ehtm6QPL8K2AFeCgkzv+lh2FCcCCO\\u002fAAAAAAAAAAA=\"},\"xaxis\":\"x\",\"y\":{\"dtype\":\"f8\",\"bdata\":\"rDXNO07RcT8LrjJeoM1xP1TeBJPPxXE\\u002fJPawGNS5cT\\u002f6bMCLPKdxP3IhdiFSj3E\\u002fJ4jNaNRycT9yC0XSTVBxP9qo4gOIJnE\\u002fe+I1Mjb3cD+sRNfpIcJwPz0EZ6EMhHA\\u002fUWaK35s+cD9ozIMNH+VvPwHMt3gjQG8\\u002fMSenA6iGbj9D2i2NaL9tP3s\\u002fS2pp6mw\\u002fBmqYZwkAbD\\u002fQvZpjqf9qP5Xtr1ud7Wk\\u002fM4CxM5LEaD+rITH95XZnP+fo34LEDmY\\u002fgyOS6AuIZD8orYlyEb1iP+FMTt6GvWA\\u002fnwWMxFgDXT\\u002fSkp0HK\\u002fhWP6pgxd7bH1E\\u002fAAAAAAAAAACqYMXe2x9Rv9KSnQcr+Fa\\u002fnwWMxFgDXb\\u002fhTE7ehr1gvyitiXIRvWK\\u002fgyOS6AuIZL\\u002fn6N+CxA5mv6shMf3ldme\\u002fM4CxM5LEaL+V7a9bne1pv9C9mmOp\\u002f2q\\u002fBmqYZwkAbL97P0tqaepsv0PaLY1ov22\\u002fMSenA6iGbr8BzLd4I0Bvv2jMgw0f5W+\\u002fUWaK35s+cL89BGehDIRwv6xE1+khwnC\\u002fe+I1Mjb3cL\\u002faqOIDiCZxv3ILRdJNUHG\\u002fJ4jNaNRycb9yIXYhUo9xv\\u002fpswIs8p3G\\u002fJPawGNS5cb9U3gSTz8VxvwuuMl6gzXG\\u002frDXNO07Rcb8LrjJeoM1xv1TeBJPPxXG\\u002fJPawGNS5cb\\u002f6bMCLPKdxv3IhdiFSj3G\\u002fJ4jNaNRycb9yC0XSTVBxv9qo4gOIJnG\\u002fe+I1Mjb3cL+sRNfpIcJwvz0EZ6EMhHC\\u002fUWaK35s+cL9ozIMNH+VvvwHMt3gjQG+\\u002fMSenA6iGbr9D2i2NaL9tv3s\\u002fS2pp6my\\u002fBmqYZwkAbL\\u002fQvZpjqf9qv5Xtr1ud7Wm\\u002fM4CxM5LEaL+rITH95XZnv+fo34LEDma\\u002fgyOS6AuIZL8orYlyEb1iv+FMTt6GvWC\\u002fnwWMxFgDXb\\u002fSkp0HK\\u002fhWv6pgxd7bH1G\\u002fAAAAAAAAAACqYMXe2x9RP9KSnQcr+FY\\u002fnwWMxFgDXT\\u002fhTE7ehr1gPyitiXIRvWI\\u002fgyOS6AuIZD\\u002fn6N+CxA5mP6shMf3ldmc\\u002fM4CxM5LEaD+V7a9bne1pP9C9mmOp\\u002f2o\\u002fBmqYZwkAbD97P0tqaepsP0PaLY1ov20\\u002fMSenA6iGbj8BzLd4I0BvP2jMgw0f5W8\\u002fUWaK35s+cD89BGehDIRwP6xE1+khwnA\\u002fe+I1Mjb3cD\\u002faqOIDiCZxP3ILRdJNUHE\\u002fJ4jNaNRycT9yIXYhUo9xP\\u002fpswIs8p3E\\u002fJPawGNS5cT9U3gSTz8VxPwuuMl6gzXE\\u002frDXNO07RcT8=\"},\"yaxis\":\"y\",\"type\":\"scatter\",\"fill\":\"toself\"}],                        {\"template\":{\"data\":{\"histogram2dcontour\":[{\"type\":\"histogram2dcontour\",\"colorbar\":{\"outlinewidth\":0,\"ticks\":\"\"},\"colorscale\":[[0.0,\"#0d0887\"],[0.1111111111111111,\"#46039f\"],[0.2222222222222222,\"#7201a8\"],[0.3333333333333333,\"#9c179e\"],[0.4444444444444444,\"#bd3786\"],[0.5555555555555556,\"#d8576b\"],[0.6666666666666666,\"#ed7953\"],[0.7777777777777778,\"#fb9f3a\"],[0.8888888888888888,\"#fdca26\"],[1.0,\"#f0f921\"]]}],\"choropleth\":[{\"type\":\"choropleth\",\"colorbar\":{\"outlinewidth\":0,\"ticks\":\"\"}}],\"histogram2d\":[{\"type\":\"histogram2d\",\"colorbar\":{\"outlinewidth\":0,\"ticks\":\"\"},\"colorscale\":[[0.0,\"#0d0887\"],[0.1111111111111111,\"#46039f\"],[0.2222222222222222,\"#7201a8\"],[0.3333333333333333,\"#9c179e\"],[0.4444444444444444,\"#bd3786\"],[0.5555555555555556,\"#d8576b\"],[0.6666666666666666,\"#ed7953\"],[0.7777777777777778,\"#fb9f3a\"],[0.8888888888888888,\"#fdca26\"],[1.0,\"#f0f921\"]]}],\"heatmap\":[{\"type\":\"heatmap\",\"colorbar\":{\"outlinewidth\":0,\"ticks\":\"\"},\"colorscale\":[[0.0,\"#0d0887\"],[0.1111111111111111,\"#46039f\"],[0.2222222222222222,\"#7201a8\"],[0.3333333333333333,\"#9c179e\"],[0.4444444444444444,\"#bd3786\"],[0.5555555555555556,\"#d8576b\"],[0.6666666666666666,\"#ed7953\"],[0.7777777777777778,\"#fb9f3a\"],[0.8888888888888888,\"#fdca26\"],[1.0,\"#f0f921\"]]}],\"contourcarpet\":[{\"type\":\"contourcarpet\",\"colorbar\":{\"outlinewidth\":0,\"ticks\":\"\"}}],\"contour\":[{\"type\":\"contour\",\"colorbar\":{\"outlinewidth\":0,\"ticks\":\"\"},\"colorscale\":[[0.0,\"#0d0887\"],[0.1111111111111111,\"#46039f\"],[0.2222222222222222,\"#7201a8\"],[0.3333333333333333,\"#9c179e\"],[0.4444444444444444,\"#bd3786\"],[0.5555555555555556,\"#d8576b\"],[0.6666666666666666,\"#ed7953\"],[0.7777777777777778,\"#fb9f3a\"],[0.8888888888888888,\"#fdca26\"],[1.0,\"#f0f921\"]]}],\"surface\":[{\"type\":\"surface\",\"colorbar\":{\"outlinewidth\":0,\"ticks\":\"\"},\"colorscale\":[[0.0,\"#0d0887\"],[0.1111111111111111,\"#46039f\"],[0.2222222222222222,\"#7201a8\"],[0.3333333333333333,\"#9c179e\"],[0.4444444444444444,\"#bd3786\"],[0.5555555555555556,\"#d8576b\"],[0.6666666666666666,\"#ed7953\"],[0.7777777777777778,\"#fb9f3a\"],[0.8888888888888888,\"#fdca26\"],[1.0,\"#f0f921\"]]}],\"mesh3d\":[{\"type\":\"mesh3d\",\"colorbar\":{\"outlinewidth\":0,\"ticks\":\"\"}}],\"scatter\":[{\"fillpattern\":{\"fillmode\":\"overlay\",\"size\":10,\"solidity\":0.2},\"type\":\"scatter\"}],\"parcoords\":[{\"type\":\"parcoords\",\"line\":{\"colorbar\":{\"outlinewidth\":0,\"ticks\":\"\"}}}],\"scatterpolargl\":[{\"type\":\"scatterpolargl\",\"marker\":{\"colorbar\":{\"outlinewidth\":0,\"ticks\":\"\"}}}],\"bar\":[{\"error_x\":{\"color\":\"#2a3f5f\"},\"error_y\":{\"color\":\"#2a3f5f\"},\"marker\":{\"line\":{\"color\":\"#E5ECF6\",\"width\":0.5},\"pattern\":{\"fillmode\":\"overlay\",\"size\":10,\"solidity\":0.2}},\"type\":\"bar\"}],\"scattergeo\":[{\"type\":\"scattergeo\",\"marker\":{\"colorbar\":{\"outlinewidth\":0,\"ticks\":\"\"}}}],\"scatterpolar\":[{\"type\":\"scatterpolar\",\"marker\":{\"colorbar\":{\"outlinewidth\":0,\"ticks\":\"\"}}}],\"histogram\":[{\"marker\":{\"pattern\":{\"fillmode\":\"overlay\",\"size\":10,\"solidity\":0.2}},\"type\":\"histogram\"}],\"scattergl\":[{\"type\":\"scattergl\",\"marker\":{\"colorbar\":{\"outlinewidth\":0,\"ticks\":\"\"}}}],\"scatter3d\":[{\"type\":\"scatter3d\",\"line\":{\"colorbar\":{\"outlinewidth\":0,\"ticks\":\"\"}},\"marker\":{\"colorbar\":{\"outlinewidth\":0,\"ticks\":\"\"}}}],\"scattermap\":[{\"type\":\"scattermap\",\"marker\":{\"colorbar\":{\"outlinewidth\":0,\"ticks\":\"\"}}}],\"scattermapbox\":[{\"type\":\"scattermapbox\",\"marker\":{\"colorbar\":{\"outlinewidth\":0,\"ticks\":\"\"}}}],\"scatterternary\":[{\"type\":\"scatterternary\",\"marker\":{\"colorbar\":{\"outlinewidth\":0,\"ticks\":\"\"}}}],\"scattercarpet\":[{\"type\":\"scattercarpet\",\"marker\":{\"colorbar\":{\"outlinewidth\":0,\"ticks\":\"\"}}}],\"carpet\":[{\"aaxis\":{\"endlinecolor\":\"#2a3f5f\",\"gridcolor\":\"white\",\"linecolor\":\"white\",\"minorgridcolor\":\"white\",\"startlinecolor\":\"#2a3f5f\"},\"baxis\":{\"endlinecolor\":\"#2a3f5f\",\"gridcolor\":\"white\",\"linecolor\":\"white\",\"minorgridcolor\":\"white\",\"startlinecolor\":\"#2a3f5f\"},\"type\":\"carpet\"}],\"table\":[{\"cells\":{\"fill\":{\"color\":\"#EBF0F8\"},\"line\":{\"color\":\"white\"}},\"header\":{\"fill\":{\"color\":\"#C8D4E3\"},\"line\":{\"color\":\"white\"}},\"type\":\"table\"}],\"barpolar\":[{\"marker\":{\"line\":{\"color\":\"#E5ECF6\",\"width\":0.5},\"pattern\":{\"fillmode\":\"overlay\",\"size\":10,\"solidity\":0.2}},\"type\":\"barpolar\"}],\"pie\":[{\"automargin\":true,\"type\":\"pie\"}]},\"layout\":{\"autotypenumbers\":\"strict\",\"colorway\":[\"#636efa\",\"#EF553B\",\"#00cc96\",\"#ab63fa\",\"#FFA15A\",\"#19d3f3\",\"#FF6692\",\"#B6E880\",\"#FF97FF\",\"#FECB52\"],\"font\":{\"color\":\"#2a3f5f\"},\"hovermode\":\"closest\",\"hoverlabel\":{\"align\":\"left\"},\"paper_bgcolor\":\"white\",\"plot_bgcolor\":\"#E5ECF6\",\"polar\":{\"bgcolor\":\"#E5ECF6\",\"angularaxis\":{\"gridcolor\":\"white\",\"linecolor\":\"white\",\"ticks\":\"\"},\"radialaxis\":{\"gridcolor\":\"white\",\"linecolor\":\"white\",\"ticks\":\"\"}},\"ternary\":{\"bgcolor\":\"#E5ECF6\",\"aaxis\":{\"gridcolor\":\"white\",\"linecolor\":\"white\",\"ticks\":\"\"},\"baxis\":{\"gridcolor\":\"white\",\"linecolor\":\"white\",\"ticks\":\"\"},\"caxis\":{\"gridcolor\":\"white\",\"linecolor\":\"white\",\"ticks\":\"\"}},\"coloraxis\":{\"colorbar\":{\"outlinewidth\":0,\"ticks\":\"\"}},\"colorscale\":{\"sequential\":[[0.0,\"#0d0887\"],[0.1111111111111111,\"#46039f\"],[0.2222222222222222,\"#7201a8\"],[0.3333333333333333,\"#9c179e\"],[0.4444444444444444,\"#bd3786\"],[0.5555555555555556,\"#d8576b\"],[0.6666666666666666,\"#ed7953\"],[0.7777777777777778,\"#fb9f3a\"],[0.8888888888888888,\"#fdca26\"],[1.0,\"#f0f921\"]],\"sequentialminus\":[[0.0,\"#0d0887\"],[0.1111111111111111,\"#46039f\"],[0.2222222222222222,\"#7201a8\"],[0.3333333333333333,\"#9c179e\"],[0.4444444444444444,\"#bd3786\"],[0.5555555555555556,\"#d8576b\"],[0.6666666666666666,\"#ed7953\"],[0.7777777777777778,\"#fb9f3a\"],[0.8888888888888888,\"#fdca26\"],[1.0,\"#f0f921\"]],\"diverging\":[[0,\"#8e0152\"],[0.1,\"#c51b7d\"],[0.2,\"#de77ae\"],[0.3,\"#f1b6da\"],[0.4,\"#fde0ef\"],[0.5,\"#f7f7f7\"],[0.6,\"#e6f5d0\"],[0.7,\"#b8e186\"],[0.8,\"#7fbc41\"],[0.9,\"#4d9221\"],[1,\"#276419\"]]},\"xaxis\":{\"gridcolor\":\"white\",\"linecolor\":\"white\",\"ticks\":\"\",\"title\":{\"standoff\":15},\"zerolinecolor\":\"white\",\"automargin\":true,\"zerolinewidth\":2},\"yaxis\":{\"gridcolor\":\"white\",\"linecolor\":\"white\",\"ticks\":\"\",\"title\":{\"standoff\":15},\"zerolinecolor\":\"white\",\"automargin\":true,\"zerolinewidth\":2},\"scene\":{\"xaxis\":{\"backgroundcolor\":\"#E5ECF6\",\"gridcolor\":\"white\",\"linecolor\":\"white\",\"showbackground\":true,\"ticks\":\"\",\"zerolinecolor\":\"white\",\"gridwidth\":2},\"yaxis\":{\"backgroundcolor\":\"#E5ECF6\",\"gridcolor\":\"white\",\"linecolor\":\"white\",\"showbackground\":true,\"ticks\":\"\",\"zerolinecolor\":\"white\",\"gridwidth\":2},\"zaxis\":{\"backgroundcolor\":\"#E5ECF6\",\"gridcolor\":\"white\",\"linecolor\":\"white\",\"showbackground\":true,\"ticks\":\"\",\"zerolinecolor\":\"white\",\"gridwidth\":2}},\"shapedefaults\":{\"line\":{\"color\":\"#2a3f5f\"}},\"annotationdefaults\":{\"arrowcolor\":\"#2a3f5f\",\"arrowhead\":0,\"arrowwidth\":1},\"geo\":{\"bgcolor\":\"white\",\"landcolor\":\"#E5ECF6\",\"subunitcolor\":\"white\",\"showland\":true,\"showlakes\":true,\"lakecolor\":\"white\"},\"title\":{\"x\":0.05},\"mapbox\":{\"style\":\"light\"}}},\"xaxis\":{\"anchor\":\"y\",\"domain\":[0.0,1.0],\"title\":{\"text\":\"z\"}},\"yaxis\":{\"anchor\":\"x\",\"domain\":[0.0,1.0],\"title\":{\"text\":\"y\"},\"scaleanchor\":\"x\",\"scaleratio\":1},\"legend\":{\"tracegroupgap\":0},\"margin\":{\"t\":60},\"width\":640,\"height\":480},                        {\"responsive\": true}                    )                };            </script>        </div></td></tr><tr><td style='text-align: left'><details><summary style='font-weight:bold'>Profile</summary><table><tr><td style='text-align:left'>classifiers</td><td><table style='margin:0'><tr><td>&#x27;false_round&#x27;</td></tr><tr><td>&#x27;symmetric&#x27;</td></tr><tr><td>&#x27;generic_elongation&#x27;</td></tr><tr><td>&#x27;round&#x27;</td></tr></table></td></tr><tr><td style='text-align:left'>core_temperature</td><td>np.float64(1563.6262441102974)</td></tr><tr><td style='text-align:left'>cross_section</td><td><table><tr><td style='text-align: center'><div>                        <script type=\"text/javascript\">window.PlotlyConfig = {MathJaxConfig: 'local'};</script>\n",
       "        <script charset=\"utf-8\" src=\"https://cdn.plot.ly/plotly-3.0.1.min.js\"></script>                <div id=\"6bd4e540-220e-4035-a399-ed7614c5c78e\" class=\"plotly-graph-div\" style=\"height:480px; width:640px;\"></div>            <script type=\"text/javascript\">                window.PLOTLYENV=window.PLOTLYENV || {};                                if (document.getElementById(\"6bd4e540-220e-4035-a399-ed7614c5c78e\")) {                    Plotly.newPlot(                        \"6bd4e540-220e-4035-a399-ed7614c5c78e\",                        [{\"hovertemplate\":\"z=%{x}\\u003cbr\\u003ey=%{y}\\u003cextra\\u003e\\u003c\\u002fextra\\u003e\",\"legendgroup\":\"\",\"line\":{\"color\":\"#636efa\",\"dash\":\"solid\"},\"marker\":{\"symbol\":\"circle\"},\"mode\":\"lines\",\"name\":\"\",\"orientation\":\"v\",\"showlegend\":false,\"x\":{\"dtype\":\"f8\",\"bdata\":\"AAAAAAAAAADpYdhQnAgjPwrYAV4KCTM\\u002fC7ehtm6QPD8UwfP5sg5DPxg5pM2b2Uc\\u002fYDFFhFiqTD9PlcNaOsFQPwd8Jhn2MVM\\u002fBXgtE1yoVT9qJb2EWCNYPyW04n0folo\\u002fFPxoEAwmXT9IBxGQQKpfP+dHNqB6FGE\\u002fVgzEZypRYj\\u002fbXVEQZItjP3jsebQXw2Q\\u002f046rR174ZT9HCAAbcStnP7d8TPdAXGg\\u002f6PsO97SKaT\\u002fg2UaFBLdqP4H3LCku4Ws\\u002fAIUzwrwIbT97YYB8wC1uP8ErVgEKUG8\\u002fqBfXJbE2cD\\u002fMDmD9LcJwP9HWPMd0PHE\\u002f6mqAI8BxcT\\u002fR1jzHdDxxP8wOYP0twnA\\u002fqBfXJbE2cD\\u002fBK1YBClBvP3thgHzALW4\\u002fAIUzwrwIbT+B9ywpLuFrP+DZRoUEt2o\\u002f6PsO97SKaT+3fEz3QFxoP0cIABtxK2c\\u002f046rR174ZT947Hm0F8NkP9tdURBki2M\\u002fVgzEZypRYj\\u002fnRzagehRhP0gHEZBAql8\\u002fFPxoEAwmXT8ltOJ9H6JaP2olvYRYI1g\\u002fBXgtE1yoVT8HfCYZ9jFTP0+Vw1o6wVA\\u002fYDFFhFiqTD8YOaTNm9lHPxTB8\\u002fmyDkM\\u002fC7ehtm6QPD8K2AFeCgkzP+lh2FCcCCM\\u002fAAAAAAAAAADpYdhQnAgjvwrYAV4KCTO\\u002fC7ehtm6QPL8UwfP5sg5Dvxg5pM2b2Ue\\u002fYDFFhFiqTL9PlcNaOsFQvwd8Jhn2MVO\\u002fBXgtE1yoVb9qJb2EWCNYvyW04n0folq\\u002fFPxoEAwmXb9IBxGQQKpfv+dHNqB6FGG\\u002fVgzEZypRYr\\u002fbXVEQZItjv3jsebQXw2S\\u002f046rR174Zb9HCAAbcStnv7d8TPdAXGi\\u002f6PsO97SKab\\u002fg2UaFBLdqv4H3LCku4Wu\\u002fAIUzwrwIbb97YYB8wC1uv8ErVgEKUG+\\u002fqBfXJbE2cL\\u002fMDmD9LcJwv9HWPMd0PHG\\u002f6mqAI8Bxcb\\u002fR1jzHdDxxv8wOYP0twnC\\u002fqBfXJbE2cL\\u002fBK1YBClBvv3thgHzALW6\\u002fAIUzwrwIbb+B9ywpLuFrv+DZRoUEt2q\\u002f6PsO97SKab+3fEz3QFxov0cIABtxK2e\\u002f046rR174Zb947Hm0F8Nkv9tdURBki2O\\u002fVgzEZypRYr\\u002fnRzagehRhv0gHEZBAql+\\u002fFPxoEAwmXb8ltOJ9H6Jav2olvYRYI1i\\u002fBXgtE1yoVb8HfCYZ9jFTv0+Vw1o6wVC\\u002fYDFFhFiqTL8YOaTNm9lHvxTB8\\u002fmyDkO\\u002fC7ehtm6QPL8K2AFeCgkzv+lh2FCcCCO\\u002fAAAAAAAAAAA=\"},\"xaxis\":\"x\",\"y\":{\"dtype\":\"f8\",\"bdata\":\"rDXNO07RcT8LrjJeoM1xP1TeBJPPxXE\\u002fJPawGNS5cT\\u002f6bMCLPKdxP3IhdiFSj3E\\u002fJ4jNaNRycT9yC0XSTVBxP9qo4gOIJnE\\u002fe+I1Mjb3cD+sRNfpIcJwPz0EZ6EMhHA\\u002fUWaK35s+cD9ozIMNH+VvPwHMt3gjQG8\\u002fMSenA6iGbj9D2i2NaL9tP3s\\u002fS2pp6mw\\u002fBmqYZwkAbD\\u002fQvZpjqf9qP5Xtr1ud7Wk\\u002fM4CxM5LEaD+rITH95XZnP+fo34LEDmY\\u002fgyOS6AuIZD8orYlyEb1iP+FMTt6GvWA\\u002fnwWMxFgDXT\\u002fSkp0HK\\u002fhWP6pgxd7bH1E\\u002fAAAAAAAAAACqYMXe2x9Rv9KSnQcr+Fa\\u002fnwWMxFgDXb\\u002fhTE7ehr1gvyitiXIRvWK\\u002fgyOS6AuIZL\\u002fn6N+CxA5mv6shMf3ldme\\u002fM4CxM5LEaL+V7a9bne1pv9C9mmOp\\u002f2q\\u002fBmqYZwkAbL97P0tqaepsv0PaLY1ov22\\u002fMSenA6iGbr8BzLd4I0Bvv2jMgw0f5W+\\u002fUWaK35s+cL89BGehDIRwv6xE1+khwnC\\u002fe+I1Mjb3cL\\u002faqOIDiCZxv3ILRdJNUHG\\u002fJ4jNaNRycb9yIXYhUo9xv\\u002fpswIs8p3G\\u002fJPawGNS5cb9U3gSTz8VxvwuuMl6gzXG\\u002frDXNO07Rcb8LrjJeoM1xv1TeBJPPxXG\\u002fJPawGNS5cb\\u002f6bMCLPKdxv3IhdiFSj3G\\u002fJ4jNaNRycb9yC0XSTVBxv9qo4gOIJnG\\u002fe+I1Mjb3cL+sRNfpIcJwvz0EZ6EMhHC\\u002fUWaK35s+cL9ozIMNH+VvvwHMt3gjQG+\\u002fMSenA6iGbr9D2i2NaL9tv3s\\u002fS2pp6my\\u002fBmqYZwkAbL\\u002fQvZpjqf9qv5Xtr1ud7Wm\\u002fM4CxM5LEaL+rITH95XZnv+fo34LEDma\\u002fgyOS6AuIZL8orYlyEb1iv+FMTt6GvWC\\u002fnwWMxFgDXb\\u002fSkp0HK\\u002fhWv6pgxd7bH1G\\u002fAAAAAAAAAACqYMXe2x9RP9KSnQcr+FY\\u002fnwWMxFgDXT\\u002fhTE7ehr1gPyitiXIRvWI\\u002fgyOS6AuIZD\\u002fn6N+CxA5mP6shMf3ldmc\\u002fM4CxM5LEaD+V7a9bne1pP9C9mmOp\\u002f2o\\u002fBmqYZwkAbD97P0tqaepsP0PaLY1ov20\\u002fMSenA6iGbj8BzLd4I0BvP2jMgw0f5W8\\u002fUWaK35s+cD89BGehDIRwP6xE1+khwnA\\u002fe+I1Mjb3cD\\u002faqOIDiCZxP3ILRdJNUHE\\u002fJ4jNaNRycT9yIXYhUo9xP\\u002fpswIs8p3E\\u002fJPawGNS5cT9U3gSTz8VxPwuuMl6gzXE\\u002frDXNO07RcT8=\"},\"yaxis\":\"y\",\"type\":\"scatter\",\"fill\":\"toself\"}],                        {\"template\":{\"data\":{\"histogram2dcontour\":[{\"type\":\"histogram2dcontour\",\"colorbar\":{\"outlinewidth\":0,\"ticks\":\"\"},\"colorscale\":[[0.0,\"#0d0887\"],[0.1111111111111111,\"#46039f\"],[0.2222222222222222,\"#7201a8\"],[0.3333333333333333,\"#9c179e\"],[0.4444444444444444,\"#bd3786\"],[0.5555555555555556,\"#d8576b\"],[0.6666666666666666,\"#ed7953\"],[0.7777777777777778,\"#fb9f3a\"],[0.8888888888888888,\"#fdca26\"],[1.0,\"#f0f921\"]]}],\"choropleth\":[{\"type\":\"choropleth\",\"colorbar\":{\"outlinewidth\":0,\"ticks\":\"\"}}],\"histogram2d\":[{\"type\":\"histogram2d\",\"colorbar\":{\"outlinewidth\":0,\"ticks\":\"\"},\"colorscale\":[[0.0,\"#0d0887\"],[0.1111111111111111,\"#46039f\"],[0.2222222222222222,\"#7201a8\"],[0.3333333333333333,\"#9c179e\"],[0.4444444444444444,\"#bd3786\"],[0.5555555555555556,\"#d8576b\"],[0.6666666666666666,\"#ed7953\"],[0.7777777777777778,\"#fb9f3a\"],[0.8888888888888888,\"#fdca26\"],[1.0,\"#f0f921\"]]}],\"heatmap\":[{\"type\":\"heatmap\",\"colorbar\":{\"outlinewidth\":0,\"ticks\":\"\"},\"colorscale\":[[0.0,\"#0d0887\"],[0.1111111111111111,\"#46039f\"],[0.2222222222222222,\"#7201a8\"],[0.3333333333333333,\"#9c179e\"],[0.4444444444444444,\"#bd3786\"],[0.5555555555555556,\"#d8576b\"],[0.6666666666666666,\"#ed7953\"],[0.7777777777777778,\"#fb9f3a\"],[0.8888888888888888,\"#fdca26\"],[1.0,\"#f0f921\"]]}],\"contourcarpet\":[{\"type\":\"contourcarpet\",\"colorbar\":{\"outlinewidth\":0,\"ticks\":\"\"}}],\"contour\":[{\"type\":\"contour\",\"colorbar\":{\"outlinewidth\":0,\"ticks\":\"\"},\"colorscale\":[[0.0,\"#0d0887\"],[0.1111111111111111,\"#46039f\"],[0.2222222222222222,\"#7201a8\"],[0.3333333333333333,\"#9c179e\"],[0.4444444444444444,\"#bd3786\"],[0.5555555555555556,\"#d8576b\"],[0.6666666666666666,\"#ed7953\"],[0.7777777777777778,\"#fb9f3a\"],[0.8888888888888888,\"#fdca26\"],[1.0,\"#f0f921\"]]}],\"surface\":[{\"type\":\"surface\",\"colorbar\":{\"outlinewidth\":0,\"ticks\":\"\"},\"colorscale\":[[0.0,\"#0d0887\"],[0.1111111111111111,\"#46039f\"],[0.2222222222222222,\"#7201a8\"],[0.3333333333333333,\"#9c179e\"],[0.4444444444444444,\"#bd3786\"],[0.5555555555555556,\"#d8576b\"],[0.6666666666666666,\"#ed7953\"],[0.7777777777777778,\"#fb9f3a\"],[0.8888888888888888,\"#fdca26\"],[1.0,\"#f0f921\"]]}],\"mesh3d\":[{\"type\":\"mesh3d\",\"colorbar\":{\"outlinewidth\":0,\"ticks\":\"\"}}],\"scatter\":[{\"fillpattern\":{\"fillmode\":\"overlay\",\"size\":10,\"solidity\":0.2},\"type\":\"scatter\"}],\"parcoords\":[{\"type\":\"parcoords\",\"line\":{\"colorbar\":{\"outlinewidth\":0,\"ticks\":\"\"}}}],\"scatterpolargl\":[{\"type\":\"scatterpolargl\",\"marker\":{\"colorbar\":{\"outlinewidth\":0,\"ticks\":\"\"}}}],\"bar\":[{\"error_x\":{\"color\":\"#2a3f5f\"},\"error_y\":{\"color\":\"#2a3f5f\"},\"marker\":{\"line\":{\"color\":\"#E5ECF6\",\"width\":0.5},\"pattern\":{\"fillmode\":\"overlay\",\"size\":10,\"solidity\":0.2}},\"type\":\"bar\"}],\"scattergeo\":[{\"type\":\"scattergeo\",\"marker\":{\"colorbar\":{\"outlinewidth\":0,\"ticks\":\"\"}}}],\"scatterpolar\":[{\"type\":\"scatterpolar\",\"marker\":{\"colorbar\":{\"outlinewidth\":0,\"ticks\":\"\"}}}],\"histogram\":[{\"marker\":{\"pattern\":{\"fillmode\":\"overlay\",\"size\":10,\"solidity\":0.2}},\"type\":\"histogram\"}],\"scattergl\":[{\"type\":\"scattergl\",\"marker\":{\"colorbar\":{\"outlinewidth\":0,\"ticks\":\"\"}}}],\"scatter3d\":[{\"type\":\"scatter3d\",\"line\":{\"colorbar\":{\"outlinewidth\":0,\"ticks\":\"\"}},\"marker\":{\"colorbar\":{\"outlinewidth\":0,\"ticks\":\"\"}}}],\"scattermap\":[{\"type\":\"scattermap\",\"marker\":{\"colorbar\":{\"outlinewidth\":0,\"ticks\":\"\"}}}],\"scattermapbox\":[{\"type\":\"scattermapbox\",\"marker\":{\"colorbar\":{\"outlinewidth\":0,\"ticks\":\"\"}}}],\"scatterternary\":[{\"type\":\"scatterternary\",\"marker\":{\"colorbar\":{\"outlinewidth\":0,\"ticks\":\"\"}}}],\"scattercarpet\":[{\"type\":\"scattercarpet\",\"marker\":{\"colorbar\":{\"outlinewidth\":0,\"ticks\":\"\"}}}],\"carpet\":[{\"aaxis\":{\"endlinecolor\":\"#2a3f5f\",\"gridcolor\":\"white\",\"linecolor\":\"white\",\"minorgridcolor\":\"white\",\"startlinecolor\":\"#2a3f5f\"},\"baxis\":{\"endlinecolor\":\"#2a3f5f\",\"gridcolor\":\"white\",\"linecolor\":\"white\",\"minorgridcolor\":\"white\",\"startlinecolor\":\"#2a3f5f\"},\"type\":\"carpet\"}],\"table\":[{\"cells\":{\"fill\":{\"color\":\"#EBF0F8\"},\"line\":{\"color\":\"white\"}},\"header\":{\"fill\":{\"color\":\"#C8D4E3\"},\"line\":{\"color\":\"white\"}},\"type\":\"table\"}],\"barpolar\":[{\"marker\":{\"line\":{\"color\":\"#E5ECF6\",\"width\":0.5},\"pattern\":{\"fillmode\":\"overlay\",\"size\":10,\"solidity\":0.2}},\"type\":\"barpolar\"}],\"pie\":[{\"automargin\":true,\"type\":\"pie\"}]},\"layout\":{\"autotypenumbers\":\"strict\",\"colorway\":[\"#636efa\",\"#EF553B\",\"#00cc96\",\"#ab63fa\",\"#FFA15A\",\"#19d3f3\",\"#FF6692\",\"#B6E880\",\"#FF97FF\",\"#FECB52\"],\"font\":{\"color\":\"#2a3f5f\"},\"hovermode\":\"closest\",\"hoverlabel\":{\"align\":\"left\"},\"paper_bgcolor\":\"white\",\"plot_bgcolor\":\"#E5ECF6\",\"polar\":{\"bgcolor\":\"#E5ECF6\",\"angularaxis\":{\"gridcolor\":\"white\",\"linecolor\":\"white\",\"ticks\":\"\"},\"radialaxis\":{\"gridcolor\":\"white\",\"linecolor\":\"white\",\"ticks\":\"\"}},\"ternary\":{\"bgcolor\":\"#E5ECF6\",\"aaxis\":{\"gridcolor\":\"white\",\"linecolor\":\"white\",\"ticks\":\"\"},\"baxis\":{\"gridcolor\":\"white\",\"linecolor\":\"white\",\"ticks\":\"\"},\"caxis\":{\"gridcolor\":\"white\",\"linecolor\":\"white\",\"ticks\":\"\"}},\"coloraxis\":{\"colorbar\":{\"outlinewidth\":0,\"ticks\":\"\"}},\"colorscale\":{\"sequential\":[[0.0,\"#0d0887\"],[0.1111111111111111,\"#46039f\"],[0.2222222222222222,\"#7201a8\"],[0.3333333333333333,\"#9c179e\"],[0.4444444444444444,\"#bd3786\"],[0.5555555555555556,\"#d8576b\"],[0.6666666666666666,\"#ed7953\"],[0.7777777777777778,\"#fb9f3a\"],[0.8888888888888888,\"#fdca26\"],[1.0,\"#f0f921\"]],\"sequentialminus\":[[0.0,\"#0d0887\"],[0.1111111111111111,\"#46039f\"],[0.2222222222222222,\"#7201a8\"],[0.3333333333333333,\"#9c179e\"],[0.4444444444444444,\"#bd3786\"],[0.5555555555555556,\"#d8576b\"],[0.6666666666666666,\"#ed7953\"],[0.7777777777777778,\"#fb9f3a\"],[0.8888888888888888,\"#fdca26\"],[1.0,\"#f0f921\"]],\"diverging\":[[0,\"#8e0152\"],[0.1,\"#c51b7d\"],[0.2,\"#de77ae\"],[0.3,\"#f1b6da\"],[0.4,\"#fde0ef\"],[0.5,\"#f7f7f7\"],[0.6,\"#e6f5d0\"],[0.7,\"#b8e186\"],[0.8,\"#7fbc41\"],[0.9,\"#4d9221\"],[1,\"#276419\"]]},\"xaxis\":{\"gridcolor\":\"white\",\"linecolor\":\"white\",\"ticks\":\"\",\"title\":{\"standoff\":15},\"zerolinecolor\":\"white\",\"automargin\":true,\"zerolinewidth\":2},\"yaxis\":{\"gridcolor\":\"white\",\"linecolor\":\"white\",\"ticks\":\"\",\"title\":{\"standoff\":15},\"zerolinecolor\":\"white\",\"automargin\":true,\"zerolinewidth\":2},\"scene\":{\"xaxis\":{\"backgroundcolor\":\"#E5ECF6\",\"gridcolor\":\"white\",\"linecolor\":\"white\",\"showbackground\":true,\"ticks\":\"\",\"zerolinecolor\":\"white\",\"gridwidth\":2},\"yaxis\":{\"backgroundcolor\":\"#E5ECF6\",\"gridcolor\":\"white\",\"linecolor\":\"white\",\"showbackground\":true,\"ticks\":\"\",\"zerolinecolor\":\"white\",\"gridwidth\":2},\"zaxis\":{\"backgroundcolor\":\"#E5ECF6\",\"gridcolor\":\"white\",\"linecolor\":\"white\",\"showbackground\":true,\"ticks\":\"\",\"zerolinecolor\":\"white\",\"gridwidth\":2}},\"shapedefaults\":{\"line\":{\"color\":\"#2a3f5f\"}},\"annotationdefaults\":{\"arrowcolor\":\"#2a3f5f\",\"arrowhead\":0,\"arrowwidth\":1},\"geo\":{\"bgcolor\":\"white\",\"landcolor\":\"#E5ECF6\",\"subunitcolor\":\"white\",\"showland\":true,\"showlakes\":true,\"lakecolor\":\"white\"},\"title\":{\"x\":0.05},\"mapbox\":{\"style\":\"light\"}}},\"xaxis\":{\"anchor\":\"y\",\"domain\":[0.0,1.0],\"title\":{\"text\":\"z\"}},\"yaxis\":{\"anchor\":\"x\",\"domain\":[0.0,1.0],\"title\":{\"text\":\"y\"},\"scaleanchor\":\"x\",\"scaleratio\":1},\"legend\":{\"tracegroupgap\":0},\"margin\":{\"t\":60},\"width\":640,\"height\":480},                        {\"responsive\": true}                    )                };            </script>        </div></td></tr><tr><td style='text-align: left'><details><summary style='font-weight:bold'>Polygon</summary><table><tr><td style='text-align:left'>area</td><td>5.893659124183413e-05</td></tr><tr><td style='text-align:left'>height</td><td>0.008700000000000006</td></tr><tr><td style='text-align:left'>perimeter</td><td>0.027240114871976685</td></tr><tr><td style='text-align:left'>width</td><td>0.008517743190215882</td></tr></table></details></td></tr></table></td></tr><tr><td style='text-align:left'>length</td><td>5211.114927918349</td></tr><tr><td style='text-align:left'>material</td><td><table style='margin:0'><tr><td>&#x27;BST500&#x27;</td></tr><tr><td>&#x27;steel&#x27;</td></tr></table></td></tr><tr><td style='text-align:left'>ring_temperatures</td><td>array([1563.62624411, 1560.75020294, 1552.12609703, 1537.75030537,\n",
       "       1517.57709745, 1491.58658858, 1460.14304003, 1424.77487668,\n",
       "       1389.10595613, 1358.98549405, 1340.35438669])</td></tr><tr><td style='text-align:left'>strain</td><td>np.float64(0.5177718111612112)</td></tr><tr><td style='text-align:left'>surface_temperature</td><td>np.float64(1340.3543866900577)</td></tr><tr><td style='text-align:left'>t</td><td>np.float64(36.838988272772404)</td></tr><tr><td style='text-align:left'>temperature</td><td>np.float64(1423.7380968234704)</td></tr><tr><td style='text-align:left'>weight</td><td>2400</td></tr><tr><td style='text-align:left'>width</td><td>np.float64(0.008517743190215882)</td></tr></table></details></td></tr></table>"
      ]
     },
     "execution_count": 8,
     "metadata": {},
     "output_type": "execute_result"
    }
   ],
   "execution_count": 8
  },
  {
   "metadata": {
    "ExecuteTime": {
     "end_time": "2025-06-18T23:05:04.147692Z",
     "start_time": "2025-06-18T23:05:04.146052Z"
    }
   },
   "cell_type": "code",
   "source": [
    "sequences = [\n",
    "        {\n",
    "            \"label\": \"RPD1\",\n",
    "            \"sequence\": rolling_train_rpd1\n",
    "        },\n",
    "        {\n",
    "            \"label\": \"RPD2\",\n",
    "            \"sequence\": rolling_train_rpd2\n",
    "        },\n",
    "        {\n",
    "            \"label\": \"RPD3\",\n",
    "            \"sequence\": rolling_train_rpd3\n",
    "        }\n",
    "    ]"
   ],
   "id": "53e01b9700dccdfb",
   "outputs": [],
   "execution_count": 9
  },
  {
   "metadata": {
    "ExecuteTime": {
     "end_time": "2025-06-19T06:28:51.580953Z",
     "start_time": "2025-06-19T06:28:51.578189Z"
    }
   },
   "cell_type": "code",
   "source": [
    "def solve_total_wear_depths_as_contour_line(params):\n",
    "    area_errors = []\n",
    "\n",
    "    for entry in sequences:\n",
    "        groove_label = entry[\"label\"]\n",
    "        sequence = entry[\"sequence\"]\n",
    "        roll_passes = sequence.roll_passes\n",
    "        measurements = extract_wear_contours_from_measurement(groove_label)\n",
    "\n",
    "        for measurement_id, labels, tonnages, measured_wear_contours in measurements:\n",
    "            for roll_pass in roll_passes:\n",
    "                for label, tonnage, measured_wear_contour in zip(labels, tonnages, measured_wear_contours):\n",
    "                    if roll_pass.label == label:\n",
    "\n",
    "                        wear_coefficient = get_wear_coefficient(roll_pass, params)\n",
    "                        calculated_wear_contour = calculate_wear_contour(roll_pass, wear_coefficient, tonnage * 1000)\n",
    "                        area_error = calculate_area_between_contours(calculated_wear_contour, measured_wear_contour)\n",
    "                        area_errors.append(area_error)\n",
    "                    else:\n",
    "                        continue\n",
    "    rms_error = root_mean_square_value(np.array(area_errors))\n",
    "    print(\"RMS error: \", rms_error)\n",
    "    return rms_error\n"
   ],
   "id": "22e82b3857c95d90",
   "outputs": [],
   "execution_count": 26
  },
  {
   "metadata": {
    "ExecuteTime": {
     "end_time": "2025-06-18T23:05:53.850265Z",
     "start_time": "2025-06-18T23:05:53.845725Z"
    }
   },
   "cell_type": "code",
   "source": [
    "def solve_total_wear_depths_as_contour_line_4_pass_block(params):\n",
    "    area_errors = []\n",
    "\n",
    "    for entry in sequences:\n",
    "        groove_label = entry[\"label\"]\n",
    "        sequence = entry[\"sequence\"]\n",
    "        roll_passes = sequence.roll_passes\n",
    "        measurements = extract_wear_contours_from_measurement(groove_label)\n",
    "\n",
    "        for measurement_id, labels, tonnages, measured_wear_contours in measurements:\n",
    "            for roll_pass in roll_passes:\n",
    "                for label, tonnage, measured_wear_contour in zip(labels, tonnages, measured_wear_contours):\n",
    "                    if roll_pass.label == label and label in [\"17-H\", \"18-V\"]:\n",
    "\n",
    "                        wear_coefficient = get_wear_coefficient(roll_pass, params)\n",
    "                        calculated_wear_contour = calculate_wear_contour(roll_pass, wear_coefficient, tonnage * 1000)\n",
    "                        area_error = calculate_area_between_contours(calculated_wear_contour, measured_wear_contour)\n",
    "                        area_errors.append(area_error)\n",
    "                    else:\n",
    "                        continue\n",
    "    rms_error = root_mean_square_value(np.array(area_errors))\n",
    "    return rms_error\n",
    "\n",
    "\n",
    "def solve_total_wear_depths_as_contour_line_6_pass_block(params):\n",
    "    area_errors = []\n",
    "\n",
    "    for entry in sequences:\n",
    "        groove_label = entry[\"label\"]\n",
    "        sequence = entry[\"sequence\"]\n",
    "        roll_passes = sequence.roll_passes\n",
    "        measurements = extract_wear_contours_from_measurement(groove_label)\n",
    "\n",
    "        for measurement_id, labels, tonnages, measured_wear_contours in measurements:\n",
    "            for roll_pass in roll_passes:\n",
    "                for label, tonnage, measured_wear_contour in zip(labels, tonnages, measured_wear_contours):\n",
    "                    if roll_pass.label == label and label in [\"21-H\", \"22-V\", \"23-H\", \"24-V\"]:\n",
    "\n",
    "                        wear_coefficient = get_wear_coefficient(roll_pass, params)\n",
    "                        calculated_wear_contour = calculate_wear_contour(roll_pass, wear_coefficient, tonnage * 1000)\n",
    "                        area_error = calculate_area_between_contours(calculated_wear_contour, measured_wear_contour)\n",
    "                        area_errors.append(area_error)\n",
    "                    else:\n",
    "                        continue\n",
    "    rms_error = root_mean_square_value(np.array(area_errors))\n",
    "    return rms_error\n",
    "\n",
    "\n",
    "def solve_total_wear_depths_as_contour_line_csb_block(params):\n",
    "    area_errors = []\n",
    "\n",
    "    for entry in sequences:\n",
    "        groove_label = entry[\"label\"]\n",
    "        sequence = entry[\"sequence\"]\n",
    "        roll_passes = sequence.roll_passes\n",
    "        measurements = extract_wear_contours_from_measurement(groove_label)\n",
    "\n",
    "        for measurement_id, labels, tonnages, measured_wear_contours in measurements:\n",
    "            for roll_pass in roll_passes:\n",
    "                for label, tonnage, measured_wear_contour in zip(labels, tonnages, measured_wear_contours):\n",
    "                    if roll_pass.label == label and label in [\"27-H\", \"28-V\"]:\n",
    "\n",
    "                        wear_coefficient = get_wear_coefficient(roll_pass, params)\n",
    "                        calculated_wear_contour = calculate_wear_contour(roll_pass, wear_coefficient, tonnage * 1000)\n",
    "                        area_error = calculate_area_between_contours(calculated_wear_contour, measured_wear_contour)\n",
    "                        area_errors.append(area_error)\n",
    "                    else:\n",
    "                        continue\n",
    "    rms_error = root_mean_square_value(np.array(area_errors))\n",
    "    return rms_error"
   ],
   "id": "d6bde75d614a3235",
   "outputs": [],
   "execution_count": 11
  },
  {
   "metadata": {
    "ExecuteTime": {
     "end_time": "2025-06-18T23:06:18.789235Z",
     "start_time": "2025-06-18T23:06:18.786471Z"
    }
   },
   "cell_type": "code",
   "source": [
    "params_constant_cobyla = Parameters()\n",
    "params_constant_cobyla.add('wear_coefficient', value=1e-5, min=1e-10, max=1e-1, vary=True)\n",
    "\n",
    "params_linear_function_cobyla = Parameters()\n",
    "params_linear_function_cobyla.add('base_wear_coefficient', value=1e-5, min=1e-10, max=1e-1, vary=True)\n",
    "params_linear_function_cobyla.add('roll_gap_ratio_coefficient', value=1e-5, min=1e-10, max=1e-1, vary=True)\n",
    "\n",
    "params_cubic_function_cobyla = Parameters()\n",
    "params_cubic_function_cobyla.add('base_wear_coefficient', value=1e-5, min=1e-10, max=1e-1, vary=True)\n",
    "params_cubic_function_cobyla.add('roll_gap_ratio_coefficient', value=1e-5, min=1e-10, max=1e-1, vary=True)\n",
    "params_cubic_function_cobyla.add('speed_ratio_coefficient', value=1e-5, min=1e-10, max=1e-1, vary=True)"
   ],
   "id": "6a0b6f2d8a3c457",
   "outputs": [],
   "execution_count": 12
  },
  {
   "metadata": {
    "ExecuteTime": {
     "end_time": "2025-06-19T06:29:21.320931Z",
     "start_time": "2025-06-19T06:29:15.973470Z"
    }
   },
   "cell_type": "code",
   "source": [
    "result_constant_cobyla = minimize(\n",
    "    solve_total_wear_depths_as_contour_line,\n",
    "    params_constant_cobyla,\n",
    "    nan_policy='omit',\n",
    "    max_nfev=100,\n",
    "    method=\"cobyla\"\n",
    ")"
   ],
   "id": "5215e9b3a09b6abc",
   "outputs": [
    {
     "name": "stdout",
     "output_type": "stream",
     "text": [
      "RMS error:  0.019222878005880895\n",
      "RMS error:  447.04068788575125\n",
      "RMS error:  436.8091431866677\n",
      "RMS error:  114.7839574684949\n",
      "RMS error:  31.407703795350205\n",
      "RMS error:  6.761609126357302\n",
      "RMS error:  2.2758687122576\n",
      "RMS error:  0.29861234452847735\n",
      "RMS error:  0.23155546890968387\n",
      "RMS error:  0.0010631472247207327\n",
      "RMS error:  0.041576987359764166\n",
      "RMS error:  0.013985903128088064\n",
      "RMS error:  0.0001032324480466241\n",
      "RMS error:  0.0028087795233483963\n",
      "RMS error:  0.0009972296580702368\n",
      "RMS error:  1.3108579834581784e-05\n",
      "RMS error:  0.0001250180203165213\n",
      "RMS error:  3.559059966790259e-05\n",
      "RMS error:  1.3146438115049403e-05\n",
      "RMS error:  1.4400570632908026e-05\n",
      "RMS error:  1.4400570632908026e-05\n"
     ]
    }
   ],
   "execution_count": 27
  },
  {
   "metadata": {
    "ExecuteTime": {
     "end_time": "2025-06-19T06:27:08.664356Z",
     "start_time": "2025-06-19T06:27:08.661638Z"
    }
   },
   "cell_type": "code",
   "source": "result_constant_cobyla",
   "id": "8c05ea4d2d2a378",
   "outputs": [
    {
     "data": {
      "text/plain": [
       "<lmfit.minimizer.MinimizerResult at 0x735087494550>"
      ],
      "text/html": [
       "<h2>Fit Result</h2> <table class=\"jp-toc-ignore\"><caption class=\"jp-toc-ignore\">Fit Statistics</caption><tr><td style='text-align:left'>fitting method</td><td style='text-align:right'>COBYLA</td></tr><tr><td style='text-align:left'># function evals</td><td style='text-align:right'>20</td></tr><tr><td style='text-align:left'># data points</td><td style='text-align:right'>1</td></tr><tr><td style='text-align:left'># variables</td><td style='text-align:right'>1</td></tr><tr><td style='text-align:left'>chi-square</td><td style='text-align:right'> 2.0738e-10</td></tr><tr><td style='text-align:left'>reduced chi-square</td><td style='text-align:right'> 2.0738e-10</td></tr><tr><td style='text-align:left'>Akaike info crit.</td><td style='text-align:right'>-20.2964854</td></tr><tr><td style='text-align:left'>Bayesian info crit.</td><td style='text-align:right'>-22.2964854</td></tr></table><table class=\"jp-toc-ignore\"><caption>Parameters</caption><tr><th style='text-align:left'>name</th><th style='text-align:left'>value</th><th style='text-align:left'>initial value</th><th style='text-align:left'>min</th><th style='text-align:left'>max</th><th style='text-align:right'>vary</th></tr><tr><td style='text-align:left'>wear_coefficient</td><td style='text-align:left'> 4.8073e-10</td><td style='text-align:left'>1e-06</td><td style='text-align:left'> 1.0000e-10</td><td style='text-align:left'> 0.10000000</td><td style='text-align:right'>True</td></tr></table>"
      ]
     },
     "execution_count": 23,
     "metadata": {},
     "output_type": "execute_result"
    }
   ],
   "execution_count": 23
  },
  {
   "metadata": {},
   "cell_type": "code",
   "outputs": [],
   "execution_count": 13,
   "source": [
    "\n",
    "result_linear_function_cobyla = minimize(\n",
    "    solve_total_wear_depths_as_contour_line,\n",
    "    params_linear_function_cobyla,\n",
    "    nan_policy='omit',\n",
    "    max_nfev=100,\n",
    "    method=\"cobyla\"\n",
    ")\n",
    "\n",
    "result_cubic_function_cobyla = minimize(\n",
    "    solve_total_wear_depths_as_contour_line,\n",
    "    params_cubic_function_cobyla,\n",
    "    nan_policy='omit',\n",
    "    max_nfev=100,\n",
    "    method=\"cobyla\"\n",
    ")"
   ],
   "id": "ea78e32cea3cb9fc"
  },
  {
   "metadata": {
    "ExecuteTime": {
     "end_time": "2025-06-18T23:07:33.536574Z",
     "start_time": "2025-06-18T23:07:33.534617Z"
    }
   },
   "cell_type": "code",
   "source": "print(fit_report(result_constant_cobyla))",
   "id": "7e9eb68026d8a668",
   "outputs": [
    {
     "name": "stdout",
     "output_type": "stream",
     "text": [
      "[[Fit Statistics]]\n",
      "    # fitting method   = COBYLA\n",
      "    # function evals   = 20\n",
      "    # data points      = 1\n",
      "    # variables        = 1\n",
      "    chi-square         = 2.0738e-10\n",
      "    reduced chi-square = 2.0738e-10\n",
      "    Akaike info crit   = -20.2964854\n",
      "    Bayesian info crit = -22.2964854\n",
      "##  Warning: uncertainties could not be estimated:\n",
      "    this fitting method does not natively calculate uncertainties\n",
      "    and numdifftools is not installed for lmfit to do this. Use\n",
      "    `pip install numdifftools` for lmfit to estimate uncertainties\n",
      "    with this fitting method.\n",
      "[[Variables]]\n",
      "    wear_coefficient:  4.8073e-10 (init = 1e-06)\n"
     ]
    }
   ],
   "execution_count": 14
  },
  {
   "metadata": {
    "ExecuteTime": {
     "end_time": "2025-06-18T23:07:58.679585Z",
     "start_time": "2025-06-18T23:07:58.677771Z"
    }
   },
   "cell_type": "code",
   "source": "print(fit_report(result_linear_function_cobyla))",
   "id": "2d626f9fa45bfbba",
   "outputs": [
    {
     "name": "stdout",
     "output_type": "stream",
     "text": [
      "[[Fit Statistics]]\n",
      "    # fitting method   = COBYLA\n",
      "    # function evals   = 29\n",
      "    # data points      = 1\n",
      "    # variables        = 2\n",
      "    chi-square         = 2.4379e-10\n",
      "    reduced chi-square = 2.4379e-10\n",
      "    Akaike info crit   = -18.1347125\n",
      "    Bayesian info crit = -22.1347125\n",
      "##  Warning: uncertainties could not be estimated:\n",
      "    this fitting method does not natively calculate uncertainties\n",
      "    and numdifftools is not installed for lmfit to do this. Use\n",
      "    `pip install numdifftools` for lmfit to estimate uncertainties\n",
      "    with this fitting method.\n",
      "[[Variables]]\n",
      "    base_wear_coefficient:       1.0034e-10 (init = 1e-06)\n",
      "    roll_gap_ratio_coefficient:  2.5243e-10 (init = 1e-06)\n"
     ]
    }
   ],
   "execution_count": 15
  },
  {
   "metadata": {
    "ExecuteTime": {
     "end_time": "2025-06-18T23:08:23.834050Z",
     "start_time": "2025-06-18T23:08:23.832022Z"
    }
   },
   "cell_type": "code",
   "source": "print(fit_report(result_cubic_function_cobyla))",
   "id": "acfcf5eda5b35c3a",
   "outputs": [
    {
     "name": "stdout",
     "output_type": "stream",
     "text": [
      "[[Fit Statistics]]\n",
      "    # fitting method   = COBYLA\n",
      "    # function evals   = 44\n",
      "    # data points      = 1\n",
      "    # variables        = 3\n",
      "    chi-square         = 5.7343e-10\n",
      "    reduced chi-square = 5.7343e-10\n",
      "    Akaike info crit   = -15.2793780\n",
      "    Bayesian info crit = -21.2793780\n",
      "##  Warning: uncertainties could not be estimated:\n",
      "    this fitting method does not natively calculate uncertainties\n",
      "    and numdifftools is not installed for lmfit to do this. Use\n",
      "    `pip install numdifftools` for lmfit to estimate uncertainties\n",
      "    with this fitting method.\n",
      "[[Variables]]\n",
      "    base_wear_coefficient:       2.8960e-10 (init = 1e-06)\n",
      "    roll_gap_ratio_coefficient:  4.0208e-10 (init = 1e-06)\n",
      "    speed_ratio_coefficient:     9.5768e-06 (init = 1e-06)\n"
     ]
    }
   ],
   "execution_count": 16
  },
  {
   "metadata": {
    "ExecuteTime": {
     "end_time": "2025-06-18T23:08:58.486245Z",
     "start_time": "2025-06-18T23:08:48.964354Z"
    }
   },
   "cell_type": "code",
   "source": [
    "params_4_pass_block_cobyla = Parameters()\n",
    "params_4_pass_block_cobyla.add('wear_coefficient', value=1e-6, min=1e-10, max=1e-1, vary=True)\n",
    "\n",
    "params_6_pass_block_cobyla = Parameters()\n",
    "params_6_pass_block_cobyla.add('wear_coefficient', value=1e-6, min=1e-10, max=1e-1, vary=True)\n",
    "\n",
    "params_csb_block_cobyla = Parameters()\n",
    "params_csb_block_cobyla.add('wear_coefficient', value=1e-6, min=1e-10, max=1e-1, vary=True)\n",
    "\n",
    "\n",
    "result_4_pass_block_cobyla = minimize(\n",
    "    solve_total_wear_depths_as_contour_line_4_pass_block,\n",
    "    params_4_pass_block_cobyla,\n",
    "    nan_policy='omit',\n",
    "    max_nfev=100,\n",
    "    method=\"cobyla\"\n",
    ")\n",
    "\n",
    "result_6_pass_block_cobyla = minimize(\n",
    "    solve_total_wear_depths_as_contour_line_6_pass_block,\n",
    "    params_6_pass_block_cobyla,\n",
    "    nan_policy='omit',\n",
    "    max_nfev=100,\n",
    "    method=\"cobyla\"\n",
    ")\n",
    "\n",
    "result_csb_block_cobyla = minimize(\n",
    "    solve_total_wear_depths_as_contour_line_csb_block,\n",
    "    params_csb_block_cobyla,\n",
    "    nan_policy='omit',\n",
    "    max_nfev=100,\n",
    "    method=\"cobyla\"\n",
    ")"
   ],
   "id": "4231952047f2f60e",
   "outputs": [],
   "execution_count": 17
  },
  {
   "metadata": {
    "ExecuteTime": {
     "end_time": "2025-06-18T23:09:23.449184Z",
     "start_time": "2025-06-18T23:09:23.447417Z"
    }
   },
   "cell_type": "code",
   "source": "print(fit_report(result_4_pass_block_cobyla))",
   "id": "3b0ec46e61f08a71",
   "outputs": [
    {
     "name": "stdout",
     "output_type": "stream",
     "text": [
      "[[Fit Statistics]]\n",
      "    # fitting method   = COBYLA\n",
      "    # function evals   = 20\n",
      "    # data points      = 1\n",
      "    # variables        = 1\n",
      "    chi-square         = 4.3085e-10\n",
      "    reduced chi-square = 4.3085e-10\n",
      "    Akaike info crit   = -19.5652705\n",
      "    Bayesian info crit = -21.5652705\n",
      "##  Warning: uncertainties could not be estimated:\n",
      "    this fitting method does not natively calculate uncertainties\n",
      "    and numdifftools is not installed for lmfit to do this. Use\n",
      "    `pip install numdifftools` for lmfit to estimate uncertainties\n",
      "    with this fitting method.\n",
      "[[Variables]]\n",
      "    wear_coefficient:  4.8073e-10 (init = 1e-06)\n"
     ]
    }
   ],
   "execution_count": 18
  },
  {
   "metadata": {
    "ExecuteTime": {
     "end_time": "2025-06-18T23:09:48.321652Z",
     "start_time": "2025-06-18T23:09:48.320052Z"
    }
   },
   "cell_type": "code",
   "source": "print(fit_report(result_6_pass_block_cobyla))",
   "id": "b938fc526dd23fc",
   "outputs": [
    {
     "name": "stdout",
     "output_type": "stream",
     "text": [
      "[[Fit Statistics]]\n",
      "    # fitting method   = COBYLA\n",
      "    # function evals   = 20\n",
      "    # data points      = 1\n",
      "    # variables        = 1\n",
      "    chi-square         = 1.8180e-10\n",
      "    reduced chi-square = 1.8180e-10\n",
      "    Akaike info crit   = -20.4280943\n",
      "    Bayesian info crit = -22.4280943\n",
      "##  Warning: uncertainties could not be estimated:\n",
      "    this fitting method does not natively calculate uncertainties\n",
      "    and numdifftools is not installed for lmfit to do this. Use\n",
      "    `pip install numdifftools` for lmfit to estimate uncertainties\n",
      "    with this fitting method.\n",
      "[[Variables]]\n",
      "    wear_coefficient:  4.8073e-10 (init = 1e-06)\n"
     ]
    }
   ],
   "execution_count": 19
  },
  {
   "metadata": {
    "ExecuteTime": {
     "end_time": "2025-06-19T05:10:31.746730Z",
     "start_time": "2025-06-19T05:10:31.744663Z"
    }
   },
   "cell_type": "code",
   "source": "print(fit_report(result_csb_block_cobyla))",
   "id": "792aa591f0b6e529",
   "outputs": [
    {
     "name": "stdout",
     "output_type": "stream",
     "text": [
      "[[Fit Statistics]]\n",
      "    # fitting method   = COBYLA\n",
      "    # function evals   = 20\n",
      "    # data points      = 1\n",
      "    # variables        = 1\n",
      "    chi-square         = 3.5053e-11\n",
      "    reduced chi-square = 3.5053e-11\n",
      "    Akaike info crit   = -22.0741699\n",
      "    Bayesian info crit = -24.0741699\n",
      "##  Warning: uncertainties could not be estimated:\n",
      "    this fitting method does not natively calculate uncertainties\n",
      "    and numdifftools is not installed for lmfit to do this. Use\n",
      "    `pip install numdifftools` for lmfit to estimate uncertainties\n",
      "    with this fitting method.\n",
      "[[Variables]]\n",
      "    wear_coefficient:  4.8073e-10 (init = 1e-06)\n"
     ]
    }
   ],
   "execution_count": 21
  },
  {
   "metadata": {},
   "cell_type": "code",
   "outputs": [],
   "execution_count": null,
   "source": "",
   "id": "9662c3d8df5ccb88"
  }
 ],
 "metadata": {
  "jupytext": {
   "formats": "ipynb,md"
  },
  "kernelspec": {
   "display_name": "Python 3 (ipykernel)",
   "language": "python",
   "name": "python3"
  },
  "language_info": {
   "codemirror_mode": {
    "name": "ipython",
    "version": 3
   },
   "file_extension": ".py",
   "mimetype": "text/x-python",
   "name": "python",
   "nbconvert_exporter": "python",
   "pygments_lexer": "ipython3",
   "version": "3.12.7"
  }
 },
 "nbformat": 4,
 "nbformat_minor": 5
}
