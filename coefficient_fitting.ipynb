{
 "cells": [
  {
   "metadata": {
    "ExecuteTime": {
     "end_time": "2025-06-18T21:56:03.823232Z",
     "start_time": "2025-06-18T21:56:03.325859Z"
    }
   },
   "cell_type": "code",
   "source": [
    "from lmfit import Parameters\n",
    "from lmfit import minimize, fit_report"
   ],
   "id": "23a9b33121736c1b",
   "outputs": [],
   "execution_count": 1
  },
  {
   "metadata": {
    "ExecuteTime": {
     "end_time": "2025-06-18T21:56:04.109922Z",
     "start_time": "2025-06-18T21:56:03.907549Z"
    }
   },
   "cell_type": "code",
   "source": [
    "import pyroll.core as pr\n",
    "import pyroll.pillar_model\n",
    "import pyroll.neutral_point_estimator\n",
    "import pyroll.sparling_spreading\n",
    "import pyroll.hensel_force_torque\n",
    "import pyroll.freiberg_flow_stress\n",
    "import pyroll.ring_model_thermal"
   ],
   "id": "c2430fe7953713d9",
   "outputs": [],
   "execution_count": 2
  },
  {
   "metadata": {
    "ExecuteTime": {
     "end_time": "2025-06-18T21:56:04.136974Z",
     "start_time": "2025-06-18T21:56:04.117818Z"
    }
   },
   "cell_type": "code",
   "source": [
    "from in_profile import create_in_profile_from_surface_temperature\n",
    "from rolling_sequence import rolling_train_rpd1, rolling_train_rpd2, rolling_train_rpd3\n",
    "from utilities import *"
   ],
   "id": "d8df741abd82231b",
   "outputs": [],
   "execution_count": 3
  },
  {
   "metadata": {
    "ExecuteTime": {
     "end_time": "2025-06-18T21:56:04.171147Z",
     "start_time": "2025-06-18T21:56:04.168973Z"
    }
   },
   "cell_type": "code",
   "source": [
    "pyroll.pillar_model.Config.PILLAR_COUNT = 30\n",
    "pyroll.neutral_point_estimator.Config.ESTIMATOR = \"EQUAL\"\n",
    "ROLL_SURFACE_TEMPERATURE = 50 + 273.15\n",
    "DISK_ELEMENT_COUNT = 30"
   ],
   "id": "882e05f0ff0e3b05",
   "outputs": [],
   "execution_count": 4
  },
  {
   "metadata": {
    "ExecuteTime": {
     "end_time": "2025-06-18T21:56:04.219649Z",
     "start_time": "2025-06-18T21:56:04.217881Z"
    }
   },
   "cell_type": "code",
   "source": [
    "@pr.CoolingPipe.DiskElement.heat_transfer_coefficient\n",
    "def heat_transfer_coefficient_model_moreales(self: pr.CoolingPipe.DiskElement):\n",
    "    mean_surface_temperature = (self.in_profile.surface_temperature + self.out_profile.surface_temperature) / 2\n",
    "    profile_surface_temperature_celsius = mean_surface_temperature - 273.15\n",
    "    return 13950 + 5.12 * 1e6 / profile_surface_temperature_celsius"
   ],
   "id": "bec0683651946559",
   "outputs": [],
   "execution_count": 5
  },
  {
   "metadata": {
    "ExecuteTime": {
     "end_time": "2025-06-18T21:56:04.270790Z",
     "start_time": "2025-06-18T21:56:04.268433Z"
    }
   },
   "cell_type": "code",
   "source": [
    "in_profile = create_in_profile_from_surface_temperature(1050 + 273.15)\n",
    "in_profile.ring_temperatures = in_profile.ring_temperatures"
   ],
   "id": "ac729b2907c199de",
   "outputs": [],
   "execution_count": 6
  },
  {
   "metadata": {
    "ExecuteTime": {
     "end_time": "2025-06-18T21:56:04.340187Z",
     "start_time": "2025-06-18T21:56:04.317510Z"
    }
   },
   "cell_type": "code",
   "source": [
    "rolling_train_rpd1 = rolling_train_rpd1(ROLL_SURFACE_TEMPERATURE, DISK_ELEMENT_COUNT)\n",
    "rolling_train_rpd2 = rolling_train_rpd2(ROLL_SURFACE_TEMPERATURE, DISK_ELEMENT_COUNT)\n",
    "rolling_train_rpd3 = rolling_train_rpd3(ROLL_SURFACE_TEMPERATURE, DISK_ELEMENT_COUNT)"
   ],
   "id": "fe09575a3ae4613a",
   "outputs": [],
   "execution_count": 7
  },
  {
   "metadata": {
    "ExecuteTime": {
     "start_time": "2025-06-18T21:56:04.421254Z"
    }
   },
   "cell_type": "code",
   "source": [
    "rolling_train_rpd1.solve(in_profile)\n",
    "rolling_train_rpd2.solve(in_profile)\n",
    "rolling_train_rpd3.solve(in_profile)"
   ],
   "id": "8a7d60a04ab6af07",
   "outputs": [
    {
     "name": "stderr",
     "output_type": "stream",
     "text": [
      "Solution iteration of TwoRollPass '3' exceeded the maximum iteration count of 100. Continuing anyway.\n",
      "Solution iteration of TwoRollPass '7' exceeded the maximum iteration count of 100. Continuing anyway.\n",
      "Solution iteration of TwoRollPass '8' exceeded the maximum iteration count of 100. Continuing anyway.\n"
     ]
    }
   ],
   "execution_count": null
  },
  {
   "metadata": {},
   "cell_type": "code",
   "outputs": [],
   "execution_count": null,
   "source": [
    "sequences = [\n",
    "        {\n",
    "            \"label\": \"RPD1\",\n",
    "            \"sequence\": rolling_train_rpd1\n",
    "        },\n",
    "        {\n",
    "            \"label\": \"RPD2\",\n",
    "            \"sequence\": rolling_train_rpd2\n",
    "        },\n",
    "        {\n",
    "            \"label\": \"RPD3\",\n",
    "            \"sequence\": rolling_train_rpd3\n",
    "        }\n",
    "    ]"
   ],
   "id": "53e01b9700dccdfb"
  },
  {
   "metadata": {},
   "cell_type": "code",
   "source": [
    "def solve_total_wear_depths_as_contour_line(params):\n",
    "    area_errors = []\n",
    "\n",
    "    for entry in sequences:\n",
    "        groove_label = entry[\"label\"]\n",
    "        sequence = entry[\"sequence\"]\n",
    "        roll_passes = sequence.roll_passes\n",
    "        measurements = extract_wear_contours_from_measurement(groove_label)\n",
    "\n",
    "        for measurement_id, labels, tonnages, measured_wear_contours in measurements:\n",
    "            for roll_pass in roll_passes:\n",
    "                for label, tonnage, measured_wear_contour in zip(labels, tonnages, measured_wear_contours):\n",
    "                    if roll_pass.label == label:\n",
    "\n",
    "                        wear_coefficient = get_wear_coefficient(roll_pass, params)\n",
    "                        calculated_wear_contour = calculate_wear_contour(roll_pass, wear_coefficient, tonnage * 1000)\n",
    "                        area_error = calculate_area_between_contours(calculated_wear_contour, measured_wear_contour)\n",
    "                        area_errors.append(area_error)\n",
    "                    else:\n",
    "                        continue\n",
    "    rms_error = root_mean_square_value(np.array(area_errors))\n",
    "    return rms_error\n"
   ],
   "id": "22e82b3857c95d90",
   "outputs": [],
   "execution_count": null
  },
  {
   "metadata": {},
   "cell_type": "code",
   "source": [
    "def solve_total_wear_depths_as_contour_line_4_pass_block(params):\n",
    "    area_errors = []\n",
    "\n",
    "    for entry in sequences:\n",
    "        groove_label = entry[\"label\"]\n",
    "        sequence = entry[\"sequence\"]\n",
    "        roll_passes = sequence.roll_passes\n",
    "        measurements = extract_wear_contours_from_measurement(groove_label)\n",
    "\n",
    "        for measurement_id, labels, tonnages, measured_wear_contours in measurements:\n",
    "            for roll_pass in roll_passes:\n",
    "                for label, tonnage, measured_wear_contour in zip(labels, tonnages, measured_wear_contours):\n",
    "                    if roll_pass.label == label and label in [\"17-H\", \"18-V\"]:\n",
    "\n",
    "                        wear_coefficient = get_wear_coefficient(roll_pass, params)\n",
    "                        calculated_wear_contour = calculate_wear_contour(roll_pass, wear_coefficient, tonnage * 1000)\n",
    "                        area_error = calculate_area_between_contours(calculated_wear_contour, measured_wear_contour)\n",
    "                        area_errors.append(area_error)\n",
    "                    else:\n",
    "                        continue\n",
    "    rms_error = root_mean_square_value(np.array(area_errors))\n",
    "    return rms_error\n",
    "\n",
    "\n",
    "def solve_total_wear_depths_as_contour_line_6_pass_block(params):\n",
    "    area_errors = []\n",
    "\n",
    "    for entry in sequences:\n",
    "        groove_label = entry[\"label\"]\n",
    "        sequence = entry[\"sequence\"]\n",
    "        roll_passes = sequence.roll_passes\n",
    "        measurements = extract_wear_contours_from_measurement(groove_label)\n",
    "\n",
    "        for measurement_id, labels, tonnages, measured_wear_contours in measurements:\n",
    "            for roll_pass in roll_passes:\n",
    "                for label, tonnage, measured_wear_contour in zip(labels, tonnages, measured_wear_contours):\n",
    "                    if roll_pass.label == label and label in [\"21-H\", \"22-V\", \"23-H\", \"24-V\"]:\n",
    "\n",
    "                        wear_coefficient = get_wear_coefficient(roll_pass, params)\n",
    "                        calculated_wear_contour = calculate_wear_contour(roll_pass, wear_coefficient, tonnage * 1000)\n",
    "                        area_error = calculate_area_between_contours(calculated_wear_contour, measured_wear_contour)\n",
    "                        area_errors.append(area_error)\n",
    "                    else:\n",
    "                        continue\n",
    "    rms_error = root_mean_square_value(np.array(area_errors))\n",
    "    return rms_error\n",
    "\n",
    "\n",
    "def solve_total_wear_depths_as_contour_line_csb_block(params):\n",
    "    area_errors = []\n",
    "\n",
    "    for entry in sequences:\n",
    "        groove_label = entry[\"label\"]\n",
    "        sequence = entry[\"sequence\"]\n",
    "        roll_passes = sequence.roll_passes\n",
    "        measurements = extract_wear_contours_from_measurement(groove_label)\n",
    "\n",
    "        for measurement_id, labels, tonnages, measured_wear_contours in measurements:\n",
    "            for roll_pass in roll_passes:\n",
    "                for label, tonnage, measured_wear_contour in zip(labels, tonnages, measured_wear_contours):\n",
    "                    if roll_pass.label == label and label in [\"27-H\", \"28-V\"]:\n",
    "\n",
    "                        wear_coefficient = get_wear_coefficient(roll_pass, params)\n",
    "                        calculated_wear_contour = calculate_wear_contour(roll_pass, wear_coefficient, tonnage * 1000)\n",
    "                        area_error = calculate_area_between_contours(calculated_wear_contour, measured_wear_contour)\n",
    "                        area_errors.append(area_error)\n",
    "                    else:\n",
    "                        continue\n",
    "    rms_error = root_mean_square_value(np.array(area_errors))\n",
    "    return rms_error"
   ],
   "id": "d6bde75d614a3235",
   "outputs": [],
   "execution_count": null
  },
  {
   "metadata": {},
   "cell_type": "code",
   "source": [
    "params_constant_cobyla = Parameters()\n",
    "params_constant_cobyla.add('wear_coefficient', value=1e-6, min=1e-10, max=1e-1, vary=True)\n",
    "\n",
    "params_linear_function_cobyla = Parameters()\n",
    "params_linear_function_cobyla.add('base_wear_coefficient', value=1e-6, min=1e-10, max=1e-1, vary=True)\n",
    "params_linear_function_cobyla.add('roll_gap_ratio_coefficient', value=1e-6, min=1e-10, max=1e-1, vary=True)\n",
    "\n",
    "params_cubic_function_cobyla = Parameters()\n",
    "params_cubic_function_cobyla.add('base_wear_coefficient', value=1e-6, min=1e-10, max=1e-1, vary=True)\n",
    "params_cubic_function_cobyla.add('roll_gap_ratio_coefficient', value=1e-6, min=1e-10, max=1e-1, vary=True)\n",
    "params_cubic_function_cobyla.add('speed_ratio_coefficient', value=1e-6, min=1e-10, max=1e-1, vary=True)"
   ],
   "id": "6a0b6f2d8a3c457",
   "outputs": [],
   "execution_count": null
  },
  {
   "metadata": {},
   "cell_type": "code",
   "source": [
    "result_constant_cobyla = minimize(\n",
    "    solve_total_wear_depths_as_contour_line,\n",
    "    params_constant_cobyla,\n",
    "    nan_policy='omit',\n",
    "    max_nfev=100,\n",
    "    method=\"cobyla\"\n",
    ")\n",
    "\n",
    "result_linear_function_cobyla = minimize(\n",
    "    solve_total_wear_depths_as_contour_line,\n",
    "    params_linear_function_cobyla,\n",
    "    nan_policy='omit',\n",
    "    max_nfev=100,\n",
    "    method=\"cobyla\"\n",
    ")\n",
    "\n",
    "result_cubic_function_cobyla = minimize(\n",
    "    solve_total_wear_depths_as_contour_line,\n",
    "    params_cubic_function_cobyla,\n",
    "    nan_policy='omit',\n",
    "    max_nfev=100,\n",
    "    method=\"cobyla\"\n",
    ")"
   ],
   "id": "ea78e32cea3cb9fc",
   "outputs": [],
   "execution_count": null
  },
  {
   "metadata": {},
   "cell_type": "code",
   "source": "print(fit_report(result_constant_cobyla))",
   "id": "7e9eb68026d8a668",
   "outputs": [],
   "execution_count": null
  },
  {
   "metadata": {},
   "cell_type": "code",
   "source": "print(fit_report(result_linear_function_cobyla))",
   "id": "2d626f9fa45bfbba",
   "outputs": [],
   "execution_count": null
  },
  {
   "metadata": {},
   "cell_type": "code",
   "source": "print(fit_report(result_cubic_function_cobyla))",
   "id": "acfcf5eda5b35c3a",
   "outputs": [],
   "execution_count": null
  },
  {
   "metadata": {},
   "cell_type": "code",
   "source": [
    "params_4_pass_block_cobyla = Parameters()\n",
    "params_4_pass_block_cobyla.add('wear_coefficient', value=1e-6, min=1e-10, max=1e-1, vary=True)\n",
    "\n",
    "params_6_pass_block_cobyla = Parameters()\n",
    "params_6_pass_block_cobyla.add('wear_coefficient', value=1e-6, min=1e-10, max=1e-1, vary=True)\n",
    "\n",
    "params_csb_block_cobyla = Parameters()\n",
    "params_csb_block_cobyla.add('wear_coefficient', value=1e-6, min=1e-10, max=1e-1, vary=True)\n",
    "\n",
    "\n",
    "result_4_pass_block_cobyla = minimize(\n",
    "    solve_total_wear_depths_as_contour_line_4_pass_block,\n",
    "    params_4_pass_block_cobyla,\n",
    "    nan_policy='omit',\n",
    "    max_nfev=100,\n",
    "    method=\"cobyla\"\n",
    ")\n",
    "\n",
    "result_6_pass_block_cobyla = minimize(\n",
    "    solve_total_wear_depths_as_contour_line_6_pass_block,\n",
    "    params_6_pass_block_cobyla,\n",
    "    nan_policy='omit',\n",
    "    max_nfev=100,\n",
    "    method=\"cobyla\"\n",
    ")\n",
    "\n",
    "result_csb_block_cobyla = minimize(\n",
    "    solve_total_wear_depths_as_contour_line_csb_block,\n",
    "    params_csb_block_cobyla,\n",
    "    nan_policy='omit',\n",
    "    max_nfev=100,\n",
    "    method=\"cobyla\"\n",
    ")"
   ],
   "id": "4231952047f2f60e",
   "outputs": [],
   "execution_count": null
  },
  {
   "metadata": {},
   "cell_type": "code",
   "source": "print(fit_report(result_4_pass_block_cobyla))",
   "id": "3b0ec46e61f08a71",
   "outputs": [],
   "execution_count": null
  },
  {
   "metadata": {},
   "cell_type": "code",
   "source": "print(fit_report(result_6_pass_block_cobyla))",
   "id": "b938fc526dd23fc",
   "outputs": [],
   "execution_count": null
  },
  {
   "metadata": {},
   "cell_type": "code",
   "source": "print(fit_report(result_csb_block_cobyla))",
   "id": "792aa591f0b6e529",
   "outputs": [],
   "execution_count": null
  }
 ],
 "metadata": {
  "jupytext": {
   "formats": "ipynb,md"
  },
  "kernelspec": {
   "display_name": "Python 3 (ipykernel)",
   "language": "python",
   "name": "python3"
  },
  "language_info": {
   "codemirror_mode": {
    "name": "ipython",
    "version": 3
   },
   "file_extension": ".py",
   "mimetype": "text/x-python",
   "name": "python",
   "nbconvert_exporter": "python",
   "pygments_lexer": "ipython3",
   "version": "3.12.7"
  }
 },
 "nbformat": 4,
 "nbformat_minor": 5
}
