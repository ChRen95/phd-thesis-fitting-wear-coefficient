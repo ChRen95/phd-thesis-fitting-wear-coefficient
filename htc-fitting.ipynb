{
 "cells": [
  {
   "cell_type": "code",
   "execution_count": null,
   "id": "initial_id",
   "metadata": {
    "collapsed": true
   },
   "outputs": [],
   "source": [
    "import copy\n",
    "import numpy as np\n",
    "from lmfit import Parameters\n",
    "from lmfit import minimize, fit_report"
   ]
  },
  {
   "metadata": {},
   "cell_type": "code",
   "outputs": [],
   "execution_count": null,
   "source": [
    "import pyroll.core as pr\n",
    "import pyroll.ring_model_thermal\n",
    "from pyroll.freiberg_flow_stress import flow_stress"
   ],
   "id": "aede0dab5e9a5547"
  },
  {
   "metadata": {},
   "cell_type": "code",
   "outputs": [],
   "execution_count": null,
   "source": [
    "measured_temperature_pyr_1 = 956 + 273.15\n",
    "measured_temperatures_pyr_2 = np.array([833 + 273.15])\n",
    "root_mean_square_temperature = np.sqrt(np.mean(measured_temperatures_pyr_2 ** 2))"
   ],
   "id": "d42dc11ed689b793"
  },
  {
   "metadata": {},
   "cell_type": "code",
   "execution_count": null,
   "source": [
    "in_profile = pr.Profile.from_groove(\n",
    "    groove=pr.FalseRoundGroove(\n",
    "        depth=8.896e-3,\n",
    "        r1=2e-3,\n",
    "        r2=10.9e-3,\n",
    "        flank_angle=57.5\n",
    "    ),\n",
    "    material = [\"BST500\", \"steel\"],\n",
    "    strain=0,\n",
    "    temperature=measured_temperature_pyr_1,\n",
    "    gap=4.6e-3,\n",
    "    filling=1,\n",
    "    velocity=7\n",
    ")\n",
    "\n",
    "\n",
    "density = pd.read_csv(filepath / \"in_profile\" / \"bst500_density.csv\").density\n",
    "density_temperature = pd.read_csv(filepath / \"in_profile\" / \"bst500_density.csv\").kelvin_temperature\n",
    "specific_heat_capacity_real = pd.read_csv(\n",
    "    filepath / \"in_profile\" / \"bst500_specific_heat_capacity_real_measurement.csv\").specific_heat_capacity * 1000\n",
    "specific_heat_capacity_temperature_real = pd.read_csv(\n",
    "    filepath / \"in_profile\" / \"bst500_specific_heat_capacity_real_measurement.csv\").celsius_temperature + 273.15\n",
    "specific_heat_capacity = pd.read_csv(\n",
    "    filepath / \"in_profile\" / \"bst500_specific_heat_capacity.csv\").specific_heat_capacity * 1000\n",
    "specific_heat_capacity_temperature = pd.read_csv(\n",
    "    filepath / \"in_profile\" / \"bst500_specific_heat_capacity.csv\").celsius_temperature + 273.15\n",
    "thermal_conductivity = pd.read_csv(filepath / \"in_profile\" / \"bst500_thermal_conductivity.csv\").thermal_conductivity\n",
    "thermal_conductivity_temperature = pd.read_csv(\n",
    "    filepath / \"in_profile\" / \"bst500_thermal_conductivity.csv\").celsius_temperature + 273.15\n",
    "\n",
    "density_function = interp1d(density_temperature, density)\n",
    "specific_heat_capacity_function = interp1d(specific_heat_capacity_temperature, specific_heat_capacity)\n",
    "thermal_conductivity_function = interp1d(thermal_conductivity_temperature, thermal_conductivity)\n",
    "\n",
    "\n",
    "@pr.Profile.density\n",
    "def density(self: pr.Profile):\n",
    "    return density_function(self.temperature)\n",
    "\n",
    "\n",
    "@pr.Profile.specific_heat_capacity\n",
    "def specific_heat_capacity(self: pr.Profile):\n",
    "    return specific_heat_capacity_function(self.temperature)\n",
    "\n",
    "\n",
    "@pr.Profile.thermal_conductivity\n",
    "def thermal_conductivity(self: pr.Profile):\n",
    "    return thermal_conductivity_function(self.temperature)"
   ],
   "id": "1633f3b54e302b30",
   "outputs": []
  },
  {
   "metadata": {},
   "cell_type": "code",
   "outputs": [],
   "execution_count": null,
   "source": [
    "sequence = pr.PassSequence([])\n",
    "\n",
    "\n",
    "def solve_sequence_for_errors(params):\n",
    "    def htc_wehage(params, surface_temperature, velocity_ratio, diameter_ratio):\n",
    "        c1 = params[\"c1\"].value\n",
    "        c2 = params[\"c2\"].value\n",
    "        c3 = params[\"c3\"].value\n",
    "        c4 = params[\"c4\"].value\n",
    "        c5 = params[\"c5\"].value\n",
    "        c6 = params[\"c6\"].value\n",
    "        c7 = params[\"c7\"].value\n",
    "\n",
    "        htc_surface_temperature = c1 + c2 * 1e6 / surface_temperature\n",
    "        htc_velocities = c3 * velocity_ratio ** c4\n",
    "        htc_water_volume_flux = c5 * volume_flux ** c6 * diameter_ratio ** c7\n",
    "\n",
    "        return htc_surface_temperature * htc_velocities * htc_water_volume_flux\n",
    "\n",
    "    copied_sequence = copy.deepcopy(sequence)\n",
    "    copied_in_profile = copy.deepcopy(in_profile)\n",
    "\n",
    "    for cooling_pipe in copied_sequence.cooling_pipes:\n",
    "        velocity_ratio = 0\n",
    "        diameter_ratio = 0\n",
    "        for de in cooling_pipe.disk_elements:\n",
    "            mean_surface_temperature = (de.in_profile.surface_temperature + de.out_profile.surface_temperature )/ 2\n",
    "            cooling_pipe.heat_transfer_coefficient = htc_wehage(params, mean_surface_temperature, velocity_ratio, diameter_ratio)\n",
    "\n",
    "    copied_sequence.solve(copied_in_profile)\n",
    "\n",
    "    error = copied_sequence[-1].out_profile.surface_temperature - root_mean_square_temperature\n",
    "\n",
    "    return error\n"
   ],
   "id": "adbb46246c734738"
  },
  {
   "metadata": {},
   "cell_type": "code",
   "outputs": [],
   "execution_count": null,
   "source": [
    "params_wehage_model = Parameters()\n",
    "params_wehage_model.add('c1', value=1e-5, min=1e-20, max=1e-1, vary=True)\n",
    "params_wehage_model.add('c2', value=1e-5, min=1e-20, max=1e-1, vary=True)\n",
    "params_wehage_model.add('c3', value=1e-5, min=1e-20, max=1e-1, vary=True)\n",
    "params_wehage_model.add('c4', value=1e-5, min=1e-20, max=1e-1, vary=True)\n",
    "params_wehage_model.add('c5', value=1e-5, min=1e-20, max=1e-1, vary=True)\n",
    "params_wehage_model.add('c6', value=1e-5, min=1e-20, max=1e-1, vary=True)\n",
    "params_wehage_model.add('c7', value=1e-5, min=1e-20, max=1e-1, vary=True)"
   ],
   "id": "b501c105e9af2562"
  },
  {
   "metadata": {},
   "cell_type": "code",
   "outputs": [],
   "execution_count": null,
   "source": [
    "result_wehage_model_cobyla = minimize(\n",
    "    solve_sequence_for_errors,\n",
    "    params_wehage_model,\n",
    "    nan_policy='omit',\n",
    "    max_nfev=100,\n",
    "    method=\"cobyla\"\n",
    ")"
   ],
   "id": "2ac64e2675030b27"
  },
  {
   "metadata": {},
   "cell_type": "code",
   "outputs": [],
   "execution_count": null,
   "source": "print(fit_report(result_wehage_model_cobyla))",
   "id": "552d51d62167945a"
  }
 ],
 "metadata": {
  "kernelspec": {
   "display_name": "Python 3",
   "language": "python",
   "name": "python3"
  },
  "language_info": {
   "codemirror_mode": {
    "name": "ipython",
    "version": 2
   },
   "file_extension": ".py",
   "mimetype": "text/x-python",
   "name": "python",
   "nbconvert_exporter": "python",
   "pygments_lexer": "ipython2",
   "version": "2.7.6"
  }
 },
 "nbformat": 4,
 "nbformat_minor": 5
}
