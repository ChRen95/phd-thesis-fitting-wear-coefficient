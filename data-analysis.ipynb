{
 "cells": [
  {
   "cell_type": "code",
   "id": "initial_id",
   "metadata": {
    "collapsed": true
   },
   "source": [
    "import numpy as np\n",
    "import pandas as pd\n",
    "import matplotlib.pyplot as plt\n",
    "from collections import defaultdict\n",
    "from pathlib import Path"
   ],
   "outputs": [],
   "execution_count": null
  },
  {
   "metadata": {},
   "cell_type": "code",
   "source": [
    "ROLL_SURFACE_TEMPERATURE = 50 + 273.15\n",
    "DISK_ELEMENT_COUNT = 30"
   ],
   "id": "cc4ca06df88db692",
   "outputs": [],
   "execution_count": null
  },
  {
   "metadata": {},
   "cell_type": "code",
   "source": [
    "root_dir = Path.cwd()\n",
    "result_dir = root_dir / \"res\""
   ],
   "id": "7bd16d1f558d9ba9",
   "outputs": [],
   "execution_count": null
  },
  {
   "metadata": {},
   "cell_type": "code",
   "source": [
    "from rolling_sequence import finishing_pass_design_1, finishing_pass_design_2, finishing_pass_design_3, \\\n",
    "    finishing_pass_design_4\n",
    "from utilities import *"
   ],
   "id": "d6c8efc96bac9b53",
   "outputs": [],
   "execution_count": null
  },
  {
   "metadata": {},
   "cell_type": "code",
   "source": [
    "pass_design_1 = finishing_pass_design_1(ROLL_SURFACE_TEMPERATURE, DISK_ELEMENT_COUNT)\n",
    "pass_design_2 = finishing_pass_design_2(ROLL_SURFACE_TEMPERATURE, DISK_ELEMENT_COUNT)\n",
    "pass_design_3 = finishing_pass_design_3(ROLL_SURFACE_TEMPERATURE, DISK_ELEMENT_COUNT)\n",
    "pass_design_4 = finishing_pass_design_4(ROLL_SURFACE_TEMPERATURE, DISK_ELEMENT_COUNT)"
   ],
   "id": "e3b298a23f0caaa0",
   "outputs": [],
   "execution_count": null
  },
  {
   "metadata": {},
   "cell_type": "code",
   "source": [
    "def calculate_wear_areas():\n",
    "    sequences = [\n",
    "        {\"label\": \"RPD1\", \"sequence\": pass_design_1},\n",
    "        {\"label\": \"RPD2\", \"sequence\": pass_design_2},\n",
    "        {\"label\": \"RPD3\", \"sequence\": pass_design_3},\n",
    "        #{\"label\": \"RPD4\", \"sequence\": pass_design_3}\n",
    "    ]\n",
    "\n",
    "    wear_areas = []\n",
    "\n",
    "    for entry in sequences:\n",
    "        groove_label = entry[\"label\"]\n",
    "        sequence = entry[\"sequence\"]\n",
    "        roll_passes = sequence.roll_passes\n",
    "        measurements = extract_wear_contours_from_measurement(groove_label)\n",
    "\n",
    "        for measurement_id, labels, tonnages, measured_wear_contours in measurements:\n",
    "            for roll_pass in roll_passes:\n",
    "                for label, tonnage, measured_wear_contour in zip(labels, tonnages, measured_wear_contours):\n",
    "                    if roll_pass.label == label:\n",
    "                        wear_area = calculate_area_between_contours(roll_pass.roll.contour_line, measured_wear_contour)\n",
    "                        normed_wear_area = wear_area / roll_pass.roll.groove.cross_section.area\n",
    "                        wear_areas.append({\n",
    "                            \"groove\": groove_label,\n",
    "                            \"measurement_id\": measurement_id,\n",
    "                            \"label\": label,\n",
    "                            \"tonnage\": tonnage,\n",
    "                            \"wear_area\": wear_area,\n",
    "                            \"normed_wear_area\": normed_wear_area\n",
    "                        })\n",
    "\n",
    "    return wear_areas"
   ],
   "id": "99622f7f304f4f93",
   "outputs": [],
   "execution_count": null
  },
  {
   "metadata": {},
   "cell_type": "code",
   "source": "wear_areas = calculate_wear_areas()",
   "id": "14a3761f9efa3144",
   "outputs": [],
   "execution_count": null
  },
  {
   "metadata": {},
   "cell_type": "code",
   "source": [
    "label_colors = {}\n",
    "color_cycle = plt.rcParams['axes.prop_cycle'].by_key()['color']\n",
    "for i, label in enumerate(sorted(set(d['label'] for d in wear_areas))):\n",
    "    label_colors[label] = color_cycle[i % len(color_cycle)]\n",
    "\n",
    "fig: plt.Figure = plt.figure(figsize=(12.8, 6), layout=\"constrained\")\n",
    "ax: plt.Axes\n",
    "axl: plt.Axes\n",
    "ax, axl = fig.subplots(nrows=2, height_ratios=[1, 0.05])\n",
    "ax.set_ylabel('Normed Wear Area')\n",
    "ax.grid()\n",
    "ax.set_xlabel('Tonnage [t]')\n",
    "for wear_dicts in wear_areas:\n",
    "    if wear_dicts['label'] in [\"17-H\", \"21-H\", \"23-H\", \"27-H\"]:\n",
    "         marker = '^'\n",
    "    else:\n",
    "        marker = 'o'\n",
    "    ax.scatter(wear_dicts['tonnage'], wear_dicts['normed_wear_area'], color=label_colors[wear_dicts['label']],\n",
    "               label=wear_dicts['label'], marker=marker)\n",
    "\n",
    "handles, labels = ax.get_legend_handles_labels()\n",
    "by_label = dict(zip(labels, handles))\n",
    "\n",
    "axl.axis(\"off\")\n",
    "axl.legend(by_label.values(), by_label.keys(), ncols=8, loc=\"lower center\")\n",
    "\n",
    "fig.savefig(result_dir / \"wear_area_measurements.pdf\",dpi=300, bbox_inches=\"tight\")"
   ],
   "id": "64fd74acd9164cb1",
   "outputs": [],
   "execution_count": null
  },
  {
   "metadata": {},
   "cell_type": "code",
   "source": [
    "label_colors = {}\n",
    "color_cycle = plt.rcParams['axes.prop_cycle'].by_key()['color']\n",
    "for i, label in enumerate(sorted(set(d['label'] for d in wear_areas))):\n",
    "    label_colors[label] = color_cycle[i % len(color_cycle)]\n",
    "\n",
    "fig, (ax1, ax2, ax3) = plt.subplots(1, 3, figsize=(14, 6), sharey=True)\n",
    "ax1.set_ylabel('Normed Wear Area')\n",
    "\n",
    "for wear_dicts in wear_areas:\n",
    "    if wear_dicts['groove'] == 'RPD1':\n",
    "        ax1.scatter(wear_dicts['tonnage'], wear_dicts['normed_wear_area'], color=label_colors[wear_dicts['label']],\n",
    "                    label=wear_dicts['label'])\n",
    "\n",
    "ax1.set_title('RPD1')\n",
    "ax1.set_xlabel('Tonnage [t]')\n",
    "ax1.grid()\n",
    "\n",
    "for wear_dicts in wear_areas:\n",
    "    if wear_dicts['groove'] == 'RPD2':\n",
    "        ax2.scatter(wear_dicts['tonnage'], wear_dicts['normed_wear_area'], color=label_colors[wear_dicts['label']],\n",
    "                    label=wear_dicts['label'])\n",
    "\n",
    "ax2.set_title('RPD2')\n",
    "ax2.set_xlabel('Tonnage [t]')\n",
    "ax2.grid()\n",
    "\n",
    "for wear_dicts in wear_areas:\n",
    "    if wear_dicts['groove'] == 'RPD3':\n",
    "        ax3.scatter(wear_dicts['tonnage'], wear_dicts['normed_wear_area'], color=label_colors[wear_dicts['label']],\n",
    "                    label=wear_dicts['label'])\n",
    "\n",
    "ax3.set_title('RPD3')\n",
    "ax3.set_xlabel('Tonnage [t]')\n",
    "ax3.grid()\n",
    "\n",
    "handles2, labels2 = ax1.get_legend_handles_labels()\n",
    "by_label2 = dict(zip(labels2, handles2))\n",
    "fig.legend(by_label2.values(), by_label2.keys(), bbox_to_anchor=(0.8, 0.01), ncol=8)\n",
    "\n",
    "plt.tight_layout()\n",
    "fig.savefig(result_dir / \"wear_area_measurements_per_rpd.pdf\",dpi=300, bbox_inches=\"tight\")"
   ],
   "id": "a81f0095fd482158",
   "outputs": [],
   "execution_count": null
  },
  {
   "metadata": {},
   "cell_type": "code",
   "source": [
    "values_rpd1 = []\n",
    "values_rpd2 = []\n",
    "values_rpd3 = []\n",
    "for wear_dicts in wear_areas:\n",
    "    if wear_dicts['groove'] == 'RPD1':\n",
    "        values_rpd1.append(wear_dicts)\n",
    "    if wear_dicts['groove'] == 'RPD2':\n",
    "        values_rpd2.append(wear_dicts)\n",
    "    if wear_dicts['groove'] == 'RPD3':\n",
    "        values_rpd3.append(wear_dicts)\n",
    "values = [values_rpd1, values_rpd2, values_rpd3]"
   ],
   "id": "86f4b409c35a326d",
   "outputs": [],
   "execution_count": null
  },
  {
   "metadata": {},
   "cell_type": "code",
   "source": [
    "label_colors = {}\n",
    "color_cycle = plt.rcParams['axes.prop_cycle'].by_key()['color']\n",
    "for i, label in enumerate(sorted(set(d['label'] for d in values_rpd1))):\n",
    "    label_colors[label] = color_cycle[i % len(color_cycle)]\n",
    "\n",
    "fig, ax = plt.subplots(figsize=(14, 6))\n",
    "for value in values:\n",
    "    for wear_dicts in value:\n",
    "        if wear_dicts['label'] in [\"17-H\", \"18-V\"]:\n",
    "            ax.scatter(wear_dicts['tonnage'], wear_dicts['normed_wear_area'], color='C0',  label=\"4-Pass-Block\")\n",
    "        elif wear_dicts['label'] in [\"21-H\", \"22-V\", \"23-H\", \"24-V\"]:\n",
    "            ax.scatter(wear_dicts['tonnage'], wear_dicts['normed_wear_area'], color='C1',  label=\"6-Pass-Block\")\n",
    "\n",
    "        elif wear_dicts['label'] in [\"27-H\", \"28-V\"]:\n",
    "            ax.scatter(wear_dicts['tonnage'], wear_dicts['normed_wear_area'], color='C2', label=\"CSB-Block\")\n",
    "\n",
    "    ax.set_xlabel('Tonnage [t]')\n",
    "    ax.set_ylabel('Normed Wear Area')\n",
    "    ax.grid()\n",
    "    handles, labels = ax.get_legend_handles_labels()\n",
    "    by_label = dict(zip(labels, handles))\n",
    "    fig.legend(by_label.values(), by_label.keys(), bbox_to_anchor=(0.7, 0.02), ncol=3)\n",
    "\n",
    "fig.savefig(result_dir / \"wear_area_measurements_per_block.pdf\",dpi=300, bbox_inches=\"tight\")"
   ],
   "id": "c3f70080c67fd635",
   "outputs": [],
   "execution_count": null
  },
  {
   "metadata": {},
   "cell_type": "code",
   "source": [
    "from sklearn import metrics\n",
    "from sklearn.cluster import KMeans\n",
    "from scipy.spatial.distance import cdist"
   ],
   "id": "a9e814c889d11fd3",
   "outputs": [],
   "execution_count": null
  },
  {
   "metadata": {},
   "cell_type": "code",
   "source": [
    "normed_wear_areas = []\n",
    "tonnages = []\n",
    "for wear_dicts in wear_areas:\n",
    "    normed_wear_areas.append(wear_dicts['normed_wear_area'])\n",
    "    tonnages.append(wear_dicts['tonnage'])\n",
    "normed_wear_areas_array = np.array(normed_wear_areas)\n",
    "tonnages_array = np.array(tonnages)\n",
    "\n",
    "data = np.array(list(zip(tonnages, normed_wear_areas, ))).reshape(len(tonnages), 2)"
   ],
   "id": "bd957b8a449ce52e",
   "outputs": [],
   "execution_count": null
  },
  {
   "metadata": {},
   "cell_type": "code",
   "source": [
    "distortions = []\n",
    "inertias = []\n",
    "mapping1 = {}\n",
    "mapping2 = {}\n",
    "K = range(1, 10)\n",
    "\n",
    "for k in K:\n",
    "    kmeanModel = KMeans(n_clusters=k, random_state=42).fit(data)\n",
    "\n",
    "    distortions.append(sum(np.min(cdist(data, kmeanModel.cluster_centers_, 'euclidean'), axis=1)**2) / data.shape[0])\n",
    "\n",
    "    inertias.append(kmeanModel.inertia_)\n",
    "\n",
    "    mapping1[k] = distortions[-1]\n",
    "    mapping2[k] = inertias[-1]"
   ],
   "id": "d0fc89de338b65a9",
   "outputs": [],
   "execution_count": null
  },
  {
   "metadata": {},
   "cell_type": "code",
   "source": [
    "print(\"Distortion values:\")\n",
    "for key, val in mapping1.items():\n",
    "    print(f'{key} : {val}')\n",
    "\n",
    "plt.plot(K, distortions, 'bx-')\n",
    "plt.xlabel('Number of Clusters (k)')\n",
    "plt.ylabel('Distortion')\n",
    "plt.title('The Elbow Method using Distortion')\n",
    "plt.show()"
   ],
   "id": "c94f480c35c20f05",
   "outputs": [],
   "execution_count": null
  },
  {
   "metadata": {},
   "cell_type": "code",
   "source": [
    "print(\"Inertia values:\")\n",
    "for key, val in mapping2.items():\n",
    "    print(f'{key} : {val}')\n",
    "\n",
    "plt.plot(K, inertias, 'bx-')\n",
    "plt.xlabel('Number of Clusters (k)')\n",
    "plt.ylabel('Inertia')\n",
    "plt.title('The Elbow Method using Inertia')\n",
    "plt.show()"
   ],
   "id": "acf794ebddd49015",
   "outputs": [],
   "execution_count": null
  },
  {
   "metadata": {},
   "cell_type": "code",
   "source": [
    "k_range = range(1, 5)\n",
    "\n",
    "for k in k_range:\n",
    "    kmeans = KMeans(n_clusters=k, init='k-means++', random_state=42)\n",
    "    y_kmeans = kmeans.fit_predict(data)\n",
    "\n",
    "    plt.scatter(data[:, 0], data[:, 1], c=y_kmeans, cmap='viridis', marker='o', edgecolor='k', s=100)\n",
    "    plt.scatter(kmeans.cluster_centers_[:, 0], kmeans.cluster_centers_[:, 1],\n",
    "                s=300, c='red', label='Centroids', edgecolor='k')\n",
    "    plt.title(f'K-means Clustering (k={k})')\n",
    "    plt.xlabel('Feature 1')\n",
    "    plt.ylabel('Feature 2')\n",
    "    plt.legend()\n",
    "    plt.grid()\n",
    "    plt.show()"
   ],
   "id": "587106ccad05b85",
   "outputs": [],
   "execution_count": null
  },
  {
   "metadata": {},
   "cell_type": "code",
   "source": "",
   "id": "60211dbf0e18ec04",
   "outputs": [],
   "execution_count": null
  }
 ],
 "metadata": {
  "kernelspec": {
   "display_name": "Python 3",
   "language": "python",
   "name": "python3"
  },
  "language_info": {
   "codemirror_mode": {
    "name": "ipython",
    "version": 2
   },
   "file_extension": ".py",
   "mimetype": "text/x-python",
   "name": "python",
   "nbconvert_exporter": "python",
   "pygments_lexer": "ipython2",
   "version": "2.7.6"
  }
 },
 "nbformat": 4,
 "nbformat_minor": 5
}
